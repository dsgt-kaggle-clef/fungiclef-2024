{
 "cells": [
  {
   "cell_type": "code",
   "execution_count": null,
   "metadata": {},
   "outputs": [],
   "source": [
    "import requests"
   ]
  },
  {
   "cell_type": "code",
   "execution_count": 7,
   "metadata": {},
   "outputs": [],
   "source": [
    "def download_file(url, destination):\n",
    "    \"\"\"\n",
    "    Download a file from a given URL and save it to a specified destination path.\n",
    "\n",
    "    :param url: URL of the file to download\n",
    "    :param destination: Path to save the downloaded file\n",
    "    \"\"\"\n",
    "    try:\n",
    "        # Send a GET request to the URL\n",
    "        response = requests.get(url, stream=True)\n",
    "        response.raise_for_status()  # Check for HTTP request errors\n",
    "\n",
    "        # Open a local file with write-binary mode\n",
    "        with open(destination, \"wb\") as file:\n",
    "            for chunk in response.iter_content(chunk_size=8192): \n",
    "                # Write the contents of the response (raw bytes) to a file\n",
    "                file.write(chunk)\n",
    "        print(f\"File downloaded successfully and saved to {destination}\")\n",
    "    except Exception as e:\n",
    "        print(f\"Error downloading the file: {e}\")"
   ]
  },
  {
   "cell_type": "code",
   "execution_count": 8,
   "metadata": {},
   "outputs": [],
   "source": [
    "# URL of the file to download\n",
    "file_url = \"http://ptak.felk.cvut.cz/plants/DanishFungiDataset/DF20-train_val.tar.gz\"\n",
    "\n",
    "# Destination path (make sure the directory exists or the script has permission to create it)\n",
    "destination_path = \"/mnt/data/DF20-train_val.tar.gz\"\n",
    "\n",
    "# Call the function to download the file\n",
    "download_file(file_url, destination_path)"
   ]
  },
  {
   "cell_type": "code",
   "execution_count": null,
   "metadata": {},
   "outputs": [],
   "source": [
    "# URL of the file to download\n",
    "file_urls = [\"http://ptak.felk.cvut.cz/plants/DanishFungiDataset/DF20-300px.tar.gz\",\n",
    "             \"http://ptak.felk.cvut.cz/plants/DanishFungiDataset/DF21.tar.gz\",\n",
    "             \"http://ptak.felk.cvut.cz/plants/DanishFungiDataset/DF21_300px.tar.gz\"\n",
    "             \"http://ptak.felk.cvut.cz/plants/DanishFungiDataset/FungiCLEF2023_train_metadata_PRODUCTION.csv\",\n",
    "             \"http://ptak.felk.cvut.cz/plants/DanishFungiDataset/FungiCLEF2023_val_metadata_PRODUCTION.csv\",\n",
    "             \"http://ptak.felk.cvut.cz/plants/DanishFungiDataset/FungiCLEF2023_public_test_metadata_PRODUCTION.csv\"\n",
    "]\n",
    "\n",
    "# Destination path (make sure the directory exists or the script has permission to create it)\n",
    "destination_paths = [\"/mnt/data/DF20-300px.tar.gz\",\n",
    "                    \"/mnt/data/DF21.tar.gz\",\n",
    "                    \"/mnt/data/FungiCLEF2023_train_metadata_PRODUCTION.csv\",\n",
    "                    \"/mnt/data/FungiCLEF2023_val_metadata_PRODUCTION.csv\",\n",
    "                    \"/mnt/data/FungiCLEF2023_public_test_metadata_PRODUCTION.csv\"\n",
    "]\n",
    "\n",
    "for file, path in list(zip(file_urls, destination_paths)):\n",
    "    # Call the function to download the file\n",
    "    download_file(file, path)"
   ]
  }
 ],
 "metadata": {
  "kernelspec": {
   "display_name": ".venv",
   "language": "python",
   "name": "python3"
  },
  "language_info": {
   "codemirror_mode": {
    "name": "ipython",
    "version": 3
   },
   "file_extension": ".py",
   "mimetype": "text/x-python",
   "name": "python",
   "nbconvert_exporter": "python",
   "pygments_lexer": "ipython3",
   "version": "3.10.12"
  }
 },
 "nbformat": 4,
 "nbformat_minor": 2
}
