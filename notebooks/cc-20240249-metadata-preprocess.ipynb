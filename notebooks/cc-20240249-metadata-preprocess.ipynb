{
 "cells": [
  {
   "cell_type": "code",
   "execution_count": 28,
   "metadata": {},
   "outputs": [],
   "source": [
    "import pandas as pd\n",
    "import pygeohash as pgh\n",
    "from tqdm import tqdm"
   ]
  },
  {
   "cell_type": "code",
   "execution_count": 40,
   "metadata": {},
   "outputs": [],
   "source": [
    "DINO_TRAIN = \"../production_dino_cls_DF_300_train.parquet\"\n",
    "DINO_VAL = \"../production_dino_cls_DF_300_valid.parquet\"\n",
    "DINO_TEST = \"../production_dino_cls_DF_300_test.parquet\"\n",
    "\n",
    "\n",
    "train_df = pd.read_parquet(DINO_TRAIN)\n",
    "val_df = pd.read_parquet(DINO_VAL)\n",
    "test_df = pd.read_parquet(DINO_TEST)\n",
    "\n",
    "df_all = pd.concat((train_df, val_df, test_df))"
   ]
  },
  {
   "cell_type": "code",
   "execution_count": 37,
   "metadata": {},
   "outputs": [
    {
     "data": {
      "text/plain": [
       "'u1z753uvk6t5'"
      ]
     },
     "execution_count": 37,
     "metadata": {},
     "output_type": "execute_result"
    }
   ],
   "source": [
    "# Geohash work: \n",
    "# Given that we probably only care about the 5 middle characters\n",
    "\n",
    "pgh.encode(train_df.Latitude[4], train_df.Longitude[4])"
   ]
  },
  {
   "cell_type": "code",
   "execution_count": 38,
   "metadata": {},
   "outputs": [],
   "source": [
    "def geohash_base32_to_int(geohash):\n",
    "    base32 = '0123456789bcdefghjkmnpqrstuvwxyz'\n",
    "    num = 0\n",
    "    for char in geohash:\n",
    "        num = num * 32 + base32.index(char)\n",
    "    return num"
   ]
  },
  {
   "cell_type": "code",
   "execution_count": 41,
   "metadata": {},
   "outputs": [
    {
     "name": "stderr",
     "output_type": "stream",
     "text": [
      "350974it [00:09, 36388.67it/s]\n"
     ]
    }
   ],
   "source": [
    "geohash_list = []\n",
    "for _, row in tqdm(df_all.iterrows()):\n",
    "    gh = pgh.encode(row.Latitude, row.Longitude)\n",
    "    geohash_list.append(geohash_base32_to_int(gh[1:5]))\n",
    "\n",
    "df_all['geohash_int'] = geohash_list\n"
   ]
  },
  {
   "cell_type": "code",
   "execution_count": 75,
   "metadata": {},
   "outputs": [],
   "source": [
    "input_onehot_columns = \"Substrate\", \"Habitat\", \"MetaSubstrate\""
   ]
  },
  {
   "cell_type": "code",
   "execution_count": 85,
   "metadata": {},
   "outputs": [],
   "source": [
    "substrate_onehot = pd.get_dummies(df_all.Substrate, prefix=\"substrate\").astype('int')\n",
    "metasubstrate_onehot = pd.get_dummies(df_all.MetaSubstrate, prefix=\"metasubstrate\").astype('int')\n",
    "habitat_onehot = pd.get_dummies(df_all.Habitat, prefix=\"habitat\").astype('int')"
   ]
  },
  {
   "cell_type": "code",
   "execution_count": 103,
   "metadata": {},
   "outputs": [],
   "source": [
    "df_all['geohash_int_normalized'] = df_all.geohash_int / df_all.geohash_int.max()"
   ]
  },
  {
   "cell_type": "code",
   "execution_count": 106,
   "metadata": {},
   "outputs": [],
   "source": [
    "INPUT_COLUMNS = [\"image_path\", \"observationID\", \"embedding\", \"month\", \"geohash_int_normalized\", ]\n",
    "OUTPUT_COLUMNS = ['kingdom', 'phylum', 'class',\n",
    "       'order', 'family', 'genus', 'species', 'poisonous', 'class_id',\n",
    "       'dataset']"
   ]
  },
  {
   "cell_type": "code",
   "execution_count": 110,
   "metadata": {},
   "outputs": [],
   "source": [
    "df_preprocessed = df_all[INPUT_COLUMNS].join(substrate_onehot).join(metasubstrate_onehot).join(habitat_onehot).join(df_all[OUTPUT_COLUMNS])"
   ]
  },
  {
   "cell_type": "markdown",
   "metadata": {},
   "source": []
  },
  {
   "cell_type": "code",
   "execution_count": 111,
   "metadata": {},
   "outputs": [],
   "source": [
    "df_preprocessed[df_preprocessed.dataset==\"train\"].to_parquet(\"../DF_300_metadata_train.parquet\")\n",
    "df_preprocessed[df_preprocessed.dataset==\"valid\"].to_parquet(\"../DF_300_metadata_valid.parquet\")\n",
    "df_preprocessed[df_preprocessed.dataset==\"test\"].to_parquet(\"../DF_300_metadata_test.parquet\")"
   ]
  },
  {
   "cell_type": "code",
   "execution_count": null,
   "metadata": {},
   "outputs": [],
   "source": []
  }
 ],
 "metadata": {
  "kernelspec": {
   "display_name": "fungiclef",
   "language": "python",
   "name": "python3"
  },
  "language_info": {
   "codemirror_mode": {
    "name": "ipython",
    "version": 3
   },
   "file_extension": ".py",
   "mimetype": "text/x-python",
   "name": "python",
   "nbconvert_exporter": "python",
   "pygments_lexer": "ipython3",
   "version": "3.11.7"
  }
 },
 "nbformat": 4,
 "nbformat_minor": 2
}
