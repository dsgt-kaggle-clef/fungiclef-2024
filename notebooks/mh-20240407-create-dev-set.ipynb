{
 "cells": [
  {
   "cell_type": "code",
   "execution_count": 3,
   "metadata": {},
   "outputs": [
    {
     "name": "stdout",
     "output_type": "stream",
     "text": [
      "/home/chris/fungiclef-2024\n"
     ]
    },
    {
     "name": "stderr",
     "output_type": "stream",
     "text": [
      "/home/chris/fungiclef-2024/.venv/lib/python3.10/site-packages/IPython/core/magics/osm.py:417: UserWarning: This is now an optional IPython functionality, setting dhist requires you to install the `pickleshare` library.\n",
      "  self.shell.db['dhist'] = compress_dhist(dhist)[-100:]\n"
     ]
    }
   ],
   "source": [
    "%cd ../"
   ]
  },
  {
   "cell_type": "code",
   "execution_count": 2,
   "metadata": {},
   "outputs": [],
   "source": [
    "%load_ext autoreload\n",
    "%autoreload 2"
   ]
  },
  {
   "cell_type": "code",
   "execution_count": 1,
   "metadata": {},
   "outputs": [
    {
     "name": "stderr",
     "output_type": "stream",
     "text": [
      "/home/chris/fungiclef-2024/.venv/lib/python3.10/site-packages/tqdm/auto.py:21: TqdmWarning: IProgress not found. Please update jupyter and ipywidgets. See https://ipywidgets.readthedocs.io/en/stable/user_install.html\n",
      "  from .autonotebook import tqdm as notebook_tqdm\n"
     ]
    }
   ],
   "source": [
    "import pyspark.sql.functions as f\n",
    "import pyspark.ml as ml\n",
    "from pyspark.sql.types import ArrayType, FloatType, IntegerType\n",
    "import fungiclef.transforms as trans\n",
    "from fungiclef.utils import get_spark, read_config"
   ]
  },
  {
   "cell_type": "code",
   "execution_count": 2,
   "metadata": {},
   "outputs": [
    {
     "ename": "FileNotFoundError",
     "evalue": "[Errno 2] No such file or directory: 'fungiclef/config.json'",
     "output_type": "error",
     "traceback": [
      "\u001b[0;31m---------------------------------------------------------------------------\u001b[0m",
      "\u001b[0;31mFileNotFoundError\u001b[0m                         Traceback (most recent call last)",
      "Cell \u001b[0;32mIn[2], line 2\u001b[0m\n\u001b[1;32m      1\u001b[0m \u001b[38;5;66;03m# Config for paths\u001b[39;00m\n\u001b[0;32m----> 2\u001b[0m config \u001b[38;5;241m=\u001b[39m \u001b[43mread_config\u001b[49m\u001b[43m(\u001b[49m\u001b[43mpath\u001b[49m\u001b[38;5;241;43m=\u001b[39;49m\u001b[38;5;124;43m'\u001b[39;49m\u001b[38;5;124;43mfungiclef/config.json\u001b[39;49m\u001b[38;5;124;43m'\u001b[39;49m\u001b[43m)\u001b[49m\n",
      "File \u001b[0;32m~/fungiclef-2024/fungiclef/utils.py:40\u001b[0m, in \u001b[0;36mread_config\u001b[0;34m(path)\u001b[0m\n\u001b[1;32m     39\u001b[0m \u001b[38;5;28;01mdef\u001b[39;00m \u001b[38;5;21mread_config\u001b[39m(path: \u001b[38;5;28mstr\u001b[39m) \u001b[38;5;241m-\u001b[39m\u001b[38;5;241m>\u001b[39m \u001b[38;5;28mdict\u001b[39m:\n\u001b[0;32m---> 40\u001b[0m     \u001b[38;5;28;01mwith\u001b[39;00m \u001b[38;5;28;43mopen\u001b[39;49m\u001b[43m(\u001b[49m\u001b[43mpath\u001b[49m\u001b[43m)\u001b[49m \u001b[38;5;28;01mas\u001b[39;00m f:\n\u001b[1;32m     41\u001b[0m         config \u001b[38;5;241m=\u001b[39m json\u001b[38;5;241m.\u001b[39mload(f)\n\u001b[1;32m     42\u001b[0m     \u001b[38;5;28;01mreturn\u001b[39;00m config\n",
      "\u001b[0;31mFileNotFoundError\u001b[0m: [Errno 2] No such file or directory: 'fungiclef/config.json'"
     ]
    }
   ],
   "source": [
    "# Config for paths\n",
    "config = read_config(path='fungiclef/config.json')"
   ]
  },
  {
   "cell_type": "code",
   "execution_count": 5,
   "metadata": {},
   "outputs": [
    {
     "name": "stderr",
     "output_type": "stream",
     "text": [
      "Setting default log level to \"WARN\".\n",
      "To adjust logging level use sc.setLogLevel(newLevel). For SparkR, use setLogLevel(newLevel).\n",
      "24/04/07 21:04:22 WARN NativeCodeLoader: Unable to load native-hadoop library for your platform... using builtin-java classes where applicable\n",
      "24/04/07 21:04:22 WARN SparkConf: Note that spark.local.dir will be overridden by the value set by the cluster manager (via SPARK_LOCAL_DIRS in mesos/standalone/kubernetes and LOCAL_DIRS in YARN).\n",
      "24/04/07 21:04:23 WARN Utils: Service 'SparkUI' could not bind on port 4040. Attempting port 4041.\n",
      "24/04/07 21:04:23 WARN Utils: Service 'SparkUI' could not bind on port 4041. Attempting port 4042.\n"
     ]
    },
    {
     "data": {
      "text/html": [
       "\n",
       "            <div>\n",
       "                <p><b>SparkSession - in-memory</b></p>\n",
       "                \n",
       "        <div>\n",
       "            <p><b>SparkContext</b></p>\n",
       "\n",
       "            <p><a href=\"http://fungiclef-dev.us-central1-a.c.dsgt-clef-2024.internal:4042\">Spark UI</a></p>\n",
       "\n",
       "            <dl>\n",
       "              <dt>Version</dt>\n",
       "                <dd><code>v3.5.1</code></dd>\n",
       "              <dt>Master</dt>\n",
       "                <dd><code>local[*]</code></dd>\n",
       "              <dt>AppName</dt>\n",
       "                <dd><code>pyspark-shell</code></dd>\n",
       "            </dl>\n",
       "        </div>\n",
       "        \n",
       "            </div>\n",
       "        "
      ],
      "text/plain": [
       "<pyspark.sql.session.SparkSession at 0x7ff841393c10>"
      ]
     },
     "metadata": {},
     "output_type": "display_data"
    }
   ],
   "source": [
    "spark = get_spark(**{\n",
    "    \"spark.sql.parquet.enableVectorizedReader\": False, \n",
    "})\n",
    "display(spark)"
   ]
  },
  {
   "cell_type": "code",
   "execution_count": 6,
   "metadata": {},
   "outputs": [
    {
     "name": "stderr",
     "output_type": "stream",
     "text": [
      "                                                                                \r"
     ]
    },
    {
     "name": "stdout",
     "output_type": "stream",
     "text": [
      "root\n",
      " |-- image_path: string (nullable = true)\n",
      " |-- data: binary (nullable = true)\n",
      " |-- observationID: long (nullable = true)\n",
      " |-- year: double (nullable = true)\n",
      " |-- month: double (nullable = true)\n",
      " |-- day: double (nullable = true)\n",
      " |-- countryCode: string (nullable = true)\n",
      " |-- locality: string (nullable = true)\n",
      " |-- taxonID: double (nullable = true)\n",
      " |-- scientificName: string (nullable = true)\n",
      " |-- kingdom: string (nullable = true)\n",
      " |-- phylum: string (nullable = true)\n",
      " |-- class: string (nullable = true)\n",
      " |-- order: string (nullable = true)\n",
      " |-- family: string (nullable = true)\n",
      " |-- genus: string (nullable = true)\n",
      " |-- specificEpithet: string (nullable = true)\n",
      " |-- taxonRank: string (nullable = true)\n",
      " |-- species: string (nullable = true)\n",
      " |-- level0Gid: string (nullable = true)\n",
      " |-- level0Name: string (nullable = true)\n",
      " |-- level1Gid: string (nullable = true)\n",
      " |-- level1Name: string (nullable = true)\n",
      " |-- level2Gid: string (nullable = true)\n",
      " |-- level2Name: string (nullable = true)\n",
      " |-- ImageUniqueID: string (nullable = true)\n",
      " |-- Substrate: string (nullable = true)\n",
      " |-- rightsHolder: string (nullable = true)\n",
      " |-- Latitude: double (nullable = true)\n",
      " |-- Longitude: double (nullable = true)\n",
      " |-- CoorUncert: double (nullable = true)\n",
      " |-- Habitat: string (nullable = true)\n",
      " |-- class_id: integer (nullable = true)\n",
      " |-- MetaSubstrate: string (nullable = true)\n",
      " |-- poisonous: integer (nullable = true)\n",
      "\n"
     ]
    },
    {
     "name": "stderr",
     "output_type": "stream",
     "text": [
      "                                                                                \r"
     ]
    },
    {
     "data": {
      "text/plain": [
       "295938"
      ]
     },
     "execution_count": 6,
     "metadata": {},
     "output_type": "execute_result"
    }
   ],
   "source": [
    "gcs_training_path = config[\"gs_paths\"][\"train\"][\"raw_parquet\"]\n",
    "\n",
    "\n",
    "train_df = spark.read.parquet(gcs_training_path)\n",
    "train_df.printSchema()\n",
    "train_df.count()"
   ]
  },
  {
   "cell_type": "markdown",
   "metadata": {},
   "source": [
    "# Data Explore"
   ]
  },
  {
   "cell_type": "code",
   "execution_count": null,
   "metadata": {},
   "outputs": [
    {
     "name": "stderr",
     "output_type": "stream",
     "text": [
      "[Stage 35:=====================================================>(899 + 1) / 900]\r"
     ]
    },
    {
     "name": "stdout",
     "output_type": "stream",
     "text": [
      "0.043850401097527185 are poisonous\n"
     ]
    },
    {
     "name": "stderr",
     "output_type": "stream",
     "text": [
      "                                                                                \r"
     ]
    }
   ],
   "source": [
    "sum_poisonous = train_df.select(f.sum('poisonous')).collect()\n",
    "percentage_poisonous = sum_poisonous[0][0] / train_df.count()\n",
    "print(f\"{percentage_poisonous} are poisonous\")"
   ]
  },
  {
   "cell_type": "code",
   "execution_count": 16,
   "metadata": {},
   "outputs": [
    {
     "name": "stderr",
     "output_type": "stream",
     "text": [
      "[Stage 20:=====================================================>(899 + 1) / 900]\r"
     ]
    },
    {
     "name": "stdout",
     "output_type": "stream",
     "text": [
      "+----------------+-----+\n",
      "|          family|count|\n",
      "+----------------+-----+\n",
      "|     Russulaceae|19144|\n",
      "|     Agaricaceae|15843|\n",
      "|Tricholomataceae|15693|\n",
      "|    Polyporaceae|13956|\n",
      "|      Boletaceae|13589|\n",
      "|  Hygrophoraceae|13347|\n",
      "|      Mycenaceae|12169|\n",
      "| Psathyrellaceae| 8657|\n",
      "|Hymenogastraceae| 8621|\n",
      "| Fomitopsidaceae| 8328|\n",
      "|  Cortinariaceae| 8085|\n",
      "|     Meruliaceae| 5562|\n",
      "|Hymenochaetaceae| 5518|\n",
      "| Physalacriaceae| 5451|\n",
      "|     Amanitaceae| 5442|\n",
      "|  Strophariaceae| 5232|\n",
      "|    Parmeliaceae| 4874|\n",
      "|  Entolomataceae| 4104|\n",
      "|     Inocybaceae| 4054|\n",
      "|      Pluteaceae| 4037|\n",
      "+----------------+-----+\n",
      "only showing top 20 rows\n",
      "\n"
     ]
    },
    {
     "name": "stderr",
     "output_type": "stream",
     "text": [
      "                                                                                \r"
     ]
    }
   ],
   "source": [
    "train_df.groupBy('family').count().orderBy(f.desc('count')).show()"
   ]
  },
  {
   "cell_type": "markdown",
   "metadata": {},
   "source": [
    "# Pick "
   ]
  },
  {
   "cell_type": "code",
   "execution_count": 28,
   "metadata": {},
   "outputs": [],
   "source": [
    "# Only take fungi of following three families\n",
    "considered_families = ['Russulaceae', 'Boletaceae', 'Amanitaceae'\n",
    "                       ]\n",
    "\n",
    "family_subset = train_df.filter(train_df.family.isin(considered_families))                       "
   ]
  },
  {
   "cell_type": "code",
   "execution_count": 34,
   "metadata": {},
   "outputs": [
    {
     "name": "stderr",
     "output_type": "stream",
     "text": [
      "                                                                                \r"
     ]
    },
    {
     "data": {
      "text/plain": [
       "38175"
      ]
     },
     "execution_count": 34,
     "metadata": {},
     "output_type": "execute_result"
    }
   ],
   "source": [
    "family_subset.count()"
   ]
  },
  {
   "cell_type": "code",
   "execution_count": 36,
   "metadata": {},
   "outputs": [],
   "source": [
    "# only take fungi of the following species\n",
    "selected_mushrooms = ['Neoboletus luridiformis (Rostk.) Gelardi, Simonini & Vizzini, 2014',\n",
    "                      'Imleria badia (Fr.) Vizzini, 2014',\n",
    "                      'Amanita muscaria (L.) Lam., 1783',\n",
    "                      'Russula ochroleuca (Pers.) Fr.',\n",
    "                      'Russula nigricans (Bull.) Fr.',\n",
    "                      'Lactarius blennius (Fr.) Fr.'\n",
    "                      ]\n",
    "\n",
    "species_subset = family_subset.filter(family_subset.scientificName.isin(selected_mushrooms))"
   ]
  },
  {
   "cell_type": "code",
   "execution_count": 38,
   "metadata": {},
   "outputs": [],
   "source": [
    "# train test split with pyspark\n",
    "\n",
    "# first, shuffle\n",
    "species_subset_shuffled = species_subset.select(\"*\").orderBy(f.rand())\n",
    "\n",
    "# split by 80/20\n",
    "splits = species_subset_shuffled.randomSplit(weights=[0.8,0.2], seed=42)\n",
    "\n",
    "dev_train = splits[0]\n",
    "dev_val = splits[1]"
   ]
  },
  {
   "cell_type": "markdown",
   "metadata": {},
   "source": [
    "# Data Explore Dev Set"
   ]
  },
  {
   "cell_type": "code",
   "execution_count": 45,
   "metadata": {},
   "outputs": [
    {
     "name": "stderr",
     "output_type": "stream",
     "text": [
      "                                                                                \r"
     ]
    },
    {
     "name": "stdout",
     "output_type": "stream",
     "text": [
      "Length of whole dev_set: 4643\n"
     ]
    },
    {
     "name": "stderr",
     "output_type": "stream",
     "text": [
      "                                                                                \r"
     ]
    },
    {
     "name": "stdout",
     "output_type": "stream",
     "text": [
      "Length of dev_train: 3723\n"
     ]
    },
    {
     "name": "stderr",
     "output_type": "stream",
     "text": [
      "[Stage 86:===============================================>        (33 + 4) / 39]\r"
     ]
    },
    {
     "name": "stdout",
     "output_type": "stream",
     "text": [
      "Length of dev_val: 920\n"
     ]
    },
    {
     "name": "stderr",
     "output_type": "stream",
     "text": [
      "                                                                                \r"
     ]
    }
   ],
   "source": [
    "print(f\"Length of whole dev_set: {species_subset.count()}\")\n",
    "print(f\"Length of dev_train: {dev_train.count()}\")\n",
    "print(f\"Length of dev_val: {dev_val.count()}\")"
   ]
  },
  {
   "cell_type": "code",
   "execution_count": 46,
   "metadata": {},
   "outputs": [
    {
     "name": "stderr",
     "output_type": "stream",
     "text": [
      "/usr/local/lib/python3.10/dist-packages/tqdm/auto.py:21: TqdmWarning: IProgress not found. Please update jupyter and ipywidgets. See https://ipywidgets.readthedocs.io/en/stable/user_install.html\n",
      "  from .autonotebook import tqdm as notebook_tqdm\n",
      "[Stage 100:=======================================>               (28 + 4) / 39]\r"
     ]
    },
    {
     "name": "stdout",
     "output_type": "stream",
     "text": [
      "Poisonous in dev_train:  786\n",
      "Poisonous in dev_train in percent:  0.21112006446414183\n"
     ]
    },
    {
     "name": "stderr",
     "output_type": "stream",
     "text": [
      "                                                                                \r"
     ]
    },
    {
     "ename": "NameError",
     "evalue": "name 'percentage_poisonous' is not defined",
     "output_type": "error",
     "traceback": [
      "\u001b[0;31m---------------------------------------------------------------------------\u001b[0m",
      "\u001b[0;31mNameError\u001b[0m                                 Traceback (most recent call last)",
      "Cell \u001b[0;32mIn[46], line 6\u001b[0m\n\u001b[1;32m      4\u001b[0m \u001b[38;5;28mprint\u001b[39m(\u001b[38;5;124m\"\u001b[39m\u001b[38;5;124mPoisonous in dev_train: \u001b[39m\u001b[38;5;124m\"\u001b[39m, sum_poisonous_dev)\n\u001b[1;32m      5\u001b[0m \u001b[38;5;28mprint\u001b[39m(\u001b[38;5;124m\"\u001b[39m\u001b[38;5;124mPoisonous in dev_train in percent: \u001b[39m\u001b[38;5;124m\"\u001b[39m, percentage_poisonous_dev)\n\u001b[0;32m----> 6\u001b[0m \u001b[38;5;28mprint\u001b[39m(\u001b[38;5;124m\"\u001b[39m\u001b[38;5;124mPoisonous in whole dataset in percent: \u001b[39m\u001b[38;5;124m\"\u001b[39m, \u001b[43mpercentage_poisonous\u001b[49m)\n",
      "\u001b[0;31mNameError\u001b[0m: name 'percentage_poisonous' is not defined"
     ]
    }
   ],
   "source": [
    "# posionus in dev train\n",
    "sum_poisonous_dev = dev_train.select(f.sum('poisonous')).collect()[0][0]\n",
    "percentage_poisonous_dev = sum_poisonous_dev/dev_train.count()\n",
    "print(\"Poisonous in dev_train: \", sum_poisonous_dev)\n",
    "print(\"Poisonous in dev_train in percent: \", percentage_poisonous_dev)\n",
    "print(\"Poisonous in whole dataset in percent: \", percentage_poisonous)"
   ]
  },
  {
   "cell_type": "markdown",
   "metadata": {},
   "source": [
    "# Store dev set"
   ]
  },
  {
   "cell_type": "code",
   "execution_count": 43,
   "metadata": {},
   "outputs": [
    {
     "name": "stderr",
     "output_type": "stream",
     "text": [
      "                                                                                \r"
     ]
    }
   ],
   "source": [
    "dev_train.write.mode(\"overwrite\").parquet(config['gs_paths']['parquet']['training_dev'])"
   ]
  },
  {
   "cell_type": "code",
   "execution_count": 44,
   "metadata": {},
   "outputs": [
    {
     "name": "stderr",
     "output_type": "stream",
     "text": [
      "                                                                                \r"
     ]
    }
   ],
   "source": [
    "dev_val.write.mode(\"overwrite\").parquet(config['gs_paths']['parquet']['test_dev'])"
   ]
  },
  {
   "cell_type": "code",
   "execution_count": null,
   "metadata": {},
   "outputs": [],
   "source": []
  },
  {
   "cell_type": "code",
   "execution_count": null,
   "metadata": {},
   "outputs": [],
   "source": []
  },
  {
   "cell_type": "code",
   "execution_count": 49,
   "metadata": {},
   "outputs": [
    {
     "name": "stderr",
     "output_type": "stream",
     "text": [
      "                                                                                \r"
     ]
    },
    {
     "name": "stdout",
     "output_type": "stream",
     "text": [
      "+--------------------+--------------------+-------------+------+-----+----+-----------+---------------+-------+--------------------+-------+-------------+---------------+---------------+----------------+-----------+---------------+---------+--------------------+---------+----------+---------+-----------+----------+----------+-----------------+--------------------+-------------------+-----------------+---------+----------+--------------------+--------+-------------+---------+\n",
      "|          image_path|                data|observationID|  year|month| day|countryCode|       locality|taxonID|      scientificName|kingdom|       phylum|          class|          order|          family|      genus|specificEpithet|taxonRank|             species|level0Gid|level0Name|level1Gid| level1Name| level2Gid|level2Name|    ImageUniqueID|           Substrate|       rightsHolder|         Latitude|Longitude|CoorUncert|             Habitat|class_id|MetaSubstrate|poisonous|\n",
      "+--------------------+--------------------+-------------+------+-----+----+-----------+---------------+-------+--------------------+-------+-------------+---------------+---------------+----------------+-----------+---------------+---------+--------------------+---------+----------+---------+-----------+----------+----------+-----------------+--------------------+-------------------+-----------------+---------+----------+--------------------+--------+-------------+---------+\n",
      "|2237852555-148572...|[FF D8 FF E0 00 1...|   2237852555|2019.0|  1.0|17.0|         DK| Vibæk Plantage|46180.0|Phellinus pomaceu...|  Fungi|Basidiomycota| Agaricomycetes|Hymenochaetales|Hymenochaetaceae|  Phellinus|       pomaceus|  SPECIES|  Phellinus pomaceus|      DNK|   Denmark|  DNK.2_1|Midtjylland|DNK.2.18_1|  Syddjurs|2237852555-148572|bark of living trees|Jørgen Christiansen|        56.214652|10.679904|      25.0|            roadside|    1121|         wood|        0|\n",
      "|2237852674-74828.JPG|[FF D8 FF E0 00 1...|   2237852674|2017.0|  1.0|25.0|         DK|Kærbølling Huse|60852.0|Lyomyces sambuci ...|  Fungi|Basidiomycota| Agaricomycetes|Hymenochaetales|  Schizoporaceae|    Xylodon|        sambuci|  SPECIES|     Xylodon sambuci|      DNK|   Denmark|  DNK.5_1| Syddanmark|DNK.5.22_1|     Vejle| 2237852674-74828|dead wood (includ...|     Ken A. Alminde|        55.706164| 9.427971|      10.0|            hedgerow|     889|         wood|        0|\n",
      "|2237852822-298071...|[FF D8 FF E0 00 1...|   2237852822|2019.0|  1.0|14.0|         DK|       Løvehave|68919.0|Trichoderma europ...|  Fungi|   Ascomycota|Sordariomycetes|    Hypocreales|    Hypocreaceae|Trichoderma|      europaeum|  SPECIES|Trichoderma europ...|      DNK|   Denmark|  DNK.5_1| Syddanmark|DNK.5.18_1| Svendborg|2237852822-298071|dead wood (includ...|          Dan Schou|55.09018199999999|10.534475|      50.0|Mixed woodland (w...|    1500|         wood|        0|\n",
      "+--------------------+--------------------+-------------+------+-----+----+-----------+---------------+-------+--------------------+-------+-------------+---------------+---------------+----------------+-----------+---------------+---------+--------------------+---------+----------+---------+-----------+----------+----------+-----------------+--------------------+-------------------+-----------------+---------+----------+--------------------+--------+-------------+---------+\n",
      "\n"
     ]
    },
    {
     "name": "stderr",
     "output_type": "stream",
     "text": [
      "[Stage 105:>                (0 + 1) / 1][Stage 107:>              (4 + 3) / 900]\r"
     ]
    }
   ],
   "source": [
    "train_df.limit(3).show(n=3)"
   ]
  },
  {
   "cell_type": "code",
   "execution_count": null,
   "metadata": {},
   "outputs": [],
   "source": []
  }
 ],
 "metadata": {
  "kernelspec": {
   "display_name": "Python 3",
   "language": "python",
   "name": "python3"
  },
  "language_info": {
   "codemirror_mode": {
    "name": "ipython",
    "version": 3
   },
   "file_extension": ".py",
   "mimetype": "text/x-python",
   "name": "python",
   "nbconvert_exporter": "python",
   "pygments_lexer": "ipython3",
   "version": "3.11.7"
  }
 },
 "nbformat": 4,
 "nbformat_minor": 2
}
