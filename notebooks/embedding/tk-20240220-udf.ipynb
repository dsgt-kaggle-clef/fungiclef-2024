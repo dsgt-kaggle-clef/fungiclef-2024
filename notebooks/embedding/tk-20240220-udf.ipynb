{
 "cells": [
  {
   "cell_type": "code",
   "execution_count": null,
   "metadata": {},
   "outputs": [],
   "source": [
    "\n",
    "%cd /home/teresakim/fungiclef-2024/\n",
    "from fungiclef.utils import get_spark\n",
    "\n",
    "# https://knowledge.informatica.com/s/article/000196886?language=en_US\n",
    "# The vectorized reader will run out of memory (8gb) with the default batch size, so\n",
    "# this is one way of handling the issue. This is likely due to the fact that the data\n",
    "# column is so damn big, and treated as binary data instead of something like a string.\n",
    "# We might also be able to avoid this if we don't cache the fields into memory, but this\n",
    "# this needs to be validated by hand. \n",
    "spark = get_spark(**{\n",
    "    # \"spark.sql.parquet.columnarReaderBatchSize\": 512,\n",
    "    \"spark.sql.parquet.enableVectorizedReader\": False, \n",
    "})\n",
    "\n",
    "gcs_parquet_path = \"gs://dsgt-clef-fungiclef-2024/data/parquet/DF20_300px/\"\n",
    "\n",
    "df = spark.read.parquet(gcs_parquet_path)\n",
    "df.printSchema()\n",
    "df.show(1, vertical=True, truncate=False)\n",
    "df.count() # 295938"
   ]
  },
  {
   "cell_type": "code",
   "execution_count": null,
   "metadata": {},
   "outputs": [],
   "source": [
    "from torchvision import transforms\n",
    "from pyspark.sql.functions import udf\n",
    "from pyspark.sql.types import ArrayType, FloatType\n",
    "from PIL import Image\n",
    "import io\n",
    "\n",
    "# define a UDF to convert binary to PIL image, apply transformations, and return a flattened image tensor\n",
    "def preprocess_image(data):\n",
    "    image = Image.open(io.BytesIO(data)).convert('RGB')\n",
    "    transform = transforms.Compose([\n",
    "        transforms.Resize((224, 224)),\n",
    "        transforms.ToTensor(),\n",
    "        transforms.Normalize(mean=[0.485, 0.456, 0.406], std=[0.229, 0.224, 0.225]),\n",
    "    ])\n",
    "    image_tensor = transform(image)\n",
    "    # flatten the image tensor to return a 1D array\n",
    "    return image_tensor.numpy().flatten().tolist()\n",
    "\n",
    "preprocess_udf = udf(preprocess_image, ArrayType(FloatType()))\n",
    "\n",
    "# apply UDF\n",
    "df = df.withColumn(\"processed_image\", preprocess_udf(df[\"data\"]))\n"
   ]
  }
 ],
 "metadata": {
  "kernelspec": {
   "display_name": "Python 3",
   "language": "python",
   "name": "python3"
  },
  "language_info": {
   "codemirror_mode": {
    "name": "ipython",
    "version": 3
   },
   "file_extension": ".py",
   "mimetype": "text/x-python",
   "name": "python",
   "nbconvert_exporter": "python",
   "pygments_lexer": "ipython3",
   "version": "3.10.12"
  }
 },
 "nbformat": 4,
 "nbformat_minor": 2
}
