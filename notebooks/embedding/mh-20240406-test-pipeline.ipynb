{
 "cells": [
  {
   "cell_type": "code",
   "execution_count": null,
   "metadata": {},
   "outputs": [],
   "source": [
    "%cd /home/maximilianheil/fungiclef-2024/"
   ]
  },
  {
   "cell_type": "code",
   "execution_count": null,
   "metadata": {},
   "outputs": [],
   "source": [
    "%load_ext autoreload\n",
    "%autoreload 2"
   ]
  },
  {
   "cell_type": "code",
   "execution_count": null,
   "metadata": {},
   "outputs": [],
   "source": [
    "import pyspark.sql.functions as f\n",
    "import pyspark.ml as ml\n",
    "from pyspark.sql.types import ArrayType, FloatType, IntegerType\n",
    "import fungiclef.embedding.transforms as trans\n",
    "from fungiclef.utils import get_spark"
   ]
  },
  {
   "cell_type": "code",
   "execution_count": null,
   "metadata": {},
   "outputs": [],
   "source": [
    "spark = get_spark(**{\n",
    "    \"spark.sql.parquet.enableVectorizedReader\": False, \n",
    "})\n",
    "display(spark)"
   ]
  },
  {
   "cell_type": "code",
   "execution_count": null,
   "metadata": {},
   "outputs": [],
   "source": [
    "# Get list of stored filed in cloud bucket\n",
    "root = \"gs://dsgt-clef-fungiclef-2024\"\n",
    "! date\n",
    "! gcloud storage du --readable-sizes {root}/data/parquet/DF20\n"
   ]
  },
  {
   "cell_type": "code",
   "execution_count": 12,
   "metadata": {},
   "outputs": [
    {
     "name": "stderr",
     "output_type": "stream",
     "text": [
      "[Stage 5:===============================>                       (510 + 2) / 900]\r"
     ]
    }
   ],
   "source": [
    "\n",
    "gcs_parquet_path = \"gs://dsgt-clef-fungiclef-2024/dev/train/\"\n",
    "input_folder = f\"dev_train.parquet\"\n",
    "\n",
    "gcs_parquet_path = \"gs://dsgt-clef-fungiclef-2024/data/parquet/\"\n",
    "input_folder = f\"DF20\"\n",
    "\n",
    "\n",
    "\n",
    "dev_df = spark.read.parquet(gcs_parquet_path+input_folder)\n",
    "dev_df.printSchema()\n",
    "dev_df.count()"
   ]
  },
  {
   "cell_type": "code",
   "execution_count": null,
   "metadata": {},
   "outputs": [],
   "source": [
    "# Get subset of images to test pipeline\n",
    "dev_subset_df = (\n",
    "    dev_df\n",
    "    .limit(100)\n",
    "    .cache()\n",
    ")\n",
    "print(dev_subset_df.count())"
   ]
  },
  {
   "cell_type": "code",
   "execution_count": null,
   "metadata": {},
   "outputs": [],
   "source": [
    "# Init DINOv2 wrapper\n",
    "dino = trans.WrappedDinoV2(input_col=\"data\", output_col=\"transformed_data\")\n",
    "\n",
    "# Init Descrite Cosine Transform wrapper\n",
    "dctn = trans.DCTN(input_col=\"transformed_data\", output_col=\"dctn_data\")\n",
    "\n",
    "# Create Pipeline\n",
    "pipeline = ml.Pipeline(stages=[dino, dctn]) #, dctn\n",
    "\n",
    "# Fit pipeline to DF\n",
    "model = pipeline.fit(dev_subset_df)\n",
    "\n",
    "# Apply the model to transform the DF\n",
    "transformed_df = model.transform(dev_subset_df).cache()\n",
    "\n",
    "# Show results\n",
    "transformed_df.select([\"ImageUniqueID\", \"species\", \"transformed_data\"]).show(n=10)"
   ]
  }
 ],
 "metadata": {
  "kernelspec": {
   "display_name": "fungi",
   "language": "python",
   "name": "python3"
  },
  "language_info": {
   "codemirror_mode": {
    "name": "ipython",
    "version": 3
   },
   "file_extension": ".py",
   "mimetype": "text/x-python",
   "name": "python",
   "nbconvert_exporter": "python",
   "pygments_lexer": "ipython3",
   "version": "3.11.7"
  }
 },
 "nbformat": 4,
 "nbformat_minor": 2
}
