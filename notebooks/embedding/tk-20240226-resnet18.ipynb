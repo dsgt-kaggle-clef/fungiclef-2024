{
 "cells": [
  {
   "cell_type": "code",
   "execution_count": 1,
   "metadata": {},
   "outputs": [
    {
     "name": "stdout",
     "output_type": "stream",
     "text": [
      "/home/teresakim/fungiclef-2024\n"
     ]
    }
   ],
   "source": [
    "%cd /home/teresakim/fungiclef-2024/"
   ]
  },
  {
   "cell_type": "code",
   "execution_count": 2,
   "metadata": {},
   "outputs": [],
   "source": [
    "%load_ext autoreload\n",
    "%autoreload 2"
   ]
  },
  {
   "cell_type": "code",
   "execution_count": 3,
   "metadata": {},
   "outputs": [],
   "source": [
    "import pyspark.sql.functions as f\n",
    "import pyspark.ml as ml\n",
    "from pyspark.sql.functions import udf\n",
    "from pyspark.sql.types import ArrayType, FloatType, IntegerType\n",
    "import fungiclef.transforms as trans\n",
    "from fungiclef.utils import get_spark"
   ]
  },
  {
   "cell_type": "code",
   "execution_count": 4,
   "metadata": {},
   "outputs": [
    {
     "name": "stderr",
     "output_type": "stream",
     "text": [
      "Setting default log level to \"WARN\".\n",
      "To adjust logging level use sc.setLogLevel(newLevel). For SparkR, use setLogLevel(newLevel).\n",
      "24/04/19 06:13:07 WARN NativeCodeLoader: Unable to load native-hadoop library for your platform... using builtin-java classes where applicable\n",
      "24/04/19 06:13:07 WARN SparkConf: Note that spark.local.dir will be overridden by the value set by the cluster manager (via SPARK_LOCAL_DIRS in mesos/standalone/kubernetes and LOCAL_DIRS in YARN).\n"
     ]
    },
    {
     "data": {
      "text/html": [
       "\n",
       "            <div>\n",
       "                <p><b>SparkSession - in-memory</b></p>\n",
       "                \n",
       "        <div>\n",
       "            <p><b>SparkContext</b></p>\n",
       "\n",
       "            <p><a href=\"http://fungiclef-dev.us-central1-a.c.dsgt-clef-2024.internal:4040\">Spark UI</a></p>\n",
       "\n",
       "            <dl>\n",
       "              <dt>Version</dt>\n",
       "                <dd><code>v3.5.1</code></dd>\n",
       "              <dt>Master</dt>\n",
       "                <dd><code>local[*]</code></dd>\n",
       "              <dt>AppName</dt>\n",
       "                <dd><code>pyspark-shell</code></dd>\n",
       "            </dl>\n",
       "        </div>\n",
       "        \n",
       "            </div>\n",
       "        "
      ],
      "text/plain": [
       "<pyspark.sql.session.SparkSession at 0x7a9a0037b520>"
      ]
     },
     "metadata": {},
     "output_type": "display_data"
    }
   ],
   "source": [
    "spark = get_spark(**{\n",
    "    \"spark.sql.parquet.enableVectorizedReader\": False, \n",
    "})\n",
    "display(spark)"
   ]
  },
  {
   "cell_type": "code",
   "execution_count": 5,
   "metadata": {},
   "outputs": [
    {
     "name": "stdout",
     "output_type": "stream",
     "text": [
      "Fri Apr 19 06:13:46 UTC 2024\n"
     ]
    },
    {
     "name": "stdout",
     "output_type": "stream",
     "text": [
      "0B           gs://dsgt-clef-fungiclef-2024/data/parquet/DF20/\n",
      "0B           gs://dsgt-clef-fungiclef-2024/data/parquet/DF20/_SUCCESS\n",
      "576.12MiB    gs://dsgt-clef-fungiclef-2024/data/parquet/DF20/part-00000-cc0df3a9-c0ff-4f41-a2cb-442f4aae0f0c-c000.snappy.parquet\n",
      "538.03MiB    gs://dsgt-clef-fungiclef-2024/data/parquet/DF20/part-00001-cc0df3a9-c0ff-4f41-a2cb-442f4aae0f0c-c000.snappy.parquet\n",
      "534.57MiB    gs://dsgt-clef-fungiclef-2024/data/parquet/DF20/part-00002-cc0df3a9-c0ff-4f41-a2cb-442f4aae0f0c-c000.snappy.parquet\n",
      "577.75MiB    gs://dsgt-clef-fungiclef-2024/data/parquet/DF20/part-00003-cc0df3a9-c0ff-4f41-a2cb-442f4aae0f0c-c000.snappy.parquet\n",
      "572.16MiB    gs://dsgt-clef-fungiclef-2024/data/parquet/DF20/part-00004-cc0df3a9-c0ff-4f41-a2cb-442f4aae0f0c-c000.snappy.parquet\n",
      "556.37MiB    gs://dsgt-clef-fungiclef-2024/data/parquet/DF20/part-00005-cc0df3a9-c0ff-4f41-a2cb-442f4aae0f0c-c000.snappy.parquet\n",
      "589.96MiB    gs://dsgt-clef-fungiclef-2024/data/parquet/DF20/part-00006-cc0df3a9-c0ff-4f41-a2cb-442f4aae0f0c-c000.snappy.parquet\n",
      "557.75MiB    gs://dsgt-clef-fungiclef-2024/data/parquet/DF20/part-00007-cc0df3a9-c0ff-4f41-a2cb-442f4aae0f0c-c000.snappy.parquet\n",
      "580.16MiB    gs://dsgt-clef-fungiclef-2024/data/parquet/DF20/part-00008-cc0df3a9-c0ff-4f41-a2cb-442f4aae0f0c-c000.snappy.parquet\n",
      "591.49MiB    gs://dsgt-clef-fungiclef-2024/data/parquet/DF20/part-00009-cc0df3a9-c0ff-4f41-a2cb-442f4aae0f0c-c000.snappy.parquet\n",
      "574.26MiB    gs://dsgt-clef-fungiclef-2024/data/parquet/DF20/part-00010-cc0df3a9-c0ff-4f41-a2cb-442f4aae0f0c-c000.snappy.parquet\n",
      "512.29MiB    gs://dsgt-clef-fungiclef-2024/data/parquet/DF20/part-00011-cc0df3a9-c0ff-4f41-a2cb-442f4aae0f0c-c000.snappy.parquet\n",
      "557.26MiB    gs://dsgt-clef-fungiclef-2024/data/parquet/DF20/part-00012-cc0df3a9-c0ff-4f41-a2cb-442f4aae0f0c-c000.snappy.parquet\n",
      "551.22MiB    gs://dsgt-clef-fungiclef-2024/data/parquet/DF20/part-00013-cc0df3a9-c0ff-4f41-a2cb-442f4aae0f0c-c000.snappy.parquet\n",
      "545.34MiB    gs://dsgt-clef-fungiclef-2024/data/parquet/DF20/part-00014-cc0df3a9-c0ff-4f41-a2cb-442f4aae0f0c-c000.snappy.parquet\n",
      "557.15MiB    gs://dsgt-clef-fungiclef-2024/data/parquet/DF20/part-00015-cc0df3a9-c0ff-4f41-a2cb-442f4aae0f0c-c000.snappy.parquet\n",
      "565.28MiB    gs://dsgt-clef-fungiclef-2024/data/parquet/DF20/part-00016-cc0df3a9-c0ff-4f41-a2cb-442f4aae0f0c-c000.snappy.parquet\n",
      "564.36MiB    gs://dsgt-clef-fungiclef-2024/data/parquet/DF20/part-00017-cc0df3a9-c0ff-4f41-a2cb-442f4aae0f0c-c000.snappy.parquet\n",
      "540.18MiB    gs://dsgt-clef-fungiclef-2024/data/parquet/DF20/part-00018-cc0df3a9-c0ff-4f41-a2cb-442f4aae0f0c-c000.snappy.parquet\n",
      "551.32MiB    gs://dsgt-clef-fungiclef-2024/data/parquet/DF20/part-00019-cc0df3a9-c0ff-4f41-a2cb-442f4aae0f0c-c000.snappy.parquet\n",
      "569.17MiB    gs://dsgt-clef-fungiclef-2024/data/parquet/DF20/part-00020-cc0df3a9-c0ff-4f41-a2cb-442f4aae0f0c-c000.snappy.parquet\n",
      "569.11MiB    gs://dsgt-clef-fungiclef-2024/data/parquet/DF20/part-00021-cc0df3a9-c0ff-4f41-a2cb-442f4aae0f0c-c000.snappy.parquet\n",
      "548.32MiB    gs://dsgt-clef-fungiclef-2024/data/parquet/DF20/part-00022-cc0df3a9-c0ff-4f41-a2cb-442f4aae0f0c-c000.snappy.parquet\n",
      "557.06MiB    gs://dsgt-clef-fungiclef-2024/data/parquet/DF20/part-00023-cc0df3a9-c0ff-4f41-a2cb-442f4aae0f0c-c000.snappy.parquet\n",
      "555.14MiB    gs://dsgt-clef-fungiclef-2024/data/parquet/DF20/part-00024-cc0df3a9-c0ff-4f41-a2cb-442f4aae0f0c-c000.snappy.parquet\n",
      "581.53MiB    gs://dsgt-clef-fungiclef-2024/data/parquet/DF20/part-00025-cc0df3a9-c0ff-4f41-a2cb-442f4aae0f0c-c000.snappy.parquet\n",
      "530.09MiB    gs://dsgt-clef-fungiclef-2024/data/parquet/DF20/part-00026-cc0df3a9-c0ff-4f41-a2cb-442f4aae0f0c-c000.snappy.parquet\n",
      "572.36MiB    gs://dsgt-clef-fungiclef-2024/data/parquet/DF20/part-00027-cc0df3a9-c0ff-4f41-a2cb-442f4aae0f0c-c000.snappy.parquet\n",
      "524.85MiB    gs://dsgt-clef-fungiclef-2024/data/parquet/DF20/part-00028-cc0df3a9-c0ff-4f41-a2cb-442f4aae0f0c-c000.snappy.parquet\n",
      "529.35MiB    gs://dsgt-clef-fungiclef-2024/data/parquet/DF20/part-00029-cc0df3a9-c0ff-4f41-a2cb-442f4aae0f0c-c000.snappy.parquet\n",
      "611.68MiB    gs://dsgt-clef-fungiclef-2024/data/parquet/DF20/part-00030-cc0df3a9-c0ff-4f41-a2cb-442f4aae0f0c-c000.snappy.parquet\n",
      "547.08MiB    gs://dsgt-clef-fungiclef-2024/data/parquet/DF20/part-00031-cc0df3a9-c0ff-4f41-a2cb-442f4aae0f0c-c000.snappy.parquet\n",
      "566.71MiB    gs://dsgt-clef-fungiclef-2024/data/parquet/DF20/part-00032-cc0df3a9-c0ff-4f41-a2cb-442f4aae0f0c-c000.snappy.parquet\n",
      "569.33MiB    gs://dsgt-clef-fungiclef-2024/data/parquet/DF20/part-00033-cc0df3a9-c0ff-4f41-a2cb-442f4aae0f0c-c000.snappy.parquet\n",
      "551.99MiB    gs://dsgt-clef-fungiclef-2024/data/parquet/DF20/part-00034-cc0df3a9-c0ff-4f41-a2cb-442f4aae0f0c-c000.snappy.parquet\n",
      "554.51MiB    gs://dsgt-clef-fungiclef-2024/data/parquet/DF20/part-00035-cc0df3a9-c0ff-4f41-a2cb-442f4aae0f0c-c000.snappy.parquet\n",
      "573.04MiB    gs://dsgt-clef-fungiclef-2024/data/parquet/DF20/part-00036-cc0df3a9-c0ff-4f41-a2cb-442f4aae0f0c-c000.snappy.parquet\n",
      "541.53MiB    gs://dsgt-clef-fungiclef-2024/data/parquet/DF20/part-00037-cc0df3a9-c0ff-4f41-a2cb-442f4aae0f0c-c000.snappy.parquet\n",
      "560.04MiB    gs://dsgt-clef-fungiclef-2024/data/parquet/DF20/part-00038-cc0df3a9-c0ff-4f41-a2cb-442f4aae0f0c-c000.snappy.parquet\n",
      "557.77MiB    gs://dsgt-clef-fungiclef-2024/data/parquet/DF20/part-00039-cc0df3a9-c0ff-4f41-a2cb-442f4aae0f0c-c000.snappy.parquet\n",
      "555.73MiB    gs://dsgt-clef-fungiclef-2024/data/parquet/DF20/part-00040-cc0df3a9-c0ff-4f41-a2cb-442f4aae0f0c-c000.snappy.parquet\n",
      "559.12MiB    gs://dsgt-clef-fungiclef-2024/data/parquet/DF20/part-00041-cc0df3a9-c0ff-4f41-a2cb-442f4aae0f0c-c000.snappy.parquet\n",
      "578.92MiB    gs://dsgt-clef-fungiclef-2024/data/parquet/DF20/part-00042-cc0df3a9-c0ff-4f41-a2cb-442f4aae0f0c-c000.snappy.parquet\n",
      "552.05MiB    gs://dsgt-clef-fungiclef-2024/data/parquet/DF20/part-00043-cc0df3a9-c0ff-4f41-a2cb-442f4aae0f0c-c000.snappy.parquet\n",
      "563.61MiB    gs://dsgt-clef-fungiclef-2024/data/parquet/DF20/part-00044-cc0df3a9-c0ff-4f41-a2cb-442f4aae0f0c-c000.snappy.parquet\n",
      "555.24MiB    gs://dsgt-clef-fungiclef-2024/data/parquet/DF20/part-00045-cc0df3a9-c0ff-4f41-a2cb-442f4aae0f0c-c000.snappy.parquet\n",
      "531.54MiB    gs://dsgt-clef-fungiclef-2024/data/parquet/DF20/part-00046-cc0df3a9-c0ff-4f41-a2cb-442f4aae0f0c-c000.snappy.parquet\n",
      "512.82MiB    gs://dsgt-clef-fungiclef-2024/data/parquet/DF20/part-00047-cc0df3a9-c0ff-4f41-a2cb-442f4aae0f0c-c000.snappy.parquet\n",
      "515.57MiB    gs://dsgt-clef-fungiclef-2024/data/parquet/DF20/part-00048-cc0df3a9-c0ff-4f41-a2cb-442f4aae0f0c-c000.snappy.parquet\n",
      "562.29MiB    gs://dsgt-clef-fungiclef-2024/data/parquet/DF20/part-00049-cc0df3a9-c0ff-4f41-a2cb-442f4aae0f0c-c000.snappy.parquet\n",
      "569.07MiB    gs://dsgt-clef-fungiclef-2024/data/parquet/DF20/part-00050-cc0df3a9-c0ff-4f41-a2cb-442f4aae0f0c-c000.snappy.parquet\n",
      "557.32MiB    gs://dsgt-clef-fungiclef-2024/data/parquet/DF20/part-00051-cc0df3a9-c0ff-4f41-a2cb-442f4aae0f0c-c000.snappy.parquet\n",
      "559.92MiB    gs://dsgt-clef-fungiclef-2024/data/parquet/DF20/part-00052-cc0df3a9-c0ff-4f41-a2cb-442f4aae0f0c-c000.snappy.parquet\n",
      "578.69MiB    gs://dsgt-clef-fungiclef-2024/data/parquet/DF20/part-00053-cc0df3a9-c0ff-4f41-a2cb-442f4aae0f0c-c000.snappy.parquet\n",
      "554.26MiB    gs://dsgt-clef-fungiclef-2024/data/parquet/DF20/part-00054-cc0df3a9-c0ff-4f41-a2cb-442f4aae0f0c-c000.snappy.parquet\n",
      "549.44MiB    gs://dsgt-clef-fungiclef-2024/data/parquet/DF20/part-00055-cc0df3a9-c0ff-4f41-a2cb-442f4aae0f0c-c000.snappy.parquet\n",
      "545.75MiB    gs://dsgt-clef-fungiclef-2024/data/parquet/DF20/part-00056-cc0df3a9-c0ff-4f41-a2cb-442f4aae0f0c-c000.snappy.parquet\n",
      "552.71MiB    gs://dsgt-clef-fungiclef-2024/data/parquet/DF20/part-00057-cc0df3a9-c0ff-4f41-a2cb-442f4aae0f0c-c000.snappy.parquet\n",
      "558.18MiB    gs://dsgt-clef-fungiclef-2024/data/parquet/DF20/part-00058-cc0df3a9-c0ff-4f41-a2cb-442f4aae0f0c-c000.snappy.parquet\n",
      "570.49MiB    gs://dsgt-clef-fungiclef-2024/data/parquet/DF20/part-00059-cc0df3a9-c0ff-4f41-a2cb-442f4aae0f0c-c000.snappy.parquet\n",
      "563.39MiB    gs://dsgt-clef-fungiclef-2024/data/parquet/DF20/part-00060-cc0df3a9-c0ff-4f41-a2cb-442f4aae0f0c-c000.snappy.parquet\n",
      "576.86MiB    gs://dsgt-clef-fungiclef-2024/data/parquet/DF20/part-00061-cc0df3a9-c0ff-4f41-a2cb-442f4aae0f0c-c000.snappy.parquet\n",
      "556.01MiB    gs://dsgt-clef-fungiclef-2024/data/parquet/DF20/part-00062-cc0df3a9-c0ff-4f41-a2cb-442f4aae0f0c-c000.snappy.parquet\n",
      "547.01MiB    gs://dsgt-clef-fungiclef-2024/data/parquet/DF20/part-00063-cc0df3a9-c0ff-4f41-a2cb-442f4aae0f0c-c000.snappy.parquet\n",
      "574.47MiB    gs://dsgt-clef-fungiclef-2024/data/parquet/DF20/part-00064-cc0df3a9-c0ff-4f41-a2cb-442f4aae0f0c-c000.snappy.parquet\n",
      "554.80MiB    gs://dsgt-clef-fungiclef-2024/data/parquet/DF20/part-00065-cc0df3a9-c0ff-4f41-a2cb-442f4aae0f0c-c000.snappy.parquet\n",
      "576.76MiB    gs://dsgt-clef-fungiclef-2024/data/parquet/DF20/part-00066-cc0df3a9-c0ff-4f41-a2cb-442f4aae0f0c-c000.snappy.parquet\n",
      "543.30MiB    gs://dsgt-clef-fungiclef-2024/data/parquet/DF20/part-00067-cc0df3a9-c0ff-4f41-a2cb-442f4aae0f0c-c000.snappy.parquet\n",
      "556.41MiB    gs://dsgt-clef-fungiclef-2024/data/parquet/DF20/part-00068-cc0df3a9-c0ff-4f41-a2cb-442f4aae0f0c-c000.snappy.parquet\n",
      "546.12MiB    gs://dsgt-clef-fungiclef-2024/data/parquet/DF20/part-00069-cc0df3a9-c0ff-4f41-a2cb-442f4aae0f0c-c000.snappy.parquet\n",
      "526.45MiB    gs://dsgt-clef-fungiclef-2024/data/parquet/DF20/part-00070-cc0df3a9-c0ff-4f41-a2cb-442f4aae0f0c-c000.snappy.parquet\n",
      "535.96MiB    gs://dsgt-clef-fungiclef-2024/data/parquet/DF20/part-00071-cc0df3a9-c0ff-4f41-a2cb-442f4aae0f0c-c000.snappy.parquet\n",
      "576.01MiB    gs://dsgt-clef-fungiclef-2024/data/parquet/DF20/part-00072-cc0df3a9-c0ff-4f41-a2cb-442f4aae0f0c-c000.snappy.parquet\n",
      "545.33MiB    gs://dsgt-clef-fungiclef-2024/data/parquet/DF20/part-00073-cc0df3a9-c0ff-4f41-a2cb-442f4aae0f0c-c000.snappy.parquet\n",
      "526.05MiB    gs://dsgt-clef-fungiclef-2024/data/parquet/DF20/part-00074-cc0df3a9-c0ff-4f41-a2cb-442f4aae0f0c-c000.snappy.parquet\n",
      "577.04MiB    gs://dsgt-clef-fungiclef-2024/data/parquet/DF20/part-00075-cc0df3a9-c0ff-4f41-a2cb-442f4aae0f0c-c000.snappy.parquet\n",
      "525.87MiB    gs://dsgt-clef-fungiclef-2024/data/parquet/DF20/part-00076-cc0df3a9-c0ff-4f41-a2cb-442f4aae0f0c-c000.snappy.parquet\n",
      "534.54MiB    gs://dsgt-clef-fungiclef-2024/data/parquet/DF20/part-00077-cc0df3a9-c0ff-4f41-a2cb-442f4aae0f0c-c000.snappy.parquet\n",
      "572.43MiB    gs://dsgt-clef-fungiclef-2024/data/parquet/DF20/part-00078-cc0df3a9-c0ff-4f41-a2cb-442f4aae0f0c-c000.snappy.parquet\n",
      "550.53MiB    gs://dsgt-clef-fungiclef-2024/data/parquet/DF20/part-00079-cc0df3a9-c0ff-4f41-a2cb-442f4aae0f0c-c000.snappy.parquet\n",
      "531.05MiB    gs://dsgt-clef-fungiclef-2024/data/parquet/DF20/part-00080-cc0df3a9-c0ff-4f41-a2cb-442f4aae0f0c-c000.snappy.parquet\n",
      "566.76MiB    gs://dsgt-clef-fungiclef-2024/data/parquet/DF20/part-00081-cc0df3a9-c0ff-4f41-a2cb-442f4aae0f0c-c000.snappy.parquet\n",
      "555.82MiB    gs://dsgt-clef-fungiclef-2024/data/parquet/DF20/part-00082-cc0df3a9-c0ff-4f41-a2cb-442f4aae0f0c-c000.snappy.parquet\n",
      "553.05MiB    gs://dsgt-clef-fungiclef-2024/data/parquet/DF20/part-00083-cc0df3a9-c0ff-4f41-a2cb-442f4aae0f0c-c000.snappy.parquet\n",
      "508.61MiB    gs://dsgt-clef-fungiclef-2024/data/parquet/DF20/part-00084-cc0df3a9-c0ff-4f41-a2cb-442f4aae0f0c-c000.snappy.parquet\n",
      "545.73MiB    gs://dsgt-clef-fungiclef-2024/data/parquet/DF20/part-00085-cc0df3a9-c0ff-4f41-a2cb-442f4aae0f0c-c000.snappy.parquet\n",
      "532.98MiB    gs://dsgt-clef-fungiclef-2024/data/parquet/DF20/part-00086-cc0df3a9-c0ff-4f41-a2cb-442f4aae0f0c-c000.snappy.parquet\n",
      "548.72MiB    gs://dsgt-clef-fungiclef-2024/data/parquet/DF20/part-00087-cc0df3a9-c0ff-4f41-a2cb-442f4aae0f0c-c000.snappy.parquet\n",
      "546.05MiB    gs://dsgt-clef-fungiclef-2024/data/parquet/DF20/part-00088-cc0df3a9-c0ff-4f41-a2cb-442f4aae0f0c-c000.snappy.parquet\n",
      "542.00MiB    gs://dsgt-clef-fungiclef-2024/data/parquet/DF20/part-00089-cc0df3a9-c0ff-4f41-a2cb-442f4aae0f0c-c000.snappy.parquet\n",
      "569.96MiB    gs://dsgt-clef-fungiclef-2024/data/parquet/DF20/part-00090-cc0df3a9-c0ff-4f41-a2cb-442f4aae0f0c-c000.snappy.parquet\n",
      "524.61MiB    gs://dsgt-clef-fungiclef-2024/data/parquet/DF20/part-00091-cc0df3a9-c0ff-4f41-a2cb-442f4aae0f0c-c000.snappy.parquet\n",
      "542.47MiB    gs://dsgt-clef-fungiclef-2024/data/parquet/DF20/part-00092-cc0df3a9-c0ff-4f41-a2cb-442f4aae0f0c-c000.snappy.parquet\n",
      "577.56MiB    gs://dsgt-clef-fungiclef-2024/data/parquet/DF20/part-00093-cc0df3a9-c0ff-4f41-a2cb-442f4aae0f0c-c000.snappy.parquet\n",
      "541.13MiB    gs://dsgt-clef-fungiclef-2024/data/parquet/DF20/part-00094-cc0df3a9-c0ff-4f41-a2cb-442f4aae0f0c-c000.snappy.parquet\n",
      "553.38MiB    gs://dsgt-clef-fungiclef-2024/data/parquet/DF20/part-00095-cc0df3a9-c0ff-4f41-a2cb-442f4aae0f0c-c000.snappy.parquet\n",
      "560.89MiB    gs://dsgt-clef-fungiclef-2024/data/parquet/DF20/part-00096-cc0df3a9-c0ff-4f41-a2cb-442f4aae0f0c-c000.snappy.parquet\n",
      "539.45MiB    gs://dsgt-clef-fungiclef-2024/data/parquet/DF20/part-00097-cc0df3a9-c0ff-4f41-a2cb-442f4aae0f0c-c000.snappy.parquet\n",
      "556.42MiB    gs://dsgt-clef-fungiclef-2024/data/parquet/DF20/part-00098-cc0df3a9-c0ff-4f41-a2cb-442f4aae0f0c-c000.snappy.parquet\n",
      "548.43MiB    gs://dsgt-clef-fungiclef-2024/data/parquet/DF20/part-00099-cc0df3a9-c0ff-4f41-a2cb-442f4aae0f0c-c000.snappy.parquet\n",
      "539.85MiB    gs://dsgt-clef-fungiclef-2024/data/parquet/DF20/part-00100-cc0df3a9-c0ff-4f41-a2cb-442f4aae0f0c-c000.snappy.parquet\n",
      "584.02MiB    gs://dsgt-clef-fungiclef-2024/data/parquet/DF20/part-00101-cc0df3a9-c0ff-4f41-a2cb-442f4aae0f0c-c000.snappy.parquet\n",
      "565.43MiB    gs://dsgt-clef-fungiclef-2024/data/parquet/DF20/part-00102-cc0df3a9-c0ff-4f41-a2cb-442f4aae0f0c-c000.snappy.parquet\n",
      "570.77MiB    gs://dsgt-clef-fungiclef-2024/data/parquet/DF20/part-00103-cc0df3a9-c0ff-4f41-a2cb-442f4aae0f0c-c000.snappy.parquet\n",
      "572.63MiB    gs://dsgt-clef-fungiclef-2024/data/parquet/DF20/part-00104-cc0df3a9-c0ff-4f41-a2cb-442f4aae0f0c-c000.snappy.parquet\n",
      "556.15MiB    gs://dsgt-clef-fungiclef-2024/data/parquet/DF20/part-00105-cc0df3a9-c0ff-4f41-a2cb-442f4aae0f0c-c000.snappy.parquet\n",
      "547.24MiB    gs://dsgt-clef-fungiclef-2024/data/parquet/DF20/part-00106-cc0df3a9-c0ff-4f41-a2cb-442f4aae0f0c-c000.snappy.parquet\n",
      "587.34MiB    gs://dsgt-clef-fungiclef-2024/data/parquet/DF20/part-00107-cc0df3a9-c0ff-4f41-a2cb-442f4aae0f0c-c000.snappy.parquet\n",
      "613.65MiB    gs://dsgt-clef-fungiclef-2024/data/parquet/DF20/part-00108-cc0df3a9-c0ff-4f41-a2cb-442f4aae0f0c-c000.snappy.parquet\n",
      "552.39MiB    gs://dsgt-clef-fungiclef-2024/data/parquet/DF20/part-00109-cc0df3a9-c0ff-4f41-a2cb-442f4aae0f0c-c000.snappy.parquet\n",
      "550.38MiB    gs://dsgt-clef-fungiclef-2024/data/parquet/DF20/part-00110-cc0df3a9-c0ff-4f41-a2cb-442f4aae0f0c-c000.snappy.parquet\n",
      "550.04MiB    gs://dsgt-clef-fungiclef-2024/data/parquet/DF20/part-00111-cc0df3a9-c0ff-4f41-a2cb-442f4aae0f0c-c000.snappy.parquet\n",
      "538.79MiB    gs://dsgt-clef-fungiclef-2024/data/parquet/DF20/part-00112-cc0df3a9-c0ff-4f41-a2cb-442f4aae0f0c-c000.snappy.parquet\n",
      "546.85MiB    gs://dsgt-clef-fungiclef-2024/data/parquet/DF20/part-00113-cc0df3a9-c0ff-4f41-a2cb-442f4aae0f0c-c000.snappy.parquet\n",
      "554.60MiB    gs://dsgt-clef-fungiclef-2024/data/parquet/DF20/part-00114-cc0df3a9-c0ff-4f41-a2cb-442f4aae0f0c-c000.snappy.parquet\n",
      "557.06MiB    gs://dsgt-clef-fungiclef-2024/data/parquet/DF20/part-00115-cc0df3a9-c0ff-4f41-a2cb-442f4aae0f0c-c000.snappy.parquet\n",
      "549.32MiB    gs://dsgt-clef-fungiclef-2024/data/parquet/DF20/part-00116-cc0df3a9-c0ff-4f41-a2cb-442f4aae0f0c-c000.snappy.parquet\n",
      "557.55MiB    gs://dsgt-clef-fungiclef-2024/data/parquet/DF20/part-00117-cc0df3a9-c0ff-4f41-a2cb-442f4aae0f0c-c000.snappy.parquet\n",
      "549.25MiB    gs://dsgt-clef-fungiclef-2024/data/parquet/DF20/part-00118-cc0df3a9-c0ff-4f41-a2cb-442f4aae0f0c-c000.snappy.parquet\n",
      "545.27MiB    gs://dsgt-clef-fungiclef-2024/data/parquet/DF20/part-00119-cc0df3a9-c0ff-4f41-a2cb-442f4aae0f0c-c000.snappy.parquet\n",
      "581.19MiB    gs://dsgt-clef-fungiclef-2024/data/parquet/DF20/part-00120-cc0df3a9-c0ff-4f41-a2cb-442f4aae0f0c-c000.snappy.parquet\n",
      "555.77MiB    gs://dsgt-clef-fungiclef-2024/data/parquet/DF20/part-00121-cc0df3a9-c0ff-4f41-a2cb-442f4aae0f0c-c000.snappy.parquet\n",
      "569.56MiB    gs://dsgt-clef-fungiclef-2024/data/parquet/DF20/part-00122-cc0df3a9-c0ff-4f41-a2cb-442f4aae0f0c-c000.snappy.parquet\n",
      "558.55MiB    gs://dsgt-clef-fungiclef-2024/data/parquet/DF20/part-00123-cc0df3a9-c0ff-4f41-a2cb-442f4aae0f0c-c000.snappy.parquet\n",
      "543.07MiB    gs://dsgt-clef-fungiclef-2024/data/parquet/DF20/part-00124-cc0df3a9-c0ff-4f41-a2cb-442f4aae0f0c-c000.snappy.parquet\n",
      "568.73MiB    gs://dsgt-clef-fungiclef-2024/data/parquet/DF20/part-00125-cc0df3a9-c0ff-4f41-a2cb-442f4aae0f0c-c000.snappy.parquet\n",
      "582.52MiB    gs://dsgt-clef-fungiclef-2024/data/parquet/DF20/part-00126-cc0df3a9-c0ff-4f41-a2cb-442f4aae0f0c-c000.snappy.parquet\n",
      "551.49MiB    gs://dsgt-clef-fungiclef-2024/data/parquet/DF20/part-00127-cc0df3a9-c0ff-4f41-a2cb-442f4aae0f0c-c000.snappy.parquet\n",
      "544.27MiB    gs://dsgt-clef-fungiclef-2024/data/parquet/DF20/part-00128-cc0df3a9-c0ff-4f41-a2cb-442f4aae0f0c-c000.snappy.parquet\n",
      "545.67MiB    gs://dsgt-clef-fungiclef-2024/data/parquet/DF20/part-00129-cc0df3a9-c0ff-4f41-a2cb-442f4aae0f0c-c000.snappy.parquet\n",
      "571.71MiB    gs://dsgt-clef-fungiclef-2024/data/parquet/DF20/part-00130-cc0df3a9-c0ff-4f41-a2cb-442f4aae0f0c-c000.snappy.parquet\n",
      "541.37MiB    gs://dsgt-clef-fungiclef-2024/data/parquet/DF20/part-00131-cc0df3a9-c0ff-4f41-a2cb-442f4aae0f0c-c000.snappy.parquet\n",
      "544.85MiB    gs://dsgt-clef-fungiclef-2024/data/parquet/DF20/part-00132-cc0df3a9-c0ff-4f41-a2cb-442f4aae0f0c-c000.snappy.parquet\n",
      "530.38MiB    gs://dsgt-clef-fungiclef-2024/data/parquet/DF20/part-00133-cc0df3a9-c0ff-4f41-a2cb-442f4aae0f0c-c000.snappy.parquet\n",
      "582.09MiB    gs://dsgt-clef-fungiclef-2024/data/parquet/DF20/part-00134-cc0df3a9-c0ff-4f41-a2cb-442f4aae0f0c-c000.snappy.parquet\n",
      "542.43MiB    gs://dsgt-clef-fungiclef-2024/data/parquet/DF20/part-00135-cc0df3a9-c0ff-4f41-a2cb-442f4aae0f0c-c000.snappy.parquet\n",
      "533.84MiB    gs://dsgt-clef-fungiclef-2024/data/parquet/DF20/part-00136-cc0df3a9-c0ff-4f41-a2cb-442f4aae0f0c-c000.snappy.parquet\n",
      "555.34MiB    gs://dsgt-clef-fungiclef-2024/data/parquet/DF20/part-00137-cc0df3a9-c0ff-4f41-a2cb-442f4aae0f0c-c000.snappy.parquet\n",
      "570.24MiB    gs://dsgt-clef-fungiclef-2024/data/parquet/DF20/part-00138-cc0df3a9-c0ff-4f41-a2cb-442f4aae0f0c-c000.snappy.parquet\n",
      "538.85MiB    gs://dsgt-clef-fungiclef-2024/data/parquet/DF20/part-00139-cc0df3a9-c0ff-4f41-a2cb-442f4aae0f0c-c000.snappy.parquet\n",
      "534.10MiB    gs://dsgt-clef-fungiclef-2024/data/parquet/DF20/part-00140-cc0df3a9-c0ff-4f41-a2cb-442f4aae0f0c-c000.snappy.parquet\n",
      "568.18MiB    gs://dsgt-clef-fungiclef-2024/data/parquet/DF20/part-00141-cc0df3a9-c0ff-4f41-a2cb-442f4aae0f0c-c000.snappy.parquet\n",
      "553.54MiB    gs://dsgt-clef-fungiclef-2024/data/parquet/DF20/part-00142-cc0df3a9-c0ff-4f41-a2cb-442f4aae0f0c-c000.snappy.parquet\n",
      "573.55MiB    gs://dsgt-clef-fungiclef-2024/data/parquet/DF20/part-00143-cc0df3a9-c0ff-4f41-a2cb-442f4aae0f0c-c000.snappy.parquet\n",
      "574.06MiB    gs://dsgt-clef-fungiclef-2024/data/parquet/DF20/part-00144-cc0df3a9-c0ff-4f41-a2cb-442f4aae0f0c-c000.snappy.parquet\n",
      "567.04MiB    gs://dsgt-clef-fungiclef-2024/data/parquet/DF20/part-00145-cc0df3a9-c0ff-4f41-a2cb-442f4aae0f0c-c000.snappy.parquet\n",
      "531.73MiB    gs://dsgt-clef-fungiclef-2024/data/parquet/DF20/part-00146-cc0df3a9-c0ff-4f41-a2cb-442f4aae0f0c-c000.snappy.parquet\n",
      "565.38MiB    gs://dsgt-clef-fungiclef-2024/data/parquet/DF20/part-00147-cc0df3a9-c0ff-4f41-a2cb-442f4aae0f0c-c000.snappy.parquet\n",
      "600.40MiB    gs://dsgt-clef-fungiclef-2024/data/parquet/DF20/part-00148-cc0df3a9-c0ff-4f41-a2cb-442f4aae0f0c-c000.snappy.parquet\n",
      "540.81MiB    gs://dsgt-clef-fungiclef-2024/data/parquet/DF20/part-00149-cc0df3a9-c0ff-4f41-a2cb-442f4aae0f0c-c000.snappy.parquet\n",
      "579.97MiB    gs://dsgt-clef-fungiclef-2024/data/parquet/DF20/part-00150-cc0df3a9-c0ff-4f41-a2cb-442f4aae0f0c-c000.snappy.parquet\n",
      "535.08MiB    gs://dsgt-clef-fungiclef-2024/data/parquet/DF20/part-00151-cc0df3a9-c0ff-4f41-a2cb-442f4aae0f0c-c000.snappy.parquet\n",
      "574.73MiB    gs://dsgt-clef-fungiclef-2024/data/parquet/DF20/part-00152-cc0df3a9-c0ff-4f41-a2cb-442f4aae0f0c-c000.snappy.parquet\n",
      "581.46MiB    gs://dsgt-clef-fungiclef-2024/data/parquet/DF20/part-00153-cc0df3a9-c0ff-4f41-a2cb-442f4aae0f0c-c000.snappy.parquet\n",
      "545.69MiB    gs://dsgt-clef-fungiclef-2024/data/parquet/DF20/part-00154-cc0df3a9-c0ff-4f41-a2cb-442f4aae0f0c-c000.snappy.parquet\n",
      "545.34MiB    gs://dsgt-clef-fungiclef-2024/data/parquet/DF20/part-00155-cc0df3a9-c0ff-4f41-a2cb-442f4aae0f0c-c000.snappy.parquet\n",
      "541.41MiB    gs://dsgt-clef-fungiclef-2024/data/parquet/DF20/part-00156-cc0df3a9-c0ff-4f41-a2cb-442f4aae0f0c-c000.snappy.parquet\n",
      "579.21MiB    gs://dsgt-clef-fungiclef-2024/data/parquet/DF20/part-00157-cc0df3a9-c0ff-4f41-a2cb-442f4aae0f0c-c000.snappy.parquet\n",
      "577.04MiB    gs://dsgt-clef-fungiclef-2024/data/parquet/DF20/part-00158-cc0df3a9-c0ff-4f41-a2cb-442f4aae0f0c-c000.snappy.parquet\n",
      "541.72MiB    gs://dsgt-clef-fungiclef-2024/data/parquet/DF20/part-00159-cc0df3a9-c0ff-4f41-a2cb-442f4aae0f0c-c000.snappy.parquet\n",
      "557.14MiB    gs://dsgt-clef-fungiclef-2024/data/parquet/DF20/part-00160-cc0df3a9-c0ff-4f41-a2cb-442f4aae0f0c-c000.snappy.parquet\n",
      "561.65MiB    gs://dsgt-clef-fungiclef-2024/data/parquet/DF20/part-00161-cc0df3a9-c0ff-4f41-a2cb-442f4aae0f0c-c000.snappy.parquet\n",
      "560.75MiB    gs://dsgt-clef-fungiclef-2024/data/parquet/DF20/part-00162-cc0df3a9-c0ff-4f41-a2cb-442f4aae0f0c-c000.snappy.parquet\n",
      "545.49MiB    gs://dsgt-clef-fungiclef-2024/data/parquet/DF20/part-00163-cc0df3a9-c0ff-4f41-a2cb-442f4aae0f0c-c000.snappy.parquet\n",
      "548.65MiB    gs://dsgt-clef-fungiclef-2024/data/parquet/DF20/part-00164-cc0df3a9-c0ff-4f41-a2cb-442f4aae0f0c-c000.snappy.parquet\n",
      "549.44MiB    gs://dsgt-clef-fungiclef-2024/data/parquet/DF20/part-00165-cc0df3a9-c0ff-4f41-a2cb-442f4aae0f0c-c000.snappy.parquet\n",
      "588.14MiB    gs://dsgt-clef-fungiclef-2024/data/parquet/DF20/part-00166-cc0df3a9-c0ff-4f41-a2cb-442f4aae0f0c-c000.snappy.parquet\n",
      "567.95MiB    gs://dsgt-clef-fungiclef-2024/data/parquet/DF20/part-00167-cc0df3a9-c0ff-4f41-a2cb-442f4aae0f0c-c000.snappy.parquet\n",
      "570.11MiB    gs://dsgt-clef-fungiclef-2024/data/parquet/DF20/part-00168-cc0df3a9-c0ff-4f41-a2cb-442f4aae0f0c-c000.snappy.parquet\n",
      "572.11MiB    gs://dsgt-clef-fungiclef-2024/data/parquet/DF20/part-00169-cc0df3a9-c0ff-4f41-a2cb-442f4aae0f0c-c000.snappy.parquet\n",
      "539.13MiB    gs://dsgt-clef-fungiclef-2024/data/parquet/DF20/part-00170-cc0df3a9-c0ff-4f41-a2cb-442f4aae0f0c-c000.snappy.parquet\n",
      "537.77MiB    gs://dsgt-clef-fungiclef-2024/data/parquet/DF20/part-00171-cc0df3a9-c0ff-4f41-a2cb-442f4aae0f0c-c000.snappy.parquet\n",
      "575.24MiB    gs://dsgt-clef-fungiclef-2024/data/parquet/DF20/part-00172-cc0df3a9-c0ff-4f41-a2cb-442f4aae0f0c-c000.snappy.parquet\n",
      "578.76MiB    gs://dsgt-clef-fungiclef-2024/data/parquet/DF20/part-00173-cc0df3a9-c0ff-4f41-a2cb-442f4aae0f0c-c000.snappy.parquet\n",
      "556.18MiB    gs://dsgt-clef-fungiclef-2024/data/parquet/DF20/part-00174-cc0df3a9-c0ff-4f41-a2cb-442f4aae0f0c-c000.snappy.parquet\n",
      "548.81MiB    gs://dsgt-clef-fungiclef-2024/data/parquet/DF20/part-00175-cc0df3a9-c0ff-4f41-a2cb-442f4aae0f0c-c000.snappy.parquet\n",
      "564.92MiB    gs://dsgt-clef-fungiclef-2024/data/parquet/DF20/part-00176-cc0df3a9-c0ff-4f41-a2cb-442f4aae0f0c-c000.snappy.parquet\n",
      "564.00MiB    gs://dsgt-clef-fungiclef-2024/data/parquet/DF20/part-00177-cc0df3a9-c0ff-4f41-a2cb-442f4aae0f0c-c000.snappy.parquet\n",
      "592.59MiB    gs://dsgt-clef-fungiclef-2024/data/parquet/DF20/part-00178-cc0df3a9-c0ff-4f41-a2cb-442f4aae0f0c-c000.snappy.parquet\n",
      "551.75MiB    gs://dsgt-clef-fungiclef-2024/data/parquet/DF20/part-00179-cc0df3a9-c0ff-4f41-a2cb-442f4aae0f0c-c000.snappy.parquet\n",
      "569.52MiB    gs://dsgt-clef-fungiclef-2024/data/parquet/DF20/part-00180-cc0df3a9-c0ff-4f41-a2cb-442f4aae0f0c-c000.snappy.parquet\n",
      "568.33MiB    gs://dsgt-clef-fungiclef-2024/data/parquet/DF20/part-00181-cc0df3a9-c0ff-4f41-a2cb-442f4aae0f0c-c000.snappy.parquet\n",
      "580.44MiB    gs://dsgt-clef-fungiclef-2024/data/parquet/DF20/part-00182-cc0df3a9-c0ff-4f41-a2cb-442f4aae0f0c-c000.snappy.parquet\n",
      "564.26MiB    gs://dsgt-clef-fungiclef-2024/data/parquet/DF20/part-00183-cc0df3a9-c0ff-4f41-a2cb-442f4aae0f0c-c000.snappy.parquet\n",
      "533.48MiB    gs://dsgt-clef-fungiclef-2024/data/parquet/DF20/part-00184-cc0df3a9-c0ff-4f41-a2cb-442f4aae0f0c-c000.snappy.parquet\n",
      "573.60MiB    gs://dsgt-clef-fungiclef-2024/data/parquet/DF20/part-00185-cc0df3a9-c0ff-4f41-a2cb-442f4aae0f0c-c000.snappy.parquet\n",
      "560.11MiB    gs://dsgt-clef-fungiclef-2024/data/parquet/DF20/part-00186-cc0df3a9-c0ff-4f41-a2cb-442f4aae0f0c-c000.snappy.parquet\n",
      "554.57MiB    gs://dsgt-clef-fungiclef-2024/data/parquet/DF20/part-00187-cc0df3a9-c0ff-4f41-a2cb-442f4aae0f0c-c000.snappy.parquet\n",
      "577.55MiB    gs://dsgt-clef-fungiclef-2024/data/parquet/DF20/part-00188-cc0df3a9-c0ff-4f41-a2cb-442f4aae0f0c-c000.snappy.parquet\n",
      "545.22MiB    gs://dsgt-clef-fungiclef-2024/data/parquet/DF20/part-00189-cc0df3a9-c0ff-4f41-a2cb-442f4aae0f0c-c000.snappy.parquet\n",
      "562.27MiB    gs://dsgt-clef-fungiclef-2024/data/parquet/DF20/part-00190-cc0df3a9-c0ff-4f41-a2cb-442f4aae0f0c-c000.snappy.parquet\n",
      "569.48MiB    gs://dsgt-clef-fungiclef-2024/data/parquet/DF20/part-00191-cc0df3a9-c0ff-4f41-a2cb-442f4aae0f0c-c000.snappy.parquet\n",
      "557.39MiB    gs://dsgt-clef-fungiclef-2024/data/parquet/DF20/part-00192-cc0df3a9-c0ff-4f41-a2cb-442f4aae0f0c-c000.snappy.parquet\n",
      "575.11MiB    gs://dsgt-clef-fungiclef-2024/data/parquet/DF20/part-00193-cc0df3a9-c0ff-4f41-a2cb-442f4aae0f0c-c000.snappy.parquet\n",
      "568.86MiB    gs://dsgt-clef-fungiclef-2024/data/parquet/DF20/part-00194-cc0df3a9-c0ff-4f41-a2cb-442f4aae0f0c-c000.snappy.parquet\n",
      "550.62MiB    gs://dsgt-clef-fungiclef-2024/data/parquet/DF20/part-00195-cc0df3a9-c0ff-4f41-a2cb-442f4aae0f0c-c000.snappy.parquet\n",
      "521.85MiB    gs://dsgt-clef-fungiclef-2024/data/parquet/DF20/part-00196-cc0df3a9-c0ff-4f41-a2cb-442f4aae0f0c-c000.snappy.parquet\n",
      "608.58MiB    gs://dsgt-clef-fungiclef-2024/data/parquet/DF20/part-00197-cc0df3a9-c0ff-4f41-a2cb-442f4aae0f0c-c000.snappy.parquet\n",
      "555.71MiB    gs://dsgt-clef-fungiclef-2024/data/parquet/DF20/part-00198-cc0df3a9-c0ff-4f41-a2cb-442f4aae0f0c-c000.snappy.parquet\n",
      "551.28MiB    gs://dsgt-clef-fungiclef-2024/data/parquet/DF20/part-00199-cc0df3a9-c0ff-4f41-a2cb-442f4aae0f0c-c000.snappy.parquet\n",
      "108.83GiB    gs://dsgt-clef-fungiclef-2024/data/parquet/DF20/\n"
     ]
    }
   ],
   "source": [
    "# Get list of stored filed in cloud bucket\n",
    "root = \"gs://dsgt-clef-fungiclef-2024\"\n",
    "! date\n",
    "! gcloud storage du --readable-sizes {root}/data/parquet/DF20\n"
   ]
  },
  {
   "cell_type": "code",
   "execution_count": 6,
   "metadata": {},
   "outputs": [
    {
     "name": "stderr",
     "output_type": "stream",
     "text": [
      "                                                                                \r"
     ]
    },
    {
     "name": "stdout",
     "output_type": "stream",
     "text": [
      "root\n",
      " |-- image_path: string (nullable = true)\n",
      " |-- data: binary (nullable = true)\n",
      " |-- observationID: long (nullable = true)\n",
      " |-- year: double (nullable = true)\n",
      " |-- month: double (nullable = true)\n",
      " |-- day: double (nullable = true)\n",
      " |-- countryCode: string (nullable = true)\n",
      " |-- locality: string (nullable = true)\n",
      " |-- taxonID: double (nullable = true)\n",
      " |-- scientificName: string (nullable = true)\n",
      " |-- kingdom: string (nullable = true)\n",
      " |-- phylum: string (nullable = true)\n",
      " |-- class: string (nullable = true)\n",
      " |-- order: string (nullable = true)\n",
      " |-- family: string (nullable = true)\n",
      " |-- genus: string (nullable = true)\n",
      " |-- specificEpithet: string (nullable = true)\n",
      " |-- taxonRank: string (nullable = true)\n",
      " |-- species: string (nullable = true)\n",
      " |-- level0Gid: string (nullable = true)\n",
      " |-- level0Name: string (nullable = true)\n",
      " |-- level1Gid: string (nullable = true)\n",
      " |-- level1Name: string (nullable = true)\n",
      " |-- level2Gid: string (nullable = true)\n",
      " |-- level2Name: string (nullable = true)\n",
      " |-- ImageUniqueID: string (nullable = true)\n",
      " |-- Substrate: string (nullable = true)\n",
      " |-- rightsHolder: string (nullable = true)\n",
      " |-- Latitude: double (nullable = true)\n",
      " |-- Longitude: double (nullable = true)\n",
      " |-- CoorUncert: double (nullable = true)\n",
      " |-- Habitat: string (nullable = true)\n",
      " |-- class_id: integer (nullable = true)\n",
      " |-- MetaSubstrate: string (nullable = true)\n",
      " |-- poisonous: integer (nullable = true)\n",
      "\n"
     ]
    },
    {
     "name": "stderr",
     "output_type": "stream",
     "text": [
      "                                                                                \r"
     ]
    },
    {
     "data": {
      "text/plain": [
       "295938"
      ]
     },
     "execution_count": 6,
     "metadata": {},
     "output_type": "execute_result"
    }
   ],
   "source": [
    "\n",
    "# gcs_parquet_path = \"gs://dsgt-clef-fungiclef-2024/dev/train/\"\n",
    "# input_folder = f\"dev_train.parquet\"\n",
    "\n",
    "gcs_parquet_path = \"gs://dsgt-clef-fungiclef-2024/data/parquet/\"\n",
    "input_folder = f\"DF20\"\n",
    "\n",
    "dev_df = spark.read.parquet(gcs_parquet_path+input_folder)\n",
    "dev_df.printSchema()\n",
    "dev_df.count()"
   ]
  },
  {
   "cell_type": "code",
   "execution_count": 7,
   "metadata": {},
   "outputs": [
    {
     "name": "stderr",
     "output_type": "stream",
     "text": [
      "/home/teresakim/.local/lib/python3.10/site-packages/torchvision/models/_utils.py:208: UserWarning: The parameter 'pretrained' is deprecated since 0.13 and may be removed in the future, please use 'weights' instead.\n",
      "  warnings.warn(\n",
      "/home/teresakim/.local/lib/python3.10/site-packages/torchvision/models/_utils.py:223: UserWarning: Arguments other than a weight enum or `None` for 'weights' are deprecated since 0.13 and may be removed in the future. The current behavior is equivalent to passing `weights=ResNet18_Weights.IMAGENET1K_V1`. You can also use `weights=ResNet18_Weights.DEFAULT` to get the most up-to-date weights.\n",
      "  warnings.warn(msg)\n"
     ]
    }
   ],
   "source": [
    "import torchvision.models as models\n",
    "import torchvision.transforms as transforms\n",
    "from PIL import Image\n",
    "import torch\n",
    "import io\n",
    "\n",
    "# load pretrained model\n",
    "model = models.resnet18(pretrained=True).eval()"
   ]
  },
  {
   "cell_type": "code",
   "execution_count": 8,
   "metadata": {},
   "outputs": [],
   "source": [
    "# transformation for image preprocessing\n",
    "transform = transforms.Compose([\n",
    "    transforms.Resize(256), # 256x256 px\n",
    "    transforms.CenterCrop(224), # going with common crop size, haven't messed with it\n",
    "    transforms.ToTensor(),\n",
    "    transforms.Normalize(mean=[0.485, 0.456, 0.406], std=[0.229, 0.224, 0.225]),\n",
    "])"
   ]
  },
  {
   "cell_type": "code",
   "execution_count": 9,
   "metadata": {},
   "outputs": [],
   "source": [
    "# UDF to convert binary image data to embedding\n",
    "def binary_image_to_embedding(image_data):\n",
    "    img = Image.open(io.BytesIO(image_data))\n",
    "    # ensure the image is in RGB format\n",
    "    if img.mode != 'RGB':\n",
    "        img = img.convert('RGB')\n",
    "    img_t = transform(img)\n",
    "    batch_t = torch.unsqueeze(img_t, 0)\n",
    "    with torch.no_grad():\n",
    "        embedding = model(batch_t)\n",
    "   \n",
    "    return embedding.cpu().numpy().flatten().tolist()"
   ]
  },
  {
   "cell_type": "code",
   "execution_count": 10,
   "metadata": {},
   "outputs": [],
   "source": [
    "# register UDF with the appropriate return type\n",
    "binary_to_embedding_udf = udf(binary_image_to_embedding, ArrayType(FloatType()))"
   ]
  },
  {
   "cell_type": "code",
   "execution_count": 11,
   "metadata": {},
   "outputs": [],
   "source": [
    "# apply UDF\n",
    "df_with_embeddings = dev_df.withColumn(\"embeddings\", binary_to_embedding_udf(dev_df[\"data\"]))"
   ]
  },
  {
   "cell_type": "code",
   "execution_count": 12,
   "metadata": {},
   "outputs": [
    {
     "name": "stderr",
     "output_type": "stream",
     "text": [
      "24/04/19 06:15:56 WARN SparkStringUtils: Truncated the string representation of a plan since it was too large. This behavior can be adjusted by setting 'spark.sql.debug.maxToStringFields'.\n",
      "                                                                                \r"
     ]
    },
    {
     "name": "stdout",
     "output_type": "stream",
     "text": [
      "+--------------------+--------------------+-------------+------+-----+----+-----------+--------------------+-------+--------------------+-------+-------------+---------------+---------------+-----------------+--------------+---------------+---------+--------------------+---------+----------+---------+-----------+----------+--------------+-----------------+--------------------+-------------------+------------------+---------+----------+--------------------+--------+-------------+---------+--------------------+\n",
      "|          image_path|                data|observationID|  year|month| day|countryCode|            locality|taxonID|      scientificName|kingdom|       phylum|          class|          order|           family|         genus|specificEpithet|taxonRank|             species|level0Gid|level0Name|level1Gid| level1Name| level2Gid|    level2Name|    ImageUniqueID|           Substrate|       rightsHolder|          Latitude|Longitude|CoorUncert|             Habitat|class_id|MetaSubstrate|poisonous|          embeddings|\n",
      "+--------------------+--------------------+-------------+------+-----+----+-----------+--------------------+-------+--------------------+-------+-------------+---------------+---------------+-----------------+--------------+---------------+---------+--------------------+---------+----------+---------+-----------+----------+--------------+-----------------+--------------------+-------------------+------------------+---------+----------+--------------------+--------+-------------+---------+--------------------+\n",
      "|2237852555-148572...|[FF D8 FF E0 00 1...|   2237852555|2019.0|  1.0|17.0|         DK|      Vibæk Plantage|46180.0|Phellinus pomaceu...|  Fungi|Basidiomycota| Agaricomycetes|Hymenochaetales| Hymenochaetaceae|     Phellinus|       pomaceus|  SPECIES|  Phellinus pomaceus|      DNK|   Denmark|  DNK.2_1|Midtjylland|DNK.2.18_1|      Syddjurs|2237852555-148572|bark of living trees|Jørgen Christiansen|         56.214652|10.679904|      25.0|            roadside|    1121|         wood|        0|[4.268047, -0.339...|\n",
      "|2237852674-74828.JPG|[FF D8 FF E0 00 1...|   2237852674|2017.0|  1.0|25.0|         DK|     Kærbølling Huse|60852.0|Lyomyces sambuci ...|  Fungi|Basidiomycota| Agaricomycetes|Hymenochaetales|   Schizoporaceae|       Xylodon|        sambuci|  SPECIES|     Xylodon sambuci|      DNK|   Denmark|  DNK.5_1| Syddanmark|DNK.5.22_1|         Vejle| 2237852674-74828|dead wood (includ...|     Ken A. Alminde|         55.706164| 9.427971|      10.0|            hedgerow|     889|         wood|        0|[1.6751333, 0.729...|\n",
      "|2237852822-298071...|[FF D8 FF E0 00 1...|   2237852822|2019.0|  1.0|14.0|         DK|            Løvehave|68919.0|Trichoderma europ...|  Fungi|   Ascomycota|Sordariomycetes|    Hypocreales|     Hypocreaceae|   Trichoderma|      europaeum|  SPECIES|Trichoderma europ...|      DNK|   Denmark|  DNK.5_1| Syddanmark|DNK.5.18_1|     Svendborg|2237852822-298071|dead wood (includ...|          Dan Schou| 55.09018199999999|10.534475|      50.0|Mixed woodland (w...|    1500|         wood|        0|[-1.4942957, 1.33...|\n",
      "|2237852854-74853.JPG|[FF D8 FF E0 00 1...|   2237852854|2019.0|  1.0|19.0|         DK|         Syltemade Å|14062.0|Fomes fomentarius...|  Fungi|Basidiomycota| Agaricomycetes|    Polyporales|     Polyporaceae|         Fomes|    fomentarius|  SPECIES|   Fomes fomentarius|      DNK|   Denmark|  DNK.5_1| Syddanmark|DNK.5.18_1|     Svendborg| 2237852854-74853|dead wood (includ...|          Dan Schou|55.059053000000006| 10.45625|      50.0|        Bog woodland|     489|         wood|        0|[-1.1896551, -2.3...|\n",
      "|  2237852973-255.JPG|[FF D8 FF E0 00 1...|   2237852973|2019.0|  1.0|17.0|         DK|    Listrup Skovgård|20978.0|Trametes hirsuta ...|  Fungi|Basidiomycota| Agaricomycetes|    Polyporales|     Polyporaceae|      Trametes|        hirsuta|  SPECIES|    Trametes hirsuta|      DNK|   Denmark|  DNK.4_1|   Sjælland| DNK.4.3_1|  Guldborgsund|   2237852973-255|dead wood (includ...|         Rita Forup|         54.819901|11.949009|      25.0|Mixed woodland (w...|    1483|         wood|        0|[1.2282714, -1.13...|\n",
      "|2237853507-298195...|[FF D8 FF E0 00 1...|   2237853507|2019.0|  1.0|20.0|         DK|           Sindbjerg|18474.0|Phlebiopsis gigan...|  Fungi|Basidiomycota| Agaricomycetes|    Polyporales|Phanerochaetaceae|   Phlebiopsis|       gigantea|  SPECIES|Phlebiopsis gigantea|      DNK|   Denmark|  DNK.2_1|Midtjylland|DNK.2.14_1|     Silkeborg|2237853507-298195|dead wood (includ...|  Morten Strandberg|         56.150163| 9.612565|      25.0|Mixed woodland (w...|    1131|         wood|        0|[-1.7030622, -0.0...|\n",
      "|2237853529-74983.JPG|[FF D8 FF E0 00 1...|   2237853529|1991.0|  7.0|20.0|         DK|Jægersborg Strand...|20068.0|Russula solaris F...|  Fungi|Basidiomycota| Agaricomycetes|     Russulales|      Russulaceae|       Russula|        solaris|  SPECIES|     Russula solaris|      DNK|   Denmark|  DNK.1_1|Hovedstaden|DNK.1.26_1|Lyngby-Taarbæk| 2237853529-74983|                soil|     Benny T. Olsen|          55.80514|12.585268|      75.0|     park/churchyard|    1374|         jord|        0|[2.8049154, 2.709...|\n",
      "|  2237853748-432.JPG|[FF D8 FF E0 00 1...|   2237853748|1991.0|  6.0| 5.0|         DK|Vestamager Golfbaner|18260.0|Peziza vesiculosa...|  Fungi|   Ascomycota|  Pezizomycetes|      Pezizales|       Pezizaceae|        Peziza|     vesiculosa|  SPECIES|   Peziza vesiculosa|      DNK|   Denmark|  DNK.1_1|Hovedstaden|DNK.1.25_1|     København|   2237853748-432|              faeces|     Benny T. Olsen|          55.63725|12.567759|      75.0|            roadside|    1105|      animals|        0|[2.1311731, -0.99...|\n",
      "|2237854121-223129...|[FF D8 FF E0 00 1...|   2237854121|2019.0|  2.0| 6.0|         DK|            Eskemose|20171.0|Sarcoscypha austr...|  Fungi|   Ascomycota|  Pezizomycetes|      Pezizales|  Sarcoscyphaceae|   Sarcoscypha|      austriaca|  SPECIES|Sarcoscypha austr...|      DNK|   Denmark|  DNK.5_1| Syddanmark|DNK.5.18_1|     Svendborg|2237854121-223129|                soil|          Dan Schou| 55.04874100000001|10.472095|      25.0|Mixed woodland (w...|    1396|         jord|        0|[0.511717, 4.1926...|\n",
      "|2237854530-149021...|[FF D8 FF E0 00 1...|   2237854530|2018.0|  7.0|21.0|         DK|       Rantzausminde|16907.0|Meripilus gigante...|  Fungi|Basidiomycota| Agaricomycetes|    Polyporales|     Meripilaceae|     Meripilus|      giganteus|  SPECIES| Meripilus giganteus|      DNK|   Denmark|  DNK.5_1| Syddanmark|DNK.5.18_1|     Svendborg|2237854530-149021|wood and roots of...|          Dan Schou|          55.03861|10.560822|      25.0|Mixed woodland (w...|     931|         wood|        0|[4.6195507, 2.357...|\n",
      "|2237854661-223262...|[FF D8 FF E0 00 1...|   2237854661|2019.0|  2.0| 7.0|         DK|      Vibæk Plantage|63869.0|Illosporiopsis ch...|  Fungi|   Ascomycota|Sordariomycetes|    Hypocreales|             NULL|Illosporiopsis| christiansenii|  SPECIES|Illosporiopsis ch...|      DNK|   Denmark|  DNK.2_1|Midtjylland|DNK.2.18_1|      Syddjurs|2237854661-223262|dead wood (includ...|Jørgen Christiansen|         56.214926|10.681149|      25.0|    Willow scrubland|     710|         wood|        0|[-3.625652, 1.890...|\n",
      "|2237854689-75238.JPG|[FF D8 FF E0 00 1...|   2237854689|2019.0|  2.0|12.0|         DK|Stenodde Skov, Tå...|13002.0|Daedalea quercina...|  Fungi|Basidiomycota| Agaricomycetes|    Polyporales|  Fomitopsidaceae|      Daedalea|       quercina|  SPECIES|   Daedalea quercina|      DNK|   Denmark|  DNK.5_1| Syddanmark|DNK.5.18_1|     Svendborg| 2237854689-75238|dead wood (includ...|          Dan Schou| 54.99371800000001|10.688839|      75.0|  Deciduous woodland|     386|         wood|        0|[0.92044896, -0.4...|\n",
      "|2237854799-75268.JPG|[FF D8 FF E0 00 1...|   2237854799|2019.0|  2.0|11.0|         DK|      Bellahøjparken|15544.0|Ischnoderma resin...|  Fungi|Basidiomycota| Agaricomycetes|    Polyporales|  Fomitopsidaceae|   Ischnoderma|      resinosum|  SPECIES|Ischnoderma resin...|      DNK|   Denmark|  DNK.1_1|Hovedstaden|DNK.1.25_1|     København| 2237854799-75268|dead wood (includ...|       Anders Adams|         55.702175|12.509742|      15.0|     park/churchyard|     739|         wood|        0|[4.1013136, 3.570...|\n",
      "|2237854910-149113...|[FF D8 FF E0 00 1...|   2237854910|2019.0|  2.0| 8.0|         DK|     Fruens Plantage|18043.0|Peniophora incarn...|  Fungi|Basidiomycota| Agaricomycetes|     Russulales|   Peniophoraceae|    Peniophora|      incarnata|  SPECIES|Peniophora incarnata|      DNK|   Denmark|  DNK.4_1|   Sjælland| DNK.4.9_1|       Næstved|2237854910-149113|dead wood (includ...|       Frede Scheye|         55.213402|11.788182|      15.0|Mixed woodland (w...|    1088|         wood|        0|[-2.6742358, -0.7...|\n",
      "|2237854969-75302.JPG|[FF D8 FF E0 00 1...|   2237854969|2019.0|  2.0| 3.0|         DK|Vesterbølle Plantage|30699.0|Parmelia submonta...|  Fungi|   Ascomycota|Lecanoromycetes|    Lecanorales|     Parmeliaceae|      Parmelia|     submontana|  SPECIES| Parmelia submontana|      DNK|   Denmark|  DNK.3_1|Nordjylland|DNK.3.11_1|Vesthimmerland| 2237854969-75302|bark of living trees|     Birgit Knudsen|         56.725026| 9.385305|       5.0|Mixed woodland (w...|    1072|         wood|        0|[-0.39730686, 3.3...|\n",
      "|  2237855823-912.JPG|[FF D8 FF E0 00 1...|   2237855823|2019.0|  2.0|15.0|         DK|            Varbjerg|46180.0|Phellinus pomaceu...|  Fungi|Basidiomycota| Agaricomycetes|Hymenochaetales| Hymenochaetaceae|     Phellinus|       pomaceus|  SPECIES|  Phellinus pomaceus|      DNK|   Denmark|  DNK.5_1| Syddanmark|DNK.5.13_1|    Middelfart|   2237855823-912|bark of living trees|  Morten Strandberg| 55.51494399999999| 9.957835|       5.0|            hedgerow|    1121|         wood|        0|[2.0030365, 0.760...|\n",
      "|2237855864-75482.JPG|[FF D8 FF E1 5D 3...|   2237855864|2019.0|  2.0|10.0|         DK|            Voergård|30168.0|Calogaya decipien...|  Fungi|   Ascomycota|Lecanoromycetes| Teloschistales|  Teloschistaceae|     Caloplaca|      decipiens|  SPECIES| Caloplaca decipiens|      DNK|   Denmark|  DNK.3_1|Nordjylland| DNK.3.2_1|   Brønderslev| 2237855864-75482|building stone (e...|  Susanne Rabenborg|         57.242476|10.338963|      25.0|     park/churchyard|     134|        stone|        0|[-0.3310613, 4.71...|\n",
      "|2237856100-149378...|[FF D8 FF E0 00 1...|   2237856100|2019.0|  2.0|11.0|         DK|          Valby Hegn|10934.0|Auricularia auric...|  Fungi|Basidiomycota| Agaricomycetes| Auriculariales|  Auriculariaceae|   Auricularia| auricula-judae|  SPECIES|Auricularia auric...|      DNK|   Denmark|  DNK.1_1|Hovedstaden|DNK.1.16_1|      Gribskov|2237856100-149378|dead wood (includ...|    Michael Sonniks|         56.035011| 12.21145|      15.0|  Deciduous woodland|      88|         wood|        0|[-0.092689455, -0...|\n",
      "|2237856177-298798...|[FF D8 FF E0 00 1...|   2237856177|2019.0|  3.0| 2.0|         DK|                 Hou|20171.0|Sarcoscypha austr...|  Fungi|   Ascomycota|  Pezizomycetes|      Pezizales|  Sarcoscyphaceae|   Sarcoscypha|      austriaca|  SPECIES|Sarcoscypha austr...|      DNK|   Denmark|  DNK.2_1|Midtjylland|DNK.2.10_1|         Odder|2237856177-298798|dead wood (includ...|    Kirsten Nielsen|         55.916752| 10.24366|       5.0|Mixed woodland (w...|    1396|         wood|        0|[-1.8367531, 0.29...|\n",
      "|2237856256-223616...|[FF D8 FF E0 00 1...|   2237856256|2019.0|  2.0|22.0|         DK|              Knuden|14679.0|Heterobasidion an...|  Fungi|Basidiomycota| Agaricomycetes|     Russulales|  Bondarzewiaceae|Heterobasidion|        annosum|  SPECIES|Heterobasidion an...|      DNK|   Denmark|  DNK.2_1|Midtjylland|DNK.2.14_1|     Silkeborg|2237856256-223616|dead wood (includ...|  Morten Strandberg|         56.166152| 9.568148|      25.0|Mixed woodland (w...|     608|         wood|        0|[-0.4282379, -1.5...|\n",
      "+--------------------+--------------------+-------------+------+-----+----+-----------+--------------------+-------+--------------------+-------+-------------+---------------+---------------+-----------------+--------------+---------------+---------+--------------------+---------+----------+---------+-----------+----------+--------------+-----------------+--------------------+-------------------+------------------+---------+----------+--------------------+--------+-------------+---------+--------------------+\n",
      "only showing top 20 rows\n",
      "\n"
     ]
    },
    {
     "name": "stderr",
     "output_type": "stream",
     "text": [
      "/usr/local/lib/python3.10/dist-packages/PIL/Image.py:3218: DecompressionBombWarning: Image size (108000000 pixels) exceeds limit of 89478485 pixels, could be decompression bomb DOS attack.\n",
      "  warnings.warn(\n",
      "                                                                                \r"
     ]
    }
   ],
   "source": [
    "df_with_embeddings.show()\n",
    "\n",
    "gcs_embedding_path = \"gs://dsgt-clef-fungiclef-2024/data/parquet/DF20_300px_resnet18/\"\n",
    "\n",
    "df_with_embeddings.write.mode('overwrite').parquet(gcs_embedding_path)"
   ]
  },
  {
   "cell_type": "code",
   "execution_count": null,
   "metadata": {},
   "outputs": [],
   "source": []
  }
 ],
 "metadata": {
  "kernelspec": {
   "display_name": "fungi",
   "language": "python",
   "name": "python3"
  },
  "language_info": {
   "codemirror_mode": {
    "name": "ipython",
    "version": 3
   },
   "file_extension": ".py",
   "mimetype": "text/x-python",
   "name": "python",
   "nbconvert_exporter": "python",
   "pygments_lexer": "ipython3",
   "version": "3.10.12"
  }
 },
 "nbformat": 4,
 "nbformat_minor": 2
}
