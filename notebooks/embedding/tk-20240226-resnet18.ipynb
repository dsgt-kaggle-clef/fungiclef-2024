{
 "cells": [
  {
   "cell_type": "code",
   "execution_count": 1,
   "metadata": {},
   "outputs": [
    {
     "name": "stdout",
     "output_type": "stream",
     "text": [
      "/home/teresakim/fungiclef-2024\n"
     ]
    }
   ],
   "source": [
    "%cd /home/teresakim/fungiclef-2024/"
   ]
  },
  {
   "cell_type": "code",
   "execution_count": 2,
   "metadata": {},
   "outputs": [],
   "source": [
    "%load_ext autoreload\n",
    "%autoreload 2"
   ]
  },
  {
   "cell_type": "code",
   "execution_count": 3,
   "metadata": {},
   "outputs": [],
   "source": [
    "import pyspark.sql.functions as f\n",
    "import pyspark.ml as ml\n",
    "from pyspark.sql.functions import udf\n",
    "from pyspark.sql.types import ArrayType, FloatType, IntegerType\n",
    "import fungiclef.embedding.transforms as trans\n",
    "from fungiclef.utils import get_spark"
   ]
  },
  {
   "cell_type": "code",
   "execution_count": 5,
   "metadata": {},
   "outputs": [
    {
     "name": "stderr",
     "output_type": "stream",
     "text": [
      "Setting default log level to \"WARN\".\n",
      "To adjust logging level use sc.setLogLevel(newLevel). For SparkR, use setLogLevel(newLevel).\n",
      "24/04/21 14:36:48 WARN NativeCodeLoader: Unable to load native-hadoop library for your platform... using builtin-java classes where applicable\n",
      "24/04/21 14:36:49 WARN SparkConf: Note that spark.local.dir will be overridden by the value set by the cluster manager (via SPARK_LOCAL_DIRS in mesos/standalone/kubernetes and LOCAL_DIRS in YARN).\n"
     ]
    },
    {
     "data": {
      "text/html": [
       "\n",
       "            <div>\n",
       "                <p><b>SparkSession - in-memory</b></p>\n",
       "                \n",
       "        <div>\n",
       "            <p><b>SparkContext</b></p>\n",
       "\n",
       "            <p><a href=\"http://fungiclef-dev-backup.us-central1-a.c.dsgt-clef-2024.internal:4040\">Spark UI</a></p>\n",
       "\n",
       "            <dl>\n",
       "              <dt>Version</dt>\n",
       "                <dd><code>v3.5.1</code></dd>\n",
       "              <dt>Master</dt>\n",
       "                <dd><code>local[4]</code></dd>\n",
       "              <dt>AppName</dt>\n",
       "                <dd><code>fungi_clef</code></dd>\n",
       "            </dl>\n",
       "        </div>\n",
       "        \n",
       "            </div>\n",
       "        "
      ],
      "text/plain": [
       "<pyspark.sql.session.SparkSession at 0x7ea4dd855c00>"
      ]
     },
     "metadata": {},
     "output_type": "display_data"
    }
   ],
   "source": [
    "spark = get_spark(**{\n",
    "    \"spark.sql.parquet.enableVectorizedReader\": False, \n",
    "})\n",
    "display(spark)"
   ]
  },
  {
   "cell_type": "code",
   "execution_count": 6,
   "metadata": {},
   "outputs": [
    {
     "name": "stderr",
     "output_type": "stream",
     "text": [
      "                                                                                \r"
     ]
    },
    {
     "name": "stdout",
     "output_type": "stream",
     "text": [
      "root\n",
      " |-- image_path: string (nullable = true)\n",
      " |-- data: binary (nullable = true)\n",
      " |-- observationID: long (nullable = true)\n",
      " |-- year: double (nullable = true)\n",
      " |-- month: double (nullable = true)\n",
      " |-- day: double (nullable = true)\n",
      " |-- countryCode: string (nullable = true)\n",
      " |-- locality: string (nullable = true)\n",
      " |-- taxonID: double (nullable = true)\n",
      " |-- scientificName: string (nullable = true)\n",
      " |-- kingdom: string (nullable = true)\n",
      " |-- phylum: string (nullable = true)\n",
      " |-- class: string (nullable = true)\n",
      " |-- order: string (nullable = true)\n",
      " |-- family: string (nullable = true)\n",
      " |-- genus: string (nullable = true)\n",
      " |-- specificEpithet: string (nullable = true)\n",
      " |-- taxonRank: string (nullable = true)\n",
      " |-- species: string (nullable = true)\n",
      " |-- level0Gid: string (nullable = true)\n",
      " |-- level0Name: string (nullable = true)\n",
      " |-- level1Gid: string (nullable = true)\n",
      " |-- level1Name: string (nullable = true)\n",
      " |-- level2Gid: string (nullable = true)\n",
      " |-- level2Name: string (nullable = true)\n",
      " |-- ImageUniqueID: string (nullable = true)\n",
      " |-- Substrate: string (nullable = true)\n",
      " |-- rightsHolder: string (nullable = true)\n",
      " |-- Latitude: double (nullable = true)\n",
      " |-- Longitude: double (nullable = true)\n",
      " |-- CoorUncert: double (nullable = true)\n",
      " |-- Habitat: string (nullable = true)\n",
      " |-- class_id: integer (nullable = true)\n",
      " |-- MetaSubstrate: string (nullable = true)\n",
      " |-- poisonous: integer (nullable = true)\n",
      "\n"
     ]
    },
    {
     "name": "stderr",
     "output_type": "stream",
     "text": [
      "                                                                                \r"
     ]
    },
    {
     "data": {
      "text/plain": [
       "295938"
      ]
     },
     "execution_count": 6,
     "metadata": {},
     "output_type": "execute_result"
    }
   ],
   "source": [
    "\n",
    "# gcs_parquet_path = \"gs://dsgt-clef-fungiclef-2024/dev/train/\"\n",
    "# input_folder = f\"dev_train.parquet\"\n",
    "\n",
    "gcs_parquet_path = \"gs://dsgt-clef-fungiclef-2024/data/parquet/\"\n",
    "input_folder = f\"DF20_300px\"\n",
    "\n",
    "dev_df = spark.read.parquet(gcs_parquet_path+input_folder)\n",
    "dev_df.printSchema()\n",
    "dev_df.count()"
   ]
  },
  {
   "cell_type": "code",
   "execution_count": 7,
   "metadata": {},
   "outputs": [
    {
     "name": "stderr",
     "output_type": "stream",
     "text": [
      "/home/teresakim/.local/lib/python3.10/site-packages/torchvision/models/_utils.py:208: UserWarning: The parameter 'pretrained' is deprecated since 0.13 and may be removed in the future, please use 'weights' instead.\n",
      "  warnings.warn(\n",
      "/home/teresakim/.local/lib/python3.10/site-packages/torchvision/models/_utils.py:223: UserWarning: Arguments other than a weight enum or `None` for 'weights' are deprecated since 0.13 and may be removed in the future. The current behavior is equivalent to passing `weights=ResNet18_Weights.IMAGENET1K_V1`. You can also use `weights=ResNet18_Weights.DEFAULT` to get the most up-to-date weights.\n",
      "  warnings.warn(msg)\n"
     ]
    }
   ],
   "source": [
    "import torchvision.models as models\n",
    "import torchvision.transforms as transforms\n",
    "from PIL import Image\n",
    "import torch\n",
    "import io\n",
    "\n",
    "# load pretrained model\n",
    "model = models.resnet18(pretrained=True).eval()"
   ]
  },
  {
   "cell_type": "code",
   "execution_count": 8,
   "metadata": {},
   "outputs": [],
   "source": [
    "# transformation for image preprocessing\n",
    "transform = transforms.Compose([\n",
    "    transforms.Resize(256), # 256x256 px\n",
    "    transforms.CenterCrop(224), # going with common crop size, haven't messed with it\n",
    "    transforms.ToTensor(),\n",
    "    transforms.Normalize(mean=[0.485, 0.456, 0.406], std=[0.229, 0.224, 0.225]),\n",
    "])"
   ]
  },
  {
   "cell_type": "code",
   "execution_count": 9,
   "metadata": {},
   "outputs": [],
   "source": [
    "# UDF to convert binary image data to embedding\n",
    "def binary_image_to_embedding(image_data):\n",
    "    img = Image.open(io.BytesIO(image_data))\n",
    "    # ensure the image is in RGB format\n",
    "    if img.mode != 'RGB':\n",
    "        img = img.convert('RGB')\n",
    "    img_t = transform(img)\n",
    "    batch_t = torch.unsqueeze(img_t, 0)\n",
    "    with torch.no_grad():\n",
    "        embedding = model(batch_t)\n",
    "   \n",
    "    return embedding.cpu().numpy().flatten().tolist()"
   ]
  },
  {
   "cell_type": "code",
   "execution_count": 10,
   "metadata": {},
   "outputs": [],
   "source": [
    "# register UDF with the appropriate return type\n",
    "binary_to_embedding_udf = udf(binary_image_to_embedding, ArrayType(FloatType()))"
   ]
  },
  {
   "cell_type": "code",
   "execution_count": 11,
   "metadata": {},
   "outputs": [],
   "source": [
    "# apply UDF\n",
    "df_with_embeddings = dev_df.withColumn(\"embeddings\", binary_to_embedding_udf(dev_df[\"data\"]))"
   ]
  },
  {
   "cell_type": "code",
   "execution_count": 13,
   "metadata": {},
   "outputs": [
    {
     "name": "stderr",
     "output_type": "stream",
     "text": [
      "                                                                                \r"
     ]
    },
    {
     "name": "stdout",
     "output_type": "stream",
     "text": [
      "+--------------------+--------------------+-------------+------+-----+----+-----------+--------------------+-------+--------------------+-------+-------------+---------------+---------------+----------------+--------------+---------------+---------+--------------------+---------+----------+---------+-----------+----------+--------------+-----------------+--------------------+------------------+------------------+---------+----------+--------------------+--------+-------------+---------+--------------------+\n",
      "|          image_path|                data|observationID|  year|month| day|countryCode|            locality|taxonID|      scientificName|kingdom|       phylum|          class|          order|          family|         genus|specificEpithet|taxonRank|             species|level0Gid|level0Name|level1Gid| level1Name| level2Gid|    level2Name|    ImageUniqueID|           Substrate|      rightsHolder|          Latitude|Longitude|CoorUncert|             Habitat|class_id|MetaSubstrate|poisonous|          embeddings|\n",
      "+--------------------+--------------------+-------------+------+-----+----+-----------+--------------------+-------+--------------------+-------+-------------+---------------+---------------+----------------+--------------+---------------+---------+--------------------+---------+----------+---------+-----------+----------+--------------+-----------------+--------------------+------------------+------------------+---------+----------+--------------------+--------+-------------+---------+--------------------+\n",
      "|2237852194-74701.jpg|[FF D8 FF E0 00 1...|   2237852194|2019.0|  1.0|12.0|         DK|Vestskoven, Køben...|17534.0|Nectria cinnabari...|  Fungi|   Ascomycota|Sordariomycetes|    Hypocreales|     Nectriaceae|       Nectria|    cinnabarina|  SPECIES| Nectria cinnabarina|      DNK|   Denmark|  DNK.1_1|Hovedstaden| DNK.1.1_1|   Albertslund| 2237852194-74701|dead wood (includ...| Poul Evald Hansen|         55.691883| 12.35577|      25.0|  Deciduous woodland|    1020|         wood|        0|[1.0811005, 1.052...|\n",
      "|   2237852233-71.jpg|[FF D8 FF E0 00 1...|   2237852233|2019.0|  1.0| 7.0|         DK|        Dorf Kirkeby|30201.0|Candelariella vit...|  Fungi|   Ascomycota|Lecanoromycetes|  Candelariales|  Candelariaceae| Candelariella|      vitellina|  SPECIES|Candelariella vit...|      DNK|   Denmark|  DNK.3_1|Nordjylland| DNK.3.2_1|   Brønderslev|    2237852233-71|bark of living trees| Susanne Rabenborg|         57.225768| 10.28596|      15.0|     park/churchyard|     142|         wood|        0|[0.41535246, 0.15...|\n",
      "|2237852360-148530...|[FF D8 FF E0 00 1...|   2237852360|2019.0|  1.0|13.0|         DK|               Hobro|17257.0|Mycena meliigena ...|  Fungi|Basidiomycota| Agaricomycetes|     Agaricales|      Mycenaceae|        Mycena|      meliigena|  SPECIES|    Mycena meliigena|      DNK|   Denmark|  DNK.3_1|Nordjylland| DNK.3.7_1| Mariagerfjord|2237852360-148530|bark of living trees|     Arne Pedersen|         56.644135| 9.809536|      10.0|    Thorny scrubland|     981|         wood|        0|[1.4644057, 5.175...|\n",
      "|  2237852453-125.jpg|[FF D8 FF E0 00 1...|   2237852453|2019.0|  1.0| 5.0|         DK|     Ørum Søndermark|18776.0|Piptoporus betuli...|  Fungi|Basidiomycota| Agaricomycetes|    Polyporales| Fomitopsidaceae|    Fomitopsis|      betulinus|  SPECIES| Fomitopsis betulina|      DNK|   Denmark|  DNK.2_1|Midtjylland|DNK.2.19_1|        Viborg|   2237852453-125|dead wood (includ...| Winnie Østergaard|         56.458128| 9.654167|      75.0|Unmanaged deciduo...|    1175|         wood|        0|[5.031926, -0.104...|\n",
      "|2237852536-222799...|[FF D8 FF E0 00 1...|   2237852536|2019.0|  1.0|16.0|         DK|   Sankt Povls Kirke|20978.0|Trametes hirsuta ...|  Fungi|Basidiomycota| Agaricomycetes|    Polyporales|    Polyporaceae|      Trametes|        hirsuta|  SPECIES|    Trametes hirsuta|      DNK|   Denmark|  DNK.1_1|Hovedstaden| DNK.1.4_1|      Bornholm|2237852536-222799|dead wood (includ...|   Jan Riis-Hansen|55.022881000000005|15.038797|      15.0|  Deciduous woodland|    1483|         wood|        0|[6.463545, 0.1544...|\n",
      "|  2237852648-170.jpg|[FF D8 FF E0 00 1...|   2237852648|2019.0|  1.0|14.0|         DK|       Christianshøj|11206.0|Bulgaria inquinan...|  Fungi|   Ascomycota|  Leotiomycetes|      Leotiales|    Bulgariaceae|      Bulgaria|      inquinans|  SPECIES|  Bulgaria inquinans|      DNK|   Denmark|  DNK.1_1|Hovedstaden| DNK.1.4_1|      Bornholm|   2237852648-170|dead wood (includ...|   Jan Riis-Hansen|         55.122047| 14.90575|      15.0|  Deciduous woodland|     119|         wood|        0|[-0.21321076, 1.7...|\n",
      "|2237852656-222826...|[FF D8 FF E0 00 1...|   2237852656|2019.0|  1.0|16.0|         DK|   Keldskov, Lolland|20603.0|Steccherinum ochr...|  Fungi|Basidiomycota| Agaricomycetes|    Polyporales|     Meruliaceae|  Steccherinum|      ochraceum|  SPECIES|Steccherinum ochr...|      DNK|   Denmark|  DNK.4_1|   Sjælland| DNK.4.8_1|       Lolland|2237852656-222826|dead wood (includ...| Bent Christiansen|         54.662392|11.560013|      15.0|Unmanaged deciduo...|    1428|         wood|        0|[-1.468986, 2.364...|\n",
      "|2237852682-298037...|[FF D8 FF E0 00 1...|   2237852682|2019.0|  1.0|14.0|         DK|            Vår Skov|10994.0|Basidioradulum ra...|  Fungi|Basidiomycota| Agaricomycetes|Hymenochaetales|  Schizoporaceae|       Xylodon|         radula|  SPECIES|      Xylodon radula|      DNK|   Denmark|  DNK.3_1|Nordjylland| DNK.3.1_1|       Aalborg|2237852682-298037|dead wood (includ...|Per Taudal Poulsen|         56.999989| 9.463271|      50.0|Mixed woodland (w...|      94|         wood|        0|[-2.4870274, -2.2...|\n",
      "|2237852752-298060...|[FF D8 FF E0 00 1...|   2237852752|2019.0|  1.0|18.0|         DK|    Store Arden Skov|11043.0|Bjerkandera adust...|  Fungi|Basidiomycota| Agaricomycetes|    Polyporales|     Meruliaceae|   Bjerkandera|         adusta|  SPECIES|  Bjerkandera adusta|      DNK|   Denmark|  DNK.3_1|Nordjylland| DNK.3.7_1| Mariagerfjord|2237852752-298060|dead wood (includ...|     Arne Pedersen|56.787529000000006| 9.898682|      75.0|Unmanaged deciduo...|      99|         wood|        0|[4.991375, 0.2360...|\n",
      "|  2237852848-227.jpg|[FF D8 FF E0 00 1...|   2237852848|2019.0|  1.0|18.0|         DK|    Store Arden Skov|21234.0|Tubaria furfurace...|  Fungi|Basidiomycota| Agaricomycetes|     Agaricales|     Tubariaceae|       Tubaria|     furfuracea|  SPECIES|  Tubaria furfuracea|      DNK|   Denmark|  DNK.3_1|Nordjylland| DNK.3.7_1| Mariagerfjord|   2237852848-227|                soil|     Arne Pedersen|         56.788563| 9.898767|      75.0|Unmanaged deciduo...|    1543|         jord|        0|[6.91693, 3.99760...|\n",
      "|  2237853078-273.jpg|[FF D8 FF E0 00 1...|   2237853078|2019.0|  1.0|18.0|         DK|       Mosskov, Rold|21053.0|Trichaptum abieti...|  Fungi|Basidiomycota| Agaricomycetes|Hymenochaetales|            NULL|    Trichaptum|      abietinum|  SPECIES|Trichaptum abietinum|      DNK|   Denmark|  DNK.3_1|Nordjylland| DNK.3.9_1|        Rebild|   2237853078-273|dead wood (includ...|     Arne Pedersen|         56.808632| 9.888554|      75.0|Unmanaged conifer...|    1493|         wood|        0|[2.366213, -0.134...|\n",
      "|2237853216-222931...|[FF D8 FF E0 00 1...|   2237853216|2019.0|  1.0|18.0|         DK|       Mosskov, Rold|18792.0|Pithya vulgaris F...|  Fungi|   Ascomycota|  Pezizomycetes|      Pezizales| Sarcoscyphaceae|        Pithya|       vulgaris|  SPECIES|     Pithya vulgaris|      DNK|   Denmark|  DNK.3_1|Nordjylland| DNK.3.9_1|        Rebild|2237853216-222931|dead wood (includ...|     Arne Pedersen|         56.809384| 9.888639|      75.0|Unmanaged conifer...|    1177|         wood|        0|[3.1335926, 1.986...|\n",
      "|2237853294-74939.jpg|[FF D8 FF E0 00 1...|   2237853294|2019.0|  1.0|16.0|         DK|              Rødhus|30772.0|Physcia tenella (...|  Fungi|   Ascomycota|Lecanoromycetes| Teloschistales|     Physciaceae|       Physcia|        tenella|  SPECIES|     Physcia tenella|      DNK|   Denmark|  DNK.3_1|Nordjylland| DNK.3.5_1|    Jammerbugt| 2237853294-74939|bark of living trees|Bjarke Huus Jensen|57.208017000000005| 9.535802|      25.0|            hedgerow|    1165|         wood|        0|[-1.5762186, 0.01...|\n",
      "|2237853335-148731...|[FF D8 FF E0 00 1...|   2237853335|2019.0|  1.0|11.0|         DK|              Skibby|30371.0|Evernia prunastri...|  Fungi|   Ascomycota|Lecanoromycetes|    Lecanorales|    Parmeliaceae|       Evernia|      prunastri|  SPECIES|   Evernia prunastri|      DNK|   Denmark|  DNK.1_1|Hovedstaden|DNK.1.11_1| Frederikssund|2237853335-148731|bark of living trees|        Tom Smidth|         55.748082|11.959215|      10.0|     park/churchyard|     467|         wood|        0|[-1.0991322, -0.5...|\n",
      "|2237853476-222979...|[FF D8 FF E0 00 1...|   2237853476|2019.0|  1.0|22.0|         DK|       Rantzausminde|11043.0|Bjerkandera adust...|  Fungi|Basidiomycota| Agaricomycetes|    Polyporales|     Meruliaceae|   Bjerkandera|         adusta|  SPECIES|  Bjerkandera adusta|      DNK|   Denmark|  DNK.5_1| Syddanmark|DNK.5.18_1|     Svendborg|2237853476-222979|dead wood (includ...|         Dan Schou|         55.040713|10.550808|      25.0|Unmanaged deciduo...|      99|         wood|        0|[4.50514, -1.3145...|\n",
      "|  2237853523-372.jpg|[FF D8 FF E0 00 1...|   2237853523|2019.0|  1.0|25.0|         DK|      Bregninge Skov|18870.0|Pleurotus ostreat...|  Fungi|Basidiomycota| Agaricomycetes|     Agaricales|    Pleurotaceae|     Pleurotus|      ostreatus|  SPECIES| Pleurotus ostreatus|      DNK|   Denmark|  DNK.5_1| Syddanmark|DNK.5.18_1|     Svendborg|   2237853523-372|dead wood (includ...|         Dan Schou|         55.049294|10.631301|      50.0|Mixed woodland (w...|    1182|         wood|        0|[1.481327, -0.373...|\n",
      "|2237853836-223062...|[FF D8 FF E0 00 1...|   2237853836|2019.0|  1.0|29.0|         DK|Kohave (Valdemars...|15529.0|Mensularia radiat...|  Fungi|Basidiomycota| Agaricomycetes|Hymenochaetales|Hymenochaetaceae|   Xanthoporia|        radiata|  SPECIES| Xanthoporia radiata|      DNK|   Denmark|  DNK.5_1| Syddanmark|DNK.5.18_1|     Svendborg|2237853836-223062|dead wood (includ...|         Dan Schou|         55.026915|10.644868|      50.0|          Forest bog|     929|         wood|        0|[-0.39276382, -1....|\n",
      "|2237853852-298278...|[FF D8 FF E0 00 1...|   2237853852|1991.0|  7.0|20.0|         DK|Jægersborg Strand...|67474.0|Pseudoinonotus dr...|  Fungi|Basidiomycota| Agaricomycetes|Hymenochaetales|Hymenochaetaceae|Pseudoinonotus|       dryadeus|  SPECIES|Pseudoinonotus dr...|      DNK|   Denmark|  DNK.1_1|Hovedstaden|DNK.1.26_1|Lyngby-Taarbæk|2237853852-298278|bark of living trees|    Benny T. Olsen|         55.806298|12.583723|      75.0|     park/churchyard|    1243|         wood|        0|[3.654458, 2.4547...|\n",
      "|2237854030-148897...|[FF D8 FF E0 00 1...|   2237854030|2019.0|  1.0|29.0|         DK|  Skærbæk, Silkeborg|18054.0|Peniophora querci...|  Fungi|Basidiomycota| Agaricomycetes|Hymenochaetales|  Schizoporaceae|   Hyphodontia|       quercina|  SPECIES|Hyphodontia quercina|      DNK|   Denmark|  DNK.2_1|Midtjylland|DNK.2.14_1|     Silkeborg|2237854030-148897|dead wood (includ...| Morten Strandberg|           56.1724| 9.600753|      10.0|        Bog woodland|    1093|         wood|        0|[1.6404306, 3.095...|\n",
      "|2237854354-75167.jpg|[FF D8 FF E0 00 1...|   2237854354|2019.0|  2.0| 2.0|         DK|     Ørum Søndermark|10934.0|Auricularia auric...|  Fungi|Basidiomycota| Agaricomycetes| Auriculariales| Auriculariaceae|   Auricularia| auricula-judae|  SPECIES|Auricularia auric...|      DNK|   Denmark|  DNK.2_1|Midtjylland|DNK.2.19_1|        Viborg| 2237854354-75167|bark of living trees| Winnie Østergaard|         56.455235| 9.665325|      75.0|            hedgerow|      88|         wood|        0|[3.9770412, -1.85...|\n",
      "+--------------------+--------------------+-------------+------+-----+----+-----------+--------------------+-------+--------------------+-------+-------------+---------------+---------------+----------------+--------------+---------------+---------+--------------------+---------+----------+---------+-----------+----------+--------------+-----------------+--------------------+------------------+------------------+---------+----------+--------------------+--------+-------------+---------+--------------------+\n",
      "only showing top 20 rows\n",
      "\n"
     ]
    },
    {
     "name": "stderr",
     "output_type": "stream",
     "text": [
      "ERROR:root:KeyboardInterrupt while sending command.                (0 + 4) / 65]\n",
      "Traceback (most recent call last):\n",
      "  File \"/usr/local/lib/python3.10/dist-packages/py4j/java_gateway.py\", line 1038, in send_command\n",
      "    response = connection.send_command(command)\n",
      "  File \"/usr/local/lib/python3.10/dist-packages/py4j/clientserver.py\", line 511, in send_command\n",
      "    answer = smart_decode(self.stream.readline()[:-1])\n",
      "  File \"/usr/lib/python3.10/socket.py\", line 705, in readinto\n",
      "    return self._sock.recv_into(b)\n",
      "KeyboardInterrupt\n"
     ]
    },
    {
     "ename": "KeyboardInterrupt",
     "evalue": "",
     "output_type": "error",
     "traceback": [
      "\u001b[0;31m---------------------------------------------------------------------------\u001b[0m",
      "\u001b[0;31mKeyboardInterrupt\u001b[0m                         Traceback (most recent call last)",
      "Cell \u001b[0;32mIn[13], line 5\u001b[0m\n\u001b[1;32m      1\u001b[0m df_with_embeddings\u001b[38;5;241m.\u001b[39mshow()\n\u001b[1;32m      3\u001b[0m gcs_embedding_path \u001b[38;5;241m=\u001b[39m \u001b[38;5;124m\"\u001b[39m\u001b[38;5;124mgs://dsgt-clef-fungiclef-2024/data/parquet/DF20_300px_resnet18_embedding/\u001b[39m\u001b[38;5;124m\"\u001b[39m\n\u001b[0;32m----> 5\u001b[0m \u001b[43mdf_with_embeddings\u001b[49m\u001b[38;5;241;43m.\u001b[39;49m\u001b[43mwrite\u001b[49m\u001b[38;5;241;43m.\u001b[39;49m\u001b[43mmode\u001b[49m\u001b[43m(\u001b[49m\u001b[38;5;124;43m'\u001b[39;49m\u001b[38;5;124;43moverwrite\u001b[39;49m\u001b[38;5;124;43m'\u001b[39;49m\u001b[43m)\u001b[49m\u001b[38;5;241;43m.\u001b[39;49m\u001b[43mparquet\u001b[49m\u001b[43m(\u001b[49m\u001b[43mgcs_embedding_path\u001b[49m\u001b[43m)\u001b[49m\n",
      "File \u001b[0;32m~/.local/lib/python3.10/site-packages/pyspark/sql/readwriter.py:1721\u001b[0m, in \u001b[0;36mDataFrameWriter.parquet\u001b[0;34m(self, path, mode, partitionBy, compression)\u001b[0m\n\u001b[1;32m   1719\u001b[0m     \u001b[38;5;28mself\u001b[39m\u001b[38;5;241m.\u001b[39mpartitionBy(partitionBy)\n\u001b[1;32m   1720\u001b[0m \u001b[38;5;28mself\u001b[39m\u001b[38;5;241m.\u001b[39m_set_opts(compression\u001b[38;5;241m=\u001b[39mcompression)\n\u001b[0;32m-> 1721\u001b[0m \u001b[38;5;28;43mself\u001b[39;49m\u001b[38;5;241;43m.\u001b[39;49m\u001b[43m_jwrite\u001b[49m\u001b[38;5;241;43m.\u001b[39;49m\u001b[43mparquet\u001b[49m\u001b[43m(\u001b[49m\u001b[43mpath\u001b[49m\u001b[43m)\u001b[49m\n",
      "File \u001b[0;32m/usr/local/lib/python3.10/dist-packages/py4j/java_gateway.py:1321\u001b[0m, in \u001b[0;36mJavaMember.__call__\u001b[0;34m(self, *args)\u001b[0m\n\u001b[1;32m   1314\u001b[0m args_command, temp_args \u001b[38;5;241m=\u001b[39m \u001b[38;5;28mself\u001b[39m\u001b[38;5;241m.\u001b[39m_build_args(\u001b[38;5;241m*\u001b[39margs)\n\u001b[1;32m   1316\u001b[0m command \u001b[38;5;241m=\u001b[39m proto\u001b[38;5;241m.\u001b[39mCALL_COMMAND_NAME \u001b[38;5;241m+\u001b[39m\\\n\u001b[1;32m   1317\u001b[0m     \u001b[38;5;28mself\u001b[39m\u001b[38;5;241m.\u001b[39mcommand_header \u001b[38;5;241m+\u001b[39m\\\n\u001b[1;32m   1318\u001b[0m     args_command \u001b[38;5;241m+\u001b[39m\\\n\u001b[1;32m   1319\u001b[0m     proto\u001b[38;5;241m.\u001b[39mEND_COMMAND_PART\n\u001b[0;32m-> 1321\u001b[0m answer \u001b[38;5;241m=\u001b[39m \u001b[38;5;28;43mself\u001b[39;49m\u001b[38;5;241;43m.\u001b[39;49m\u001b[43mgateway_client\u001b[49m\u001b[38;5;241;43m.\u001b[39;49m\u001b[43msend_command\u001b[49m\u001b[43m(\u001b[49m\u001b[43mcommand\u001b[49m\u001b[43m)\u001b[49m\n\u001b[1;32m   1322\u001b[0m return_value \u001b[38;5;241m=\u001b[39m get_return_value(\n\u001b[1;32m   1323\u001b[0m     answer, \u001b[38;5;28mself\u001b[39m\u001b[38;5;241m.\u001b[39mgateway_client, \u001b[38;5;28mself\u001b[39m\u001b[38;5;241m.\u001b[39mtarget_id, \u001b[38;5;28mself\u001b[39m\u001b[38;5;241m.\u001b[39mname)\n\u001b[1;32m   1325\u001b[0m \u001b[38;5;28;01mfor\u001b[39;00m temp_arg \u001b[38;5;129;01min\u001b[39;00m temp_args:\n",
      "File \u001b[0;32m/usr/local/lib/python3.10/dist-packages/py4j/java_gateway.py:1038\u001b[0m, in \u001b[0;36mGatewayClient.send_command\u001b[0;34m(self, command, retry, binary)\u001b[0m\n\u001b[1;32m   1036\u001b[0m connection \u001b[38;5;241m=\u001b[39m \u001b[38;5;28mself\u001b[39m\u001b[38;5;241m.\u001b[39m_get_connection()\n\u001b[1;32m   1037\u001b[0m \u001b[38;5;28;01mtry\u001b[39;00m:\n\u001b[0;32m-> 1038\u001b[0m     response \u001b[38;5;241m=\u001b[39m \u001b[43mconnection\u001b[49m\u001b[38;5;241;43m.\u001b[39;49m\u001b[43msend_command\u001b[49m\u001b[43m(\u001b[49m\u001b[43mcommand\u001b[49m\u001b[43m)\u001b[49m\n\u001b[1;32m   1039\u001b[0m     \u001b[38;5;28;01mif\u001b[39;00m binary:\n\u001b[1;32m   1040\u001b[0m         \u001b[38;5;28;01mreturn\u001b[39;00m response, \u001b[38;5;28mself\u001b[39m\u001b[38;5;241m.\u001b[39m_create_connection_guard(connection)\n",
      "File \u001b[0;32m/usr/local/lib/python3.10/dist-packages/py4j/clientserver.py:511\u001b[0m, in \u001b[0;36mClientServerConnection.send_command\u001b[0;34m(self, command)\u001b[0m\n\u001b[1;32m    509\u001b[0m \u001b[38;5;28;01mtry\u001b[39;00m:\n\u001b[1;32m    510\u001b[0m     \u001b[38;5;28;01mwhile\u001b[39;00m \u001b[38;5;28;01mTrue\u001b[39;00m:\n\u001b[0;32m--> 511\u001b[0m         answer \u001b[38;5;241m=\u001b[39m smart_decode(\u001b[38;5;28;43mself\u001b[39;49m\u001b[38;5;241;43m.\u001b[39;49m\u001b[43mstream\u001b[49m\u001b[38;5;241;43m.\u001b[39;49m\u001b[43mreadline\u001b[49m\u001b[43m(\u001b[49m\u001b[43m)\u001b[49m[:\u001b[38;5;241m-\u001b[39m\u001b[38;5;241m1\u001b[39m])\n\u001b[1;32m    512\u001b[0m         logger\u001b[38;5;241m.\u001b[39mdebug(\u001b[38;5;124m\"\u001b[39m\u001b[38;5;124mAnswer received: \u001b[39m\u001b[38;5;132;01m{0}\u001b[39;00m\u001b[38;5;124m\"\u001b[39m\u001b[38;5;241m.\u001b[39mformat(answer))\n\u001b[1;32m    513\u001b[0m         \u001b[38;5;66;03m# Happens when a the other end is dead. There might be an empty\u001b[39;00m\n\u001b[1;32m    514\u001b[0m         \u001b[38;5;66;03m# answer before the socket raises an error.\u001b[39;00m\n",
      "File \u001b[0;32m/usr/lib/python3.10/socket.py:705\u001b[0m, in \u001b[0;36mSocketIO.readinto\u001b[0;34m(self, b)\u001b[0m\n\u001b[1;32m    703\u001b[0m \u001b[38;5;28;01mwhile\u001b[39;00m \u001b[38;5;28;01mTrue\u001b[39;00m:\n\u001b[1;32m    704\u001b[0m     \u001b[38;5;28;01mtry\u001b[39;00m:\n\u001b[0;32m--> 705\u001b[0m         \u001b[38;5;28;01mreturn\u001b[39;00m \u001b[38;5;28;43mself\u001b[39;49m\u001b[38;5;241;43m.\u001b[39;49m\u001b[43m_sock\u001b[49m\u001b[38;5;241;43m.\u001b[39;49m\u001b[43mrecv_into\u001b[49m\u001b[43m(\u001b[49m\u001b[43mb\u001b[49m\u001b[43m)\u001b[49m\n\u001b[1;32m    706\u001b[0m     \u001b[38;5;28;01mexcept\u001b[39;00m timeout:\n\u001b[1;32m    707\u001b[0m         \u001b[38;5;28mself\u001b[39m\u001b[38;5;241m.\u001b[39m_timeout_occurred \u001b[38;5;241m=\u001b[39m \u001b[38;5;28;01mTrue\u001b[39;00m\n",
      "\u001b[0;31mKeyboardInterrupt\u001b[0m: "
     ]
    },
    {
     "name": "stderr",
     "output_type": "stream",
     "text": [
      "[Stage 6:>                                                         (0 + 4) / 65]\r"
     ]
    }
   ],
   "source": [
    "df_with_embeddings.show()\n",
    "\n",
    "gcs_embedding_path = \"gs://dsgt-clef-fungiclef-2024/data/parquet/DF20_300px_resnet18_embedding/\"\n",
    "\n",
    "df_with_embeddings.write.mode('overwrite').parquet(gcs_embedding_path)"
   ]
  },
  {
   "cell_type": "code",
   "execution_count": null,
   "metadata": {},
   "outputs": [],
   "source": []
  }
 ],
 "metadata": {
  "kernelspec": {
   "display_name": "fungi",
   "language": "python",
   "name": "python3"
  },
  "language_info": {
   "codemirror_mode": {
    "name": "ipython",
    "version": 3
   },
   "file_extension": ".py",
   "mimetype": "text/x-python",
   "name": "python",
   "nbconvert_exporter": "python",
   "pygments_lexer": "ipython3",
   "version": "3.10.12"
  }
 },
 "nbformat": 4,
 "nbformat_minor": 2
}
