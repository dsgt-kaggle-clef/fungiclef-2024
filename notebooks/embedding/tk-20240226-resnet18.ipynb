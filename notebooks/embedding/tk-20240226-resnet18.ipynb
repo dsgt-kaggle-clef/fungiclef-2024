{
 "cells": [
  {
   "cell_type": "code",
   "execution_count": null,
   "metadata": {},
   "outputs": [],
   "source": [
    "\n",
    "%cd /home/teresakim/fungiclef-2024/\n",
    "from fungiclef.utils import get_spark\n",
    "\n",
    "# https://knowledge.informatica.com/s/article/000196886?language=en_US\n",
    "# The vectorized reader will run out of memory (8gb) with the default batch size, so\n",
    "# this is one way of handling the issue. This is likely due to the fact that the data\n",
    "# column is so damn big, and treated as binary data instead of something like a string.\n",
    "# We might also be able to avoid this if we don't cache the fields into memory, but this\n",
    "# this needs to be validated by hand. \n",
    "spark = get_spark(**{\n",
    "    # \"spark.sql.parquet.columnarReaderBatchSize\": 512,\n",
    "    \"spark.sql.parquet.enableVectorizedReader\": False, \n",
    "})\n",
    "\n",
    "gcs_parquet_path = \"gs://dsgt-clef-fungiclef-2024/data/parquet/DF20_300px/\"\n",
    "\n",
    "df = spark.read.parquet(gcs_parquet_path)\n",
    "# df.printSchema()\n",
    "# df.show(1, vertical=True, truncate=False)\n",
    "# df.count() # 295938"
   ]
  },
  {
   "cell_type": "code",
   "execution_count": null,
   "metadata": {},
   "outputs": [],
   "source": [
    "from pyspark.sql import SparkSession\n",
    "from pyspark.sql.functions import udf\n",
    "from pyspark.sql.types import ArrayType, FloatType\n",
    "import torchvision.models as models\n",
    "import torchvision.transforms as transforms\n",
    "from PIL import Image\n",
    "import torch\n",
    "import io\n",
    "\n",
    "# load pretrained model\n",
    "model = models.resnet18(pretrained=True).eval()"
   ]
  },
  {
   "cell_type": "code",
   "execution_count": null,
   "metadata": {},
   "outputs": [],
   "source": [
    "# transformation for image preprocessing\n",
    "transform = transforms.Compose([\n",
    "    transforms.Resize(256), # 256x256 px\n",
    "    transforms.CenterCrop(224), # going with common crop size, haven't messed with it\n",
    "    transforms.ToTensor(),\n",
    "    transforms.Normalize(mean=[0.485, 0.456, 0.406], std=[0.229, 0.224, 0.225]), # normalization formula: (input[channel] - mean[channel]) / std[channel]\n",
    "])"
   ]
  },
  {
   "cell_type": "code",
   "execution_count": null,
   "metadata": {},
   "outputs": [],
   "source": [
    "# UDF to convert binary image data to embedding\n",
    "def binary_image_to_embedding(image_data):\n",
    "    img = Image.open(io.BytesIO(image_data))\n",
    "    img_t = transform(img)\n",
    "    batch_t = torch.unsqueeze(img_t, 0)\n",
    "    with torch.no_grad():\n",
    "        embedding = model(batch_t)\n",
    "   \n",
    "    return embedding.cpu().numpy().flatten().tolist()"
   ]
  },
  {
   "cell_type": "code",
   "execution_count": null,
   "metadata": {},
   "outputs": [],
   "source": [
    "# register UDF with the appropriate return type\n",
    "binary_to_embedding_udf = udf(binary_image_to_embedding, ArrayType(FloatType()))"
   ]
  },
  {
   "cell_type": "code",
   "execution_count": null,
   "metadata": {},
   "outputs": [],
   "source": [
    "# apply UDF\n",
    "df_with_embeddings = df.withColumn(\"embeddings\", binary_to_embedding_udf(df[\"data\"]))\n"
   ]
  },
  {
   "cell_type": "code",
   "execution_count": null,
   "metadata": {},
   "outputs": [],
   "source": [
    "df_with_embeddings.show()\n",
    "\n",
    "gcs_embedding_path = \"gs://dsgt-clef-fungiclef-2024/data/parquet/DF20_300px_resnet18/\"\n",
    "\n",
    "df_with_embeddings.write.mode(\"overwrite\").parquet(gcs_embedding_path)"
   ]
  }
 ],
 "metadata": {
  "language_info": {
   "name": "python"
  }
 },
 "nbformat": 4,
 "nbformat_minor": 2
}
