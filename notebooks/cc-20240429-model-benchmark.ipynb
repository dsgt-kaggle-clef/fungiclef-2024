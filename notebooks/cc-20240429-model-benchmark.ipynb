{
 "cells": [
  {
   "cell_type": "code",
   "execution_count": 1,
   "metadata": {},
   "outputs": [],
   "source": [
    "%load_ext autoreload\n",
    "%autoreload 2\n",
    "\n",
    "from fungiclef.train_embedding_metadata import train_embedding_classifier\n",
    "import torch\n",
    "\n",
    "LR = 1e-4"
   ]
  },
  {
   "cell_type": "code",
   "execution_count": 20,
   "metadata": {},
   "outputs": [
    {
     "name": "stderr",
     "output_type": "stream",
     "text": [
      "GPU available: True (cuda), used: True\n",
      "TPU available: False, using: 0 TPU cores\n",
      "IPU available: False, using: 0 IPUs\n",
      "HPU available: False, using: 0 HPUs\n",
      "GPU available: True (cuda), used: True\n",
      "TPU available: False, using: 0 TPU cores\n",
      "IPU available: False, using: 0 IPUs\n",
      "HPU available: False, using: 0 HPUs\n"
     ]
    },
    {
     "data": {
      "text/html": [
       "Tracking run with wandb version 0.16.6"
      ],
      "text/plain": [
       "<IPython.core.display.HTML object>"
      ]
     },
     "metadata": {},
     "output_type": "display_data"
    },
    {
     "data": {
      "text/html": [
       "Run data is saved locally in <code>./wandb/run-20240430_212539-3k448mbt</code>"
      ],
      "text/plain": [
       "<IPython.core.display.HTML object>"
      ]
     },
     "metadata": {},
     "output_type": "display_data"
    },
    {
     "data": {
      "text/html": [
       "Syncing run <strong><a href='https://wandb.ai/chiu/FungiClef/runs/3k448mbt' target=\"_blank\">dino_base</a></strong> to <a href='https://wandb.ai/chiu/FungiClef' target=\"_blank\">Weights & Biases</a> (<a href='https://wandb.me/run' target=\"_blank\">docs</a>)<br/>"
      ],
      "text/plain": [
       "<IPython.core.display.HTML object>"
      ]
     },
     "metadata": {},
     "output_type": "display_data"
    },
    {
     "data": {
      "text/html": [
       " View project at <a href='https://wandb.ai/chiu/FungiClef' target=\"_blank\">https://wandb.ai/chiu/FungiClef</a>"
      ],
      "text/plain": [
       "<IPython.core.display.HTML object>"
      ]
     },
     "metadata": {},
     "output_type": "display_data"
    },
    {
     "data": {
      "text/html": [
       " View run at <a href='https://wandb.ai/chiu/FungiClef/runs/3k448mbt' target=\"_blank\">https://wandb.ai/chiu/FungiClef/runs/3k448mbt</a>"
      ],
      "text/plain": [
       "<IPython.core.display.HTML object>"
      ]
     },
     "metadata": {},
     "output_type": "display_data"
    },
    {
     "name": "stderr",
     "output_type": "stream",
     "text": [
      "/home/chris/miniconda3/envs/fungiclef/lib/python3.11/site-packages/lightning/pytorch/callbacks/model_checkpoint.py:653: Checkpoint directory /home/chris/fungiclef-2024/checkpoints exists and is not empty.\n",
      "LOCAL_RANK: 0 - CUDA_VISIBLE_DEVICES: [0]\n",
      "\n",
      "  | Name                       | Type                  | Params\n",
      "---------------------------------------------------------------------\n",
      "0 | model                      | MultiTargetClassifier | 2.4 M \n",
      "1 | train_accuracy_class_top_1 | MulticlassAccuracy    | 0     \n",
      "2 | valid_accuracy_class_top_1 | MulticlassAccuracy    | 0     \n",
      "3 | train_f1                   | MulticlassF1Score     | 0     \n",
      "4 | valid_f1                   | MulticlassF1Score     | 0     \n",
      "5 | train_accuracy_class_top_3 | MulticlassAccuracy    | 0     \n",
      "6 | valid_accuracy_class_top_3 | MulticlassAccuracy    | 0     \n",
      "7 | train_accuracy_poison      | BinaryAccuracy        | 0     \n",
      "8 | valid_accuracy_poison      | BinaryAccuracy        | 0     \n",
      "---------------------------------------------------------------------\n",
      "2.4 M     Trainable params\n",
      "0         Non-trainable params\n",
      "2.4 M     Total params\n",
      "9.736     Total estimated model params size (MB)\n"
     ]
    },
    {
     "data": {
      "application/vnd.jupyter.widget-view+json": {
       "model_id": "00f8ac32742841a4a52960ef45c30155",
       "version_major": 2,
       "version_minor": 0
      },
      "text/plain": [
       "Sanity Checking: |          | 0/? [00:00<?, ?it/s]"
      ]
     },
     "metadata": {},
     "output_type": "display_data"
    },
    {
     "data": {
      "application/vnd.jupyter.widget-view+json": {
       "model_id": "5ecdb367eab1420cb256bc73a138e511",
       "version_major": 2,
       "version_minor": 0
      },
      "text/plain": [
       "Training: |          | 0/? [00:00<?, ?it/s]"
      ]
     },
     "metadata": {},
     "output_type": "display_data"
    },
    {
     "data": {
      "application/vnd.jupyter.widget-view+json": {
       "model_id": "529c2511c10a47f9ba075d126b7b26ce",
       "version_major": 2,
       "version_minor": 0
      },
      "text/plain": [
       "Validation: |          | 0/? [00:00<?, ?it/s]"
      ]
     },
     "metadata": {},
     "output_type": "display_data"
    },
    {
     "data": {
      "application/vnd.jupyter.widget-view+json": {
       "model_id": "97b64685f6314c529e62135ea380e89d",
       "version_major": 2,
       "version_minor": 0
      },
      "text/plain": [
       "Validation: |          | 0/? [00:00<?, ?it/s]"
      ]
     },
     "metadata": {},
     "output_type": "display_data"
    },
    {
     "data": {
      "application/vnd.jupyter.widget-view+json": {
       "model_id": "cb536065e15146338850d43f6f79c197",
       "version_major": 2,
       "version_minor": 0
      },
      "text/plain": [
       "Validation: |          | 0/? [00:00<?, ?it/s]"
      ]
     },
     "metadata": {},
     "output_type": "display_data"
    },
    {
     "data": {
      "application/vnd.jupyter.widget-view+json": {
       "model_id": "2964232d61784d308d2e7bc9fbca2b7e",
       "version_major": 2,
       "version_minor": 0
      },
      "text/plain": [
       "Validation: |          | 0/? [00:00<?, ?it/s]"
      ]
     },
     "metadata": {},
     "output_type": "display_data"
    },
    {
     "data": {
      "application/vnd.jupyter.widget-view+json": {
       "model_id": "beb7b8aa33264a52962b3ec1bc5e0d6e",
       "version_major": 2,
       "version_minor": 0
      },
      "text/plain": [
       "Validation: |          | 0/? [00:00<?, ?it/s]"
      ]
     },
     "metadata": {},
     "output_type": "display_data"
    },
    {
     "data": {
      "application/vnd.jupyter.widget-view+json": {
       "model_id": "99b5a7279f0b4feb84ad32712eff2c50",
       "version_major": 2,
       "version_minor": 0
      },
      "text/plain": [
       "Validation: |          | 0/? [00:00<?, ?it/s]"
      ]
     },
     "metadata": {},
     "output_type": "display_data"
    },
    {
     "data": {
      "application/vnd.jupyter.widget-view+json": {
       "model_id": "472d794e84d74b0eaea4cb1b72c58f29",
       "version_major": 2,
       "version_minor": 0
      },
      "text/plain": [
       "Validation: |          | 0/? [00:00<?, ?it/s]"
      ]
     },
     "metadata": {},
     "output_type": "display_data"
    },
    {
     "data": {
      "application/vnd.jupyter.widget-view+json": {
       "model_id": "e9d17a3a65024b769a7f661b37443882",
       "version_major": 2,
       "version_minor": 0
      },
      "text/plain": [
       "Validation: |          | 0/? [00:00<?, ?it/s]"
      ]
     },
     "metadata": {},
     "output_type": "display_data"
    },
    {
     "data": {
      "application/vnd.jupyter.widget-view+json": {
       "model_id": "88730dfdaaa845ab93f85bd1511b7256",
       "version_major": 2,
       "version_minor": 0
      },
      "text/plain": [
       "Validation: |          | 0/? [00:00<?, ?it/s]"
      ]
     },
     "metadata": {},
     "output_type": "display_data"
    },
    {
     "data": {
      "application/vnd.jupyter.widget-view+json": {
       "model_id": "0cbe29ced2d6498bbc1ff9d247398bfd",
       "version_major": 2,
       "version_minor": 0
      },
      "text/plain": [
       "Validation: |          | 0/? [00:00<?, ?it/s]"
      ]
     },
     "metadata": {},
     "output_type": "display_data"
    },
    {
     "data": {
      "application/vnd.jupyter.widget-view+json": {
       "model_id": "09a1cd823a2444c5ac30514e21da513f",
       "version_major": 2,
       "version_minor": 0
      },
      "text/plain": [
       "Validation: |          | 0/? [00:00<?, ?it/s]"
      ]
     },
     "metadata": {},
     "output_type": "display_data"
    },
    {
     "data": {
      "application/vnd.jupyter.widget-view+json": {
       "model_id": "dc3368498b62471c8ad06194f2e83b25",
       "version_major": 2,
       "version_minor": 0
      },
      "text/plain": [
       "Validation: |          | 0/? [00:00<?, ?it/s]"
      ]
     },
     "metadata": {},
     "output_type": "display_data"
    },
    {
     "data": {
      "application/vnd.jupyter.widget-view+json": {
       "model_id": "ef63f68fae6146aaa261b7aa1ddbc909",
       "version_major": 2,
       "version_minor": 0
      },
      "text/plain": [
       "Validation: |          | 0/? [00:00<?, ?it/s]"
      ]
     },
     "metadata": {},
     "output_type": "display_data"
    },
    {
     "data": {
      "application/vnd.jupyter.widget-view+json": {
       "model_id": "69adcdffb95d466ab2d6f86a6da44a75",
       "version_major": 2,
       "version_minor": 0
      },
      "text/plain": [
       "Validation: |          | 0/? [00:00<?, ?it/s]"
      ]
     },
     "metadata": {},
     "output_type": "display_data"
    },
    {
     "data": {
      "application/vnd.jupyter.widget-view+json": {
       "model_id": "417e32855a5e42b6b01f187cec4d216d",
       "version_major": 2,
       "version_minor": 0
      },
      "text/plain": [
       "Validation: |          | 0/? [00:00<?, ?it/s]"
      ]
     },
     "metadata": {},
     "output_type": "display_data"
    },
    {
     "data": {
      "application/vnd.jupyter.widget-view+json": {
       "model_id": "5678044b7c834390b1cd5a8e0f89509f",
       "version_major": 2,
       "version_minor": 0
      },
      "text/plain": [
       "Validation: |          | 0/? [00:00<?, ?it/s]"
      ]
     },
     "metadata": {},
     "output_type": "display_data"
    },
    {
     "data": {
      "application/vnd.jupyter.widget-view+json": {
       "model_id": "93a57320749e4cab9cb2ad7afaaa5755",
       "version_major": 2,
       "version_minor": 0
      },
      "text/plain": [
       "Validation: |          | 0/? [00:00<?, ?it/s]"
      ]
     },
     "metadata": {},
     "output_type": "display_data"
    },
    {
     "data": {
      "application/vnd.jupyter.widget-view+json": {
       "model_id": "b9f511181bd148d78c0d985bf5e1912f",
       "version_major": 2,
       "version_minor": 0
      },
      "text/plain": [
       "Validation: |          | 0/? [00:00<?, ?it/s]"
      ]
     },
     "metadata": {},
     "output_type": "display_data"
    },
    {
     "data": {
      "application/vnd.jupyter.widget-view+json": {
       "model_id": "4905fe6dc0644d2490aece232dc925c9",
       "version_major": 2,
       "version_minor": 0
      },
      "text/plain": [
       "Validation: |          | 0/? [00:00<?, ?it/s]"
      ]
     },
     "metadata": {},
     "output_type": "display_data"
    },
    {
     "data": {
      "application/vnd.jupyter.widget-view+json": {
       "model_id": "eece719a69b048ae887ae61e216ad293",
       "version_major": 2,
       "version_minor": 0
      },
      "text/plain": [
       "Validation: |          | 0/? [00:00<?, ?it/s]"
      ]
     },
     "metadata": {},
     "output_type": "display_data"
    },
    {
     "data": {
      "application/vnd.jupyter.widget-view+json": {
       "model_id": "ad45630ce4e94a80b66822f8b36c57b9",
       "version_major": 2,
       "version_minor": 0
      },
      "text/plain": [
       "Validation: |          | 0/? [00:00<?, ?it/s]"
      ]
     },
     "metadata": {},
     "output_type": "display_data"
    },
    {
     "data": {
      "application/vnd.jupyter.widget-view+json": {
       "model_id": "bb7ce04bb0b9444b91f72e07022506f2",
       "version_major": 2,
       "version_minor": 0
      },
      "text/plain": [
       "Validation: |          | 0/? [00:00<?, ?it/s]"
      ]
     },
     "metadata": {},
     "output_type": "display_data"
    },
    {
     "data": {
      "application/vnd.jupyter.widget-view+json": {
       "model_id": "91cec3631dee43e3b0fdf9b1f1f9cfcd",
       "version_major": 2,
       "version_minor": 0
      },
      "text/plain": [
       "Validation: |          | 0/? [00:00<?, ?it/s]"
      ]
     },
     "metadata": {},
     "output_type": "display_data"
    },
    {
     "data": {
      "application/vnd.jupyter.widget-view+json": {
       "model_id": "0613c685d3d24ad297e56e891cd7f453",
       "version_major": 2,
       "version_minor": 0
      },
      "text/plain": [
       "Validation: |          | 0/? [00:00<?, ?it/s]"
      ]
     },
     "metadata": {},
     "output_type": "display_data"
    },
    {
     "data": {
      "application/vnd.jupyter.widget-view+json": {
       "model_id": "7dc1517267574078bac507f8a2f995dc",
       "version_major": 2,
       "version_minor": 0
      },
      "text/plain": [
       "Validation: |          | 0/? [00:00<?, ?it/s]"
      ]
     },
     "metadata": {},
     "output_type": "display_data"
    },
    {
     "data": {
      "application/vnd.jupyter.widget-view+json": {
       "model_id": "4d6813a4fedb49289eda9f729a982805",
       "version_major": 2,
       "version_minor": 0
      },
      "text/plain": [
       "Validation: |          | 0/? [00:00<?, ?it/s]"
      ]
     },
     "metadata": {},
     "output_type": "display_data"
    },
    {
     "data": {
      "application/vnd.jupyter.widget-view+json": {
       "model_id": "80d6fc6ba99346a99e585a6ab771c0ea",
       "version_major": 2,
       "version_minor": 0
      },
      "text/plain": [
       "Validation: |          | 0/? [00:00<?, ?it/s]"
      ]
     },
     "metadata": {},
     "output_type": "display_data"
    },
    {
     "data": {
      "application/vnd.jupyter.widget-view+json": {
       "model_id": "c4ceb1ca184c4534bc9db616dfbdbd6b",
       "version_major": 2,
       "version_minor": 0
      },
      "text/plain": [
       "Validation: |          | 0/? [00:00<?, ?it/s]"
      ]
     },
     "metadata": {},
     "output_type": "display_data"
    },
    {
     "data": {
      "application/vnd.jupyter.widget-view+json": {
       "model_id": "d0ff30467d1542b68cf5d1621e42ee7e",
       "version_major": 2,
       "version_minor": 0
      },
      "text/plain": [
       "Validation: |          | 0/? [00:00<?, ?it/s]"
      ]
     },
     "metadata": {},
     "output_type": "display_data"
    },
    {
     "data": {
      "application/vnd.jupyter.widget-view+json": {
       "model_id": "41a2b56f3700415e828b1a401a91007c",
       "version_major": 2,
       "version_minor": 0
      },
      "text/plain": [
       "Validation: |          | 0/? [00:00<?, ?it/s]"
      ]
     },
     "metadata": {},
     "output_type": "display_data"
    },
    {
     "data": {
      "application/vnd.jupyter.widget-view+json": {
       "model_id": "65ee0e2a3b274031a19e3e280dfbef32",
       "version_major": 2,
       "version_minor": 0
      },
      "text/plain": [
       "Validation: |          | 0/? [00:00<?, ?it/s]"
      ]
     },
     "metadata": {},
     "output_type": "display_data"
    },
    {
     "data": {
      "application/vnd.jupyter.widget-view+json": {
       "model_id": "332d0eaf28bf41eab75963c2a146825b",
       "version_major": 2,
       "version_minor": 0
      },
      "text/plain": [
       "Validation: |          | 0/? [00:00<?, ?it/s]"
      ]
     },
     "metadata": {},
     "output_type": "display_data"
    },
    {
     "data": {
      "application/vnd.jupyter.widget-view+json": {
       "model_id": "d771cf4c86f14d9dbacdabc0ca39139d",
       "version_major": 2,
       "version_minor": 0
      },
      "text/plain": [
       "Validation: |          | 0/? [00:00<?, ?it/s]"
      ]
     },
     "metadata": {},
     "output_type": "display_data"
    },
    {
     "data": {
      "application/vnd.jupyter.widget-view+json": {
       "model_id": "951f82069f724fc4b9a2ade16495c416",
       "version_major": 2,
       "version_minor": 0
      },
      "text/plain": [
       "Validation: |          | 0/? [00:00<?, ?it/s]"
      ]
     },
     "metadata": {},
     "output_type": "display_data"
    },
    {
     "data": {
      "application/vnd.jupyter.widget-view+json": {
       "model_id": "53693f37021b4696b24dfdcd4f846d45",
       "version_major": 2,
       "version_minor": 0
      },
      "text/plain": [
       "Validation: |          | 0/? [00:00<?, ?it/s]"
      ]
     },
     "metadata": {},
     "output_type": "display_data"
    },
    {
     "data": {
      "application/vnd.jupyter.widget-view+json": {
       "model_id": "e5dca628aeb64e338c3db8630b468d7f",
       "version_major": 2,
       "version_minor": 0
      },
      "text/plain": [
       "Validation: |          | 0/? [00:00<?, ?it/s]"
      ]
     },
     "metadata": {},
     "output_type": "display_data"
    },
    {
     "data": {
      "application/vnd.jupyter.widget-view+json": {
       "model_id": "eadf1cf9343f423a91a4b7c92ee28b2a",
       "version_major": 2,
       "version_minor": 0
      },
      "text/plain": [
       "Validation: |          | 0/? [00:00<?, ?it/s]"
      ]
     },
     "metadata": {},
     "output_type": "display_data"
    },
    {
     "data": {
      "application/vnd.jupyter.widget-view+json": {
       "model_id": "a9669c2023ae4875aa24964af114bc35",
       "version_major": 2,
       "version_minor": 0
      },
      "text/plain": [
       "Validation: |          | 0/? [00:00<?, ?it/s]"
      ]
     },
     "metadata": {},
     "output_type": "display_data"
    },
    {
     "data": {
      "application/vnd.jupyter.widget-view+json": {
       "model_id": "4801533f3c2442fd833aec558f22a840",
       "version_major": 2,
       "version_minor": 0
      },
      "text/plain": [
       "Validation: |          | 0/? [00:00<?, ?it/s]"
      ]
     },
     "metadata": {},
     "output_type": "display_data"
    },
    {
     "data": {
      "application/vnd.jupyter.widget-view+json": {
       "model_id": "4f6f5e2a4eaf4f0f84b18590df4174db",
       "version_major": 2,
       "version_minor": 0
      },
      "text/plain": [
       "Validation: |          | 0/? [00:00<?, ?it/s]"
      ]
     },
     "metadata": {},
     "output_type": "display_data"
    },
    {
     "data": {
      "application/vnd.jupyter.widget-view+json": {
       "model_id": "625acedfefc34b05be94ac153ccd6b75",
       "version_major": 2,
       "version_minor": 0
      },
      "text/plain": [
       "Validation: |          | 0/? [00:00<?, ?it/s]"
      ]
     },
     "metadata": {},
     "output_type": "display_data"
    },
    {
     "data": {
      "application/vnd.jupyter.widget-view+json": {
       "model_id": "39c82915ad7a456386dad513824e3a61",
       "version_major": 2,
       "version_minor": 0
      },
      "text/plain": [
       "Validation: |          | 0/? [00:00<?, ?it/s]"
      ]
     },
     "metadata": {},
     "output_type": "display_data"
    },
    {
     "data": {
      "application/vnd.jupyter.widget-view+json": {
       "model_id": "bdbcb5b2fe324edeb1b58fb8d48db076",
       "version_major": 2,
       "version_minor": 0
      },
      "text/plain": [
       "Validation: |          | 0/? [00:00<?, ?it/s]"
      ]
     },
     "metadata": {},
     "output_type": "display_data"
    },
    {
     "data": {
      "application/vnd.jupyter.widget-view+json": {
       "model_id": "78c44e91f5404e708b42213c23e69826",
       "version_major": 2,
       "version_minor": 0
      },
      "text/plain": [
       "Validation: |          | 0/? [00:00<?, ?it/s]"
      ]
     },
     "metadata": {},
     "output_type": "display_data"
    },
    {
     "data": {
      "application/vnd.jupyter.widget-view+json": {
       "model_id": "3bf503b95d2143ea9bb279e986d083ed",
       "version_major": 2,
       "version_minor": 0
      },
      "text/plain": [
       "Validation: |          | 0/? [00:00<?, ?it/s]"
      ]
     },
     "metadata": {},
     "output_type": "display_data"
    },
    {
     "data": {
      "application/vnd.jupyter.widget-view+json": {
       "model_id": "bfc363be395b4944927fdcd7af19737a",
       "version_major": 2,
       "version_minor": 0
      },
      "text/plain": [
       "Validation: |          | 0/? [00:00<?, ?it/s]"
      ]
     },
     "metadata": {},
     "output_type": "display_data"
    },
    {
     "data": {
      "application/vnd.jupyter.widget-view+json": {
       "model_id": "5da88bd8f09c4eafbe7936222e07cc6b",
       "version_major": 2,
       "version_minor": 0
      },
      "text/plain": [
       "Validation: |          | 0/? [00:00<?, ?it/s]"
      ]
     },
     "metadata": {},
     "output_type": "display_data"
    },
    {
     "data": {
      "application/vnd.jupyter.widget-view+json": {
       "model_id": "c624775927e449daa98d7b000615680b",
       "version_major": 2,
       "version_minor": 0
      },
      "text/plain": [
       "Validation: |          | 0/? [00:00<?, ?it/s]"
      ]
     },
     "metadata": {},
     "output_type": "display_data"
    },
    {
     "data": {
      "application/vnd.jupyter.widget-view+json": {
       "model_id": "22977214193f4b3a8a58081d869e4516",
       "version_major": 2,
       "version_minor": 0
      },
      "text/plain": [
       "Validation: |          | 0/? [00:00<?, ?it/s]"
      ]
     },
     "metadata": {},
     "output_type": "display_data"
    },
    {
     "data": {
      "application/vnd.jupyter.widget-view+json": {
       "model_id": "6b997a85533444eb9c2e3b3fe57465de",
       "version_major": 2,
       "version_minor": 0
      },
      "text/plain": [
       "Validation: |          | 0/? [00:00<?, ?it/s]"
      ]
     },
     "metadata": {},
     "output_type": "display_data"
    },
    {
     "name": "stderr",
     "output_type": "stream",
     "text": [
      "`Trainer.fit` stopped: `max_epochs=50` reached.\n"
     ]
    },
    {
     "data": {
      "application/vnd.jupyter.widget-view+json": {
       "model_id": "843667816c2c49cc851a3e062fa01d7a",
       "version_major": 2,
       "version_minor": 0
      },
      "text/plain": [
       "VBox(children=(Label(value='0.004 MB of 0.021 MB uploaded\\r'), FloatProgress(value=0.2035260089068454, max=1.0…"
      ]
     },
     "metadata": {},
     "output_type": "display_data"
    },
    {
     "data": {
      "text/html": [
       "<style>\n",
       "    table.wandb td:nth-child(1) { padding: 0 10px; text-align: left ; width: auto;} td:nth-child(2) {text-align: left ; width: 100%}\n",
       "    .wandb-row { display: flex; flex-direction: row; flex-wrap: wrap; justify-content: flex-start; width: 100% }\n",
       "    .wandb-col { display: flex; flex-direction: column; flex-basis: 100%; flex: 1; padding: 10px; }\n",
       "    </style>\n",
       "<div class=\"wandb-row\"><div class=\"wandb-col\"><h3>Run history:</h3><br/><table class=\"wandb\"><tr><td>epoch</td><td>▁▁▁▁▂▂▂▂▂▃▃▃▃▃▃▄▄▄▄▄▅▅▅▅▅▅▆▆▆▆▆▇▇▇▇▇▇███</td></tr><tr><td>train_acc_cls</td><td>▁▃▄▅▅▆▆▆▆▆▇▇▇▇▇▇▇▇██████████████████████</td></tr><tr><td>train_acc_cls_top_3</td><td>▁▄▅▆▆▇▇▇▇▇▇▇████████████████████████████</td></tr><tr><td>train_acc_poison</td><td>▁▄▅▅▆▆▆▆▇▇▇▇▇▇▇▇▇███████████████████████</td></tr><tr><td>train_f1</td><td>▁▃▄▅▆▆▆▆▇▇▇▇▇▇▇█████████████████████████</td></tr><tr><td>train_loss</td><td>█▅▄▄▃▃▃▂▂▂▂▂▂▂▂▂▁▁▁▁▁▁▁▁▁▁▁▁▁▁▁▁▁▁▁▁▁▁▁▁</td></tr><tr><td>trainer/global_step</td><td>▁▁▁▁▂▂▂▂▂▃▃▃▃▃▃▄▄▄▄▄▅▅▅▅▅▅▆▆▆▆▆▇▇▇▇▇▇███</td></tr><tr><td>val_loss</td><td>▂▁▁▁▁▁▁▁▁▁▂▂▂▂▂▂▃▃▃▃▄▄▄▄▄▄▅▅▅▆▆▅▆▇▇▇▇███</td></tr><tr><td>valid_acc_cls</td><td>▁▅▆▇▇▇▇▇▇█▇▇█▆▇█▇▆▇▇▆▇▇██▇▇▇▇▇▇▇▇▆▇▆▇▇▇▇</td></tr><tr><td>valid_acc_cls_top_3</td><td>▁▄▄▅▆▆▆▆▆▇▇▆▇▇▇▇▇▆▇▇▆▇▇▇██▇▇▇▇▇█▇▆▇▇▇▇▇▇</td></tr><tr><td>valid_acc_poison</td><td>▁▄▅▅█▇▇▆▆▆▅▆█▄▆▅▅▄▄█▅▇▅▆▅▇▆▅█▆▆▆▅▃▆▆▆▅▇▇</td></tr><tr><td>valid_f1</td><td>▁▆▇███▇▇▇██▇█▇▇█▇▇▇█▇▇▇▇█▇▇▇▇▇▇▇▇▆▇▆▇▆▆▆</td></tr></table><br/></div><div class=\"wandb-col\"><h3>Run summary:</h3><br/><table class=\"wandb\"><tr><td>epoch</td><td>49</td></tr><tr><td>train_acc_cls</td><td>0.99413</td></tr><tr><td>train_acc_cls_top_3</td><td>0.99973</td></tr><tr><td>train_acc_poison</td><td>0.99968</td></tr><tr><td>train_f1</td><td>0.99595</td></tr><tr><td>train_loss</td><td>0.03405</td></tr><tr><td>trainer/global_step</td><td>121699</td></tr><tr><td>val_loss</td><td>4.31535</td></tr><tr><td>valid_acc_cls</td><td>0.47948</td></tr><tr><td>valid_acc_cls_top_3</td><td>0.71624</td></tr><tr><td>valid_acc_poison</td><td>0.97312</td></tr><tr><td>valid_f1</td><td>0.10546</td></tr></table><br/></div></div>"
      ],
      "text/plain": [
       "<IPython.core.display.HTML object>"
      ]
     },
     "metadata": {},
     "output_type": "display_data"
    },
    {
     "data": {
      "text/html": [
       " View run <strong style=\"color:#cdcd00\">dino_base</strong> at: <a href='https://wandb.ai/chiu/FungiClef/runs/3k448mbt' target=\"_blank\">https://wandb.ai/chiu/FungiClef/runs/3k448mbt</a><br/> View project at: <a href='https://wandb.ai/chiu/FungiClef' target=\"_blank\">https://wandb.ai/chiu/FungiClef</a><br/>Synced 6 W&B file(s), 0 media file(s), 0 artifact file(s) and 0 other file(s)"
      ],
      "text/plain": [
       "<IPython.core.display.HTML object>"
      ]
     },
     "metadata": {},
     "output_type": "display_data"
    },
    {
     "data": {
      "text/html": [
       "Find logs at: <code>./wandb/run-20240430_212539-3k448mbt/logs</code>"
      ],
      "text/plain": [
       "<IPython.core.display.HTML object>"
      ]
     },
     "metadata": {},
     "output_type": "display_data"
    },
    {
     "name": "stderr",
     "output_type": "stream",
     "text": [
      "GPU available: True (cuda), used: True\n",
      "TPU available: False, using: 0 TPU cores\n",
      "IPU available: False, using: 0 IPUs\n",
      "HPU available: False, using: 0 HPUs\n",
      "GPU available: True (cuda), used: True\n",
      "TPU available: False, using: 0 TPU cores\n",
      "IPU available: False, using: 0 IPUs\n",
      "HPU available: False, using: 0 HPUs\n"
     ]
    },
    {
     "data": {
      "text/html": [
       "Tracking run with wandb version 0.16.6"
      ],
      "text/plain": [
       "<IPython.core.display.HTML object>"
      ]
     },
     "metadata": {},
     "output_type": "display_data"
    },
    {
     "data": {
      "text/html": [
       "Run data is saved locally in <code>./wandb/run-20240430_213758-e55are4j</code>"
      ],
      "text/plain": [
       "<IPython.core.display.HTML object>"
      ]
     },
     "metadata": {},
     "output_type": "display_data"
    },
    {
     "data": {
      "text/html": [
       "Syncing run <strong><a href='https://wandb.ai/chiu/FungiClef/runs/e55are4j' target=\"_blank\">dino_cls-weight</a></strong> to <a href='https://wandb.ai/chiu/FungiClef' target=\"_blank\">Weights & Biases</a> (<a href='https://wandb.me/run' target=\"_blank\">docs</a>)<br/>"
      ],
      "text/plain": [
       "<IPython.core.display.HTML object>"
      ]
     },
     "metadata": {},
     "output_type": "display_data"
    },
    {
     "data": {
      "text/html": [
       " View project at <a href='https://wandb.ai/chiu/FungiClef' target=\"_blank\">https://wandb.ai/chiu/FungiClef</a>"
      ],
      "text/plain": [
       "<IPython.core.display.HTML object>"
      ]
     },
     "metadata": {},
     "output_type": "display_data"
    },
    {
     "data": {
      "text/html": [
       " View run at <a href='https://wandb.ai/chiu/FungiClef/runs/e55are4j' target=\"_blank\">https://wandb.ai/chiu/FungiClef/runs/e55are4j</a>"
      ],
      "text/plain": [
       "<IPython.core.display.HTML object>"
      ]
     },
     "metadata": {},
     "output_type": "display_data"
    },
    {
     "name": "stderr",
     "output_type": "stream",
     "text": [
      "/home/chris/miniconda3/envs/fungiclef/lib/python3.11/site-packages/lightning/pytorch/callbacks/model_checkpoint.py:653: Checkpoint directory /home/chris/fungiclef-2024/checkpoints exists and is not empty.\n",
      "LOCAL_RANK: 0 - CUDA_VISIBLE_DEVICES: [0]\n",
      "\n",
      "  | Name                       | Type                  | Params\n",
      "---------------------------------------------------------------------\n",
      "0 | model                      | MultiTargetClassifier | 2.4 M \n",
      "1 | train_accuracy_class_top_1 | MulticlassAccuracy    | 0     \n",
      "2 | valid_accuracy_class_top_1 | MulticlassAccuracy    | 0     \n",
      "3 | train_f1                   | MulticlassF1Score     | 0     \n",
      "4 | valid_f1                   | MulticlassF1Score     | 0     \n",
      "5 | train_accuracy_class_top_3 | MulticlassAccuracy    | 0     \n",
      "6 | valid_accuracy_class_top_3 | MulticlassAccuracy    | 0     \n",
      "7 | train_accuracy_poison      | BinaryAccuracy        | 0     \n",
      "8 | valid_accuracy_poison      | BinaryAccuracy        | 0     \n",
      "---------------------------------------------------------------------\n",
      "2.4 M     Trainable params\n",
      "0         Non-trainable params\n",
      "2.4 M     Total params\n",
      "9.736     Total estimated model params size (MB)\n"
     ]
    },
    {
     "data": {
      "application/vnd.jupyter.widget-view+json": {
       "model_id": "6edb0894c61a4cc0b60728f55b314912",
       "version_major": 2,
       "version_minor": 0
      },
      "text/plain": [
       "Sanity Checking: |          | 0/? [00:00<?, ?it/s]"
      ]
     },
     "metadata": {},
     "output_type": "display_data"
    },
    {
     "data": {
      "application/vnd.jupyter.widget-view+json": {
       "model_id": "66b72ee16a524194ba62d79adca9fea2",
       "version_major": 2,
       "version_minor": 0
      },
      "text/plain": [
       "Training: |          | 0/? [00:00<?, ?it/s]"
      ]
     },
     "metadata": {},
     "output_type": "display_data"
    },
    {
     "data": {
      "application/vnd.jupyter.widget-view+json": {
       "model_id": "f9e9db9630ac428cbeca3a32534a7689",
       "version_major": 2,
       "version_minor": 0
      },
      "text/plain": [
       "Validation: |          | 0/? [00:00<?, ?it/s]"
      ]
     },
     "metadata": {},
     "output_type": "display_data"
    },
    {
     "data": {
      "application/vnd.jupyter.widget-view+json": {
       "model_id": "ddb9274824ad4c85876cd8aab08911dc",
       "version_major": 2,
       "version_minor": 0
      },
      "text/plain": [
       "Validation: |          | 0/? [00:00<?, ?it/s]"
      ]
     },
     "metadata": {},
     "output_type": "display_data"
    },
    {
     "data": {
      "application/vnd.jupyter.widget-view+json": {
       "model_id": "f4dae8914ce34f09a88dcab7f71d6482",
       "version_major": 2,
       "version_minor": 0
      },
      "text/plain": [
       "Validation: |          | 0/? [00:00<?, ?it/s]"
      ]
     },
     "metadata": {},
     "output_type": "display_data"
    },
    {
     "data": {
      "application/vnd.jupyter.widget-view+json": {
       "model_id": "37f1f47ac3e54e50900b4d05bfc1d3d0",
       "version_major": 2,
       "version_minor": 0
      },
      "text/plain": [
       "Validation: |          | 0/? [00:00<?, ?it/s]"
      ]
     },
     "metadata": {},
     "output_type": "display_data"
    },
    {
     "data": {
      "application/vnd.jupyter.widget-view+json": {
       "model_id": "2a13f1bbfd774a6e98f739b0fd0a13a0",
       "version_major": 2,
       "version_minor": 0
      },
      "text/plain": [
       "Validation: |          | 0/? [00:00<?, ?it/s]"
      ]
     },
     "metadata": {},
     "output_type": "display_data"
    },
    {
     "data": {
      "application/vnd.jupyter.widget-view+json": {
       "model_id": "8d3d905d9dd74940a1068ddce08ab2e7",
       "version_major": 2,
       "version_minor": 0
      },
      "text/plain": [
       "Validation: |          | 0/? [00:00<?, ?it/s]"
      ]
     },
     "metadata": {},
     "output_type": "display_data"
    },
    {
     "data": {
      "application/vnd.jupyter.widget-view+json": {
       "model_id": "5743f29f103449818e268f1d61494f3b",
       "version_major": 2,
       "version_minor": 0
      },
      "text/plain": [
       "Validation: |          | 0/? [00:00<?, ?it/s]"
      ]
     },
     "metadata": {},
     "output_type": "display_data"
    },
    {
     "data": {
      "application/vnd.jupyter.widget-view+json": {
       "model_id": "0c81fa99bc074c9a99adcc31c0ed3819",
       "version_major": 2,
       "version_minor": 0
      },
      "text/plain": [
       "Validation: |          | 0/? [00:00<?, ?it/s]"
      ]
     },
     "metadata": {},
     "output_type": "display_data"
    },
    {
     "data": {
      "application/vnd.jupyter.widget-view+json": {
       "model_id": "fd27681ac21347068e4c69d4a1340898",
       "version_major": 2,
       "version_minor": 0
      },
      "text/plain": [
       "Validation: |          | 0/? [00:00<?, ?it/s]"
      ]
     },
     "metadata": {},
     "output_type": "display_data"
    },
    {
     "data": {
      "application/vnd.jupyter.widget-view+json": {
       "model_id": "a6f1c4330a3f443a9afc5c3cb18b9c37",
       "version_major": 2,
       "version_minor": 0
      },
      "text/plain": [
       "Validation: |          | 0/? [00:00<?, ?it/s]"
      ]
     },
     "metadata": {},
     "output_type": "display_data"
    },
    {
     "data": {
      "application/vnd.jupyter.widget-view+json": {
       "model_id": "80f4a48770a946da87bbb1ff86bc6c83",
       "version_major": 2,
       "version_minor": 0
      },
      "text/plain": [
       "Validation: |          | 0/? [00:00<?, ?it/s]"
      ]
     },
     "metadata": {},
     "output_type": "display_data"
    },
    {
     "data": {
      "application/vnd.jupyter.widget-view+json": {
       "model_id": "b5519a93de734121b659a1e45ef732d9",
       "version_major": 2,
       "version_minor": 0
      },
      "text/plain": [
       "Validation: |          | 0/? [00:00<?, ?it/s]"
      ]
     },
     "metadata": {},
     "output_type": "display_data"
    },
    {
     "data": {
      "application/vnd.jupyter.widget-view+json": {
       "model_id": "45bdcc5e56f94c6b8b556a31c6386f3c",
       "version_major": 2,
       "version_minor": 0
      },
      "text/plain": [
       "Validation: |          | 0/? [00:00<?, ?it/s]"
      ]
     },
     "metadata": {},
     "output_type": "display_data"
    },
    {
     "data": {
      "application/vnd.jupyter.widget-view+json": {
       "model_id": "64ea81edfe024d439df4622124b4a6dc",
       "version_major": 2,
       "version_minor": 0
      },
      "text/plain": [
       "Validation: |          | 0/? [00:00<?, ?it/s]"
      ]
     },
     "metadata": {},
     "output_type": "display_data"
    },
    {
     "data": {
      "application/vnd.jupyter.widget-view+json": {
       "model_id": "30d67156669d476fb27d88379d1e2923",
       "version_major": 2,
       "version_minor": 0
      },
      "text/plain": [
       "Validation: |          | 0/? [00:00<?, ?it/s]"
      ]
     },
     "metadata": {},
     "output_type": "display_data"
    },
    {
     "data": {
      "application/vnd.jupyter.widget-view+json": {
       "model_id": "daec0bd4cce64273a434b0c18403af4d",
       "version_major": 2,
       "version_minor": 0
      },
      "text/plain": [
       "Validation: |          | 0/? [00:00<?, ?it/s]"
      ]
     },
     "metadata": {},
     "output_type": "display_data"
    },
    {
     "data": {
      "application/vnd.jupyter.widget-view+json": {
       "model_id": "c99ef82aa7a74939ba1b3bde07af4ef1",
       "version_major": 2,
       "version_minor": 0
      },
      "text/plain": [
       "Validation: |          | 0/? [00:00<?, ?it/s]"
      ]
     },
     "metadata": {},
     "output_type": "display_data"
    },
    {
     "data": {
      "application/vnd.jupyter.widget-view+json": {
       "model_id": "4eff36a9e214426285bf0fc56a751dde",
       "version_major": 2,
       "version_minor": 0
      },
      "text/plain": [
       "Validation: |          | 0/? [00:00<?, ?it/s]"
      ]
     },
     "metadata": {},
     "output_type": "display_data"
    },
    {
     "data": {
      "application/vnd.jupyter.widget-view+json": {
       "model_id": "fbc45aa26d094c52b93e29574d60dfde",
       "version_major": 2,
       "version_minor": 0
      },
      "text/plain": [
       "Validation: |          | 0/? [00:00<?, ?it/s]"
      ]
     },
     "metadata": {},
     "output_type": "display_data"
    },
    {
     "data": {
      "application/vnd.jupyter.widget-view+json": {
       "model_id": "c1787bda550042a1a3da8c376d3ee23e",
       "version_major": 2,
       "version_minor": 0
      },
      "text/plain": [
       "Validation: |          | 0/? [00:00<?, ?it/s]"
      ]
     },
     "metadata": {},
     "output_type": "display_data"
    },
    {
     "data": {
      "application/vnd.jupyter.widget-view+json": {
       "model_id": "ebf133758da0477283aef1d7ee411cf3",
       "version_major": 2,
       "version_minor": 0
      },
      "text/plain": [
       "Validation: |          | 0/? [00:00<?, ?it/s]"
      ]
     },
     "metadata": {},
     "output_type": "display_data"
    },
    {
     "data": {
      "application/vnd.jupyter.widget-view+json": {
       "model_id": "215e54a898c84c18b5265195fc95d6ac",
       "version_major": 2,
       "version_minor": 0
      },
      "text/plain": [
       "Validation: |          | 0/? [00:00<?, ?it/s]"
      ]
     },
     "metadata": {},
     "output_type": "display_data"
    },
    {
     "data": {
      "application/vnd.jupyter.widget-view+json": {
       "model_id": "20a1cda6ddb4406096557e55c1879d9d",
       "version_major": 2,
       "version_minor": 0
      },
      "text/plain": [
       "Validation: |          | 0/? [00:00<?, ?it/s]"
      ]
     },
     "metadata": {},
     "output_type": "display_data"
    },
    {
     "data": {
      "application/vnd.jupyter.widget-view+json": {
       "model_id": "c50153bd82814d28aa7aa4f96b0d1ff0",
       "version_major": 2,
       "version_minor": 0
      },
      "text/plain": [
       "Validation: |          | 0/? [00:00<?, ?it/s]"
      ]
     },
     "metadata": {},
     "output_type": "display_data"
    },
    {
     "data": {
      "application/vnd.jupyter.widget-view+json": {
       "model_id": "08269c46e5204884a069a7cea0481c06",
       "version_major": 2,
       "version_minor": 0
      },
      "text/plain": [
       "Validation: |          | 0/? [00:00<?, ?it/s]"
      ]
     },
     "metadata": {},
     "output_type": "display_data"
    },
    {
     "data": {
      "application/vnd.jupyter.widget-view+json": {
       "model_id": "d3e05b676e4f41c8b1fc8528246b9c86",
       "version_major": 2,
       "version_minor": 0
      },
      "text/plain": [
       "Validation: |          | 0/? [00:00<?, ?it/s]"
      ]
     },
     "metadata": {},
     "output_type": "display_data"
    },
    {
     "data": {
      "application/vnd.jupyter.widget-view+json": {
       "model_id": "9fa3d61852c54bd586b9b5d1e708ee8f",
       "version_major": 2,
       "version_minor": 0
      },
      "text/plain": [
       "Validation: |          | 0/? [00:00<?, ?it/s]"
      ]
     },
     "metadata": {},
     "output_type": "display_data"
    },
    {
     "data": {
      "application/vnd.jupyter.widget-view+json": {
       "model_id": "7b044fb5b4774e2f85c4e27cb5479909",
       "version_major": 2,
       "version_minor": 0
      },
      "text/plain": [
       "Validation: |          | 0/? [00:00<?, ?it/s]"
      ]
     },
     "metadata": {},
     "output_type": "display_data"
    },
    {
     "data": {
      "application/vnd.jupyter.widget-view+json": {
       "model_id": "3c2ce17e6e3f44c9b8ecdbc5ceee6868",
       "version_major": 2,
       "version_minor": 0
      },
      "text/plain": [
       "Validation: |          | 0/? [00:00<?, ?it/s]"
      ]
     },
     "metadata": {},
     "output_type": "display_data"
    },
    {
     "data": {
      "application/vnd.jupyter.widget-view+json": {
       "model_id": "b01fa57c50694950880135d9bdd60b52",
       "version_major": 2,
       "version_minor": 0
      },
      "text/plain": [
       "Validation: |          | 0/? [00:00<?, ?it/s]"
      ]
     },
     "metadata": {},
     "output_type": "display_data"
    },
    {
     "data": {
      "application/vnd.jupyter.widget-view+json": {
       "model_id": "0c5eb919f12848ecac58d38b36db31d3",
       "version_major": 2,
       "version_minor": 0
      },
      "text/plain": [
       "Validation: |          | 0/? [00:00<?, ?it/s]"
      ]
     },
     "metadata": {},
     "output_type": "display_data"
    },
    {
     "data": {
      "application/vnd.jupyter.widget-view+json": {
       "model_id": "205562acd56c4e53b39fc261106d2057",
       "version_major": 2,
       "version_minor": 0
      },
      "text/plain": [
       "Validation: |          | 0/? [00:00<?, ?it/s]"
      ]
     },
     "metadata": {},
     "output_type": "display_data"
    },
    {
     "data": {
      "application/vnd.jupyter.widget-view+json": {
       "model_id": "34ec70c692984fcfad38e526f35f9566",
       "version_major": 2,
       "version_minor": 0
      },
      "text/plain": [
       "Validation: |          | 0/? [00:00<?, ?it/s]"
      ]
     },
     "metadata": {},
     "output_type": "display_data"
    },
    {
     "data": {
      "application/vnd.jupyter.widget-view+json": {
       "model_id": "e926beb47bf748de8669a5360812d2a8",
       "version_major": 2,
       "version_minor": 0
      },
      "text/plain": [
       "Validation: |          | 0/? [00:00<?, ?it/s]"
      ]
     },
     "metadata": {},
     "output_type": "display_data"
    },
    {
     "data": {
      "application/vnd.jupyter.widget-view+json": {
       "model_id": "b945754ce25e49a3b0de3a38dddea826",
       "version_major": 2,
       "version_minor": 0
      },
      "text/plain": [
       "Validation: |          | 0/? [00:00<?, ?it/s]"
      ]
     },
     "metadata": {},
     "output_type": "display_data"
    },
    {
     "data": {
      "application/vnd.jupyter.widget-view+json": {
       "model_id": "19b302d1b753494ea3582bd4b475e88e",
       "version_major": 2,
       "version_minor": 0
      },
      "text/plain": [
       "Validation: |          | 0/? [00:00<?, ?it/s]"
      ]
     },
     "metadata": {},
     "output_type": "display_data"
    },
    {
     "data": {
      "application/vnd.jupyter.widget-view+json": {
       "model_id": "a5bd4a25a57048e68f49cfee93d70718",
       "version_major": 2,
       "version_minor": 0
      },
      "text/plain": [
       "Validation: |          | 0/? [00:00<?, ?it/s]"
      ]
     },
     "metadata": {},
     "output_type": "display_data"
    },
    {
     "data": {
      "application/vnd.jupyter.widget-view+json": {
       "model_id": "d406468197f24d2989f07311daf843aa",
       "version_major": 2,
       "version_minor": 0
      },
      "text/plain": [
       "Validation: |          | 0/? [00:00<?, ?it/s]"
      ]
     },
     "metadata": {},
     "output_type": "display_data"
    },
    {
     "data": {
      "application/vnd.jupyter.widget-view+json": {
       "model_id": "8f3d07952eaa47e3b1bb2a756d30ec6a",
       "version_major": 2,
       "version_minor": 0
      },
      "text/plain": [
       "Validation: |          | 0/? [00:00<?, ?it/s]"
      ]
     },
     "metadata": {},
     "output_type": "display_data"
    },
    {
     "data": {
      "application/vnd.jupyter.widget-view+json": {
       "model_id": "b26d86d3b83041e2b7086c8283691767",
       "version_major": 2,
       "version_minor": 0
      },
      "text/plain": [
       "Validation: |          | 0/? [00:00<?, ?it/s]"
      ]
     },
     "metadata": {},
     "output_type": "display_data"
    },
    {
     "data": {
      "application/vnd.jupyter.widget-view+json": {
       "model_id": "6c06174cab3342eb885f936e29ee0fe5",
       "version_major": 2,
       "version_minor": 0
      },
      "text/plain": [
       "Validation: |          | 0/? [00:00<?, ?it/s]"
      ]
     },
     "metadata": {},
     "output_type": "display_data"
    },
    {
     "data": {
      "application/vnd.jupyter.widget-view+json": {
       "model_id": "e225fefc97984e34b858925995308fc6",
       "version_major": 2,
       "version_minor": 0
      },
      "text/plain": [
       "Validation: |          | 0/? [00:00<?, ?it/s]"
      ]
     },
     "metadata": {},
     "output_type": "display_data"
    },
    {
     "data": {
      "application/vnd.jupyter.widget-view+json": {
       "model_id": "04163621675245bf9214a608ef21eedd",
       "version_major": 2,
       "version_minor": 0
      },
      "text/plain": [
       "Validation: |          | 0/? [00:00<?, ?it/s]"
      ]
     },
     "metadata": {},
     "output_type": "display_data"
    },
    {
     "data": {
      "application/vnd.jupyter.widget-view+json": {
       "model_id": "38303e8d6c404206b2004b696214b069",
       "version_major": 2,
       "version_minor": 0
      },
      "text/plain": [
       "Validation: |          | 0/? [00:00<?, ?it/s]"
      ]
     },
     "metadata": {},
     "output_type": "display_data"
    },
    {
     "data": {
      "application/vnd.jupyter.widget-view+json": {
       "model_id": "63598fa044b646778a76130a443913bb",
       "version_major": 2,
       "version_minor": 0
      },
      "text/plain": [
       "Validation: |          | 0/? [00:00<?, ?it/s]"
      ]
     },
     "metadata": {},
     "output_type": "display_data"
    },
    {
     "data": {
      "application/vnd.jupyter.widget-view+json": {
       "model_id": "7167d26d533e4f68bb5e3cc11a5267cb",
       "version_major": 2,
       "version_minor": 0
      },
      "text/plain": [
       "Validation: |          | 0/? [00:00<?, ?it/s]"
      ]
     },
     "metadata": {},
     "output_type": "display_data"
    },
    {
     "data": {
      "application/vnd.jupyter.widget-view+json": {
       "model_id": "4bf1ef7c339f457397ef8a5c2746b323",
       "version_major": 2,
       "version_minor": 0
      },
      "text/plain": [
       "Validation: |          | 0/? [00:00<?, ?it/s]"
      ]
     },
     "metadata": {},
     "output_type": "display_data"
    },
    {
     "data": {
      "application/vnd.jupyter.widget-view+json": {
       "model_id": "26e0e422443e47a6ac1e50ddcebaebdf",
       "version_major": 2,
       "version_minor": 0
      },
      "text/plain": [
       "Validation: |          | 0/? [00:00<?, ?it/s]"
      ]
     },
     "metadata": {},
     "output_type": "display_data"
    },
    {
     "data": {
      "application/vnd.jupyter.widget-view+json": {
       "model_id": "2bc9258e90434dfc88bd2450ae2e0aec",
       "version_major": 2,
       "version_minor": 0
      },
      "text/plain": [
       "Validation: |          | 0/? [00:00<?, ?it/s]"
      ]
     },
     "metadata": {},
     "output_type": "display_data"
    },
    {
     "data": {
      "application/vnd.jupyter.widget-view+json": {
       "model_id": "92a6761035dd4ef1abf85feb7cf3bdc4",
       "version_major": 2,
       "version_minor": 0
      },
      "text/plain": [
       "Validation: |          | 0/? [00:00<?, ?it/s]"
      ]
     },
     "metadata": {},
     "output_type": "display_data"
    },
    {
     "name": "stderr",
     "output_type": "stream",
     "text": [
      "`Trainer.fit` stopped: `max_epochs=50` reached.\n"
     ]
    },
    {
     "data": {
      "application/vnd.jupyter.widget-view+json": {
       "model_id": "0b6a6382948640ef8b817d042b0ef277",
       "version_major": 2,
       "version_minor": 0
      },
      "text/plain": [
       "VBox(children=(Label(value='0.004 MB of 0.019 MB uploaded\\r'), FloatProgress(value=0.22574237253603627, max=1.…"
      ]
     },
     "metadata": {},
     "output_type": "display_data"
    },
    {
     "data": {
      "text/html": [
       "<style>\n",
       "    table.wandb td:nth-child(1) { padding: 0 10px; text-align: left ; width: auto;} td:nth-child(2) {text-align: left ; width: 100%}\n",
       "    .wandb-row { display: flex; flex-direction: row; flex-wrap: wrap; justify-content: flex-start; width: 100% }\n",
       "    .wandb-col { display: flex; flex-direction: column; flex-basis: 100%; flex: 1; padding: 10px; }\n",
       "    </style>\n",
       "<div class=\"wandb-row\"><div class=\"wandb-col\"><h3>Run history:</h3><br/><table class=\"wandb\"><tr><td>epoch</td><td>▁▁▁▁▂▂▂▂▂▃▃▃▃▃▃▄▄▄▄▄▅▅▅▅▅▅▆▆▆▆▆▇▇▇▇▇▇███</td></tr><tr><td>train_acc_cls</td><td>▁▂▃▃▄▅▅▅▆▆▆▆▆▆▆▇▇▇▇▇▇▇▇▇▇▇▇█████████████</td></tr><tr><td>train_acc_cls_top_3</td><td>▁▃▄▅▆▆▆▆▇▇▇▇▇▇▇▇▇▇▇▇████████████████████</td></tr><tr><td>train_acc_poison</td><td>▁▂▂▃▄▄▄▅▅▅▅▅▅▆▆▆▆▆▆▇▇▇▇▇▇▇▇▇▇█▇█████████</td></tr><tr><td>train_f1</td><td>▁▂▂▃▄▅▅▅▆▆▆▆▇▇▇▇▇▇▇▇▇▇▇▇████████████████</td></tr><tr><td>train_loss</td><td>█▅▄▃▃▃▃▂▂▂▂▂▂▂▂▂▂▁▁▁▁▁▁▁▁▁▁▁▁▁▁▁▁▁▁▁▁▁▁▁</td></tr><tr><td>trainer/global_step</td><td>▁▁▁▁▂▂▂▂▂▃▃▃▃▃▃▄▄▄▄▄▅▅▅▅▅▅▆▆▆▆▆▇▇▇▇▇▇███</td></tr><tr><td>val_loss</td><td>▁▁▁▁▁▂▂▂▂▂▃▃▃▃▄▃▄▄▄▄▅▅▅▅▅▅▆▆▆▇▇▇▇▇█▇▆▇█▇</td></tr><tr><td>valid_acc_cls</td><td>▁▃▃▅▆▇▇▇████████████▇██▇██▇▇▇▇▇▇▇▇▇▇▇▇▇▇</td></tr><tr><td>valid_acc_cls_top_3</td><td>▁▄▅▆▇▇████████████▇█▇▇▇▇▇▇▇▇▇▇▇▇▇▇▆▇▇▇▆▇</td></tr><tr><td>valid_acc_poison</td><td>▁▂▃▅▆▆▇▇▇▆█████▇█▇▇▇▇▆▆▆▅▆▅▅▇▅▅▅▅▅▃▅▆▄▃▅</td></tr><tr><td>valid_f1</td><td>▁▄▇▇█▆█▆▆▆▆▆▅▅▅▅▄▅▄▄▄▃▃▄▄▃▃▃▃▂▂▂▃▂▂▂▃▂▂▂</td></tr></table><br/></div><div class=\"wandb-col\"><h3>Run summary:</h3><br/><table class=\"wandb\"><tr><td>epoch</td><td>49</td></tr><tr><td>train_acc_cls</td><td>0.61656</td></tr><tr><td>train_acc_cls_top_3</td><td>0.64746</td></tr><tr><td>train_acc_poison</td><td>0.97294</td></tr><tr><td>train_f1</td><td>0.37013</td></tr><tr><td>train_loss</td><td>0.02198</td></tr><tr><td>trainer/global_step</td><td>121699</td></tr><tr><td>val_loss</td><td>2.24338</td></tr><tr><td>valid_acc_cls</td><td>0.65469</td></tr><tr><td>valid_acc_cls_top_3</td><td>0.83252</td></tr><tr><td>valid_acc_poison</td><td>0.98373</td></tr><tr><td>valid_f1</td><td>0.1571</td></tr></table><br/></div></div>"
      ],
      "text/plain": [
       "<IPython.core.display.HTML object>"
      ]
     },
     "metadata": {},
     "output_type": "display_data"
    },
    {
     "data": {
      "text/html": [
       " View run <strong style=\"color:#cdcd00\">dino_cls-weight</strong> at: <a href='https://wandb.ai/chiu/FungiClef/runs/e55are4j' target=\"_blank\">https://wandb.ai/chiu/FungiClef/runs/e55are4j</a><br/> View project at: <a href='https://wandb.ai/chiu/FungiClef' target=\"_blank\">https://wandb.ai/chiu/FungiClef</a><br/>Synced 6 W&B file(s), 0 media file(s), 0 artifact file(s) and 0 other file(s)"
      ],
      "text/plain": [
       "<IPython.core.display.HTML object>"
      ]
     },
     "metadata": {},
     "output_type": "display_data"
    },
    {
     "data": {
      "text/html": [
       "Find logs at: <code>./wandb/run-20240430_213758-e55are4j/logs</code>"
      ],
      "text/plain": [
       "<IPython.core.display.HTML object>"
      ]
     },
     "metadata": {},
     "output_type": "display_data"
    },
    {
     "name": "stderr",
     "output_type": "stream",
     "text": [
      "GPU available: True (cuda), used: True\n",
      "TPU available: False, using: 0 TPU cores\n",
      "IPU available: False, using: 0 IPUs\n",
      "HPU available: False, using: 0 HPUs\n",
      "GPU available: True (cuda), used: True\n",
      "TPU available: False, using: 0 TPU cores\n",
      "IPU available: False, using: 0 IPUs\n",
      "HPU available: False, using: 0 HPUs\n"
     ]
    },
    {
     "data": {
      "text/html": [
       "Tracking run with wandb version 0.16.6"
      ],
      "text/plain": [
       "<IPython.core.display.HTML object>"
      ]
     },
     "metadata": {},
     "output_type": "display_data"
    },
    {
     "data": {
      "text/html": [
       "Run data is saved locally in <code>./wandb/run-20240430_214958-2gnwskhp</code>"
      ],
      "text/plain": [
       "<IPython.core.display.HTML object>"
      ]
     },
     "metadata": {},
     "output_type": "display_data"
    },
    {
     "data": {
      "text/html": [
       "Syncing run <strong><a href='https://wandb.ai/chiu/FungiClef/runs/2gnwskhp' target=\"_blank\">dino_sampler</a></strong> to <a href='https://wandb.ai/chiu/FungiClef' target=\"_blank\">Weights & Biases</a> (<a href='https://wandb.me/run' target=\"_blank\">docs</a>)<br/>"
      ],
      "text/plain": [
       "<IPython.core.display.HTML object>"
      ]
     },
     "metadata": {},
     "output_type": "display_data"
    },
    {
     "data": {
      "text/html": [
       " View project at <a href='https://wandb.ai/chiu/FungiClef' target=\"_blank\">https://wandb.ai/chiu/FungiClef</a>"
      ],
      "text/plain": [
       "<IPython.core.display.HTML object>"
      ]
     },
     "metadata": {},
     "output_type": "display_data"
    },
    {
     "data": {
      "text/html": [
       " View run at <a href='https://wandb.ai/chiu/FungiClef/runs/2gnwskhp' target=\"_blank\">https://wandb.ai/chiu/FungiClef/runs/2gnwskhp</a>"
      ],
      "text/plain": [
       "<IPython.core.display.HTML object>"
      ]
     },
     "metadata": {},
     "output_type": "display_data"
    },
    {
     "name": "stderr",
     "output_type": "stream",
     "text": [
      "/home/chris/miniconda3/envs/fungiclef/lib/python3.11/site-packages/lightning/pytorch/callbacks/model_checkpoint.py:653: Checkpoint directory /home/chris/fungiclef-2024/checkpoints exists and is not empty.\n",
      "LOCAL_RANK: 0 - CUDA_VISIBLE_DEVICES: [0]\n",
      "\n",
      "  | Name                       | Type                  | Params\n",
      "---------------------------------------------------------------------\n",
      "0 | model                      | MultiTargetClassifier | 2.4 M \n",
      "1 | train_accuracy_class_top_1 | MulticlassAccuracy    | 0     \n",
      "2 | valid_accuracy_class_top_1 | MulticlassAccuracy    | 0     \n",
      "3 | train_f1                   | MulticlassF1Score     | 0     \n",
      "4 | valid_f1                   | MulticlassF1Score     | 0     \n",
      "5 | train_accuracy_class_top_3 | MulticlassAccuracy    | 0     \n",
      "6 | valid_accuracy_class_top_3 | MulticlassAccuracy    | 0     \n",
      "7 | train_accuracy_poison      | BinaryAccuracy        | 0     \n",
      "8 | valid_accuracy_poison      | BinaryAccuracy        | 0     \n",
      "---------------------------------------------------------------------\n",
      "2.4 M     Trainable params\n",
      "0         Non-trainable params\n",
      "2.4 M     Total params\n",
      "9.736     Total estimated model params size (MB)\n"
     ]
    },
    {
     "data": {
      "application/vnd.jupyter.widget-view+json": {
       "model_id": "48e25def7c7f4d92956d2487e53e3506",
       "version_major": 2,
       "version_minor": 0
      },
      "text/plain": [
       "Sanity Checking: |          | 0/? [00:00<?, ?it/s]"
      ]
     },
     "metadata": {},
     "output_type": "display_data"
    },
    {
     "data": {
      "application/vnd.jupyter.widget-view+json": {
       "model_id": "38ff748221434b79a27e9a9812e4cbbb",
       "version_major": 2,
       "version_minor": 0
      },
      "text/plain": [
       "Training: |          | 0/? [00:00<?, ?it/s]"
      ]
     },
     "metadata": {},
     "output_type": "display_data"
    },
    {
     "data": {
      "application/vnd.jupyter.widget-view+json": {
       "model_id": "2dd485738b9d403fa88e9c55f374d832",
       "version_major": 2,
       "version_minor": 0
      },
      "text/plain": [
       "Validation: |          | 0/? [00:00<?, ?it/s]"
      ]
     },
     "metadata": {},
     "output_type": "display_data"
    },
    {
     "data": {
      "application/vnd.jupyter.widget-view+json": {
       "model_id": "df990fa0824c471c92789886b7299c1d",
       "version_major": 2,
       "version_minor": 0
      },
      "text/plain": [
       "Validation: |          | 0/? [00:00<?, ?it/s]"
      ]
     },
     "metadata": {},
     "output_type": "display_data"
    },
    {
     "data": {
      "application/vnd.jupyter.widget-view+json": {
       "model_id": "1d00f5256433440b87fcce10e3ab3102",
       "version_major": 2,
       "version_minor": 0
      },
      "text/plain": [
       "Validation: |          | 0/? [00:00<?, ?it/s]"
      ]
     },
     "metadata": {},
     "output_type": "display_data"
    },
    {
     "data": {
      "application/vnd.jupyter.widget-view+json": {
       "model_id": "7bd02e7bf9514412b1d522f6b89783ed",
       "version_major": 2,
       "version_minor": 0
      },
      "text/plain": [
       "Validation: |          | 0/? [00:00<?, ?it/s]"
      ]
     },
     "metadata": {},
     "output_type": "display_data"
    },
    {
     "data": {
      "application/vnd.jupyter.widget-view+json": {
       "model_id": "d5264f2a8bfe4e6a822bbf42d2e8319a",
       "version_major": 2,
       "version_minor": 0
      },
      "text/plain": [
       "Validation: |          | 0/? [00:00<?, ?it/s]"
      ]
     },
     "metadata": {},
     "output_type": "display_data"
    },
    {
     "data": {
      "application/vnd.jupyter.widget-view+json": {
       "model_id": "ba04a85ea8bf4fc2b7ff826b8d267c47",
       "version_major": 2,
       "version_minor": 0
      },
      "text/plain": [
       "Validation: |          | 0/? [00:00<?, ?it/s]"
      ]
     },
     "metadata": {},
     "output_type": "display_data"
    },
    {
     "data": {
      "application/vnd.jupyter.widget-view+json": {
       "model_id": "b88f33d7023e463c82861e7c56a1088d",
       "version_major": 2,
       "version_minor": 0
      },
      "text/plain": [
       "Validation: |          | 0/? [00:00<?, ?it/s]"
      ]
     },
     "metadata": {},
     "output_type": "display_data"
    },
    {
     "data": {
      "application/vnd.jupyter.widget-view+json": {
       "model_id": "9214ba41a21b4cd9ac96fded0d4c4235",
       "version_major": 2,
       "version_minor": 0
      },
      "text/plain": [
       "Validation: |          | 0/? [00:00<?, ?it/s]"
      ]
     },
     "metadata": {},
     "output_type": "display_data"
    },
    {
     "data": {
      "application/vnd.jupyter.widget-view+json": {
       "model_id": "258e7b22755c4fdb953ef089266ee518",
       "version_major": 2,
       "version_minor": 0
      },
      "text/plain": [
       "Validation: |          | 0/? [00:00<?, ?it/s]"
      ]
     },
     "metadata": {},
     "output_type": "display_data"
    },
    {
     "data": {
      "application/vnd.jupyter.widget-view+json": {
       "model_id": "65e6d85ee0434679b1ebd9b0367288de",
       "version_major": 2,
       "version_minor": 0
      },
      "text/plain": [
       "Validation: |          | 0/? [00:00<?, ?it/s]"
      ]
     },
     "metadata": {},
     "output_type": "display_data"
    },
    {
     "data": {
      "application/vnd.jupyter.widget-view+json": {
       "model_id": "ff8161b3771f479880135c85105e929f",
       "version_major": 2,
       "version_minor": 0
      },
      "text/plain": [
       "Validation: |          | 0/? [00:00<?, ?it/s]"
      ]
     },
     "metadata": {},
     "output_type": "display_data"
    },
    {
     "data": {
      "application/vnd.jupyter.widget-view+json": {
       "model_id": "144cc93e53e74085afd8ea1331f15d5c",
       "version_major": 2,
       "version_minor": 0
      },
      "text/plain": [
       "Validation: |          | 0/? [00:00<?, ?it/s]"
      ]
     },
     "metadata": {},
     "output_type": "display_data"
    },
    {
     "data": {
      "application/vnd.jupyter.widget-view+json": {
       "model_id": "89e932e2a6e74ebb991907c99f3495f1",
       "version_major": 2,
       "version_minor": 0
      },
      "text/plain": [
       "Validation: |          | 0/? [00:00<?, ?it/s]"
      ]
     },
     "metadata": {},
     "output_type": "display_data"
    },
    {
     "data": {
      "application/vnd.jupyter.widget-view+json": {
       "model_id": "103b0a67ae24483aba9bb6a04c7a8bfa",
       "version_major": 2,
       "version_minor": 0
      },
      "text/plain": [
       "Validation: |          | 0/? [00:00<?, ?it/s]"
      ]
     },
     "metadata": {},
     "output_type": "display_data"
    },
    {
     "data": {
      "application/vnd.jupyter.widget-view+json": {
       "model_id": "6d65446c7b3f46dfbd7c5514299653a7",
       "version_major": 2,
       "version_minor": 0
      },
      "text/plain": [
       "Validation: |          | 0/? [00:00<?, ?it/s]"
      ]
     },
     "metadata": {},
     "output_type": "display_data"
    },
    {
     "data": {
      "application/vnd.jupyter.widget-view+json": {
       "model_id": "400681e5f69247d1a1daa2093d078202",
       "version_major": 2,
       "version_minor": 0
      },
      "text/plain": [
       "Validation: |          | 0/? [00:00<?, ?it/s]"
      ]
     },
     "metadata": {},
     "output_type": "display_data"
    },
    {
     "data": {
      "application/vnd.jupyter.widget-view+json": {
       "model_id": "970ddc059e3c40a691532524c51cf0d8",
       "version_major": 2,
       "version_minor": 0
      },
      "text/plain": [
       "Validation: |          | 0/? [00:00<?, ?it/s]"
      ]
     },
     "metadata": {},
     "output_type": "display_data"
    },
    {
     "data": {
      "application/vnd.jupyter.widget-view+json": {
       "model_id": "1e8ccd347707447da380db1d5ba78c13",
       "version_major": 2,
       "version_minor": 0
      },
      "text/plain": [
       "Validation: |          | 0/? [00:00<?, ?it/s]"
      ]
     },
     "metadata": {},
     "output_type": "display_data"
    },
    {
     "data": {
      "application/vnd.jupyter.widget-view+json": {
       "model_id": "ee521c0d20924cc2ab7bbf54b9b3cec5",
       "version_major": 2,
       "version_minor": 0
      },
      "text/plain": [
       "Validation: |          | 0/? [00:00<?, ?it/s]"
      ]
     },
     "metadata": {},
     "output_type": "display_data"
    },
    {
     "data": {
      "application/vnd.jupyter.widget-view+json": {
       "model_id": "65a3a1f2c2d94086ba9c10189d40451e",
       "version_major": 2,
       "version_minor": 0
      },
      "text/plain": [
       "Validation: |          | 0/? [00:00<?, ?it/s]"
      ]
     },
     "metadata": {},
     "output_type": "display_data"
    },
    {
     "data": {
      "application/vnd.jupyter.widget-view+json": {
       "model_id": "99cf3e3fdf9349b8b617331257e64753",
       "version_major": 2,
       "version_minor": 0
      },
      "text/plain": [
       "Validation: |          | 0/? [00:00<?, ?it/s]"
      ]
     },
     "metadata": {},
     "output_type": "display_data"
    },
    {
     "data": {
      "application/vnd.jupyter.widget-view+json": {
       "model_id": "d4a8c7b54ba0427b8463c559be32f2bb",
       "version_major": 2,
       "version_minor": 0
      },
      "text/plain": [
       "Validation: |          | 0/? [00:00<?, ?it/s]"
      ]
     },
     "metadata": {},
     "output_type": "display_data"
    },
    {
     "data": {
      "application/vnd.jupyter.widget-view+json": {
       "model_id": "fbeaebd6041c4fcb876762e696ce6461",
       "version_major": 2,
       "version_minor": 0
      },
      "text/plain": [
       "Validation: |          | 0/? [00:00<?, ?it/s]"
      ]
     },
     "metadata": {},
     "output_type": "display_data"
    },
    {
     "data": {
      "application/vnd.jupyter.widget-view+json": {
       "model_id": "acdf60731fd84ba0889d3c1ee2b1f350",
       "version_major": 2,
       "version_minor": 0
      },
      "text/plain": [
       "Validation: |          | 0/? [00:00<?, ?it/s]"
      ]
     },
     "metadata": {},
     "output_type": "display_data"
    },
    {
     "data": {
      "application/vnd.jupyter.widget-view+json": {
       "model_id": "babf08a6b42c4b70bd47e010532a4e63",
       "version_major": 2,
       "version_minor": 0
      },
      "text/plain": [
       "Validation: |          | 0/? [00:00<?, ?it/s]"
      ]
     },
     "metadata": {},
     "output_type": "display_data"
    },
    {
     "data": {
      "application/vnd.jupyter.widget-view+json": {
       "model_id": "5e976e1887b84066a6cd718cca87e1af",
       "version_major": 2,
       "version_minor": 0
      },
      "text/plain": [
       "Validation: |          | 0/? [00:00<?, ?it/s]"
      ]
     },
     "metadata": {},
     "output_type": "display_data"
    },
    {
     "data": {
      "application/vnd.jupyter.widget-view+json": {
       "model_id": "94692bfc97eb4b67b416a2f4dee6cd24",
       "version_major": 2,
       "version_minor": 0
      },
      "text/plain": [
       "Validation: |          | 0/? [00:00<?, ?it/s]"
      ]
     },
     "metadata": {},
     "output_type": "display_data"
    },
    {
     "data": {
      "application/vnd.jupyter.widget-view+json": {
       "model_id": "454f683402ea4d4a90add4dda6834ac8",
       "version_major": 2,
       "version_minor": 0
      },
      "text/plain": [
       "Validation: |          | 0/? [00:00<?, ?it/s]"
      ]
     },
     "metadata": {},
     "output_type": "display_data"
    },
    {
     "data": {
      "application/vnd.jupyter.widget-view+json": {
       "model_id": "689d825c78e645e1b897ae1b64f99641",
       "version_major": 2,
       "version_minor": 0
      },
      "text/plain": [
       "Validation: |          | 0/? [00:00<?, ?it/s]"
      ]
     },
     "metadata": {},
     "output_type": "display_data"
    },
    {
     "data": {
      "application/vnd.jupyter.widget-view+json": {
       "model_id": "61eaa139fa064000afa2ea17a22764a7",
       "version_major": 2,
       "version_minor": 0
      },
      "text/plain": [
       "Validation: |          | 0/? [00:00<?, ?it/s]"
      ]
     },
     "metadata": {},
     "output_type": "display_data"
    },
    {
     "data": {
      "application/vnd.jupyter.widget-view+json": {
       "model_id": "8cce22c562a64712900d16ae402fc05a",
       "version_major": 2,
       "version_minor": 0
      },
      "text/plain": [
       "Validation: |          | 0/? [00:00<?, ?it/s]"
      ]
     },
     "metadata": {},
     "output_type": "display_data"
    },
    {
     "data": {
      "application/vnd.jupyter.widget-view+json": {
       "model_id": "6830bbf42b5744dcbfd2a6beea49ff6a",
       "version_major": 2,
       "version_minor": 0
      },
      "text/plain": [
       "Validation: |          | 0/? [00:00<?, ?it/s]"
      ]
     },
     "metadata": {},
     "output_type": "display_data"
    },
    {
     "data": {
      "application/vnd.jupyter.widget-view+json": {
       "model_id": "d0288850029d44b995b83900c67ac944",
       "version_major": 2,
       "version_minor": 0
      },
      "text/plain": [
       "Validation: |          | 0/? [00:00<?, ?it/s]"
      ]
     },
     "metadata": {},
     "output_type": "display_data"
    },
    {
     "data": {
      "application/vnd.jupyter.widget-view+json": {
       "model_id": "282fc493f48b419b8fda87f0b7cf56ef",
       "version_major": 2,
       "version_minor": 0
      },
      "text/plain": [
       "Validation: |          | 0/? [00:00<?, ?it/s]"
      ]
     },
     "metadata": {},
     "output_type": "display_data"
    },
    {
     "data": {
      "application/vnd.jupyter.widget-view+json": {
       "model_id": "158ede929106457397dbc6ee47f9bd32",
       "version_major": 2,
       "version_minor": 0
      },
      "text/plain": [
       "Validation: |          | 0/? [00:00<?, ?it/s]"
      ]
     },
     "metadata": {},
     "output_type": "display_data"
    },
    {
     "data": {
      "application/vnd.jupyter.widget-view+json": {
       "model_id": "a291f1261d2c403e942cc5376ea39fc2",
       "version_major": 2,
       "version_minor": 0
      },
      "text/plain": [
       "Validation: |          | 0/? [00:00<?, ?it/s]"
      ]
     },
     "metadata": {},
     "output_type": "display_data"
    },
    {
     "data": {
      "application/vnd.jupyter.widget-view+json": {
       "model_id": "a40844556fd64f18881a4250d8516916",
       "version_major": 2,
       "version_minor": 0
      },
      "text/plain": [
       "Validation: |          | 0/? [00:00<?, ?it/s]"
      ]
     },
     "metadata": {},
     "output_type": "display_data"
    },
    {
     "data": {
      "application/vnd.jupyter.widget-view+json": {
       "model_id": "15f1cd15c54b466e93351b16ef6b5b1c",
       "version_major": 2,
       "version_minor": 0
      },
      "text/plain": [
       "Validation: |          | 0/? [00:00<?, ?it/s]"
      ]
     },
     "metadata": {},
     "output_type": "display_data"
    },
    {
     "data": {
      "application/vnd.jupyter.widget-view+json": {
       "model_id": "5ade81a637164583aa2616806e8e4306",
       "version_major": 2,
       "version_minor": 0
      },
      "text/plain": [
       "Validation: |          | 0/? [00:00<?, ?it/s]"
      ]
     },
     "metadata": {},
     "output_type": "display_data"
    },
    {
     "data": {
      "application/vnd.jupyter.widget-view+json": {
       "model_id": "9d99db0e1f0c4f809c9bd9c4fafae4be",
       "version_major": 2,
       "version_minor": 0
      },
      "text/plain": [
       "Validation: |          | 0/? [00:00<?, ?it/s]"
      ]
     },
     "metadata": {},
     "output_type": "display_data"
    },
    {
     "data": {
      "application/vnd.jupyter.widget-view+json": {
       "model_id": "7b64434853764f97a3587ccf3b739175",
       "version_major": 2,
       "version_minor": 0
      },
      "text/plain": [
       "Validation: |          | 0/? [00:00<?, ?it/s]"
      ]
     },
     "metadata": {},
     "output_type": "display_data"
    },
    {
     "data": {
      "application/vnd.jupyter.widget-view+json": {
       "model_id": "f8b1b84a93ed443aa3e24b97f7007d63",
       "version_major": 2,
       "version_minor": 0
      },
      "text/plain": [
       "Validation: |          | 0/? [00:00<?, ?it/s]"
      ]
     },
     "metadata": {},
     "output_type": "display_data"
    },
    {
     "data": {
      "application/vnd.jupyter.widget-view+json": {
       "model_id": "692e2d1850c441ccad3e31a6b0275423",
       "version_major": 2,
       "version_minor": 0
      },
      "text/plain": [
       "Validation: |          | 0/? [00:00<?, ?it/s]"
      ]
     },
     "metadata": {},
     "output_type": "display_data"
    },
    {
     "data": {
      "application/vnd.jupyter.widget-view+json": {
       "model_id": "f28597542ceb41d88f4df93a06d0803a",
       "version_major": 2,
       "version_minor": 0
      },
      "text/plain": [
       "Validation: |          | 0/? [00:00<?, ?it/s]"
      ]
     },
     "metadata": {},
     "output_type": "display_data"
    },
    {
     "data": {
      "application/vnd.jupyter.widget-view+json": {
       "model_id": "6d2af94447ac4f07856afc0bd12cef3d",
       "version_major": 2,
       "version_minor": 0
      },
      "text/plain": [
       "Validation: |          | 0/? [00:00<?, ?it/s]"
      ]
     },
     "metadata": {},
     "output_type": "display_data"
    },
    {
     "data": {
      "application/vnd.jupyter.widget-view+json": {
       "model_id": "7aa328ed3fec47faac8b7b34d70949e1",
       "version_major": 2,
       "version_minor": 0
      },
      "text/plain": [
       "Validation: |          | 0/? [00:00<?, ?it/s]"
      ]
     },
     "metadata": {},
     "output_type": "display_data"
    },
    {
     "data": {
      "application/vnd.jupyter.widget-view+json": {
       "model_id": "c54c445cc1dc4279be2269e9a35408b7",
       "version_major": 2,
       "version_minor": 0
      },
      "text/plain": [
       "Validation: |          | 0/? [00:00<?, ?it/s]"
      ]
     },
     "metadata": {},
     "output_type": "display_data"
    },
    {
     "data": {
      "application/vnd.jupyter.widget-view+json": {
       "model_id": "60de2953a343494d8724b6703567a6e1",
       "version_major": 2,
       "version_minor": 0
      },
      "text/plain": [
       "Validation: |          | 0/? [00:00<?, ?it/s]"
      ]
     },
     "metadata": {},
     "output_type": "display_data"
    },
    {
     "data": {
      "application/vnd.jupyter.widget-view+json": {
       "model_id": "adb21ca7e89d498ba3e31b24704049e8",
       "version_major": 2,
       "version_minor": 0
      },
      "text/plain": [
       "Validation: |          | 0/? [00:00<?, ?it/s]"
      ]
     },
     "metadata": {},
     "output_type": "display_data"
    },
    {
     "data": {
      "application/vnd.jupyter.widget-view+json": {
       "model_id": "ebe8e6665dec4acea24a9ce8a18840a4",
       "version_major": 2,
       "version_minor": 0
      },
      "text/plain": [
       "Validation: |          | 0/? [00:00<?, ?it/s]"
      ]
     },
     "metadata": {},
     "output_type": "display_data"
    },
    {
     "name": "stderr",
     "output_type": "stream",
     "text": [
      "`Trainer.fit` stopped: `max_epochs=50` reached.\n"
     ]
    },
    {
     "data": {
      "application/vnd.jupyter.widget-view+json": {
       "model_id": "940f3eb1c5d44d5bb677df0a99d4c4bb",
       "version_major": 2,
       "version_minor": 0
      },
      "text/plain": [
       "VBox(children=(Label(value='0.004 MB of 0.004 MB uploaded\\r'), FloatProgress(value=1.0, max=1.0)))"
      ]
     },
     "metadata": {},
     "output_type": "display_data"
    },
    {
     "data": {
      "text/html": [
       "<style>\n",
       "    table.wandb td:nth-child(1) { padding: 0 10px; text-align: left ; width: auto;} td:nth-child(2) {text-align: left ; width: 100%}\n",
       "    .wandb-row { display: flex; flex-direction: row; flex-wrap: wrap; justify-content: flex-start; width: 100% }\n",
       "    .wandb-col { display: flex; flex-direction: column; flex-basis: 100%; flex: 1; padding: 10px; }\n",
       "    </style>\n",
       "<div class=\"wandb-row\"><div class=\"wandb-col\"><h3>Run history:</h3><br/><table class=\"wandb\"><tr><td>epoch</td><td>▁▁▁▁▂▂▂▂▂▃▃▃▃▃▃▄▄▄▄▄▅▅▅▅▅▅▆▆▆▆▆▇▇▇▇▇▇███</td></tr><tr><td>train_acc_cls</td><td>▁▅▆▆▇▇▇▇████████████████████████████████</td></tr><tr><td>train_acc_cls_top_3</td><td>▁▆▇▇▇███████████████████████████████████</td></tr><tr><td>train_acc_poison</td><td>▁▅▆▇▇▇▇▇████████████████████████████████</td></tr><tr><td>train_f1</td><td>▁▅▆▆▇▇▇▇▇▇▇▇▇▇▇██▇███▇████████▇█████████</td></tr><tr><td>train_loss</td><td>█▄▃▃▂▂▂▂▁▁▁▁▁▁▁▁▁▁▁▁▁▁▁▁▁▁▁▁▁▁▁▁▁▁▁▁▁▁▁▁</td></tr><tr><td>trainer/global_step</td><td>▁▁▁▁▂▂▂▂▂▃▃▃▃▃▃▄▄▄▄▄▅▅▅▅▅▅▆▆▆▆▆▇▇▇▇▇▇███</td></tr><tr><td>val_loss</td><td>▇█▆▄▃▅▄▂▅▃▂▃▄▁▂▄▁▅▅▄▆▇▂▄▃▆▄▆▅▆▄▅▅▆▅▅▅▄▄▃</td></tr><tr><td>valid_acc_cls</td><td>▁▄▅▆▆▆▇▇▇▇▇▇▇█▇██▇▇█▇▇███▇██████████████</td></tr><tr><td>valid_acc_cls_top_3</td><td>▁▃▄▅▅▅▅▅▅▅▆▅▅▆▆▆▆▆▆▆▆▅▆▆▆▆▇▆▆▆▆▆▆▆▆▆▇▇▇█</td></tr><tr><td>valid_acc_poison</td><td>▁▂▂▄▄▅▅▅▅▁▅▅▅▆▆▆▅▆▇▇▃▆▆▅▆▆█▅▆▆█▇▆▇▇▇▆▇▆█</td></tr><tr><td>valid_f1</td><td>▁▃▄▅▆▆▆▆▇▇█▇▇▇▇▇▇▇▇▇▇▇▇▇▇▇█▇▇▇▇▇▇▇▇██▇▇▇</td></tr></table><br/></div><div class=\"wandb-col\"><h3>Run summary:</h3><br/><table class=\"wandb\"><tr><td>epoch</td><td>49</td></tr><tr><td>train_acc_cls</td><td>0.99673</td></tr><tr><td>train_acc_cls_top_3</td><td>0.99924</td></tr><tr><td>train_acc_poison</td><td>0.9999</td></tr><tr><td>train_f1</td><td>0.84819</td></tr><tr><td>train_loss</td><td>0.02212</td></tr><tr><td>trainer/global_step</td><td>121699</td></tr><tr><td>val_loss</td><td>4.6996</td></tr><tr><td>valid_acc_cls</td><td>0.45361</td></tr><tr><td>valid_acc_cls_top_3</td><td>0.594</td></tr><tr><td>valid_acc_poison</td><td>0.97306</td></tr><tr><td>valid_f1</td><td>0.09296</td></tr></table><br/></div></div>"
      ],
      "text/plain": [
       "<IPython.core.display.HTML object>"
      ]
     },
     "metadata": {},
     "output_type": "display_data"
    },
    {
     "data": {
      "text/html": [
       " View run <strong style=\"color:#cdcd00\">dino_sampler</strong> at: <a href='https://wandb.ai/chiu/FungiClef/runs/2gnwskhp' target=\"_blank\">https://wandb.ai/chiu/FungiClef/runs/2gnwskhp</a><br/> View project at: <a href='https://wandb.ai/chiu/FungiClef' target=\"_blank\">https://wandb.ai/chiu/FungiClef</a><br/>Synced 6 W&B file(s), 0 media file(s), 0 artifact file(s) and 0 other file(s)"
      ],
      "text/plain": [
       "<IPython.core.display.HTML object>"
      ]
     },
     "metadata": {},
     "output_type": "display_data"
    },
    {
     "data": {
      "text/html": [
       "Find logs at: <code>./wandb/run-20240430_214958-2gnwskhp/logs</code>"
      ],
      "text/plain": [
       "<IPython.core.display.HTML object>"
      ]
     },
     "metadata": {},
     "output_type": "display_data"
    },
    {
     "name": "stderr",
     "output_type": "stream",
     "text": [
      "GPU available: True (cuda), used: True\n",
      "TPU available: False, using: 0 TPU cores\n",
      "IPU available: False, using: 0 IPUs\n",
      "HPU available: False, using: 0 HPUs\n",
      "GPU available: True (cuda), used: True\n",
      "TPU available: False, using: 0 TPU cores\n",
      "IPU available: False, using: 0 IPUs\n",
      "HPU available: False, using: 0 HPUs\n"
     ]
    },
    {
     "data": {
      "text/html": [
       "Tracking run with wandb version 0.16.6"
      ],
      "text/plain": [
       "<IPython.core.display.HTML object>"
      ]
     },
     "metadata": {},
     "output_type": "display_data"
    },
    {
     "data": {
      "text/html": [
       "Run data is saved locally in <code>./wandb/run-20240430_220209-hicwh31b</code>"
      ],
      "text/plain": [
       "<IPython.core.display.HTML object>"
      ]
     },
     "metadata": {},
     "output_type": "display_data"
    },
    {
     "data": {
      "text/html": [
       "Syncing run <strong><a href='https://wandb.ai/chiu/FungiClef/runs/hicwh31b' target=\"_blank\">dino_cw_sampler</a></strong> to <a href='https://wandb.ai/chiu/FungiClef' target=\"_blank\">Weights & Biases</a> (<a href='https://wandb.me/run' target=\"_blank\">docs</a>)<br/>"
      ],
      "text/plain": [
       "<IPython.core.display.HTML object>"
      ]
     },
     "metadata": {},
     "output_type": "display_data"
    },
    {
     "data": {
      "text/html": [
       " View project at <a href='https://wandb.ai/chiu/FungiClef' target=\"_blank\">https://wandb.ai/chiu/FungiClef</a>"
      ],
      "text/plain": [
       "<IPython.core.display.HTML object>"
      ]
     },
     "metadata": {},
     "output_type": "display_data"
    },
    {
     "data": {
      "text/html": [
       " View run at <a href='https://wandb.ai/chiu/FungiClef/runs/hicwh31b' target=\"_blank\">https://wandb.ai/chiu/FungiClef/runs/hicwh31b</a>"
      ],
      "text/plain": [
       "<IPython.core.display.HTML object>"
      ]
     },
     "metadata": {},
     "output_type": "display_data"
    },
    {
     "name": "stderr",
     "output_type": "stream",
     "text": [
      "/home/chris/miniconda3/envs/fungiclef/lib/python3.11/site-packages/lightning/pytorch/callbacks/model_checkpoint.py:653: Checkpoint directory /home/chris/fungiclef-2024/checkpoints exists and is not empty.\n",
      "LOCAL_RANK: 0 - CUDA_VISIBLE_DEVICES: [0]\n",
      "\n",
      "  | Name                       | Type                  | Params\n",
      "---------------------------------------------------------------------\n",
      "0 | model                      | MultiTargetClassifier | 2.4 M \n",
      "1 | train_accuracy_class_top_1 | MulticlassAccuracy    | 0     \n",
      "2 | valid_accuracy_class_top_1 | MulticlassAccuracy    | 0     \n",
      "3 | train_f1                   | MulticlassF1Score     | 0     \n",
      "4 | valid_f1                   | MulticlassF1Score     | 0     \n",
      "5 | train_accuracy_class_top_3 | MulticlassAccuracy    | 0     \n",
      "6 | valid_accuracy_class_top_3 | MulticlassAccuracy    | 0     \n",
      "7 | train_accuracy_poison      | BinaryAccuracy        | 0     \n",
      "8 | valid_accuracy_poison      | BinaryAccuracy        | 0     \n",
      "---------------------------------------------------------------------\n",
      "2.4 M     Trainable params\n",
      "0         Non-trainable params\n",
      "2.4 M     Total params\n",
      "9.736     Total estimated model params size (MB)\n"
     ]
    },
    {
     "data": {
      "application/vnd.jupyter.widget-view+json": {
       "model_id": "34bc5bbe4c3b47e38ed4712958fa5d9d",
       "version_major": 2,
       "version_minor": 0
      },
      "text/plain": [
       "Sanity Checking: |          | 0/? [00:00<?, ?it/s]"
      ]
     },
     "metadata": {},
     "output_type": "display_data"
    },
    {
     "data": {
      "application/vnd.jupyter.widget-view+json": {
       "model_id": "c4505427ee444f5ea70186351ee189b2",
       "version_major": 2,
       "version_minor": 0
      },
      "text/plain": [
       "Training: |          | 0/? [00:00<?, ?it/s]"
      ]
     },
     "metadata": {},
     "output_type": "display_data"
    },
    {
     "data": {
      "application/vnd.jupyter.widget-view+json": {
       "model_id": "a8841d00b7e64f97b039b411b2e19e6c",
       "version_major": 2,
       "version_minor": 0
      },
      "text/plain": [
       "Validation: |          | 0/? [00:00<?, ?it/s]"
      ]
     },
     "metadata": {},
     "output_type": "display_data"
    },
    {
     "data": {
      "application/vnd.jupyter.widget-view+json": {
       "model_id": "23f20743fe9849b084714f28bd2cfb34",
       "version_major": 2,
       "version_minor": 0
      },
      "text/plain": [
       "Validation: |          | 0/? [00:00<?, ?it/s]"
      ]
     },
     "metadata": {},
     "output_type": "display_data"
    },
    {
     "data": {
      "application/vnd.jupyter.widget-view+json": {
       "model_id": "5ef5004b7a56465893ee6f6abac7e9db",
       "version_major": 2,
       "version_minor": 0
      },
      "text/plain": [
       "Validation: |          | 0/? [00:00<?, ?it/s]"
      ]
     },
     "metadata": {},
     "output_type": "display_data"
    },
    {
     "data": {
      "application/vnd.jupyter.widget-view+json": {
       "model_id": "8c1d3d7a18be48a88e23abc2c127675c",
       "version_major": 2,
       "version_minor": 0
      },
      "text/plain": [
       "Validation: |          | 0/? [00:00<?, ?it/s]"
      ]
     },
     "metadata": {},
     "output_type": "display_data"
    },
    {
     "data": {
      "application/vnd.jupyter.widget-view+json": {
       "model_id": "4164cb01a77643eb945eea0138f932b7",
       "version_major": 2,
       "version_minor": 0
      },
      "text/plain": [
       "Validation: |          | 0/? [00:00<?, ?it/s]"
      ]
     },
     "metadata": {},
     "output_type": "display_data"
    },
    {
     "data": {
      "application/vnd.jupyter.widget-view+json": {
       "model_id": "ad295bd8b1b94156bcdf2146f994ca07",
       "version_major": 2,
       "version_minor": 0
      },
      "text/plain": [
       "Validation: |          | 0/? [00:00<?, ?it/s]"
      ]
     },
     "metadata": {},
     "output_type": "display_data"
    },
    {
     "data": {
      "application/vnd.jupyter.widget-view+json": {
       "model_id": "e76db55ee13c42a68bf074ced3ec2e48",
       "version_major": 2,
       "version_minor": 0
      },
      "text/plain": [
       "Validation: |          | 0/? [00:00<?, ?it/s]"
      ]
     },
     "metadata": {},
     "output_type": "display_data"
    },
    {
     "data": {
      "application/vnd.jupyter.widget-view+json": {
       "model_id": "fc1e7368a03e4f3ba22301af7cdddc14",
       "version_major": 2,
       "version_minor": 0
      },
      "text/plain": [
       "Validation: |          | 0/? [00:00<?, ?it/s]"
      ]
     },
     "metadata": {},
     "output_type": "display_data"
    },
    {
     "data": {
      "application/vnd.jupyter.widget-view+json": {
       "model_id": "190882f9361e48cc9797a32c3063f926",
       "version_major": 2,
       "version_minor": 0
      },
      "text/plain": [
       "Validation: |          | 0/? [00:00<?, ?it/s]"
      ]
     },
     "metadata": {},
     "output_type": "display_data"
    },
    {
     "data": {
      "application/vnd.jupyter.widget-view+json": {
       "model_id": "3d9a0dfbe54c43f8bcaa68400ac0695e",
       "version_major": 2,
       "version_minor": 0
      },
      "text/plain": [
       "Validation: |          | 0/? [00:00<?, ?it/s]"
      ]
     },
     "metadata": {},
     "output_type": "display_data"
    },
    {
     "data": {
      "application/vnd.jupyter.widget-view+json": {
       "model_id": "806bffafbc844e2b93492ea251ea4813",
       "version_major": 2,
       "version_minor": 0
      },
      "text/plain": [
       "Validation: |          | 0/? [00:00<?, ?it/s]"
      ]
     },
     "metadata": {},
     "output_type": "display_data"
    },
    {
     "data": {
      "application/vnd.jupyter.widget-view+json": {
       "model_id": "a7629d65b0ad49d7a0836d5b0061ada4",
       "version_major": 2,
       "version_minor": 0
      },
      "text/plain": [
       "Validation: |          | 0/? [00:00<?, ?it/s]"
      ]
     },
     "metadata": {},
     "output_type": "display_data"
    },
    {
     "data": {
      "application/vnd.jupyter.widget-view+json": {
       "model_id": "2b90c9a1b36a49469c0bb67d16c3f57c",
       "version_major": 2,
       "version_minor": 0
      },
      "text/plain": [
       "Validation: |          | 0/? [00:00<?, ?it/s]"
      ]
     },
     "metadata": {},
     "output_type": "display_data"
    },
    {
     "data": {
      "application/vnd.jupyter.widget-view+json": {
       "model_id": "af9f3b8ac9e941588c4f94e4dd5e20d6",
       "version_major": 2,
       "version_minor": 0
      },
      "text/plain": [
       "Validation: |          | 0/? [00:00<?, ?it/s]"
      ]
     },
     "metadata": {},
     "output_type": "display_data"
    },
    {
     "data": {
      "application/vnd.jupyter.widget-view+json": {
       "model_id": "4123fec5ab194388abadacfebdee6705",
       "version_major": 2,
       "version_minor": 0
      },
      "text/plain": [
       "Validation: |          | 0/? [00:00<?, ?it/s]"
      ]
     },
     "metadata": {},
     "output_type": "display_data"
    },
    {
     "data": {
      "application/vnd.jupyter.widget-view+json": {
       "model_id": "3841e31aebde4064a8648d53f64aef26",
       "version_major": 2,
       "version_minor": 0
      },
      "text/plain": [
       "Validation: |          | 0/? [00:00<?, ?it/s]"
      ]
     },
     "metadata": {},
     "output_type": "display_data"
    },
    {
     "data": {
      "application/vnd.jupyter.widget-view+json": {
       "model_id": "a0b2d4d2e0c8428f88a3448b48a9d9c0",
       "version_major": 2,
       "version_minor": 0
      },
      "text/plain": [
       "Validation: |          | 0/? [00:00<?, ?it/s]"
      ]
     },
     "metadata": {},
     "output_type": "display_data"
    },
    {
     "data": {
      "application/vnd.jupyter.widget-view+json": {
       "model_id": "9b76ba1ca2b14a3d81b01b0461f5855f",
       "version_major": 2,
       "version_minor": 0
      },
      "text/plain": [
       "Validation: |          | 0/? [00:00<?, ?it/s]"
      ]
     },
     "metadata": {},
     "output_type": "display_data"
    },
    {
     "data": {
      "application/vnd.jupyter.widget-view+json": {
       "model_id": "3e2ce8ac10e940a4a48095ca712b7652",
       "version_major": 2,
       "version_minor": 0
      },
      "text/plain": [
       "Validation: |          | 0/? [00:00<?, ?it/s]"
      ]
     },
     "metadata": {},
     "output_type": "display_data"
    },
    {
     "data": {
      "application/vnd.jupyter.widget-view+json": {
       "model_id": "81cbe0d8308f478e82d960645e99f5dc",
       "version_major": 2,
       "version_minor": 0
      },
      "text/plain": [
       "Validation: |          | 0/? [00:00<?, ?it/s]"
      ]
     },
     "metadata": {},
     "output_type": "display_data"
    },
    {
     "data": {
      "application/vnd.jupyter.widget-view+json": {
       "model_id": "aa0af0f79d974aed8be718211a6df59e",
       "version_major": 2,
       "version_minor": 0
      },
      "text/plain": [
       "Validation: |          | 0/? [00:00<?, ?it/s]"
      ]
     },
     "metadata": {},
     "output_type": "display_data"
    },
    {
     "data": {
      "application/vnd.jupyter.widget-view+json": {
       "model_id": "d2778f075e6d4acf8e7872b831a0baa8",
       "version_major": 2,
       "version_minor": 0
      },
      "text/plain": [
       "Validation: |          | 0/? [00:00<?, ?it/s]"
      ]
     },
     "metadata": {},
     "output_type": "display_data"
    },
    {
     "data": {
      "application/vnd.jupyter.widget-view+json": {
       "model_id": "20b9864cf3814303b5f515d264652fc6",
       "version_major": 2,
       "version_minor": 0
      },
      "text/plain": [
       "Validation: |          | 0/? [00:00<?, ?it/s]"
      ]
     },
     "metadata": {},
     "output_type": "display_data"
    },
    {
     "data": {
      "application/vnd.jupyter.widget-view+json": {
       "model_id": "5278d337b8984ced965b25f9cb302704",
       "version_major": 2,
       "version_minor": 0
      },
      "text/plain": [
       "Validation: |          | 0/? [00:00<?, ?it/s]"
      ]
     },
     "metadata": {},
     "output_type": "display_data"
    },
    {
     "data": {
      "application/vnd.jupyter.widget-view+json": {
       "model_id": "36e58dc2e0e14f45bbedf88f9c1a0953",
       "version_major": 2,
       "version_minor": 0
      },
      "text/plain": [
       "Validation: |          | 0/? [00:00<?, ?it/s]"
      ]
     },
     "metadata": {},
     "output_type": "display_data"
    },
    {
     "data": {
      "application/vnd.jupyter.widget-view+json": {
       "model_id": "fe8444950f9d445a80c7f8094f0c2b44",
       "version_major": 2,
       "version_minor": 0
      },
      "text/plain": [
       "Validation: |          | 0/? [00:00<?, ?it/s]"
      ]
     },
     "metadata": {},
     "output_type": "display_data"
    },
    {
     "data": {
      "application/vnd.jupyter.widget-view+json": {
       "model_id": "d7c40a7a90824b9684df6a1ecfe9c2cd",
       "version_major": 2,
       "version_minor": 0
      },
      "text/plain": [
       "Validation: |          | 0/? [00:00<?, ?it/s]"
      ]
     },
     "metadata": {},
     "output_type": "display_data"
    },
    {
     "data": {
      "application/vnd.jupyter.widget-view+json": {
       "model_id": "4fbf2fd9022d4c9d92801c916d54b273",
       "version_major": 2,
       "version_minor": 0
      },
      "text/plain": [
       "Validation: |          | 0/? [00:00<?, ?it/s]"
      ]
     },
     "metadata": {},
     "output_type": "display_data"
    },
    {
     "data": {
      "application/vnd.jupyter.widget-view+json": {
       "model_id": "3bfa3d150fc44aeaadec6a7876429a01",
       "version_major": 2,
       "version_minor": 0
      },
      "text/plain": [
       "Validation: |          | 0/? [00:00<?, ?it/s]"
      ]
     },
     "metadata": {},
     "output_type": "display_data"
    },
    {
     "data": {
      "application/vnd.jupyter.widget-view+json": {
       "model_id": "88d0fd292bf94239b98fc7693e6c7624",
       "version_major": 2,
       "version_minor": 0
      },
      "text/plain": [
       "Validation: |          | 0/? [00:00<?, ?it/s]"
      ]
     },
     "metadata": {},
     "output_type": "display_data"
    },
    {
     "data": {
      "application/vnd.jupyter.widget-view+json": {
       "model_id": "f43081f3016c47b6b827527b3e78564b",
       "version_major": 2,
       "version_minor": 0
      },
      "text/plain": [
       "Validation: |          | 0/? [00:00<?, ?it/s]"
      ]
     },
     "metadata": {},
     "output_type": "display_data"
    },
    {
     "data": {
      "application/vnd.jupyter.widget-view+json": {
       "model_id": "117f90fb3745468c878d9ccd5f0cb2ac",
       "version_major": 2,
       "version_minor": 0
      },
      "text/plain": [
       "Validation: |          | 0/? [00:00<?, ?it/s]"
      ]
     },
     "metadata": {},
     "output_type": "display_data"
    },
    {
     "data": {
      "application/vnd.jupyter.widget-view+json": {
       "model_id": "ab2903232a8a471c82ee8ef7e9efc047",
       "version_major": 2,
       "version_minor": 0
      },
      "text/plain": [
       "Validation: |          | 0/? [00:00<?, ?it/s]"
      ]
     },
     "metadata": {},
     "output_type": "display_data"
    },
    {
     "data": {
      "application/vnd.jupyter.widget-view+json": {
       "model_id": "43f4553a7d654996ad21a35bd52365ce",
       "version_major": 2,
       "version_minor": 0
      },
      "text/plain": [
       "Validation: |          | 0/? [00:00<?, ?it/s]"
      ]
     },
     "metadata": {},
     "output_type": "display_data"
    },
    {
     "data": {
      "application/vnd.jupyter.widget-view+json": {
       "model_id": "62ebb9e663494b70b2d51e097a012cab",
       "version_major": 2,
       "version_minor": 0
      },
      "text/plain": [
       "Validation: |          | 0/? [00:00<?, ?it/s]"
      ]
     },
     "metadata": {},
     "output_type": "display_data"
    },
    {
     "data": {
      "application/vnd.jupyter.widget-view+json": {
       "model_id": "80aa8ec2e42f451ebdbe97734727d3ea",
       "version_major": 2,
       "version_minor": 0
      },
      "text/plain": [
       "Validation: |          | 0/? [00:00<?, ?it/s]"
      ]
     },
     "metadata": {},
     "output_type": "display_data"
    },
    {
     "data": {
      "application/vnd.jupyter.widget-view+json": {
       "model_id": "573f68ef38494927a5e0ec3873c12dd0",
       "version_major": 2,
       "version_minor": 0
      },
      "text/plain": [
       "Validation: |          | 0/? [00:00<?, ?it/s]"
      ]
     },
     "metadata": {},
     "output_type": "display_data"
    },
    {
     "data": {
      "application/vnd.jupyter.widget-view+json": {
       "model_id": "2252e8d25cea409bb3e2488d00f01fcd",
       "version_major": 2,
       "version_minor": 0
      },
      "text/plain": [
       "Validation: |          | 0/? [00:00<?, ?it/s]"
      ]
     },
     "metadata": {},
     "output_type": "display_data"
    },
    {
     "data": {
      "application/vnd.jupyter.widget-view+json": {
       "model_id": "98fed0d3e00a482e80f2d7973f5c121c",
       "version_major": 2,
       "version_minor": 0
      },
      "text/plain": [
       "Validation: |          | 0/? [00:00<?, ?it/s]"
      ]
     },
     "metadata": {},
     "output_type": "display_data"
    },
    {
     "data": {
      "application/vnd.jupyter.widget-view+json": {
       "model_id": "a76a3fc2091c4614a6014cc1410cea8f",
       "version_major": 2,
       "version_minor": 0
      },
      "text/plain": [
       "Validation: |          | 0/? [00:00<?, ?it/s]"
      ]
     },
     "metadata": {},
     "output_type": "display_data"
    },
    {
     "data": {
      "application/vnd.jupyter.widget-view+json": {
       "model_id": "0f90e7a1c19a4e16aba625c78aa55ee6",
       "version_major": 2,
       "version_minor": 0
      },
      "text/plain": [
       "Validation: |          | 0/? [00:00<?, ?it/s]"
      ]
     },
     "metadata": {},
     "output_type": "display_data"
    },
    {
     "data": {
      "application/vnd.jupyter.widget-view+json": {
       "model_id": "5ac37aeb54624698a947a7867fe172a9",
       "version_major": 2,
       "version_minor": 0
      },
      "text/plain": [
       "Validation: |          | 0/? [00:00<?, ?it/s]"
      ]
     },
     "metadata": {},
     "output_type": "display_data"
    },
    {
     "data": {
      "application/vnd.jupyter.widget-view+json": {
       "model_id": "68c9cbd6f2e24ab19633012f3ccd3831",
       "version_major": 2,
       "version_minor": 0
      },
      "text/plain": [
       "Validation: |          | 0/? [00:00<?, ?it/s]"
      ]
     },
     "metadata": {},
     "output_type": "display_data"
    },
    {
     "data": {
      "application/vnd.jupyter.widget-view+json": {
       "model_id": "8c51c1ffddea4e5f991d7c7b9e9eccb5",
       "version_major": 2,
       "version_minor": 0
      },
      "text/plain": [
       "Validation: |          | 0/? [00:00<?, ?it/s]"
      ]
     },
     "metadata": {},
     "output_type": "display_data"
    },
    {
     "data": {
      "application/vnd.jupyter.widget-view+json": {
       "model_id": "e37846a12d58467c905362a05288c0b9",
       "version_major": 2,
       "version_minor": 0
      },
      "text/plain": [
       "Validation: |          | 0/? [00:00<?, ?it/s]"
      ]
     },
     "metadata": {},
     "output_type": "display_data"
    },
    {
     "data": {
      "application/vnd.jupyter.widget-view+json": {
       "model_id": "d5708ce07f2f49c38e468d188e2b2989",
       "version_major": 2,
       "version_minor": 0
      },
      "text/plain": [
       "Validation: |          | 0/? [00:00<?, ?it/s]"
      ]
     },
     "metadata": {},
     "output_type": "display_data"
    },
    {
     "data": {
      "application/vnd.jupyter.widget-view+json": {
       "model_id": "238f1838fd8448a3a16ad141edd7d7f7",
       "version_major": 2,
       "version_minor": 0
      },
      "text/plain": [
       "Validation: |          | 0/? [00:00<?, ?it/s]"
      ]
     },
     "metadata": {},
     "output_type": "display_data"
    },
    {
     "data": {
      "application/vnd.jupyter.widget-view+json": {
       "model_id": "7cf19220db9a4417b2dc4d2afb11d93a",
       "version_major": 2,
       "version_minor": 0
      },
      "text/plain": [
       "Validation: |          | 0/? [00:00<?, ?it/s]"
      ]
     },
     "metadata": {},
     "output_type": "display_data"
    },
    {
     "data": {
      "application/vnd.jupyter.widget-view+json": {
       "model_id": "0bd47e13919b4e71b3402c2cac714be9",
       "version_major": 2,
       "version_minor": 0
      },
      "text/plain": [
       "Validation: |          | 0/? [00:00<?, ?it/s]"
      ]
     },
     "metadata": {},
     "output_type": "display_data"
    },
    {
     "data": {
      "application/vnd.jupyter.widget-view+json": {
       "model_id": "82672635c3ce47e7a78f1d6e9294b429",
       "version_major": 2,
       "version_minor": 0
      },
      "text/plain": [
       "Validation: |          | 0/? [00:00<?, ?it/s]"
      ]
     },
     "metadata": {},
     "output_type": "display_data"
    },
    {
     "name": "stderr",
     "output_type": "stream",
     "text": [
      "`Trainer.fit` stopped: `max_epochs=50` reached.\n"
     ]
    },
    {
     "data": {
      "application/vnd.jupyter.widget-view+json": {
       "model_id": "64c591e3a49d4bd7a9ac81d6bd519284",
       "version_major": 2,
       "version_minor": 0
      },
      "text/plain": [
       "VBox(children=(Label(value='0.004 MB of 0.004 MB uploaded\\r'), FloatProgress(value=1.0, max=1.0)))"
      ]
     },
     "metadata": {},
     "output_type": "display_data"
    },
    {
     "data": {
      "text/html": [
       "<style>\n",
       "    table.wandb td:nth-child(1) { padding: 0 10px; text-align: left ; width: auto;} td:nth-child(2) {text-align: left ; width: 100%}\n",
       "    .wandb-row { display: flex; flex-direction: row; flex-wrap: wrap; justify-content: flex-start; width: 100% }\n",
       "    .wandb-col { display: flex; flex-direction: column; flex-basis: 100%; flex: 1; padding: 10px; }\n",
       "    </style>\n",
       "<div class=\"wandb-row\"><div class=\"wandb-col\"><h3>Run history:</h3><br/><table class=\"wandb\"><tr><td>epoch</td><td>▁▁▁▁▂▂▂▂▂▃▃▃▃▃▃▄▄▄▄▄▅▅▅▅▅▅▆▆▆▆▆▇▇▇▇▇▇███</td></tr><tr><td>train_acc_cls</td><td>▁▄▅▅▆▆▇▇▇▇▇▇████████████████████████████</td></tr><tr><td>train_acc_cls_top_3</td><td>▁▅▆▇▇▇▇█████████████████████████████████</td></tr><tr><td>train_acc_poison</td><td>▁▄▅▆▆▇▇▇▇▇▇█████████████████████████████</td></tr><tr><td>train_f1</td><td>▁▄▅▅▆▆▆▇▇▇▇▇▇▇▇███▇▇▇█▇▇█▇██████████████</td></tr><tr><td>train_loss</td><td>█▄▄▃▃▂▂▂▂▂▂▂▂▂▂▁▁▁▁▁▁▁▁▁▁▁▁▁▁▁▁▁▁▁▁▁▁▁▁▁</td></tr><tr><td>trainer/global_step</td><td>▁▁▁▁▂▂▂▂▂▃▃▃▃▃▃▄▄▄▄▄▅▅▅▅▅▅▆▆▆▆▆▇▇▇▇▇▇███</td></tr><tr><td>val_loss</td><td>█▆▄▇▇▄▆▄▆▄▃▄▄▆▅▄▅▂▂▂▃▃▃▃▄▄▃▂▅▃▂▃▃▄▃▃▄▁▂▃</td></tr><tr><td>valid_acc_cls</td><td>▁▄▅▄▄▅▅▅▅▅▆▅▆▅▅▆▅▆▆▆▆▆▆▆▆▆▆▇▆▆▇▆▆▆▇▆▆█▇▇</td></tr><tr><td>valid_acc_cls_top_3</td><td>▁▃▄▃▃▄▄▄▄▄▅▄▅▄▅▅▄▆▆▇▆▆▆▆▆▆▆▇▅▆▇▇▆▆▇▇▆██▇</td></tr><tr><td>valid_acc_poison</td><td>▂▂▁▃▅▅▆▇▅▆▂▄▅▄▄▄▅▇▅▇▅██▆▅▄▅▆▅▇▆▅▇▅▆▅▃█▅▆</td></tr><tr><td>valid_f1</td><td>▁▄▅▄▄▅▅▅▅▅▆▆▆▅▆▆▅▆▆▆▆▆▆▆▆▆▆▇▅▆▇▆▆▆▇▆▆█▇▆</td></tr></table><br/></div><div class=\"wandb-col\"><h3>Run summary:</h3><br/><table class=\"wandb\"><tr><td>epoch</td><td>49</td></tr><tr><td>train_acc_cls</td><td>0.99</td></tr><tr><td>train_acc_cls_top_3</td><td>0.99742</td></tr><tr><td>train_acc_poison</td><td>0.99956</td></tr><tr><td>train_f1</td><td>0.81107</td></tr><tr><td>train_loss</td><td>0.11294</td></tr><tr><td>trainer/global_step</td><td>121699</td></tr><tr><td>val_loss</td><td>4.7595</td></tr><tr><td>valid_acc_cls</td><td>0.51183</td></tr><tr><td>valid_acc_cls_top_3</td><td>0.71766</td></tr><tr><td>valid_acc_poison</td><td>0.97498</td></tr><tr><td>valid_f1</td><td>0.10786</td></tr></table><br/></div></div>"
      ],
      "text/plain": [
       "<IPython.core.display.HTML object>"
      ]
     },
     "metadata": {},
     "output_type": "display_data"
    },
    {
     "data": {
      "text/html": [
       " View run <strong style=\"color:#cdcd00\">dino_cw_sampler</strong> at: <a href='https://wandb.ai/chiu/FungiClef/runs/hicwh31b' target=\"_blank\">https://wandb.ai/chiu/FungiClef/runs/hicwh31b</a><br/> View project at: <a href='https://wandb.ai/chiu/FungiClef' target=\"_blank\">https://wandb.ai/chiu/FungiClef</a><br/>Synced 6 W&B file(s), 0 media file(s), 0 artifact file(s) and 0 other file(s)"
      ],
      "text/plain": [
       "<IPython.core.display.HTML object>"
      ]
     },
     "metadata": {},
     "output_type": "display_data"
    },
    {
     "data": {
      "text/html": [
       "Find logs at: <code>./wandb/run-20240430_220209-hicwh31b/logs</code>"
      ],
      "text/plain": [
       "<IPython.core.display.HTML object>"
      ]
     },
     "metadata": {},
     "output_type": "display_data"
    },
    {
     "name": "stderr",
     "output_type": "stream",
     "text": [
      "GPU available: True (cuda), used: True\n",
      "TPU available: False, using: 0 TPU cores\n",
      "IPU available: False, using: 0 IPUs\n",
      "HPU available: False, using: 0 HPUs\n",
      "GPU available: True (cuda), used: True\n",
      "TPU available: False, using: 0 TPU cores\n",
      "IPU available: False, using: 0 IPUs\n",
      "HPU available: False, using: 0 HPUs\n"
     ]
    },
    {
     "data": {
      "text/html": [
       "Tracking run with wandb version 0.16.6"
      ],
      "text/plain": [
       "<IPython.core.display.HTML object>"
      ]
     },
     "metadata": {},
     "output_type": "display_data"
    },
    {
     "data": {
      "text/html": [
       "Run data is saved locally in <code>./wandb/run-20240430_221425-xcgqtcc1</code>"
      ],
      "text/plain": [
       "<IPython.core.display.HTML object>"
      ]
     },
     "metadata": {},
     "output_type": "display_data"
    },
    {
     "data": {
      "text/html": [
       "Syncing run <strong><a href='https://wandb.ai/chiu/FungiClef/runs/xcgqtcc1' target=\"_blank\">dino_cw_sampler_metadata</a></strong> to <a href='https://wandb.ai/chiu/FungiClef' target=\"_blank\">Weights & Biases</a> (<a href='https://wandb.me/run' target=\"_blank\">docs</a>)<br/>"
      ],
      "text/plain": [
       "<IPython.core.display.HTML object>"
      ]
     },
     "metadata": {},
     "output_type": "display_data"
    },
    {
     "data": {
      "text/html": [
       " View project at <a href='https://wandb.ai/chiu/FungiClef' target=\"_blank\">https://wandb.ai/chiu/FungiClef</a>"
      ],
      "text/plain": [
       "<IPython.core.display.HTML object>"
      ]
     },
     "metadata": {},
     "output_type": "display_data"
    },
    {
     "data": {
      "text/html": [
       " View run at <a href='https://wandb.ai/chiu/FungiClef/runs/xcgqtcc1' target=\"_blank\">https://wandb.ai/chiu/FungiClef/runs/xcgqtcc1</a>"
      ],
      "text/plain": [
       "<IPython.core.display.HTML object>"
      ]
     },
     "metadata": {},
     "output_type": "display_data"
    },
    {
     "name": "stderr",
     "output_type": "stream",
     "text": [
      "/home/chris/miniconda3/envs/fungiclef/lib/python3.11/site-packages/lightning/pytorch/callbacks/model_checkpoint.py:653: Checkpoint directory /home/chris/fungiclef-2024/checkpoints exists and is not empty.\n",
      "LOCAL_RANK: 0 - CUDA_VISIBLE_DEVICES: [0]\n",
      "\n",
      "  | Name                       | Type                  | Params\n",
      "---------------------------------------------------------------------\n",
      "0 | model                      | MultiTargetClassifier | 2.5 M \n",
      "1 | train_accuracy_class_top_1 | MulticlassAccuracy    | 0     \n",
      "2 | valid_accuracy_class_top_1 | MulticlassAccuracy    | 0     \n",
      "3 | train_f1                   | MulticlassF1Score     | 0     \n",
      "4 | valid_f1                   | MulticlassF1Score     | 0     \n",
      "5 | train_accuracy_class_top_3 | MulticlassAccuracy    | 0     \n",
      "6 | valid_accuracy_class_top_3 | MulticlassAccuracy    | 0     \n",
      "7 | train_accuracy_poison      | BinaryAccuracy        | 0     \n",
      "8 | valid_accuracy_poison      | BinaryAccuracy        | 0     \n",
      "---------------------------------------------------------------------\n",
      "2.5 M     Trainable params\n",
      "0         Non-trainable params\n",
      "2.5 M     Total params\n",
      "10.044    Total estimated model params size (MB)\n"
     ]
    },
    {
     "data": {
      "application/vnd.jupyter.widget-view+json": {
       "model_id": "1e322256d84e4ceeb16169343df70afc",
       "version_major": 2,
       "version_minor": 0
      },
      "text/plain": [
       "Sanity Checking: |          | 0/? [00:00<?, ?it/s]"
      ]
     },
     "metadata": {},
     "output_type": "display_data"
    },
    {
     "data": {
      "application/vnd.jupyter.widget-view+json": {
       "model_id": "0365c1f77062418bb137e506707fefb7",
       "version_major": 2,
       "version_minor": 0
      },
      "text/plain": [
       "Training: |          | 0/? [00:00<?, ?it/s]"
      ]
     },
     "metadata": {},
     "output_type": "display_data"
    },
    {
     "data": {
      "application/vnd.jupyter.widget-view+json": {
       "model_id": "2944c748d395406b8d62c5372f45febe",
       "version_major": 2,
       "version_minor": 0
      },
      "text/plain": [
       "Validation: |          | 0/? [00:00<?, ?it/s]"
      ]
     },
     "metadata": {},
     "output_type": "display_data"
    },
    {
     "data": {
      "application/vnd.jupyter.widget-view+json": {
       "model_id": "082c15e13cb348459e360017feed7a9f",
       "version_major": 2,
       "version_minor": 0
      },
      "text/plain": [
       "Validation: |          | 0/? [00:00<?, ?it/s]"
      ]
     },
     "metadata": {},
     "output_type": "display_data"
    },
    {
     "data": {
      "application/vnd.jupyter.widget-view+json": {
       "model_id": "66cdfe5597c04ce29f3508ae647be6e1",
       "version_major": 2,
       "version_minor": 0
      },
      "text/plain": [
       "Validation: |          | 0/? [00:00<?, ?it/s]"
      ]
     },
     "metadata": {},
     "output_type": "display_data"
    },
    {
     "data": {
      "application/vnd.jupyter.widget-view+json": {
       "model_id": "2902ddf973f0413583eb716cd74d6a43",
       "version_major": 2,
       "version_minor": 0
      },
      "text/plain": [
       "Validation: |          | 0/? [00:00<?, ?it/s]"
      ]
     },
     "metadata": {},
     "output_type": "display_data"
    },
    {
     "data": {
      "application/vnd.jupyter.widget-view+json": {
       "model_id": "ce0b8ad820884115975ef254ab878ae4",
       "version_major": 2,
       "version_minor": 0
      },
      "text/plain": [
       "Validation: |          | 0/? [00:00<?, ?it/s]"
      ]
     },
     "metadata": {},
     "output_type": "display_data"
    },
    {
     "data": {
      "application/vnd.jupyter.widget-view+json": {
       "model_id": "16dcb06d7bd34e33a438e66fa5d889bb",
       "version_major": 2,
       "version_minor": 0
      },
      "text/plain": [
       "Validation: |          | 0/? [00:00<?, ?it/s]"
      ]
     },
     "metadata": {},
     "output_type": "display_data"
    },
    {
     "data": {
      "application/vnd.jupyter.widget-view+json": {
       "model_id": "4fe1be7356c745318857089e02e3f3b0",
       "version_major": 2,
       "version_minor": 0
      },
      "text/plain": [
       "Validation: |          | 0/? [00:00<?, ?it/s]"
      ]
     },
     "metadata": {},
     "output_type": "display_data"
    },
    {
     "data": {
      "application/vnd.jupyter.widget-view+json": {
       "model_id": "30279de304b54969967e4a579f7b63b5",
       "version_major": 2,
       "version_minor": 0
      },
      "text/plain": [
       "Validation: |          | 0/? [00:00<?, ?it/s]"
      ]
     },
     "metadata": {},
     "output_type": "display_data"
    },
    {
     "data": {
      "application/vnd.jupyter.widget-view+json": {
       "model_id": "ad9650ff765c422b83a25622823c3f70",
       "version_major": 2,
       "version_minor": 0
      },
      "text/plain": [
       "Validation: |          | 0/? [00:00<?, ?it/s]"
      ]
     },
     "metadata": {},
     "output_type": "display_data"
    },
    {
     "data": {
      "application/vnd.jupyter.widget-view+json": {
       "model_id": "7d69661102ca42859961d194040154ff",
       "version_major": 2,
       "version_minor": 0
      },
      "text/plain": [
       "Validation: |          | 0/? [00:00<?, ?it/s]"
      ]
     },
     "metadata": {},
     "output_type": "display_data"
    },
    {
     "data": {
      "application/vnd.jupyter.widget-view+json": {
       "model_id": "27f069d89c4a45af9b87abd0051708dd",
       "version_major": 2,
       "version_minor": 0
      },
      "text/plain": [
       "Validation: |          | 0/? [00:00<?, ?it/s]"
      ]
     },
     "metadata": {},
     "output_type": "display_data"
    },
    {
     "data": {
      "application/vnd.jupyter.widget-view+json": {
       "model_id": "f0290d46e9534e3faa7fac86cd14bd5b",
       "version_major": 2,
       "version_minor": 0
      },
      "text/plain": [
       "Validation: |          | 0/? [00:00<?, ?it/s]"
      ]
     },
     "metadata": {},
     "output_type": "display_data"
    },
    {
     "data": {
      "application/vnd.jupyter.widget-view+json": {
       "model_id": "95d64578920d4b4b96c229f8ef74bb47",
       "version_major": 2,
       "version_minor": 0
      },
      "text/plain": [
       "Validation: |          | 0/? [00:00<?, ?it/s]"
      ]
     },
     "metadata": {},
     "output_type": "display_data"
    },
    {
     "data": {
      "application/vnd.jupyter.widget-view+json": {
       "model_id": "b36a75f4784e4b66ba70f472e3e0c984",
       "version_major": 2,
       "version_minor": 0
      },
      "text/plain": [
       "Validation: |          | 0/? [00:00<?, ?it/s]"
      ]
     },
     "metadata": {},
     "output_type": "display_data"
    },
    {
     "data": {
      "application/vnd.jupyter.widget-view+json": {
       "model_id": "a510962b21fb4f5e945d97cda1b68422",
       "version_major": 2,
       "version_minor": 0
      },
      "text/plain": [
       "Validation: |          | 0/? [00:00<?, ?it/s]"
      ]
     },
     "metadata": {},
     "output_type": "display_data"
    },
    {
     "data": {
      "application/vnd.jupyter.widget-view+json": {
       "model_id": "5c2e7ef0eed34e3eb024135f0fbe0fd9",
       "version_major": 2,
       "version_minor": 0
      },
      "text/plain": [
       "Validation: |          | 0/? [00:00<?, ?it/s]"
      ]
     },
     "metadata": {},
     "output_type": "display_data"
    },
    {
     "data": {
      "application/vnd.jupyter.widget-view+json": {
       "model_id": "5e6c5a918e0a44328552e481f18a49d9",
       "version_major": 2,
       "version_minor": 0
      },
      "text/plain": [
       "Validation: |          | 0/? [00:00<?, ?it/s]"
      ]
     },
     "metadata": {},
     "output_type": "display_data"
    },
    {
     "data": {
      "application/vnd.jupyter.widget-view+json": {
       "model_id": "b6be81f4be0c489094b67685b6573ddd",
       "version_major": 2,
       "version_minor": 0
      },
      "text/plain": [
       "Validation: |          | 0/? [00:00<?, ?it/s]"
      ]
     },
     "metadata": {},
     "output_type": "display_data"
    },
    {
     "data": {
      "application/vnd.jupyter.widget-view+json": {
       "model_id": "682ba230f6d64e359bae6d5af4c3b52e",
       "version_major": 2,
       "version_minor": 0
      },
      "text/plain": [
       "Validation: |          | 0/? [00:00<?, ?it/s]"
      ]
     },
     "metadata": {},
     "output_type": "display_data"
    },
    {
     "data": {
      "application/vnd.jupyter.widget-view+json": {
       "model_id": "e422b1bec9224d16a98e1971336dddc7",
       "version_major": 2,
       "version_minor": 0
      },
      "text/plain": [
       "Validation: |          | 0/? [00:00<?, ?it/s]"
      ]
     },
     "metadata": {},
     "output_type": "display_data"
    },
    {
     "data": {
      "application/vnd.jupyter.widget-view+json": {
       "model_id": "2b33adebac244add8df73f8311817d0a",
       "version_major": 2,
       "version_minor": 0
      },
      "text/plain": [
       "Validation: |          | 0/? [00:00<?, ?it/s]"
      ]
     },
     "metadata": {},
     "output_type": "display_data"
    },
    {
     "data": {
      "application/vnd.jupyter.widget-view+json": {
       "model_id": "0350ceaac45842f580ecb39fd53a258c",
       "version_major": 2,
       "version_minor": 0
      },
      "text/plain": [
       "Validation: |          | 0/? [00:00<?, ?it/s]"
      ]
     },
     "metadata": {},
     "output_type": "display_data"
    },
    {
     "data": {
      "application/vnd.jupyter.widget-view+json": {
       "model_id": "f65af16ee8034166a5d81adc58106bcd",
       "version_major": 2,
       "version_minor": 0
      },
      "text/plain": [
       "Validation: |          | 0/? [00:00<?, ?it/s]"
      ]
     },
     "metadata": {},
     "output_type": "display_data"
    },
    {
     "data": {
      "application/vnd.jupyter.widget-view+json": {
       "model_id": "8169ee34fe124d44ae4b31e8a7b6585b",
       "version_major": 2,
       "version_minor": 0
      },
      "text/plain": [
       "Validation: |          | 0/? [00:00<?, ?it/s]"
      ]
     },
     "metadata": {},
     "output_type": "display_data"
    },
    {
     "data": {
      "application/vnd.jupyter.widget-view+json": {
       "model_id": "7765e6715249497e833b0d0b28a10fff",
       "version_major": 2,
       "version_minor": 0
      },
      "text/plain": [
       "Validation: |          | 0/? [00:00<?, ?it/s]"
      ]
     },
     "metadata": {},
     "output_type": "display_data"
    },
    {
     "data": {
      "application/vnd.jupyter.widget-view+json": {
       "model_id": "5b10e4c20b3f4c5fb0bd2df78deb9ae9",
       "version_major": 2,
       "version_minor": 0
      },
      "text/plain": [
       "Validation: |          | 0/? [00:00<?, ?it/s]"
      ]
     },
     "metadata": {},
     "output_type": "display_data"
    },
    {
     "data": {
      "application/vnd.jupyter.widget-view+json": {
       "model_id": "81858a35182f49038500ff5e5b53f972",
       "version_major": 2,
       "version_minor": 0
      },
      "text/plain": [
       "Validation: |          | 0/? [00:00<?, ?it/s]"
      ]
     },
     "metadata": {},
     "output_type": "display_data"
    },
    {
     "data": {
      "application/vnd.jupyter.widget-view+json": {
       "model_id": "93614d65dc0c4ef5b94437f18ea78014",
       "version_major": 2,
       "version_minor": 0
      },
      "text/plain": [
       "Validation: |          | 0/? [00:00<?, ?it/s]"
      ]
     },
     "metadata": {},
     "output_type": "display_data"
    },
    {
     "data": {
      "application/vnd.jupyter.widget-view+json": {
       "model_id": "5231b7fe551749839be182372f70ab77",
       "version_major": 2,
       "version_minor": 0
      },
      "text/plain": [
       "Validation: |          | 0/? [00:00<?, ?it/s]"
      ]
     },
     "metadata": {},
     "output_type": "display_data"
    },
    {
     "data": {
      "application/vnd.jupyter.widget-view+json": {
       "model_id": "4af3bfbc211f42a0b46a03dac862996f",
       "version_major": 2,
       "version_minor": 0
      },
      "text/plain": [
       "Validation: |          | 0/? [00:00<?, ?it/s]"
      ]
     },
     "metadata": {},
     "output_type": "display_data"
    },
    {
     "data": {
      "application/vnd.jupyter.widget-view+json": {
       "model_id": "4b9f24ce28fe4b97823c2527b167b6cc",
       "version_major": 2,
       "version_minor": 0
      },
      "text/plain": [
       "Validation: |          | 0/? [00:00<?, ?it/s]"
      ]
     },
     "metadata": {},
     "output_type": "display_data"
    },
    {
     "data": {
      "application/vnd.jupyter.widget-view+json": {
       "model_id": "05523cc096bd4cca9d317cf303e2f886",
       "version_major": 2,
       "version_minor": 0
      },
      "text/plain": [
       "Validation: |          | 0/? [00:00<?, ?it/s]"
      ]
     },
     "metadata": {},
     "output_type": "display_data"
    },
    {
     "data": {
      "application/vnd.jupyter.widget-view+json": {
       "model_id": "07498069c239413abd0bb2e43a08086e",
       "version_major": 2,
       "version_minor": 0
      },
      "text/plain": [
       "Validation: |          | 0/? [00:00<?, ?it/s]"
      ]
     },
     "metadata": {},
     "output_type": "display_data"
    },
    {
     "data": {
      "application/vnd.jupyter.widget-view+json": {
       "model_id": "2c4670eac0ab4c81a4235d81b8e98f5a",
       "version_major": 2,
       "version_minor": 0
      },
      "text/plain": [
       "Validation: |          | 0/? [00:00<?, ?it/s]"
      ]
     },
     "metadata": {},
     "output_type": "display_data"
    },
    {
     "data": {
      "application/vnd.jupyter.widget-view+json": {
       "model_id": "f0b4a44f329042918e4ae31f064eec40",
       "version_major": 2,
       "version_minor": 0
      },
      "text/plain": [
       "Validation: |          | 0/? [00:00<?, ?it/s]"
      ]
     },
     "metadata": {},
     "output_type": "display_data"
    },
    {
     "data": {
      "application/vnd.jupyter.widget-view+json": {
       "model_id": "c8e775823d8f4b75b100025930708afa",
       "version_major": 2,
       "version_minor": 0
      },
      "text/plain": [
       "Validation: |          | 0/? [00:00<?, ?it/s]"
      ]
     },
     "metadata": {},
     "output_type": "display_data"
    },
    {
     "data": {
      "application/vnd.jupyter.widget-view+json": {
       "model_id": "3cec4396a19040fcb5777a7577a10e9f",
       "version_major": 2,
       "version_minor": 0
      },
      "text/plain": [
       "Validation: |          | 0/? [00:00<?, ?it/s]"
      ]
     },
     "metadata": {},
     "output_type": "display_data"
    },
    {
     "data": {
      "application/vnd.jupyter.widget-view+json": {
       "model_id": "9dba15649747489b94ea8119a933cbd7",
       "version_major": 2,
       "version_minor": 0
      },
      "text/plain": [
       "Validation: |          | 0/? [00:00<?, ?it/s]"
      ]
     },
     "metadata": {},
     "output_type": "display_data"
    },
    {
     "data": {
      "application/vnd.jupyter.widget-view+json": {
       "model_id": "6b7d60bb7f3b4f87a2749ec83422fc25",
       "version_major": 2,
       "version_minor": 0
      },
      "text/plain": [
       "Validation: |          | 0/? [00:00<?, ?it/s]"
      ]
     },
     "metadata": {},
     "output_type": "display_data"
    },
    {
     "data": {
      "application/vnd.jupyter.widget-view+json": {
       "model_id": "ddd9caeff8da44d799275793d5d784fe",
       "version_major": 2,
       "version_minor": 0
      },
      "text/plain": [
       "Validation: |          | 0/? [00:00<?, ?it/s]"
      ]
     },
     "metadata": {},
     "output_type": "display_data"
    },
    {
     "data": {
      "application/vnd.jupyter.widget-view+json": {
       "model_id": "7d969fad3763450b85b4a2a85db165ce",
       "version_major": 2,
       "version_minor": 0
      },
      "text/plain": [
       "Validation: |          | 0/? [00:00<?, ?it/s]"
      ]
     },
     "metadata": {},
     "output_type": "display_data"
    },
    {
     "data": {
      "application/vnd.jupyter.widget-view+json": {
       "model_id": "03082c82ebd74784a3949f8cd68a92ed",
       "version_major": 2,
       "version_minor": 0
      },
      "text/plain": [
       "Validation: |          | 0/? [00:00<?, ?it/s]"
      ]
     },
     "metadata": {},
     "output_type": "display_data"
    },
    {
     "data": {
      "application/vnd.jupyter.widget-view+json": {
       "model_id": "3f279aedf100414bb5c2152b68ff341f",
       "version_major": 2,
       "version_minor": 0
      },
      "text/plain": [
       "Validation: |          | 0/? [00:00<?, ?it/s]"
      ]
     },
     "metadata": {},
     "output_type": "display_data"
    },
    {
     "data": {
      "application/vnd.jupyter.widget-view+json": {
       "model_id": "31736a8dc7f040e59f83f9b28e6c461a",
       "version_major": 2,
       "version_minor": 0
      },
      "text/plain": [
       "Validation: |          | 0/? [00:00<?, ?it/s]"
      ]
     },
     "metadata": {},
     "output_type": "display_data"
    },
    {
     "data": {
      "application/vnd.jupyter.widget-view+json": {
       "model_id": "b179206258ce44ff9d8dcf6f847547f7",
       "version_major": 2,
       "version_minor": 0
      },
      "text/plain": [
       "Validation: |          | 0/? [00:00<?, ?it/s]"
      ]
     },
     "metadata": {},
     "output_type": "display_data"
    },
    {
     "data": {
      "application/vnd.jupyter.widget-view+json": {
       "model_id": "342234bb6e134775a69ca0af53d700d3",
       "version_major": 2,
       "version_minor": 0
      },
      "text/plain": [
       "Validation: |          | 0/? [00:00<?, ?it/s]"
      ]
     },
     "metadata": {},
     "output_type": "display_data"
    },
    {
     "data": {
      "application/vnd.jupyter.widget-view+json": {
       "model_id": "8db763daac2e403ab9e70011e7576697",
       "version_major": 2,
       "version_minor": 0
      },
      "text/plain": [
       "Validation: |          | 0/? [00:00<?, ?it/s]"
      ]
     },
     "metadata": {},
     "output_type": "display_data"
    },
    {
     "data": {
      "application/vnd.jupyter.widget-view+json": {
       "model_id": "7f306b8483b54b1bab0b799cea99d95b",
       "version_major": 2,
       "version_minor": 0
      },
      "text/plain": [
       "Validation: |          | 0/? [00:00<?, ?it/s]"
      ]
     },
     "metadata": {},
     "output_type": "display_data"
    },
    {
     "data": {
      "application/vnd.jupyter.widget-view+json": {
       "model_id": "44d7b9bd5b814c8188685c41771df3a2",
       "version_major": 2,
       "version_minor": 0
      },
      "text/plain": [
       "Validation: |          | 0/? [00:00<?, ?it/s]"
      ]
     },
     "metadata": {},
     "output_type": "display_data"
    },
    {
     "data": {
      "application/vnd.jupyter.widget-view+json": {
       "model_id": "8b6233f4381e4b43bbc9ec4813262d50",
       "version_major": 2,
       "version_minor": 0
      },
      "text/plain": [
       "Validation: |          | 0/? [00:00<?, ?it/s]"
      ]
     },
     "metadata": {},
     "output_type": "display_data"
    },
    {
     "name": "stderr",
     "output_type": "stream",
     "text": [
      "`Trainer.fit` stopped: `max_epochs=50` reached.\n"
     ]
    },
    {
     "data": {
      "application/vnd.jupyter.widget-view+json": {
       "model_id": "cc305c0d45224dc49284238384ed6439",
       "version_major": 2,
       "version_minor": 0
      },
      "text/plain": [
       "VBox(children=(Label(value='0.004 MB of 0.004 MB uploaded\\r'), FloatProgress(value=1.0, max=1.0)))"
      ]
     },
     "metadata": {},
     "output_type": "display_data"
    },
    {
     "data": {
      "text/html": [
       "<style>\n",
       "    table.wandb td:nth-child(1) { padding: 0 10px; text-align: left ; width: auto;} td:nth-child(2) {text-align: left ; width: 100%}\n",
       "    .wandb-row { display: flex; flex-direction: row; flex-wrap: wrap; justify-content: flex-start; width: 100% }\n",
       "    .wandb-col { display: flex; flex-direction: column; flex-basis: 100%; flex: 1; padding: 10px; }\n",
       "    </style>\n",
       "<div class=\"wandb-row\"><div class=\"wandb-col\"><h3>Run history:</h3><br/><table class=\"wandb\"><tr><td>epoch</td><td>▁▁▁▁▂▂▂▂▂▃▃▃▃▃▃▄▄▄▄▄▅▅▅▅▅▅▆▆▆▆▆▇▇▇▇▇▇███</td></tr><tr><td>train_acc_cls</td><td>▁▄▅▆▆▇▇▇▇▇▇█████████████████████████████</td></tr><tr><td>train_acc_cls_top_3</td><td>▁▅▆▇▇▇██████████████████████████████████</td></tr><tr><td>train_acc_poison</td><td>▁▅▆▆▇▇▇▇▇███████████████████████████████</td></tr><tr><td>train_f1</td><td>▁▄▅▆▆▇▇▇▇▇▇█▇▇██████████████████████████</td></tr><tr><td>train_loss</td><td>█▄▃▃▂▂▂▂▂▂▂▂▁▁▁▁▁▁▁▁▁▁▁▁▁▁▁▁▁▁▁▁▁▁▁▁▁▁▁▁</td></tr><tr><td>trainer/global_step</td><td>▁▁▁▁▂▂▂▂▂▃▃▃▃▃▃▄▄▄▄▄▅▅▅▅▅▅▆▆▆▆▆▇▇▇▇▇▇███</td></tr><tr><td>val_loss</td><td>█▅▆█▆▇▅▆▆▄▅▅▅▆▅▅▄█▄▅▃▅▅▅▃▅▃▅▃▆▆▅▇▅▆▁▃▄▄▃</td></tr><tr><td>valid_acc_cls</td><td>▁▃▄▃▄▄▄▄▄▅▅▅▅▅▅▅▅▄▆▅▆▅▅▅▇▆▆▅▇▆▅▆▅▆▅█▆▆▆▇</td></tr><tr><td>valid_acc_cls_top_3</td><td>▁▂▃▂▃▃▄▃▃▄▄▄▄▄▅▅▅▃▅▅▆▅▅▅▆▅▆▅▇▆▅▆▅▆▅█▇▇▇▇</td></tr><tr><td>valid_acc_poison</td><td>▁▁▃▅▅▄▃▆▄▅▄▅▅▅▆▅▇▄▆▆▆▅▃▄█▆▆▅▇▆▄▇▆▆▃▇▆▅▆▆</td></tr><tr><td>valid_f1</td><td>▁▃▄▄▅▄▅▅▅▅▆▆▅▅▅▆▆▅▆▆▇▆▆▆▇▆▇▆▇▆▅▆▅▅▅█▆▆▆▇</td></tr></table><br/></div><div class=\"wandb-col\"><h3>Run summary:</h3><br/><table class=\"wandb\"><tr><td>epoch</td><td>49</td></tr><tr><td>train_acc_cls</td><td>0.99346</td></tr><tr><td>train_acc_cls_top_3</td><td>0.9983</td></tr><tr><td>train_acc_poison</td><td>0.99977</td></tr><tr><td>train_f1</td><td>0.81658</td></tr><tr><td>train_loss</td><td>0.08736</td></tr><tr><td>trainer/global_step</td><td>121699</td></tr><tr><td>val_loss</td><td>5.1826</td></tr><tr><td>valid_acc_cls</td><td>0.53901</td></tr><tr><td>valid_acc_cls_top_3</td><td>0.76718</td></tr><tr><td>valid_acc_poison</td><td>0.97605</td></tr><tr><td>valid_f1</td><td>0.12656</td></tr></table><br/></div></div>"
      ],
      "text/plain": [
       "<IPython.core.display.HTML object>"
      ]
     },
     "metadata": {},
     "output_type": "display_data"
    },
    {
     "data": {
      "text/html": [
       " View run <strong style=\"color:#cdcd00\">dino_cw_sampler_metadata</strong> at: <a href='https://wandb.ai/chiu/FungiClef/runs/xcgqtcc1' target=\"_blank\">https://wandb.ai/chiu/FungiClef/runs/xcgqtcc1</a><br/> View project at: <a href='https://wandb.ai/chiu/FungiClef' target=\"_blank\">https://wandb.ai/chiu/FungiClef</a><br/>Synced 6 W&B file(s), 0 media file(s), 0 artifact file(s) and 0 other file(s)"
      ],
      "text/plain": [
       "<IPython.core.display.HTML object>"
      ]
     },
     "metadata": {},
     "output_type": "display_data"
    },
    {
     "data": {
      "text/html": [
       "Find logs at: <code>./wandb/run-20240430_221425-xcgqtcc1/logs</code>"
      ],
      "text/plain": [
       "<IPython.core.display.HTML object>"
      ]
     },
     "metadata": {},
     "output_type": "display_data"
    },
    {
     "name": "stderr",
     "output_type": "stream",
     "text": [
      "GPU available: True (cuda), used: True\n",
      "TPU available: False, using: 0 TPU cores\n",
      "IPU available: False, using: 0 IPUs\n",
      "HPU available: False, using: 0 HPUs\n",
      "GPU available: True (cuda), used: True\n",
      "TPU available: False, using: 0 TPU cores\n",
      "IPU available: False, using: 0 IPUs\n",
      "HPU available: False, using: 0 HPUs\n"
     ]
    },
    {
     "data": {
      "text/html": [
       "Tracking run with wandb version 0.16.6"
      ],
      "text/plain": [
       "<IPython.core.display.HTML object>"
      ]
     },
     "metadata": {},
     "output_type": "display_data"
    },
    {
     "data": {
      "text/html": [
       "Run data is saved locally in <code>./wandb/run-20240430_222646-6yrgsao5</code>"
      ],
      "text/plain": [
       "<IPython.core.display.HTML object>"
      ]
     },
     "metadata": {},
     "output_type": "display_data"
    },
    {
     "data": {
      "text/html": [
       "Syncing run <strong><a href='https://wandb.ai/chiu/FungiClef/runs/6yrgsao5' target=\"_blank\">dino_cw_sampler_metadata_pred_poison_weighted</a></strong> to <a href='https://wandb.ai/chiu/FungiClef' target=\"_blank\">Weights & Biases</a> (<a href='https://wandb.me/run' target=\"_blank\">docs</a>)<br/>"
      ],
      "text/plain": [
       "<IPython.core.display.HTML object>"
      ]
     },
     "metadata": {},
     "output_type": "display_data"
    },
    {
     "data": {
      "text/html": [
       " View project at <a href='https://wandb.ai/chiu/FungiClef' target=\"_blank\">https://wandb.ai/chiu/FungiClef</a>"
      ],
      "text/plain": [
       "<IPython.core.display.HTML object>"
      ]
     },
     "metadata": {},
     "output_type": "display_data"
    },
    {
     "data": {
      "text/html": [
       " View run at <a href='https://wandb.ai/chiu/FungiClef/runs/6yrgsao5' target=\"_blank\">https://wandb.ai/chiu/FungiClef/runs/6yrgsao5</a>"
      ],
      "text/plain": [
       "<IPython.core.display.HTML object>"
      ]
     },
     "metadata": {},
     "output_type": "display_data"
    },
    {
     "name": "stderr",
     "output_type": "stream",
     "text": [
      "/home/chris/miniconda3/envs/fungiclef/lib/python3.11/site-packages/lightning/pytorch/callbacks/model_checkpoint.py:653: Checkpoint directory /home/chris/fungiclef-2024/checkpoints exists and is not empty.\n",
      "LOCAL_RANK: 0 - CUDA_VISIBLE_DEVICES: [0]\n",
      "\n",
      "  | Name                       | Type                  | Params\n",
      "---------------------------------------------------------------------\n",
      "0 | model                      | MultiTargetClassifier | 3.4 M \n",
      "1 | train_accuracy_class_top_1 | MulticlassAccuracy    | 0     \n",
      "2 | valid_accuracy_class_top_1 | MulticlassAccuracy    | 0     \n",
      "3 | train_f1                   | MulticlassF1Score     | 0     \n",
      "4 | valid_f1                   | MulticlassF1Score     | 0     \n",
      "5 | train_accuracy_class_top_3 | MulticlassAccuracy    | 0     \n",
      "6 | valid_accuracy_class_top_3 | MulticlassAccuracy    | 0     \n",
      "7 | train_accuracy_poison      | BinaryAccuracy        | 0     \n",
      "8 | valid_accuracy_poison      | BinaryAccuracy        | 0     \n",
      "---------------------------------------------------------------------\n",
      "3.4 M     Trainable params\n",
      "0         Non-trainable params\n",
      "3.4 M     Total params\n",
      "13.516    Total estimated model params size (MB)\n"
     ]
    },
    {
     "data": {
      "application/vnd.jupyter.widget-view+json": {
       "model_id": "26669ae811ae4566af15653106487ee4",
       "version_major": 2,
       "version_minor": 0
      },
      "text/plain": [
       "Sanity Checking: |          | 0/? [00:00<?, ?it/s]"
      ]
     },
     "metadata": {},
     "output_type": "display_data"
    },
    {
     "data": {
      "application/vnd.jupyter.widget-view+json": {
       "model_id": "50fa8fdb433a427faa51035a98f069bf",
       "version_major": 2,
       "version_minor": 0
      },
      "text/plain": [
       "Training: |          | 0/? [00:00<?, ?it/s]"
      ]
     },
     "metadata": {},
     "output_type": "display_data"
    },
    {
     "data": {
      "application/vnd.jupyter.widget-view+json": {
       "model_id": "1f11e7043e164cfebbe11aac14da1be3",
       "version_major": 2,
       "version_minor": 0
      },
      "text/plain": [
       "Validation: |          | 0/? [00:00<?, ?it/s]"
      ]
     },
     "metadata": {},
     "output_type": "display_data"
    },
    {
     "data": {
      "application/vnd.jupyter.widget-view+json": {
       "model_id": "b048f8260bc34f52b3e7cb3ba577069d",
       "version_major": 2,
       "version_minor": 0
      },
      "text/plain": [
       "Validation: |          | 0/? [00:00<?, ?it/s]"
      ]
     },
     "metadata": {},
     "output_type": "display_data"
    },
    {
     "data": {
      "application/vnd.jupyter.widget-view+json": {
       "model_id": "fa2fe7a8e39a4210aabc9c275b63f1a4",
       "version_major": 2,
       "version_minor": 0
      },
      "text/plain": [
       "Validation: |          | 0/? [00:00<?, ?it/s]"
      ]
     },
     "metadata": {},
     "output_type": "display_data"
    },
    {
     "data": {
      "application/vnd.jupyter.widget-view+json": {
       "model_id": "25dd7145c6ab4ee2aa112cb659efb980",
       "version_major": 2,
       "version_minor": 0
      },
      "text/plain": [
       "Validation: |          | 0/? [00:00<?, ?it/s]"
      ]
     },
     "metadata": {},
     "output_type": "display_data"
    },
    {
     "data": {
      "application/vnd.jupyter.widget-view+json": {
       "model_id": "89bf73b97b9f467885536fa2e347e611",
       "version_major": 2,
       "version_minor": 0
      },
      "text/plain": [
       "Validation: |          | 0/? [00:00<?, ?it/s]"
      ]
     },
     "metadata": {},
     "output_type": "display_data"
    },
    {
     "data": {
      "application/vnd.jupyter.widget-view+json": {
       "model_id": "e1d68db26355413e96341868d9098cec",
       "version_major": 2,
       "version_minor": 0
      },
      "text/plain": [
       "Validation: |          | 0/? [00:00<?, ?it/s]"
      ]
     },
     "metadata": {},
     "output_type": "display_data"
    },
    {
     "data": {
      "application/vnd.jupyter.widget-view+json": {
       "model_id": "6a79583dd4c64d8a93680b7cf92e5c9b",
       "version_major": 2,
       "version_minor": 0
      },
      "text/plain": [
       "Validation: |          | 0/? [00:00<?, ?it/s]"
      ]
     },
     "metadata": {},
     "output_type": "display_data"
    },
    {
     "data": {
      "application/vnd.jupyter.widget-view+json": {
       "model_id": "74f1af8379c242f1afab1772eac77887",
       "version_major": 2,
       "version_minor": 0
      },
      "text/plain": [
       "Validation: |          | 0/? [00:00<?, ?it/s]"
      ]
     },
     "metadata": {},
     "output_type": "display_data"
    },
    {
     "data": {
      "application/vnd.jupyter.widget-view+json": {
       "model_id": "00fd3b5f64b349f5bc95fac2efab2eae",
       "version_major": 2,
       "version_minor": 0
      },
      "text/plain": [
       "Validation: |          | 0/? [00:00<?, ?it/s]"
      ]
     },
     "metadata": {},
     "output_type": "display_data"
    },
    {
     "data": {
      "application/vnd.jupyter.widget-view+json": {
       "model_id": "a7cde6f80bf5499f941ed6dcd906d18e",
       "version_major": 2,
       "version_minor": 0
      },
      "text/plain": [
       "Validation: |          | 0/? [00:00<?, ?it/s]"
      ]
     },
     "metadata": {},
     "output_type": "display_data"
    },
    {
     "data": {
      "application/vnd.jupyter.widget-view+json": {
       "model_id": "ea67c96a74fa47feac85e3a357d5237a",
       "version_major": 2,
       "version_minor": 0
      },
      "text/plain": [
       "Validation: |          | 0/? [00:00<?, ?it/s]"
      ]
     },
     "metadata": {},
     "output_type": "display_data"
    },
    {
     "data": {
      "application/vnd.jupyter.widget-view+json": {
       "model_id": "6f20477900ed4c1b8afcc95448936d13",
       "version_major": 2,
       "version_minor": 0
      },
      "text/plain": [
       "Validation: |          | 0/? [00:00<?, ?it/s]"
      ]
     },
     "metadata": {},
     "output_type": "display_data"
    },
    {
     "data": {
      "application/vnd.jupyter.widget-view+json": {
       "model_id": "f369839d38a84695a2e868699665e34a",
       "version_major": 2,
       "version_minor": 0
      },
      "text/plain": [
       "Validation: |          | 0/? [00:00<?, ?it/s]"
      ]
     },
     "metadata": {},
     "output_type": "display_data"
    },
    {
     "data": {
      "application/vnd.jupyter.widget-view+json": {
       "model_id": "5d491a128aec401ab2416cba05856d7a",
       "version_major": 2,
       "version_minor": 0
      },
      "text/plain": [
       "Validation: |          | 0/? [00:00<?, ?it/s]"
      ]
     },
     "metadata": {},
     "output_type": "display_data"
    },
    {
     "data": {
      "application/vnd.jupyter.widget-view+json": {
       "model_id": "008359b2471546e1ac7198779ed672ce",
       "version_major": 2,
       "version_minor": 0
      },
      "text/plain": [
       "Validation: |          | 0/? [00:00<?, ?it/s]"
      ]
     },
     "metadata": {},
     "output_type": "display_data"
    },
    {
     "data": {
      "application/vnd.jupyter.widget-view+json": {
       "model_id": "993460df3374401c92482bf1b799d013",
       "version_major": 2,
       "version_minor": 0
      },
      "text/plain": [
       "Validation: |          | 0/? [00:00<?, ?it/s]"
      ]
     },
     "metadata": {},
     "output_type": "display_data"
    },
    {
     "data": {
      "application/vnd.jupyter.widget-view+json": {
       "model_id": "a5066fede1dd47a480e434101522b645",
       "version_major": 2,
       "version_minor": 0
      },
      "text/plain": [
       "Validation: |          | 0/? [00:00<?, ?it/s]"
      ]
     },
     "metadata": {},
     "output_type": "display_data"
    },
    {
     "data": {
      "application/vnd.jupyter.widget-view+json": {
       "model_id": "8d7f36a5874046feb8abcf52cdff5825",
       "version_major": 2,
       "version_minor": 0
      },
      "text/plain": [
       "Validation: |          | 0/? [00:00<?, ?it/s]"
      ]
     },
     "metadata": {},
     "output_type": "display_data"
    },
    {
     "data": {
      "application/vnd.jupyter.widget-view+json": {
       "model_id": "339f56fc6e07465babeacd8388c4ecf5",
       "version_major": 2,
       "version_minor": 0
      },
      "text/plain": [
       "Validation: |          | 0/? [00:00<?, ?it/s]"
      ]
     },
     "metadata": {},
     "output_type": "display_data"
    },
    {
     "data": {
      "application/vnd.jupyter.widget-view+json": {
       "model_id": "5bcec9e5b779465b960ef62ad2e3eaff",
       "version_major": 2,
       "version_minor": 0
      },
      "text/plain": [
       "Validation: |          | 0/? [00:00<?, ?it/s]"
      ]
     },
     "metadata": {},
     "output_type": "display_data"
    },
    {
     "data": {
      "application/vnd.jupyter.widget-view+json": {
       "model_id": "f73295a07afa4a65b1f4eda15d1984b9",
       "version_major": 2,
       "version_minor": 0
      },
      "text/plain": [
       "Validation: |          | 0/? [00:00<?, ?it/s]"
      ]
     },
     "metadata": {},
     "output_type": "display_data"
    },
    {
     "data": {
      "application/vnd.jupyter.widget-view+json": {
       "model_id": "ca881de0779b42ff85ed7502a0b9278a",
       "version_major": 2,
       "version_minor": 0
      },
      "text/plain": [
       "Validation: |          | 0/? [00:00<?, ?it/s]"
      ]
     },
     "metadata": {},
     "output_type": "display_data"
    },
    {
     "data": {
      "application/vnd.jupyter.widget-view+json": {
       "model_id": "76b868039dfc4497bf2ae6281e50b27e",
       "version_major": 2,
       "version_minor": 0
      },
      "text/plain": [
       "Validation: |          | 0/? [00:00<?, ?it/s]"
      ]
     },
     "metadata": {},
     "output_type": "display_data"
    },
    {
     "data": {
      "application/vnd.jupyter.widget-view+json": {
       "model_id": "f6ec28183e33485fa31fe56352fafe43",
       "version_major": 2,
       "version_minor": 0
      },
      "text/plain": [
       "Validation: |          | 0/? [00:00<?, ?it/s]"
      ]
     },
     "metadata": {},
     "output_type": "display_data"
    },
    {
     "data": {
      "application/vnd.jupyter.widget-view+json": {
       "model_id": "67c5226190774cd4947e6664fffbbe97",
       "version_major": 2,
       "version_minor": 0
      },
      "text/plain": [
       "Validation: |          | 0/? [00:00<?, ?it/s]"
      ]
     },
     "metadata": {},
     "output_type": "display_data"
    },
    {
     "data": {
      "application/vnd.jupyter.widget-view+json": {
       "model_id": "08c3fc0c68474d27a90f731573614f0e",
       "version_major": 2,
       "version_minor": 0
      },
      "text/plain": [
       "Validation: |          | 0/? [00:00<?, ?it/s]"
      ]
     },
     "metadata": {},
     "output_type": "display_data"
    },
    {
     "data": {
      "application/vnd.jupyter.widget-view+json": {
       "model_id": "0c5e945aaa634c0ba1d9efd8de6595da",
       "version_major": 2,
       "version_minor": 0
      },
      "text/plain": [
       "Validation: |          | 0/? [00:00<?, ?it/s]"
      ]
     },
     "metadata": {},
     "output_type": "display_data"
    },
    {
     "data": {
      "application/vnd.jupyter.widget-view+json": {
       "model_id": "f90c1a181d424ef8ad6be986ccdf5a17",
       "version_major": 2,
       "version_minor": 0
      },
      "text/plain": [
       "Validation: |          | 0/? [00:00<?, ?it/s]"
      ]
     },
     "metadata": {},
     "output_type": "display_data"
    },
    {
     "data": {
      "application/vnd.jupyter.widget-view+json": {
       "model_id": "591f1d4d38b04631af88cd384130a251",
       "version_major": 2,
       "version_minor": 0
      },
      "text/plain": [
       "Validation: |          | 0/? [00:00<?, ?it/s]"
      ]
     },
     "metadata": {},
     "output_type": "display_data"
    },
    {
     "data": {
      "application/vnd.jupyter.widget-view+json": {
       "model_id": "47f789a31f424039a1df7dc2c21572d9",
       "version_major": 2,
       "version_minor": 0
      },
      "text/plain": [
       "Validation: |          | 0/? [00:00<?, ?it/s]"
      ]
     },
     "metadata": {},
     "output_type": "display_data"
    },
    {
     "data": {
      "application/vnd.jupyter.widget-view+json": {
       "model_id": "5e153ff243f34bab8b8562d510fbac42",
       "version_major": 2,
       "version_minor": 0
      },
      "text/plain": [
       "Validation: |          | 0/? [00:00<?, ?it/s]"
      ]
     },
     "metadata": {},
     "output_type": "display_data"
    },
    {
     "data": {
      "application/vnd.jupyter.widget-view+json": {
       "model_id": "60de3915b17f44eca46a9d67de1f17e9",
       "version_major": 2,
       "version_minor": 0
      },
      "text/plain": [
       "Validation: |          | 0/? [00:00<?, ?it/s]"
      ]
     },
     "metadata": {},
     "output_type": "display_data"
    },
    {
     "data": {
      "application/vnd.jupyter.widget-view+json": {
       "model_id": "8421cc61aa4f4155a2f2270d1d999262",
       "version_major": 2,
       "version_minor": 0
      },
      "text/plain": [
       "Validation: |          | 0/? [00:00<?, ?it/s]"
      ]
     },
     "metadata": {},
     "output_type": "display_data"
    },
    {
     "data": {
      "application/vnd.jupyter.widget-view+json": {
       "model_id": "7f596fbcf02f4cca83b2f286977b3bcc",
       "version_major": 2,
       "version_minor": 0
      },
      "text/plain": [
       "Validation: |          | 0/? [00:00<?, ?it/s]"
      ]
     },
     "metadata": {},
     "output_type": "display_data"
    },
    {
     "data": {
      "application/vnd.jupyter.widget-view+json": {
       "model_id": "b39d885adef548c6a5da23540427ed0d",
       "version_major": 2,
       "version_minor": 0
      },
      "text/plain": [
       "Validation: |          | 0/? [00:00<?, ?it/s]"
      ]
     },
     "metadata": {},
     "output_type": "display_data"
    },
    {
     "data": {
      "application/vnd.jupyter.widget-view+json": {
       "model_id": "955a54cf256c447a8e6e8ae5ded1b70e",
       "version_major": 2,
       "version_minor": 0
      },
      "text/plain": [
       "Validation: |          | 0/? [00:00<?, ?it/s]"
      ]
     },
     "metadata": {},
     "output_type": "display_data"
    },
    {
     "data": {
      "application/vnd.jupyter.widget-view+json": {
       "model_id": "8bf23ce417eb440088f866d43cf1e250",
       "version_major": 2,
       "version_minor": 0
      },
      "text/plain": [
       "Validation: |          | 0/? [00:00<?, ?it/s]"
      ]
     },
     "metadata": {},
     "output_type": "display_data"
    },
    {
     "data": {
      "application/vnd.jupyter.widget-view+json": {
       "model_id": "3852154bd6ad4fd2842d3a70f6a6d389",
       "version_major": 2,
       "version_minor": 0
      },
      "text/plain": [
       "Validation: |          | 0/? [00:00<?, ?it/s]"
      ]
     },
     "metadata": {},
     "output_type": "display_data"
    },
    {
     "data": {
      "application/vnd.jupyter.widget-view+json": {
       "model_id": "ab021aa039c54562969e456fe1073206",
       "version_major": 2,
       "version_minor": 0
      },
      "text/plain": [
       "Validation: |          | 0/? [00:00<?, ?it/s]"
      ]
     },
     "metadata": {},
     "output_type": "display_data"
    },
    {
     "data": {
      "application/vnd.jupyter.widget-view+json": {
       "model_id": "b10ee12c183141768458e2e2d8ee3fa4",
       "version_major": 2,
       "version_minor": 0
      },
      "text/plain": [
       "Validation: |          | 0/? [00:00<?, ?it/s]"
      ]
     },
     "metadata": {},
     "output_type": "display_data"
    },
    {
     "data": {
      "application/vnd.jupyter.widget-view+json": {
       "model_id": "0672f54b68fd4100af2bf755399ae67e",
       "version_major": 2,
       "version_minor": 0
      },
      "text/plain": [
       "Validation: |          | 0/? [00:00<?, ?it/s]"
      ]
     },
     "metadata": {},
     "output_type": "display_data"
    },
    {
     "data": {
      "application/vnd.jupyter.widget-view+json": {
       "model_id": "054d8fddad00426896fd5ad661db65d4",
       "version_major": 2,
       "version_minor": 0
      },
      "text/plain": [
       "Validation: |          | 0/? [00:00<?, ?it/s]"
      ]
     },
     "metadata": {},
     "output_type": "display_data"
    },
    {
     "data": {
      "application/vnd.jupyter.widget-view+json": {
       "model_id": "fd793305fef748c19ed89aea79dcde28",
       "version_major": 2,
       "version_minor": 0
      },
      "text/plain": [
       "Validation: |          | 0/? [00:00<?, ?it/s]"
      ]
     },
     "metadata": {},
     "output_type": "display_data"
    },
    {
     "data": {
      "application/vnd.jupyter.widget-view+json": {
       "model_id": "d729f70b25fd44e6946147db78895f30",
       "version_major": 2,
       "version_minor": 0
      },
      "text/plain": [
       "Validation: |          | 0/? [00:00<?, ?it/s]"
      ]
     },
     "metadata": {},
     "output_type": "display_data"
    },
    {
     "data": {
      "application/vnd.jupyter.widget-view+json": {
       "model_id": "642c957761d14933b4259a1639ad1614",
       "version_major": 2,
       "version_minor": 0
      },
      "text/plain": [
       "Validation: |          | 0/? [00:00<?, ?it/s]"
      ]
     },
     "metadata": {},
     "output_type": "display_data"
    },
    {
     "data": {
      "application/vnd.jupyter.widget-view+json": {
       "model_id": "67b19cdc8b724e3086ac554dd42306ca",
       "version_major": 2,
       "version_minor": 0
      },
      "text/plain": [
       "Validation: |          | 0/? [00:00<?, ?it/s]"
      ]
     },
     "metadata": {},
     "output_type": "display_data"
    },
    {
     "data": {
      "application/vnd.jupyter.widget-view+json": {
       "model_id": "6501d01dd0cb4132a6bf944a4ecb4aaa",
       "version_major": 2,
       "version_minor": 0
      },
      "text/plain": [
       "Validation: |          | 0/? [00:00<?, ?it/s]"
      ]
     },
     "metadata": {},
     "output_type": "display_data"
    },
    {
     "data": {
      "application/vnd.jupyter.widget-view+json": {
       "model_id": "a3ac6356d2684a458ff6d7866c9db77c",
       "version_major": 2,
       "version_minor": 0
      },
      "text/plain": [
       "Validation: |          | 0/? [00:00<?, ?it/s]"
      ]
     },
     "metadata": {},
     "output_type": "display_data"
    },
    {
     "data": {
      "application/vnd.jupyter.widget-view+json": {
       "model_id": "39b7d99aa7a7414d827831fb773ebc98",
       "version_major": 2,
       "version_minor": 0
      },
      "text/plain": [
       "Validation: |          | 0/? [00:00<?, ?it/s]"
      ]
     },
     "metadata": {},
     "output_type": "display_data"
    },
    {
     "data": {
      "application/vnd.jupyter.widget-view+json": {
       "model_id": "98732d7aea4348d6a3f6979cdf373a59",
       "version_major": 2,
       "version_minor": 0
      },
      "text/plain": [
       "Validation: |          | 0/? [00:00<?, ?it/s]"
      ]
     },
     "metadata": {},
     "output_type": "display_data"
    },
    {
     "name": "stderr",
     "output_type": "stream",
     "text": [
      "`Trainer.fit` stopped: `max_epochs=50` reached.\n"
     ]
    },
    {
     "data": {
      "application/vnd.jupyter.widget-view+json": {
       "model_id": "cd1f756008934dbab4978cb3b3550ce3",
       "version_major": 2,
       "version_minor": 0
      },
      "text/plain": [
       "VBox(children=(Label(value='0.004 MB of 0.004 MB uploaded\\r'), FloatProgress(value=1.0, max=1.0)))"
      ]
     },
     "metadata": {},
     "output_type": "display_data"
    },
    {
     "data": {
      "text/html": [
       "<style>\n",
       "    table.wandb td:nth-child(1) { padding: 0 10px; text-align: left ; width: auto;} td:nth-child(2) {text-align: left ; width: 100%}\n",
       "    .wandb-row { display: flex; flex-direction: row; flex-wrap: wrap; justify-content: flex-start; width: 100% }\n",
       "    .wandb-col { display: flex; flex-direction: column; flex-basis: 100%; flex: 1; padding: 10px; }\n",
       "    </style>\n",
       "<div class=\"wandb-row\"><div class=\"wandb-col\"><h3>Run history:</h3><br/><table class=\"wandb\"><tr><td>epoch</td><td>▁▁▁▁▂▂▂▂▂▃▃▃▃▃▃▄▄▄▄▄▅▅▅▅▅▅▆▆▆▆▆▇▇▇▇▇▇███</td></tr><tr><td>train_acc_cls</td><td>▁▄▅▆▇▇▇▇▇▇▇█████████████████████████████</td></tr><tr><td>train_acc_cls_top_3</td><td>▁▆▆▇▇███████████████████████████████████</td></tr><tr><td>train_acc_poison</td><td>▁▄▅▆▇▇▇▇▇███████████████████████████████</td></tr><tr><td>train_f1</td><td>▁▅▅▆▆▇▇▇▇▇▇▇▇███████████████████████████</td></tr><tr><td>train_loss</td><td>█▄▃▃▂▂▂▂▂▂▂▂▁▂▁▁▁▁▁▁▁▁▁▁▁▁▁▁▁▁▁▁▁▁▁▁▁▁▁▁</td></tr><tr><td>trainer/global_step</td><td>▁▁▁▁▂▂▂▂▂▃▃▃▃▃▃▄▄▄▄▄▅▅▅▅▅▅▆▆▆▆▆▇▇▇▇▇▇███</td></tr><tr><td>val_loss</td><td>█▇▄▆▆▄▆▆▇▄▄▅▅▃▄▃▁▄▂▃▃▃▄▅▃▂▂▅▃▂▃▃▃▃▄▃▃▃▅▃</td></tr><tr><td>valid_acc_cls</td><td>▁▃▄▄▅▆▅▄▅▆▅▅▅▆▆▆▇▆▆▆▆▆▆▆▆▇█▆▇▇▆▇▇▇▇▇▇▇▇▇</td></tr><tr><td>valid_acc_cls_top_3</td><td>▁▂▃▃▃▄▃▃▃▅▅▄▄▅▅▅▇▅▆▆▆▆▅▆▆▇█▅▆▇▆▆▇▇▆▇▇▇▇█</td></tr><tr><td>valid_acc_poison</td><td>▁▄▄▃▃▂▄▅▃▅▄▄▅▄▅▅▇▆▆▇▄█▇▅▄▆▇▇▆▅▇▅▆▆▆▆▄▆▅▆</td></tr><tr><td>valid_f1</td><td>▁▃▄▄▅▇▅▅▅▆▅▆▆▆▆▆▇▆▆▆▇▇▆▆▆▇█▆▆▇▆▆▇▆▇▇▇▆▆▇</td></tr></table><br/></div><div class=\"wandb-col\"><h3>Run summary:</h3><br/><table class=\"wandb\"><tr><td>epoch</td><td>49</td></tr><tr><td>train_acc_cls</td><td>0.99352</td></tr><tr><td>train_acc_cls_top_3</td><td>0.99849</td></tr><tr><td>train_acc_poison</td><td>0.99968</td></tr><tr><td>train_f1</td><td>0.80182</td></tr><tr><td>train_loss</td><td>0.05444</td></tr><tr><td>trainer/global_step</td><td>121699</td></tr><tr><td>val_loss</td><td>4.08301</td></tr><tr><td>valid_acc_cls</td><td>0.53345</td></tr><tr><td>valid_acc_cls_top_3</td><td>0.75328</td></tr><tr><td>valid_acc_poison</td><td>0.97569</td></tr><tr><td>valid_f1</td><td>0.12366</td></tr></table><br/></div></div>"
      ],
      "text/plain": [
       "<IPython.core.display.HTML object>"
      ]
     },
     "metadata": {},
     "output_type": "display_data"
    },
    {
     "data": {
      "text/html": [
       " View run <strong style=\"color:#cdcd00\">dino_cw_sampler_metadata_pred_poison_weighted</strong> at: <a href='https://wandb.ai/chiu/FungiClef/runs/6yrgsao5' target=\"_blank\">https://wandb.ai/chiu/FungiClef/runs/6yrgsao5</a><br/> View project at: <a href='https://wandb.ai/chiu/FungiClef' target=\"_blank\">https://wandb.ai/chiu/FungiClef</a><br/>Synced 6 W&B file(s), 0 media file(s), 0 artifact file(s) and 0 other file(s)"
      ],
      "text/plain": [
       "<IPython.core.display.HTML object>"
      ]
     },
     "metadata": {},
     "output_type": "display_data"
    },
    {
     "data": {
      "text/html": [
       "Find logs at: <code>./wandb/run-20240430_222646-6yrgsao5/logs</code>"
      ],
      "text/plain": [
       "<IPython.core.display.HTML object>"
      ]
     },
     "metadata": {},
     "output_type": "display_data"
    },
    {
     "name": "stderr",
     "output_type": "stream",
     "text": [
      "GPU available: True (cuda), used: True\n",
      "TPU available: False, using: 0 TPU cores\n",
      "IPU available: False, using: 0 IPUs\n",
      "HPU available: False, using: 0 HPUs\n",
      "GPU available: True (cuda), used: True\n",
      "TPU available: False, using: 0 TPU cores\n",
      "IPU available: False, using: 0 IPUs\n",
      "HPU available: False, using: 0 HPUs\n"
     ]
    },
    {
     "data": {
      "text/html": [
       "Tracking run with wandb version 0.16.6"
      ],
      "text/plain": [
       "<IPython.core.display.HTML object>"
      ]
     },
     "metadata": {},
     "output_type": "display_data"
    },
    {
     "data": {
      "text/html": [
       "Run data is saved locally in <code>./wandb/run-20240430_224031-5v4qclie</code>"
      ],
      "text/plain": [
       "<IPython.core.display.HTML object>"
      ]
     },
     "metadata": {},
     "output_type": "display_data"
    },
    {
     "data": {
      "text/html": [
       "Syncing run <strong><a href='https://wandb.ai/chiu/FungiClef/runs/5v4qclie' target=\"_blank\">dino_cw_sampler_metadata_pred_all</a></strong> to <a href='https://wandb.ai/chiu/FungiClef' target=\"_blank\">Weights & Biases</a> (<a href='https://wandb.me/run' target=\"_blank\">docs</a>)<br/>"
      ],
      "text/plain": [
       "<IPython.core.display.HTML object>"
      ]
     },
     "metadata": {},
     "output_type": "display_data"
    },
    {
     "data": {
      "text/html": [
       " View project at <a href='https://wandb.ai/chiu/FungiClef' target=\"_blank\">https://wandb.ai/chiu/FungiClef</a>"
      ],
      "text/plain": [
       "<IPython.core.display.HTML object>"
      ]
     },
     "metadata": {},
     "output_type": "display_data"
    },
    {
     "data": {
      "text/html": [
       " View run at <a href='https://wandb.ai/chiu/FungiClef/runs/5v4qclie' target=\"_blank\">https://wandb.ai/chiu/FungiClef/runs/5v4qclie</a>"
      ],
      "text/plain": [
       "<IPython.core.display.HTML object>"
      ]
     },
     "metadata": {},
     "output_type": "display_data"
    },
    {
     "name": "stderr",
     "output_type": "stream",
     "text": [
      "/home/chris/miniconda3/envs/fungiclef/lib/python3.11/site-packages/lightning/pytorch/callbacks/model_checkpoint.py:653: Checkpoint directory /home/chris/fungiclef-2024/checkpoints exists and is not empty.\n",
      "LOCAL_RANK: 0 - CUDA_VISIBLE_DEVICES: [0]\n",
      "\n",
      "  | Name                       | Type                  | Params\n",
      "---------------------------------------------------------------------\n",
      "0 | model                      | MultiTargetClassifier | 13.0 M\n",
      "1 | train_accuracy_class_top_1 | MulticlassAccuracy    | 0     \n",
      "2 | valid_accuracy_class_top_1 | MulticlassAccuracy    | 0     \n",
      "3 | train_f1                   | MulticlassF1Score     | 0     \n",
      "4 | valid_f1                   | MulticlassF1Score     | 0     \n",
      "5 | train_accuracy_class_top_3 | MulticlassAccuracy    | 0     \n",
      "6 | valid_accuracy_class_top_3 | MulticlassAccuracy    | 0     \n",
      "7 | train_accuracy_poison      | BinaryAccuracy        | 0     \n",
      "8 | valid_accuracy_poison      | BinaryAccuracy        | 0     \n",
      "---------------------------------------------------------------------\n",
      "13.0 M    Trainable params\n",
      "0         Non-trainable params\n",
      "13.0 M    Total params\n",
      "51.810    Total estimated model params size (MB)\n"
     ]
    },
    {
     "data": {
      "application/vnd.jupyter.widget-view+json": {
       "model_id": "1099bda62a4e48e7a0b8093ac7997005",
       "version_major": 2,
       "version_minor": 0
      },
      "text/plain": [
       "Sanity Checking: |          | 0/? [00:00<?, ?it/s]"
      ]
     },
     "metadata": {},
     "output_type": "display_data"
    },
    {
     "data": {
      "application/vnd.jupyter.widget-view+json": {
       "model_id": "2f64914a3b164180a15acd1f043a1145",
       "version_major": 2,
       "version_minor": 0
      },
      "text/plain": [
       "Training: |          | 0/? [00:00<?, ?it/s]"
      ]
     },
     "metadata": {},
     "output_type": "display_data"
    },
    {
     "data": {
      "application/vnd.jupyter.widget-view+json": {
       "model_id": "829f791924494d4888546c47679fa3fd",
       "version_major": 2,
       "version_minor": 0
      },
      "text/plain": [
       "Validation: |          | 0/? [00:00<?, ?it/s]"
      ]
     },
     "metadata": {},
     "output_type": "display_data"
    },
    {
     "data": {
      "application/vnd.jupyter.widget-view+json": {
       "model_id": "9768bd9dca534a30a907bc128768dd88",
       "version_major": 2,
       "version_minor": 0
      },
      "text/plain": [
       "Validation: |          | 0/? [00:00<?, ?it/s]"
      ]
     },
     "metadata": {},
     "output_type": "display_data"
    },
    {
     "data": {
      "application/vnd.jupyter.widget-view+json": {
       "model_id": "829509eb488b4a57ace8245144754a8a",
       "version_major": 2,
       "version_minor": 0
      },
      "text/plain": [
       "Validation: |          | 0/? [00:00<?, ?it/s]"
      ]
     },
     "metadata": {},
     "output_type": "display_data"
    },
    {
     "data": {
      "application/vnd.jupyter.widget-view+json": {
       "model_id": "b963df72445443aab0243f691595baa6",
       "version_major": 2,
       "version_minor": 0
      },
      "text/plain": [
       "Validation: |          | 0/? [00:00<?, ?it/s]"
      ]
     },
     "metadata": {},
     "output_type": "display_data"
    },
    {
     "data": {
      "application/vnd.jupyter.widget-view+json": {
       "model_id": "7a0a602d061040059daae19f77cfdd27",
       "version_major": 2,
       "version_minor": 0
      },
      "text/plain": [
       "Validation: |          | 0/? [00:00<?, ?it/s]"
      ]
     },
     "metadata": {},
     "output_type": "display_data"
    },
    {
     "data": {
      "application/vnd.jupyter.widget-view+json": {
       "model_id": "4104299ebfe944e693dc93d7e623e0fb",
       "version_major": 2,
       "version_minor": 0
      },
      "text/plain": [
       "Validation: |          | 0/? [00:00<?, ?it/s]"
      ]
     },
     "metadata": {},
     "output_type": "display_data"
    },
    {
     "data": {
      "application/vnd.jupyter.widget-view+json": {
       "model_id": "6d40bf488b9749f4bd884067a7aa05e4",
       "version_major": 2,
       "version_minor": 0
      },
      "text/plain": [
       "Validation: |          | 0/? [00:00<?, ?it/s]"
      ]
     },
     "metadata": {},
     "output_type": "display_data"
    },
    {
     "data": {
      "application/vnd.jupyter.widget-view+json": {
       "model_id": "6ab10b40611c4b2d931cf53d1256b21d",
       "version_major": 2,
       "version_minor": 0
      },
      "text/plain": [
       "Validation: |          | 0/? [00:00<?, ?it/s]"
      ]
     },
     "metadata": {},
     "output_type": "display_data"
    },
    {
     "data": {
      "application/vnd.jupyter.widget-view+json": {
       "model_id": "1a8f8297996849498b3185544064bcc5",
       "version_major": 2,
       "version_minor": 0
      },
      "text/plain": [
       "Validation: |          | 0/? [00:00<?, ?it/s]"
      ]
     },
     "metadata": {},
     "output_type": "display_data"
    },
    {
     "data": {
      "application/vnd.jupyter.widget-view+json": {
       "model_id": "5017d9a4f5f14e1980a9ad416ad604df",
       "version_major": 2,
       "version_minor": 0
      },
      "text/plain": [
       "Validation: |          | 0/? [00:00<?, ?it/s]"
      ]
     },
     "metadata": {},
     "output_type": "display_data"
    },
    {
     "data": {
      "application/vnd.jupyter.widget-view+json": {
       "model_id": "6fc6ca1cb9b343458829cefac0d6f7af",
       "version_major": 2,
       "version_minor": 0
      },
      "text/plain": [
       "Validation: |          | 0/? [00:00<?, ?it/s]"
      ]
     },
     "metadata": {},
     "output_type": "display_data"
    },
    {
     "data": {
      "application/vnd.jupyter.widget-view+json": {
       "model_id": "053a520866bc4da496d2c6ba47c281cd",
       "version_major": 2,
       "version_minor": 0
      },
      "text/plain": [
       "Validation: |          | 0/? [00:00<?, ?it/s]"
      ]
     },
     "metadata": {},
     "output_type": "display_data"
    },
    {
     "data": {
      "application/vnd.jupyter.widget-view+json": {
       "model_id": "0551b553c4a04288876f991f0f93e804",
       "version_major": 2,
       "version_minor": 0
      },
      "text/plain": [
       "Validation: |          | 0/? [00:00<?, ?it/s]"
      ]
     },
     "metadata": {},
     "output_type": "display_data"
    },
    {
     "data": {
      "application/vnd.jupyter.widget-view+json": {
       "model_id": "5dbe899227e4414da9c5d61f96814c33",
       "version_major": 2,
       "version_minor": 0
      },
      "text/plain": [
       "Validation: |          | 0/? [00:00<?, ?it/s]"
      ]
     },
     "metadata": {},
     "output_type": "display_data"
    },
    {
     "data": {
      "application/vnd.jupyter.widget-view+json": {
       "model_id": "dcb0e70b23e846af9db1b91776a38b15",
       "version_major": 2,
       "version_minor": 0
      },
      "text/plain": [
       "Validation: |          | 0/? [00:00<?, ?it/s]"
      ]
     },
     "metadata": {},
     "output_type": "display_data"
    },
    {
     "data": {
      "application/vnd.jupyter.widget-view+json": {
       "model_id": "8b23868bbb754d559aca67e5a80f3923",
       "version_major": 2,
       "version_minor": 0
      },
      "text/plain": [
       "Validation: |          | 0/? [00:00<?, ?it/s]"
      ]
     },
     "metadata": {},
     "output_type": "display_data"
    },
    {
     "data": {
      "application/vnd.jupyter.widget-view+json": {
       "model_id": "e706ce2a414b4e34ad59db4630261a73",
       "version_major": 2,
       "version_minor": 0
      },
      "text/plain": [
       "Validation: |          | 0/? [00:00<?, ?it/s]"
      ]
     },
     "metadata": {},
     "output_type": "display_data"
    },
    {
     "data": {
      "application/vnd.jupyter.widget-view+json": {
       "model_id": "9cd9bf940f3b43be9e4e2be334319ee2",
       "version_major": 2,
       "version_minor": 0
      },
      "text/plain": [
       "Validation: |          | 0/? [00:00<?, ?it/s]"
      ]
     },
     "metadata": {},
     "output_type": "display_data"
    },
    {
     "data": {
      "application/vnd.jupyter.widget-view+json": {
       "model_id": "0c2a1090a17340cca8293763403d1da7",
       "version_major": 2,
       "version_minor": 0
      },
      "text/plain": [
       "Validation: |          | 0/? [00:00<?, ?it/s]"
      ]
     },
     "metadata": {},
     "output_type": "display_data"
    },
    {
     "data": {
      "application/vnd.jupyter.widget-view+json": {
       "model_id": "aef6fb2b82e245efb05c4b3c8ae520cf",
       "version_major": 2,
       "version_minor": 0
      },
      "text/plain": [
       "Validation: |          | 0/? [00:00<?, ?it/s]"
      ]
     },
     "metadata": {},
     "output_type": "display_data"
    },
    {
     "data": {
      "application/vnd.jupyter.widget-view+json": {
       "model_id": "4f8f622015494b73b08ce6c0eec7ed42",
       "version_major": 2,
       "version_minor": 0
      },
      "text/plain": [
       "Validation: |          | 0/? [00:00<?, ?it/s]"
      ]
     },
     "metadata": {},
     "output_type": "display_data"
    },
    {
     "data": {
      "application/vnd.jupyter.widget-view+json": {
       "model_id": "70983a92c718484abe8568467781570a",
       "version_major": 2,
       "version_minor": 0
      },
      "text/plain": [
       "Validation: |          | 0/? [00:00<?, ?it/s]"
      ]
     },
     "metadata": {},
     "output_type": "display_data"
    },
    {
     "data": {
      "application/vnd.jupyter.widget-view+json": {
       "model_id": "1b01b420e1a6475ca80494590cdce2aa",
       "version_major": 2,
       "version_minor": 0
      },
      "text/plain": [
       "Validation: |          | 0/? [00:00<?, ?it/s]"
      ]
     },
     "metadata": {},
     "output_type": "display_data"
    },
    {
     "data": {
      "application/vnd.jupyter.widget-view+json": {
       "model_id": "c119a99793b8475db6f37baa310a22d7",
       "version_major": 2,
       "version_minor": 0
      },
      "text/plain": [
       "Validation: |          | 0/? [00:00<?, ?it/s]"
      ]
     },
     "metadata": {},
     "output_type": "display_data"
    },
    {
     "data": {
      "application/vnd.jupyter.widget-view+json": {
       "model_id": "c86bbd374f8b4d1bb2f910f1f52eff02",
       "version_major": 2,
       "version_minor": 0
      },
      "text/plain": [
       "Validation: |          | 0/? [00:00<?, ?it/s]"
      ]
     },
     "metadata": {},
     "output_type": "display_data"
    },
    {
     "data": {
      "application/vnd.jupyter.widget-view+json": {
       "model_id": "0314a083a8bb4651849a842dd6a1b263",
       "version_major": 2,
       "version_minor": 0
      },
      "text/plain": [
       "Validation: |          | 0/? [00:00<?, ?it/s]"
      ]
     },
     "metadata": {},
     "output_type": "display_data"
    },
    {
     "data": {
      "application/vnd.jupyter.widget-view+json": {
       "model_id": "545b6f0612254c1f8f3fbe2e4bdb77dc",
       "version_major": 2,
       "version_minor": 0
      },
      "text/plain": [
       "Validation: |          | 0/? [00:00<?, ?it/s]"
      ]
     },
     "metadata": {},
     "output_type": "display_data"
    },
    {
     "data": {
      "application/vnd.jupyter.widget-view+json": {
       "model_id": "c9e11e2a24994244a3e00b4dbc8a1980",
       "version_major": 2,
       "version_minor": 0
      },
      "text/plain": [
       "Validation: |          | 0/? [00:00<?, ?it/s]"
      ]
     },
     "metadata": {},
     "output_type": "display_data"
    },
    {
     "data": {
      "application/vnd.jupyter.widget-view+json": {
       "model_id": "67f1f251dd8c4ded8decb96328b500fb",
       "version_major": 2,
       "version_minor": 0
      },
      "text/plain": [
       "Validation: |          | 0/? [00:00<?, ?it/s]"
      ]
     },
     "metadata": {},
     "output_type": "display_data"
    },
    {
     "data": {
      "application/vnd.jupyter.widget-view+json": {
       "model_id": "53440b996f174fc980e64cf5d67abee8",
       "version_major": 2,
       "version_minor": 0
      },
      "text/plain": [
       "Validation: |          | 0/? [00:00<?, ?it/s]"
      ]
     },
     "metadata": {},
     "output_type": "display_data"
    },
    {
     "data": {
      "application/vnd.jupyter.widget-view+json": {
       "model_id": "04a1f61505e146989a7d02b75c03f6df",
       "version_major": 2,
       "version_minor": 0
      },
      "text/plain": [
       "Validation: |          | 0/? [00:00<?, ?it/s]"
      ]
     },
     "metadata": {},
     "output_type": "display_data"
    },
    {
     "data": {
      "application/vnd.jupyter.widget-view+json": {
       "model_id": "f7f616e5b0f24000ac771d1d9aadf811",
       "version_major": 2,
       "version_minor": 0
      },
      "text/plain": [
       "Validation: |          | 0/? [00:00<?, ?it/s]"
      ]
     },
     "metadata": {},
     "output_type": "display_data"
    },
    {
     "data": {
      "application/vnd.jupyter.widget-view+json": {
       "model_id": "b99add5eec4741fca38bac737abb4c01",
       "version_major": 2,
       "version_minor": 0
      },
      "text/plain": [
       "Validation: |          | 0/? [00:00<?, ?it/s]"
      ]
     },
     "metadata": {},
     "output_type": "display_data"
    },
    {
     "data": {
      "application/vnd.jupyter.widget-view+json": {
       "model_id": "08b499c4cfad4f069d1836eec5859aff",
       "version_major": 2,
       "version_minor": 0
      },
      "text/plain": [
       "Validation: |          | 0/? [00:00<?, ?it/s]"
      ]
     },
     "metadata": {},
     "output_type": "display_data"
    },
    {
     "data": {
      "application/vnd.jupyter.widget-view+json": {
       "model_id": "27f30118294347cdab5a3beb5a559020",
       "version_major": 2,
       "version_minor": 0
      },
      "text/plain": [
       "Validation: |          | 0/? [00:00<?, ?it/s]"
      ]
     },
     "metadata": {},
     "output_type": "display_data"
    },
    {
     "data": {
      "application/vnd.jupyter.widget-view+json": {
       "model_id": "66a0a37eff904106bcd7a5ce1e488879",
       "version_major": 2,
       "version_minor": 0
      },
      "text/plain": [
       "Validation: |          | 0/? [00:00<?, ?it/s]"
      ]
     },
     "metadata": {},
     "output_type": "display_data"
    },
    {
     "data": {
      "application/vnd.jupyter.widget-view+json": {
       "model_id": "eef36cc2c4ad467c892d6436ddb2cb82",
       "version_major": 2,
       "version_minor": 0
      },
      "text/plain": [
       "Validation: |          | 0/? [00:00<?, ?it/s]"
      ]
     },
     "metadata": {},
     "output_type": "display_data"
    },
    {
     "data": {
      "application/vnd.jupyter.widget-view+json": {
       "model_id": "3649db855f6140b3b56fa4fd4b903b4c",
       "version_major": 2,
       "version_minor": 0
      },
      "text/plain": [
       "Validation: |          | 0/? [00:00<?, ?it/s]"
      ]
     },
     "metadata": {},
     "output_type": "display_data"
    },
    {
     "data": {
      "application/vnd.jupyter.widget-view+json": {
       "model_id": "7d34a55cf46b42f3bcf71de22077d4e1",
       "version_major": 2,
       "version_minor": 0
      },
      "text/plain": [
       "Validation: |          | 0/? [00:00<?, ?it/s]"
      ]
     },
     "metadata": {},
     "output_type": "display_data"
    },
    {
     "data": {
      "application/vnd.jupyter.widget-view+json": {
       "model_id": "5660157c115a44b6be12d3ddeff98add",
       "version_major": 2,
       "version_minor": 0
      },
      "text/plain": [
       "Validation: |          | 0/? [00:00<?, ?it/s]"
      ]
     },
     "metadata": {},
     "output_type": "display_data"
    },
    {
     "name": "stderr",
     "output_type": "stream",
     "text": [
      "/home/chris/miniconda3/envs/fungiclef/lib/python3.11/site-packages/lightning/pytorch/trainer/call.py:54: Detected KeyboardInterrupt, attempting graceful shutdown...\n"
     ]
    },
    {
     "data": {
      "application/vnd.jupyter.widget-view+json": {
       "model_id": "d683484435664ccf8d03bd8394d7058f",
       "version_major": 2,
       "version_minor": 0
      },
      "text/plain": [
       "VBox(children=(Label(value='0.004 MB of 0.020 MB uploaded\\r'), FloatProgress(value=0.20736270932734588, max=1.…"
      ]
     },
     "metadata": {},
     "output_type": "display_data"
    },
    {
     "data": {
      "text/html": [
       "<style>\n",
       "    table.wandb td:nth-child(1) { padding: 0 10px; text-align: left ; width: auto;} td:nth-child(2) {text-align: left ; width: 100%}\n",
       "    .wandb-row { display: flex; flex-direction: row; flex-wrap: wrap; justify-content: flex-start; width: 100% }\n",
       "    .wandb-col { display: flex; flex-direction: column; flex-basis: 100%; flex: 1; padding: 10px; }\n",
       "    </style>\n",
       "<div class=\"wandb-row\"><div class=\"wandb-col\"><h3>Run history:</h3><br/><table class=\"wandb\"><tr><td>epoch</td><td>▁▁▁▂▂▂▂▂▂▃▃▃▃▃▄▄▄▄▄▄▅▅▅▅▅▅▆▆▆▆▆▇▇▇▇▇▇███</td></tr><tr><td>train_acc_cls</td><td>▁▄▅▆▆▇▇▇▇▇▇▇▇███████████████████████████</td></tr><tr><td>train_acc_cls_top_3</td><td>▁▆▆▇▇▇██████████████████████████████████</td></tr><tr><td>train_acc_poison</td><td>▁▅▆▆▇▇▇▇▇▇██████████████████████████████</td></tr><tr><td>train_f1</td><td>▁▄▆▆▆▇▇▇▇▇▇▇▇█▇█████████████████████████</td></tr><tr><td>train_loss</td><td>█▄▃▃▃▂▂▂▂▂▂▂▂▁▁▁▁▁▁▁▁▁▁▁▁▁▁▁▁▁▁▁▁▁▁▁▁▁▁▁</td></tr><tr><td>trainer/global_step</td><td>▁▁▁▂▂▂▂▂▂▃▃▃▃▃▄▄▄▄▄▄▅▅▅▅▅▅▆▆▆▆▆▇▇▇▇▇▇███</td></tr><tr><td>val_loss</td><td>▅▃▄▃▄▄▃▅▅▂▃▃▅▂▄▃▅▄▄▁▇▄▁▂▃▄▄▃▅▃█▄▆▅▅█▇██▄</td></tr><tr><td>valid_acc_cls</td><td>▁▅▃▄▄▅▆▄▅▅▅▅▅▆▅▅▅▆▅▇▇▇██▇▆▆▆▆█▆▆▅▆▆▆▆▆▅▇</td></tr><tr><td>valid_acc_cls_top_3</td><td>▁▄▂▃▃▄▄▂▃▄▄▄▄▅▄▄▄▅▅▇▇▇██▇▅▅▅▆▇▆▆▅▆▆▇▆▅▄█</td></tr><tr><td>valid_acc_poison</td><td>▁▁▅▆▄▅▂▅▄▃▄▄▃▅▃▃▃▆▄▆▇▆▆█▆▅▄▆▅▅▅▇▆▅▂▅▅▅▄▆</td></tr><tr><td>valid_f1</td><td>▁▅▄▅▅▅▆▅▆▆▆▆▆▆▆▅▆▆▅█▇▇██▇▅▆▆▆▇▆▆▆▆▆▆▆▆▅▇</td></tr></table><br/></div><div class=\"wandb-col\"><h3>Run summary:</h3><br/><table class=\"wandb\"><tr><td>epoch</td><td>39</td></tr><tr><td>train_acc_cls</td><td>0.99235</td></tr><tr><td>train_acc_cls_top_3</td><td>0.99833</td></tr><tr><td>train_acc_poison</td><td>0.99959</td></tr><tr><td>train_f1</td><td>0.80576</td></tr><tr><td>train_loss</td><td>0.17646</td></tr><tr><td>trainer/global_step</td><td>97359</td></tr><tr><td>val_loss</td><td>18.86346</td></tr><tr><td>valid_acc_cls</td><td>0.53234</td></tr><tr><td>valid_acc_cls_top_3</td><td>0.7449</td></tr><tr><td>valid_acc_poison</td><td>0.97665</td></tr><tr><td>valid_f1</td><td>0.12643</td></tr></table><br/></div></div>"
      ],
      "text/plain": [
       "<IPython.core.display.HTML object>"
      ]
     },
     "metadata": {},
     "output_type": "display_data"
    },
    {
     "data": {
      "text/html": [
       " View run <strong style=\"color:#cdcd00\">dino_cw_sampler_metadata_pred_all</strong> at: <a href='https://wandb.ai/chiu/FungiClef/runs/5v4qclie' target=\"_blank\">https://wandb.ai/chiu/FungiClef/runs/5v4qclie</a><br/> View project at: <a href='https://wandb.ai/chiu/FungiClef' target=\"_blank\">https://wandb.ai/chiu/FungiClef</a><br/>Synced 6 W&B file(s), 0 media file(s), 0 artifact file(s) and 0 other file(s)"
      ],
      "text/plain": [
       "<IPython.core.display.HTML object>"
      ]
     },
     "metadata": {},
     "output_type": "display_data"
    },
    {
     "data": {
      "text/html": [
       "Find logs at: <code>./wandb/run-20240430_224031-5v4qclie/logs</code>"
      ],
      "text/plain": [
       "<IPython.core.display.HTML object>"
      ]
     },
     "metadata": {},
     "output_type": "display_data"
    },
    {
     "name": "stderr",
     "output_type": "stream",
     "text": [
      "GPU available: True (cuda), used: True\n",
      "TPU available: False, using: 0 TPU cores\n",
      "IPU available: False, using: 0 IPUs\n",
      "HPU available: False, using: 0 HPUs\n",
      "GPU available: True (cuda), used: True\n",
      "TPU available: False, using: 0 TPU cores\n",
      "IPU available: False, using: 0 IPUs\n",
      "HPU available: False, using: 0 HPUs\n"
     ]
    },
    {
     "data": {
      "text/html": [
       "Tracking run with wandb version 0.16.6"
      ],
      "text/plain": [
       "<IPython.core.display.HTML object>"
      ]
     },
     "metadata": {},
     "output_type": "display_data"
    },
    {
     "data": {
      "text/html": [
       "Run data is saved locally in <code>./wandb/run-20240430_225550-d2h4nno6</code>"
      ],
      "text/plain": [
       "<IPython.core.display.HTML object>"
      ]
     },
     "metadata": {},
     "output_type": "display_data"
    },
    {
     "data": {
      "text/html": [
       "Syncing run <strong><a href='https://wandb.ai/chiu/FungiClef/runs/d2h4nno6' target=\"_blank\">dino_cw_sampler_metadata_pred_all_weighted</a></strong> to <a href='https://wandb.ai/chiu/FungiClef' target=\"_blank\">Weights & Biases</a> (<a href='https://wandb.me/run' target=\"_blank\">docs</a>)<br/>"
      ],
      "text/plain": [
       "<IPython.core.display.HTML object>"
      ]
     },
     "metadata": {},
     "output_type": "display_data"
    },
    {
     "data": {
      "text/html": [
       " View project at <a href='https://wandb.ai/chiu/FungiClef' target=\"_blank\">https://wandb.ai/chiu/FungiClef</a>"
      ],
      "text/plain": [
       "<IPython.core.display.HTML object>"
      ]
     },
     "metadata": {},
     "output_type": "display_data"
    },
    {
     "data": {
      "text/html": [
       " View run at <a href='https://wandb.ai/chiu/FungiClef/runs/d2h4nno6' target=\"_blank\">https://wandb.ai/chiu/FungiClef/runs/d2h4nno6</a>"
      ],
      "text/plain": [
       "<IPython.core.display.HTML object>"
      ]
     },
     "metadata": {},
     "output_type": "display_data"
    },
    {
     "name": "stderr",
     "output_type": "stream",
     "text": [
      "/home/chris/miniconda3/envs/fungiclef/lib/python3.11/site-packages/lightning/pytorch/callbacks/model_checkpoint.py:653: Checkpoint directory /home/chris/fungiclef-2024/checkpoints exists and is not empty.\n",
      "LOCAL_RANK: 0 - CUDA_VISIBLE_DEVICES: [0]\n",
      "\n",
      "  | Name                       | Type                  | Params\n",
      "---------------------------------------------------------------------\n",
      "0 | model                      | MultiTargetClassifier | 13.0 M\n",
      "1 | train_accuracy_class_top_1 | MulticlassAccuracy    | 0     \n",
      "2 | valid_accuracy_class_top_1 | MulticlassAccuracy    | 0     \n",
      "3 | train_f1                   | MulticlassF1Score     | 0     \n",
      "4 | valid_f1                   | MulticlassF1Score     | 0     \n",
      "5 | train_accuracy_class_top_3 | MulticlassAccuracy    | 0     \n",
      "6 | valid_accuracy_class_top_3 | MulticlassAccuracy    | 0     \n",
      "7 | train_accuracy_poison      | BinaryAccuracy        | 0     \n",
      "8 | valid_accuracy_poison      | BinaryAccuracy        | 0     \n",
      "---------------------------------------------------------------------\n",
      "13.0 M    Trainable params\n",
      "0         Non-trainable params\n",
      "13.0 M    Total params\n",
      "51.810    Total estimated model params size (MB)\n"
     ]
    },
    {
     "data": {
      "application/vnd.jupyter.widget-view+json": {
       "model_id": "cc592fad908f45fa98e23480a35be01a",
       "version_major": 2,
       "version_minor": 0
      },
      "text/plain": [
       "Sanity Checking: |          | 0/? [00:00<?, ?it/s]"
      ]
     },
     "metadata": {},
     "output_type": "display_data"
    },
    {
     "data": {
      "application/vnd.jupyter.widget-view+json": {
       "model_id": "09d401a94d294b59bde99ccb0472fc09",
       "version_major": 2,
       "version_minor": 0
      },
      "text/plain": [
       "Training: |          | 0/? [00:00<?, ?it/s]"
      ]
     },
     "metadata": {},
     "output_type": "display_data"
    },
    {
     "data": {
      "application/vnd.jupyter.widget-view+json": {
       "model_id": "409387f764da41d382413ca1fd443fdd",
       "version_major": 2,
       "version_minor": 0
      },
      "text/plain": [
       "Validation: |          | 0/? [00:00<?, ?it/s]"
      ]
     },
     "metadata": {},
     "output_type": "display_data"
    },
    {
     "data": {
      "application/vnd.jupyter.widget-view+json": {
       "model_id": "1d22e82f287048a8b6f1066e94a60b83",
       "version_major": 2,
       "version_minor": 0
      },
      "text/plain": [
       "Validation: |          | 0/? [00:00<?, ?it/s]"
      ]
     },
     "metadata": {},
     "output_type": "display_data"
    },
    {
     "ename": "",
     "evalue": "",
     "output_type": "error",
     "traceback": [
      "\u001b[1;31mCannot execute code, session has been disposed. Please try restarting the Kernel."
     ]
    },
    {
     "ename": "",
     "evalue": "",
     "output_type": "error",
     "traceback": [
      "\u001b[1;31mCannot execute code, session has been disposed. Please try restarting the Kernel. \n",
      "\u001b[1;31mView Jupyter <a href='command:jupyter.viewOutput'>log</a> for further details."
     ]
    }
   ],
   "source": [
    "\n",
    "# Base\n",
    "train_embedding_classifier(model_name=\"dino_base\", use_metadata_input=False, use_class_weights_for_loss=False, use_weighted_sampler=False, log=True, lr=LR)\n",
    "\n",
    "# With class weights\n",
    "train_embedding_classifier(model_name=\"dino_cls-weight\", use_metadata_input=False, use_class_weights_for_loss=True,  use_weighted_sampler=False, log=True, lr=LR)\n",
    "\n",
    "# With weighted sampler\n",
    "train_embedding_classifier(model_name=\"dino_sampler\", use_metadata_input=False, use_class_weights_for_loss=False, use_weighted_sampler=True, log=True, lr=LR)\n",
    "\n",
    "# With class weights and weighted sampler\n",
    "train_embedding_classifier(model_name=\"dino_cw_sampler\", use_metadata_input=False, use_class_weights_for_loss=True, use_weighted_sampler=True, log=True, lr=LR)\n",
    "\n",
    "# Above and metadata input\n",
    "train_embedding_classifier(model_name=\"dino_cw_sampler_metadata\", use_metadata_input=True, use_class_weights_for_loss=True, use_weighted_sampler=True, log=True, lr=LR)\n",
    "\n",
    "# Above and ['poisonous'] - weighted\n",
    "train_embedding_classifier(model_name=\"dino_cw_sampler_metadata_pred_poison_weighted\", use_metadata_input=True, use_class_weights_for_loss=True, use_weighted_sampler=True, log=True, lr=LR, prediction_columns=['class_id', 'poisonous'], pred_weights=[0.75, 0.25])\n",
    "\n",
    "# Above and all prediction targets\n",
    "train_embedding_classifier(model_name=\"dino_cw_sampler_metadata_pred_all\", use_metadata_input=True, use_class_weights_for_loss=True, use_weighted_sampler=True, log=True, lr=LR, prediction_columns=['class_id', 'phylum', 'class', 'order', 'family', 'genus', 'species', 'poisonous'])\n",
    "\n",
    "# Above and all prediction targets - weighted\n",
    "train_embedding_classifier(model_name=\"dino_cw_sampler_metadata_pred_all_weighted\", use_metadata_input=True, use_class_weights_for_loss=True, use_weighted_sampler=True, log=True, lr=LR,\n",
    "                           prediction_columns=['class_id', 'phylum', 'class', 'order', 'family', 'genus', 'species', 'poisonous'], \n",
    "                           pred_weights=[0.5, 0.066, 0.066, 0.066, 0.066, 0.066, 0.066, 0.1])"
   ]
  },
  {
   "cell_type": "code",
   "execution_count": 2,
   "metadata": {},
   "outputs": [
    {
     "name": "stderr",
     "output_type": "stream",
     "text": [
      "GPU available: True (cuda), used: True\n",
      "TPU available: False, using: 0 TPU cores\n",
      "IPU available: False, using: 0 IPUs\n",
      "HPU available: False, using: 0 HPUs\n",
      "/home/chris/miniconda3/envs/fungiclef/lib/python3.11/site-packages/lightning/pytorch/trainer/connectors/logger_connector/logger_connector.py:75: Starting from v1.9.0, `tensorboardX` has been removed as a dependency of the `lightning.pytorch` package, due to potential conflicts with other packages in the ML ecosystem. For this reason, `logger=True` will use `CSVLogger` as the default logger, unless the `tensorboard` or `tensorboardX` packages are found. Please `pip install lightning[extra]` or one of them to enable TensorBoard support by default\n",
      "GPU available: True (cuda), used: True\n",
      "TPU available: False, using: 0 TPU cores\n",
      "IPU available: False, using: 0 IPUs\n",
      "HPU available: False, using: 0 HPUs\n",
      "You are using a CUDA device ('NVIDIA GeForce RTX 4090') that has Tensor Cores. To properly utilize them, you should set `torch.set_float32_matmul_precision('medium' | 'high')` which will trade-off precision for performance. For more details, read https://pytorch.org/docs/stable/generated/torch.set_float32_matmul_precision.html#torch.set_float32_matmul_precision\n",
      "Failed to detect the name of this notebook, you can set it manually with the WANDB_NOTEBOOK_NAME environment variable to enable code saving.\n",
      "\u001b[34m\u001b[1mwandb\u001b[0m: Currently logged in as: \u001b[33mchiu\u001b[0m. Use \u001b[1m`wandb login --relogin`\u001b[0m to force relogin\n"
     ]
    },
    {
     "data": {
      "text/html": [
       "Tracking run with wandb version 0.16.6"
      ],
      "text/plain": [
       "<IPython.core.display.HTML object>"
      ]
     },
     "metadata": {},
     "output_type": "display_data"
    },
    {
     "data": {
      "text/html": [
       "Run data is saved locally in <code>./wandb/run-20240430_225720-tjhiu91s</code>"
      ],
      "text/plain": [
       "<IPython.core.display.HTML object>"
      ]
     },
     "metadata": {},
     "output_type": "display_data"
    },
    {
     "data": {
      "text/html": [
       "Syncing run <strong><a href='https://wandb.ai/chiu/FungiClef/runs/tjhiu91s' target=\"_blank\">dino_cw_sampler_metadata_pred_all_weighted</a></strong> to <a href='https://wandb.ai/chiu/FungiClef' target=\"_blank\">Weights & Biases</a> (<a href='https://wandb.me/run' target=\"_blank\">docs</a>)<br/>"
      ],
      "text/plain": [
       "<IPython.core.display.HTML object>"
      ]
     },
     "metadata": {},
     "output_type": "display_data"
    },
    {
     "data": {
      "text/html": [
       " View project at <a href='https://wandb.ai/chiu/FungiClef' target=\"_blank\">https://wandb.ai/chiu/FungiClef</a>"
      ],
      "text/plain": [
       "<IPython.core.display.HTML object>"
      ]
     },
     "metadata": {},
     "output_type": "display_data"
    },
    {
     "data": {
      "text/html": [
       " View run at <a href='https://wandb.ai/chiu/FungiClef/runs/tjhiu91s' target=\"_blank\">https://wandb.ai/chiu/FungiClef/runs/tjhiu91s</a>"
      ],
      "text/plain": [
       "<IPython.core.display.HTML object>"
      ]
     },
     "metadata": {},
     "output_type": "display_data"
    },
    {
     "name": "stderr",
     "output_type": "stream",
     "text": [
      "/home/chris/miniconda3/envs/fungiclef/lib/python3.11/site-packages/lightning/pytorch/callbacks/model_checkpoint.py:653: Checkpoint directory /home/chris/fungiclef-2024/checkpoints exists and is not empty.\n",
      "LOCAL_RANK: 0 - CUDA_VISIBLE_DEVICES: [0]\n",
      "\n",
      "  | Name                       | Type                  | Params\n",
      "---------------------------------------------------------------------\n",
      "0 | model                      | MultiTargetClassifier | 13.0 M\n",
      "1 | train_accuracy_class_top_1 | MulticlassAccuracy    | 0     \n",
      "2 | valid_accuracy_class_top_1 | MulticlassAccuracy    | 0     \n",
      "3 | train_f1                   | MulticlassF1Score     | 0     \n",
      "4 | valid_f1                   | MulticlassF1Score     | 0     \n",
      "5 | train_accuracy_class_top_3 | MulticlassAccuracy    | 0     \n",
      "6 | valid_accuracy_class_top_3 | MulticlassAccuracy    | 0     \n",
      "7 | train_accuracy_poison      | BinaryAccuracy        | 0     \n",
      "8 | valid_accuracy_poison      | BinaryAccuracy        | 0     \n",
      "---------------------------------------------------------------------\n",
      "13.0 M    Trainable params\n",
      "0         Non-trainable params\n",
      "13.0 M    Total params\n",
      "51.810    Total estimated model params size (MB)\n"
     ]
    },
    {
     "data": {
      "application/vnd.jupyter.widget-view+json": {
       "model_id": "0d9a1e742b4942f69d480d805bfe3bdf",
       "version_major": 2,
       "version_minor": 0
      },
      "text/plain": [
       "Sanity Checking: |          | 0/? [00:00<?, ?it/s]"
      ]
     },
     "metadata": {},
     "output_type": "display_data"
    },
    {
     "data": {
      "application/vnd.jupyter.widget-view+json": {
       "model_id": "0560204fea5c45e2ac08f656516adb4a",
       "version_major": 2,
       "version_minor": 0
      },
      "text/plain": [
       "Training: |          | 0/? [00:00<?, ?it/s]"
      ]
     },
     "metadata": {},
     "output_type": "display_data"
    },
    {
     "data": {
      "application/vnd.jupyter.widget-view+json": {
       "model_id": "04231ddbf6e84b3b8ee6bafd51dc0797",
       "version_major": 2,
       "version_minor": 0
      },
      "text/plain": [
       "Validation: |          | 0/? [00:00<?, ?it/s]"
      ]
     },
     "metadata": {},
     "output_type": "display_data"
    },
    {
     "data": {
      "application/vnd.jupyter.widget-view+json": {
       "model_id": "ed92adf35df440dea3f90d79bdd173e6",
       "version_major": 2,
       "version_minor": 0
      },
      "text/plain": [
       "Validation: |          | 0/? [00:00<?, ?it/s]"
      ]
     },
     "metadata": {},
     "output_type": "display_data"
    },
    {
     "data": {
      "application/vnd.jupyter.widget-view+json": {
       "model_id": "642dca392eee4d72b9b4f8059b716908",
       "version_major": 2,
       "version_minor": 0
      },
      "text/plain": [
       "Validation: |          | 0/? [00:00<?, ?it/s]"
      ]
     },
     "metadata": {},
     "output_type": "display_data"
    },
    {
     "data": {
      "application/vnd.jupyter.widget-view+json": {
       "model_id": "b40a793ea32e4119bf4c984026d2fc27",
       "version_major": 2,
       "version_minor": 0
      },
      "text/plain": [
       "Validation: |          | 0/? [00:00<?, ?it/s]"
      ]
     },
     "metadata": {},
     "output_type": "display_data"
    },
    {
     "data": {
      "application/vnd.jupyter.widget-view+json": {
       "model_id": "5a182010e51748d3bce0a38ee4e61cb3",
       "version_major": 2,
       "version_minor": 0
      },
      "text/plain": [
       "Validation: |          | 0/? [00:00<?, ?it/s]"
      ]
     },
     "metadata": {},
     "output_type": "display_data"
    },
    {
     "data": {
      "application/vnd.jupyter.widget-view+json": {
       "model_id": "a2c3aea777f54052b7dc8d3978e29953",
       "version_major": 2,
       "version_minor": 0
      },
      "text/plain": [
       "Validation: |          | 0/? [00:00<?, ?it/s]"
      ]
     },
     "metadata": {},
     "output_type": "display_data"
    },
    {
     "data": {
      "application/vnd.jupyter.widget-view+json": {
       "model_id": "b1df6192697247dd81ea9e89bef6913c",
       "version_major": 2,
       "version_minor": 0
      },
      "text/plain": [
       "Validation: |          | 0/? [00:00<?, ?it/s]"
      ]
     },
     "metadata": {},
     "output_type": "display_data"
    },
    {
     "data": {
      "application/vnd.jupyter.widget-view+json": {
       "model_id": "042795dfb07f422989e8743355ab55a9",
       "version_major": 2,
       "version_minor": 0
      },
      "text/plain": [
       "Validation: |          | 0/? [00:00<?, ?it/s]"
      ]
     },
     "metadata": {},
     "output_type": "display_data"
    },
    {
     "data": {
      "application/vnd.jupyter.widget-view+json": {
       "model_id": "5707e477092d422c988184a905e040d5",
       "version_major": 2,
       "version_minor": 0
      },
      "text/plain": [
       "Validation: |          | 0/? [00:00<?, ?it/s]"
      ]
     },
     "metadata": {},
     "output_type": "display_data"
    },
    {
     "data": {
      "application/vnd.jupyter.widget-view+json": {
       "model_id": "ad71e374e46642569487f05e3133939c",
       "version_major": 2,
       "version_minor": 0
      },
      "text/plain": [
       "Validation: |          | 0/? [00:00<?, ?it/s]"
      ]
     },
     "metadata": {},
     "output_type": "display_data"
    },
    {
     "data": {
      "application/vnd.jupyter.widget-view+json": {
       "model_id": "642fe45a333f4f0cb3ab7dd464b8f1fe",
       "version_major": 2,
       "version_minor": 0
      },
      "text/plain": [
       "Validation: |          | 0/? [00:00<?, ?it/s]"
      ]
     },
     "metadata": {},
     "output_type": "display_data"
    },
    {
     "data": {
      "application/vnd.jupyter.widget-view+json": {
       "model_id": "2f78e8c8c98541049b3d66dba8e7c55d",
       "version_major": 2,
       "version_minor": 0
      },
      "text/plain": [
       "Validation: |          | 0/? [00:00<?, ?it/s]"
      ]
     },
     "metadata": {},
     "output_type": "display_data"
    },
    {
     "data": {
      "application/vnd.jupyter.widget-view+json": {
       "model_id": "bb6ed0a01b9142adb232eac4c5f92fc7",
       "version_major": 2,
       "version_minor": 0
      },
      "text/plain": [
       "Validation: |          | 0/? [00:00<?, ?it/s]"
      ]
     },
     "metadata": {},
     "output_type": "display_data"
    },
    {
     "data": {
      "application/vnd.jupyter.widget-view+json": {
       "model_id": "41ab9cc051d94957a0da8654d78ef242",
       "version_major": 2,
       "version_minor": 0
      },
      "text/plain": [
       "Validation: |          | 0/? [00:00<?, ?it/s]"
      ]
     },
     "metadata": {},
     "output_type": "display_data"
    },
    {
     "data": {
      "application/vnd.jupyter.widget-view+json": {
       "model_id": "54d797aa66584791897f285fe00e2b70",
       "version_major": 2,
       "version_minor": 0
      },
      "text/plain": [
       "Validation: |          | 0/? [00:00<?, ?it/s]"
      ]
     },
     "metadata": {},
     "output_type": "display_data"
    },
    {
     "data": {
      "application/vnd.jupyter.widget-view+json": {
       "model_id": "fe420757338b43f4a3a9d6b49af9a80f",
       "version_major": 2,
       "version_minor": 0
      },
      "text/plain": [
       "Validation: |          | 0/? [00:00<?, ?it/s]"
      ]
     },
     "metadata": {},
     "output_type": "display_data"
    },
    {
     "data": {
      "application/vnd.jupyter.widget-view+json": {
       "model_id": "09e18f93488c426ea4f8b4611d835b64",
       "version_major": 2,
       "version_minor": 0
      },
      "text/plain": [
       "Validation: |          | 0/? [00:00<?, ?it/s]"
      ]
     },
     "metadata": {},
     "output_type": "display_data"
    },
    {
     "data": {
      "application/vnd.jupyter.widget-view+json": {
       "model_id": "c82d27c8b9fc4e5ca790189adbfe096d",
       "version_major": 2,
       "version_minor": 0
      },
      "text/plain": [
       "Validation: |          | 0/? [00:00<?, ?it/s]"
      ]
     },
     "metadata": {},
     "output_type": "display_data"
    },
    {
     "data": {
      "application/vnd.jupyter.widget-view+json": {
       "model_id": "59fbb50258a3475d8e454b85f89f1b81",
       "version_major": 2,
       "version_minor": 0
      },
      "text/plain": [
       "Validation: |          | 0/? [00:00<?, ?it/s]"
      ]
     },
     "metadata": {},
     "output_type": "display_data"
    },
    {
     "data": {
      "application/vnd.jupyter.widget-view+json": {
       "model_id": "e05f38fd36e24cc49d1dd9be8b2081f0",
       "version_major": 2,
       "version_minor": 0
      },
      "text/plain": [
       "Validation: |          | 0/? [00:00<?, ?it/s]"
      ]
     },
     "metadata": {},
     "output_type": "display_data"
    },
    {
     "name": "stderr",
     "output_type": "stream",
     "text": [
      "`Trainer.fit` stopped: `max_epochs=20` reached.\n"
     ]
    },
    {
     "data": {
      "application/vnd.jupyter.widget-view+json": {
       "model_id": "930c1054d4ce4c66af4cbcd0d6621eaf",
       "version_major": 2,
       "version_minor": 0
      },
      "text/plain": [
       "VBox(children=(Label(value='0.004 MB of 0.004 MB uploaded\\r'), FloatProgress(value=1.0, max=1.0)))"
      ]
     },
     "metadata": {},
     "output_type": "display_data"
    },
    {
     "data": {
      "text/html": [
       "<style>\n",
       "    table.wandb td:nth-child(1) { padding: 0 10px; text-align: left ; width: auto;} td:nth-child(2) {text-align: left ; width: 100%}\n",
       "    .wandb-row { display: flex; flex-direction: row; flex-wrap: wrap; justify-content: flex-start; width: 100% }\n",
       "    .wandb-col { display: flex; flex-direction: column; flex-basis: 100%; flex: 1; padding: 10px; }\n",
       "    </style>\n",
       "<div class=\"wandb-row\"><div class=\"wandb-col\"><h3>Run history:</h3><br/><table class=\"wandb\"><tr><td>epoch</td><td>▁▁▁▁▂▂▂▂▂▂▃▃▃▃▄▄▄▄▄▄▅▅▅▅▅▅▆▆▆▆▇▇▇▇▇▇████</td></tr><tr><td>train_acc_cls</td><td>▁▄▅▆▆▇▇▇▇▇██████████</td></tr><tr><td>train_acc_cls_top_3</td><td>▁▆▆▇▇▇██████████████</td></tr><tr><td>train_acc_poison</td><td>▁▄▅▆▇▇▇▇▇███████████</td></tr><tr><td>train_f1</td><td>▁▅▅▆▆▇▇▇▇▇▇▇▇███████</td></tr><tr><td>train_loss</td><td>█▄▃▃▂▂▂▂▂▂▁▁▁▁▁▁▁▁▁▁</td></tr><tr><td>trainer/global_step</td><td>▁▁▁▁▂▂▂▂▂▂▃▃▃▃▄▄▄▄▄▄▅▅▅▅▅▅▆▆▆▆▇▇▇▇▇▇████</td></tr><tr><td>val_loss</td><td>█▄▆▅▅▆▃▇▂▂▇▁▄▂▃▃▃▄▁▂</td></tr><tr><td>valid_acc_cls</td><td>▁▄▅▅▅▆▆▆▇▇▆▇▇█▇▇▆▇██</td></tr><tr><td>valid_acc_cls_top_3</td><td>▁▄▄▄▄▄▄▄▆▆▄▇▆▇▆▆▆▇██</td></tr><tr><td>valid_acc_poison</td><td>▂▃▂▁▅▇▅▄▆▅▅█▅▅▅▇▇▅██</td></tr><tr><td>valid_f1</td><td>▁▄▅▅▆▆▅▇██▆▇▇█▇█▆▇▇█</td></tr></table><br/></div><div class=\"wandb-col\"><h3>Run summary:</h3><br/><table class=\"wandb\"><tr><td>epoch</td><td>19</td></tr><tr><td>train_acc_cls</td><td>0.9729</td></tr><tr><td>train_acc_cls_top_3</td><td>0.99503</td></tr><tr><td>train_acc_poison</td><td>0.99855</td></tr><tr><td>train_f1</td><td>0.78918</td></tr><tr><td>train_loss</td><td>0.12592</td></tr><tr><td>trainer/global_step</td><td>48679</td></tr><tr><td>val_loss</td><td>3.61807</td></tr><tr><td>valid_acc_cls</td><td>0.50713</td></tr><tr><td>valid_acc_cls_top_3</td><td>0.67986</td></tr><tr><td>valid_acc_poison</td><td>0.97771</td></tr><tr><td>valid_f1</td><td>0.12002</td></tr></table><br/></div></div>"
      ],
      "text/plain": [
       "<IPython.core.display.HTML object>"
      ]
     },
     "metadata": {},
     "output_type": "display_data"
    },
    {
     "data": {
      "text/html": [
       " View run <strong style=\"color:#cdcd00\">dino_cw_sampler_metadata_pred_all_weighted</strong> at: <a href='https://wandb.ai/chiu/FungiClef/runs/tjhiu91s' target=\"_blank\">https://wandb.ai/chiu/FungiClef/runs/tjhiu91s</a><br/> View project at: <a href='https://wandb.ai/chiu/FungiClef' target=\"_blank\">https://wandb.ai/chiu/FungiClef</a><br/>Synced 6 W&B file(s), 0 media file(s), 0 artifact file(s) and 0 other file(s)"
      ],
      "text/plain": [
       "<IPython.core.display.HTML object>"
      ]
     },
     "metadata": {},
     "output_type": "display_data"
    },
    {
     "data": {
      "text/html": [
       "Find logs at: <code>./wandb/run-20240430_225720-tjhiu91s/logs</code>"
      ],
      "text/plain": [
       "<IPython.core.display.HTML object>"
      ]
     },
     "metadata": {},
     "output_type": "display_data"
    },
    {
     "name": "stderr",
     "output_type": "stream",
     "text": [
      "GPU available: True (cuda), used: True\n",
      "TPU available: False, using: 0 TPU cores\n",
      "IPU available: False, using: 0 IPUs\n",
      "HPU available: False, using: 0 HPUs\n",
      "GPU available: True (cuda), used: True\n",
      "TPU available: False, using: 0 TPU cores\n",
      "IPU available: False, using: 0 IPUs\n",
      "HPU available: False, using: 0 HPUs\n"
     ]
    },
    {
     "data": {
      "text/html": [
       "Tracking run with wandb version 0.16.6"
      ],
      "text/plain": [
       "<IPython.core.display.HTML object>"
      ]
     },
     "metadata": {},
     "output_type": "display_data"
    },
    {
     "data": {
      "text/html": [
       "Run data is saved locally in <code>./wandb/run-20240430_230515-yjtrjv9a</code>"
      ],
      "text/plain": [
       "<IPython.core.display.HTML object>"
      ]
     },
     "metadata": {},
     "output_type": "display_data"
    },
    {
     "data": {
      "text/html": [
       "Syncing run <strong><a href='https://wandb.ai/chiu/FungiClef/runs/yjtrjv9a' target=\"_blank\">dino_cw_metadata</a></strong> to <a href='https://wandb.ai/chiu/FungiClef' target=\"_blank\">Weights & Biases</a> (<a href='https://wandb.me/run' target=\"_blank\">docs</a>)<br/>"
      ],
      "text/plain": [
       "<IPython.core.display.HTML object>"
      ]
     },
     "metadata": {},
     "output_type": "display_data"
    },
    {
     "data": {
      "text/html": [
       " View project at <a href='https://wandb.ai/chiu/FungiClef' target=\"_blank\">https://wandb.ai/chiu/FungiClef</a>"
      ],
      "text/plain": [
       "<IPython.core.display.HTML object>"
      ]
     },
     "metadata": {},
     "output_type": "display_data"
    },
    {
     "data": {
      "text/html": [
       " View run at <a href='https://wandb.ai/chiu/FungiClef/runs/yjtrjv9a' target=\"_blank\">https://wandb.ai/chiu/FungiClef/runs/yjtrjv9a</a>"
      ],
      "text/plain": [
       "<IPython.core.display.HTML object>"
      ]
     },
     "metadata": {},
     "output_type": "display_data"
    },
    {
     "name": "stderr",
     "output_type": "stream",
     "text": [
      "/home/chris/miniconda3/envs/fungiclef/lib/python3.11/site-packages/lightning/pytorch/callbacks/model_checkpoint.py:653: Checkpoint directory /home/chris/fungiclef-2024/checkpoints exists and is not empty.\n",
      "LOCAL_RANK: 0 - CUDA_VISIBLE_DEVICES: [0]\n",
      "\n",
      "  | Name                       | Type                  | Params\n",
      "---------------------------------------------------------------------\n",
      "0 | model                      | MultiTargetClassifier | 2.5 M \n",
      "1 | train_accuracy_class_top_1 | MulticlassAccuracy    | 0     \n",
      "2 | valid_accuracy_class_top_1 | MulticlassAccuracy    | 0     \n",
      "3 | train_f1                   | MulticlassF1Score     | 0     \n",
      "4 | valid_f1                   | MulticlassF1Score     | 0     \n",
      "5 | train_accuracy_class_top_3 | MulticlassAccuracy    | 0     \n",
      "6 | valid_accuracy_class_top_3 | MulticlassAccuracy    | 0     \n",
      "7 | train_accuracy_poison      | BinaryAccuracy        | 0     \n",
      "8 | valid_accuracy_poison      | BinaryAccuracy        | 0     \n",
      "---------------------------------------------------------------------\n",
      "2.5 M     Trainable params\n",
      "0         Non-trainable params\n",
      "2.5 M     Total params\n",
      "10.044    Total estimated model params size (MB)\n"
     ]
    },
    {
     "data": {
      "application/vnd.jupyter.widget-view+json": {
       "model_id": "b1b623e4bd054072a7a4980a5ba6295b",
       "version_major": 2,
       "version_minor": 0
      },
      "text/plain": [
       "Sanity Checking: |          | 0/? [00:00<?, ?it/s]"
      ]
     },
     "metadata": {},
     "output_type": "display_data"
    },
    {
     "data": {
      "application/vnd.jupyter.widget-view+json": {
       "model_id": "7cae34437a514af588977094b74afb6c",
       "version_major": 2,
       "version_minor": 0
      },
      "text/plain": [
       "Training: |          | 0/? [00:00<?, ?it/s]"
      ]
     },
     "metadata": {},
     "output_type": "display_data"
    },
    {
     "data": {
      "application/vnd.jupyter.widget-view+json": {
       "model_id": "c8508e35e1354c0ab3c95c4f77b8835f",
       "version_major": 2,
       "version_minor": 0
      },
      "text/plain": [
       "Validation: |          | 0/? [00:00<?, ?it/s]"
      ]
     },
     "metadata": {},
     "output_type": "display_data"
    },
    {
     "data": {
      "application/vnd.jupyter.widget-view+json": {
       "model_id": "e4bd46eaad3545acb84d7da8fc401f4b",
       "version_major": 2,
       "version_minor": 0
      },
      "text/plain": [
       "Validation: |          | 0/? [00:00<?, ?it/s]"
      ]
     },
     "metadata": {},
     "output_type": "display_data"
    },
    {
     "data": {
      "application/vnd.jupyter.widget-view+json": {
       "model_id": "cf1f1ad760d249128ad7fe0cf36fbcfb",
       "version_major": 2,
       "version_minor": 0
      },
      "text/plain": [
       "Validation: |          | 0/? [00:00<?, ?it/s]"
      ]
     },
     "metadata": {},
     "output_type": "display_data"
    },
    {
     "data": {
      "application/vnd.jupyter.widget-view+json": {
       "model_id": "5acc700b4a1b46e6a46c64e2087e88cc",
       "version_major": 2,
       "version_minor": 0
      },
      "text/plain": [
       "Validation: |          | 0/? [00:00<?, ?it/s]"
      ]
     },
     "metadata": {},
     "output_type": "display_data"
    },
    {
     "data": {
      "application/vnd.jupyter.widget-view+json": {
       "model_id": "0457e773064e4562a72e6385387ac6f1",
       "version_major": 2,
       "version_minor": 0
      },
      "text/plain": [
       "Validation: |          | 0/? [00:00<?, ?it/s]"
      ]
     },
     "metadata": {},
     "output_type": "display_data"
    },
    {
     "data": {
      "application/vnd.jupyter.widget-view+json": {
       "model_id": "6f93c337b37d44f7894795f851c300f5",
       "version_major": 2,
       "version_minor": 0
      },
      "text/plain": [
       "Validation: |          | 0/? [00:00<?, ?it/s]"
      ]
     },
     "metadata": {},
     "output_type": "display_data"
    },
    {
     "data": {
      "application/vnd.jupyter.widget-view+json": {
       "model_id": "f814ef12418041a29bc7eb9d647a3c47",
       "version_major": 2,
       "version_minor": 0
      },
      "text/plain": [
       "Validation: |          | 0/? [00:00<?, ?it/s]"
      ]
     },
     "metadata": {},
     "output_type": "display_data"
    },
    {
     "data": {
      "application/vnd.jupyter.widget-view+json": {
       "model_id": "06e643bc6cab4f5e9abee28ec4260513",
       "version_major": 2,
       "version_minor": 0
      },
      "text/plain": [
       "Validation: |          | 0/? [00:00<?, ?it/s]"
      ]
     },
     "metadata": {},
     "output_type": "display_data"
    },
    {
     "data": {
      "application/vnd.jupyter.widget-view+json": {
       "model_id": "bdab9e73265540068ed25426ba777540",
       "version_major": 2,
       "version_minor": 0
      },
      "text/plain": [
       "Validation: |          | 0/? [00:00<?, ?it/s]"
      ]
     },
     "metadata": {},
     "output_type": "display_data"
    },
    {
     "data": {
      "application/vnd.jupyter.widget-view+json": {
       "model_id": "99c9c4568cbb41bf83e0893d11682426",
       "version_major": 2,
       "version_minor": 0
      },
      "text/plain": [
       "Validation: |          | 0/? [00:00<?, ?it/s]"
      ]
     },
     "metadata": {},
     "output_type": "display_data"
    },
    {
     "data": {
      "application/vnd.jupyter.widget-view+json": {
       "model_id": "510f422b39b745b7bdd67f465e884dc8",
       "version_major": 2,
       "version_minor": 0
      },
      "text/plain": [
       "Validation: |          | 0/? [00:00<?, ?it/s]"
      ]
     },
     "metadata": {},
     "output_type": "display_data"
    },
    {
     "data": {
      "application/vnd.jupyter.widget-view+json": {
       "model_id": "122a44d0472a48909a076aa34f44459a",
       "version_major": 2,
       "version_minor": 0
      },
      "text/plain": [
       "Validation: |          | 0/? [00:00<?, ?it/s]"
      ]
     },
     "metadata": {},
     "output_type": "display_data"
    },
    {
     "data": {
      "application/vnd.jupyter.widget-view+json": {
       "model_id": "7292203390d9457989ca02f042dd6031",
       "version_major": 2,
       "version_minor": 0
      },
      "text/plain": [
       "Validation: |          | 0/? [00:00<?, ?it/s]"
      ]
     },
     "metadata": {},
     "output_type": "display_data"
    },
    {
     "data": {
      "application/vnd.jupyter.widget-view+json": {
       "model_id": "ebaf5d2f552041548d19510745f465ab",
       "version_major": 2,
       "version_minor": 0
      },
      "text/plain": [
       "Validation: |          | 0/? [00:00<?, ?it/s]"
      ]
     },
     "metadata": {},
     "output_type": "display_data"
    },
    {
     "data": {
      "application/vnd.jupyter.widget-view+json": {
       "model_id": "9e8f431669a2481593d6c983dc1ee08b",
       "version_major": 2,
       "version_minor": 0
      },
      "text/plain": [
       "Validation: |          | 0/? [00:00<?, ?it/s]"
      ]
     },
     "metadata": {},
     "output_type": "display_data"
    },
    {
     "data": {
      "application/vnd.jupyter.widget-view+json": {
       "model_id": "13099353fa8a46419707fafc1ddd4987",
       "version_major": 2,
       "version_minor": 0
      },
      "text/plain": [
       "Validation: |          | 0/? [00:00<?, ?it/s]"
      ]
     },
     "metadata": {},
     "output_type": "display_data"
    },
    {
     "data": {
      "application/vnd.jupyter.widget-view+json": {
       "model_id": "e935bf240d2b46f19c8a48f58a8fe8df",
       "version_major": 2,
       "version_minor": 0
      },
      "text/plain": [
       "Validation: |          | 0/? [00:00<?, ?it/s]"
      ]
     },
     "metadata": {},
     "output_type": "display_data"
    },
    {
     "data": {
      "application/vnd.jupyter.widget-view+json": {
       "model_id": "e2d5c2fce3504b9e9617a0e9e03f48b4",
       "version_major": 2,
       "version_minor": 0
      },
      "text/plain": [
       "Validation: |          | 0/? [00:00<?, ?it/s]"
      ]
     },
     "metadata": {},
     "output_type": "display_data"
    },
    {
     "data": {
      "application/vnd.jupyter.widget-view+json": {
       "model_id": "238f51ba3241488fbdbe11f68b8b530f",
       "version_major": 2,
       "version_minor": 0
      },
      "text/plain": [
       "Validation: |          | 0/? [00:00<?, ?it/s]"
      ]
     },
     "metadata": {},
     "output_type": "display_data"
    },
    {
     "data": {
      "application/vnd.jupyter.widget-view+json": {
       "model_id": "b6511261028b4de4a9c06160eb576480",
       "version_major": 2,
       "version_minor": 0
      },
      "text/plain": [
       "Validation: |          | 0/? [00:00<?, ?it/s]"
      ]
     },
     "metadata": {},
     "output_type": "display_data"
    },
    {
     "name": "stderr",
     "output_type": "stream",
     "text": [
      "`Trainer.fit` stopped: `max_epochs=20` reached.\n"
     ]
    },
    {
     "data": {
      "application/vnd.jupyter.widget-view+json": {
       "model_id": "b79135ac34e7483db722dd1b9a4f5258",
       "version_major": 2,
       "version_minor": 0
      },
      "text/plain": [
       "VBox(children=(Label(value='0.004 MB of 0.004 MB uploaded\\r'), FloatProgress(value=1.0, max=1.0)))"
      ]
     },
     "metadata": {},
     "output_type": "display_data"
    },
    {
     "data": {
      "text/html": [
       "<style>\n",
       "    table.wandb td:nth-child(1) { padding: 0 10px; text-align: left ; width: auto;} td:nth-child(2) {text-align: left ; width: 100%}\n",
       "    .wandb-row { display: flex; flex-direction: row; flex-wrap: wrap; justify-content: flex-start; width: 100% }\n",
       "    .wandb-col { display: flex; flex-direction: column; flex-basis: 100%; flex: 1; padding: 10px; }\n",
       "    </style>\n",
       "<div class=\"wandb-row\"><div class=\"wandb-col\"><h3>Run history:</h3><br/><table class=\"wandb\"><tr><td>epoch</td><td>▁▁▁▁▂▂▂▂▂▂▃▃▃▃▄▄▄▄▄▄▅▅▅▅▅▅▆▆▆▆▇▇▇▇▇▇████</td></tr><tr><td>train_acc_cls</td><td>▁▂▃▄▅▅▆▆▆▇▇▇▇▇▇█████</td></tr><tr><td>train_acc_cls_top_3</td><td>▁▄▅▆▆▆▇▇▇▇▇▇████████</td></tr><tr><td>train_acc_poison</td><td>▁▂▃▄▄▅▅▆▆▆▇▇▇▇▇█████</td></tr><tr><td>train_f1</td><td>▁▂▃▄▄▅▆▆▆▇▇▇▇▇▇█████</td></tr><tr><td>train_loss</td><td>█▄▄▃▃▂▂▂▂▂▂▂▁▁▁▁▁▁▁▁</td></tr><tr><td>trainer/global_step</td><td>▁▁▁▁▂▂▂▂▂▂▃▃▃▃▄▄▄▄▄▄▅▅▅▅▅▅▆▆▆▆▇▇▇▇▇▇████</td></tr><tr><td>val_loss</td><td>▁▁▁▂▁▂▂▂▃▃▃▄▄▄▅▅▆▇▆█</td></tr><tr><td>valid_acc_cls</td><td>▁▂▄▅▅▆▇▇▇▇██████████</td></tr><tr><td>valid_acc_cls_top_3</td><td>▁▄▅▆▇▇▇▇███████████▇</td></tr><tr><td>valid_acc_poison</td><td>▁▂▄▆▆▇▇▆▆▇▇█▇▇▇▇▇▇█▆</td></tr><tr><td>valid_f1</td><td>▁▅▇▇█▇▇██▇▇▇▇▆▆▆▆▆▇▅</td></tr></table><br/></div><div class=\"wandb-col\"><h3>Run summary:</h3><br/><table class=\"wandb\"><tr><td>epoch</td><td>19</td></tr><tr><td>train_acc_cls</td><td>0.54151</td></tr><tr><td>train_acc_cls_top_3</td><td>0.61972</td></tr><tr><td>train_acc_poison</td><td>0.96933</td></tr><tr><td>train_f1</td><td>0.33243</td></tr><tr><td>train_loss</td><td>0.07171</td></tr><tr><td>trainer/global_step</td><td>48679</td></tr><tr><td>val_loss</td><td>1.49689</td></tr><tr><td>valid_acc_cls</td><td>0.67576</td></tr><tr><td>valid_acc_cls_top_3</td><td>0.86113</td></tr><tr><td>valid_acc_poison</td><td>0.98519</td></tr><tr><td>valid_f1</td><td>0.18932</td></tr></table><br/></div></div>"
      ],
      "text/plain": [
       "<IPython.core.display.HTML object>"
      ]
     },
     "metadata": {},
     "output_type": "display_data"
    },
    {
     "data": {
      "text/html": [
       " View run <strong style=\"color:#cdcd00\">dino_cw_metadata</strong> at: <a href='https://wandb.ai/chiu/FungiClef/runs/yjtrjv9a' target=\"_blank\">https://wandb.ai/chiu/FungiClef/runs/yjtrjv9a</a><br/> View project at: <a href='https://wandb.ai/chiu/FungiClef' target=\"_blank\">https://wandb.ai/chiu/FungiClef</a><br/>Synced 6 W&B file(s), 0 media file(s), 0 artifact file(s) and 0 other file(s)"
      ],
      "text/plain": [
       "<IPython.core.display.HTML object>"
      ]
     },
     "metadata": {},
     "output_type": "display_data"
    },
    {
     "data": {
      "text/html": [
       "Find logs at: <code>./wandb/run-20240430_230515-yjtrjv9a/logs</code>"
      ],
      "text/plain": [
       "<IPython.core.display.HTML object>"
      ]
     },
     "metadata": {},
     "output_type": "display_data"
    },
    {
     "name": "stderr",
     "output_type": "stream",
     "text": [
      "GPU available: True (cuda), used: True\n",
      "TPU available: False, using: 0 TPU cores\n",
      "IPU available: False, using: 0 IPUs\n",
      "HPU available: False, using: 0 HPUs\n",
      "GPU available: True (cuda), used: True\n",
      "TPU available: False, using: 0 TPU cores\n",
      "IPU available: False, using: 0 IPUs\n",
      "HPU available: False, using: 0 HPUs\n"
     ]
    },
    {
     "data": {
      "text/html": [
       "Tracking run with wandb version 0.16.6"
      ],
      "text/plain": [
       "<IPython.core.display.HTML object>"
      ]
     },
     "metadata": {},
     "output_type": "display_data"
    },
    {
     "data": {
      "text/html": [
       "Run data is saved locally in <code>./wandb/run-20240430_231004-nt9c4e6c</code>"
      ],
      "text/plain": [
       "<IPython.core.display.HTML object>"
      ]
     },
     "metadata": {},
     "output_type": "display_data"
    },
    {
     "data": {
      "text/html": [
       "Syncing run <strong><a href='https://wandb.ai/chiu/FungiClef/runs/nt9c4e6c' target=\"_blank\">dino_cw_metadata_pred_poison_weighted</a></strong> to <a href='https://wandb.ai/chiu/FungiClef' target=\"_blank\">Weights & Biases</a> (<a href='https://wandb.me/run' target=\"_blank\">docs</a>)<br/>"
      ],
      "text/plain": [
       "<IPython.core.display.HTML object>"
      ]
     },
     "metadata": {},
     "output_type": "display_data"
    },
    {
     "data": {
      "text/html": [
       " View project at <a href='https://wandb.ai/chiu/FungiClef' target=\"_blank\">https://wandb.ai/chiu/FungiClef</a>"
      ],
      "text/plain": [
       "<IPython.core.display.HTML object>"
      ]
     },
     "metadata": {},
     "output_type": "display_data"
    },
    {
     "data": {
      "text/html": [
       " View run at <a href='https://wandb.ai/chiu/FungiClef/runs/nt9c4e6c' target=\"_blank\">https://wandb.ai/chiu/FungiClef/runs/nt9c4e6c</a>"
      ],
      "text/plain": [
       "<IPython.core.display.HTML object>"
      ]
     },
     "metadata": {},
     "output_type": "display_data"
    },
    {
     "name": "stderr",
     "output_type": "stream",
     "text": [
      "/home/chris/miniconda3/envs/fungiclef/lib/python3.11/site-packages/lightning/pytorch/callbacks/model_checkpoint.py:653: Checkpoint directory /home/chris/fungiclef-2024/checkpoints exists and is not empty.\n",
      "LOCAL_RANK: 0 - CUDA_VISIBLE_DEVICES: [0]\n",
      "\n",
      "  | Name                       | Type                  | Params\n",
      "---------------------------------------------------------------------\n",
      "0 | model                      | MultiTargetClassifier | 3.4 M \n",
      "1 | train_accuracy_class_top_1 | MulticlassAccuracy    | 0     \n",
      "2 | valid_accuracy_class_top_1 | MulticlassAccuracy    | 0     \n",
      "3 | train_f1                   | MulticlassF1Score     | 0     \n",
      "4 | valid_f1                   | MulticlassF1Score     | 0     \n",
      "5 | train_accuracy_class_top_3 | MulticlassAccuracy    | 0     \n",
      "6 | valid_accuracy_class_top_3 | MulticlassAccuracy    | 0     \n",
      "7 | train_accuracy_poison      | BinaryAccuracy        | 0     \n",
      "8 | valid_accuracy_poison      | BinaryAccuracy        | 0     \n",
      "---------------------------------------------------------------------\n",
      "3.4 M     Trainable params\n",
      "0         Non-trainable params\n",
      "3.4 M     Total params\n",
      "13.516    Total estimated model params size (MB)\n"
     ]
    },
    {
     "data": {
      "application/vnd.jupyter.widget-view+json": {
       "model_id": "b50461086bcb4851aa32d8cd6e1f15f8",
       "version_major": 2,
       "version_minor": 0
      },
      "text/plain": [
       "Sanity Checking: |          | 0/? [00:00<?, ?it/s]"
      ]
     },
     "metadata": {},
     "output_type": "display_data"
    },
    {
     "data": {
      "application/vnd.jupyter.widget-view+json": {
       "model_id": "77940160be714445809f6330b4d76389",
       "version_major": 2,
       "version_minor": 0
      },
      "text/plain": [
       "Training: |          | 0/? [00:00<?, ?it/s]"
      ]
     },
     "metadata": {},
     "output_type": "display_data"
    },
    {
     "data": {
      "application/vnd.jupyter.widget-view+json": {
       "model_id": "7c0a289ca3204cda9af626ba13209022",
       "version_major": 2,
       "version_minor": 0
      },
      "text/plain": [
       "Validation: |          | 0/? [00:00<?, ?it/s]"
      ]
     },
     "metadata": {},
     "output_type": "display_data"
    },
    {
     "data": {
      "application/vnd.jupyter.widget-view+json": {
       "model_id": "020e0d81adef46d88dcaf5085abdef86",
       "version_major": 2,
       "version_minor": 0
      },
      "text/plain": [
       "Validation: |          | 0/? [00:00<?, ?it/s]"
      ]
     },
     "metadata": {},
     "output_type": "display_data"
    },
    {
     "data": {
      "application/vnd.jupyter.widget-view+json": {
       "model_id": "7d035f9c8ac74f6a86f3025692019428",
       "version_major": 2,
       "version_minor": 0
      },
      "text/plain": [
       "Validation: |          | 0/? [00:00<?, ?it/s]"
      ]
     },
     "metadata": {},
     "output_type": "display_data"
    },
    {
     "data": {
      "application/vnd.jupyter.widget-view+json": {
       "model_id": "d7f538c9dea545fb9e9b0d4f816150ad",
       "version_major": 2,
       "version_minor": 0
      },
      "text/plain": [
       "Validation: |          | 0/? [00:00<?, ?it/s]"
      ]
     },
     "metadata": {},
     "output_type": "display_data"
    },
    {
     "data": {
      "application/vnd.jupyter.widget-view+json": {
       "model_id": "896b8d0206c74783abccf7c21f4ff710",
       "version_major": 2,
       "version_minor": 0
      },
      "text/plain": [
       "Validation: |          | 0/? [00:00<?, ?it/s]"
      ]
     },
     "metadata": {},
     "output_type": "display_data"
    },
    {
     "data": {
      "application/vnd.jupyter.widget-view+json": {
       "model_id": "98396d4021524d8ea1a76815653cce12",
       "version_major": 2,
       "version_minor": 0
      },
      "text/plain": [
       "Validation: |          | 0/? [00:00<?, ?it/s]"
      ]
     },
     "metadata": {},
     "output_type": "display_data"
    },
    {
     "data": {
      "application/vnd.jupyter.widget-view+json": {
       "model_id": "e2634c788d9b48aca250e58bd0c3109c",
       "version_major": 2,
       "version_minor": 0
      },
      "text/plain": [
       "Validation: |          | 0/? [00:00<?, ?it/s]"
      ]
     },
     "metadata": {},
     "output_type": "display_data"
    },
    {
     "data": {
      "application/vnd.jupyter.widget-view+json": {
       "model_id": "df81aa3a83c640e499c022f543be77d5",
       "version_major": 2,
       "version_minor": 0
      },
      "text/plain": [
       "Validation: |          | 0/? [00:00<?, ?it/s]"
      ]
     },
     "metadata": {},
     "output_type": "display_data"
    },
    {
     "data": {
      "application/vnd.jupyter.widget-view+json": {
       "model_id": "7b446feaef1c49c39482a8005984e8f6",
       "version_major": 2,
       "version_minor": 0
      },
      "text/plain": [
       "Validation: |          | 0/? [00:00<?, ?it/s]"
      ]
     },
     "metadata": {},
     "output_type": "display_data"
    },
    {
     "data": {
      "application/vnd.jupyter.widget-view+json": {
       "model_id": "600bc565198c4f6e891c450c0ca290bc",
       "version_major": 2,
       "version_minor": 0
      },
      "text/plain": [
       "Validation: |          | 0/? [00:00<?, ?it/s]"
      ]
     },
     "metadata": {},
     "output_type": "display_data"
    },
    {
     "data": {
      "application/vnd.jupyter.widget-view+json": {
       "model_id": "cb1f104f71714e049d6529a71c188445",
       "version_major": 2,
       "version_minor": 0
      },
      "text/plain": [
       "Validation: |          | 0/? [00:00<?, ?it/s]"
      ]
     },
     "metadata": {},
     "output_type": "display_data"
    },
    {
     "data": {
      "application/vnd.jupyter.widget-view+json": {
       "model_id": "44b285fe43a44ee89cbbdaad3dcb2755",
       "version_major": 2,
       "version_minor": 0
      },
      "text/plain": [
       "Validation: |          | 0/? [00:00<?, ?it/s]"
      ]
     },
     "metadata": {},
     "output_type": "display_data"
    },
    {
     "data": {
      "application/vnd.jupyter.widget-view+json": {
       "model_id": "5d6a3dc2cd85413fb0d7f4adb1562e91",
       "version_major": 2,
       "version_minor": 0
      },
      "text/plain": [
       "Validation: |          | 0/? [00:00<?, ?it/s]"
      ]
     },
     "metadata": {},
     "output_type": "display_data"
    },
    {
     "data": {
      "application/vnd.jupyter.widget-view+json": {
       "model_id": "a5d0240f010a44ba809621f41633f29c",
       "version_major": 2,
       "version_minor": 0
      },
      "text/plain": [
       "Validation: |          | 0/? [00:00<?, ?it/s]"
      ]
     },
     "metadata": {},
     "output_type": "display_data"
    },
    {
     "data": {
      "application/vnd.jupyter.widget-view+json": {
       "model_id": "4d731e0e7a394bf286743e2a8de203a9",
       "version_major": 2,
       "version_minor": 0
      },
      "text/plain": [
       "Validation: |          | 0/? [00:00<?, ?it/s]"
      ]
     },
     "metadata": {},
     "output_type": "display_data"
    },
    {
     "data": {
      "application/vnd.jupyter.widget-view+json": {
       "model_id": "589f56b5a91d43c0aed62973f49dac6c",
       "version_major": 2,
       "version_minor": 0
      },
      "text/plain": [
       "Validation: |          | 0/? [00:00<?, ?it/s]"
      ]
     },
     "metadata": {},
     "output_type": "display_data"
    },
    {
     "data": {
      "application/vnd.jupyter.widget-view+json": {
       "model_id": "d0d1b7adf2cc48b6a0275a58a7b294e3",
       "version_major": 2,
       "version_minor": 0
      },
      "text/plain": [
       "Validation: |          | 0/? [00:00<?, ?it/s]"
      ]
     },
     "metadata": {},
     "output_type": "display_data"
    },
    {
     "data": {
      "application/vnd.jupyter.widget-view+json": {
       "model_id": "d3367f35effb433e8bf8f5116b36a4e8",
       "version_major": 2,
       "version_minor": 0
      },
      "text/plain": [
       "Validation: |          | 0/? [00:00<?, ?it/s]"
      ]
     },
     "metadata": {},
     "output_type": "display_data"
    },
    {
     "data": {
      "application/vnd.jupyter.widget-view+json": {
       "model_id": "a9afd8eea7514b0e84d83f91f4346d04",
       "version_major": 2,
       "version_minor": 0
      },
      "text/plain": [
       "Validation: |          | 0/? [00:00<?, ?it/s]"
      ]
     },
     "metadata": {},
     "output_type": "display_data"
    },
    {
     "data": {
      "application/vnd.jupyter.widget-view+json": {
       "model_id": "006152a27eed40f28466705e9e7d9de1",
       "version_major": 2,
       "version_minor": 0
      },
      "text/plain": [
       "Validation: |          | 0/? [00:00<?, ?it/s]"
      ]
     },
     "metadata": {},
     "output_type": "display_data"
    },
    {
     "name": "stderr",
     "output_type": "stream",
     "text": [
      "`Trainer.fit` stopped: `max_epochs=20` reached.\n"
     ]
    },
    {
     "data": {
      "application/vnd.jupyter.widget-view+json": {
       "model_id": "91f6ea75e3e9482796af3ce862d3140a",
       "version_major": 2,
       "version_minor": 0
      },
      "text/plain": [
       "VBox(children=(Label(value='0.004 MB of 0.015 MB uploaded\\r'), FloatProgress(value=0.28922815945716707, max=1.…"
      ]
     },
     "metadata": {},
     "output_type": "display_data"
    },
    {
     "data": {
      "text/html": [
       "<style>\n",
       "    table.wandb td:nth-child(1) { padding: 0 10px; text-align: left ; width: auto;} td:nth-child(2) {text-align: left ; width: 100%}\n",
       "    .wandb-row { display: flex; flex-direction: row; flex-wrap: wrap; justify-content: flex-start; width: 100% }\n",
       "    .wandb-col { display: flex; flex-direction: column; flex-basis: 100%; flex: 1; padding: 10px; }\n",
       "    </style>\n",
       "<div class=\"wandb-row\"><div class=\"wandb-col\"><h3>Run history:</h3><br/><table class=\"wandb\"><tr><td>epoch</td><td>▁▁▁▁▂▂▂▂▂▂▃▃▃▃▄▄▄▄▄▄▅▅▅▅▅▅▆▆▆▆▇▇▇▇▇▇████</td></tr><tr><td>train_acc_cls</td><td>▁▂▃▄▅▅▆▆▆▇▇▇▇▇▇█████</td></tr><tr><td>train_acc_cls_top_3</td><td>▁▄▅▆▆▆▇▇▇▇▇▇████████</td></tr><tr><td>train_acc_poison</td><td>▁▂▃▄▄▅▅▆▆▆▇▇▇▇▇▇▇███</td></tr><tr><td>train_f1</td><td>▁▂▃▄▄▅▆▆▆▇▇▇▇▇██████</td></tr><tr><td>train_loss</td><td>█▄▄▃▃▂▂▂▂▂▂▁▁▁▁▁▁▁▁▁</td></tr><tr><td>trainer/global_step</td><td>▁▁▁▁▂▂▂▂▂▂▃▃▃▃▄▄▄▄▄▄▅▅▅▅▅▅▆▆▆▆▇▇▇▇▇▇████</td></tr><tr><td>val_loss</td><td>▁▁▁▁▃▃▃▃▃▃▅▅▅▅▅▇▇▆█▆</td></tr><tr><td>valid_acc_cls</td><td>▁▃▄▅▆▇▇▇▇▇██████████</td></tr><tr><td>valid_acc_cls_top_3</td><td>▁▄▅▆▇▇▇▇██████████▇█</td></tr><tr><td>valid_acc_poison</td><td>▁▂▃▅▅▅▇▆▆▇▇▇▇▇█▆▇▇█▇</td></tr><tr><td>valid_f1</td><td>▁▄▇█▆▇█▇▇█▇▇█▇█▇▅▇▅▇</td></tr></table><br/></div><div class=\"wandb-col\"><h3>Run summary:</h3><br/><table class=\"wandb\"><tr><td>epoch</td><td>19</td></tr><tr><td>train_acc_cls</td><td>0.53912</td></tr><tr><td>train_acc_cls_top_3</td><td>0.61974</td></tr><tr><td>train_acc_poison</td><td>0.96918</td></tr><tr><td>train_f1</td><td>0.33042</td></tr><tr><td>train_loss</td><td>0.05901</td></tr><tr><td>trainer/global_step</td><td>48679</td></tr><tr><td>val_loss</td><td>0.79629</td></tr><tr><td>valid_acc_cls</td><td>0.68456</td></tr><tr><td>valid_acc_cls_top_3</td><td>0.8771</td></tr><tr><td>valid_acc_poison</td><td>0.98656</td></tr><tr><td>valid_f1</td><td>0.21139</td></tr></table><br/></div></div>"
      ],
      "text/plain": [
       "<IPython.core.display.HTML object>"
      ]
     },
     "metadata": {},
     "output_type": "display_data"
    },
    {
     "data": {
      "text/html": [
       " View run <strong style=\"color:#cdcd00\">dino_cw_metadata_pred_poison_weighted</strong> at: <a href='https://wandb.ai/chiu/FungiClef/runs/nt9c4e6c' target=\"_blank\">https://wandb.ai/chiu/FungiClef/runs/nt9c4e6c</a><br/> View project at: <a href='https://wandb.ai/chiu/FungiClef' target=\"_blank\">https://wandb.ai/chiu/FungiClef</a><br/>Synced 6 W&B file(s), 0 media file(s), 0 artifact file(s) and 0 other file(s)"
      ],
      "text/plain": [
       "<IPython.core.display.HTML object>"
      ]
     },
     "metadata": {},
     "output_type": "display_data"
    },
    {
     "data": {
      "text/html": [
       "Find logs at: <code>./wandb/run-20240430_231004-nt9c4e6c/logs</code>"
      ],
      "text/plain": [
       "<IPython.core.display.HTML object>"
      ]
     },
     "metadata": {},
     "output_type": "display_data"
    },
    {
     "name": "stderr",
     "output_type": "stream",
     "text": [
      "GPU available: True (cuda), used: True\n",
      "TPU available: False, using: 0 TPU cores\n",
      "IPU available: False, using: 0 IPUs\n",
      "HPU available: False, using: 0 HPUs\n",
      "GPU available: True (cuda), used: True\n",
      "TPU available: False, using: 0 TPU cores\n",
      "IPU available: False, using: 0 IPUs\n",
      "HPU available: False, using: 0 HPUs\n"
     ]
    },
    {
     "data": {
      "text/html": [
       "Tracking run with wandb version 0.16.6"
      ],
      "text/plain": [
       "<IPython.core.display.HTML object>"
      ]
     },
     "metadata": {},
     "output_type": "display_data"
    },
    {
     "data": {
      "text/html": [
       "Run data is saved locally in <code>./wandb/run-20240430_231527-lriztmql</code>"
      ],
      "text/plain": [
       "<IPython.core.display.HTML object>"
      ]
     },
     "metadata": {},
     "output_type": "display_data"
    },
    {
     "data": {
      "text/html": [
       "Syncing run <strong><a href='https://wandb.ai/chiu/FungiClef/runs/lriztmql' target=\"_blank\">dino_cw_metadata_pred_all</a></strong> to <a href='https://wandb.ai/chiu/FungiClef' target=\"_blank\">Weights & Biases</a> (<a href='https://wandb.me/run' target=\"_blank\">docs</a>)<br/>"
      ],
      "text/plain": [
       "<IPython.core.display.HTML object>"
      ]
     },
     "metadata": {},
     "output_type": "display_data"
    },
    {
     "data": {
      "text/html": [
       " View project at <a href='https://wandb.ai/chiu/FungiClef' target=\"_blank\">https://wandb.ai/chiu/FungiClef</a>"
      ],
      "text/plain": [
       "<IPython.core.display.HTML object>"
      ]
     },
     "metadata": {},
     "output_type": "display_data"
    },
    {
     "data": {
      "text/html": [
       " View run at <a href='https://wandb.ai/chiu/FungiClef/runs/lriztmql' target=\"_blank\">https://wandb.ai/chiu/FungiClef/runs/lriztmql</a>"
      ],
      "text/plain": [
       "<IPython.core.display.HTML object>"
      ]
     },
     "metadata": {},
     "output_type": "display_data"
    },
    {
     "name": "stderr",
     "output_type": "stream",
     "text": [
      "/home/chris/miniconda3/envs/fungiclef/lib/python3.11/site-packages/lightning/pytorch/callbacks/model_checkpoint.py:653: Checkpoint directory /home/chris/fungiclef-2024/checkpoints exists and is not empty.\n",
      "LOCAL_RANK: 0 - CUDA_VISIBLE_DEVICES: [0]\n",
      "\n",
      "  | Name                       | Type                  | Params\n",
      "---------------------------------------------------------------------\n",
      "0 | model                      | MultiTargetClassifier | 13.0 M\n",
      "1 | train_accuracy_class_top_1 | MulticlassAccuracy    | 0     \n",
      "2 | valid_accuracy_class_top_1 | MulticlassAccuracy    | 0     \n",
      "3 | train_f1                   | MulticlassF1Score     | 0     \n",
      "4 | valid_f1                   | MulticlassF1Score     | 0     \n",
      "5 | train_accuracy_class_top_3 | MulticlassAccuracy    | 0     \n",
      "6 | valid_accuracy_class_top_3 | MulticlassAccuracy    | 0     \n",
      "7 | train_accuracy_poison      | BinaryAccuracy        | 0     \n",
      "8 | valid_accuracy_poison      | BinaryAccuracy        | 0     \n",
      "---------------------------------------------------------------------\n",
      "13.0 M    Trainable params\n",
      "0         Non-trainable params\n",
      "13.0 M    Total params\n",
      "51.810    Total estimated model params size (MB)\n"
     ]
    },
    {
     "data": {
      "application/vnd.jupyter.widget-view+json": {
       "model_id": "6688ee3dbc104f74a9f951c088640ec6",
       "version_major": 2,
       "version_minor": 0
      },
      "text/plain": [
       "Sanity Checking: |          | 0/? [00:00<?, ?it/s]"
      ]
     },
     "metadata": {},
     "output_type": "display_data"
    },
    {
     "data": {
      "application/vnd.jupyter.widget-view+json": {
       "model_id": "0c74245a9ca84e11953b162112c2a98f",
       "version_major": 2,
       "version_minor": 0
      },
      "text/plain": [
       "Training: |          | 0/? [00:00<?, ?it/s]"
      ]
     },
     "metadata": {},
     "output_type": "display_data"
    },
    {
     "data": {
      "application/vnd.jupyter.widget-view+json": {
       "model_id": "37744f2c467347cb9ccedc13ab3d613d",
       "version_major": 2,
       "version_minor": 0
      },
      "text/plain": [
       "Validation: |          | 0/? [00:00<?, ?it/s]"
      ]
     },
     "metadata": {},
     "output_type": "display_data"
    },
    {
     "data": {
      "application/vnd.jupyter.widget-view+json": {
       "model_id": "6db6497c751e4667b8b3b71742853590",
       "version_major": 2,
       "version_minor": 0
      },
      "text/plain": [
       "Validation: |          | 0/? [00:00<?, ?it/s]"
      ]
     },
     "metadata": {},
     "output_type": "display_data"
    },
    {
     "data": {
      "application/vnd.jupyter.widget-view+json": {
       "model_id": "0885f63ff14648238823b4f54c23a2ca",
       "version_major": 2,
       "version_minor": 0
      },
      "text/plain": [
       "Validation: |          | 0/? [00:00<?, ?it/s]"
      ]
     },
     "metadata": {},
     "output_type": "display_data"
    },
    {
     "data": {
      "application/vnd.jupyter.widget-view+json": {
       "model_id": "93423e5b347d409992d5c52b24d21fe6",
       "version_major": 2,
       "version_minor": 0
      },
      "text/plain": [
       "Validation: |          | 0/? [00:00<?, ?it/s]"
      ]
     },
     "metadata": {},
     "output_type": "display_data"
    },
    {
     "data": {
      "application/vnd.jupyter.widget-view+json": {
       "model_id": "374223d045884723b1c018f7d5706248",
       "version_major": 2,
       "version_minor": 0
      },
      "text/plain": [
       "Validation: |          | 0/? [00:00<?, ?it/s]"
      ]
     },
     "metadata": {},
     "output_type": "display_data"
    },
    {
     "data": {
      "application/vnd.jupyter.widget-view+json": {
       "model_id": "c03fcb4829154db4844af2d64d9ea67d",
       "version_major": 2,
       "version_minor": 0
      },
      "text/plain": [
       "Validation: |          | 0/? [00:00<?, ?it/s]"
      ]
     },
     "metadata": {},
     "output_type": "display_data"
    },
    {
     "data": {
      "application/vnd.jupyter.widget-view+json": {
       "model_id": "07e9cffccb9f4ae88f4eca59ccf29c54",
       "version_major": 2,
       "version_minor": 0
      },
      "text/plain": [
       "Validation: |          | 0/? [00:00<?, ?it/s]"
      ]
     },
     "metadata": {},
     "output_type": "display_data"
    },
    {
     "data": {
      "application/vnd.jupyter.widget-view+json": {
       "model_id": "1b3f8d098e3544d1ba2351c8ff272843",
       "version_major": 2,
       "version_minor": 0
      },
      "text/plain": [
       "Validation: |          | 0/? [00:00<?, ?it/s]"
      ]
     },
     "metadata": {},
     "output_type": "display_data"
    },
    {
     "data": {
      "application/vnd.jupyter.widget-view+json": {
       "model_id": "15cbdbcd65a8495cb1ce2a061b13ea48",
       "version_major": 2,
       "version_minor": 0
      },
      "text/plain": [
       "Validation: |          | 0/? [00:00<?, ?it/s]"
      ]
     },
     "metadata": {},
     "output_type": "display_data"
    },
    {
     "data": {
      "application/vnd.jupyter.widget-view+json": {
       "model_id": "1507761654a048398ca6bb1345a1e2d5",
       "version_major": 2,
       "version_minor": 0
      },
      "text/plain": [
       "Validation: |          | 0/? [00:00<?, ?it/s]"
      ]
     },
     "metadata": {},
     "output_type": "display_data"
    },
    {
     "data": {
      "application/vnd.jupyter.widget-view+json": {
       "model_id": "491274a19c984861b24e9e87e6ce6036",
       "version_major": 2,
       "version_minor": 0
      },
      "text/plain": [
       "Validation: |          | 0/? [00:00<?, ?it/s]"
      ]
     },
     "metadata": {},
     "output_type": "display_data"
    },
    {
     "data": {
      "application/vnd.jupyter.widget-view+json": {
       "model_id": "4bede45000de4d749efa83a9141d6014",
       "version_major": 2,
       "version_minor": 0
      },
      "text/plain": [
       "Validation: |          | 0/? [00:00<?, ?it/s]"
      ]
     },
     "metadata": {},
     "output_type": "display_data"
    },
    {
     "data": {
      "application/vnd.jupyter.widget-view+json": {
       "model_id": "8fc9c37c12684053a46aad9d77dc295a",
       "version_major": 2,
       "version_minor": 0
      },
      "text/plain": [
       "Validation: |          | 0/? [00:00<?, ?it/s]"
      ]
     },
     "metadata": {},
     "output_type": "display_data"
    },
    {
     "data": {
      "application/vnd.jupyter.widget-view+json": {
       "model_id": "aac4da47ab2e4b45988471ad567690b0",
       "version_major": 2,
       "version_minor": 0
      },
      "text/plain": [
       "Validation: |          | 0/? [00:00<?, ?it/s]"
      ]
     },
     "metadata": {},
     "output_type": "display_data"
    },
    {
     "data": {
      "application/vnd.jupyter.widget-view+json": {
       "model_id": "1f83adf7e9374b54b05e58a2897e3fd6",
       "version_major": 2,
       "version_minor": 0
      },
      "text/plain": [
       "Validation: |          | 0/? [00:00<?, ?it/s]"
      ]
     },
     "metadata": {},
     "output_type": "display_data"
    },
    {
     "data": {
      "application/vnd.jupyter.widget-view+json": {
       "model_id": "b8b7ee719b9744839a100a216a621460",
       "version_major": 2,
       "version_minor": 0
      },
      "text/plain": [
       "Validation: |          | 0/? [00:00<?, ?it/s]"
      ]
     },
     "metadata": {},
     "output_type": "display_data"
    },
    {
     "data": {
      "application/vnd.jupyter.widget-view+json": {
       "model_id": "567257ad3eb94b99a4a1f49c79c7eeaf",
       "version_major": 2,
       "version_minor": 0
      },
      "text/plain": [
       "Validation: |          | 0/? [00:00<?, ?it/s]"
      ]
     },
     "metadata": {},
     "output_type": "display_data"
    },
    {
     "data": {
      "application/vnd.jupyter.widget-view+json": {
       "model_id": "375394e3f7e446469544a9cda4fa8202",
       "version_major": 2,
       "version_minor": 0
      },
      "text/plain": [
       "Validation: |          | 0/? [00:00<?, ?it/s]"
      ]
     },
     "metadata": {},
     "output_type": "display_data"
    },
    {
     "data": {
      "application/vnd.jupyter.widget-view+json": {
       "model_id": "4760b0efb13b4022b49a74c386e7b57f",
       "version_major": 2,
       "version_minor": 0
      },
      "text/plain": [
       "Validation: |          | 0/? [00:00<?, ?it/s]"
      ]
     },
     "metadata": {},
     "output_type": "display_data"
    },
    {
     "data": {
      "application/vnd.jupyter.widget-view+json": {
       "model_id": "f8427a2519d9450ca80b6fd6d1d6ec4a",
       "version_major": 2,
       "version_minor": 0
      },
      "text/plain": [
       "Validation: |          | 0/? [00:00<?, ?it/s]"
      ]
     },
     "metadata": {},
     "output_type": "display_data"
    },
    {
     "name": "stderr",
     "output_type": "stream",
     "text": [
      "`Trainer.fit` stopped: `max_epochs=20` reached.\n"
     ]
    },
    {
     "data": {
      "application/vnd.jupyter.widget-view+json": {
       "model_id": "4bfad58439ed42cf87a46be146c258f1",
       "version_major": 2,
       "version_minor": 0
      },
      "text/plain": [
       "VBox(children=(Label(value='0.004 MB of 0.004 MB uploaded\\r'), FloatProgress(value=1.0, max=1.0)))"
      ]
     },
     "metadata": {},
     "output_type": "display_data"
    },
    {
     "data": {
      "text/html": [
       "<style>\n",
       "    table.wandb td:nth-child(1) { padding: 0 10px; text-align: left ; width: auto;} td:nth-child(2) {text-align: left ; width: 100%}\n",
       "    .wandb-row { display: flex; flex-direction: row; flex-wrap: wrap; justify-content: flex-start; width: 100% }\n",
       "    .wandb-col { display: flex; flex-direction: column; flex-basis: 100%; flex: 1; padding: 10px; }\n",
       "    </style>\n",
       "<div class=\"wandb-row\"><div class=\"wandb-col\"><h3>Run history:</h3><br/><table class=\"wandb\"><tr><td>epoch</td><td>▁▁▁▁▂▂▂▂▂▂▃▃▃▃▄▄▄▄▄▄▅▅▅▅▅▅▆▆▆▆▇▇▇▇▇▇████</td></tr><tr><td>train_acc_cls</td><td>▁▂▃▄▅▅▆▆▆▆▇▇▇▇▇█████</td></tr><tr><td>train_acc_cls_top_3</td><td>▁▄▅▆▆▆▇▇▇▇▇▇████████</td></tr><tr><td>train_acc_poison</td><td>▁▂▃▄▄▅▅▆▆▆▇▇▇▇▇▇▇███</td></tr><tr><td>train_f1</td><td>▁▂▃▄▄▅▆▆▆▇▇▇▇▇▇█████</td></tr><tr><td>train_loss</td><td>█▅▄▃▃▃▂▂▂▂▂▂▁▁▁▁▁▁▁▁</td></tr><tr><td>trainer/global_step</td><td>▁▁▁▁▂▂▂▂▂▂▃▃▃▃▄▄▄▄▄▄▅▅▅▅▅▅▆▆▆▆▇▇▇▇▇▇████</td></tr><tr><td>val_loss</td><td>▄▂▁▂▁▂▁▁▄▄▄▄▅▄▄▆▅▆▆█</td></tr><tr><td>valid_acc_cls</td><td>▁▂▄▅▅▆▇▇▇▇▇█████████</td></tr><tr><td>valid_acc_cls_top_3</td><td>▁▄▅▆▇▇██████████████</td></tr><tr><td>valid_acc_poison</td><td>▁▂▄▄▅▇▇▇▆▇█▇▇█▇▇▇▇▇▆</td></tr><tr><td>valid_f1</td><td>▁▄▆▇▇████▇▇█▆▆▆▅▅▆▆▅</td></tr></table><br/></div><div class=\"wandb-col\"><h3>Run summary:</h3><br/><table class=\"wandb\"><tr><td>epoch</td><td>19</td></tr><tr><td>train_acc_cls</td><td>0.54082</td></tr><tr><td>train_acc_cls_top_3</td><td>0.62019</td></tr><tr><td>train_acc_poison</td><td>0.96974</td></tr><tr><td>train_f1</td><td>0.33226</td></tr><tr><td>train_loss</td><td>0.42344</td></tr><tr><td>trainer/global_step</td><td>48679</td></tr><tr><td>val_loss</td><td>7.73634</td></tr><tr><td>valid_acc_cls</td><td>0.68051</td></tr><tr><td>valid_acc_cls_top_3</td><td>0.86947</td></tr><tr><td>valid_acc_poison</td><td>0.98545</td></tr><tr><td>valid_f1</td><td>0.19119</td></tr></table><br/></div></div>"
      ],
      "text/plain": [
       "<IPython.core.display.HTML object>"
      ]
     },
     "metadata": {},
     "output_type": "display_data"
    },
    {
     "data": {
      "text/html": [
       " View run <strong style=\"color:#cdcd00\">dino_cw_metadata_pred_all</strong> at: <a href='https://wandb.ai/chiu/FungiClef/runs/lriztmql' target=\"_blank\">https://wandb.ai/chiu/FungiClef/runs/lriztmql</a><br/> View project at: <a href='https://wandb.ai/chiu/FungiClef' target=\"_blank\">https://wandb.ai/chiu/FungiClef</a><br/>Synced 6 W&B file(s), 0 media file(s), 0 artifact file(s) and 0 other file(s)"
      ],
      "text/plain": [
       "<IPython.core.display.HTML object>"
      ]
     },
     "metadata": {},
     "output_type": "display_data"
    },
    {
     "data": {
      "text/html": [
       "Find logs at: <code>./wandb/run-20240430_231527-lriztmql/logs</code>"
      ],
      "text/plain": [
       "<IPython.core.display.HTML object>"
      ]
     },
     "metadata": {},
     "output_type": "display_data"
    },
    {
     "name": "stderr",
     "output_type": "stream",
     "text": [
      "GPU available: True (cuda), used: True\n",
      "TPU available: False, using: 0 TPU cores\n",
      "IPU available: False, using: 0 IPUs\n",
      "HPU available: False, using: 0 HPUs\n",
      "GPU available: True (cuda), used: True\n",
      "TPU available: False, using: 0 TPU cores\n",
      "IPU available: False, using: 0 IPUs\n",
      "HPU available: False, using: 0 HPUs\n"
     ]
    },
    {
     "data": {
      "text/html": [
       "Tracking run with wandb version 0.16.6"
      ],
      "text/plain": [
       "<IPython.core.display.HTML object>"
      ]
     },
     "metadata": {},
     "output_type": "display_data"
    },
    {
     "data": {
      "text/html": [
       "Run data is saved locally in <code>./wandb/run-20240430_232304-x80lk8o3</code>"
      ],
      "text/plain": [
       "<IPython.core.display.HTML object>"
      ]
     },
     "metadata": {},
     "output_type": "display_data"
    },
    {
     "data": {
      "text/html": [
       "Syncing run <strong><a href='https://wandb.ai/chiu/FungiClef/runs/x80lk8o3' target=\"_blank\">dino_cw_metadata_pred_all_weighted</a></strong> to <a href='https://wandb.ai/chiu/FungiClef' target=\"_blank\">Weights & Biases</a> (<a href='https://wandb.me/run' target=\"_blank\">docs</a>)<br/>"
      ],
      "text/plain": [
       "<IPython.core.display.HTML object>"
      ]
     },
     "metadata": {},
     "output_type": "display_data"
    },
    {
     "data": {
      "text/html": [
       " View project at <a href='https://wandb.ai/chiu/FungiClef' target=\"_blank\">https://wandb.ai/chiu/FungiClef</a>"
      ],
      "text/plain": [
       "<IPython.core.display.HTML object>"
      ]
     },
     "metadata": {},
     "output_type": "display_data"
    },
    {
     "data": {
      "text/html": [
       " View run at <a href='https://wandb.ai/chiu/FungiClef/runs/x80lk8o3' target=\"_blank\">https://wandb.ai/chiu/FungiClef/runs/x80lk8o3</a>"
      ],
      "text/plain": [
       "<IPython.core.display.HTML object>"
      ]
     },
     "metadata": {},
     "output_type": "display_data"
    },
    {
     "name": "stderr",
     "output_type": "stream",
     "text": [
      "/home/chris/miniconda3/envs/fungiclef/lib/python3.11/site-packages/lightning/pytorch/callbacks/model_checkpoint.py:653: Checkpoint directory /home/chris/fungiclef-2024/checkpoints exists and is not empty.\n",
      "LOCAL_RANK: 0 - CUDA_VISIBLE_DEVICES: [0]\n",
      "\n",
      "  | Name                       | Type                  | Params\n",
      "---------------------------------------------------------------------\n",
      "0 | model                      | MultiTargetClassifier | 13.0 M\n",
      "1 | train_accuracy_class_top_1 | MulticlassAccuracy    | 0     \n",
      "2 | valid_accuracy_class_top_1 | MulticlassAccuracy    | 0     \n",
      "3 | train_f1                   | MulticlassF1Score     | 0     \n",
      "4 | valid_f1                   | MulticlassF1Score     | 0     \n",
      "5 | train_accuracy_class_top_3 | MulticlassAccuracy    | 0     \n",
      "6 | valid_accuracy_class_top_3 | MulticlassAccuracy    | 0     \n",
      "7 | train_accuracy_poison      | BinaryAccuracy        | 0     \n",
      "8 | valid_accuracy_poison      | BinaryAccuracy        | 0     \n",
      "---------------------------------------------------------------------\n",
      "13.0 M    Trainable params\n",
      "0         Non-trainable params\n",
      "13.0 M    Total params\n",
      "51.810    Total estimated model params size (MB)\n"
     ]
    },
    {
     "data": {
      "application/vnd.jupyter.widget-view+json": {
       "model_id": "cf9ddedc9899473b933100f18eaf3bcc",
       "version_major": 2,
       "version_minor": 0
      },
      "text/plain": [
       "Sanity Checking: |          | 0/? [00:00<?, ?it/s]"
      ]
     },
     "metadata": {},
     "output_type": "display_data"
    },
    {
     "data": {
      "application/vnd.jupyter.widget-view+json": {
       "model_id": "9a48a3dbae0a4f3f9b4c6ff77ab6b964",
       "version_major": 2,
       "version_minor": 0
      },
      "text/plain": [
       "Training: |          | 0/? [00:00<?, ?it/s]"
      ]
     },
     "metadata": {},
     "output_type": "display_data"
    },
    {
     "data": {
      "application/vnd.jupyter.widget-view+json": {
       "model_id": "96a75e35d13c474289895edbaf7b68be",
       "version_major": 2,
       "version_minor": 0
      },
      "text/plain": [
       "Validation: |          | 0/? [00:00<?, ?it/s]"
      ]
     },
     "metadata": {},
     "output_type": "display_data"
    },
    {
     "data": {
      "application/vnd.jupyter.widget-view+json": {
       "model_id": "e4cd1f97aa7a4700ba0b31ea5c8c908d",
       "version_major": 2,
       "version_minor": 0
      },
      "text/plain": [
       "Validation: |          | 0/? [00:00<?, ?it/s]"
      ]
     },
     "metadata": {},
     "output_type": "display_data"
    },
    {
     "data": {
      "application/vnd.jupyter.widget-view+json": {
       "model_id": "7b1174e0a5a74635b1c8c9e5e10e2b37",
       "version_major": 2,
       "version_minor": 0
      },
      "text/plain": [
       "Validation: |          | 0/? [00:00<?, ?it/s]"
      ]
     },
     "metadata": {},
     "output_type": "display_data"
    },
    {
     "data": {
      "application/vnd.jupyter.widget-view+json": {
       "model_id": "926a9936e89f4c679662d05ea6748529",
       "version_major": 2,
       "version_minor": 0
      },
      "text/plain": [
       "Validation: |          | 0/? [00:00<?, ?it/s]"
      ]
     },
     "metadata": {},
     "output_type": "display_data"
    },
    {
     "data": {
      "application/vnd.jupyter.widget-view+json": {
       "model_id": "052e00fbbc87419987f7a3dcfd758129",
       "version_major": 2,
       "version_minor": 0
      },
      "text/plain": [
       "Validation: |          | 0/? [00:00<?, ?it/s]"
      ]
     },
     "metadata": {},
     "output_type": "display_data"
    },
    {
     "data": {
      "application/vnd.jupyter.widget-view+json": {
       "model_id": "a92dbd73527c43d1a2ecb54bb4cce863",
       "version_major": 2,
       "version_minor": 0
      },
      "text/plain": [
       "Validation: |          | 0/? [00:00<?, ?it/s]"
      ]
     },
     "metadata": {},
     "output_type": "display_data"
    },
    {
     "data": {
      "application/vnd.jupyter.widget-view+json": {
       "model_id": "48b2809f97aa492a8f5f57c46fdfe7bf",
       "version_major": 2,
       "version_minor": 0
      },
      "text/plain": [
       "Validation: |          | 0/? [00:00<?, ?it/s]"
      ]
     },
     "metadata": {},
     "output_type": "display_data"
    },
    {
     "data": {
      "application/vnd.jupyter.widget-view+json": {
       "model_id": "bfa346bee0cf43168fd069877a111b43",
       "version_major": 2,
       "version_minor": 0
      },
      "text/plain": [
       "Validation: |          | 0/? [00:00<?, ?it/s]"
      ]
     },
     "metadata": {},
     "output_type": "display_data"
    },
    {
     "data": {
      "application/vnd.jupyter.widget-view+json": {
       "model_id": "540e2eb4cd8449d4aa3861daeffe39cc",
       "version_major": 2,
       "version_minor": 0
      },
      "text/plain": [
       "Validation: |          | 0/? [00:00<?, ?it/s]"
      ]
     },
     "metadata": {},
     "output_type": "display_data"
    },
    {
     "data": {
      "application/vnd.jupyter.widget-view+json": {
       "model_id": "5d4a62a1596c486585cc17d26519670a",
       "version_major": 2,
       "version_minor": 0
      },
      "text/plain": [
       "Validation: |          | 0/? [00:00<?, ?it/s]"
      ]
     },
     "metadata": {},
     "output_type": "display_data"
    },
    {
     "data": {
      "application/vnd.jupyter.widget-view+json": {
       "model_id": "f0f9e3bd47a34d6e911af499447f5f3a",
       "version_major": 2,
       "version_minor": 0
      },
      "text/plain": [
       "Validation: |          | 0/? [00:00<?, ?it/s]"
      ]
     },
     "metadata": {},
     "output_type": "display_data"
    },
    {
     "data": {
      "application/vnd.jupyter.widget-view+json": {
       "model_id": "e0c46badb483484cb5726eb870cbb76d",
       "version_major": 2,
       "version_minor": 0
      },
      "text/plain": [
       "Validation: |          | 0/? [00:00<?, ?it/s]"
      ]
     },
     "metadata": {},
     "output_type": "display_data"
    },
    {
     "data": {
      "application/vnd.jupyter.widget-view+json": {
       "model_id": "a3e4f005856c4b0ea1948e74b0f23f82",
       "version_major": 2,
       "version_minor": 0
      },
      "text/plain": [
       "Validation: |          | 0/? [00:00<?, ?it/s]"
      ]
     },
     "metadata": {},
     "output_type": "display_data"
    },
    {
     "data": {
      "application/vnd.jupyter.widget-view+json": {
       "model_id": "8744f09c791945a591f344ade41d5a18",
       "version_major": 2,
       "version_minor": 0
      },
      "text/plain": [
       "Validation: |          | 0/? [00:00<?, ?it/s]"
      ]
     },
     "metadata": {},
     "output_type": "display_data"
    },
    {
     "data": {
      "application/vnd.jupyter.widget-view+json": {
       "model_id": "c75bb5ef98bb4b25a4436af32fd1b35b",
       "version_major": 2,
       "version_minor": 0
      },
      "text/plain": [
       "Validation: |          | 0/? [00:00<?, ?it/s]"
      ]
     },
     "metadata": {},
     "output_type": "display_data"
    },
    {
     "data": {
      "application/vnd.jupyter.widget-view+json": {
       "model_id": "9a73cb5b31744d0a8bc798384d0823c5",
       "version_major": 2,
       "version_minor": 0
      },
      "text/plain": [
       "Validation: |          | 0/? [00:00<?, ?it/s]"
      ]
     },
     "metadata": {},
     "output_type": "display_data"
    },
    {
     "data": {
      "application/vnd.jupyter.widget-view+json": {
       "model_id": "29e8cbf92b734ee3825b169630a9b34b",
       "version_major": 2,
       "version_minor": 0
      },
      "text/plain": [
       "Validation: |          | 0/? [00:00<?, ?it/s]"
      ]
     },
     "metadata": {},
     "output_type": "display_data"
    },
    {
     "data": {
      "application/vnd.jupyter.widget-view+json": {
       "model_id": "4c44f97decd140a5a870c89ec41e2995",
       "version_major": 2,
       "version_minor": 0
      },
      "text/plain": [
       "Validation: |          | 0/? [00:00<?, ?it/s]"
      ]
     },
     "metadata": {},
     "output_type": "display_data"
    },
    {
     "data": {
      "application/vnd.jupyter.widget-view+json": {
       "model_id": "1ed9c5ebf79e49cb894781c7de938bf9",
       "version_major": 2,
       "version_minor": 0
      },
      "text/plain": [
       "Validation: |          | 0/? [00:00<?, ?it/s]"
      ]
     },
     "metadata": {},
     "output_type": "display_data"
    },
    {
     "data": {
      "application/vnd.jupyter.widget-view+json": {
       "model_id": "1c4676cd69724744ab2fc73637cf3327",
       "version_major": 2,
       "version_minor": 0
      },
      "text/plain": [
       "Validation: |          | 0/? [00:00<?, ?it/s]"
      ]
     },
     "metadata": {},
     "output_type": "display_data"
    },
    {
     "name": "stderr",
     "output_type": "stream",
     "text": [
      "`Trainer.fit` stopped: `max_epochs=20` reached.\n"
     ]
    },
    {
     "data": {
      "application/vnd.jupyter.widget-view+json": {
       "model_id": "c35ea86cf599458fa73b3a7c9de2d4ba",
       "version_major": 2,
       "version_minor": 0
      },
      "text/plain": [
       "VBox(children=(Label(value='0.004 MB of 0.004 MB uploaded\\r'), FloatProgress(value=1.0, max=1.0)))"
      ]
     },
     "metadata": {},
     "output_type": "display_data"
    },
    {
     "data": {
      "text/html": [
       "<style>\n",
       "    table.wandb td:nth-child(1) { padding: 0 10px; text-align: left ; width: auto;} td:nth-child(2) {text-align: left ; width: 100%}\n",
       "    .wandb-row { display: flex; flex-direction: row; flex-wrap: wrap; justify-content: flex-start; width: 100% }\n",
       "    .wandb-col { display: flex; flex-direction: column; flex-basis: 100%; flex: 1; padding: 10px; }\n",
       "    </style>\n",
       "<div class=\"wandb-row\"><div class=\"wandb-col\"><h3>Run history:</h3><br/><table class=\"wandb\"><tr><td>epoch</td><td>▁▁▁▁▂▂▂▂▂▂▃▃▃▃▄▄▄▄▄▄▅▅▅▅▅▅▆▆▆▆▇▇▇▇▇▇████</td></tr><tr><td>train_acc_cls</td><td>▁▂▃▄▅▅▆▆▆▇▇▇▇▇▇█████</td></tr><tr><td>train_acc_cls_top_3</td><td>▁▄▅▆▆▆▇▇▇▇▇▇████████</td></tr><tr><td>train_acc_poison</td><td>▁▂▃▄▄▅▆▆▆▆▇▇▇▇▇▇█▇██</td></tr><tr><td>train_f1</td><td>▁▂▃▄▄▅▆▆▆▇▇▇▇▇▇█████</td></tr><tr><td>train_loss</td><td>█▅▄▃▃▂▂▂▂▂▂▂▁▁▁▁▁▁▁▁</td></tr><tr><td>trainer/global_step</td><td>▁▁▁▁▂▂▂▂▂▂▃▃▃▃▄▄▄▄▄▄▅▅▅▅▅▅▆▆▆▆▇▇▇▇▇▇████</td></tr><tr><td>val_loss</td><td>▂▁▁▁▁▂▂▃▃▄▃▄▄▅▅▅▅▆▇█</td></tr><tr><td>valid_acc_cls</td><td>▁▃▃▅▆▆▇▇▇▇██████████</td></tr><tr><td>valid_acc_cls_top_3</td><td>▁▄▅▆▇▇▇███████████▇█</td></tr><tr><td>valid_acc_poison</td><td>▁▂▃▆▇▇▇▆█▇▇███▇█▆▇▅▇</td></tr><tr><td>valid_f1</td><td>▁▄▆▇█▇█▇▇▆█▆▇▇▇▇▆▅▄▅</td></tr></table><br/></div><div class=\"wandb-col\"><h3>Run summary:</h3><br/><table class=\"wandb\"><tr><td>epoch</td><td>19</td></tr><tr><td>train_acc_cls</td><td>0.54127</td></tr><tr><td>train_acc_cls_top_3</td><td>0.61984</td></tr><tr><td>train_acc_poison</td><td>0.96986</td></tr><tr><td>train_f1</td><td>0.33212</td></tr><tr><td>train_loss</td><td>0.05979</td></tr><tr><td>trainer/global_step</td><td>48679</td></tr><tr><td>val_loss</td><td>1.13802</td></tr><tr><td>valid_acc_cls</td><td>0.6835</td></tr><tr><td>valid_acc_cls_top_3</td><td>0.86967</td></tr><tr><td>valid_acc_poison</td><td>0.9861</td></tr><tr><td>valid_f1</td><td>0.19554</td></tr></table><br/></div></div>"
      ],
      "text/plain": [
       "<IPython.core.display.HTML object>"
      ]
     },
     "metadata": {},
     "output_type": "display_data"
    },
    {
     "data": {
      "text/html": [
       " View run <strong style=\"color:#cdcd00\">dino_cw_metadata_pred_all_weighted</strong> at: <a href='https://wandb.ai/chiu/FungiClef/runs/x80lk8o3' target=\"_blank\">https://wandb.ai/chiu/FungiClef/runs/x80lk8o3</a><br/> View project at: <a href='https://wandb.ai/chiu/FungiClef' target=\"_blank\">https://wandb.ai/chiu/FungiClef</a><br/>Synced 6 W&B file(s), 0 media file(s), 0 artifact file(s) and 0 other file(s)"
      ],
      "text/plain": [
       "<IPython.core.display.HTML object>"
      ]
     },
     "metadata": {},
     "output_type": "display_data"
    },
    {
     "data": {
      "text/html": [
       "Find logs at: <code>./wandb/run-20240430_232304-x80lk8o3/logs</code>"
      ],
      "text/plain": [
       "<IPython.core.display.HTML object>"
      ]
     },
     "metadata": {},
     "output_type": "display_data"
    }
   ],
   "source": [
    "# Rerun above but 20 epochs are good\n",
    "# Above and all prediction targets - weighted\n",
    "train_embedding_classifier(model_name=\"dino_cw_sampler_metadata_pred_all_weighted\", use_metadata_input=True, use_class_weights_for_loss=True, use_weighted_sampler=True, log=True, lr=LR,\n",
    "                           prediction_columns=['class_id', 'phylum', 'class', 'order', 'family', 'genus', 'species', 'poisonous'], \n",
    "                           pred_weights=[0.5, 0.066, 0.066, 0.066, 0.066, 0.066, 0.066, 0.1])\n",
    "\n",
    "## No sampler\n",
    "\n",
    "# Above and metadata input\n",
    "train_embedding_classifier(model_name=\"dino_cw_metadata\", use_metadata_input=True, use_class_weights_for_loss=True, use_weighted_sampler=False, log=True, lr=LR)\n",
    "\n",
    "# Above and ['poisonous'] - weighted\n",
    "train_embedding_classifier(model_name=\"dino_cw_metadata_pred_poison_weighted\", use_metadata_input=True, use_class_weights_for_loss=True, use_weighted_sampler=False, log=True, lr=LR, prediction_columns=['class_id', 'poisonous'], pred_weights=[0.75, 0.25])\n",
    "\n",
    "# Above and all prediction targets\n",
    "train_embedding_classifier(model_name=\"dino_cw_metadata_pred_all\", use_metadata_input=True, use_class_weights_for_loss=True, use_weighted_sampler=False, log=True, lr=LR, prediction_columns=['class_id', 'phylum', 'class', 'order', 'family', 'genus', 'species', 'poisonous'])\n",
    "\n",
    "# Above and all prediction targets - weighted\n",
    "train_embedding_classifier(model_name=\"dino_cw_metadata_pred_all_weighted\", use_metadata_input=True, use_class_weights_for_loss=True, use_weighted_sampler=False, log=True, lr=LR,\n",
    "                           prediction_columns=['class_id', 'phylum', 'class', 'order', 'family', 'genus', 'species', 'poisonous'], \n",
    "                           pred_weights=[0.5, 0.066, 0.066, 0.066, 0.066, 0.066, 0.066, 0.1])"
   ]
  },
  {
   "cell_type": "code",
   "execution_count": 6,
   "metadata": {},
   "outputs": [],
   "source": [
    "from fungiclef.model.dataset import EmbeddingMetadataDataset\n",
    "import pandas as pd\n",
    "from torch.utils.data import DataLoader\n",
    "from fungiclef.model.wrapper import FungiModel\n",
    "import numpy as np\n",
    "import os\n"
   ]
  },
  {
   "cell_type": "code",
   "execution_count": 7,
   "metadata": {},
   "outputs": [],
   "source": [
    "DINO_TEST = \"../DF_300_metadata_test.parquet\"\n",
    "test_df = pd.read_parquet(DINO_TEST)\n"
   ]
  },
  {
   "cell_type": "code",
   "execution_count": 8,
   "metadata": {},
   "outputs": [],
   "source": [
    "from fungiclef.evaluate.scoring import score_model\n",
    "\n",
    "def evaluate_model(model_ckpt, use_metadata_input, prediction_columns):\n",
    "    \n",
    "    use_metadata_input = use_metadata_input\n",
    "    prediction_columns = prediction_columns if prediction_columns else ['class_id']\n",
    "\n",
    "    test_dataset = EmbeddingMetadataDataset(\n",
    "        test_df,\n",
    "        use_input_metadata=use_metadata_input,\n",
    "        prediction_columns=prediction_columns,\n",
    "        emb_key=\"embedding\",\n",
    "    )\n",
    "\n",
    "    model = FungiModel.load_from_checkpoint(model_ckpt)\n",
    "\n",
    "    test_loader = DataLoader(\n",
    "        test_dataset, batch_size=64, shuffle=False, num_workers=4\n",
    "    )\n",
    "\n",
    "    preds = []\n",
    "    for batch in test_loader:\n",
    "        preds.append(model.predict(batch, logits=False))\n",
    "    preds = np.hstack(preds)\n",
    "    gt_df = test_df[['observationID', 'class_id']]\n",
    "    \n",
    "    return score_model(preds, gt_df)"
   ]
  },
  {
   "cell_type": "code",
   "execution_count": 10,
   "metadata": {},
   "outputs": [],
   "source": [
    "['class_id', 'phylum', 'class', 'order', 'family', 'genus', 'species', 'poisonous']"
   ]
  },
  {
   "cell_type": "code",
   "execution_count": 14,
   "metadata": {},
   "outputs": [
    {
     "ename": "TypeError",
     "evalue": "FungiModel.__init__() missing 1 required positional argument: 'model'",
     "output_type": "error",
     "traceback": [
      "\u001b[0;31m---------------------------------------------------------------------------\u001b[0m",
      "\u001b[0;31mTypeError\u001b[0m                                 Traceback (most recent call last)",
      "Cell \u001b[0;32mIn[14], line 1\u001b[0m\n\u001b[0;32m----> 1\u001b[0m evaluate_model(\u001b[38;5;124m\"\u001b[39m\u001b[38;5;124m../checkpoints/dino_cw_metadata_pred_poison_weighted-epoch=1.ckpt\u001b[39m\u001b[38;5;124m\"\u001b[39m, use_metadata_input\u001b[38;5;241m=\u001b[39m\u001b[38;5;28;01mTrue\u001b[39;00m, prediction_columns\u001b[38;5;241m=\u001b[39m[\u001b[38;5;124m'\u001b[39m\u001b[38;5;124mclass_id\u001b[39m\u001b[38;5;124m'\u001b[39m, \u001b[38;5;124m'\u001b[39m\u001b[38;5;124mpoisonous\u001b[39m\u001b[38;5;124m'\u001b[39m])\n",
      "Cell \u001b[0;32mIn[8], line 15\u001b[0m, in \u001b[0;36mevaluate_model\u001b[0;34m(model_ckpt, use_metadata_input, prediction_columns)\u001b[0m\n\u001b[1;32m      6\u001b[0m prediction_columns \u001b[38;5;241m=\u001b[39m prediction_columns \u001b[38;5;28;01mif\u001b[39;00m prediction_columns \u001b[38;5;28;01melse\u001b[39;00m [\u001b[38;5;124m'\u001b[39m\u001b[38;5;124mclass_id\u001b[39m\u001b[38;5;124m'\u001b[39m]\n\u001b[1;32m      8\u001b[0m test_dataset \u001b[38;5;241m=\u001b[39m EmbeddingMetadataDataset(\n\u001b[1;32m      9\u001b[0m     test_df,\n\u001b[1;32m     10\u001b[0m     use_input_metadata\u001b[38;5;241m=\u001b[39muse_metadata_input,\n\u001b[1;32m     11\u001b[0m     prediction_columns\u001b[38;5;241m=\u001b[39mprediction_columns,\n\u001b[1;32m     12\u001b[0m     emb_key\u001b[38;5;241m=\u001b[39m\u001b[38;5;124m\"\u001b[39m\u001b[38;5;124membedding\u001b[39m\u001b[38;5;124m\"\u001b[39m,\n\u001b[1;32m     13\u001b[0m )\n\u001b[0;32m---> 15\u001b[0m model \u001b[38;5;241m=\u001b[39m FungiModel\u001b[38;5;241m.\u001b[39mload_from_checkpoint(model_ckpt)\n\u001b[1;32m     17\u001b[0m test_loader \u001b[38;5;241m=\u001b[39m DataLoader(\n\u001b[1;32m     18\u001b[0m     test_dataset, batch_size\u001b[38;5;241m=\u001b[39m\u001b[38;5;241m64\u001b[39m, shuffle\u001b[38;5;241m=\u001b[39m\u001b[38;5;28;01mFalse\u001b[39;00m, num_workers\u001b[38;5;241m=\u001b[39m\u001b[38;5;241m4\u001b[39m\n\u001b[1;32m     19\u001b[0m )\n\u001b[1;32m     21\u001b[0m preds \u001b[38;5;241m=\u001b[39m []\n",
      "File \u001b[0;32m~/miniconda3/envs/fungiclef/lib/python3.11/site-packages/lightning/pytorch/utilities/model_helpers.py:125\u001b[0m, in \u001b[0;36m_restricted_classmethod_impl.__get__.<locals>.wrapper\u001b[0;34m(*args, **kwargs)\u001b[0m\n\u001b[1;32m    120\u001b[0m \u001b[38;5;28;01mif\u001b[39;00m instance \u001b[38;5;129;01mis\u001b[39;00m \u001b[38;5;129;01mnot\u001b[39;00m \u001b[38;5;28;01mNone\u001b[39;00m \u001b[38;5;129;01mand\u001b[39;00m \u001b[38;5;129;01mnot\u001b[39;00m is_scripting:\n\u001b[1;32m    121\u001b[0m     \u001b[38;5;28;01mraise\u001b[39;00m \u001b[38;5;167;01mTypeError\u001b[39;00m(\n\u001b[1;32m    122\u001b[0m         \u001b[38;5;124mf\u001b[39m\u001b[38;5;124m\"\u001b[39m\u001b[38;5;124mThe classmethod `\u001b[39m\u001b[38;5;132;01m{\u001b[39;00m\u001b[38;5;28mcls\u001b[39m\u001b[38;5;241m.\u001b[39m\u001b[38;5;18m__name__\u001b[39m\u001b[38;5;132;01m}\u001b[39;00m\u001b[38;5;124m.\u001b[39m\u001b[38;5;132;01m{\u001b[39;00m\u001b[38;5;28mself\u001b[39m\u001b[38;5;241m.\u001b[39mmethod\u001b[38;5;241m.\u001b[39m\u001b[38;5;18m__name__\u001b[39m\u001b[38;5;132;01m}\u001b[39;00m\u001b[38;5;124m` cannot be called on an instance.\u001b[39m\u001b[38;5;124m\"\u001b[39m\n\u001b[1;32m    123\u001b[0m         \u001b[38;5;124m\"\u001b[39m\u001b[38;5;124m Please call it on the class type and make sure the return value is used.\u001b[39m\u001b[38;5;124m\"\u001b[39m\n\u001b[1;32m    124\u001b[0m     )\n\u001b[0;32m--> 125\u001b[0m \u001b[38;5;28;01mreturn\u001b[39;00m \u001b[38;5;28mself\u001b[39m\u001b[38;5;241m.\u001b[39mmethod(\u001b[38;5;28mcls\u001b[39m, \u001b[38;5;241m*\u001b[39margs, \u001b[38;5;241m*\u001b[39m\u001b[38;5;241m*\u001b[39mkwargs)\n",
      "File \u001b[0;32m~/miniconda3/envs/fungiclef/lib/python3.11/site-packages/lightning/pytorch/core/module.py:1581\u001b[0m, in \u001b[0;36mLightningModule.load_from_checkpoint\u001b[0;34m(cls, checkpoint_path, map_location, hparams_file, strict, **kwargs)\u001b[0m\n\u001b[1;32m   1492\u001b[0m \u001b[38;5;129m@_restricted_classmethod\u001b[39m\n\u001b[1;32m   1493\u001b[0m \u001b[38;5;28;01mdef\u001b[39;00m \u001b[38;5;21mload_from_checkpoint\u001b[39m(\n\u001b[1;32m   1494\u001b[0m     \u001b[38;5;28mcls\u001b[39m,\n\u001b[0;32m   (...)\u001b[0m\n\u001b[1;32m   1499\u001b[0m     \u001b[38;5;241m*\u001b[39m\u001b[38;5;241m*\u001b[39mkwargs: Any,\n\u001b[1;32m   1500\u001b[0m ) \u001b[38;5;241m-\u001b[39m\u001b[38;5;241m>\u001b[39m Self:\n\u001b[1;32m   1501\u001b[0m \u001b[38;5;250m    \u001b[39m\u001b[38;5;124mr\u001b[39m\u001b[38;5;124;03m\"\"\"Primary way of loading a model from a checkpoint. When Lightning saves a checkpoint it stores the arguments\u001b[39;00m\n\u001b[1;32m   1502\u001b[0m \u001b[38;5;124;03m    passed to ``__init__``  in the checkpoint under ``\"hyper_parameters\"``.\u001b[39;00m\n\u001b[1;32m   1503\u001b[0m \n\u001b[0;32m   (...)\u001b[0m\n\u001b[1;32m   1579\u001b[0m \n\u001b[1;32m   1580\u001b[0m \u001b[38;5;124;03m    \"\"\"\u001b[39;00m\n\u001b[0;32m-> 1581\u001b[0m     loaded \u001b[38;5;241m=\u001b[39m _load_from_checkpoint(\n\u001b[1;32m   1582\u001b[0m         \u001b[38;5;28mcls\u001b[39m,  \u001b[38;5;66;03m# type: ignore[arg-type]\u001b[39;00m\n\u001b[1;32m   1583\u001b[0m         checkpoint_path,\n\u001b[1;32m   1584\u001b[0m         map_location,\n\u001b[1;32m   1585\u001b[0m         hparams_file,\n\u001b[1;32m   1586\u001b[0m         strict,\n\u001b[1;32m   1587\u001b[0m         \u001b[38;5;241m*\u001b[39m\u001b[38;5;241m*\u001b[39mkwargs,\n\u001b[1;32m   1588\u001b[0m     )\n\u001b[1;32m   1589\u001b[0m     \u001b[38;5;28;01mreturn\u001b[39;00m cast(Self, loaded)\n",
      "File \u001b[0;32m~/miniconda3/envs/fungiclef/lib/python3.11/site-packages/lightning/pytorch/core/saving.py:91\u001b[0m, in \u001b[0;36m_load_from_checkpoint\u001b[0;34m(cls, checkpoint_path, map_location, hparams_file, strict, **kwargs)\u001b[0m\n\u001b[1;32m     89\u001b[0m     \u001b[38;5;28;01mreturn\u001b[39;00m _load_state(\u001b[38;5;28mcls\u001b[39m, checkpoint, \u001b[38;5;241m*\u001b[39m\u001b[38;5;241m*\u001b[39mkwargs)\n\u001b[1;32m     90\u001b[0m \u001b[38;5;28;01mif\u001b[39;00m \u001b[38;5;28missubclass\u001b[39m(\u001b[38;5;28mcls\u001b[39m, pl\u001b[38;5;241m.\u001b[39mLightningModule):\n\u001b[0;32m---> 91\u001b[0m     model \u001b[38;5;241m=\u001b[39m _load_state(\u001b[38;5;28mcls\u001b[39m, checkpoint, strict\u001b[38;5;241m=\u001b[39mstrict, \u001b[38;5;241m*\u001b[39m\u001b[38;5;241m*\u001b[39mkwargs)\n\u001b[1;32m     92\u001b[0m     state_dict \u001b[38;5;241m=\u001b[39m checkpoint[\u001b[38;5;124m\"\u001b[39m\u001b[38;5;124mstate_dict\u001b[39m\u001b[38;5;124m\"\u001b[39m]\n\u001b[1;32m     93\u001b[0m     \u001b[38;5;28;01mif\u001b[39;00m \u001b[38;5;129;01mnot\u001b[39;00m state_dict:\n",
      "File \u001b[0;32m~/miniconda3/envs/fungiclef/lib/python3.11/site-packages/lightning/pytorch/core/saving.py:158\u001b[0m, in \u001b[0;36m_load_state\u001b[0;34m(cls, checkpoint, strict, **cls_kwargs_new)\u001b[0m\n\u001b[1;32m    154\u001b[0m \u001b[38;5;28;01mif\u001b[39;00m \u001b[38;5;129;01mnot\u001b[39;00m cls_spec\u001b[38;5;241m.\u001b[39mvarkw:\n\u001b[1;32m    155\u001b[0m     \u001b[38;5;66;03m# filter kwargs according to class init unless it allows any argument via kwargs\u001b[39;00m\n\u001b[1;32m    156\u001b[0m     _cls_kwargs \u001b[38;5;241m=\u001b[39m {k: v \u001b[38;5;28;01mfor\u001b[39;00m k, v \u001b[38;5;129;01min\u001b[39;00m _cls_kwargs\u001b[38;5;241m.\u001b[39mitems() \u001b[38;5;28;01mif\u001b[39;00m k \u001b[38;5;129;01min\u001b[39;00m cls_init_args_name}\n\u001b[0;32m--> 158\u001b[0m obj \u001b[38;5;241m=\u001b[39m \u001b[38;5;28mcls\u001b[39m(\u001b[38;5;241m*\u001b[39m\u001b[38;5;241m*\u001b[39m_cls_kwargs)\n\u001b[1;32m    160\u001b[0m \u001b[38;5;28;01mif\u001b[39;00m \u001b[38;5;28misinstance\u001b[39m(obj, pl\u001b[38;5;241m.\u001b[39mLightningDataModule):\n\u001b[1;32m    161\u001b[0m     \u001b[38;5;28;01mif\u001b[39;00m obj\u001b[38;5;241m.\u001b[39m\u001b[38;5;18m__class__\u001b[39m\u001b[38;5;241m.\u001b[39m\u001b[38;5;18m__qualname__\u001b[39m \u001b[38;5;129;01min\u001b[39;00m checkpoint:\n",
      "\u001b[0;31mTypeError\u001b[0m: FungiModel.__init__() missing 1 required positional argument: 'model'"
     ]
    }
   ],
   "source": [
    "evaluate_model(\"../checkpoints/dino_cw_metadata_pred_poison_weighted-epoch=1.ckpt\", use_metadata_input=True, prediction_columns=['class_id', 'poisonous'])"
   ]
  },
  {
   "cell_type": "code",
   "execution_count": 16,
   "metadata": {},
   "outputs": [
    {
     "data": {
      "text/plain": [
       "{'epoch': 1,\n",
       " 'global_step': 4868,\n",
       " 'pytorch-lightning_version': '2.2.2',\n",
       " 'state_dict': OrderedDict([('model.models.0.0.weight',\n",
       "               tensor([0.9937, 0.9992, 1.0193, 0.9917, 1.0128, 1.0304, 0.9919, 1.0007, 1.0038,\n",
       "                       1.0139, 1.0052, 0.9819, 1.0046, 1.0250, 1.0031, 1.0182, 1.0122, 1.0106,\n",
       "                       1.0044, 1.0012, 1.0053, 1.0085, 0.9960, 1.0124, 1.0056, 1.0149, 1.0126,\n",
       "                       1.0091, 1.0103, 0.9957, 0.9982, 1.0220, 1.0083, 0.9924, 1.0149, 1.0154,\n",
       "                       0.9932, 1.0178, 1.0029, 1.0048, 1.0019, 1.0109, 0.9957, 1.0023, 0.9996,\n",
       "                       1.0102, 1.0027, 0.9953, 1.0133, 1.0078, 0.9957, 0.9987, 1.0088, 1.0006,\n",
       "                       1.0178, 1.0109, 1.0154, 0.9997, 1.0065, 1.0016, 1.0161, 1.0052, 1.0217,\n",
       "                       1.0069, 1.0104, 1.0027, 0.9985, 0.9993, 1.0103, 1.0131, 1.0022, 1.0035,\n",
       "                       1.0100, 1.0129, 1.0041, 0.9995, 1.0320, 1.0082, 0.9970, 1.0106, 1.0141,\n",
       "                       1.0016, 1.0084, 1.0155, 1.0101, 1.0084, 0.9998, 1.0144, 0.9982, 1.0039,\n",
       "                       1.0015, 1.0040, 0.9989, 0.9939, 1.0092, 1.0119, 0.9972, 1.0016, 1.0061,\n",
       "                       1.0169, 1.0036, 1.0056, 1.0006, 0.9995, 1.0018, 1.0078, 0.9999, 1.0052,\n",
       "                       1.0025, 1.0032, 0.9951, 1.0101, 1.0007, 1.0002, 1.0131, 1.0099, 1.0164,\n",
       "                       0.9938, 1.0018, 1.0121, 0.9909, 1.0222, 1.0127, 1.0066, 1.0168, 1.0010,\n",
       "                       1.0056, 0.9979, 1.0056, 1.0160, 0.9997, 1.0026, 1.0028, 1.0089, 1.0023,\n",
       "                       0.9993, 1.0009, 1.0041, 1.0080, 1.0167, 1.0214, 1.0100, 0.9961, 1.0057,\n",
       "                       1.0028, 1.0111, 1.0040, 1.0035, 1.0053, 1.0144, 1.0210, 1.0099, 1.0125,\n",
       "                       1.0090, 0.9948, 1.0065, 1.0083, 1.0125, 1.0075, 0.9996, 1.0009, 1.0496,\n",
       "                       0.9996, 1.0119, 0.9876, 1.0096, 1.0178, 1.0049, 0.9955, 1.0019, 1.0076,\n",
       "                       1.0065, 0.9980, 0.9995, 1.0029, 1.0003, 1.0026, 0.9972, 1.0027, 1.0147,\n",
       "                       1.0122, 1.0015, 1.0119, 0.9838, 1.0133, 1.0086, 1.0058, 0.9979, 0.9985,\n",
       "                       1.0163, 1.0085, 1.0024, 1.0063, 1.0072, 1.0070, 1.0096, 0.9925, 1.0002,\n",
       "                       0.9969, 0.9999, 1.0165, 1.0044, 1.0145, 1.0083, 1.0021, 1.0241, 1.0151,\n",
       "                       0.9986, 1.0110, 1.0031, 0.9931, 1.0176, 1.0095, 1.0146, 1.0120, 1.0001,\n",
       "                       1.0027, 0.9895, 1.0065, 1.0133, 0.9997, 0.9974, 0.9924, 0.9945, 1.0278,\n",
       "                       0.9974, 1.0086, 1.0036, 1.0148, 0.9992, 1.0143, 1.0007, 1.0035, 1.0073,\n",
       "                       1.0056, 1.0067, 1.0107, 1.0185, 1.0018, 0.9956, 1.0099, 1.0053, 1.0032,\n",
       "                       1.0099, 1.0244, 1.0138, 1.0063, 1.0186, 1.0070, 1.0052, 1.0110, 1.0117,\n",
       "                       0.9976, 1.0034, 1.0118, 0.9889, 1.0090, 1.0136, 0.9881, 1.0083, 1.0028,\n",
       "                       1.0213, 1.0309, 0.9966, 1.0001, 1.0013, 1.0258, 1.0206, 1.0019, 1.0180,\n",
       "                       1.0054, 1.0035, 1.0293, 1.0045, 1.0142, 1.0119, 1.0125, 1.0081, 1.0054,\n",
       "                       1.0062, 1.0144, 0.9996, 1.0072, 1.0160, 1.0113, 1.0092, 1.0006, 0.9960,\n",
       "                       1.0182, 1.0062, 0.9911, 1.0146, 0.9997, 0.9987, 1.0112, 1.0058, 1.0078,\n",
       "                       1.0017, 0.9879, 1.0036, 0.9973, 1.0097, 1.0012, 1.0028, 1.0048, 1.0058,\n",
       "                       0.9934, 0.9982, 1.0089, 1.0016, 0.9941, 1.0170, 1.0108, 0.9990, 1.0025,\n",
       "                       1.0002, 1.0005, 1.0078, 1.0203, 0.9985, 1.0047, 1.0157, 1.0065, 1.0092,\n",
       "                       1.0045, 1.0097, 1.0060, 1.0078, 1.0048, 1.0266, 1.0050, 0.9834, 1.0016,\n",
       "                       1.0023, 1.0106, 0.9964, 1.0021, 0.9937, 1.0001, 1.0094, 1.0027, 1.0029,\n",
       "                       1.0050, 1.0159, 1.0248, 0.9935, 1.0039, 1.0066, 1.0090, 1.0079, 0.9995,\n",
       "                       0.9795, 1.0058, 1.0025, 1.0226, 0.9889, 1.0022, 0.9994, 1.0070, 1.0023,\n",
       "                       1.0085, 0.9987, 1.0031, 0.9937, 1.0096, 1.0155, 1.0127, 1.0101, 1.0088,\n",
       "                       1.0070, 1.0062, 1.0025, 1.0083, 1.0061, 1.0118, 1.0013, 1.0132, 1.0202,\n",
       "                       1.0103, 0.9997, 1.0103, 0.9946, 1.0035, 1.0127, 1.0022, 1.0112, 1.0053,\n",
       "                       1.0221, 1.0066, 1.0055, 1.0028, 1.0101, 0.9980, 1.0072, 0.9920, 1.0029,\n",
       "                       1.0051, 0.9991, 1.0018, 1.0065, 1.0048, 1.0149, 1.0052, 1.0070, 0.9924,\n",
       "                       1.0022, 1.0019, 1.0069, 1.0059, 1.0005, 1.0124, 1.0066, 1.0009, 0.9982,\n",
       "                       1.0050, 1.0105, 1.0120, 0.9928, 1.0060, 0.9966, 1.0110, 1.0297, 1.0070,\n",
       "                       1.0003, 1.0045, 1.0159, 1.0064, 1.0067, 1.0033, 1.0063, 0.9948, 1.0053,\n",
       "                       1.0072, 1.0042, 1.0083, 1.0061, 1.0225, 1.0014, 1.0105, 1.0261, 1.0023,\n",
       "                       1.0107, 1.0140, 1.0083, 1.0178, 1.0032, 1.0031, 0.9998, 1.0012, 1.0043,\n",
       "                       1.0017, 1.0179, 0.9922, 1.0031, 1.0004, 1.0054, 1.0227, 1.0042, 1.0018,\n",
       "                       1.0135, 1.0087, 1.0060, 1.0076, 1.0088, 1.0040, 0.9996, 1.0105, 1.0114,\n",
       "                       1.0177, 1.0008, 1.0034, 0.9989, 1.0122, 1.0115, 0.9961, 1.0014, 1.0078,\n",
       "                       0.9995, 1.0152, 1.0010, 1.0001, 1.0157, 1.0219, 0.9956, 1.0060, 1.0071,\n",
       "                       1.0020, 1.0035, 0.9948, 1.0093, 1.0102, 1.0202, 0.9991, 0.9937, 0.9987,\n",
       "                       1.0005, 1.0007, 1.0030, 1.0032, 1.0108, 1.0049, 1.0098, 1.0057, 1.0079,\n",
       "                       0.9899, 1.0072, 1.0130, 1.0094, 1.0062, 1.0009, 1.0111, 1.0017, 1.0025,\n",
       "                       1.0014, 1.0157, 1.0012, 0.9978, 1.0062, 1.0026, 1.0065, 1.0024, 1.0081,\n",
       "                       0.9979, 1.0070, 0.9981, 1.0176, 1.0006, 1.0090, 0.9934, 1.0174, 1.0107,\n",
       "                       1.0149, 1.0006, 1.0048, 1.0129, 1.0200, 1.0005, 0.9999, 1.0070, 0.9974,\n",
       "                       1.0266, 1.0101, 1.0187, 1.0071, 1.0155, 1.0151, 1.0021, 1.0027, 1.0047,\n",
       "                       1.0079, 1.0010, 1.0032, 1.0124, 1.0121, 1.0064, 1.0009, 0.9997, 1.0057,\n",
       "                       1.0005, 1.0218, 1.0069, 1.0079, 1.0078, 1.0037, 1.0175, 1.0117, 1.0005,\n",
       "                       1.0024, 1.0110, 0.9955, 1.0010, 1.0058, 1.0248, 1.0075, 1.0154, 1.0075,\n",
       "                       1.0065, 0.9905, 1.0020, 1.0021, 1.0041, 1.0246, 0.9943, 1.0005, 0.9910,\n",
       "                       1.0149, 1.0189, 1.0041, 1.0124, 1.0104, 1.0197, 1.0115, 0.9999, 1.0130,\n",
       "                       1.0154, 1.0067, 1.0069, 1.0033, 1.0134, 1.0044, 1.0145, 0.9996, 0.9937,\n",
       "                       0.9956, 0.9994, 1.0029, 1.0094, 1.0121, 1.0024, 1.0115, 1.0105, 1.0103,\n",
       "                       0.9984, 1.0068, 1.0056, 0.9967, 0.9920, 1.0019, 1.0104, 1.0069, 1.0035,\n",
       "                       1.0141, 1.0245, 1.0110, 0.9992, 0.9996, 1.0116, 1.0115, 1.0099, 1.0148,\n",
       "                       1.0127, 1.0111, 1.0024, 0.9963, 1.0141, 1.0149, 1.0117, 1.0021, 1.0224,\n",
       "                       1.0177, 0.9935, 0.9986, 1.0201, 0.9950, 1.0012, 1.0103, 1.0145, 1.0081,\n",
       "                       1.0077, 1.0035, 1.0120, 1.0051, 1.0064, 1.0146, 1.0107, 1.0001, 1.0063,\n",
       "                       1.0052, 1.0023, 0.9993, 1.0089, 1.0194, 1.0060, 1.0070, 1.0205, 0.9960,\n",
       "                       1.0095, 1.0031, 1.0083, 0.9903, 1.0150, 1.0070, 0.9933, 1.0121, 0.9976,\n",
       "                       1.0014, 1.0007, 1.0041, 1.0083, 1.0081, 1.0043, 1.0051, 1.0005, 1.0089,\n",
       "                       0.9926, 1.0164, 1.0073, 1.0062, 1.0134, 1.0166, 1.0082, 1.0055, 0.9995,\n",
       "                       0.9925, 1.0154, 1.0192, 1.0107, 1.0019, 0.9935, 1.0010, 1.0044, 1.0099,\n",
       "                       1.0128, 1.0128, 1.0030, 0.9992, 1.0080, 0.9997, 1.0131, 0.9998, 1.0134,\n",
       "                       1.0098, 1.0121, 1.0172, 0.9972, 0.9999, 1.0144, 0.9900, 1.0195, 1.0048,\n",
       "                       1.0032, 1.0058, 1.0098, 1.0195, 1.0010, 1.0056, 1.0177, 1.0061, 1.0065,\n",
       "                       0.9951, 1.0035, 1.0163, 1.0111, 1.0200, 0.9950, 1.0213, 1.0107, 1.0045,\n",
       "                       1.0073, 1.0053, 1.0075, 1.0074, 1.0149, 1.0018, 1.0135, 1.0027, 1.0035,\n",
       "                       1.0032, 1.0090, 0.9965, 1.0197, 1.0054, 1.0022, 1.0085, 1.0035, 1.0192,\n",
       "                       0.9968, 1.0091, 1.0223, 1.0119, 1.0067, 1.0160, 0.9972, 0.9990, 0.9927,\n",
       "                       0.9950, 1.0025, 0.9998, 1.0375, 1.0041, 1.0139, 1.0043, 0.9970, 1.0071,\n",
       "                       1.0649, 1.0024, 1.0726, 1.0187, 1.0046, 1.0366, 1.0226, 1.0465, 1.0209,\n",
       "                       1.0158, 0.9913, 0.9987, 1.0173, 1.0000, 1.0029, 1.0081, 1.0052, 1.0097,\n",
       "                       0.9953, 1.0035, 1.0624, 1.0000, 0.9988, 1.0058, 1.0055, 1.0169, 1.0981,\n",
       "                       1.0171, 1.0027, 1.0301, 1.0462, 1.0102, 0.9994, 1.0269, 1.0042, 1.0500,\n",
       "                       0.9920, 0.9976, 0.9897, 1.0259, 0.9940, 0.9978, 1.0092, 1.0270, 1.0116,\n",
       "                       1.0087, 1.0018, 1.0626, 1.0198, 1.0051, 0.9997, 1.0150, 1.0066, 0.9917,\n",
       "                       1.0214, 1.0060, 0.9856, 1.0093, 1.0021, 1.0003, 1.0357, 0.9973, 1.0116,\n",
       "                       1.0047, 1.0075, 1.0045, 1.0112, 0.9909, 0.9882], device='cuda:0')),\n",
       "              ('model.models.0.0.bias',\n",
       "               tensor([-1.4049e-02,  1.2571e-02,  1.8081e-03,  7.4178e-04, -1.2020e-02,\n",
       "                        6.8855e-03, -2.2323e-02,  1.6866e-02,  8.4317e-03,  3.5832e-03,\n",
       "                        1.2812e-02,  8.5877e-03, -9.2435e-03, -4.7676e-03,  3.0994e-03,\n",
       "                        6.8585e-03,  5.0820e-04, -1.1932e-02, -1.4711e-03,  2.0270e-02,\n",
       "                        1.6917e-03, -1.1496e-02,  1.2405e-02,  2.7999e-03, -1.0480e-02,\n",
       "                        8.7788e-03, -1.4409e-02,  7.0069e-03,  1.0198e-02,  4.0352e-04,\n",
       "                        1.2913e-02, -5.0060e-03,  1.5772e-02, -1.9958e-03, -1.1897e-03,\n",
       "                       -5.1489e-03,  6.8838e-03,  1.9344e-03,  5.6890e-03,  7.9448e-03,\n",
       "                        3.2301e-04,  1.5883e-02, -1.0045e-02,  6.8948e-03,  4.6843e-03,\n",
       "                        1.1615e-02, -1.8328e-02, -1.0830e-02, -5.3467e-03,  7.9186e-03,\n",
       "                        4.0722e-03, -7.2179e-03, -6.1724e-03, -1.0765e-02,  1.0587e-03,\n",
       "                        9.7304e-03,  1.2015e-02, -6.4821e-03,  1.1648e-02,  1.7441e-02,\n",
       "                        6.4476e-04,  1.3604e-02,  9.1248e-04,  1.1859e-02,  7.2708e-03,\n",
       "                        2.0973e-02, -3.0920e-03,  9.5432e-03, -1.7686e-04, -1.0343e-02,\n",
       "                       -1.0824e-02,  1.4940e-03,  9.7703e-03,  1.2430e-03, -4.0893e-03,\n",
       "                        7.3270e-03,  1.2459e-02, -1.2280e-02, -6.0460e-03, -8.8049e-04,\n",
       "                       -5.0245e-03,  1.2888e-04,  5.3974e-03,  5.6481e-06,  1.0601e-02,\n",
       "                        2.1266e-02, -2.9161e-04,  2.8346e-03,  9.9844e-03, -5.0382e-03,\n",
       "                       -1.3166e-02,  9.6308e-03, -1.5269e-02,  8.6441e-03,  7.6188e-03,\n",
       "                       -4.1295e-03, -7.5824e-03,  5.6393e-04, -7.8336e-04, -3.2962e-04,\n",
       "                        9.7728e-03, -1.3251e-02, -1.0630e-03, -1.0231e-02,  7.6042e-03,\n",
       "                       -2.8380e-03,  2.3403e-03,  5.6199e-04, -1.5514e-02,  1.0320e-02,\n",
       "                       -1.1907e-02,  1.5848e-02,  1.2702e-02, -1.8804e-02, -4.4889e-03,\n",
       "                        3.2643e-03,  1.0685e-02,  3.8230e-03, -9.3229e-03,  1.3738e-02,\n",
       "                       -5.6301e-03,  1.3993e-02, -1.4784e-02, -9.7850e-03, -2.0529e-03,\n",
       "                        1.5490e-02,  1.3940e-02,  7.4764e-03,  1.0411e-02, -6.2603e-03,\n",
       "                       -1.4681e-02, -8.2373e-03,  1.2626e-02,  7.8913e-03, -7.3606e-03,\n",
       "                        8.5136e-03,  1.9459e-03, -1.2817e-02, -1.0768e-02,  4.9009e-03,\n",
       "                        1.0020e-02, -1.7370e-02,  6.7103e-03, -1.7184e-02, -2.5170e-03,\n",
       "                        9.0998e-05, -4.6126e-03,  1.5114e-02,  1.3418e-02, -1.2272e-02,\n",
       "                        6.7683e-03,  2.2687e-03, -5.7444e-03, -3.9309e-03, -1.5297e-02,\n",
       "                        7.6238e-03, -5.0862e-03,  8.4142e-03, -8.5146e-03, -4.4671e-03,\n",
       "                       -1.3942e-02, -6.8768e-03, -1.0248e-03,  3.8290e-03,  1.0672e-02,\n",
       "                        8.6676e-03,  1.1433e-02,  9.6771e-03, -6.1739e-03, -7.0123e-03,\n",
       "                       -3.4894e-03, -1.2133e-02, -5.3231e-03,  5.8424e-03, -1.1727e-02,\n",
       "                       -1.1101e-02, -9.4338e-03,  4.2492e-03, -1.4106e-03,  9.9706e-03,\n",
       "                       -6.2750e-03, -6.6075e-03,  6.6550e-03, -4.7691e-04,  8.3438e-04,\n",
       "                       -6.7068e-03,  5.6208e-03,  1.4141e-03,  1.2340e-03, -2.9476e-03,\n",
       "                        1.3955e-02, -1.3364e-02,  3.2469e-03, -1.8583e-02, -1.3635e-02,\n",
       "                        1.4044e-02,  1.2775e-02,  2.6909e-03,  1.2398e-02, -1.3644e-02,\n",
       "                       -6.2127e-03,  1.3503e-02, -1.5370e-02,  1.8101e-02, -1.1639e-02,\n",
       "                        9.0092e-05, -8.6114e-03, -1.3471e-02, -6.2058e-03, -2.4167e-03,\n",
       "                        5.3483e-03, -7.5835e-03,  3.2436e-03,  2.9998e-03, -9.1631e-04,\n",
       "                        1.4255e-03,  1.2594e-02, -7.3760e-03,  1.0903e-02,  1.3110e-02,\n",
       "                       -1.8758e-02, -1.5628e-02,  8.3477e-03, -9.1588e-04,  4.1976e-04,\n",
       "                        9.8426e-03,  1.0121e-02, -7.9787e-03, -8.9549e-03, -4.4506e-03,\n",
       "                        5.7868e-03,  1.4587e-02,  1.3949e-02,  1.1186e-02, -7.2897e-03,\n",
       "                        1.2661e-02,  8.7816e-03,  5.4984e-03,  7.0197e-03,  3.8180e-04,\n",
       "                        9.3988e-03,  6.5643e-03, -1.0801e-02,  7.4894e-03,  1.0691e-02,\n",
       "                       -1.4298e-02,  4.9337e-04, -2.0635e-03, -3.9093e-03,  9.8180e-03,\n",
       "                       -2.5848e-03,  2.8781e-03,  4.8660e-03,  3.5746e-03, -7.3129e-03,\n",
       "                       -1.5191e-02, -1.1813e-02,  4.3084e-03, -1.9591e-02,  1.2981e-02,\n",
       "                       -9.1562e-03, -3.6680e-03,  1.6180e-03, -1.3093e-02,  9.9087e-03,\n",
       "                        1.4560e-02, -1.6464e-02,  5.4129e-03,  9.1737e-03, -2.2587e-03,\n",
       "                       -3.7148e-04,  5.2159e-03,  8.7210e-03,  9.8497e-03, -1.0373e-02,\n",
       "                       -8.2030e-03, -5.7583e-03, -1.0871e-02, -1.2490e-03, -1.3153e-02,\n",
       "                        9.1216e-03, -1.2234e-02, -2.5562e-03,  1.7046e-03, -2.9215e-03,\n",
       "                        3.9970e-03, -7.5079e-03, -3.8231e-03,  5.3740e-03,  1.7630e-02,\n",
       "                        8.2033e-03, -1.3998e-02,  1.2021e-02,  4.8391e-03, -8.6729e-03,\n",
       "                       -9.3488e-03,  7.5632e-03,  3.3686e-03, -5.7291e-03, -1.1597e-02,\n",
       "                       -1.0506e-02,  4.2476e-03, -1.6376e-03, -6.5364e-03, -2.4959e-03,\n",
       "                        7.8160e-03, -6.1547e-03,  3.8774e-03,  1.4544e-03,  4.3803e-03,\n",
       "                       -1.5194e-02, -1.2107e-02, -1.0144e-02,  3.3246e-03,  2.6748e-03,\n",
       "                       -2.1201e-03, -6.9237e-03, -5.7100e-03, -8.4219e-03,  2.4024e-02,\n",
       "                       -4.6060e-03, -1.0120e-02, -4.2343e-03, -1.4496e-02, -4.2369e-03,\n",
       "                       -4.4361e-03,  2.7315e-03, -1.3111e-02,  9.2764e-03,  4.8391e-03,\n",
       "                       -1.9005e-02,  1.1123e-02, -2.0327e-03,  8.7136e-03,  1.0129e-03,\n",
       "                       -7.1599e-03, -1.1588e-02, -1.3682e-02,  6.6932e-03, -1.7191e-02,\n",
       "                       -1.7531e-02,  1.4139e-02,  1.2342e-02, -2.7685e-03,  2.0878e-03,\n",
       "                       -5.2505e-03, -2.8959e-03, -2.6107e-03,  4.0073e-03, -1.0999e-02,\n",
       "                        6.6321e-03,  1.3643e-03,  4.0401e-03,  4.2073e-03, -1.2722e-02,\n",
       "                       -8.8137e-03,  2.3391e-02,  1.5821e-02,  2.0481e-03, -6.8331e-03,\n",
       "                        2.3086e-03, -1.6784e-02, -6.4359e-03, -8.6421e-03,  9.8818e-03,\n",
       "                       -6.0800e-03, -5.9225e-03, -1.9122e-03, -2.6812e-03,  1.0817e-02,\n",
       "                       -1.3712e-02, -6.0346e-03, -7.3422e-04,  2.0153e-03,  3.8107e-03,\n",
       "                       -9.5327e-04, -6.2561e-04, -9.1004e-04, -1.4194e-02,  2.8218e-03,\n",
       "                        6.8110e-03,  8.4444e-03,  1.1244e-02, -4.5519e-03, -1.0217e-02,\n",
       "                       -9.4338e-03,  1.6207e-02, -1.2455e-02,  8.6536e-03, -1.3039e-03,\n",
       "                        1.2043e-03, -4.1329e-03,  1.3781e-02, -2.0779e-03, -5.2481e-03,\n",
       "                        4.3270e-03, -1.1243e-04, -2.4763e-03,  7.6671e-03,  6.9116e-03,\n",
       "                       -1.8641e-02, -4.3799e-03,  1.5359e-02,  3.5305e-03, -2.4551e-03,\n",
       "                        2.8930e-03, -1.7882e-02,  2.0803e-02, -1.0871e-02,  1.1181e-02,\n",
       "                       -6.6084e-03, -4.6144e-03,  1.3401e-03, -9.9642e-03,  1.2748e-02,\n",
       "                        4.4246e-04,  1.0123e-02,  1.5694e-02,  1.2756e-02, -9.0984e-03,\n",
       "                       -4.3760e-03, -7.6702e-03, -1.0409e-02,  6.8028e-03,  1.0071e-02,\n",
       "                       -1.7480e-02,  1.5583e-02, -7.5425e-03, -2.3442e-03,  2.3856e-03,\n",
       "                       -1.2117e-02,  1.2210e-02, -6.0922e-03,  3.7532e-03,  4.9077e-03,\n",
       "                        4.4272e-03, -4.2404e-03,  2.4812e-04,  2.3629e-02,  1.0355e-02,\n",
       "                       -5.6902e-03,  2.7293e-03, -4.2597e-03, -8.1568e-03,  9.6261e-03,\n",
       "                        9.0263e-03, -6.1988e-03, -1.3079e-02,  2.7655e-03,  2.1142e-02,\n",
       "                        1.2698e-02, -7.9485e-03,  1.1352e-02,  1.6390e-02,  1.3817e-02,\n",
       "                       -1.1047e-02, -3.9381e-03,  4.4178e-03, -6.2330e-03,  1.3324e-02,\n",
       "                       -7.9098e-03, -3.1215e-03,  4.9314e-03,  1.9882e-02,  1.5803e-03,\n",
       "                        1.6288e-02, -6.5268e-03, -1.2885e-03, -2.3996e-03,  7.7188e-03,\n",
       "                        5.4086e-03, -5.2216e-03, -7.7097e-03,  1.1537e-02,  2.7333e-03,\n",
       "                       -1.4405e-03,  1.1853e-02,  1.0523e-02, -4.9680e-04, -1.2880e-03,\n",
       "                        9.6733e-03,  9.3888e-03, -7.8102e-03, -1.9023e-03,  4.8104e-03,\n",
       "                        1.2546e-02, -1.3020e-02, -2.6866e-04,  1.4262e-04, -1.4405e-03,\n",
       "                        9.4473e-03, -2.2110e-02, -4.2188e-03, -1.5521e-02,  8.2445e-03,\n",
       "                        1.7795e-02, -4.8508e-05,  5.3336e-03, -9.2584e-03,  7.8748e-04,\n",
       "                       -1.0285e-02,  8.4528e-03,  3.3886e-03, -3.8313e-03, -7.7547e-03,\n",
       "                        3.2015e-03, -1.3035e-02,  4.3284e-04, -8.8258e-03,  7.7564e-03,\n",
       "                        4.3569e-03, -3.2885e-03, -8.9955e-03, -6.6988e-03, -9.0467e-03,\n",
       "                       -1.1052e-02, -4.5915e-03,  6.1986e-03, -7.4339e-03, -9.6048e-03,\n",
       "                       -6.6058e-03,  1.0344e-02,  1.2565e-03,  9.2852e-03,  9.5044e-03,\n",
       "                       -1.2378e-02, -1.1758e-02,  8.6280e-03, -1.1393e-02, -1.2588e-02,\n",
       "                       -4.5256e-03,  9.6440e-03,  8.5758e-03,  2.7805e-03, -7.4814e-03,\n",
       "                       -8.6995e-03,  1.1069e-03, -6.2029e-03,  1.2150e-02, -1.0636e-03,\n",
       "                       -1.4109e-02,  1.1759e-02, -4.4850e-03,  2.5532e-03,  1.6819e-02,\n",
       "                       -5.6473e-03, -6.2278e-03, -8.8788e-03,  1.1262e-02, -1.4433e-03,\n",
       "                       -1.3208e-02,  8.7019e-03,  1.2878e-02,  5.6219e-03, -1.4680e-03,\n",
       "                        1.3879e-02,  7.1407e-03, -5.8023e-03,  5.9433e-03, -1.4914e-03,\n",
       "                       -1.4571e-02,  9.3099e-03,  1.4860e-03, -4.9343e-03, -5.6007e-03,\n",
       "                       -5.6888e-03,  1.4367e-02,  4.5544e-03,  2.0489e-02,  2.0055e-02,\n",
       "                        6.9535e-03, -6.5925e-03, -9.0187e-03,  5.5516e-03,  7.8545e-03,\n",
       "                        9.6874e-03, -1.7945e-02, -6.0164e-03,  2.0238e-02, -1.1747e-02,\n",
       "                       -3.0894e-03,  8.2469e-03, -3.1621e-03,  1.4802e-03, -6.4472e-03,\n",
       "                       -6.0578e-03, -1.1013e-03,  7.1697e-03,  2.1321e-02, -6.1116e-03,\n",
       "                       -1.9956e-02, -3.2116e-03, -2.5108e-04, -1.0810e-02,  5.8080e-03,\n",
       "                        1.4170e-02, -7.6488e-03, -7.7980e-03,  1.6001e-02, -9.7701e-03,\n",
       "                       -9.9766e-03, -1.0121e-02, -5.7881e-03,  1.2178e-03,  1.2142e-03,\n",
       "                       -1.0283e-03, -5.5132e-03, -2.1917e-02, -3.5600e-03,  1.3510e-02,\n",
       "                        7.5361e-04, -1.4006e-02,  1.4981e-02, -1.0805e-02, -1.1760e-02,\n",
       "                       -1.5367e-02,  1.1801e-03, -5.7067e-03,  7.3443e-03, -4.1769e-03,\n",
       "                        8.6255e-03, -6.0628e-03,  1.4387e-03,  1.1214e-03, -1.3573e-02,\n",
       "                       -1.1707e-02,  6.1440e-03,  1.1937e-02, -4.8304e-03, -3.4477e-03,\n",
       "                       -9.0014e-03,  3.4981e-03,  1.1656e-02,  1.4340e-02, -7.2112e-04,\n",
       "                        6.5685e-03, -5.0217e-04,  6.1396e-03,  7.5779e-03,  1.5054e-02,\n",
       "                       -7.0010e-03, -1.1842e-02, -1.3786e-02,  7.7655e-03, -8.6684e-03,\n",
       "                        1.6187e-02,  3.9016e-03, -9.0064e-04,  7.8398e-03, -1.0884e-02,\n",
       "                       -3.0343e-03,  9.5068e-03, -6.9522e-03,  1.1868e-02, -5.8404e-03,\n",
       "                        9.9337e-03,  5.7240e-03,  1.2518e-02,  5.7574e-05, -6.8623e-03,\n",
       "                       -3.8006e-03, -8.3294e-03,  8.6147e-03,  1.9560e-04,  1.3234e-02,\n",
       "                        7.5173e-03, -4.1068e-03, -1.0693e-02,  1.6778e-02, -6.5616e-04,\n",
       "                       -1.8026e-02, -9.4238e-03,  2.6224e-03,  3.1314e-03,  1.1878e-04,\n",
       "                       -1.1819e-02, -1.3447e-02, -3.1879e-03,  8.3630e-04, -7.5037e-03,\n",
       "                        1.8469e-03, -1.7658e-02, -8.8025e-03,  8.6041e-03, -9.1659e-03,\n",
       "                        4.8687e-04, -1.1586e-02,  8.2344e-03,  5.0472e-03,  6.4676e-03,\n",
       "                        1.2473e-02, -3.8987e-03,  1.3054e-02, -1.0511e-02,  3.7194e-03,\n",
       "                       -5.7375e-03, -7.7260e-03, -1.9673e-02, -1.7529e-03, -7.7016e-03,\n",
       "                       -1.5064e-02, -1.0251e-03,  3.4402e-03,  4.0800e-03, -1.1996e-02,\n",
       "                       -1.8741e-02,  3.9675e-03, -1.4226e-03, -8.8650e-03, -1.1070e-02,\n",
       "                        1.0678e-02,  7.5544e-03,  1.1171e-03,  1.0537e-03, -5.8628e-03,\n",
       "                       -1.2721e-03,  5.2536e-03, -4.7769e-03,  3.6200e-03,  1.1628e-02,\n",
       "                       -2.3616e-02,  1.0732e-02, -7.6474e-03,  1.6786e-03,  2.7041e-03,\n",
       "                        1.5366e-02,  9.0499e-03, -6.6449e-03,  1.2062e-02, -1.3982e-02,\n",
       "                       -8.9068e-03,  2.4831e-04, -3.2987e-03, -7.2857e-03,  2.7419e-03,\n",
       "                        3.0066e-03, -1.7541e-03, -1.3271e-02, -9.5810e-03,  4.8230e-03,\n",
       "                       -1.6354e-02,  1.5558e-02,  2.7995e-03,  9.7204e-03, -1.1158e-02,\n",
       "                        1.3649e-02, -8.8560e-03,  6.4211e-03, -8.7596e-03, -1.1437e-03,\n",
       "                        1.2293e-02, -2.0420e-02,  1.4360e-02, -8.8268e-03, -1.1759e-02,\n",
       "                        4.3077e-03, -1.1014e-02, -5.5153e-03,  8.5057e-03, -8.9659e-04,\n",
       "                       -3.5772e-03, -1.0397e-02, -5.7505e-03, -1.2083e-02, -7.0626e-05,\n",
       "                        1.4563e-03,  1.7827e-03, -2.0316e-02,  3.7678e-03,  8.6056e-03,\n",
       "                       -9.2399e-03, -5.2271e-03,  6.6871e-03,  8.6350e-03, -1.0353e-02,\n",
       "                       -4.6516e-03,  1.2663e-02, -1.1075e-02, -1.2117e-02, -1.6790e-02,\n",
       "                       -5.5799e-03, -1.5005e-02, -1.1111e-03, -1.1248e-02,  1.6609e-02,\n",
       "                        1.5493e-02,  3.2122e-03, -6.8287e-03,  6.1473e-03, -1.6858e-02,\n",
       "                       -8.6240e-03,  1.2674e-03, -1.8028e-02, -1.2302e-02, -1.5335e-02,\n",
       "                        1.7299e-02, -8.7483e-03, -1.2715e-02, -4.6751e-03, -1.2391e-02,\n",
       "                       -1.1290e-02, -1.3955e-02, -1.0164e-02,  4.7131e-03, -2.6799e-03,\n",
       "                        1.8034e-03,  2.9846e-03,  8.4097e-03, -9.0661e-04,  1.0262e-02,\n",
       "                       -7.4084e-03,  7.8432e-03,  5.5547e-03, -5.8022e-03,  8.9538e-03,\n",
       "                       -3.7953e-03, -1.0562e-02,  4.6232e-03,  2.3706e-04, -2.6439e-03,\n",
       "                       -5.0950e-03, -5.5570e-03, -1.1237e-02, -5.5849e-03, -1.0927e-02,\n",
       "                        6.8811e-03, -9.9883e-03, -1.4214e-02, -1.5204e-02, -1.6122e-02,\n",
       "                        5.5388e-03, -1.1285e-02,  2.8567e-03, -2.3793e-03, -2.6701e-03,\n",
       "                        7.0029e-03,  6.8111e-04,  9.0771e-05, -8.6176e-03,  1.1008e-02,\n",
       "                       -1.0217e-02, -1.0221e-02, -7.1562e-03], device='cuda:0')),\n",
       "              ('model.models.0.0.running_mean',\n",
       "               tensor([ 9.8210e-01,  9.3805e-01, -2.0219e-01, -1.4307e-01,  8.8426e-01,\n",
       "                       -1.0566e+00, -5.2090e-01, -1.1543e+00, -1.6924e+00,  7.5543e-01,\n",
       "                        1.1933e+00,  1.3661e+00,  7.7243e-02, -5.4255e-01, -8.9440e-01,\n",
       "                        6.1734e-01,  8.6974e-01, -5.0750e-01,  1.4672e+00,  5.1022e-01,\n",
       "                       -2.0283e-01, -1.2540e+00,  4.8986e-01,  2.6119e-01,  2.2372e+00,\n",
       "                        6.9018e-03, -3.9457e-01,  2.7503e+00,  1.8438e-01, -9.5324e-01,\n",
       "                        1.4534e+00, -1.5337e-01,  1.2343e-01, -1.8682e-01,  4.4722e-01,\n",
       "                       -1.1321e+00, -6.4513e-01, -2.2843e-03,  3.7250e-01,  3.2334e-01,\n",
       "                       -4.3346e-02, -4.7668e-02,  1.3870e-01, -4.8358e-01, -6.0725e-02,\n",
       "                        4.2871e-01,  5.3810e-01, -3.1454e-01, -6.9992e-01, -5.1473e-01,\n",
       "                       -8.7694e-01, -2.1256e-01, -6.5494e-02,  7.2137e-01,  3.2008e-01,\n",
       "                        3.4594e-01,  3.6777e-01,  5.2211e-01,  1.5214e+00,  1.2575e-01,\n",
       "                        6.7909e-01,  1.4535e+00,  6.0047e-01, -1.0346e+00,  7.7995e-01,\n",
       "                        3.0898e-01, -2.6208e-01,  1.0491e-01, -9.1885e-01,  3.0635e-01,\n",
       "                        7.5633e-01, -1.2643e+00, -6.7559e-01,  3.2402e-01,  2.8028e-01,\n",
       "                       -7.7575e-01, -4.4445e-01, -1.0799e+00,  1.5539e-01,  5.4578e-01,\n",
       "                        1.9501e-02,  8.2683e-01, -7.0135e-01,  2.3432e-01,  3.9259e-01,\n",
       "                        8.1973e-01,  2.0346e+00, -3.8560e-01, -2.5065e-02,  8.1589e-01,\n",
       "                        5.2652e-01, -1.6759e+00, -7.0493e-01, -3.9751e-01,  7.2431e-01,\n",
       "                       -1.3524e+00, -5.8320e-01, -2.6111e-01,  1.9944e-01, -7.7698e-01,\n",
       "                        8.7715e-01,  2.9452e-03, -5.3215e-01,  3.7947e-01,  2.5441e-01,\n",
       "                        1.8796e-01,  2.7388e-01, -5.6177e-01, -1.4260e+00, -1.4986e+00,\n",
       "                        1.4198e+00, -3.6349e-01, -5.1779e-01,  1.1932e-01, -8.2582e-01,\n",
       "                       -5.6597e-01,  7.3080e-01,  1.9765e-01,  6.4201e-01,  6.6324e-01,\n",
       "                       -3.0048e-01, -4.4133e-01, -1.4313e+00, -1.0966e-01, -6.1716e-01,\n",
       "                        3.8678e-01, -1.5441e+00,  7.4190e-02, -5.8955e-01,  7.5482e-01,\n",
       "                        7.6106e-01,  9.9759e-02,  7.3377e-01,  1.0035e+00, -6.8321e-01,\n",
       "                        3.6511e-01,  5.7590e-01,  1.6009e-01,  2.5338e-01,  1.5327e+00,\n",
       "                        9.7011e-01,  1.3169e+00,  4.4585e-01, -8.4888e-02, -7.4249e-01,\n",
       "                        2.0523e-01,  2.2393e+00, -2.3722e-03,  2.9480e-01, -7.0085e-01,\n",
       "                        2.3055e-01, -8.9591e-01,  5.4105e-01,  7.6986e-01, -2.9083e-01,\n",
       "                        4.8684e-01,  1.2024e+00,  8.3950e-01,  4.6604e-01,  8.0105e-01,\n",
       "                       -9.4450e-01, -3.5312e-01, -4.8445e-01,  5.0633e-01, -8.9678e-01,\n",
       "                        1.2296e+00, -8.6177e-01, -1.4432e+00, -9.5814e-03, -1.2177e-01,\n",
       "                       -3.0543e-01, -8.1602e-02,  4.5164e-01, -6.2177e-02,  2.0467e-01,\n",
       "                       -4.9053e-01, -8.2411e-01, -7.0276e-01, -3.9567e-02,  4.0496e-01,\n",
       "                        3.6309e-01,  1.9314e-01, -2.0887e+00,  6.9221e-01,  1.9865e-01,\n",
       "                       -5.1567e-01, -1.0589e+00, -4.8644e-01, -8.9919e-02, -4.8299e-01,\n",
       "                       -2.3749e-01,  2.3684e-01,  3.3625e-01,  2.1057e-01, -7.4558e-01,\n",
       "                        2.7047e-01, -6.2994e-01, -5.3630e-01,  8.3722e-01, -7.8090e-01,\n",
       "                        2.5830e-01,  1.3197e-01, -1.8310e-01,  5.5666e-01, -5.5728e-01,\n",
       "                       -4.1938e-02, -1.9311e-01, -1.1599e+00,  8.4714e-01,  1.2857e+00,\n",
       "                        1.1868e-01, -3.6619e-01,  3.9976e-01,  3.3294e-01,  1.8885e-01,\n",
       "                       -2.4398e+00, -3.2552e+00,  5.5962e-01, -1.3524e-01,  1.0643e+00,\n",
       "                       -4.9247e-01,  4.1305e-01,  5.5913e-02,  8.9565e-01,  3.1164e-01,\n",
       "                       -2.4207e-01, -3.6666e-01,  1.7486e+00, -4.0572e-01, -1.1707e+00,\n",
       "                       -1.6011e+00,  7.3113e-01, -3.8137e-01,  1.0785e+00, -1.2032e+00,\n",
       "                        1.2458e+00,  5.3249e-01,  4.3497e-01,  8.1290e-01,  1.7839e-01,\n",
       "                       -7.2202e-01,  8.1175e-02,  2.9873e-01, -6.2475e-01,  1.3743e+00,\n",
       "                       -7.2784e-01, -4.4584e-01,  1.0079e+00, -2.6379e-01, -1.1872e+00,\n",
       "                        7.3541e-01,  6.6136e-01,  2.8962e-01, -6.2981e-01, -7.4218e-01,\n",
       "                       -2.2119e-02, -1.8362e+00, -1.8774e-02,  6.3372e-01, -2.8793e-01,\n",
       "                       -1.1495e+00, -6.4727e-01, -1.1154e+00, -3.7298e-01, -5.0678e-01,\n",
       "                       -4.0532e-02, -1.0847e+00,  1.4421e+00, -4.7234e-02,  3.8769e-01,\n",
       "                        7.9078e-01,  4.3182e-01,  1.4986e-01, -1.7686e-01, -3.8827e-02,\n",
       "                       -8.9221e-02, -2.9826e-01,  3.2014e-01,  4.9626e-01, -3.6696e-01,\n",
       "                       -3.8743e-01,  1.5796e+00, -2.5715e-02,  2.8621e-01,  6.7494e-02,\n",
       "                        2.0413e-01,  1.2241e-01,  1.1905e+00,  1.0761e+00,  8.4736e-01,\n",
       "                       -5.8711e-01, -1.0525e+00,  5.7763e-01,  1.3644e+00,  4.0961e-01,\n",
       "                       -7.2786e-01, -1.1788e+00, -3.5206e-01, -7.2341e-01,  4.3359e-01,\n",
       "                       -6.0273e-01,  6.8564e-02,  1.1338e-01,  8.3436e-01,  8.6848e-01,\n",
       "                        6.6363e-02, -1.2833e+00,  6.8069e-01, -1.3549e+00, -4.7626e-02,\n",
       "                        2.3072e-01, -1.8809e+00, -3.3613e-01,  4.1126e-01, -9.7655e-01,\n",
       "                       -1.3181e-01,  9.7360e-01,  1.2185e+00,  7.5149e-01, -3.4700e-01,\n",
       "                       -1.3154e+00, -1.1537e+00,  6.3266e-01,  8.1299e-01, -1.5367e-01,\n",
       "                        8.6783e-01,  9.0563e-01, -5.8598e-01, -1.4391e-01,  3.4215e-02,\n",
       "                        6.9487e-01,  1.9614e-01, -7.6946e-01, -1.1430e+00,  8.8868e-01,\n",
       "                        2.0144e-01, -1.2731e+00, -7.4525e-01, -1.2745e+00,  3.7285e-02,\n",
       "                        5.9002e-01,  1.4820e+00,  1.2547e-01, -9.0311e-01, -5.7260e-01,\n",
       "                        7.2185e-01, -1.1125e+00, -8.0766e-02,  3.9971e-01, -1.2419e-01,\n",
       "                       -3.0206e-02,  2.2100e-01, -2.0311e-01,  5.8600e-01, -1.4198e+00,\n",
       "                        8.4458e-01, -2.2792e-01, -3.7255e-01, -6.9668e-01, -4.9217e-01,\n",
       "                       -1.2060e-01, -3.5698e-02,  6.8682e-01,  8.0143e-01,  1.6117e+00,\n",
       "                       -5.1345e-01, -5.0383e-01,  7.4801e-01,  3.7868e-02, -1.2140e+00,\n",
       "                       -1.1156e+00, -3.7048e-01, -1.4691e+00, -1.2827e-01, -6.0475e-01,\n",
       "                       -3.6326e-01,  8.0212e-01, -1.5291e+00,  6.6055e-01, -1.3391e+00,\n",
       "                        2.8076e-01,  1.3586e+00,  2.0603e-01, -3.7656e-01,  6.9280e-01,\n",
       "                       -3.4571e-01,  3.0315e-01, -1.1799e+00, -9.0778e-02, -5.4225e-01,\n",
       "                       -1.2254e+00,  1.2075e+00, -7.9242e-02, -8.8429e-01, -5.4300e-01,\n",
       "                       -5.3001e-01,  1.2734e+00, -6.5153e-01, -7.3643e-01,  6.3465e-01,\n",
       "                       -3.9035e-01,  2.0381e+00, -1.7419e-01, -1.0611e+00,  3.7011e-01,\n",
       "                        2.6826e-02, -9.5931e-01,  4.6448e-01, -5.1003e-01,  1.4832e+00,\n",
       "                       -3.2436e-01,  3.6842e-01,  2.2943e-01, -5.3444e-01, -5.3523e-01,\n",
       "                       -2.3918e-01,  1.8546e-01,  1.7041e+00, -1.4171e-01, -7.0170e-01,\n",
       "                        2.5937e-01, -9.7524e-02, -2.4757e-01,  4.6729e-01, -7.9948e-01,\n",
       "                        5.5939e-01,  5.8434e-01, -1.8509e+00,  2.1917e-01,  1.6590e+00,\n",
       "                       -2.6091e-01,  3.7463e-01,  3.2586e-01,  3.3833e-01, -7.8647e-01,\n",
       "                        9.9846e-01, -1.4795e-01,  5.5156e-01,  9.4044e-01,  1.1905e+00,\n",
       "                       -9.6840e-01,  9.7278e-01, -4.9590e-01,  1.7151e+00, -1.1991e-01,\n",
       "                       -1.4214e+00, -6.1449e-01, -2.2893e-01,  1.1144e+00,  1.1863e+00,\n",
       "                       -1.0865e+00,  3.2422e-02,  9.8689e-01,  6.0119e-01, -2.9517e-01,\n",
       "                       -1.8972e-02, -3.7334e-01, -2.8775e-01,  8.2443e-01,  4.3109e-02,\n",
       "                        2.0397e-01,  1.3499e+00, -4.0119e-01,  9.1958e-03, -5.8371e-01,\n",
       "                        7.9522e-02,  5.9825e-01, -9.2188e-02, -2.2313e-01,  2.1614e+00,\n",
       "                       -2.1192e-01, -2.3623e-01, -2.5633e-02, -5.4986e-01, -3.0813e-01,\n",
       "                        5.8116e-01,  9.3231e-01, -1.0742e-01, -7.1142e-01,  3.7329e-01,\n",
       "                       -8.1629e-01,  5.7952e-01, -1.5088e-01,  2.2482e-01,  2.2466e-01,\n",
       "                        6.9667e-02, -9.8966e-01, -1.2046e+00, -7.5128e-01, -4.1423e-01,\n",
       "                        3.4217e-01, -3.9521e-01, -4.2128e-01, -1.0829e+00,  4.1352e-01,\n",
       "                       -5.5012e-01,  4.5205e-01,  1.0984e+00, -7.2407e-01, -2.7861e-01,\n",
       "                        5.3290e-01, -8.0300e-01,  7.2912e-01,  2.3494e-01, -3.2769e-01,\n",
       "                        8.0753e-01, -1.5865e-01,  6.9672e-01, -7.2541e-03, -2.6653e-02,\n",
       "                        4.5929e-01, -2.8217e-01, -6.1627e-01,  1.2374e-01,  8.7530e-01,\n",
       "                        4.0379e-01,  7.5937e-02, -1.8853e-02,  5.5888e-01, -7.0791e-02,\n",
       "                        8.2408e-01, -1.0066e+00,  4.6956e-01, -1.5675e-01, -9.1834e-01,\n",
       "                        6.7313e-01, -1.0319e+00,  2.3243e-01, -2.0761e-01,  6.5122e-01,\n",
       "                        8.0647e-01, -5.7672e-01, -3.0195e-01, -5.3521e-01,  3.1913e-01,\n",
       "                       -3.7016e-01,  1.5900e-01, -2.8968e-01,  6.3683e-01, -6.9894e-01,\n",
       "                        1.1348e+00, -3.1117e-01,  4.7886e-01,  1.2087e-01,  2.0463e+00,\n",
       "                        9.0171e-01, -2.6712e-01, -4.0638e-01, -4.1360e-01,  4.5173e-01,\n",
       "                        3.6219e-01,  1.0145e+00,  4.1852e-01,  1.0885e+00,  4.4601e-01,\n",
       "                        6.5319e-01, -1.1781e+00,  7.1619e-01,  5.9788e-01,  5.9344e-01,\n",
       "                        1.4933e-01, -6.7772e-01, -1.4201e-02,  6.6070e-01, -8.6359e-02,\n",
       "                        3.1423e-01, -5.0963e-01,  1.1287e+00,  1.3275e+00, -7.2091e-02,\n",
       "                        1.1825e-01, -2.9113e-02, -3.2997e-01,  1.8679e-01, -8.6496e-01,\n",
       "                        9.2999e-02, -1.2276e-01,  7.5000e-01, -6.3307e-01, -1.2066e+00,\n",
       "                        7.3782e-01,  1.9224e+00, -9.9910e-01, -2.9466e-01,  1.8136e-01,\n",
       "                       -5.4803e-01, -3.6725e-02, -3.5847e-03,  1.0534e+00,  3.8906e-01,\n",
       "                        9.8659e-01, -1.0164e+00,  9.3317e-01,  1.2079e-01, -2.0429e-01,\n",
       "                        1.0458e-01, -1.0478e-01, -4.2669e-01, -2.3007e-01, -1.1100e+00,\n",
       "                       -6.6521e-01, -2.8587e-01, -5.9336e-01, -3.5720e-01, -6.4786e-01,\n",
       "                       -9.9307e-01, -9.9241e-01,  1.7824e-01, -1.8162e-01, -1.4954e+00,\n",
       "                       -1.8714e-01, -1.1974e+00,  1.6014e+00,  8.3740e-01,  2.7353e-01,\n",
       "                       -3.8404e-01,  1.4561e+00, -3.0059e-01, -6.3743e-01,  5.0076e-01,\n",
       "                        6.7382e-02,  1.2611e-02, -7.8999e-01,  5.2876e-01, -4.2254e-01,\n",
       "                        5.6191e-01,  8.0004e-01, -2.0343e-01,  9.4232e-01, -1.8534e-01,\n",
       "                       -4.6545e-01,  9.8913e-02, -2.0357e-01,  1.4912e-01,  2.7938e-01,\n",
       "                       -1.7335e-02,  1.2900e+00, -5.4441e-02, -9.0624e-02, -1.9231e-01,\n",
       "                       -9.0167e-01, -2.8438e-01, -5.3565e-01,  7.6831e-01,  9.0559e-01,\n",
       "                       -2.2492e+00,  9.2775e-02,  9.1045e-01, -1.1337e+00, -1.5243e+00,\n",
       "                       -1.5666e+00, -7.3815e-01, -8.1254e-01, -4.3972e-01,  2.3575e-01,\n",
       "                        5.9956e-01, -6.9047e-01, -4.7905e-01, -3.4938e-01,  8.0614e-01,\n",
       "                        3.9709e-02,  2.5717e-01, -1.1192e+00,  1.1857e+00, -6.1020e-01,\n",
       "                        1.1944e-01, -9.2957e-01,  6.7623e-03, -3.1236e-02, -3.1273e-01,\n",
       "                       -1.1429e+00, -2.0876e-01,  1.6847e-01,  3.9985e-01,  6.3187e-01,\n",
       "                        7.0069e-01,  1.4147e-01,  1.1097e+00,  7.7748e-01, -1.1396e+00,\n",
       "                        9.8795e-01, -2.0217e+00, -5.2516e-03, -7.5030e-01, -2.1170e-01,\n",
       "                        1.1770e+00, -7.3081e-01,  1.2529e+00, -1.5755e+00, -3.8539e-01,\n",
       "                        1.5283e+00, -5.8883e-01, -1.2918e+00, -9.4875e-01, -6.6196e-01,\n",
       "                       -9.0123e-01,  4.7442e-01, -1.3164e+00,  8.5914e-01,  6.0518e-01,\n",
       "                       -8.1389e-01, -1.3310e+00, -7.5917e-01, -1.3262e+00,  1.9695e+00,\n",
       "                       -4.6020e-01,  3.7424e-02, -4.7298e-01, -2.0852e+00, -2.6900e-01,\n",
       "                        3.6790e-02, -8.9319e-01, -7.5217e-01,  2.3049e+00,  5.9589e-01,\n",
       "                        2.8292e-01, -7.8808e-01,  5.1183e-02, -5.9894e-02, -1.0905e+00,\n",
       "                       -6.9036e-01,  1.4657e-02, -1.1956e+00,  4.4958e-01, -1.8007e+00,\n",
       "                       -4.4270e-01, -2.9736e-01,  4.7271e-02, -1.2328e-01, -8.0929e-02,\n",
       "                        1.1424e-01,  7.7619e-02,  3.0560e-01, -9.4021e-01,  1.0723e-01,\n",
       "                        4.1616e-01, -2.9249e-01, -2.4022e-01,  5.8281e-01,  5.8934e-01,\n",
       "                       -4.9007e-01, -3.1380e-01, -4.3673e-02, -4.5717e-01,  5.8567e-01,\n",
       "                       -2.0958e-01,  4.7509e-01,  2.4274e-01, -4.1878e-01,  7.6924e-01,\n",
       "                        4.2212e-01, -6.6615e-02,  2.0203e+00, -1.4391e+00, -3.8290e-01,\n",
       "                        6.5254e-01,  1.2739e+00, -1.6491e+00,  1.3238e+00,  2.0131e-01,\n",
       "                        1.4564e+00, -1.4078e+00,  2.1466e-01, -2.8992e-01,  1.7123e+00,\n",
       "                       -7.1860e-02, -2.5225e+00,  5.4282e-01,  8.0453e+00,  1.0090e-01,\n",
       "                        4.1966e-02,  9.4869e-04,  5.6090e-04,  9.2229e-04,  3.3937e-03,\n",
       "                        4.5772e-03,  2.6200e-01,  4.0203e-03,  1.1194e-03,  9.1292e-04,\n",
       "                        7.8955e-03,  3.5894e-04,  4.1927e-02,  7.3048e-04,  3.0294e-04,\n",
       "                        1.5205e-04,  6.1445e-03,  4.5114e-03,  2.0524e-02,  2.6550e-40,\n",
       "                        3.1076e-03,  1.7403e-03,  2.2230e-04,  7.0309e-03,  4.6281e-01,\n",
       "                        0.0000e+00,  7.1292e-03,  2.6921e-03,  1.3616e-02,  1.3599e-02,\n",
       "                        8.5086e-02,  4.6015e-03,  1.1194e-03,  8.6260e-03,  4.6281e-01,\n",
       "                        2.2567e-02,  3.1076e-03,  6.9670e-02,  1.1233e-02,  4.1177e-01,\n",
       "                        4.4935e-03,  6.2799e-03,  1.4881e-02,  1.9637e-01,  1.1059e-02,\n",
       "                        1.7020e-01,  2.5071e-02,  3.3933e-02,  1.1970e-01,  1.0311e-02,\n",
       "                        9.9190e-03,  1.1190e-01,  1.1794e-03,  1.9288e-02,  1.6667e-03,\n",
       "                        7.5048e-04,  2.3278e-02,  6.0150e-03,  1.5466e-02,  1.7625e-02,\n",
       "                        6.3350e-04,  2.5654e-02,  3.3214e-04,  4.9740e-03,  6.6833e-02,\n",
       "                        2.5763e-03,  6.7402e-02,  1.5132e-02,  1.9665e-03,  1.0535e-03,\n",
       "                        4.8966e-03,  8.9136e-03,  4.7320e-03], device='cuda:0')),\n",
       "              ('model.models.0.0.running_var',\n",
       "               tensor([2.5093e+00, 1.9966e+00, 2.7897e+00, 1.8826e+00, 2.5171e+00, 1.5824e+00,\n",
       "                       3.2696e+00, 2.4971e+00, 2.3035e+00, 1.8421e+00, 2.5928e+00, 2.4856e+00,\n",
       "                       2.5670e+00, 2.4256e+00, 1.6950e+00, 2.2123e+00, 1.6765e+00, 2.1395e+00,\n",
       "                       2.4214e+00, 2.6485e+00, 3.8003e+00, 1.4691e+00, 2.1581e+00, 2.3077e+00,\n",
       "                       3.4791e+00, 1.5771e+00, 1.8958e+00, 1.9786e+00, 2.1152e+00, 2.5469e+00,\n",
       "                       2.3325e+00, 2.5072e+00, 1.9147e+00, 2.8217e+00, 2.0650e+00, 2.3532e+00,\n",
       "                       2.7054e+00, 1.2797e+00, 6.0939e-03, 2.2306e+00, 1.6426e+00, 2.4089e+00,\n",
       "                       1.8841e+00, 2.4291e+00, 2.7479e+00, 2.4964e+00, 3.4344e+00, 2.6940e+00,\n",
       "                       1.7987e+00, 1.8494e+00, 2.4519e+00, 1.8406e+00, 2.9864e+00, 2.2238e+00,\n",
       "                       2.3627e+00, 2.3794e+00, 1.6651e+00, 2.5143e+00, 1.5454e+00, 1.5712e+00,\n",
       "                       3.2654e+00, 2.0623e+00, 2.2966e+00, 3.2683e+00, 1.7509e+00, 1.7807e+00,\n",
       "                       2.6117e+00, 2.3114e+00, 1.8840e+00, 1.6550e+00, 2.3134e+00, 2.2327e+00,\n",
       "                       1.9200e+00, 2.8118e+00, 2.3017e+00, 2.6083e+00, 1.1792e+00, 2.0090e+00,\n",
       "                       2.6529e+00, 1.9155e+00, 2.0110e+00, 2.8543e+00, 1.9235e+00, 2.7089e+00,\n",
       "                       1.8712e+00, 3.0436e+00, 2.6413e+00, 2.0102e+00, 1.7131e+00, 2.3357e+00,\n",
       "                       1.8020e+00, 1.3253e+00, 2.2007e+00, 2.6265e+00, 1.7523e+00, 2.2345e+00,\n",
       "                       1.9862e+00, 2.9699e+00, 2.6348e+00, 2.1854e+00, 3.1641e+00, 1.9104e+00,\n",
       "                       2.7817e+00, 2.2920e+00, 2.1974e+00, 2.1665e+00, 2.6581e+00, 1.9408e+00,\n",
       "                       2.2122e+00, 4.2424e+00, 1.7288e+00, 2.1785e+00, 2.5739e+00, 2.3717e+00,\n",
       "                       1.8040e+00, 1.7380e+00, 1.6936e+00, 2.6007e+00, 2.0247e+00, 2.0949e+00,\n",
       "                       2.2590e+00, 2.4332e+00, 1.7928e+00, 2.9081e+00, 1.9770e+00, 2.2431e+00,\n",
       "                       2.9384e+00, 2.0684e+00, 2.6991e+00, 1.4657e+00, 2.8317e+00, 2.8419e+00,\n",
       "                       2.1532e+00, 2.5748e+00, 1.3648e+00, 2.5255e+00, 1.7422e+00, 2.4074e+00,\n",
       "                       2.1333e+00, 1.9695e+00, 1.8060e+00, 2.9997e+00, 1.9845e+00, 2.1993e+00,\n",
       "                       2.7637e+00, 2.2891e+00, 2.8320e+00, 3.0773e+00, 2.1870e+00, 2.1694e+00,\n",
       "                       2.2761e+00, 2.6541e+00, 1.6600e+00, 1.8454e+00, 2.5141e+00, 2.1525e+00,\n",
       "                       1.7215e+00, 2.1952e+00, 1.5678e+00, 1.9014e+00, 2.5640e+00, 1.6631e+00,\n",
       "                       2.3089e+00, 2.1912e+00, 3.0407e+00, 2.5823e+00, 2.4153e+00, 3.0837e+00,\n",
       "                       1.9354e+00, 2.3513e+00, 1.8576e+00, 2.4078e+00, 2.0474e+00, 2.4617e+00,\n",
       "                       1.8530e+00, 2.0999e+00, 2.0149e+00, 1.8335e+00, 2.0978e+00, 1.8685e+00,\n",
       "                       1.8151e+00, 2.0017e+00, 2.7224e+00, 2.0174e+00, 9.8588e-01, 2.2088e+00,\n",
       "                       2.5916e+00, 2.7872e+00, 3.3163e+00, 1.3833e+00, 1.8851e+00, 2.1924e+00,\n",
       "                       2.1181e+00, 2.7902e+00, 2.2078e+00, 1.6179e+00, 1.7951e+00, 3.0501e+00,\n",
       "                       2.2774e+00, 3.0234e+00, 1.9470e+00, 2.2150e+00, 2.5220e+00, 2.5361e+00,\n",
       "                       2.4378e+00, 2.1530e+00, 3.7203e+00, 3.6508e+00, 2.0067e+00, 2.1563e+00,\n",
       "                       2.0518e+00, 2.8324e+00, 2.3657e+00, 1.7991e+00, 2.4501e+00, 2.4283e+00,\n",
       "                       3.7208e+00, 1.6192e+00, 2.2716e+00, 2.1130e+00, 6.2853e+00, 4.2117e+00,\n",
       "                       1.5185e+00, 2.7678e+00, 2.4083e+00, 1.8103e+00, 2.3385e+00, 3.8054e+00,\n",
       "                       1.7533e+00, 2.0781e+00, 3.5757e+00, 3.0601e+00, 1.9302e+00, 2.4603e+00,\n",
       "                       2.5370e+00, 1.6691e+00, 3.0377e+00, 2.3968e+00, 2.2498e+00, 4.2165e+00,\n",
       "                       2.6191e+00, 2.0425e+00, 1.9832e+00, 1.9468e+00, 2.2101e+00, 2.5335e+00,\n",
       "                       3.3272e+00, 1.6520e+00, 2.2294e+00, 4.1586e+00, 2.0479e+00, 2.2159e+00,\n",
       "                       3.3408e+00, 1.5404e+00, 2.2553e+00, 2.0733e+00, 3.9860e+00, 2.5906e+00,\n",
       "                       2.8489e+00, 2.4070e+00, 2.3875e+00, 3.7333e+00, 2.0041e+00, 2.7746e+00,\n",
       "                       1.6899e+00, 2.6179e+00, 3.6795e+00, 2.2422e+00, 1.7375e+00, 2.4818e+00,\n",
       "                       3.0704e+00, 2.3652e+00, 2.8569e+00, 1.5224e+00, 1.9747e+00, 2.4724e+00,\n",
       "                       2.7336e+00, 1.9338e+00, 1.9193e+00, 1.9695e+00, 1.6518e+00, 2.9019e+00,\n",
       "                       1.5507e+00, 1.7767e+00, 1.9378e+00, 1.9733e+00, 2.4437e+00, 2.4476e+00,\n",
       "                       2.6327e+00, 2.1656e+00, 1.7006e+00, 2.1637e+00, 3.1677e+00, 2.2939e+00,\n",
       "                       2.1608e+00, 2.1163e+00, 3.7907e+00, 2.3924e+00, 2.0193e+00, 1.8954e+00,\n",
       "                       2.5097e+00, 1.8090e+00, 3.3448e+00, 3.3129e+00, 2.7633e+00, 1.9473e+00,\n",
       "                       2.6467e+00, 2.5310e+00, 3.1543e+00, 2.1773e+00, 2.1513e+00, 2.7368e+00,\n",
       "                       1.6921e+00, 2.6238e+00, 1.8870e+00, 1.7354e+00, 2.5017e+00, 2.6151e+00,\n",
       "                       2.1368e+00, 1.7985e+00, 2.5204e+00, 1.3186e+00, 2.4506e+00, 1.8851e+00,\n",
       "                       2.0125e+00, 2.7195e+00, 1.5729e+00, 2.1676e+00, 3.2327e+00, 4.0760e+00,\n",
       "                       2.0142e+00, 1.4966e+00, 2.3659e+00, 2.1147e+00, 2.7440e+00, 2.8267e+00,\n",
       "                       2.7114e+00, 3.1607e+00, 2.6568e+00, 2.7220e+00, 2.1826e+00, 1.4710e+00,\n",
       "                       3.6491e+00, 2.0864e+00, 3.2392e+00, 2.5192e+00, 2.1647e+00, 1.5769e+00,\n",
       "                       1.8183e+00, 2.7389e+00, 1.6217e+00, 2.6594e+00, 2.4012e+00, 2.1669e+00,\n",
       "                       2.0723e+00, 2.5080e+00, 2.2172e+00, 2.3005e+00, 2.3599e+00, 2.2476e+00,\n",
       "                       1.8773e+00, 1.9392e+00, 1.5690e+00, 2.1355e+00, 1.9959e+00, 1.9495e+00,\n",
       "                       2.0374e+00, 3.1319e+00, 1.8242e+00, 2.4157e+00, 2.3229e+00, 1.5130e+00,\n",
       "                       2.1455e+00, 1.8527e+00, 1.7579e+00, 1.7176e+00, 1.2959e+00, 2.2800e+00,\n",
       "                       2.2961e+00, 3.1427e+00, 2.1201e+00, 2.5197e+00, 2.2463e+00, 2.2467e+00,\n",
       "                       1.5090e+00, 2.6472e+00, 3.1799e+00, 2.1553e+00, 2.9169e+00, 1.9985e+00,\n",
       "                       2.3047e+00, 1.7430e+00, 2.4773e+00, 2.2324e+00, 2.5108e+00, 1.6060e+00,\n",
       "                       2.1594e+00, 3.9470e+00, 2.2722e+00, 2.1869e+00, 1.6715e+00, 2.0526e+00,\n",
       "                       2.0054e+00, 2.6059e+00, 2.6547e+00, 1.9838e+00, 2.3036e+00, 2.4241e+00,\n",
       "                       1.4004e+00, 3.0217e+00, 2.5950e+00, 2.7768e+00, 2.0837e+00, 2.1647e+00,\n",
       "                       1.7346e+00, 7.1828e-01, 1.8781e+00, 2.3106e+00, 1.6277e+00, 2.8412e+00,\n",
       "                       2.0662e+00, 1.9643e+00, 3.7281e+00, 2.7863e+00, 2.4656e+00, 2.1216e+00,\n",
       "                       2.4468e+00, 2.5873e+00, 2.3600e+00, 1.4819e+00, 5.5531e+00, 2.1487e+00,\n",
       "                       2.9783e+00, 1.8427e+00, 2.2590e+00, 2.0154e+00, 1.3318e+00, 2.7127e+00,\n",
       "                       2.2854e+00, 1.9309e+00, 2.0531e+00, 1.8829e+00, 2.3824e+00, 2.3739e+00,\n",
       "                       2.2449e+00, 2.9878e+00, 2.9556e+00, 2.4086e+00, 1.9393e+00, 4.8866e+00,\n",
       "                       2.1340e+00, 2.0541e+00, 2.3027e+00, 3.4658e+00, 1.8397e+00, 2.8424e+00,\n",
       "                       1.8745e+00, 2.3734e+00, 2.3793e+00, 1.7292e+00, 1.4187e+00, 2.0219e+00,\n",
       "                       3.2821e+00, 1.8968e+00, 2.9160e+00, 4.5571e+00, 2.0746e+00, 2.3118e+00,\n",
       "                       1.6980e+00, 3.9682e+00, 2.6721e+00, 2.6480e+00, 2.0550e+00, 2.9848e+00,\n",
       "                       1.8831e+00, 2.5089e+00, 2.3559e+00, 3.2465e+00, 3.2369e+00, 2.0985e+00,\n",
       "                       3.8034e+00, 2.5644e+00, 1.5189e+00, 1.8953e+00, 2.9359e+00, 1.6995e+00,\n",
       "                       2.4922e+00, 2.0610e+00, 2.2406e+00, 1.8759e+00, 2.3843e+00, 1.6655e+00,\n",
       "                       2.2208e+00, 3.5333e+00, 2.0818e+00, 2.2930e+00, 2.4802e+00, 1.9442e+00,\n",
       "                       2.0252e+00, 2.1959e+00, 2.5895e+00, 2.3066e+00, 1.7062e+00, 1.7295e+00,\n",
       "                       1.3143e+00, 2.2250e+00, 2.2984e+00, 1.8489e+00, 2.4969e+00, 2.4214e+00,\n",
       "                       2.4066e+00, 2.1361e+00, 2.2212e+00, 2.2777e+00, 1.8045e+00, 2.1949e+00,\n",
       "                       3.2949e+00, 1.8345e+00, 3.2847e+00, 2.1359e+00, 1.9861e+00, 2.3772e+00,\n",
       "                       2.3902e+00, 2.1544e+00, 2.9110e+00, 2.4336e+00, 2.1746e+00, 2.6047e+00,\n",
       "                       2.1210e+00, 2.2623e+00, 2.8633e+00, 1.5688e+00, 2.2857e+00, 2.4214e+00,\n",
       "                       2.2955e+00, 2.3491e+00, 2.4421e+00, 2.2174e+00, 3.0053e+00, 2.4508e+00,\n",
       "                       1.3990e+00, 2.6306e+00, 1.8462e+00, 2.1895e+00, 2.7434e+00, 2.0074e+00,\n",
       "                       3.2145e+00, 1.8987e+00, 2.1788e+00, 1.4136e+00, 2.1571e+00, 2.4346e+00,\n",
       "                       1.5223e+00, 2.8676e+00, 1.9759e+00, 1.9245e+00, 2.3290e+00, 2.8856e+00,\n",
       "                       2.8771e+00, 1.3925e+00, 2.1607e+00, 1.6559e+00, 3.0403e+00, 1.9724e+00,\n",
       "                       2.3991e+00, 1.8797e+00, 1.7426e+00, 1.9003e+00, 2.8175e+00, 2.4069e+00,\n",
       "                       2.2238e+00, 2.2039e+00, 1.4772e+00, 1.9771e+00, 1.4074e+00, 1.7382e+00,\n",
       "                       1.7525e+00, 2.0053e+00, 3.6883e+00, 3.0801e+00, 3.7600e+00, 8.9690e-01,\n",
       "                       3.4626e+00, 2.5865e+00, 2.0376e+00, 2.2691e+00, 2.2217e+00, 2.1275e+00,\n",
       "                       1.6808e+00, 2.0112e+00, 2.3099e+00, 1.8504e+00, 2.8029e+00, 2.5367e+00,\n",
       "                       2.8315e+00, 1.0475e+00, 1.9572e+00, 2.3935e+00, 2.0683e+00, 2.6194e+00,\n",
       "                       1.9159e+00, 1.8738e+00, 2.3350e+00, 2.7810e+00, 2.3352e+00, 2.3410e+00,\n",
       "                       2.4965e+00, 1.9517e+00, 1.9122e+00, 3.8154e+00, 1.9142e+00, 2.7175e+00,\n",
       "                       2.3760e+00, 2.0247e+00, 3.0241e+00, 3.0847e+00, 2.2701e+00, 1.5580e+00,\n",
       "                       2.1724e+00, 1.7149e+00, 2.0297e+00, 1.6496e+00, 1.8287e+00, 2.9641e+00,\n",
       "                       2.4356e+00, 1.6217e+00, 2.6017e+00, 1.9344e+00, 1.4918e+00, 2.0876e+00,\n",
       "                       2.2794e+00, 2.0480e+00, 2.0454e+00, 1.7270e+00, 2.1112e+00, 2.0293e+00,\n",
       "                       2.7897e+00, 3.0507e+00, 1.9074e+00, 1.5246e+00, 2.8343e+00, 2.2466e+00,\n",
       "                       1.5688e+00, 2.4876e+00, 3.0784e+00, 2.5924e+00, 2.4336e+00, 1.5176e+00,\n",
       "                       1.7901e+00, 2.3880e+00, 3.2074e+00, 1.8915e+00, 2.4661e+00, 1.8504e+00,\n",
       "                       2.3799e+00, 1.8487e+00, 2.1625e+00, 1.8443e+00, 2.3243e+00, 1.9985e+00,\n",
       "                       2.4260e+00, 2.4930e+00, 2.8978e+00, 2.0738e+00, 2.3129e+00, 2.2452e+00,\n",
       "                       2.1041e+00, 1.7301e+00, 2.0369e+00, 2.7600e+00, 2.0538e+00, 3.2680e+00,\n",
       "                       1.9698e+00, 1.6872e+00, 2.0949e+00, 2.2274e+00, 2.0739e+00, 2.6549e+00,\n",
       "                       2.6378e+00, 2.2070e+00, 1.4591e+00, 3.8557e+00, 2.5383e+00, 1.8718e+00,\n",
       "                       1.4134e+00, 2.1105e+00, 1.6199e+00, 2.0775e+00, 2.9120e+00, 2.5001e+00,\n",
       "                       1.8550e+00, 3.8160e+00, 3.0607e+00, 2.1250e+00, 2.8000e+00, 2.5262e+00,\n",
       "                       1.7985e+00, 2.9132e+00, 1.8990e+00, 2.9146e+00, 1.9419e+00, 4.7101e+00,\n",
       "                       2.3689e+00, 2.3737e+00, 3.3542e+00, 3.3567e+00, 9.3527e-01, 2.8890e+00,\n",
       "                       3.0192e+00, 1.7157e+00, 1.6169e+00, 3.0637e+00, 1.9206e+00, 1.3725e+00,\n",
       "                       2.6876e+00, 1.4708e+00, 2.6271e+00, 1.7418e+00, 2.5155e+00, 2.8196e+00,\n",
       "                       2.6055e+00, 3.7021e+00, 1.5976e+00, 1.9954e+00, 1.9906e+00, 2.6664e+00,\n",
       "                       2.6888e+00, 3.0737e+00, 2.5619e+00, 2.6744e+00, 1.7985e+00, 2.5118e+00,\n",
       "                       2.8145e+00, 2.7201e+00, 1.8532e+00, 1.5357e+00, 2.0511e+00, 3.0204e+00,\n",
       "                       2.6160e+00, 2.2182e+00, 3.6703e+00, 1.8316e+00, 2.0446e+00, 1.0905e+00,\n",
       "                       2.0919e+00, 1.9449e+00, 1.6135e+00, 2.5241e+00, 2.0653e+00, 2.2249e+00,\n",
       "                       1.9622e+00, 2.4122e+00, 2.8297e+00, 2.2724e+00, 3.2552e+00, 1.6021e+00,\n",
       "                       1.7747e+00, 3.2219e+00, 1.9387e+00, 2.0587e+00, 2.7074e+00, 2.4225e+00,\n",
       "                       1.9319e+00, 1.8823e+00, 3.5912e+00, 2.1614e+00, 2.5838e+00, 2.4775e+00,\n",
       "                       9.0203e+00, 1.5437e-03, 4.0175e-02, 9.4280e-04, 5.6085e-04, 9.2229e-04,\n",
       "                       3.3832e-03, 4.5554e-03, 1.9442e-01, 4.0050e-03, 1.1194e-03, 9.1243e-04,\n",
       "                       7.7903e-03, 3.5894e-04, 3.9940e-02, 7.3048e-04, 3.0294e-04, 1.5205e-04,\n",
       "                       6.1097e-03, 4.5114e-03, 2.0031e-02, 2.6550e-40, 3.0910e-03, 1.7403e-03,\n",
       "                       2.2230e-04, 6.9957e-03, 2.5012e-01, 5.6052e-45, 7.0219e-03, 2.6798e-03,\n",
       "                       1.3426e-02, 1.3379e-02, 7.7712e-02, 4.5845e-03, 1.1194e-03, 8.4980e-03,\n",
       "                       2.5012e-01, 2.2015e-02, 3.0910e-03, 6.4639e-02, 1.1089e-02, 2.4160e-01,\n",
       "                       4.4740e-03, 6.2786e-03, 1.4659e-02, 1.5756e-01, 1.0930e-02, 1.4172e-01,\n",
       "                       2.4453e-02, 3.2870e-02, 1.0574e-01, 1.0210e-02, 9.9008e-03, 9.9817e-02,\n",
       "                       1.1771e-03, 1.8852e-02, 1.6667e-03, 7.5028e-04, 2.2609e-02, 5.9935e-03,\n",
       "                       1.5312e-02, 1.7394e-02, 6.3348e-04, 2.5028e-02, 3.3214e-04, 4.9581e-03,\n",
       "                       6.2598e-02, 2.5669e-03, 6.2983e-02, 1.4872e-02, 1.9592e-03, 1.0535e-03,\n",
       "                       4.8777e-03, 8.8925e-03, 4.7159e-03], device='cuda:0')),\n",
       "              ('model.models.0.0.num_batches_tracked',\n",
       "               tensor(4868, device='cuda:0')),\n",
       "              ('model.models.0.1.weight',\n",
       "               tensor([[-0.1029,  0.0578, -0.0285,  ..., -0.0179,  0.0235, -0.0365],\n",
       "                       [ 0.0086,  0.0773, -0.0215,  ...,  0.0168, -0.0416, -0.0571],\n",
       "                       [ 0.0066,  0.0557,  0.0465,  ..., -0.0068, -0.1051, -0.0800],\n",
       "                       ...,\n",
       "                       [ 0.0682, -0.0534,  0.0444,  ...,  0.0133,  0.0862, -0.0119],\n",
       "                       [-0.0562,  0.0573,  0.0282,  ...,  0.0417,  0.0571, -0.0551],\n",
       "                       [ 0.0575, -0.0573,  0.0082,  ..., -0.0182, -0.0325,  0.1616]],\n",
       "                      device='cuda:0')),\n",
       "              ('model.models.0.1.bias',\n",
       "               tensor([-0.0279,  0.0103,  0.0077,  ...,  0.0092, -0.0053,  0.0074],\n",
       "                      device='cuda:0')),\n",
       "              ('model.models.0.3.weight',\n",
       "               tensor([[-0.0186,  0.0478,  0.0150,  ...,  0.0213, -0.0230, -0.0133],\n",
       "                       [-0.0235,  0.0027,  0.0486,  ..., -0.0095,  0.0531, -0.0363],\n",
       "                       [-0.0410,  0.0239, -0.0253,  ...,  0.0402, -0.0458,  0.0562],\n",
       "                       ...,\n",
       "                       [ 0.0357, -0.0778,  0.0133,  ...,  0.0635, -0.0018,  0.0101],\n",
       "                       [-0.0303,  0.0448,  0.0015,  ..., -0.0248,  0.0277, -0.0196],\n",
       "                       [-0.0229, -0.0229,  0.0178,  ..., -0.0106,  0.0617, -0.0355]],\n",
       "                      device='cuda:0')),\n",
       "              ('model.models.0.3.bias',\n",
       "               tensor([-2.2830e-05,  4.9117e-03,  8.7589e-03,  ...,  2.9220e-02,\n",
       "                        2.3390e-03,  1.6414e-02], device='cuda:0')),\n",
       "              ('model.models.1.0.weight',\n",
       "               tensor([0.9906, 1.0070, 1.0004, 0.9854, 0.9942, 1.0083, 1.0022, 0.9920, 0.9946,\n",
       "                       0.9976, 1.0049, 0.9963, 0.9940, 0.9949, 0.9954, 1.0071, 0.9948, 0.9916,\n",
       "                       0.9975, 1.0053, 1.0078, 0.9973, 1.0081, 0.9986, 1.0064, 0.9986, 1.0038,\n",
       "                       0.9981, 0.9964, 1.0019, 1.0040, 1.0089, 0.9940, 1.0078, 1.0003, 1.0020,\n",
       "                       0.9953, 1.0093, 1.0001, 0.9964, 1.0105, 1.0100, 1.0053, 1.0135, 1.0036,\n",
       "                       1.0069, 1.0036, 1.0056, 0.9962, 1.0211, 0.9973, 1.0063, 0.9962, 1.0044,\n",
       "                       1.0077, 1.0045, 0.9956, 0.9970, 0.9997, 0.9913, 0.9941, 1.0047, 1.0018,\n",
       "                       1.0026, 1.0046, 1.0064, 1.0050, 1.0042, 1.0081, 1.0113, 1.0060, 1.0098,\n",
       "                       1.0031, 0.9908, 0.9992, 1.0045, 1.0007, 0.9998, 1.0012, 1.0030, 1.0045,\n",
       "                       0.9965, 0.9962, 0.9971, 1.0017, 0.9966, 1.0206, 1.0009, 1.0164, 0.9953,\n",
       "                       0.9941, 1.0031, 1.0005, 1.0054, 1.0033, 1.0001, 0.9994, 1.0123, 1.0080,\n",
       "                       0.9975, 0.9928, 1.0049, 1.0089, 1.0171, 1.0049, 0.9992, 0.9893, 1.0003,\n",
       "                       1.0001, 1.0076, 0.9980, 0.9912, 1.0031, 1.0001, 1.0111, 1.0027, 1.0024,\n",
       "                       0.9964, 0.9998, 1.0049, 0.9959, 0.9916, 0.9978, 1.0127, 0.9936, 0.9901,\n",
       "                       1.0053, 1.0058, 0.9973, 1.0050, 1.0036, 0.9989, 1.0016, 0.9953, 1.0031,\n",
       "                       0.9996, 1.0024, 0.9991, 1.0021, 1.0002, 1.0055, 1.0081, 0.9964, 0.9985,\n",
       "                       0.9882, 1.0001, 1.0112, 1.0004, 1.0021, 0.9932, 0.9916, 1.0178, 0.9948,\n",
       "                       0.9978, 0.9979, 1.0022, 1.0089, 0.9984, 0.9995, 1.0077, 1.0138, 1.0079,\n",
       "                       1.0050, 1.0066, 1.0129, 1.0007, 1.0083, 1.0006, 0.9954, 1.0090, 1.0058,\n",
       "                       0.9900, 0.9983, 0.9968, 0.9990, 1.0054, 1.0099, 0.9947, 1.0004, 1.0012,\n",
       "                       0.9951, 0.9959, 0.9984, 0.9964, 1.0055, 1.0036, 1.0023, 1.0012, 0.9991,\n",
       "                       0.9994, 1.0058, 0.9929, 1.0029, 0.9996, 1.0056, 1.0172, 0.9958, 0.9942,\n",
       "                       0.9993, 1.0052, 1.0124, 0.9852, 0.9984, 1.0072, 1.0104, 0.9934, 1.0129,\n",
       "                       0.9918, 1.0054, 0.9931, 0.9988, 1.0065, 1.0017, 0.9912, 1.0000, 0.9894,\n",
       "                       0.9978, 0.9960, 1.0072, 1.0026, 1.0009, 0.9897, 1.0014, 1.0061, 1.0103,\n",
       "                       1.0018, 0.9904, 1.0003, 0.9839, 1.0022, 1.0107, 1.0024, 0.9914, 1.0078,\n",
       "                       0.9959, 1.0087, 1.0067, 1.0037, 0.9980, 0.9896, 1.0033, 1.0063, 0.9926,\n",
       "                       1.0007, 0.9989, 1.0085, 0.9989, 1.0205, 1.0025, 1.0032, 0.9949, 1.0136,\n",
       "                       1.0042, 0.9975, 1.0062, 1.0062, 1.0081, 1.0033, 0.9990, 0.9872, 1.0039,\n",
       "                       1.0035, 0.9989, 0.9955, 1.0048, 1.0075, 0.9995, 1.0095, 0.9990, 1.0115,\n",
       "                       0.9999, 1.0044, 1.0121, 0.9947, 0.9965, 1.0057, 0.9984, 0.9958, 1.0008,\n",
       "                       1.0022, 0.9985, 1.0078, 1.0083, 1.0068, 0.9943, 1.0113, 0.9954, 0.9960,\n",
       "                       1.0055, 1.0061, 1.0013, 1.0065, 1.0076, 1.0000, 1.0018, 0.9919, 1.0012,\n",
       "                       0.9911, 0.9910, 1.0020, 0.9996, 1.0062, 1.0068, 0.9940, 1.0003, 1.0148,\n",
       "                       1.0092, 1.0038, 1.0004, 0.9999, 0.9987, 0.9958, 1.0051, 1.0041, 0.9965,\n",
       "                       1.0007, 1.0034, 1.0099, 1.0070, 0.9946, 0.9930, 1.0126, 0.9964, 1.0040,\n",
       "                       1.0034, 0.9956, 0.9939, 0.9993, 1.0058, 1.0084, 1.0009, 1.0042, 1.0042,\n",
       "                       1.0054, 1.0068, 1.0011, 0.9966, 0.9979, 1.0069, 0.9931, 1.0088, 1.0125,\n",
       "                       0.9987, 0.9924, 1.0002, 1.0026, 1.0026, 1.0008, 1.0030, 0.9968, 1.0048,\n",
       "                       0.9956, 0.9892, 1.0048, 1.0009, 0.9983, 0.9982, 1.0012, 1.0024, 1.0084,\n",
       "                       1.0097, 0.9933, 1.0027, 1.0047, 0.9990, 1.0114, 0.9939, 0.9993, 0.9989,\n",
       "                       0.9936, 0.9982, 0.9975, 0.9989, 1.0084, 1.0010, 1.0022, 0.9953, 0.9968,\n",
       "                       1.0143, 0.9968, 0.9992, 1.0014, 1.0049, 1.0011, 0.9990, 0.9984, 1.0038,\n",
       "                       0.9964, 0.9954, 0.9969, 1.0041, 1.0013, 1.0042, 1.0102, 1.0079, 1.0042,\n",
       "                       1.0083, 0.9949, 0.9950, 1.0090, 0.9913, 1.0008, 1.0136, 1.0015, 1.0002,\n",
       "                       1.0052, 1.0056, 1.0088, 1.0140, 0.9999, 1.0035, 1.0001, 1.0141, 0.9981,\n",
       "                       0.9924, 0.9961, 0.9994, 1.0008, 1.0005, 1.0102, 1.0019, 1.0034, 0.9923,\n",
       "                       0.9974, 0.9931, 1.0130, 0.9944, 1.0097, 1.0062, 1.0117, 0.9987, 0.9985,\n",
       "                       1.0109, 1.0032, 0.9904, 1.0011, 1.0059, 1.0036, 1.0153, 1.0062, 1.0084,\n",
       "                       0.9864, 0.9999, 0.9934, 0.9942, 0.9931, 0.9979, 0.9983, 1.0059, 0.9989,\n",
       "                       0.9975, 0.9931, 0.9924, 1.0063, 0.9953, 1.0005, 0.9993, 1.0050, 1.0045,\n",
       "                       1.0015, 1.0125, 0.9999, 0.9948, 1.0001, 0.9893, 0.9929, 1.0006, 1.0051,\n",
       "                       0.9943, 1.0100, 1.0010, 1.0078, 1.0056, 0.9929, 1.0049, 1.0109, 1.0001,\n",
       "                       0.9976, 0.9853, 0.9910, 0.9904, 0.9971, 0.9985, 1.0041, 1.0076, 1.0094,\n",
       "                       1.0068, 1.0046, 1.0013, 1.0015, 1.0017, 1.0076, 0.9960, 0.9926, 0.9962,\n",
       "                       1.0084, 1.0081, 0.9875, 0.9876, 1.0110, 0.9994, 1.0030, 1.0096, 0.9946,\n",
       "                       1.0087, 0.9947, 1.0063, 1.0009, 1.0050, 1.0120, 1.0142, 0.9980, 1.0006,\n",
       "                       1.0039, 1.0125, 0.9934, 1.0036, 0.9955, 0.9900, 1.0089, 1.0073, 0.9960,\n",
       "                       0.9972, 1.0028, 0.9973, 1.0023, 0.9909, 0.9952, 1.0068, 1.0029, 0.9963,\n",
       "                       0.9938, 1.0038, 1.0023, 0.9947, 1.0059, 0.9963, 1.0096, 1.0019, 1.0036,\n",
       "                       0.9953, 1.0206, 1.0118, 1.0080, 0.9877, 1.0055, 0.9983, 0.9974, 1.0045,\n",
       "                       1.0095, 0.9936, 0.9916, 1.0085, 1.0106, 0.9934, 0.9928, 1.0003, 0.9996,\n",
       "                       1.0021, 0.9999, 0.9984, 1.0037, 1.0093, 0.9939, 0.9980, 0.9957, 1.0035,\n",
       "                       0.9941, 1.0040, 1.0006, 1.0060, 1.0006, 1.0046, 1.0166, 0.9969, 1.0051,\n",
       "                       1.0032, 0.9983, 0.9980, 0.9884, 1.0086, 1.0077, 1.0114, 1.0061, 0.9948,\n",
       "                       1.0193, 0.9996, 1.0057, 1.0087, 0.9958, 1.0026, 0.9946, 1.0017, 0.9987,\n",
       "                       0.9871, 0.9972, 0.9964, 0.9949, 0.9866, 0.9944, 1.0020, 0.9968, 1.0042,\n",
       "                       1.0049, 0.9942, 1.0030, 1.0026, 1.0093, 1.0030, 1.0008, 0.9966, 1.0014,\n",
       "                       1.0013, 1.0045, 1.0114, 0.9954, 1.0052, 0.9961, 1.0042, 0.9954, 1.0052,\n",
       "                       1.0113, 1.0063, 0.9993, 1.0015, 1.0142, 1.0030, 1.0023, 1.0069, 1.0080,\n",
       "                       1.0013, 1.0169, 0.9848, 1.0009, 1.0053, 0.9989, 1.0084, 0.9997, 0.9990,\n",
       "                       0.9965, 0.9932, 0.9907, 0.9987, 0.9902, 1.0064, 1.0009, 0.9892, 1.0140,\n",
       "                       0.9990, 0.9941, 1.0012, 1.0015, 1.0017, 1.0018, 1.0080, 1.0021, 0.9985,\n",
       "                       1.0230, 1.0122, 0.9965, 1.0021, 0.9975, 1.0088, 1.0043, 1.0006, 0.9961,\n",
       "                       0.9948, 1.0053, 1.0043, 0.9967, 1.0109, 0.9971, 1.0044, 1.0066, 1.0004,\n",
       "                       0.9958, 1.0026, 0.9984, 0.9952, 1.0062, 1.0064, 1.0042, 1.0008, 1.0076,\n",
       "                       1.0046, 1.0029, 1.0104, 1.0027, 1.0008, 1.0079, 1.0019, 1.0077, 1.0016,\n",
       "                       1.0002, 0.9925, 0.9972, 0.9902, 1.0078, 1.0049, 1.0048, 1.0112, 1.0023,\n",
       "                       1.0023, 1.0049, 0.9982, 0.9938, 0.9941, 1.0057, 1.0139, 1.0017, 1.0298,\n",
       "                       0.9961, 0.9949, 0.9954, 0.9993, 0.9939, 1.0014, 1.0043, 1.0002, 1.0012,\n",
       "                       1.0049, 0.9955, 1.0054, 1.0111, 0.9992, 1.0060, 1.0058, 0.9968, 1.0026,\n",
       "                       1.0031, 1.0021, 1.0002, 1.0042, 0.9989, 0.9939, 1.0062, 1.0030, 1.0144,\n",
       "                       1.0242, 1.0028, 1.0024, 1.0023, 1.0049, 1.0054, 0.9960, 1.0065, 0.9977,\n",
       "                       0.9992, 0.9971, 1.0013, 0.9930, 0.9928, 1.0026, 1.0025, 0.9969, 1.0017,\n",
       "                       1.0049, 1.0037, 1.0014, 1.0048, 0.9999, 0.9876, 0.9930, 0.9986, 1.0001,\n",
       "                       1.0158, 1.0018, 1.0018, 1.0334, 0.9857, 1.0056, 0.9987, 0.9996, 0.9995,\n",
       "                       1.0142, 1.0054, 1.0165, 0.9983, 1.0006, 0.9967, 1.0077, 0.9979, 0.9926,\n",
       "                       0.9970, 0.9949, 1.0002, 1.0086, 1.0006, 0.9959, 0.9936, 0.9926, 1.0033,\n",
       "                       0.9940, 0.9986, 1.0146, 1.0000, 0.9947, 0.9984, 1.0013, 0.9953, 1.0110,\n",
       "                       1.0051, 0.9965, 0.9993, 1.0140, 0.9948, 0.9918, 0.9931, 1.0028, 1.0161,\n",
       "                       0.9848, 0.9857, 0.9894, 0.9857, 1.0057, 1.0075, 0.9862, 0.9922, 0.9868,\n",
       "                       0.9955, 0.9970, 1.0162, 0.9994, 0.9997, 0.9994, 1.0207, 0.9950, 0.9937,\n",
       "                       0.9978, 0.9976, 0.9995, 0.9982, 0.9999, 0.9911, 1.0162, 0.9943, 0.9982,\n",
       "                       0.9937, 0.9969, 0.9997, 0.9986, 0.9946, 0.9951], device='cuda:0')),\n",
       "              ('model.models.1.0.bias',\n",
       "               tensor([-4.3371e-03, -4.6168e-03,  1.8829e-03, -5.7818e-03,  4.8109e-03,\n",
       "                        2.3991e-03, -4.4456e-03,  9.8613e-04, -3.2820e-03, -5.3029e-03,\n",
       "                       -6.0345e-03, -3.4534e-03,  7.5416e-03,  2.2537e-03, -2.9246e-03,\n",
       "                        2.5869e-04, -5.8970e-03, -3.7672e-03,  3.2545e-03, -1.5048e-03,\n",
       "                       -1.4327e-02, -3.9215e-03,  1.8639e-03,  5.1922e-03, -5.1649e-03,\n",
       "                        6.6670e-03, -3.3958e-03, -3.7159e-03, -1.7871e-03,  4.8189e-03,\n",
       "                        3.8673e-03, -8.8233e-03,  1.0780e-02,  7.8879e-03, -4.0682e-03,\n",
       "                        5.0597e-03, -8.1708e-03, -1.0692e-02, -5.0084e-03, -4.6234e-03,\n",
       "                        3.6995e-03, -2.2490e-03, -4.3397e-03, -2.3799e-03,  9.1981e-04,\n",
       "                       -4.8473e-04,  6.0603e-03,  6.0114e-03, -3.1564e-03, -5.0937e-03,\n",
       "                        1.3395e-02,  5.6886e-03,  5.1311e-03, -5.7658e-03,  5.9386e-03,\n",
       "                       -5.8363e-04, -3.9998e-03, -4.5418e-03,  5.8455e-03,  5.6915e-03,\n",
       "                        2.2846e-03, -2.8704e-03,  3.4502e-03,  6.7639e-03, -1.0033e-02,\n",
       "                       -2.4299e-03, -8.0750e-03,  3.5781e-03, -6.0026e-03, -4.0051e-03,\n",
       "                       -7.5361e-03, -1.7952e-03, -4.9809e-03,  3.1947e-03,  2.1190e-03,\n",
       "                        3.6047e-03, -5.9339e-03, -3.4757e-03, -3.2357e-03,  3.1739e-03,\n",
       "                       -3.9297e-03, -4.5044e-03,  3.7849e-03,  4.5043e-03, -5.3301e-03,\n",
       "                       -7.0687e-03, -1.1720e-02, -2.9960e-03, -8.1501e-03,  2.8124e-03,\n",
       "                       -3.6786e-03,  5.2192e-03, -5.0865e-03, -4.8600e-03,  5.1928e-04,\n",
       "                        4.7330e-03, -3.1502e-03, -7.4632e-03,  1.0841e-02,  4.0180e-03,\n",
       "                        3.0048e-03, -1.5153e-03,  4.1749e-03, -3.8402e-03,  2.8320e-03,\n",
       "                        3.9624e-03, -4.5168e-03, -1.7304e-03,  3.9075e-03,  4.5061e-03,\n",
       "                        2.1717e-03, -7.8495e-03, -6.5893e-03,  3.4754e-03, -4.3852e-03,\n",
       "                       -4.6129e-03, -5.4710e-03,  2.1201e-03,  4.9182e-04, -5.5504e-03,\n",
       "                        4.7184e-03,  3.5612e-03, -3.0647e-03, -3.5167e-03, -5.0540e-03,\n",
       "                       -4.1274e-03, -1.9965e-03, -4.9021e-03, -3.3561e-03,  1.0531e-02,\n",
       "                        5.1706e-03, -2.4468e-03, -2.0088e-03, -5.3352e-03, -1.4424e-02,\n",
       "                        4.4641e-03, -3.4508e-03, -1.3847e-03,  1.0841e-02, -5.0169e-03,\n",
       "                        5.3221e-03, -9.1549e-03,  5.3373e-03, -6.2785e-03,  6.2677e-03,\n",
       "                        1.8263e-03, -4.8845e-03,  4.3113e-03,  1.1265e-02,  4.8395e-03,\n",
       "                        4.0753e-03,  5.7155e-03, -3.0694e-03, -1.1340e-03,  4.8513e-03,\n",
       "                       -2.5349e-03,  3.0884e-03,  4.2033e-03, -3.7115e-03,  1.2834e-03,\n",
       "                       -8.6456e-03, -4.9827e-03, -6.1941e-03,  4.5037e-03,  4.6038e-03,\n",
       "                       -5.7346e-03,  5.6009e-03, -6.4308e-03,  1.2194e-03,  2.3385e-03,\n",
       "                        4.9760e-03, -7.2729e-03, -3.3837e-03, -4.7392e-03, -3.2323e-03,\n",
       "                        2.4458e-02,  4.6366e-03, -4.2383e-03, -3.5733e-03, -1.8286e-03,\n",
       "                       -3.2033e-03,  9.0527e-04, -3.2259e-03,  3.1573e-03,  5.8338e-03,\n",
       "                       -4.2400e-03,  6.7137e-04, -6.9953e-03,  4.8355e-05,  4.2963e-03,\n",
       "                        7.0712e-03,  4.4694e-03,  6.5101e-04, -3.1164e-03,  9.2336e-03,\n",
       "                       -2.8382e-03, -3.6678e-03,  5.7487e-03,  4.9515e-03, -3.6177e-03,\n",
       "                       -6.9583e-03, -4.0934e-03, -1.2284e-03,  1.2220e-02,  3.7873e-03,\n",
       "                       -4.1248e-03, -1.8471e-03, -8.3336e-04, -1.9036e-03, -3.3409e-03,\n",
       "                       -5.1111e-03,  1.7426e-02,  2.7027e-03, -5.2950e-03,  1.3984e-03,\n",
       "                        1.4967e-03, -5.5629e-03,  7.9984e-03,  1.8403e-02, -1.0101e-02,\n",
       "                        5.3392e-03,  5.5262e-03,  3.4321e-03,  8.1604e-04, -7.7149e-03,\n",
       "                        3.7441e-04,  1.1750e-02,  4.4411e-03, -4.0341e-03, -5.8226e-03,\n",
       "                        6.5460e-03,  9.8807e-04, -1.5297e-03, -6.6731e-03,  4.8695e-03,\n",
       "                       -1.4671e-03, -2.9555e-03, -4.1253e-03,  4.5513e-03,  8.3104e-03,\n",
       "                        5.3302e-03, -4.8499e-03, -1.7515e-03, -5.0781e-03,  3.0776e-03,\n",
       "                        6.5677e-03, -5.6397e-04,  7.8772e-03,  2.0179e-03, -4.2077e-03,\n",
       "                       -6.1333e-03, -3.6247e-03,  2.7949e-03,  3.3745e-03,  2.4585e-02,\n",
       "                        1.1666e-03,  7.0458e-03,  8.4094e-04,  7.2946e-03,  3.0477e-03,\n",
       "                        4.8529e-03, -4.7309e-03,  5.7822e-03,  3.9993e-03,  3.3314e-03,\n",
       "                       -2.8335e-03,  5.3051e-03,  5.2678e-03,  6.2056e-03, -6.3022e-03,\n",
       "                       -4.8660e-03,  3.6939e-03,  5.4974e-04,  3.8073e-03, -1.2039e-02,\n",
       "                        3.5491e-03, -2.6441e-03, -4.6942e-03, -6.6176e-03,  5.2965e-04,\n",
       "                        2.8729e-03, -4.4055e-03,  1.6533e-03, -5.2606e-03,  3.7642e-03,\n",
       "                       -3.1372e-03, -3.4151e-03, -2.9871e-03, -7.9829e-03,  3.9259e-03,\n",
       "                        4.9382e-03, -4.3745e-03, -1.9378e-03, -2.3625e-03, -5.7197e-03,\n",
       "                        4.1587e-03, -4.4291e-03,  7.8062e-03, -6.1921e-03, -6.7792e-03,\n",
       "                       -2.8259e-04, -4.2692e-03, -1.3349e-03, -3.2615e-03,  4.0059e-03,\n",
       "                        2.0613e-03,  1.3669e-04, -9.9215e-03, -2.5385e-03, -1.1769e-03,\n",
       "                       -3.9755e-03, -3.7939e-03, -3.1970e-03,  3.4402e-03,  6.0114e-04,\n",
       "                       -4.1183e-03, -3.8442e-03,  5.8975e-03,  1.0685e-02,  4.3932e-03,\n",
       "                        6.8100e-03, -3.7142e-03, -5.2526e-03, -1.4938e-02, -4.0272e-03,\n",
       "                        1.9599e-03,  4.2805e-03, -4.8547e-03, -3.3671e-03, -3.9853e-03,\n",
       "                        1.7413e-03, -8.0532e-03, -2.9880e-04,  3.3632e-03,  2.0716e-03,\n",
       "                        1.9408e-02, -2.4549e-03, -7.7729e-03, -3.0498e-03,  1.0522e-02,\n",
       "                        7.7000e-03, -4.8612e-03,  2.9886e-03,  4.4668e-03,  4.2814e-03,\n",
       "                       -1.7720e-03,  4.1763e-03, -5.2301e-03, -1.7140e-03,  3.3750e-03,\n",
       "                       -1.4118e-03,  4.6061e-03,  3.3906e-03,  5.6129e-03,  1.3054e-02,\n",
       "                       -3.6999e-03,  6.4585e-03, -5.1596e-03,  3.8929e-03,  9.3945e-03,\n",
       "                       -2.9931e-03,  5.1095e-03, -4.7051e-03,  3.2367e-03, -4.7619e-03,\n",
       "                       -7.5097e-03,  1.3086e-02,  6.0346e-03, -4.9649e-03,  3.2738e-03,\n",
       "                       -3.4394e-03,  3.9389e-03,  1.0442e-03, -1.0673e-04, -4.7900e-03,\n",
       "                        2.3691e-03, -6.3488e-03,  4.0878e-03,  2.4533e-03, -4.2321e-03,\n",
       "                       -4.2329e-03, -2.7422e-03, -4.4082e-03, -4.3358e-03, -1.9582e-03,\n",
       "                       -3.1397e-03, -3.4122e-04, -4.3427e-03, -3.3730e-03, -4.0921e-03,\n",
       "                       -4.4284e-03,  5.5496e-03, -4.3616e-03, -3.6698e-03, -4.3610e-04,\n",
       "                       -2.5012e-03, -1.1635e-03,  6.4753e-04, -3.7281e-03,  5.1358e-03,\n",
       "                        5.2610e-03,  3.1954e-03,  1.2408e-03, -8.6133e-03, -4.4697e-03,\n",
       "                        3.7254e-03,  5.1326e-03, -3.2776e-04,  7.1526e-03, -3.9723e-03,\n",
       "                       -6.9170e-03,  2.1902e-03, -5.2137e-03,  4.2915e-03, -4.3414e-03,\n",
       "                        8.7040e-03, -2.9848e-03,  4.2294e-03, -3.6518e-03,  2.9703e-03,\n",
       "                        5.4636e-03,  2.9922e-03,  1.7186e-02,  4.8193e-03, -6.4004e-03,\n",
       "                       -2.1842e-03, -3.5066e-03,  3.5562e-03,  1.3479e-03, -8.3039e-03,\n",
       "                        8.3565e-03, -7.4992e-03, -4.6657e-03,  3.0919e-03,  8.8774e-03,\n",
       "                        4.3530e-03,  1.5900e-03,  2.1076e-03, -5.4259e-03,  3.3306e-03,\n",
       "                        6.2139e-03, -5.5256e-03,  5.9385e-03,  1.0427e-03, -1.0761e-04,\n",
       "                        1.0032e-02,  4.6837e-03,  2.5156e-03,  3.2059e-03,  3.3217e-03,\n",
       "                       -3.8185e-03, -9.2116e-03, -1.1705e-02, -4.1201e-03, -3.7237e-03,\n",
       "                       -3.6440e-03, -3.7100e-03, -5.8002e-03, -3.6004e-03, -5.1765e-03,\n",
       "                        2.0488e-03, -4.9056e-03,  3.6254e-03,  2.5714e-03,  1.3295e-04,\n",
       "                       -1.4460e-02, -4.2778e-03, -2.6328e-03, -5.5595e-03, -7.6132e-03,\n",
       "                       -7.5211e-03,  6.1327e-03,  5.8642e-03, -4.9699e-03, -1.3038e-03,\n",
       "                        2.5147e-03,  2.9797e-03, -2.8752e-03,  4.1872e-03, -5.7392e-03,\n",
       "                        3.2465e-03, -7.1727e-04,  3.6021e-04, -3.3206e-03, -3.5797e-05,\n",
       "                        5.1532e-03,  3.7711e-03, -2.3998e-03,  4.1044e-03, -4.0899e-03,\n",
       "                        3.9500e-03, -4.3138e-03,  4.9775e-03, -1.8157e-03,  3.8862e-04,\n",
       "                        6.7379e-03, -4.3628e-03, -3.2840e-03,  2.8816e-03, -9.0252e-03,\n",
       "                        6.6618e-03, -4.0332e-03, -4.2546e-03, -7.8858e-03, -9.7965e-03,\n",
       "                        9.3558e-03, -7.5760e-03,  5.0253e-03, -4.3334e-03, -2.5216e-04,\n",
       "                       -1.4179e-02,  3.1651e-03,  6.2616e-03,  4.8660e-03, -3.4115e-03,\n",
       "                       -2.1770e-03, -3.1196e-03,  2.9694e-03, -3.8457e-03, -5.0311e-03,\n",
       "                        1.1413e-02, -3.2130e-03, -5.2915e-03, -3.6677e-03,  1.7252e-02,\n",
       "                       -2.3419e-04,  5.4369e-03, -4.0285e-03,  6.2530e-03, -1.7999e-02,\n",
       "                        4.1388e-03,  4.5002e-03,  1.9148e-03,  4.9790e-03,  2.7212e-03,\n",
       "                       -6.1289e-03, -1.7002e-03, -8.1437e-03,  8.4276e-03, -9.4028e-04,\n",
       "                        3.2660e-03,  1.1576e-02,  4.7458e-03, -5.9818e-03, -5.1035e-03,\n",
       "                        5.2555e-03,  4.2528e-03, -4.6884e-03,  4.1618e-03, -1.0648e-02,\n",
       "                       -1.1514e-03, -4.6083e-03, -1.2330e-02, -7.2215e-03,  3.7423e-03,\n",
       "                       -5.7141e-03, -8.7257e-03,  4.2588e-03, -6.5215e-03, -3.0712e-03,\n",
       "                       -3.3154e-03,  1.4624e-03, -5.7794e-03, -7.4088e-03,  2.4652e-03,\n",
       "                       -9.6212e-03,  4.3900e-03,  2.9495e-03,  4.6301e-03,  3.4700e-03,\n",
       "                        6.6827e-03, -1.5575e-04,  5.1452e-04,  2.8671e-03,  1.5225e-03,\n",
       "                       -3.9723e-03, -3.9037e-03, -3.4474e-03, -4.8821e-03, -3.5556e-04,\n",
       "                        3.9472e-03, -1.7310e-04,  5.4215e-03,  2.5714e-03,  4.2200e-03,\n",
       "                       -9.1908e-04,  1.3439e-03,  2.2399e-03, -4.2840e-03,  3.5632e-03,\n",
       "                       -2.3089e-03,  5.7734e-03,  8.1534e-03, -2.8216e-03, -6.7955e-03,\n",
       "                       -3.9763e-03,  2.9373e-03,  5.0094e-03,  8.5413e-03,  4.7782e-03,\n",
       "                        7.9034e-03, -5.4600e-03,  1.9513e-03, -4.9714e-03,  2.0976e-04,\n",
       "                       -5.0115e-03, -8.1317e-03, -2.1744e-03, -8.6390e-03, -3.9678e-03,\n",
       "                       -3.7198e-03,  5.4619e-03, -4.5709e-03, -3.1251e-03,  4.8670e-03,\n",
       "                        1.3421e-03, -7.8911e-03, -6.6294e-03,  3.7307e-03, -5.8549e-04,\n",
       "                       -8.9233e-03,  8.5135e-03,  6.1803e-03, -4.1413e-03,  6.0229e-03,\n",
       "                        4.6040e-03,  5.8787e-03,  3.7290e-03,  5.2530e-03, -3.7170e-03,\n",
       "                       -4.2242e-03, -2.6606e-03, -2.8523e-03, -3.5511e-03, -9.1759e-03,\n",
       "                       -1.7456e-03, -4.5735e-03,  2.9141e-03, -5.1981e-03, -6.1257e-03,\n",
       "                       -1.9106e-03,  2.2651e-03, -8.9097e-03, -3.2451e-03, -9.0762e-03,\n",
       "                        2.1568e-03, -3.5513e-03,  2.9911e-04,  3.6110e-03, -4.5909e-03,\n",
       "                        4.1531e-03,  5.7520e-03,  1.3462e-02, -2.4476e-03,  4.9096e-03,\n",
       "                        2.7745e-03,  3.9335e-03, -1.0111e-02, -3.3711e-03, -4.2710e-03,\n",
       "                        4.3854e-03, -7.6410e-03,  8.8055e-03,  2.2733e-03,  4.3297e-03,\n",
       "                       -2.5383e-03, -1.1673e-02, -4.4607e-03, -3.4238e-03,  4.7893e-03,\n",
       "                        4.8884e-03,  2.9652e-03,  5.7379e-03, -3.1034e-03,  4.2948e-03,\n",
       "                        5.0135e-03, -4.6806e-03, -4.6619e-03, -2.8200e-03,  7.2227e-03,\n",
       "                        1.7904e-03,  5.1323e-03,  1.6403e-03, -2.5907e-03, -5.1104e-03,\n",
       "                       -4.3196e-03, -7.4480e-03,  5.2451e-03,  2.9562e-03, -1.6064e-03,\n",
       "                       -2.3910e-03, -9.9376e-04, -5.7570e-03, -4.6288e-03, -3.2666e-03,\n",
       "                       -3.0189e-03, -8.8284e-05, -4.1838e-03, -6.7441e-03,  2.1495e-03,\n",
       "                        8.6248e-03,  5.0400e-03, -2.7669e-03,  3.6476e-03,  1.5045e-03,\n",
       "                        1.6061e-02,  3.3917e-03, -5.8622e-03,  1.0100e-03, -2.3004e-03,\n",
       "                        1.2884e-02,  6.8596e-03, -6.4698e-03,  3.9559e-03,  2.0940e-03,\n",
       "                       -5.2496e-03,  4.5535e-03,  3.1259e-03, -3.4593e-03, -9.6175e-03,\n",
       "                       -1.8640e-03,  8.2477e-04, -3.4805e-03,  1.0446e-02,  7.8250e-03,\n",
       "                        1.1425e-02,  4.7110e-03, -4.5705e-03, -7.8686e-03, -1.5081e-03,\n",
       "                        7.3926e-03, -1.9621e-03, -2.3839e-03, -1.2119e-05,  3.5089e-03,\n",
       "                       -3.8792e-03,  1.7862e-03,  3.3749e-03, -3.0174e-03,  3.2498e-03,\n",
       "                       -3.6583e-03, -8.0538e-03,  5.6563e-03,  1.2879e-02,  2.7750e-03,\n",
       "                       -6.0165e-03,  2.8138e-03, -1.7467e-02,  7.2501e-03,  4.7317e-03,\n",
       "                        4.6224e-03, -3.8619e-03, -3.1588e-03, -5.2800e-03, -3.7411e-03,\n",
       "                        8.5639e-03, -5.9791e-03, -3.9830e-03,  4.9194e-03,  4.3985e-03,\n",
       "                        5.4338e-03,  1.1100e-02,  3.6945e-03, -5.3960e-03, -3.7474e-03,\n",
       "                        4.2633e-03, -3.3566e-03, -5.5682e-03, -1.5117e-02, -3.3089e-03,\n",
       "                        5.7108e-03, -1.6387e-03, -7.0751e-03, -8.8451e-03,  8.0774e-03,\n",
       "                        1.9238e-02, -6.5268e-03,  6.0250e-03, -1.5923e-03, -1.0772e-03,\n",
       "                        7.0740e-03,  4.6783e-03, -5.4277e-03, -7.3042e-03, -8.9709e-03,\n",
       "                       -7.6728e-03,  6.2470e-04, -2.4585e-03,  6.6391e-03,  3.2351e-02,\n",
       "                        2.8810e-03, -2.5505e-03, -8.3829e-03, -4.6533e-03, -1.2787e-02,\n",
       "                        1.6808e-02,  3.9005e-03, -5.3662e-03,  4.1703e-04, -3.6343e-03,\n",
       "                        6.4692e-03, -3.0404e-03, -4.1113e-03,  6.3672e-03, -6.0570e-03,\n",
       "                       -2.8981e-03,  3.3786e-03,  3.2169e-03,  4.7213e-03,  2.0580e-03,\n",
       "                        3.4368e-03, -6.2850e-03, -3.1673e-03,  2.7867e-03,  3.2182e-03,\n",
       "                       -4.7639e-03,  4.8549e-03, -4.0817e-03, -4.4284e-03, -1.8652e-03,\n",
       "                       -2.8430e-03, -4.5943e-03,  3.2677e-03,  6.0314e-03,  4.8347e-03,\n",
       "                        2.3419e-03, -4.8477e-03, -5.3521e-03,  8.7235e-03, -4.7604e-03,\n",
       "                       -1.6624e-03, -1.4903e-03,  5.9749e-03,  1.0525e-03,  7.4865e-03,\n",
       "                       -1.5722e-03, -1.4786e-03, -2.2116e-03, -5.1797e-03,  3.5082e-03,\n",
       "                        3.5583e-03, -3.7053e-03, -4.6508e-03], device='cuda:0')),\n",
       "              ('model.models.1.0.running_mean',\n",
       "               tensor([ 9.8210e-01,  9.3805e-01, -2.0219e-01, -1.4307e-01,  8.8426e-01,\n",
       "                       -1.0566e+00, -5.2090e-01, -1.1543e+00, -1.6924e+00,  7.5543e-01,\n",
       "                        1.1933e+00,  1.3661e+00,  7.7243e-02, -5.4255e-01, -8.9440e-01,\n",
       "                        6.1734e-01,  8.6974e-01, -5.0750e-01,  1.4672e+00,  5.1022e-01,\n",
       "                       -2.0283e-01, -1.2540e+00,  4.8986e-01,  2.6119e-01,  2.2372e+00,\n",
       "                        6.9018e-03, -3.9457e-01,  2.7503e+00,  1.8438e-01, -9.5324e-01,\n",
       "                        1.4534e+00, -1.5337e-01,  1.2343e-01, -1.8682e-01,  4.4722e-01,\n",
       "                       -1.1321e+00, -6.4513e-01, -2.2843e-03,  3.7250e-01,  3.2334e-01,\n",
       "                       -4.3346e-02, -4.7668e-02,  1.3870e-01, -4.8358e-01, -6.0725e-02,\n",
       "                        4.2871e-01,  5.3810e-01, -3.1454e-01, -6.9992e-01, -5.1473e-01,\n",
       "                       -8.7694e-01, -2.1256e-01, -6.5494e-02,  7.2137e-01,  3.2008e-01,\n",
       "                        3.4594e-01,  3.6777e-01,  5.2211e-01,  1.5214e+00,  1.2575e-01,\n",
       "                        6.7909e-01,  1.4535e+00,  6.0047e-01, -1.0346e+00,  7.7995e-01,\n",
       "                        3.0898e-01, -2.6208e-01,  1.0491e-01, -9.1885e-01,  3.0635e-01,\n",
       "                        7.5633e-01, -1.2643e+00, -6.7559e-01,  3.2402e-01,  2.8028e-01,\n",
       "                       -7.7575e-01, -4.4445e-01, -1.0799e+00,  1.5539e-01,  5.4578e-01,\n",
       "                        1.9501e-02,  8.2683e-01, -7.0135e-01,  2.3432e-01,  3.9259e-01,\n",
       "                        8.1973e-01,  2.0346e+00, -3.8560e-01, -2.5065e-02,  8.1589e-01,\n",
       "                        5.2652e-01, -1.6759e+00, -7.0493e-01, -3.9751e-01,  7.2431e-01,\n",
       "                       -1.3524e+00, -5.8320e-01, -2.6111e-01,  1.9944e-01, -7.7698e-01,\n",
       "                        8.7715e-01,  2.9452e-03, -5.3215e-01,  3.7947e-01,  2.5441e-01,\n",
       "                        1.8796e-01,  2.7388e-01, -5.6177e-01, -1.4260e+00, -1.4986e+00,\n",
       "                        1.4198e+00, -3.6349e-01, -5.1779e-01,  1.1932e-01, -8.2582e-01,\n",
       "                       -5.6597e-01,  7.3080e-01,  1.9765e-01,  6.4201e-01,  6.6324e-01,\n",
       "                       -3.0048e-01, -4.4133e-01, -1.4313e+00, -1.0966e-01, -6.1716e-01,\n",
       "                        3.8678e-01, -1.5441e+00,  7.4190e-02, -5.8955e-01,  7.5482e-01,\n",
       "                        7.6106e-01,  9.9759e-02,  7.3377e-01,  1.0035e+00, -6.8321e-01,\n",
       "                        3.6511e-01,  5.7590e-01,  1.6009e-01,  2.5338e-01,  1.5327e+00,\n",
       "                        9.7011e-01,  1.3169e+00,  4.4585e-01, -8.4888e-02, -7.4249e-01,\n",
       "                        2.0523e-01,  2.2393e+00, -2.3722e-03,  2.9480e-01, -7.0085e-01,\n",
       "                        2.3055e-01, -8.9591e-01,  5.4105e-01,  7.6986e-01, -2.9083e-01,\n",
       "                        4.8684e-01,  1.2024e+00,  8.3950e-01,  4.6604e-01,  8.0105e-01,\n",
       "                       -9.4450e-01, -3.5312e-01, -4.8445e-01,  5.0633e-01, -8.9678e-01,\n",
       "                        1.2296e+00, -8.6177e-01, -1.4432e+00, -9.5814e-03, -1.2177e-01,\n",
       "                       -3.0543e-01, -8.1602e-02,  4.5164e-01, -6.2177e-02,  2.0467e-01,\n",
       "                       -4.9053e-01, -8.2411e-01, -7.0276e-01, -3.9567e-02,  4.0496e-01,\n",
       "                        3.6309e-01,  1.9314e-01, -2.0887e+00,  6.9221e-01,  1.9865e-01,\n",
       "                       -5.1567e-01, -1.0589e+00, -4.8644e-01, -8.9919e-02, -4.8299e-01,\n",
       "                       -2.3749e-01,  2.3684e-01,  3.3625e-01,  2.1057e-01, -7.4558e-01,\n",
       "                        2.7047e-01, -6.2994e-01, -5.3630e-01,  8.3722e-01, -7.8090e-01,\n",
       "                        2.5830e-01,  1.3197e-01, -1.8310e-01,  5.5666e-01, -5.5728e-01,\n",
       "                       -4.1938e-02, -1.9311e-01, -1.1599e+00,  8.4714e-01,  1.2857e+00,\n",
       "                        1.1868e-01, -3.6619e-01,  3.9976e-01,  3.3294e-01,  1.8885e-01,\n",
       "                       -2.4398e+00, -3.2552e+00,  5.5962e-01, -1.3524e-01,  1.0643e+00,\n",
       "                       -4.9247e-01,  4.1305e-01,  5.5913e-02,  8.9565e-01,  3.1164e-01,\n",
       "                       -2.4207e-01, -3.6666e-01,  1.7486e+00, -4.0572e-01, -1.1707e+00,\n",
       "                       -1.6011e+00,  7.3113e-01, -3.8137e-01,  1.0785e+00, -1.2032e+00,\n",
       "                        1.2458e+00,  5.3249e-01,  4.3497e-01,  8.1290e-01,  1.7839e-01,\n",
       "                       -7.2202e-01,  8.1175e-02,  2.9873e-01, -6.2475e-01,  1.3743e+00,\n",
       "                       -7.2784e-01, -4.4584e-01,  1.0079e+00, -2.6379e-01, -1.1872e+00,\n",
       "                        7.3541e-01,  6.6136e-01,  2.8962e-01, -6.2981e-01, -7.4218e-01,\n",
       "                       -2.2119e-02, -1.8362e+00, -1.8774e-02,  6.3372e-01, -2.8793e-01,\n",
       "                       -1.1495e+00, -6.4727e-01, -1.1154e+00, -3.7298e-01, -5.0678e-01,\n",
       "                       -4.0532e-02, -1.0847e+00,  1.4421e+00, -4.7234e-02,  3.8769e-01,\n",
       "                        7.9078e-01,  4.3182e-01,  1.4986e-01, -1.7686e-01, -3.8827e-02,\n",
       "                       -8.9221e-02, -2.9826e-01,  3.2014e-01,  4.9626e-01, -3.6696e-01,\n",
       "                       -3.8743e-01,  1.5796e+00, -2.5715e-02,  2.8621e-01,  6.7494e-02,\n",
       "                        2.0413e-01,  1.2241e-01,  1.1905e+00,  1.0761e+00,  8.4736e-01,\n",
       "                       -5.8711e-01, -1.0525e+00,  5.7763e-01,  1.3644e+00,  4.0961e-01,\n",
       "                       -7.2786e-01, -1.1788e+00, -3.5206e-01, -7.2341e-01,  4.3359e-01,\n",
       "                       -6.0273e-01,  6.8564e-02,  1.1338e-01,  8.3436e-01,  8.6848e-01,\n",
       "                        6.6363e-02, -1.2833e+00,  6.8069e-01, -1.3549e+00, -4.7626e-02,\n",
       "                        2.3072e-01, -1.8809e+00, -3.3613e-01,  4.1126e-01, -9.7655e-01,\n",
       "                       -1.3181e-01,  9.7360e-01,  1.2185e+00,  7.5149e-01, -3.4700e-01,\n",
       "                       -1.3154e+00, -1.1537e+00,  6.3266e-01,  8.1299e-01, -1.5367e-01,\n",
       "                        8.6783e-01,  9.0563e-01, -5.8598e-01, -1.4391e-01,  3.4215e-02,\n",
       "                        6.9487e-01,  1.9614e-01, -7.6946e-01, -1.1430e+00,  8.8868e-01,\n",
       "                        2.0144e-01, -1.2731e+00, -7.4525e-01, -1.2745e+00,  3.7285e-02,\n",
       "                        5.9002e-01,  1.4820e+00,  1.2547e-01, -9.0311e-01, -5.7260e-01,\n",
       "                        7.2185e-01, -1.1125e+00, -8.0766e-02,  3.9971e-01, -1.2419e-01,\n",
       "                       -3.0206e-02,  2.2100e-01, -2.0311e-01,  5.8600e-01, -1.4198e+00,\n",
       "                        8.4458e-01, -2.2792e-01, -3.7255e-01, -6.9668e-01, -4.9217e-01,\n",
       "                       -1.2060e-01, -3.5698e-02,  6.8682e-01,  8.0143e-01,  1.6117e+00,\n",
       "                       -5.1345e-01, -5.0383e-01,  7.4801e-01,  3.7868e-02, -1.2140e+00,\n",
       "                       -1.1156e+00, -3.7048e-01, -1.4691e+00, -1.2827e-01, -6.0475e-01,\n",
       "                       -3.6326e-01,  8.0212e-01, -1.5291e+00,  6.6055e-01, -1.3391e+00,\n",
       "                        2.8076e-01,  1.3586e+00,  2.0603e-01, -3.7656e-01,  6.9280e-01,\n",
       "                       -3.4571e-01,  3.0315e-01, -1.1799e+00, -9.0778e-02, -5.4225e-01,\n",
       "                       -1.2254e+00,  1.2075e+00, -7.9242e-02, -8.8429e-01, -5.4300e-01,\n",
       "                       -5.3001e-01,  1.2734e+00, -6.5153e-01, -7.3643e-01,  6.3465e-01,\n",
       "                       -3.9035e-01,  2.0381e+00, -1.7419e-01, -1.0611e+00,  3.7011e-01,\n",
       "                        2.6826e-02, -9.5931e-01,  4.6448e-01, -5.1003e-01,  1.4832e+00,\n",
       "                       -3.2436e-01,  3.6842e-01,  2.2943e-01, -5.3444e-01, -5.3523e-01,\n",
       "                       -2.3918e-01,  1.8546e-01,  1.7041e+00, -1.4171e-01, -7.0170e-01,\n",
       "                        2.5937e-01, -9.7524e-02, -2.4757e-01,  4.6729e-01, -7.9948e-01,\n",
       "                        5.5939e-01,  5.8434e-01, -1.8509e+00,  2.1917e-01,  1.6590e+00,\n",
       "                       -2.6091e-01,  3.7463e-01,  3.2586e-01,  3.3833e-01, -7.8647e-01,\n",
       "                        9.9846e-01, -1.4795e-01,  5.5156e-01,  9.4044e-01,  1.1905e+00,\n",
       "                       -9.6840e-01,  9.7278e-01, -4.9590e-01,  1.7151e+00, -1.1991e-01,\n",
       "                       -1.4214e+00, -6.1449e-01, -2.2893e-01,  1.1144e+00,  1.1863e+00,\n",
       "                       -1.0865e+00,  3.2422e-02,  9.8689e-01,  6.0119e-01, -2.9517e-01,\n",
       "                       -1.8972e-02, -3.7334e-01, -2.8775e-01,  8.2443e-01,  4.3109e-02,\n",
       "                        2.0397e-01,  1.3499e+00, -4.0119e-01,  9.1958e-03, -5.8371e-01,\n",
       "                        7.9522e-02,  5.9825e-01, -9.2188e-02, -2.2313e-01,  2.1614e+00,\n",
       "                       -2.1192e-01, -2.3623e-01, -2.5633e-02, -5.4986e-01, -3.0813e-01,\n",
       "                        5.8116e-01,  9.3231e-01, -1.0742e-01, -7.1142e-01,  3.7329e-01,\n",
       "                       -8.1629e-01,  5.7952e-01, -1.5088e-01,  2.2482e-01,  2.2466e-01,\n",
       "                        6.9667e-02, -9.8966e-01, -1.2046e+00, -7.5128e-01, -4.1423e-01,\n",
       "                        3.4217e-01, -3.9521e-01, -4.2128e-01, -1.0829e+00,  4.1352e-01,\n",
       "                       -5.5012e-01,  4.5205e-01,  1.0984e+00, -7.2407e-01, -2.7861e-01,\n",
       "                        5.3290e-01, -8.0300e-01,  7.2912e-01,  2.3494e-01, -3.2769e-01,\n",
       "                        8.0753e-01, -1.5865e-01,  6.9672e-01, -7.2541e-03, -2.6653e-02,\n",
       "                        4.5929e-01, -2.8217e-01, -6.1627e-01,  1.2374e-01,  8.7530e-01,\n",
       "                        4.0379e-01,  7.5937e-02, -1.8853e-02,  5.5888e-01, -7.0791e-02,\n",
       "                        8.2408e-01, -1.0066e+00,  4.6956e-01, -1.5675e-01, -9.1834e-01,\n",
       "                        6.7313e-01, -1.0319e+00,  2.3243e-01, -2.0761e-01,  6.5122e-01,\n",
       "                        8.0647e-01, -5.7672e-01, -3.0195e-01, -5.3521e-01,  3.1913e-01,\n",
       "                       -3.7016e-01,  1.5900e-01, -2.8968e-01,  6.3683e-01, -6.9894e-01,\n",
       "                        1.1348e+00, -3.1117e-01,  4.7886e-01,  1.2087e-01,  2.0463e+00,\n",
       "                        9.0171e-01, -2.6712e-01, -4.0638e-01, -4.1360e-01,  4.5173e-01,\n",
       "                        3.6219e-01,  1.0145e+00,  4.1852e-01,  1.0885e+00,  4.4601e-01,\n",
       "                        6.5319e-01, -1.1781e+00,  7.1619e-01,  5.9788e-01,  5.9344e-01,\n",
       "                        1.4933e-01, -6.7772e-01, -1.4201e-02,  6.6070e-01, -8.6359e-02,\n",
       "                        3.1423e-01, -5.0963e-01,  1.1287e+00,  1.3275e+00, -7.2091e-02,\n",
       "                        1.1825e-01, -2.9113e-02, -3.2997e-01,  1.8679e-01, -8.6496e-01,\n",
       "                        9.2999e-02, -1.2276e-01,  7.5000e-01, -6.3307e-01, -1.2066e+00,\n",
       "                        7.3782e-01,  1.9224e+00, -9.9910e-01, -2.9466e-01,  1.8136e-01,\n",
       "                       -5.4803e-01, -3.6725e-02, -3.5847e-03,  1.0534e+00,  3.8906e-01,\n",
       "                        9.8659e-01, -1.0164e+00,  9.3317e-01,  1.2079e-01, -2.0429e-01,\n",
       "                        1.0458e-01, -1.0478e-01, -4.2669e-01, -2.3007e-01, -1.1100e+00,\n",
       "                       -6.6521e-01, -2.8587e-01, -5.9336e-01, -3.5720e-01, -6.4786e-01,\n",
       "                       -9.9307e-01, -9.9241e-01,  1.7824e-01, -1.8162e-01, -1.4954e+00,\n",
       "                       -1.8714e-01, -1.1974e+00,  1.6014e+00,  8.3740e-01,  2.7353e-01,\n",
       "                       -3.8404e-01,  1.4561e+00, -3.0059e-01, -6.3743e-01,  5.0076e-01,\n",
       "                        6.7382e-02,  1.2611e-02, -7.8999e-01,  5.2876e-01, -4.2254e-01,\n",
       "                        5.6191e-01,  8.0004e-01, -2.0343e-01,  9.4232e-01, -1.8534e-01,\n",
       "                       -4.6545e-01,  9.8913e-02, -2.0357e-01,  1.4912e-01,  2.7938e-01,\n",
       "                       -1.7335e-02,  1.2900e+00, -5.4441e-02, -9.0624e-02, -1.9231e-01,\n",
       "                       -9.0167e-01, -2.8438e-01, -5.3565e-01,  7.6831e-01,  9.0559e-01,\n",
       "                       -2.2492e+00,  9.2775e-02,  9.1045e-01, -1.1337e+00, -1.5243e+00,\n",
       "                       -1.5666e+00, -7.3815e-01, -8.1254e-01, -4.3972e-01,  2.3575e-01,\n",
       "                        5.9956e-01, -6.9047e-01, -4.7905e-01, -3.4938e-01,  8.0614e-01,\n",
       "                        3.9709e-02,  2.5717e-01, -1.1192e+00,  1.1857e+00, -6.1020e-01,\n",
       "                        1.1944e-01, -9.2957e-01,  6.7623e-03, -3.1236e-02, -3.1273e-01,\n",
       "                       -1.1429e+00, -2.0876e-01,  1.6847e-01,  3.9985e-01,  6.3187e-01,\n",
       "                        7.0069e-01,  1.4147e-01,  1.1097e+00,  7.7748e-01, -1.1396e+00,\n",
       "                        9.8795e-01, -2.0217e+00, -5.2516e-03, -7.5030e-01, -2.1170e-01,\n",
       "                        1.1770e+00, -7.3081e-01,  1.2529e+00, -1.5755e+00, -3.8539e-01,\n",
       "                        1.5283e+00, -5.8883e-01, -1.2918e+00, -9.4875e-01, -6.6196e-01,\n",
       "                       -9.0123e-01,  4.7442e-01, -1.3164e+00,  8.5914e-01,  6.0518e-01,\n",
       "                       -8.1389e-01, -1.3310e+00, -7.5917e-01, -1.3262e+00,  1.9695e+00,\n",
       "                       -4.6020e-01,  3.7424e-02, -4.7298e-01, -2.0852e+00, -2.6900e-01,\n",
       "                        3.6790e-02, -8.9319e-01, -7.5217e-01,  2.3049e+00,  5.9589e-01,\n",
       "                        2.8292e-01, -7.8808e-01,  5.1183e-02, -5.9894e-02, -1.0905e+00,\n",
       "                       -6.9036e-01,  1.4657e-02, -1.1956e+00,  4.4958e-01, -1.8007e+00,\n",
       "                       -4.4270e-01, -2.9736e-01,  4.7271e-02, -1.2328e-01, -8.0929e-02,\n",
       "                        1.1424e-01,  7.7619e-02,  3.0560e-01, -9.4021e-01,  1.0723e-01,\n",
       "                        4.1616e-01, -2.9249e-01, -2.4022e-01,  5.8281e-01,  5.8934e-01,\n",
       "                       -4.9007e-01, -3.1380e-01, -4.3673e-02, -4.5717e-01,  5.8567e-01,\n",
       "                       -2.0958e-01,  4.7509e-01,  2.4274e-01, -4.1878e-01,  7.6924e-01,\n",
       "                        4.2212e-01, -6.6615e-02,  2.0203e+00, -1.4391e+00, -3.8290e-01,\n",
       "                        6.5254e-01,  1.2739e+00, -1.6491e+00,  1.3238e+00,  2.0131e-01,\n",
       "                        1.4564e+00, -1.4078e+00,  2.1466e-01, -2.8992e-01,  1.7123e+00,\n",
       "                       -7.1860e-02, -2.5225e+00,  5.4282e-01,  8.0453e+00,  1.0090e-01,\n",
       "                        4.1966e-02,  9.4869e-04,  5.6090e-04,  9.2229e-04,  3.3937e-03,\n",
       "                        4.5772e-03,  2.6200e-01,  4.0203e-03,  1.1194e-03,  9.1292e-04,\n",
       "                        7.8955e-03,  3.5894e-04,  4.1927e-02,  7.3048e-04,  3.0294e-04,\n",
       "                        1.5205e-04,  6.1445e-03,  4.5114e-03,  2.0524e-02,  2.6550e-40,\n",
       "                        3.1076e-03,  1.7403e-03,  2.2230e-04,  7.0309e-03,  4.6281e-01,\n",
       "                        0.0000e+00,  7.1292e-03,  2.6921e-03,  1.3616e-02,  1.3599e-02,\n",
       "                        8.5086e-02,  4.6015e-03,  1.1194e-03,  8.6260e-03,  4.6281e-01,\n",
       "                        2.2567e-02,  3.1076e-03,  6.9670e-02,  1.1233e-02,  4.1177e-01,\n",
       "                        4.4935e-03,  6.2799e-03,  1.4881e-02,  1.9637e-01,  1.1059e-02,\n",
       "                        1.7020e-01,  2.5071e-02,  3.3933e-02,  1.1970e-01,  1.0311e-02,\n",
       "                        9.9190e-03,  1.1190e-01,  1.1794e-03,  1.9288e-02,  1.6667e-03,\n",
       "                        7.5048e-04,  2.3278e-02,  6.0150e-03,  1.5466e-02,  1.7625e-02,\n",
       "                        6.3350e-04,  2.5654e-02,  3.3214e-04,  4.9740e-03,  6.6833e-02,\n",
       "                        2.5763e-03,  6.7402e-02,  1.5132e-02,  1.9665e-03,  1.0535e-03,\n",
       "                        4.8966e-03,  8.9136e-03,  4.7320e-03], device='cuda:0')),\n",
       "              ('model.models.1.0.running_var',\n",
       "               tensor([2.5093e+00, 1.9966e+00, 2.7897e+00, 1.8826e+00, 2.5171e+00, 1.5824e+00,\n",
       "                       3.2696e+00, 2.4971e+00, 2.3035e+00, 1.8421e+00, 2.5928e+00, 2.4856e+00,\n",
       "                       2.5670e+00, 2.4256e+00, 1.6950e+00, 2.2123e+00, 1.6765e+00, 2.1395e+00,\n",
       "                       2.4214e+00, 2.6485e+00, 3.8003e+00, 1.4691e+00, 2.1581e+00, 2.3077e+00,\n",
       "                       3.4791e+00, 1.5771e+00, 1.8958e+00, 1.9786e+00, 2.1152e+00, 2.5469e+00,\n",
       "                       2.3325e+00, 2.5072e+00, 1.9147e+00, 2.8217e+00, 2.0650e+00, 2.3532e+00,\n",
       "                       2.7054e+00, 1.2797e+00, 6.0939e-03, 2.2306e+00, 1.6426e+00, 2.4089e+00,\n",
       "                       1.8841e+00, 2.4291e+00, 2.7479e+00, 2.4964e+00, 3.4344e+00, 2.6940e+00,\n",
       "                       1.7987e+00, 1.8494e+00, 2.4519e+00, 1.8406e+00, 2.9864e+00, 2.2238e+00,\n",
       "                       2.3627e+00, 2.3794e+00, 1.6651e+00, 2.5143e+00, 1.5454e+00, 1.5712e+00,\n",
       "                       3.2654e+00, 2.0623e+00, 2.2966e+00, 3.2683e+00, 1.7509e+00, 1.7807e+00,\n",
       "                       2.6117e+00, 2.3114e+00, 1.8840e+00, 1.6550e+00, 2.3134e+00, 2.2327e+00,\n",
       "                       1.9200e+00, 2.8118e+00, 2.3017e+00, 2.6083e+00, 1.1792e+00, 2.0090e+00,\n",
       "                       2.6529e+00, 1.9155e+00, 2.0110e+00, 2.8543e+00, 1.9235e+00, 2.7089e+00,\n",
       "                       1.8712e+00, 3.0436e+00, 2.6413e+00, 2.0102e+00, 1.7131e+00, 2.3357e+00,\n",
       "                       1.8020e+00, 1.3253e+00, 2.2007e+00, 2.6265e+00, 1.7523e+00, 2.2345e+00,\n",
       "                       1.9862e+00, 2.9699e+00, 2.6348e+00, 2.1854e+00, 3.1641e+00, 1.9104e+00,\n",
       "                       2.7817e+00, 2.2920e+00, 2.1974e+00, 2.1665e+00, 2.6581e+00, 1.9408e+00,\n",
       "                       2.2122e+00, 4.2424e+00, 1.7288e+00, 2.1785e+00, 2.5739e+00, 2.3717e+00,\n",
       "                       1.8040e+00, 1.7380e+00, 1.6936e+00, 2.6007e+00, 2.0247e+00, 2.0949e+00,\n",
       "                       2.2590e+00, 2.4332e+00, 1.7928e+00, 2.9081e+00, 1.9770e+00, 2.2431e+00,\n",
       "                       2.9384e+00, 2.0684e+00, 2.6991e+00, 1.4657e+00, 2.8317e+00, 2.8419e+00,\n",
       "                       2.1532e+00, 2.5748e+00, 1.3648e+00, 2.5255e+00, 1.7422e+00, 2.4074e+00,\n",
       "                       2.1333e+00, 1.9695e+00, 1.8060e+00, 2.9997e+00, 1.9845e+00, 2.1993e+00,\n",
       "                       2.7637e+00, 2.2891e+00, 2.8320e+00, 3.0773e+00, 2.1870e+00, 2.1694e+00,\n",
       "                       2.2761e+00, 2.6541e+00, 1.6600e+00, 1.8454e+00, 2.5141e+00, 2.1525e+00,\n",
       "                       1.7215e+00, 2.1952e+00, 1.5678e+00, 1.9014e+00, 2.5640e+00, 1.6631e+00,\n",
       "                       2.3089e+00, 2.1912e+00, 3.0407e+00, 2.5823e+00, 2.4153e+00, 3.0837e+00,\n",
       "                       1.9354e+00, 2.3513e+00, 1.8576e+00, 2.4078e+00, 2.0474e+00, 2.4617e+00,\n",
       "                       1.8530e+00, 2.0999e+00, 2.0149e+00, 1.8335e+00, 2.0978e+00, 1.8685e+00,\n",
       "                       1.8151e+00, 2.0017e+00, 2.7224e+00, 2.0174e+00, 9.8588e-01, 2.2088e+00,\n",
       "                       2.5916e+00, 2.7872e+00, 3.3163e+00, 1.3833e+00, 1.8851e+00, 2.1924e+00,\n",
       "                       2.1181e+00, 2.7902e+00, 2.2078e+00, 1.6179e+00, 1.7951e+00, 3.0501e+00,\n",
       "                       2.2774e+00, 3.0234e+00, 1.9470e+00, 2.2150e+00, 2.5220e+00, 2.5361e+00,\n",
       "                       2.4378e+00, 2.1530e+00, 3.7203e+00, 3.6508e+00, 2.0067e+00, 2.1563e+00,\n",
       "                       2.0518e+00, 2.8324e+00, 2.3657e+00, 1.7991e+00, 2.4501e+00, 2.4283e+00,\n",
       "                       3.7208e+00, 1.6192e+00, 2.2716e+00, 2.1130e+00, 6.2853e+00, 4.2117e+00,\n",
       "                       1.5185e+00, 2.7678e+00, 2.4083e+00, 1.8103e+00, 2.3385e+00, 3.8054e+00,\n",
       "                       1.7533e+00, 2.0781e+00, 3.5757e+00, 3.0601e+00, 1.9302e+00, 2.4603e+00,\n",
       "                       2.5370e+00, 1.6691e+00, 3.0377e+00, 2.3968e+00, 2.2498e+00, 4.2165e+00,\n",
       "                       2.6191e+00, 2.0425e+00, 1.9832e+00, 1.9468e+00, 2.2101e+00, 2.5335e+00,\n",
       "                       3.3272e+00, 1.6520e+00, 2.2294e+00, 4.1586e+00, 2.0479e+00, 2.2159e+00,\n",
       "                       3.3408e+00, 1.5404e+00, 2.2553e+00, 2.0733e+00, 3.9860e+00, 2.5906e+00,\n",
       "                       2.8489e+00, 2.4070e+00, 2.3875e+00, 3.7333e+00, 2.0041e+00, 2.7746e+00,\n",
       "                       1.6899e+00, 2.6179e+00, 3.6795e+00, 2.2422e+00, 1.7375e+00, 2.4818e+00,\n",
       "                       3.0704e+00, 2.3652e+00, 2.8569e+00, 1.5224e+00, 1.9747e+00, 2.4724e+00,\n",
       "                       2.7336e+00, 1.9338e+00, 1.9193e+00, 1.9695e+00, 1.6518e+00, 2.9019e+00,\n",
       "                       1.5507e+00, 1.7767e+00, 1.9378e+00, 1.9733e+00, 2.4437e+00, 2.4476e+00,\n",
       "                       2.6327e+00, 2.1656e+00, 1.7006e+00, 2.1637e+00, 3.1677e+00, 2.2939e+00,\n",
       "                       2.1608e+00, 2.1163e+00, 3.7907e+00, 2.3924e+00, 2.0193e+00, 1.8954e+00,\n",
       "                       2.5097e+00, 1.8090e+00, 3.3448e+00, 3.3129e+00, 2.7633e+00, 1.9473e+00,\n",
       "                       2.6467e+00, 2.5310e+00, 3.1543e+00, 2.1773e+00, 2.1513e+00, 2.7368e+00,\n",
       "                       1.6921e+00, 2.6238e+00, 1.8870e+00, 1.7354e+00, 2.5017e+00, 2.6151e+00,\n",
       "                       2.1368e+00, 1.7985e+00, 2.5204e+00, 1.3186e+00, 2.4506e+00, 1.8851e+00,\n",
       "                       2.0125e+00, 2.7195e+00, 1.5729e+00, 2.1676e+00, 3.2327e+00, 4.0760e+00,\n",
       "                       2.0142e+00, 1.4966e+00, 2.3659e+00, 2.1147e+00, 2.7440e+00, 2.8267e+00,\n",
       "                       2.7114e+00, 3.1607e+00, 2.6568e+00, 2.7220e+00, 2.1826e+00, 1.4710e+00,\n",
       "                       3.6491e+00, 2.0864e+00, 3.2392e+00, 2.5192e+00, 2.1647e+00, 1.5769e+00,\n",
       "                       1.8183e+00, 2.7389e+00, 1.6217e+00, 2.6594e+00, 2.4012e+00, 2.1669e+00,\n",
       "                       2.0723e+00, 2.5080e+00, 2.2172e+00, 2.3005e+00, 2.3599e+00, 2.2476e+00,\n",
       "                       1.8773e+00, 1.9392e+00, 1.5690e+00, 2.1355e+00, 1.9959e+00, 1.9495e+00,\n",
       "                       2.0374e+00, 3.1319e+00, 1.8242e+00, 2.4157e+00, 2.3229e+00, 1.5130e+00,\n",
       "                       2.1455e+00, 1.8527e+00, 1.7579e+00, 1.7176e+00, 1.2959e+00, 2.2800e+00,\n",
       "                       2.2961e+00, 3.1427e+00, 2.1201e+00, 2.5197e+00, 2.2463e+00, 2.2467e+00,\n",
       "                       1.5090e+00, 2.6472e+00, 3.1799e+00, 2.1553e+00, 2.9169e+00, 1.9985e+00,\n",
       "                       2.3047e+00, 1.7430e+00, 2.4773e+00, 2.2324e+00, 2.5108e+00, 1.6060e+00,\n",
       "                       2.1594e+00, 3.9470e+00, 2.2722e+00, 2.1869e+00, 1.6715e+00, 2.0526e+00,\n",
       "                       2.0054e+00, 2.6059e+00, 2.6547e+00, 1.9838e+00, 2.3036e+00, 2.4241e+00,\n",
       "                       1.4004e+00, 3.0217e+00, 2.5950e+00, 2.7768e+00, 2.0837e+00, 2.1647e+00,\n",
       "                       1.7346e+00, 7.1828e-01, 1.8781e+00, 2.3106e+00, 1.6277e+00, 2.8412e+00,\n",
       "                       2.0662e+00, 1.9643e+00, 3.7281e+00, 2.7863e+00, 2.4656e+00, 2.1216e+00,\n",
       "                       2.4468e+00, 2.5873e+00, 2.3600e+00, 1.4819e+00, 5.5531e+00, 2.1487e+00,\n",
       "                       2.9783e+00, 1.8427e+00, 2.2590e+00, 2.0154e+00, 1.3318e+00, 2.7127e+00,\n",
       "                       2.2854e+00, 1.9309e+00, 2.0531e+00, 1.8829e+00, 2.3824e+00, 2.3739e+00,\n",
       "                       2.2449e+00, 2.9878e+00, 2.9556e+00, 2.4086e+00, 1.9393e+00, 4.8866e+00,\n",
       "                       2.1340e+00, 2.0541e+00, 2.3027e+00, 3.4658e+00, 1.8397e+00, 2.8424e+00,\n",
       "                       1.8745e+00, 2.3734e+00, 2.3793e+00, 1.7292e+00, 1.4187e+00, 2.0219e+00,\n",
       "                       3.2821e+00, 1.8968e+00, 2.9160e+00, 4.5571e+00, 2.0746e+00, 2.3118e+00,\n",
       "                       1.6980e+00, 3.9682e+00, 2.6721e+00, 2.6480e+00, 2.0550e+00, 2.9848e+00,\n",
       "                       1.8831e+00, 2.5089e+00, 2.3559e+00, 3.2465e+00, 3.2369e+00, 2.0985e+00,\n",
       "                       3.8034e+00, 2.5644e+00, 1.5189e+00, 1.8953e+00, 2.9359e+00, 1.6995e+00,\n",
       "                       2.4922e+00, 2.0610e+00, 2.2406e+00, 1.8759e+00, 2.3843e+00, 1.6655e+00,\n",
       "                       2.2208e+00, 3.5333e+00, 2.0818e+00, 2.2930e+00, 2.4802e+00, 1.9442e+00,\n",
       "                       2.0252e+00, 2.1959e+00, 2.5895e+00, 2.3066e+00, 1.7062e+00, 1.7295e+00,\n",
       "                       1.3143e+00, 2.2250e+00, 2.2984e+00, 1.8489e+00, 2.4969e+00, 2.4214e+00,\n",
       "                       2.4066e+00, 2.1361e+00, 2.2212e+00, 2.2777e+00, 1.8045e+00, 2.1949e+00,\n",
       "                       3.2949e+00, 1.8345e+00, 3.2847e+00, 2.1359e+00, 1.9861e+00, 2.3772e+00,\n",
       "                       2.3902e+00, 2.1544e+00, 2.9110e+00, 2.4336e+00, 2.1746e+00, 2.6047e+00,\n",
       "                       2.1210e+00, 2.2623e+00, 2.8633e+00, 1.5688e+00, 2.2857e+00, 2.4214e+00,\n",
       "                       2.2955e+00, 2.3491e+00, 2.4421e+00, 2.2174e+00, 3.0053e+00, 2.4508e+00,\n",
       "                       1.3990e+00, 2.6306e+00, 1.8462e+00, 2.1895e+00, 2.7434e+00, 2.0074e+00,\n",
       "                       3.2145e+00, 1.8987e+00, 2.1788e+00, 1.4136e+00, 2.1571e+00, 2.4346e+00,\n",
       "                       1.5223e+00, 2.8676e+00, 1.9759e+00, 1.9245e+00, 2.3290e+00, 2.8856e+00,\n",
       "                       2.8771e+00, 1.3925e+00, 2.1607e+00, 1.6559e+00, 3.0403e+00, 1.9724e+00,\n",
       "                       2.3991e+00, 1.8797e+00, 1.7426e+00, 1.9003e+00, 2.8175e+00, 2.4069e+00,\n",
       "                       2.2238e+00, 2.2039e+00, 1.4772e+00, 1.9771e+00, 1.4074e+00, 1.7382e+00,\n",
       "                       1.7525e+00, 2.0053e+00, 3.6883e+00, 3.0801e+00, 3.7600e+00, 8.9690e-01,\n",
       "                       3.4626e+00, 2.5865e+00, 2.0376e+00, 2.2691e+00, 2.2217e+00, 2.1275e+00,\n",
       "                       1.6808e+00, 2.0112e+00, 2.3099e+00, 1.8504e+00, 2.8029e+00, 2.5367e+00,\n",
       "                       2.8315e+00, 1.0475e+00, 1.9572e+00, 2.3935e+00, 2.0683e+00, 2.6194e+00,\n",
       "                       1.9159e+00, 1.8738e+00, 2.3350e+00, 2.7810e+00, 2.3352e+00, 2.3410e+00,\n",
       "                       2.4965e+00, 1.9517e+00, 1.9122e+00, 3.8154e+00, 1.9142e+00, 2.7175e+00,\n",
       "                       2.3760e+00, 2.0247e+00, 3.0241e+00, 3.0847e+00, 2.2701e+00, 1.5580e+00,\n",
       "                       2.1724e+00, 1.7149e+00, 2.0297e+00, 1.6496e+00, 1.8287e+00, 2.9641e+00,\n",
       "                       2.4356e+00, 1.6217e+00, 2.6017e+00, 1.9344e+00, 1.4918e+00, 2.0876e+00,\n",
       "                       2.2794e+00, 2.0480e+00, 2.0454e+00, 1.7270e+00, 2.1112e+00, 2.0293e+00,\n",
       "                       2.7897e+00, 3.0507e+00, 1.9074e+00, 1.5246e+00, 2.8343e+00, 2.2466e+00,\n",
       "                       1.5688e+00, 2.4876e+00, 3.0784e+00, 2.5924e+00, 2.4336e+00, 1.5176e+00,\n",
       "                       1.7901e+00, 2.3880e+00, 3.2074e+00, 1.8915e+00, 2.4661e+00, 1.8504e+00,\n",
       "                       2.3799e+00, 1.8487e+00, 2.1625e+00, 1.8443e+00, 2.3243e+00, 1.9985e+00,\n",
       "                       2.4260e+00, 2.4930e+00, 2.8978e+00, 2.0738e+00, 2.3129e+00, 2.2452e+00,\n",
       "                       2.1041e+00, 1.7301e+00, 2.0369e+00, 2.7600e+00, 2.0538e+00, 3.2680e+00,\n",
       "                       1.9698e+00, 1.6872e+00, 2.0949e+00, 2.2274e+00, 2.0739e+00, 2.6549e+00,\n",
       "                       2.6378e+00, 2.2070e+00, 1.4591e+00, 3.8557e+00, 2.5383e+00, 1.8718e+00,\n",
       "                       1.4134e+00, 2.1105e+00, 1.6199e+00, 2.0775e+00, 2.9120e+00, 2.5001e+00,\n",
       "                       1.8550e+00, 3.8160e+00, 3.0607e+00, 2.1250e+00, 2.8000e+00, 2.5262e+00,\n",
       "                       1.7985e+00, 2.9132e+00, 1.8990e+00, 2.9146e+00, 1.9419e+00, 4.7101e+00,\n",
       "                       2.3689e+00, 2.3737e+00, 3.3542e+00, 3.3567e+00, 9.3527e-01, 2.8890e+00,\n",
       "                       3.0192e+00, 1.7157e+00, 1.6169e+00, 3.0637e+00, 1.9206e+00, 1.3725e+00,\n",
       "                       2.6876e+00, 1.4708e+00, 2.6271e+00, 1.7418e+00, 2.5155e+00, 2.8196e+00,\n",
       "                       2.6055e+00, 3.7021e+00, 1.5976e+00, 1.9954e+00, 1.9906e+00, 2.6664e+00,\n",
       "                       2.6888e+00, 3.0737e+00, 2.5619e+00, 2.6744e+00, 1.7985e+00, 2.5118e+00,\n",
       "                       2.8145e+00, 2.7201e+00, 1.8532e+00, 1.5357e+00, 2.0511e+00, 3.0204e+00,\n",
       "                       2.6160e+00, 2.2182e+00, 3.6703e+00, 1.8316e+00, 2.0446e+00, 1.0905e+00,\n",
       "                       2.0919e+00, 1.9449e+00, 1.6135e+00, 2.5241e+00, 2.0653e+00, 2.2249e+00,\n",
       "                       1.9622e+00, 2.4122e+00, 2.8297e+00, 2.2724e+00, 3.2552e+00, 1.6021e+00,\n",
       "                       1.7747e+00, 3.2219e+00, 1.9387e+00, 2.0587e+00, 2.7074e+00, 2.4225e+00,\n",
       "                       1.9319e+00, 1.8823e+00, 3.5912e+00, 2.1614e+00, 2.5838e+00, 2.4775e+00,\n",
       "                       9.0203e+00, 1.5437e-03, 4.0175e-02, 9.4280e-04, 5.6085e-04, 9.2229e-04,\n",
       "                       3.3832e-03, 4.5554e-03, 1.9442e-01, 4.0050e-03, 1.1194e-03, 9.1243e-04,\n",
       "                       7.7903e-03, 3.5894e-04, 3.9940e-02, 7.3048e-04, 3.0294e-04, 1.5205e-04,\n",
       "                       6.1097e-03, 4.5114e-03, 2.0031e-02, 2.6550e-40, 3.0910e-03, 1.7403e-03,\n",
       "                       2.2230e-04, 6.9957e-03, 2.5012e-01, 5.6052e-45, 7.0219e-03, 2.6798e-03,\n",
       "                       1.3426e-02, 1.3379e-02, 7.7712e-02, 4.5845e-03, 1.1194e-03, 8.4980e-03,\n",
       "                       2.5012e-01, 2.2015e-02, 3.0910e-03, 6.4639e-02, 1.1089e-02, 2.4160e-01,\n",
       "                       4.4740e-03, 6.2786e-03, 1.4659e-02, 1.5756e-01, 1.0930e-02, 1.4172e-01,\n",
       "                       2.4453e-02, 3.2870e-02, 1.0574e-01, 1.0210e-02, 9.9008e-03, 9.9817e-02,\n",
       "                       1.1771e-03, 1.8852e-02, 1.6667e-03, 7.5028e-04, 2.2609e-02, 5.9935e-03,\n",
       "                       1.5312e-02, 1.7394e-02, 6.3348e-04, 2.5028e-02, 3.3214e-04, 4.9581e-03,\n",
       "                       6.2598e-02, 2.5669e-03, 6.2983e-02, 1.4872e-02, 1.9592e-03, 1.0535e-03,\n",
       "                       4.8777e-03, 8.8925e-03, 4.7159e-03], device='cuda:0')),\n",
       "              ('model.models.1.0.num_batches_tracked',\n",
       "               tensor(4868, device='cuda:0')),\n",
       "              ('model.models.1.1.weight',\n",
       "               tensor([[ 0.0371,  0.0499, -0.0297,  ..., -0.0537,  0.0960,  0.0432],\n",
       "                       [-0.0011,  0.0226, -0.0562,  ..., -0.0358, -0.0496,  0.0295],\n",
       "                       [ 0.0133, -0.0490, -0.0224,  ..., -0.0399, -0.0200,  0.0142],\n",
       "                       ...,\n",
       "                       [ 0.0123,  0.0011,  0.0019,  ...,  0.0735,  0.0097,  0.0127],\n",
       "                       [-0.0485, -0.0037,  0.0886,  ...,  0.0983,  0.0967,  0.0652],\n",
       "                       [-0.0184,  0.0158, -0.0737,  ...,  0.0625, -0.0597,  0.1236]],\n",
       "                      device='cuda:0')),\n",
       "              ('model.models.1.1.bias',\n",
       "               tensor([-0.0358,  0.0333, -0.0243,  ...,  0.0045,  0.0202, -0.0066],\n",
       "                      device='cuda:0')),\n",
       "              ('model.models.1.3.weight',\n",
       "               tensor([[ 0.0060,  0.0437,  0.0100,  ...,  0.0124, -0.0003, -0.0351],\n",
       "                       [ 0.0297, -0.0045, -0.0267,  ...,  0.0317, -0.0323, -0.0683]],\n",
       "                      device='cuda:0')),\n",
       "              ('model.models.1.3.bias',\n",
       "               tensor([ 0.0262, -0.0200], device='cuda:0'))]),\n",
       " 'loops': {'fit_loop': {'state_dict': {},\n",
       "   'epoch_loop.state_dict': {'_batches_that_stepped': 4868},\n",
       "   'epoch_loop.batch_progress': {'total': {'ready': 4868,\n",
       "     'completed': 4868,\n",
       "     'started': 4868,\n",
       "     'processed': 4868},\n",
       "    'current': {'ready': 2434,\n",
       "     'completed': 2434,\n",
       "     'started': 2434,\n",
       "     'processed': 2434},\n",
       "    'is_last_batch': True},\n",
       "   'epoch_loop.scheduler_progress': {'total': {'ready': 0, 'completed': 0},\n",
       "    'current': {'ready': 0, 'completed': 0}},\n",
       "   'epoch_loop.automatic_optimization.state_dict': {},\n",
       "   'epoch_loop.automatic_optimization.optim_progress': {'optimizer': {'step': {'total': {'ready': 4868,\n",
       "       'completed': 4868},\n",
       "      'current': {'ready': 2434, 'completed': 2434}},\n",
       "     'zero_grad': {'total': {'ready': 4868,\n",
       "       'completed': 4868,\n",
       "       'started': 4868},\n",
       "      'current': {'ready': 2434, 'completed': 2434, 'started': 2434}}}},\n",
       "   'epoch_loop.manual_optimization.state_dict': {},\n",
       "   'epoch_loop.manual_optimization.optim_step_progress': {'total': {'ready': 0,\n",
       "     'completed': 0},\n",
       "    'current': {'ready': 0, 'completed': 0}},\n",
       "   'epoch_loop.val_loop.state_dict': {},\n",
       "   'epoch_loop.val_loop.batch_progress': {'total': {'ready': 155,\n",
       "     'completed': 155,\n",
       "     'started': 155,\n",
       "     'processed': 155},\n",
       "    'current': {'ready': 155,\n",
       "     'completed': 155,\n",
       "     'started': 155,\n",
       "     'processed': 155},\n",
       "    'is_last_batch': True},\n",
       "   'epoch_progress': {'total': {'ready': 2,\n",
       "     'completed': 1,\n",
       "     'started': 2,\n",
       "     'processed': 2},\n",
       "    'current': {'ready': 2, 'completed': 1, 'started': 2, 'processed': 2}}},\n",
       "  'validate_loop': {'state_dict': {},\n",
       "   'batch_progress': {'total': {'ready': 0,\n",
       "     'completed': 0,\n",
       "     'started': 0,\n",
       "     'processed': 0},\n",
       "    'current': {'ready': 0, 'completed': 0, 'started': 0, 'processed': 0},\n",
       "    'is_last_batch': False}},\n",
       "  'test_loop': {'state_dict': {},\n",
       "   'batch_progress': {'total': {'ready': 0,\n",
       "     'completed': 0,\n",
       "     'started': 0,\n",
       "     'processed': 0},\n",
       "    'current': {'ready': 0, 'completed': 0, 'started': 0, 'processed': 0},\n",
       "    'is_last_batch': False}},\n",
       "  'predict_loop': {'state_dict': {},\n",
       "   'batch_progress': {'total': {'ready': 0,\n",
       "     'completed': 0,\n",
       "     'started': 0,\n",
       "     'processed': 0},\n",
       "    'current': {'ready': 0, 'completed': 0, 'started': 0, 'processed': 0}}}},\n",
       " 'callbacks': {\"ModelCheckpoint{'monitor': 'valid_acc_cls', 'mode': 'min', 'every_n_train_steps': 0, 'every_n_epochs': 1, 'train_time_interval': None}\": {'monitor': 'valid_acc_cls',\n",
       "   'best_model_score': tensor(0.4695, device='cuda:0'),\n",
       "   'best_model_path': '/home/chris/fungiclef-2024/checkpoints/dino_cw_metadata_pred_poison_weighted-epoch=0.ckpt',\n",
       "   'current_score': tensor(0.5288, device='cuda:0'),\n",
       "   'dirpath': '/home/chris/fungiclef-2024/checkpoints',\n",
       "   'best_k_models': {'/home/chris/fungiclef-2024/checkpoints/dino_cw_metadata_pred_poison_weighted-epoch=0.ckpt': tensor(0.4695, device='cuda:0'),\n",
       "    '/home/chris/fungiclef-2024/checkpoints/dino_cw_metadata_pred_poison_weighted-epoch=1.ckpt': tensor(0.5288, device='cuda:0')},\n",
       "   'kth_best_model_path': '/home/chris/fungiclef-2024/checkpoints/dino_cw_metadata_pred_poison_weighted-epoch=1.ckpt',\n",
       "   'kth_value': tensor(0.5288, device='cuda:0'),\n",
       "   'last_model_path': ''}},\n",
       " 'optimizer_states': [{'state': {0: {'step': tensor(4868.),\n",
       "     'exp_avg': tensor([ 4.3638e-04, -7.1717e-05,  1.1369e-03, -4.1834e-05, -4.1620e-04,\n",
       "              3.9863e-04, -2.2062e-04,  4.7401e-04, -7.8743e-05, -2.4181e-03,\n",
       "              1.9715e-03, -3.5709e-04, -5.1416e-04, -1.0278e-03, -1.9283e-04,\n",
       "              6.0802e-05, -8.5276e-04, -4.7646e-04,  1.1918e-03,  1.6816e-03,\n",
       "              6.7072e-04,  1.0041e-03, -6.9052e-04, -1.0397e-04, -1.6227e-03,\n",
       "             -2.1577e-03, -1.5262e-04,  1.8430e-04, -1.0599e-03,  9.7661e-04,\n",
       "             -6.7553e-04, -5.3442e-04, -2.4759e-03,  6.2570e-04,  1.1064e-03,\n",
       "             -8.9199e-04,  1.2255e-03, -1.3930e-03,  1.0940e-03,  3.0683e-04,\n",
       "              6.8609e-04, -3.7382e-05,  6.2156e-04,  4.1083e-04, -1.6751e-03,\n",
       "             -5.7458e-04, -5.9213e-05,  2.9384e-04,  1.2005e-03,  1.0714e-03,\n",
       "             -2.5096e-04,  6.5663e-04, -1.3786e-03, -7.4952e-04,  4.8443e-04,\n",
       "             -8.1463e-04, -3.4160e-04, -6.2945e-04,  4.0266e-04, -5.0934e-05,\n",
       "             -4.2364e-04, -8.3586e-06,  8.2164e-04,  1.4202e-03,  1.8967e-04,\n",
       "             -1.1802e-03,  5.0076e-04, -6.6870e-04, -1.2368e-04,  2.4558e-04,\n",
       "              7.0810e-04, -4.5610e-04, -7.5145e-04, -2.2199e-04, -1.5572e-03,\n",
       "              1.4269e-03, -2.4605e-05, -2.9376e-04, -2.3967e-04, -7.0573e-04,\n",
       "              5.7436e-04,  3.3622e-04, -2.7742e-04, -2.7156e-03,  5.2621e-04,\n",
       "             -1.8311e-03, -8.5838e-05, -8.1929e-04,  3.9766e-04,  8.8125e-04,\n",
       "             -5.0210e-05,  4.4348e-04,  5.6899e-04, -4.1410e-04, -5.4756e-04,\n",
       "              2.7577e-04,  6.0612e-04, -3.2731e-03, -6.9383e-04,  2.0479e-03,\n",
       "              6.9000e-04, -7.6519e-05, -2.7926e-04, -1.2780e-03, -3.8516e-04,\n",
       "              1.5338e-03, -1.6200e-03,  8.9626e-04, -6.7191e-05,  1.3790e-04,\n",
       "              3.4704e-04,  3.4481e-04, -5.6560e-04, -7.1772e-04, -1.2155e-03,\n",
       "             -5.7130e-04,  8.4057e-05,  1.4033e-03,  1.0341e-04,  2.5817e-04,\n",
       "              1.5788e-03, -4.8185e-04, -1.8043e-03,  1.8903e-03,  2.1276e-03,\n",
       "             -3.6126e-04, -5.2828e-04,  3.6467e-04,  1.6539e-03, -2.7957e-05,\n",
       "             -3.6827e-03,  3.6484e-04,  1.2910e-03, -7.9947e-04,  3.4306e-04,\n",
       "              8.9765e-05, -1.0013e-03, -6.6729e-04,  3.4225e-04,  5.2387e-04,\n",
       "              1.4504e-04,  6.2488e-04, -1.1276e-04,  6.8039e-04,  1.6900e-04,\n",
       "             -4.9260e-05, -3.4814e-05, -1.1356e-04, -1.1326e-03,  9.2006e-04,\n",
       "              1.2265e-03, -4.0083e-04,  3.4362e-04, -1.0293e-03,  8.5604e-04,\n",
       "              8.4569e-04, -1.6281e-04,  8.7459e-04,  4.1754e-05, -9.5923e-04,\n",
       "             -6.3547e-04, -1.9904e-03, -1.1877e-03, -5.5405e-04, -1.3816e-03,\n",
       "              2.4914e-04, -5.4411e-04,  3.3673e-05,  9.6703e-05, -3.3513e-04,\n",
       "              5.0148e-04,  1.4661e-03, -1.9063e-04,  1.4588e-04, -7.1719e-04,\n",
       "              5.7704e-04,  7.7614e-04, -8.1461e-04,  1.6341e-03, -1.9148e-03,\n",
       "             -6.9930e-04, -4.0751e-04,  6.0087e-04,  1.0116e-03,  7.8369e-04,\n",
       "              1.1056e-03, -7.5335e-04,  3.8821e-04, -2.8148e-04,  1.6793e-03,\n",
       "              8.9721e-04, -1.2914e-04,  1.4589e-03, -1.1736e-03,  1.2202e-04,\n",
       "             -1.0869e-03,  4.5378e-04,  1.4031e-03,  1.0394e-03,  4.6471e-04,\n",
       "             -2.1756e-04,  6.2455e-04, -6.3194e-04,  3.8987e-04, -8.0328e-04,\n",
       "             -1.6135e-03,  1.1938e-04,  9.0705e-04,  5.4925e-04, -4.4977e-04,\n",
       "             -1.0685e-03,  9.2614e-04, -4.1353e-04, -6.9924e-04, -4.4480e-04,\n",
       "             -2.6927e-04, -1.5817e-03, -6.0334e-04, -2.4667e-03, -1.9585e-04,\n",
       "              2.2799e-03, -7.8908e-04,  8.7930e-04,  4.3415e-04, -1.8464e-03,\n",
       "             -1.5667e-03,  4.6515e-04,  9.9965e-04,  1.6679e-03, -3.0842e-04,\n",
       "              5.9550e-04,  2.6634e-03,  1.0502e-04,  1.5570e-03, -3.3123e-03,\n",
       "              2.6621e-05, -4.9702e-04,  1.2238e-03,  3.5571e-04,  4.7759e-04,\n",
       "              2.3947e-04,  8.7507e-04,  5.4971e-04,  9.2021e-04, -1.4101e-03,\n",
       "              1.8029e-04,  3.2731e-04,  3.4696e-04,  1.4396e-03, -2.8522e-04,\n",
       "              1.2722e-04,  8.7651e-04,  1.5223e-03, -1.8067e-03,  1.4646e-03,\n",
       "             -1.4492e-03,  3.1303e-03,  2.0195e-04, -1.8439e-04, -1.8926e-03,\n",
       "             -7.7537e-04, -6.5857e-04,  8.2519e-04, -8.1928e-04, -2.4653e-04,\n",
       "             -1.0484e-03,  8.8607e-04,  3.2314e-04, -7.0955e-05,  9.6548e-04,\n",
       "              3.3143e-04, -5.2063e-04,  6.1705e-04, -7.5786e-05,  4.7535e-04,\n",
       "             -2.0585e-04,  3.7010e-04, -8.2005e-05,  1.0550e-03,  1.8668e-03,\n",
       "             -4.6172e-04,  1.3017e-03, -1.1669e-03, -8.0377e-04,  3.3487e-04,\n",
       "             -1.6424e-03,  5.0637e-04, -6.5721e-04, -3.5842e-04, -6.7663e-04,\n",
       "             -9.4159e-04, -1.7774e-03,  1.0806e-03, -6.7003e-04,  1.8617e-04,\n",
       "              6.3455e-04,  2.6793e-04,  1.7355e-03, -2.3672e-04,  1.1740e-04,\n",
       "             -7.2103e-04, -9.4266e-04,  5.4345e-04,  5.3330e-04,  3.4976e-04,\n",
       "             -3.3253e-04,  1.7093e-04, -5.2080e-04,  8.4535e-04,  1.3865e-03,\n",
       "             -1.0142e-03, -3.1003e-03,  1.2565e-04,  8.2147e-04,  1.9001e-03,\n",
       "              2.3999e-05,  5.0595e-04, -1.7972e-03,  2.5544e-03,  1.3830e-03,\n",
       "              8.0150e-04,  1.6208e-04, -1.3877e-03,  1.1426e-03, -5.8942e-04,\n",
       "              7.6812e-04,  3.6927e-04,  4.7050e-04, -8.7390e-04, -9.8309e-04,\n",
       "             -1.4431e-03,  9.8371e-04, -5.4545e-04,  2.2021e-04, -1.3303e-04,\n",
       "              7.4389e-04,  1.7610e-03, -1.1759e-05,  2.3658e-03, -1.0376e-03,\n",
       "             -5.9980e-04,  1.5431e-04,  2.5942e-03,  6.3117e-04,  1.0822e-03,\n",
       "             -2.6654e-04,  5.1152e-04, -1.7488e-03,  4.0376e-04, -2.6093e-05,\n",
       "              1.3783e-03,  2.1407e-03, -1.7701e-04,  6.7374e-04, -9.7817e-05,\n",
       "              1.6091e-03, -3.2585e-03, -2.1199e-04,  3.8084e-04,  6.0017e-04,\n",
       "              3.7763e-04, -3.6701e-05,  2.4830e-04, -1.3611e-03, -4.2496e-04,\n",
       "             -1.0069e-03,  2.9868e-04, -5.8130e-04, -5.8012e-04,  8.4261e-04,\n",
       "              4.8434e-04,  1.1462e-04,  1.2119e-03,  2.8159e-04,  2.5266e-04,\n",
       "              5.6810e-04,  2.1846e-03,  1.7457e-04, -1.1843e-04,  1.1617e-04,\n",
       "              2.0742e-03,  3.3837e-04, -4.0732e-05,  8.7965e-04, -1.5854e-03,\n",
       "             -1.2824e-03,  1.1413e-03, -6.0301e-04, -3.6150e-05,  2.4814e-04,\n",
       "             -1.0885e-04,  3.6496e-04, -9.3883e-06, -8.6502e-04,  5.9835e-04,\n",
       "              7.1824e-04, -2.1733e-04,  6.8821e-04,  6.5042e-04, -1.1412e-03,\n",
       "             -3.8771e-04, -1.2244e-03, -3.0237e-04, -1.6398e-03, -2.1474e-04,\n",
       "              5.1276e-04, -8.1131e-04, -4.6897e-04, -1.2207e-03, -7.8212e-04,\n",
       "              1.6512e-03,  1.0363e-03, -1.9423e-03,  9.6095e-04,  7.9444e-04,\n",
       "              3.9147e-04,  3.6708e-04, -4.8134e-04, -1.2313e-03,  4.9679e-04,\n",
       "             -1.1183e-03,  1.5197e-03,  1.2906e-05, -2.9031e-04,  1.3884e-03,\n",
       "             -6.5834e-04,  5.5994e-04,  1.6539e-03,  6.0531e-05, -9.9996e-05,\n",
       "              2.1508e-03,  8.4249e-04, -8.2482e-04, -1.3885e-04,  1.5194e-03,\n",
       "             -5.8140e-04, -1.2111e-03,  1.2403e-03,  2.4531e-03, -1.1209e-03,\n",
       "             -2.9298e-03,  1.5290e-03,  1.4242e-04,  2.3393e-03,  1.2483e-04,\n",
       "              5.9265e-05, -1.2335e-03,  6.2870e-04,  4.1722e-04, -8.3982e-05,\n",
       "              1.3363e-04, -1.0487e-03,  4.5950e-04, -1.9709e-04, -4.0097e-04,\n",
       "              1.0312e-03,  7.3728e-04, -1.3859e-04,  1.0264e-03,  7.5645e-04,\n",
       "              1.5900e-03,  2.5931e-04,  4.9123e-04,  9.9097e-04,  9.6667e-04,\n",
       "              1.3799e-03, -2.2172e-04, -1.9335e-03,  9.6049e-04, -3.0798e-04,\n",
       "             -1.0177e-03,  3.7620e-04, -1.4359e-04,  5.1576e-04,  1.0792e-03,\n",
       "              8.7325e-05,  6.2844e-05,  7.8400e-04,  1.1313e-03,  7.6136e-04,\n",
       "              3.9896e-04, -3.7356e-04, -7.2458e-04,  8.1534e-04,  9.8585e-05,\n",
       "             -1.4922e-03, -1.5037e-03, -1.5777e-04,  6.7799e-04, -2.2192e-03,\n",
       "              1.5537e-03,  6.2256e-04, -9.8230e-04, -3.8817e-04, -1.2944e-03,\n",
       "             -1.4196e-03, -3.7026e-04, -7.9052e-04, -1.0359e-04, -6.5270e-04,\n",
       "             -2.4327e-03,  1.8155e-03,  3.1801e-04, -5.9430e-04, -1.2437e-03,\n",
       "             -5.9231e-04, -2.1311e-04,  2.0348e-03, -1.0995e-03,  2.1464e-07,\n",
       "              3.0445e-04,  1.2195e-03, -3.3697e-04,  1.8971e-04, -1.0574e-04,\n",
       "             -2.0047e-03,  4.2409e-04, -1.5578e-03, -3.5564e-04, -2.9669e-04,\n",
       "             -1.3302e-03, -1.1250e-04,  1.6576e-03,  3.2834e-04, -8.4002e-04,\n",
       "              2.6411e-04,  1.6482e-04,  8.7516e-04, -8.7744e-04,  4.7688e-04,\n",
       "             -2.9390e-03, -1.7915e-03,  2.0793e-04, -4.5214e-04, -9.6396e-04,\n",
       "             -1.7966e-04, -6.1022e-04,  1.6158e-03,  2.2658e-03, -7.8886e-04,\n",
       "              2.6996e-03,  2.0193e-03,  2.2455e-04, -2.2081e-03,  9.8582e-04,\n",
       "              8.7443e-04, -6.0054e-04, -7.3241e-05, -1.2977e-03,  6.1427e-04,\n",
       "             -6.6890e-04, -9.2368e-04, -5.3103e-05,  1.4381e-03, -4.2204e-04,\n",
       "             -8.9473e-04,  7.2218e-04, -1.7912e-04,  1.9373e-03,  5.1745e-04,\n",
       "             -5.6752e-04, -3.8321e-03,  2.3843e-04,  1.1011e-04,  5.8672e-04,\n",
       "              4.1853e-04,  2.2373e-04, -7.6632e-04, -6.1126e-04,  1.1279e-03,\n",
       "             -5.7213e-04,  4.4382e-04,  3.4935e-04, -1.5172e-03,  9.7560e-04,\n",
       "             -9.1850e-04, -6.9815e-04, -1.3850e-03, -8.8243e-04,  4.4003e-04,\n",
       "              1.3263e-03, -9.0807e-04,  3.1118e-04, -1.1106e-03, -1.3547e-03,\n",
       "             -7.1410e-04,  9.5472e-04,  1.0732e-03, -4.3611e-04,  4.8850e-04,\n",
       "              3.3690e-04, -1.2225e-03,  2.7426e-04, -1.3354e-03,  8.0591e-04,\n",
       "             -6.4259e-04,  1.0415e-03,  1.7651e-04,  8.9259e-04,  1.4733e-03,\n",
       "             -1.8043e-04, -1.0985e-04, -3.4384e-04,  3.1816e-04,  1.8463e-04,\n",
       "              1.5803e-03,  8.8347e-06, -5.3643e-04, -5.6027e-04, -2.1863e-03,\n",
       "              6.2923e-04,  1.6510e-03,  1.7960e-04,  9.7987e-04,  7.5806e-04,\n",
       "              1.3198e-03, -1.3774e-03, -7.6131e-04, -4.1708e-04,  5.9560e-05,\n",
       "              3.7667e-04,  2.0631e-04,  9.1741e-04, -1.4846e-04, -6.8875e-04,\n",
       "              3.0601e-04, -6.8145e-04, -1.5726e-03,  1.6503e-04, -1.3396e-03,\n",
       "             -1.6187e-03, -2.8564e-04, -3.4429e-04, -7.0405e-05,  1.0440e-05,\n",
       "              1.8193e-03, -1.5494e-03, -8.7684e-05, -6.0737e-04, -3.3358e-04,\n",
       "             -2.1842e-03,  5.1612e-05, -2.5920e-03,  1.1825e-03, -2.3307e-06,\n",
       "             -5.2314e-04, -3.3373e-04, -2.5954e-04, -9.0940e-04,  2.0900e-03,\n",
       "             -2.9936e-04,  7.3357e-04, -1.0187e-03,  1.0680e-04, -8.1199e-04,\n",
       "              8.3589e-04, -1.4096e-03, -3.4178e-04,  9.0019e-04,  7.9566e-04,\n",
       "             -3.5455e-04,  2.4953e-03, -4.1508e-04, -1.6201e-03, -1.3326e-03,\n",
       "             -1.0827e-03,  6.3215e-04,  3.3231e-04,  2.3958e-04, -1.4542e-04,\n",
       "              2.4659e-03, -2.7917e-05, -2.1893e-04, -4.8366e-04,  1.9127e-04,\n",
       "              1.1973e-05,  1.8881e-03,  1.4063e-04, -1.2828e-03,  1.5871e-03,\n",
       "             -6.3998e-04,  7.7930e-04,  7.3726e-04,  1.2915e-03, -1.2018e-03,\n",
       "              6.9564e-04,  1.1939e-03, -1.8326e-04, -1.0160e-03,  9.3107e-04,\n",
       "             -3.6920e-04, -2.8837e-04, -6.2459e-04, -5.1845e-04,  1.4499e-04,\n",
       "              1.3745e-03,  1.1642e-03,  1.4910e-03, -8.1603e-06, -8.2682e-04,\n",
       "             -7.6904e-04,  1.3850e-04, -6.4767e-05,  5.7195e-05,  4.9525e-05,\n",
       "              4.0670e-04, -2.6519e-04,  1.1517e-04, -1.0826e-03,  2.3093e-04,\n",
       "              2.0094e-04, -1.8080e-04, -2.4419e-04, -1.1225e-04, -1.7619e-03,\n",
       "              1.3435e-04, -5.7964e-05,  1.0554e-03, -1.3945e-03,  1.1971e-03,\n",
       "              1.7039e-03,  7.4951e-04, -4.6964e-06, -1.3342e-03, -3.0110e-04,\n",
       "              5.3516e-04,  1.3013e-03,  3.0699e-04, -2.6042e-04,  3.0133e-04,\n",
       "              2.8451e-05, -7.5098e-04, -3.2413e-04, -1.6807e-03, -1.2258e-03,\n",
       "              2.1601e-04,  6.0215e-04,  1.3624e-03, -1.0884e-03,  5.4448e-04,\n",
       "              5.4110e-04,  6.8245e-05, -7.4869e-04,  1.0669e-04, -7.5881e-04,\n",
       "             -8.9064e-04, -9.6584e-04,  7.1130e-04, -7.8207e-04, -9.0885e-04,\n",
       "              1.8483e-03, -9.8759e-04,  7.6034e-05,  1.1836e-05, -5.9414e-05,\n",
       "             -4.3855e-05,  1.2754e-03,  1.4341e-03,  1.0515e-03,  1.5099e-03,\n",
       "             -9.7955e-04,  2.1599e-03, -3.8545e-04, -1.3582e-03,  1.6313e-04,\n",
       "             -4.3988e-04,  3.7186e-05,  4.1595e-04, -1.2702e-03, -5.4077e-04,\n",
       "             -1.4375e-03,  3.6299e-06,  5.1042e-06, -2.8036e-05, -5.4026e-05,\n",
       "             -1.0634e-05, -4.0356e-04,  4.7214e-05,  4.5427e-06, -3.5811e-05,\n",
       "             -1.4532e-04, -1.7369e-04,  2.2246e-04,  2.5900e-05, -8.6994e-07,\n",
       "              7.8616e-07,  4.3530e-05, -5.3110e-04,  5.2430e-04, -9.6397e-41,\n",
       "              1.2204e-04, -1.0031e-04, -2.8915e-05, -8.6823e-05, -2.0505e-03,\n",
       "              0.0000e+00, -2.1316e-05,  8.9598e-06,  8.1522e-04,  8.0060e-04,\n",
       "              2.2688e-03, -2.7788e-05,  1.8228e-05, -2.4850e-04, -1.2386e-03,\n",
       "              1.0478e-04, -7.0826e-05,  5.2248e-04, -1.5092e-05, -1.2632e-04,\n",
       "             -7.3428e-05,  4.6068e-04,  8.4457e-04, -7.3196e-04,  2.3626e-04,\n",
       "             -7.1203e-04, -3.0559e-04, -9.3743e-04, -1.1103e-03,  1.1396e-05,\n",
       "              1.9144e-04, -1.5839e-03,  1.1919e-04,  5.7696e-04, -1.9959e-04,\n",
       "              1.9795e-05, -3.3459e-04, -2.1522e-04, -3.6122e-04,  6.6092e-05,\n",
       "              2.9591e-05, -3.1927e-04,  5.0018e-06,  1.6410e-04, -1.9656e-03,\n",
       "              8.8979e-05, -8.2640e-04, -1.8614e-04, -1.3538e-04,  9.3026e-05,\n",
       "             -1.3641e-05,  5.4183e-04, -1.1448e-04], device='cuda:0'),\n",
       "     'exp_avg_sq': tensor([8.4981e-06, 1.3006e-05, 1.7519e-05, 1.3560e-05, 1.3589e-05, 1.5480e-05,\n",
       "             1.0706e-05, 9.8105e-06, 1.5532e-05, 1.4904e-05, 3.3314e-05, 1.0578e-05,\n",
       "             3.2458e-05, 2.5885e-05, 1.2624e-05, 1.3251e-05, 1.3363e-05, 9.2159e-06,\n",
       "             1.6498e-05, 2.1244e-05, 8.0553e-06, 2.0053e-05, 2.0594e-05, 1.1117e-05,\n",
       "             2.0780e-05, 3.3507e-05, 1.4001e-05, 1.5067e-05, 1.4957e-05, 1.1977e-05,\n",
       "             1.0641e-05, 1.5234e-05, 2.2186e-05, 9.5654e-06, 1.4556e-05, 1.6033e-05,\n",
       "             2.1152e-05, 9.4539e-06, 2.4741e-05, 1.8109e-05, 1.3519e-05, 1.7768e-05,\n",
       "             1.2939e-05, 1.2602e-05, 1.1369e-05, 1.0705e-05, 2.0963e-05, 1.0163e-05,\n",
       "             1.3820e-05, 1.0940e-05, 1.9169e-05, 2.2780e-05, 2.8364e-05, 1.6584e-05,\n",
       "             1.5393e-05, 1.3083e-05, 2.7820e-05, 1.7188e-05, 2.9047e-05, 1.2370e-05,\n",
       "             1.4500e-05, 1.1035e-05, 1.7931e-05, 1.2704e-05, 3.4452e-05, 2.6200e-05,\n",
       "             2.2230e-05, 1.3947e-05, 8.3811e-06, 1.4951e-05, 1.8279e-05, 1.9766e-05,\n",
       "             1.7230e-05, 1.9568e-05, 1.6913e-05, 1.4717e-05, 6.7468e-05, 4.3065e-05,\n",
       "             1.4336e-05, 1.8288e-05, 1.4100e-05, 9.7701e-06, 1.3912e-05, 2.2774e-05,\n",
       "             1.1578e-05, 7.5361e-06, 1.1505e-05, 1.9759e-05, 1.7905e-05, 9.9136e-06,\n",
       "             1.0696e-05, 1.9831e-05, 1.4407e-05, 1.2083e-05, 1.6829e-05, 1.6955e-05,\n",
       "             7.2685e-06, 2.4509e-05, 1.8072e-05, 3.7709e-05, 1.6862e-05, 1.2671e-05,\n",
       "             1.2441e-05, 1.1103e-05, 7.1245e-05, 1.2845e-05, 2.0048e-05, 7.3767e-06,\n",
       "             1.3425e-05, 9.6196e-06, 1.2915e-05, 2.4706e-05, 2.3672e-05, 1.0023e-05,\n",
       "             1.1788e-05, 1.4682e-05, 3.2316e-05, 1.3679e-05, 1.0638e-05, 1.1885e-05,\n",
       "             8.5070e-06, 1.5223e-05, 1.9190e-05, 3.6729e-05, 2.0103e-05, 1.5247e-05,\n",
       "             1.3762e-05, 1.3137e-05, 1.5297e-05, 2.3069e-05, 2.4878e-05, 9.8006e-06,\n",
       "             1.4201e-05, 3.7158e-05, 1.8578e-05, 1.0968e-05, 1.1167e-05, 2.1453e-05,\n",
       "             1.1566e-05, 1.5786e-05, 2.3327e-05, 1.8171e-05, 3.2385e-05, 1.4948e-05,\n",
       "             1.2777e-05, 9.8031e-06, 8.7742e-06, 1.0620e-05, 1.8615e-05, 1.1613e-05,\n",
       "             2.2249e-05, 1.2614e-05, 1.2968e-05, 2.3557e-05, 9.5092e-06, 1.3244e-05,\n",
       "             1.2952e-05, 4.6052e-05, 1.7037e-05, 2.4012e-05, 1.0101e-05, 3.4114e-05,\n",
       "             1.4402e-05, 1.0171e-05, 1.0718e-05, 1.3656e-05, 2.6638e-05, 1.1290e-05,\n",
       "             1.3080e-05, 1.3396e-05, 3.2282e-05, 1.4369e-05, 1.5274e-05, 1.2560e-05,\n",
       "             1.5201e-05, 1.2001e-05, 1.2900e-05, 9.8277e-06, 1.2400e-05, 2.1087e-05,\n",
       "             1.9828e-05, 2.3746e-05, 1.3422e-05, 1.2993e-05, 3.1578e-05, 2.0401e-05,\n",
       "             1.3291e-05, 1.4941e-05, 1.1817e-05, 2.5912e-05, 2.8780e-05, 1.0582e-05,\n",
       "             1.0554e-05, 8.5881e-06, 1.4630e-05, 1.7079e-05, 1.3733e-05, 1.4794e-05,\n",
       "             1.6057e-05, 2.3981e-05, 1.0827e-05, 1.2914e-05, 1.2550e-05, 1.9354e-05,\n",
       "             1.5330e-05, 1.0606e-05, 3.0187e-05, 5.0731e-05, 1.3959e-05, 2.2995e-05,\n",
       "             1.4819e-05, 9.7299e-06, 1.3037e-05, 1.4721e-05, 1.2790e-05, 1.2082e-05,\n",
       "             6.3802e-05, 9.9354e-06, 1.2508e-05, 1.0997e-05, 1.3172e-05, 1.4931e-05,\n",
       "             1.2802e-05, 1.3327e-05, 1.7893e-05, 1.9652e-05, 1.4688e-05, 1.3065e-05,\n",
       "             1.7003e-05, 1.0071e-05, 1.1457e-05, 1.4689e-05, 1.2872e-05, 1.1383e-05,\n",
       "             1.6656e-05, 1.5299e-05, 9.3024e-06, 9.3785e-06, 1.2067e-05, 1.1630e-05,\n",
       "             1.2922e-05, 1.3434e-05, 2.6170e-05, 3.7627e-05, 1.7087e-05, 8.5281e-06,\n",
       "             1.1615e-05, 1.4713e-05, 2.7445e-05, 1.4976e-05, 1.4757e-05, 1.6543e-05,\n",
       "             2.9417e-05, 1.7506e-05, 2.3296e-05, 1.0950e-05, 3.5619e-05, 2.6502e-05,\n",
       "             1.8257e-05, 2.5895e-05, 1.1715e-05, 2.1640e-05, 1.7142e-05, 2.0304e-05,\n",
       "             3.5337e-05, 4.1655e-05, 8.1167e-06, 2.1535e-05, 1.6898e-05, 1.2523e-05,\n",
       "             2.4664e-05, 1.6165e-05, 1.5004e-05, 1.0053e-05, 1.9946e-05, 1.0326e-05,\n",
       "             1.9140e-05, 3.4513e-05, 1.0570e-05, 8.2120e-05, 2.0044e-05, 6.1607e-05,\n",
       "             2.0517e-05, 1.7555e-05, 1.3832e-05, 1.1854e-05, 2.5493e-05, 1.2553e-05,\n",
       "             1.5752e-05, 9.8054e-06, 1.0460e-05, 4.6689e-05, 1.5638e-05, 1.3069e-05,\n",
       "             1.4944e-05, 1.9176e-05, 1.9676e-05, 1.6466e-05, 1.0426e-05, 1.5416e-05,\n",
       "             1.8540e-05, 2.1487e-05, 1.6547e-05, 1.0574e-05, 1.0958e-05, 1.8235e-05,\n",
       "             8.2384e-06, 9.2904e-06, 2.7456e-05, 1.5099e-05, 2.6088e-05, 1.6490e-05,\n",
       "             2.0129e-05, 1.3439e-05, 2.5983e-05, 1.6427e-05, 9.6637e-06, 1.2561e-05,\n",
       "             4.2565e-05, 1.2141e-05, 2.2938e-05, 1.7856e-05, 1.6344e-05, 2.1297e-05,\n",
       "             7.9322e-06, 1.2177e-05, 1.2958e-05, 3.8659e-05, 2.8125e-05, 1.2958e-05,\n",
       "             3.8227e-05, 1.0563e-05, 1.3413e-05, 1.3014e-05, 1.2174e-05, 1.4861e-05,\n",
       "             2.9819e-05, 1.3439e-05, 2.5400e-05, 1.1624e-05, 1.0331e-05, 1.5141e-05,\n",
       "             1.3188e-05, 2.0661e-05, 1.1664e-05, 1.7394e-05, 1.9066e-05, 1.6474e-05,\n",
       "             1.8042e-05, 1.3762e-05, 1.3670e-05, 9.4194e-06, 2.1818e-05, 3.1753e-05,\n",
       "             9.6246e-06, 1.5992e-05, 1.6126e-05, 1.5696e-05, 1.0346e-05, 3.2476e-05,\n",
       "             1.7475e-05, 1.4738e-05, 1.8979e-05, 1.3146e-05, 1.3970e-05, 1.4424e-05,\n",
       "             1.4728e-05, 2.0762e-05, 2.4139e-05, 9.4918e-06, 1.1461e-05, 1.0209e-05,\n",
       "             4.4261e-05, 2.0738e-05, 1.3002e-05, 1.3883e-05, 1.3166e-05, 1.1349e-05,\n",
       "             1.1078e-05, 8.9502e-06, 1.3863e-05, 1.4473e-05, 1.8416e-05, 1.2406e-05,\n",
       "             1.6185e-05, 3.2269e-05, 2.8496e-05, 1.3884e-05, 1.1014e-05, 1.1012e-05,\n",
       "             1.2571e-05, 1.2503e-05, 8.2137e-06, 1.0675e-05, 1.3933e-05, 9.3982e-06,\n",
       "             1.1415e-05, 2.9947e-05, 1.0932e-05, 1.0537e-05, 1.6543e-05, 1.2891e-05,\n",
       "             2.1857e-05, 1.5581e-05, 9.2680e-06, 2.9934e-05, 1.1703e-05, 1.1456e-05,\n",
       "             2.4152e-05, 1.0581e-05, 1.3920e-05, 1.3184e-05, 1.1183e-05, 1.0997e-05,\n",
       "             1.6388e-05, 1.2412e-05, 1.5075e-05, 9.2746e-06, 2.0303e-05, 1.3318e-05,\n",
       "             2.3846e-05, 1.7882e-05, 1.5534e-05, 3.8451e-05, 1.9886e-05, 2.4812e-05,\n",
       "             1.1916e-05, 8.8582e-06, 2.2134e-05, 8.9110e-06, 1.8076e-05, 9.6297e-06,\n",
       "             3.4998e-05, 1.0064e-05, 2.2494e-05, 1.0531e-05, 2.1707e-05, 2.2506e-05,\n",
       "             1.5677e-05, 3.1097e-05, 1.6936e-05, 1.2499e-05, 1.5247e-05, 2.3778e-05,\n",
       "             1.9803e-05, 1.3480e-05, 3.5517e-05, 1.7165e-05, 1.5507e-05, 1.3037e-05,\n",
       "             1.1994e-05, 2.1808e-05, 1.1012e-05, 1.8211e-05, 1.0370e-05, 1.0644e-05,\n",
       "             1.1325e-05, 1.2818e-05, 3.4342e-05, 1.8479e-05, 1.8659e-05, 1.4171e-05,\n",
       "             1.9942e-05, 1.9733e-05, 1.1070e-05, 1.0162e-05, 1.3492e-05, 1.0803e-05,\n",
       "             1.7434e-05, 1.0041e-05, 1.3347e-05, 1.7097e-05, 1.4391e-05, 3.5432e-05,\n",
       "             1.4550e-05, 1.2188e-05, 2.1234e-05, 1.2119e-05, 1.9722e-05, 1.1669e-05,\n",
       "             1.1961e-05, 1.1059e-05, 9.3716e-06, 9.3291e-06, 1.2571e-05, 3.9883e-05,\n",
       "             6.0760e-05, 1.9672e-05, 1.0351e-05, 4.4020e-05, 2.0312e-05, 1.0710e-05,\n",
       "             1.3394e-05, 1.1069e-05, 1.9353e-05, 1.0826e-05, 1.5580e-05, 1.9928e-05,\n",
       "             2.3364e-05, 1.2961e-05, 1.5369e-05, 1.1402e-05, 9.1067e-06, 2.5689e-05,\n",
       "             1.4644e-05, 2.0580e-05, 1.1928e-05, 5.4327e-05, 1.1584e-05, 3.5234e-05,\n",
       "             2.1633e-05, 1.2130e-05, 1.0817e-05, 1.1258e-05, 9.5816e-06, 4.2164e-05,\n",
       "             1.2761e-05, 1.8006e-05, 1.6109e-05, 1.3424e-05, 2.3841e-05, 8.6064e-06,\n",
       "             1.4399e-05, 1.4713e-05, 2.1390e-05, 1.9604e-05, 1.2809e-05, 4.7287e-05,\n",
       "             1.0372e-05, 1.9984e-05, 1.7655e-05, 4.3041e-05, 1.4608e-05, 1.6001e-05,\n",
       "             1.2029e-05, 1.2499e-05, 1.4681e-05, 1.6973e-05, 4.0715e-05, 2.5633e-05,\n",
       "             1.0699e-04, 1.2579e-05, 9.6208e-06, 1.7931e-05, 1.1805e-05, 3.5808e-05,\n",
       "             1.2330e-05, 1.3031e-05, 2.9905e-05, 2.1947e-05, 1.3646e-05, 1.5930e-05,\n",
       "             1.6478e-05, 2.2132e-05, 1.3652e-05, 1.1363e-05, 1.9654e-05, 1.7077e-05,\n",
       "             4.1129e-05, 1.2582e-05, 1.5450e-05, 5.0387e-05, 1.4333e-05, 1.1650e-05,\n",
       "             3.3294e-05, 1.3337e-05, 2.2038e-05, 1.0712e-05, 1.7321e-05, 7.7463e-06,\n",
       "             1.4909e-05, 2.6256e-05, 1.3789e-05, 1.3744e-05, 2.2458e-05, 1.0850e-05,\n",
       "             3.4591e-05, 1.2400e-05, 2.0690e-05, 7.3347e-05, 1.4218e-05, 2.0140e-05,\n",
       "             1.2650e-05, 1.4068e-05, 9.9916e-06, 2.7116e-05, 2.6386e-05, 1.8165e-05,\n",
       "             1.7577e-05, 1.1665e-05, 1.7999e-05, 1.2186e-05, 1.4319e-05, 1.5204e-05,\n",
       "             1.1960e-05, 3.8315e-05, 2.6012e-05, 1.3415e-05, 1.2481e-05, 1.2967e-05,\n",
       "             3.2990e-05, 8.9284e-06, 9.6237e-06, 1.2804e-05, 1.6284e-05, 1.3046e-05,\n",
       "             2.0596e-05, 1.2550e-05, 9.1394e-06, 3.7552e-05, 1.3533e-05, 1.0430e-05,\n",
       "             1.1452e-05, 3.3359e-05, 1.4343e-05, 1.4622e-05, 1.3595e-05, 2.2777e-05,\n",
       "             2.3582e-05, 1.1793e-05, 1.2830e-05, 1.8234e-05, 1.9498e-05, 1.8241e-05,\n",
       "             7.7926e-06, 2.3548e-05, 1.8818e-05, 1.9448e-05, 1.0574e-05, 1.0777e-05,\n",
       "             3.6009e-05, 2.5149e-05, 2.2257e-05, 9.1627e-06, 1.4695e-05, 1.3707e-05,\n",
       "             1.5135e-05, 1.2792e-05, 1.6337e-05, 3.0046e-05, 1.0441e-05, 1.0954e-05,\n",
       "             1.2977e-05, 1.0998e-05, 1.1631e-05, 9.1830e-06, 2.0148e-05, 1.2299e-05,\n",
       "             1.8871e-05, 5.8162e-05, 1.6739e-05, 1.1800e-05, 2.7827e-05, 3.5720e-05,\n",
       "             1.2309e-05, 1.5044e-05, 2.0889e-05, 1.4682e-05, 1.0386e-05, 2.4742e-05,\n",
       "             2.2275e-05, 1.6810e-05, 1.7539e-05, 1.4075e-05, 1.7703e-05, 1.4001e-05,\n",
       "             1.3077e-05, 1.3742e-05, 2.6557e-05, 1.7254e-05, 3.3243e-05, 1.3096e-05,\n",
       "             1.5778e-05, 1.6270e-05, 1.2573e-05, 1.8821e-05, 1.7781e-05, 9.3855e-06,\n",
       "             1.8349e-05, 4.7931e-05, 9.3125e-06, 2.1736e-05, 1.6944e-05, 2.3022e-05,\n",
       "             1.6234e-05, 1.5092e-05, 1.5619e-05, 1.5930e-05, 1.3306e-05, 1.9406e-05,\n",
       "             1.5962e-05, 1.0505e-05, 1.1665e-05, 1.0136e-05, 2.1612e-05, 4.3398e-05,\n",
       "             1.9459e-05, 1.3495e-05, 1.5722e-05, 1.4341e-05, 1.9983e-05, 1.6357e-05,\n",
       "             1.3576e-05, 3.9559e-05, 1.7051e-05, 1.0078e-05, 9.1686e-06, 1.4119e-05,\n",
       "             2.1071e-05, 2.8451e-05, 2.3074e-05, 1.4775e-05, 9.0669e-06, 8.8928e-06,\n",
       "             1.8094e-05, 1.7223e-05, 1.9488e-05, 1.2942e-05, 1.2561e-05, 1.5015e-05,\n",
       "             2.0566e-05, 1.0275e-05, 3.0530e-05, 1.5519e-05, 2.7506e-05, 1.1497e-05,\n",
       "             2.3700e-05, 7.1472e-06, 1.1730e-05, 9.9310e-06, 1.4024e-05, 1.7210e-05,\n",
       "             1.7270e-05, 4.0592e-05, 7.6714e-06, 1.5005e-05, 1.0351e-05, 1.9399e-05,\n",
       "             2.5757e-05, 1.6582e-05, 1.1672e-05, 2.4625e-05, 1.6136e-05, 1.5150e-05,\n",
       "             1.5484e-05, 2.9514e-05, 2.4785e-05, 9.9323e-06, 1.5541e-05, 1.8308e-05,\n",
       "             5.8335e-05, 7.7513e-06, 1.7180e-05, 1.2369e-05, 1.5516e-05, 1.5584e-05,\n",
       "             1.6690e-05, 1.8810e-05, 3.8018e-05, 2.1769e-05, 1.2038e-05, 2.5532e-05,\n",
       "             9.0097e-06, 1.0502e-05, 1.2732e-05, 1.6703e-05, 8.5411e-06, 8.5196e-06,\n",
       "             4.9615e-05, 7.1200e-05, 5.7836e-05, 1.7303e-07, 2.5438e-07, 1.1307e-07,\n",
       "             3.1012e-05, 1.8739e-05, 2.4464e-05, 1.4425e-05, 7.2549e-07, 1.1291e-06,\n",
       "             5.1333e-06, 3.6314e-07, 1.6799e-05, 2.2582e-06, 1.1836e-08, 6.0788e-08,\n",
       "             4.5792e-06, 8.3733e-07, 9.1203e-06, 3.9860e-09, 8.2046e-07, 1.7731e-05,\n",
       "             3.7098e-08, 2.0435e-06, 1.8944e-05, 0.0000e+00, 3.6034e-06, 1.0909e-05,\n",
       "             8.0724e-05, 9.2814e-05, 1.0478e-03, 1.0543e-05, 1.8655e-07, 1.8849e-05,\n",
       "             2.8170e-05, 9.3466e-06, 9.8575e-07, 2.1137e-05, 6.5878e-06, 9.7355e-05,\n",
       "             1.2791e-05, 4.7647e-06, 1.3247e-05, 4.5040e-05, 1.1062e-05, 1.5482e-05,\n",
       "             2.2434e-05, 6.1311e-05, 1.0848e-04, 1.1127e-05, 3.5181e-06, 3.3965e-05,\n",
       "             5.1650e-07, 4.8791e-06, 3.0120e-06, 4.4018e-07, 1.2850e-05, 4.5954e-06,\n",
       "             7.3109e-05, 1.5751e-05, 3.3099e-07, 8.7017e-06, 6.7187e-07, 2.1397e-06,\n",
       "             1.3253e-05, 2.9057e-06, 1.6276e-05, 9.8406e-06, 8.7058e-05, 9.1276e-08,\n",
       "             2.4616e-05, 1.1169e-05, 1.6461e-06], device='cuda:0')},\n",
       "    1: {'step': tensor(4868.),\n",
       "     'exp_avg': tensor([ 8.7962e-04,  1.8411e-03,  7.8024e-04,  1.5875e-03,  1.0631e-03,\n",
       "              9.3493e-04,  1.2942e-03, -3.1953e-04,  5.6737e-04, -1.1930e-03,\n",
       "              3.4774e-03,  9.8616e-04, -6.1600e-04, -3.3092e-04, -3.5087e-04,\n",
       "             -2.0964e-04,  5.2680e-04,  1.0891e-03,  8.7022e-04,  1.4424e-04,\n",
       "             -3.0444e-04, -1.0394e-03, -4.3921e-04, -1.6747e-04, -8.7160e-04,\n",
       "              6.4797e-04,  5.7594e-04, -9.4170e-04, -1.6422e-03, -9.2665e-04,\n",
       "              1.7134e-04,  6.0776e-04,  3.0006e-03, -6.6965e-04, -1.0808e-03,\n",
       "              1.2934e-03, -4.3924e-04,  7.4794e-04,  6.0432e-04,  1.2031e-03,\n",
       "             -1.1220e-03,  5.1020e-04,  7.4863e-04,  1.3481e-03,  5.7995e-04,\n",
       "             -1.8590e-03, -5.2131e-04,  1.7485e-03, -4.9961e-04, -5.5972e-04,\n",
       "              2.4635e-03, -1.0735e-03,  1.2758e-05, -7.3875e-04,  1.8312e-03,\n",
       "             -2.0405e-05,  2.0384e-03, -1.4612e-03,  8.3812e-04,  1.4246e-04,\n",
       "             -2.9046e-03, -5.6062e-04,  2.4646e-03, -1.5487e-03,  2.2593e-03,\n",
       "             -5.8612e-04,  1.1452e-03,  8.6858e-04, -8.6252e-04, -7.1415e-04,\n",
       "             -3.0514e-05,  7.6442e-04, -4.2700e-04,  9.3242e-05,  7.5414e-04,\n",
       "              4.5949e-04,  3.6377e-03, -3.4593e-03, -8.9576e-04, -3.5105e-04,\n",
       "              6.3408e-04, -2.7466e-04, -8.1331e-04,  8.0830e-04,  2.3469e-03,\n",
       "              4.7340e-04,  9.6196e-04,  1.3494e-03,  1.3589e-04,  8.1944e-04,\n",
       "              8.7835e-04,  2.2899e-04,  4.6152e-04,  8.7670e-04,  4.4831e-05,\n",
       "             -1.5921e-03,  7.7858e-04,  2.8162e-03,  9.4509e-04, -1.7962e-03,\n",
       "              9.8999e-04,  9.1526e-04,  5.9671e-05, -3.2392e-04,  1.6414e-03,\n",
       "              2.3915e-04, -1.2282e-03, -5.0972e-04, -1.7096e-03, -1.3278e-03,\n",
       "             -8.8756e-04,  8.6112e-04,  1.3952e-03,  1.6707e-04,  9.8959e-05,\n",
       "              1.3990e-04,  2.2067e-03,  7.1608e-04, -5.1343e-04, -8.8958e-04,\n",
       "             -1.2000e-04,  2.8025e-03, -1.3626e-03, -2.4920e-03, -1.5241e-03,\n",
       "              2.0494e-03, -9.2821e-04,  6.2893e-05,  1.0410e-03, -3.3727e-06,\n",
       "             -1.0770e-03,  1.0029e-04,  2.6222e-03, -6.1025e-04,  8.9261e-04,\n",
       "              3.9724e-04,  1.2394e-04, -5.4108e-04,  4.3592e-04, -6.5476e-04,\n",
       "              1.2035e-03, -2.9126e-04,  1.4301e-03,  1.5350e-03,  1.2018e-03,\n",
       "             -2.1030e-05, -2.6990e-04,  1.8792e-04,  4.4111e-04,  7.4844e-04,\n",
       "              1.5953e-03,  9.9839e-04,  1.4235e-03,  1.3817e-03, -1.9397e-03,\n",
       "              1.5742e-03,  3.7961e-05,  6.4324e-04, -1.0422e-03, -2.1887e-03,\n",
       "             -5.3669e-04,  1.9215e-03, -2.8312e-03, -7.8735e-04,  1.3576e-03,\n",
       "             -3.0306e-03,  1.3481e-03, -4.6957e-04, -1.2879e-03, -6.1014e-04,\n",
       "             -1.8591e-03,  2.9466e-04,  1.1051e-03,  6.3948e-04,  4.1523e-04,\n",
       "             -1.1926e-03, -5.9796e-04,  1.0085e-03,  2.2281e-04,  2.2799e-03,\n",
       "              1.5209e-03, -6.0737e-04, -5.3287e-04,  1.1887e-03,  4.7874e-03,\n",
       "             -3.1080e-04, -2.1626e-03,  1.1500e-03,  5.6207e-04, -1.6082e-03,\n",
       "              3.4169e-03, -1.3254e-03,  3.7046e-04, -2.7507e-05, -8.8827e-04,\n",
       "             -3.7096e-04,  7.3740e-04, -3.7966e-03,  1.4192e-03, -1.1219e-03,\n",
       "             -6.6841e-04,  4.8680e-04, -1.0903e-03,  1.5148e-03,  8.2577e-04,\n",
       "              2.5298e-03, -1.3002e-03, -4.1223e-03, -9.7588e-05, -6.5016e-04,\n",
       "              3.4157e-05, -6.8153e-04,  1.1480e-03, -2.4263e-03, -2.7619e-03,\n",
       "              7.4807e-04,  4.8937e-03, -1.1036e-03, -4.5139e-04, -5.4605e-04,\n",
       "              6.4810e-04, -1.1263e-03,  9.2405e-04,  1.5893e-03, -7.1555e-04,\n",
       "             -1.3472e-03,  6.0852e-04,  1.1321e-03, -6.1450e-04, -7.7948e-04,\n",
       "              2.8222e-04, -1.2753e-04,  2.3275e-03,  2.7526e-03, -1.6808e-05,\n",
       "              6.1546e-04,  5.2944e-04, -8.5702e-04, -8.5867e-04,  8.9802e-04,\n",
       "              1.1910e-03,  9.1621e-04, -1.4040e-03,  1.6201e-03,  7.1958e-04,\n",
       "             -2.0740e-03, -4.6031e-04,  1.4493e-04, -8.0070e-04,  3.1268e-04,\n",
       "              2.4599e-03,  1.2026e-03,  6.6124e-04,  1.0079e-03, -2.6411e-03,\n",
       "              6.9636e-04, -2.6258e-03,  3.0402e-03, -4.5956e-04,  1.1426e-03,\n",
       "              5.5406e-05, -1.0492e-03, -1.9918e-03,  1.9963e-03,  6.7148e-04,\n",
       "              3.1458e-03, -1.2787e-03, -9.3984e-04,  4.2771e-05, -7.2292e-04,\n",
       "             -1.7261e-03,  3.2121e-04,  3.0881e-03,  2.7247e-04, -1.1935e-04,\n",
       "              2.6359e-03, -1.4941e-04, -3.8273e-03, -1.7173e-03, -5.1961e-03,\n",
       "              1.7438e-03, -1.3025e-03,  1.9726e-03,  2.0895e-04,  7.5105e-04,\n",
       "              7.8803e-04,  1.1317e-04,  1.5173e-04,  5.0002e-04,  1.2675e-03,\n",
       "              5.7465e-05, -1.6147e-03,  1.3128e-04,  2.7034e-03,  4.9806e-04,\n",
       "              8.3657e-04, -1.8693e-03, -9.6472e-04,  9.0229e-04,  2.8267e-04,\n",
       "             -1.3682e-03,  1.1801e-03, -1.3442e-03, -1.5795e-03, -2.3601e-03,\n",
       "              4.2158e-04, -1.0906e-04, -1.1547e-03,  2.0790e-03, -2.1327e-03,\n",
       "             -1.9429e-03,  1.8766e-04, -2.8251e-03, -2.0646e-03, -2.1131e-03,\n",
       "             -1.0853e-03,  1.4426e-03, -9.2751e-04, -1.9009e-03, -2.6214e-03,\n",
       "             -1.1959e-03, -1.6231e-03, -2.2672e-03,  2.8889e-04,  8.9757e-04,\n",
       "             -1.2959e-03,  8.7778e-04, -2.4162e-03,  2.1786e-03,  5.3818e-05,\n",
       "             -1.6176e-03, -1.1095e-03, -1.6811e-03, -2.6893e-04, -2.1339e-04,\n",
       "             -8.9835e-04, -2.4141e-04, -5.7483e-04,  1.1366e-03, -1.0028e-03,\n",
       "             -3.7452e-04, -7.5446e-04, -3.2630e-04, -2.3561e-03, -7.1734e-04,\n",
       "             -2.0424e-03,  7.0965e-04, -1.6247e-03,  1.7443e-03, -5.6344e-05,\n",
       "             -1.2768e-03,  1.2983e-03,  3.4450e-03,  1.5024e-03,  1.2469e-03,\n",
       "              9.0459e-04, -2.1975e-03,  1.5705e-04, -8.9899e-04, -1.9665e-03,\n",
       "             -3.4298e-04,  2.7035e-04, -1.7683e-03, -9.3996e-04, -1.9228e-03,\n",
       "              6.0664e-04, -1.9861e-03, -3.5208e-04, -1.0833e-03,  2.1274e-03,\n",
       "             -8.5685e-04,  5.9103e-05, -1.3802e-03, -1.2023e-03,  2.9115e-04,\n",
       "              1.0079e-05,  2.8738e-03,  1.5958e-04,  2.5948e-06, -2.7911e-03,\n",
       "             -8.3770e-04,  5.6075e-04, -8.1765e-04, -5.6848e-04,  1.0497e-03,\n",
       "             -1.9155e-03,  2.3954e-03, -1.6419e-03,  1.0077e-03, -1.3659e-03,\n",
       "             -1.1881e-04,  1.9668e-03, -4.1840e-04, -7.4975e-04, -1.5646e-03,\n",
       "              7.8263e-04, -1.5714e-03, -1.9350e-03, -5.6580e-04,  1.4578e-03,\n",
       "             -1.1758e-03, -1.6437e-03,  2.4484e-03, -4.2317e-04,  8.3742e-05,\n",
       "              1.8931e-03,  9.1868e-04,  2.1764e-04, -2.9463e-03, -1.1024e-04,\n",
       "             -2.4469e-03,  1.6709e-03,  2.3733e-04,  3.5069e-04,  1.9507e-03,\n",
       "              1.0329e-03,  1.7681e-03,  5.0233e-04,  1.1011e-03,  1.1373e-03,\n",
       "             -7.3782e-04,  1.3215e-03, -2.2183e-03,  1.4526e-03, -1.6445e-03,\n",
       "             -1.4779e-03,  5.7407e-05,  3.6238e-04,  2.8353e-04,  1.3141e-03,\n",
       "             -1.1150e-03,  9.4482e-04, -3.2470e-03,  1.9935e-03, -1.3088e-03,\n",
       "             -4.8655e-04, -4.4523e-04, -2.1667e-03, -3.5607e-04,  1.0834e-03,\n",
       "              6.0340e-04, -1.1264e-04,  2.5291e-03,  4.7117e-03, -8.9647e-04,\n",
       "              2.5314e-04, -3.4956e-03, -9.7340e-04,  2.0645e-03,  1.1027e-03,\n",
       "              3.6237e-04,  1.1236e-03, -1.0530e-06,  5.6129e-04, -2.4939e-04,\n",
       "              4.9502e-04,  2.5468e-05, -1.5645e-04, -1.5271e-03,  1.1518e-03,\n",
       "              7.8044e-04,  3.4757e-04, -1.1173e-03,  3.6903e-03,  4.2922e-04,\n",
       "              9.3457e-04,  7.2538e-04,  8.2882e-04, -3.8175e-04, -9.2150e-04,\n",
       "             -1.6264e-03, -8.1445e-04,  5.5249e-05,  2.5718e-04,  1.6169e-03,\n",
       "             -2.2928e-03,  1.4023e-03, -9.7332e-04, -1.5047e-03,  7.3402e-04,\n",
       "              1.1402e-03, -1.4156e-04,  6.9472e-04,  2.0233e-04, -3.5916e-04,\n",
       "              2.7245e-03, -1.9053e-03,  1.8004e-03,  6.7018e-05, -1.9633e-03,\n",
       "              8.7247e-04, -1.5362e-04, -1.3005e-03, -1.5908e-03,  1.3477e-03,\n",
       "             -3.0658e-04,  4.6952e-04, -1.0489e-03, -4.5888e-04, -1.6512e-03,\n",
       "              4.5896e-05, -2.6723e-03,  1.0155e-03, -1.4485e-03, -1.4824e-03,\n",
       "              1.2609e-03, -1.1469e-03, -2.8705e-03, -5.3284e-04,  3.3902e-04,\n",
       "             -1.5620e-03,  1.0553e-03, -1.2991e-03, -8.4570e-04, -1.1269e-03,\n",
       "             -1.5304e-03,  1.2448e-04, -8.0708e-05, -4.2493e-04,  1.2502e-03,\n",
       "             -1.7114e-03,  3.2590e-04,  2.9539e-04,  3.9827e-04,  1.8484e-03,\n",
       "             -1.0686e-03, -7.5044e-04,  2.8641e-03, -7.8313e-04,  4.9234e-04,\n",
       "             -1.5958e-04,  4.1753e-03, -8.7752e-04,  1.5556e-03,  7.7375e-04,\n",
       "             -9.4946e-06,  3.5946e-04,  1.6099e-03,  3.2915e-03, -1.2290e-03,\n",
       "             -3.6969e-03,  4.4178e-04,  1.4478e-04, -9.0535e-04, -3.1393e-04,\n",
       "             -1.8685e-03,  1.1981e-03,  5.1251e-04,  1.6484e-03, -9.9358e-04,\n",
       "              1.2163e-03, -3.2950e-04,  1.7776e-03,  1.2636e-03, -1.7101e-04,\n",
       "              1.3160e-03,  2.3117e-03,  1.0573e-03,  8.9744e-04, -8.7023e-04,\n",
       "             -1.3973e-03,  2.6881e-03,  2.2144e-03,  1.6580e-04, -1.2737e-03,\n",
       "             -9.6296e-04,  4.6972e-05, -1.3656e-04, -1.2810e-04, -8.8284e-04,\n",
       "             -1.0657e-04, -3.6035e-03,  3.2096e-03, -1.8558e-03,  1.1359e-03,\n",
       "              5.2094e-04, -1.0901e-05, -7.7207e-04,  2.0810e-03, -3.2864e-03,\n",
       "             -2.6841e-04,  1.4731e-03, -4.4211e-04, -2.0154e-04, -1.2352e-04,\n",
       "             -1.2078e-03,  1.5212e-03,  1.7052e-04,  1.2343e-03,  4.2620e-04,\n",
       "              1.8242e-04,  1.3733e-03, -1.4725e-03, -2.8072e-04, -7.4841e-04,\n",
       "              3.2728e-03, -4.4142e-05,  1.4391e-03,  1.2823e-03,  1.4099e-03,\n",
       "             -2.1534e-04, -7.6641e-04,  3.7704e-04, -1.1617e-03,  1.7166e-03,\n",
       "             -7.6360e-05, -1.8099e-03,  1.7404e-03,  1.1016e-03,  1.8214e-03,\n",
       "             -5.7801e-04, -1.2749e-04,  5.1568e-06, -2.1409e-03, -2.1676e-04,\n",
       "             -4.3095e-08, -1.0176e-03, -2.1039e-03,  7.7176e-04,  7.3508e-04,\n",
       "              1.1749e-03,  2.4838e-04, -2.1642e-03,  8.5256e-04, -7.0174e-04,\n",
       "              2.5527e-04,  1.6715e-03, -3.4345e-03,  1.7831e-03, -7.0082e-04,\n",
       "             -1.2893e-03,  1.1135e-03,  2.0504e-03, -3.1070e-04,  1.4849e-04,\n",
       "             -1.6695e-03,  1.0166e-03,  6.3940e-04, -5.8509e-04,  2.9859e-03,\n",
       "              4.1907e-04, -9.2557e-04, -8.9201e-04, -2.2852e-03,  5.7759e-04,\n",
       "              1.2608e-03,  1.4144e-04,  1.0424e-03,  1.1389e-03, -2.0066e-03,\n",
       "             -1.7684e-03, -1.1522e-04, -5.9788e-04,  2.6186e-03, -7.3464e-04,\n",
       "             -4.9996e-04,  2.3433e-04,  1.1044e-03,  9.4197e-04, -1.1499e-03,\n",
       "             -7.7545e-04,  2.6528e-03, -9.5760e-04, -2.4368e-03,  2.3494e-03,\n",
       "              1.0112e-03, -1.6518e-03, -1.2125e-03,  1.1950e-03, -7.0036e-04,\n",
       "             -2.5832e-03, -4.4855e-04,  7.8702e-04, -2.5133e-04,  8.8663e-04,\n",
       "             -7.3521e-04, -9.0634e-04, -1.4072e-03, -2.2067e-03, -1.7064e-03,\n",
       "             -3.1331e-04, -3.4680e-03, -1.8097e-03, -4.2848e-04, -1.6696e-03,\n",
       "             -7.5021e-04,  1.2246e-03,  1.6420e-03,  5.6099e-04, -4.1349e-04,\n",
       "              3.2336e-04, -2.6412e-04,  1.1859e-03, -8.9459e-04,  1.6438e-03,\n",
       "             -3.7110e-03,  1.7740e-03,  1.7824e-04,  6.4215e-04,  7.0966e-04,\n",
       "              7.0464e-04,  1.4128e-03, -8.4110e-06,  1.3098e-03, -2.7270e-03,\n",
       "              1.1237e-04, -3.4040e-04,  6.6467e-04, -5.8671e-04, -3.6975e-03,\n",
       "              1.7114e-03, -1.5802e-03,  4.1340e-04,  2.1598e-04, -1.1985e-03,\n",
       "             -8.8218e-04,  1.4792e-03, -8.6926e-04,  3.3773e-04,  1.1912e-03,\n",
       "             -1.6650e-03, -7.4306e-04, -2.9859e-03,  2.7678e-03,  3.7806e-04,\n",
       "             -4.3453e-04,  1.2736e-03, -2.4095e-04,  3.8477e-04,  1.0547e-03,\n",
       "             -4.2458e-04, -8.8774e-04, -9.1116e-04, -1.1196e-03, -1.9623e-03,\n",
       "             -1.7359e-03,  6.0059e-04, -2.5374e-03, -1.3865e-03,  1.1860e-03,\n",
       "              2.6513e-04,  1.4368e-03,  9.9565e-04, -3.2770e-04, -1.5572e-03,\n",
       "             -9.0099e-04,  2.2177e-03,  6.8536e-04,  9.5208e-04,  1.3840e-03,\n",
       "              4.1258e-03, -8.5073e-04,  1.3340e-03,  1.0638e-03, -1.3987e-03,\n",
       "              1.3506e-03, -1.7091e-04, -1.7096e-03,  2.1064e-03, -4.2266e-03,\n",
       "             -1.2767e-03, -1.8526e-03,  7.1607e-04, -1.1099e-04,  4.5854e-04,\n",
       "              7.6145e-04,  1.9496e-04,  1.3700e-03, -1.9021e-03,  1.4352e-03,\n",
       "             -1.6797e-03, -1.5551e-03, -1.0354e-03,  1.4017e-03, -9.1489e-03,\n",
       "              2.1816e-03, -2.9205e-04,  1.5647e-03, -3.1505e-04, -1.3088e-03,\n",
       "             -7.9534e-04, -4.3425e-03, -1.6805e-03,  8.1241e-04,  1.6647e-03,\n",
       "              1.3748e-03,  1.9466e-04, -1.0697e-03, -2.8317e-03, -7.2608e-03,\n",
       "             -1.2754e-03,  2.5911e-03, -4.1683e-03, -2.3984e-03, -2.2283e-04,\n",
       "              5.6527e-03, -4.3303e-03, -3.6590e-03,  1.5475e-03, -4.5078e-03,\n",
       "             -1.8996e-02,  4.7998e-04, -2.9403e-03,  3.8070e-03,  4.0752e-04,\n",
       "             -1.8915e-03, -1.9143e-03,  2.2002e-05, -1.9088e-03, -2.2260e-03,\n",
       "             -2.6245e-03, -4.0940e-03,  1.0010e-04, -3.3578e-03, -3.5552e-03,\n",
       "             -2.1016e-04, -1.9816e-03, -1.8987e-03, -2.8337e-03, -1.0039e-03,\n",
       "             -2.5416e-03, -1.8105e-03, -6.1921e-03, -1.9456e-03, -3.7794e-03,\n",
       "              1.9944e-04, -3.6763e-03, -1.9462e-03, -6.3371e-03, -4.2397e-05,\n",
       "             -1.3633e-03, -1.6519e-03,  3.8683e-05, -1.7213e-03, -4.2851e-04,\n",
       "             -1.8880e-03, -7.6849e-04, -3.0311e-03,  2.2236e-03, -1.7690e-03,\n",
       "             -1.1415e-03, -3.1380e-03, -2.5849e-03], device='cuda:0'),\n",
       "     'exp_avg_sq': tensor([1.0603e-05, 1.9111e-05, 2.7270e-05, 1.8914e-05, 1.9635e-05, 1.9728e-05,\n",
       "             1.7111e-05, 1.2969e-05, 2.0677e-05, 1.5286e-05, 4.9152e-05, 1.1581e-05,\n",
       "             4.9466e-05, 2.2132e-05, 1.7514e-05, 1.3680e-05, 2.2753e-05, 1.3890e-05,\n",
       "             1.6986e-05, 1.7515e-05, 1.0850e-05, 2.2390e-05, 2.1767e-05, 1.5575e-05,\n",
       "             3.8057e-05, 5.8677e-05, 1.7350e-05, 1.5607e-05, 1.7962e-05, 1.3965e-05,\n",
       "             1.1451e-05, 1.5487e-05, 3.9680e-05, 1.1583e-05, 2.5415e-05, 3.3655e-05,\n",
       "             3.7192e-05, 1.2191e-05, 3.5616e-05, 4.1942e-05, 1.6871e-05, 2.7715e-05,\n",
       "             1.9366e-05, 1.2214e-05, 1.3923e-05, 1.1624e-05, 2.2514e-05, 1.4865e-05,\n",
       "             1.7511e-05, 1.5306e-05, 3.2451e-05, 3.8099e-05, 2.9501e-05, 2.7506e-05,\n",
       "             2.5572e-05, 1.4651e-05, 4.7910e-05, 3.0519e-05, 5.1518e-05, 1.4025e-05,\n",
       "             2.4719e-05, 1.5257e-05, 2.9591e-05, 1.3209e-05, 3.8664e-05, 2.2556e-05,\n",
       "             3.2348e-05, 1.5564e-05, 1.4115e-05, 2.4705e-05, 3.7064e-05, 1.7221e-05,\n",
       "             1.5801e-05, 2.3727e-05, 1.9827e-05, 1.7238e-05, 1.2173e-04, 9.8991e-05,\n",
       "             1.2639e-05, 2.2469e-05, 1.6253e-05, 1.1159e-05, 1.5530e-05, 2.8274e-05,\n",
       "             1.4774e-05, 1.2473e-05, 1.3808e-05, 2.5933e-05, 2.0972e-05, 1.4986e-05,\n",
       "             1.4368e-05, 1.4140e-05, 1.6433e-05, 1.5554e-05, 3.6451e-05, 2.5869e-05,\n",
       "             1.0611e-05, 4.6253e-05, 1.8564e-05, 2.3237e-05, 1.9051e-05, 1.4172e-05,\n",
       "             1.2550e-05, 1.4337e-05, 1.0375e-04, 1.3487e-05, 3.5626e-05, 1.1012e-05,\n",
       "             1.7036e-05, 1.7212e-05, 2.1076e-05, 3.6982e-05, 4.4064e-05, 1.4823e-05,\n",
       "             1.4820e-05, 1.3489e-05, 6.6353e-05, 1.6592e-05, 1.5206e-05, 1.3392e-05,\n",
       "             1.0472e-05, 2.7398e-05, 3.1730e-05, 8.3330e-05, 3.8903e-05, 2.5062e-05,\n",
       "             1.5925e-05, 1.3982e-05, 1.8457e-05, 1.5290e-05, 4.3995e-05, 1.3244e-05,\n",
       "             2.5960e-05, 4.3347e-05, 1.5887e-05, 1.6252e-05, 1.4720e-05, 3.8733e-05,\n",
       "             1.5870e-05, 1.5626e-05, 3.2959e-05, 3.5496e-05, 5.2721e-05, 2.3211e-05,\n",
       "             1.3286e-05, 1.2950e-05, 1.0356e-05, 1.3419e-05, 3.0087e-05, 1.3888e-05,\n",
       "             3.8955e-05, 1.2721e-05, 1.6429e-05, 4.3639e-05, 1.7192e-05, 1.7222e-05,\n",
       "             1.6366e-05, 6.1430e-05, 3.0437e-05, 4.4511e-05, 1.1482e-05, 2.9568e-05,\n",
       "             2.0728e-05, 1.3881e-05, 1.6456e-05, 2.3510e-05, 6.0462e-05, 2.3314e-05,\n",
       "             1.6091e-05, 1.5987e-05, 7.5510e-05, 1.5312e-05, 1.8512e-05, 1.2339e-05,\n",
       "             1.6712e-05, 2.8870e-05, 1.6288e-05, 1.0878e-05, 1.4344e-05, 3.3188e-05,\n",
       "             3.2330e-05, 1.7037e-05, 2.6855e-05, 2.2127e-05, 6.6214e-05, 2.1405e-05,\n",
       "             1.7866e-05, 3.3835e-05, 1.3188e-05, 5.0522e-05, 7.0315e-05, 1.6246e-05,\n",
       "             1.1818e-05, 1.0189e-05, 1.7207e-05, 2.2280e-05, 1.8470e-05, 2.3983e-05,\n",
       "             2.4516e-05, 3.8066e-05, 1.2724e-05, 1.5344e-05, 1.0401e-05, 3.1145e-05,\n",
       "             2.1410e-05, 1.2478e-05, 2.9290e-05, 1.0098e-04, 1.9565e-05, 2.7597e-05,\n",
       "             1.8293e-05, 1.2393e-05, 1.5556e-05, 1.5127e-05, 2.5078e-05, 1.2885e-05,\n",
       "             1.3808e-04, 1.0164e-05, 1.5715e-05, 1.9645e-05, 1.4642e-05, 1.9964e-05,\n",
       "             2.4657e-05, 1.6281e-05, 2.9680e-05, 1.3940e-05, 2.6357e-05, 1.5678e-05,\n",
       "             1.7478e-05, 1.3964e-05, 1.2682e-05, 1.6005e-05, 2.6085e-05, 1.6243e-05,\n",
       "             2.4212e-05, 1.8490e-05, 1.2179e-05, 9.6723e-06, 1.2944e-05, 1.4675e-05,\n",
       "             1.5612e-05, 1.4849e-05, 5.8424e-05, 5.9728e-05, 2.4395e-05, 1.2106e-05,\n",
       "             1.7039e-05, 1.4476e-05, 2.0091e-05, 2.7682e-05, 2.1750e-05, 2.9526e-05,\n",
       "             3.9903e-05, 2.4863e-05, 4.0232e-05, 1.1490e-05, 6.3941e-05, 4.3761e-05,\n",
       "             2.0408e-05, 3.8960e-05, 1.3173e-05, 2.6784e-05, 2.9285e-05, 3.8352e-05,\n",
       "             5.3615e-05, 9.9588e-05, 1.1037e-05, 1.8973e-05, 2.9681e-05, 1.3880e-05,\n",
       "             4.6007e-05, 2.0138e-05, 2.5546e-05, 1.1574e-05, 3.3394e-05, 1.4997e-05,\n",
       "             2.7196e-05, 7.0392e-05, 1.1019e-05, 1.2173e-04, 3.7203e-05, 6.5940e-05,\n",
       "             3.1545e-05, 1.5458e-05, 1.5110e-05, 1.3269e-05, 2.1470e-05, 2.0847e-05,\n",
       "             1.9857e-05, 1.6338e-05, 1.0400e-05, 8.1142e-05, 1.4133e-05, 1.6452e-05,\n",
       "             2.0229e-05, 1.7368e-05, 2.0969e-05, 1.2782e-05, 1.3538e-05, 2.5573e-05,\n",
       "             2.9428e-05, 2.8934e-05, 2.9445e-05, 1.3540e-05, 1.6861e-05, 1.9648e-05,\n",
       "             1.0573e-05, 1.4430e-05, 7.2109e-05, 2.0388e-05, 4.9888e-05, 2.8796e-05,\n",
       "             3.6460e-05, 1.9927e-05, 4.3408e-05, 1.9407e-05, 1.5304e-05, 1.7517e-05,\n",
       "             7.6582e-05, 1.5999e-05, 2.9539e-05, 3.9630e-05, 3.0190e-05, 3.9317e-05,\n",
       "             1.0964e-05, 1.5541e-05, 1.5937e-05, 9.2288e-05, 5.3913e-05, 1.6616e-05,\n",
       "             8.3003e-05, 1.1717e-05, 2.3548e-05, 1.1409e-05, 1.2680e-05, 2.1069e-05,\n",
       "             3.9199e-05, 1.6220e-05, 3.8752e-05, 1.5842e-05, 1.0199e-05, 2.1191e-05,\n",
       "             1.0021e-05, 4.0954e-05, 1.2949e-05, 2.8939e-05, 2.4716e-05, 2.4070e-05,\n",
       "             2.5442e-05, 1.3861e-05, 1.6853e-05, 1.1631e-05, 4.7718e-05, 4.6693e-05,\n",
       "             1.3739e-05, 2.1644e-05, 2.2733e-05, 1.8082e-05, 2.2179e-05, 6.5378e-05,\n",
       "             1.6450e-05, 1.6120e-05, 3.4884e-05, 2.2676e-05, 1.8861e-05, 1.4613e-05,\n",
       "             2.2906e-05, 1.7116e-05, 3.0686e-05, 1.1354e-05, 1.0514e-05, 1.0815e-05,\n",
       "             2.4269e-05, 2.7251e-05, 1.1666e-05, 2.1817e-05, 1.9655e-05, 1.3763e-05,\n",
       "             1.5432e-05, 1.1779e-05, 1.2531e-05, 1.6744e-05, 1.9672e-05, 1.5318e-05,\n",
       "             2.6702e-05, 3.2816e-05, 5.2350e-05, 1.7752e-05, 1.7796e-05, 1.2853e-05,\n",
       "             1.2514e-05, 1.3944e-05, 1.2147e-05, 1.2749e-05, 2.2291e-05, 9.9497e-06,\n",
       "             1.6128e-05, 4.0098e-05, 1.6614e-05, 1.4660e-05, 2.8770e-05, 1.9779e-05,\n",
       "             2.9658e-05, 1.4490e-05, 1.2584e-05, 5.2363e-05, 2.0032e-05, 1.4769e-05,\n",
       "             4.7148e-05, 1.3472e-05, 1.6089e-05, 1.7758e-05, 1.3407e-05, 1.0798e-05,\n",
       "             2.0237e-05, 1.9872e-05, 2.3242e-05, 1.1001e-05, 3.4817e-05, 1.2702e-05,\n",
       "             3.4509e-05, 1.7205e-05, 2.4308e-05, 7.9632e-05, 1.8080e-05, 3.0325e-05,\n",
       "             1.4718e-05, 1.0535e-05, 3.0967e-05, 1.2108e-05, 3.6869e-05, 1.3371e-05,\n",
       "             8.3974e-05, 1.2107e-05, 5.3790e-05, 1.3604e-05, 3.1769e-05, 2.6167e-05,\n",
       "             1.9209e-05, 6.1655e-05, 1.9931e-05, 1.8302e-05, 2.8029e-05, 5.3536e-05,\n",
       "             3.2200e-05, 1.2597e-05, 5.5282e-05, 2.1748e-05, 2.3461e-05, 2.3983e-05,\n",
       "             1.6597e-05, 4.4176e-05, 1.6039e-05, 1.7978e-05, 1.1696e-05, 1.2500e-05,\n",
       "             1.4273e-05, 1.1494e-05, 3.7795e-05, 2.0225e-05, 3.0461e-05, 1.9574e-05,\n",
       "             2.9559e-05, 3.4221e-05, 1.0962e-05, 1.8395e-05, 1.5982e-05, 1.8250e-05,\n",
       "             1.6452e-05, 1.2689e-05, 2.2440e-05, 1.5467e-05, 1.8242e-05, 4.0374e-05,\n",
       "             1.5295e-05, 1.7046e-05, 3.1265e-05, 1.0809e-05, 3.1397e-05, 1.2790e-05,\n",
       "             1.0417e-05, 1.1969e-05, 9.9327e-06, 1.2086e-05, 1.4597e-05, 8.5307e-05,\n",
       "             1.0214e-04, 2.7713e-05, 1.0563e-05, 5.1201e-05, 3.4105e-05, 1.3558e-05,\n",
       "             1.3957e-05, 1.2642e-05, 2.0627e-05, 1.2601e-05, 1.2871e-05, 3.8788e-05,\n",
       "             3.4054e-05, 2.0517e-05, 2.7874e-05, 1.4573e-05, 1.6393e-05, 4.5913e-05,\n",
       "             2.2761e-05, 3.2062e-05, 1.5557e-05, 7.3329e-05, 1.6160e-05, 4.8591e-05,\n",
       "             3.3162e-05, 1.5211e-05, 1.0582e-05, 1.7706e-05, 1.1451e-05, 8.6849e-05,\n",
       "             1.1194e-05, 1.8814e-05, 2.7119e-05, 1.6535e-05, 2.8507e-05, 9.8919e-06,\n",
       "             1.1840e-05, 2.3616e-05, 2.6849e-05, 4.6504e-05, 1.6381e-05, 8.6033e-05,\n",
       "             1.7711e-05, 2.9701e-05, 1.6890e-05, 1.0230e-04, 2.2322e-05, 2.2631e-05,\n",
       "             1.3465e-05, 1.0883e-05, 1.6692e-05, 2.0674e-05, 6.8848e-05, 5.5042e-05,\n",
       "             2.4269e-04, 1.4054e-05, 1.2114e-05, 1.2070e-05, 1.9423e-05, 5.3999e-05,\n",
       "             1.8543e-05, 1.7327e-05, 5.1497e-05, 2.2608e-05, 2.0318e-05, 1.4658e-05,\n",
       "             2.4429e-05, 4.0788e-05, 1.9731e-05, 1.4798e-05, 3.5477e-05, 3.5806e-05,\n",
       "             7.9607e-05, 1.3884e-05, 3.2416e-05, 1.1061e-04, 1.7904e-05, 1.5089e-05,\n",
       "             4.7081e-05, 1.7437e-05, 3.4780e-05, 1.1508e-05, 1.7710e-05, 1.1393e-05,\n",
       "             1.7540e-05, 4.2154e-05, 2.9369e-05, 2.1529e-05, 3.3133e-05, 1.5330e-05,\n",
       "             2.3537e-05, 1.5290e-05, 2.8168e-05, 1.4311e-04, 1.5822e-05, 2.5009e-05,\n",
       "             1.1567e-05, 2.8536e-05, 1.2420e-05, 4.2489e-05, 4.7960e-05, 2.5411e-05,\n",
       "             3.1073e-05, 9.8181e-06, 1.6477e-05, 1.4565e-05, 1.1644e-05, 1.1575e-05,\n",
       "             1.2667e-05, 8.8064e-05, 3.6585e-05, 2.1144e-05, 2.3623e-05, 1.9248e-05,\n",
       "             5.1912e-05, 1.1263e-05, 1.0846e-05, 1.6261e-05, 2.6153e-05, 1.5589e-05,\n",
       "             3.4292e-05, 1.3514e-05, 1.0624e-05, 7.5493e-05, 1.9579e-05, 1.2821e-05,\n",
       "             1.2663e-05, 6.6353e-05, 1.5467e-05, 2.4068e-05, 1.6217e-05, 3.7104e-05,\n",
       "             2.9137e-05, 1.4343e-05, 2.2096e-05, 3.0987e-05, 3.1502e-05, 1.5446e-05,\n",
       "             1.2267e-05, 3.8400e-05, 2.7552e-05, 3.2682e-05, 1.5756e-05, 1.2809e-05,\n",
       "             5.6182e-05, 4.6566e-05, 3.6550e-05, 1.3301e-05, 2.3904e-05, 2.1493e-05,\n",
       "             1.4608e-05, 2.2942e-05, 1.4454e-05, 6.3414e-05, 1.4851e-05, 1.0892e-05,\n",
       "             1.4288e-05, 1.6783e-05, 2.0446e-05, 1.3056e-05, 1.7280e-05, 1.6679e-05,\n",
       "             1.9403e-05, 1.2069e-04, 3.0609e-05, 1.4239e-05, 3.6904e-05, 7.1710e-05,\n",
       "             1.6572e-05, 1.8013e-05, 3.5683e-05, 1.9067e-05, 1.1071e-05, 4.7482e-05,\n",
       "             2.6862e-05, 2.3164e-05, 3.2367e-05, 1.3113e-05, 1.8956e-05, 1.4115e-05,\n",
       "             1.8945e-05, 1.6195e-05, 5.1252e-05, 3.2896e-05, 5.3023e-05, 2.1617e-05,\n",
       "             2.1838e-05, 3.0220e-05, 1.3928e-05, 3.1001e-05, 2.2380e-05, 8.4931e-06,\n",
       "             1.5034e-05, 8.9520e-05, 8.9940e-06, 5.0728e-05, 2.9582e-05, 2.7957e-05,\n",
       "             2.0622e-05, 1.9936e-05, 1.9002e-05, 2.1176e-05, 1.6782e-05, 1.7389e-05,\n",
       "             1.6222e-05, 1.0712e-05, 1.5351e-05, 1.1159e-05, 3.1376e-05, 8.5953e-05,\n",
       "             2.8033e-05, 1.6299e-05, 1.8598e-05, 2.0420e-05, 1.6521e-05, 3.2373e-05,\n",
       "             1.4889e-05, 4.6009e-05, 3.0682e-05, 1.4282e-05, 9.9863e-06, 1.3737e-05,\n",
       "             2.4920e-05, 5.3784e-05, 3.2209e-05, 2.2049e-05, 1.2452e-05, 1.1372e-05,\n",
       "             1.4759e-05, 2.0808e-05, 1.9839e-05, 1.7908e-05, 1.6850e-05, 2.6056e-05,\n",
       "             3.1364e-05, 1.1660e-05, 5.4565e-05, 2.5395e-05, 5.0125e-05, 1.2088e-05,\n",
       "             3.5434e-05, 1.0337e-05, 1.2766e-05, 1.3277e-05, 1.9419e-05, 4.0373e-05,\n",
       "             3.2236e-05, 8.4283e-05, 8.9035e-06, 2.1469e-05, 1.0387e-05, 4.4205e-05,\n",
       "             3.5538e-05, 2.7224e-05, 1.2321e-05, 5.2263e-05, 2.5188e-05, 1.3359e-05,\n",
       "             2.5684e-05, 2.2918e-05, 4.4054e-05, 1.3769e-05, 1.5785e-05, 2.0650e-05,\n",
       "             1.4074e-04, 8.8358e-06, 2.9076e-05, 2.4208e-05, 1.3239e-05, 2.2253e-05,\n",
       "             1.5232e-05, 2.3080e-05, 6.0746e-05, 3.7102e-05, 2.1287e-05, 6.2247e-05,\n",
       "             1.3811e-05, 1.7964e-05, 1.0188e-05, 1.5473e-05, 1.0733e-05, 1.0566e-05,\n",
       "             5.9139e-05, 2.4367e-05, 1.0936e-04, 4.3570e-05, 1.6262e-05, 2.5718e-05,\n",
       "             8.6473e-04, 2.2584e-05, 1.5410e-05, 2.4212e-05, 1.3293e-05, 2.6865e-05,\n",
       "             1.7492e-05, 4.4698e-04, 5.4598e-05, 1.8798e-05, 5.8612e-05, 1.9942e-05,\n",
       "             1.7670e-05, 2.9129e-05, 6.6002e-05, 5.8573e-04, 7.4811e-05, 4.2641e-05,\n",
       "             2.2014e-04, 9.2601e-05, 2.2322e-05, 4.9538e-04, 7.8605e-05, 8.9962e-05,\n",
       "             4.0117e-05, 3.1116e-04, 4.8108e-03, 1.0900e-05, 2.8270e-05, 1.9866e-04,\n",
       "             3.9387e-05, 2.6334e-05, 4.8130e-05, 4.5798e-05, 1.5481e-05, 1.4223e-04,\n",
       "             1.9763e-04, 1.1779e-04, 1.5202e-05, 9.3629e-05, 9.9964e-05, 1.3442e-05,\n",
       "             9.7351e-05, 8.6989e-05, 1.3592e-04, 1.6449e-05, 7.8677e-05, 4.0583e-05,\n",
       "             4.3550e-04, 4.0538e-05, 2.2895e-04, 2.5270e-05, 9.8774e-05, 2.7621e-05,\n",
       "             2.4793e-04, 3.5686e-05, 5.6548e-05, 3.1083e-05, 1.7980e-05, 7.0397e-05,\n",
       "             1.2584e-05, 5.7853e-05, 3.2129e-05, 6.9722e-05, 2.1856e-05, 1.1719e-04,\n",
       "             1.9443e-05, 1.3592e-04, 1.3247e-04], device='cuda:0')},\n",
       "    2: {'step': tensor(4868.),\n",
       "     'exp_avg': tensor([[ 1.8555e-04,  7.9606e-04, -5.8223e-04,  ...,  7.2747e-07,\n",
       "              -7.1055e-05, -3.8010e-05],\n",
       "             [-2.1890e-04,  3.5738e-04,  1.3751e-04,  ...,  1.7942e-06,\n",
       "              -2.9979e-05, -9.3695e-06],\n",
       "             [-1.3445e-05,  1.5585e-04,  1.2124e-04,  ..., -1.1631e-05,\n",
       "              -2.4551e-05,  5.0777e-05],\n",
       "             ...,\n",
       "             [-9.8767e-05,  1.5825e-04, -7.2534e-05,  ...,  2.9708e-06,\n",
       "               5.2194e-05, -4.4431e-05],\n",
       "             [ 2.2624e-04, -2.6100e-04, -4.0895e-04,  ...,  7.9186e-06,\n",
       "              -4.3982e-05,  9.4804e-06],\n",
       "             [ 1.0637e-03, -2.0160e-04, -5.7997e-04,  ...,  2.9282e-05,\n",
       "               1.5345e-04,  1.3896e-05]], device='cuda:0'),\n",
       "     'exp_avg_sq': tensor([[3.1487e-06, 2.8574e-06, 3.6111e-06,  ..., 4.2010e-06, 4.2698e-06,\n",
       "              8.7501e-08],\n",
       "             [2.2839e-06, 2.7148e-06, 4.3330e-06,  ..., 1.2284e-06, 9.6600e-07,\n",
       "              1.9283e-07],\n",
       "             [1.8174e-06, 2.5057e-06, 2.4769e-06,  ..., 1.0988e-06, 1.9419e-07,\n",
       "              7.4317e-08],\n",
       "             ...,\n",
       "             [1.9547e-06, 2.6926e-06, 1.8091e-06,  ..., 3.7007e-06, 2.2760e-06,\n",
       "              1.1223e-07],\n",
       "             [9.0514e-06, 9.7967e-06, 8.9679e-06,  ..., 1.5409e-06, 4.3241e-06,\n",
       "              7.8175e-08],\n",
       "             [4.4943e-06, 5.8841e-06, 6.1073e-06,  ..., 9.1028e-06, 2.5510e-06,\n",
       "              7.8862e-07]], device='cuda:0')},\n",
       "    3: {'step': tensor(4868.),\n",
       "     'exp_avg': tensor([ 0.0005,  0.0002,  0.0002,  ...,  0.0002,  0.0005, -0.0007],\n",
       "            device='cuda:0'),\n",
       "     'exp_avg_sq': tensor([4.8026e-06, 3.7484e-06, 2.6908e-06,  ..., 2.7611e-06, 1.4092e-05,\n",
       "             8.0939e-06], device='cuda:0')},\n",
       "    4: {'step': tensor(4868.),\n",
       "     'exp_avg': tensor([[-1.2117e-04, -1.6102e-04, -1.4201e-04,  ..., -9.9302e-05,\n",
       "              -7.0626e-05, -2.1041e-04],\n",
       "             [ 1.3179e-07,  1.5153e-07,  2.0155e-07,  ...,  2.2859e-07,\n",
       "               1.0196e-07,  9.2878e-08],\n",
       "             [ 6.4494e-07,  1.3441e-07,  6.0060e-07,  ...,  1.3682e-06,\n",
       "               2.1985e-07,  2.7432e-07],\n",
       "             ...,\n",
       "             [ 7.3653e-06,  2.7304e-05,  4.6133e-05,  ...,  7.7025e-05,\n",
       "               6.1043e-06,  2.8147e-05],\n",
       "             [ 1.1456e-09,  8.7544e-10,  1.8282e-09,  ...,  6.7675e-10,\n",
       "               5.7787e-10,  6.1635e-10],\n",
       "             [ 7.1364e-03,  2.0139e-02,  8.9863e-03,  ...,  1.7152e-03,\n",
       "               3.7084e-02,  1.9397e-02]], device='cuda:0'),\n",
       "     'exp_avg_sq': tensor([[5.2472e-07, 6.4967e-07, 5.4384e-07,  ..., 1.1765e-07, 1.5368e-07,\n",
       "              1.3362e-06],\n",
       "             [7.8729e-09, 2.7378e-09, 2.3893e-09,  ..., 5.9849e-09, 2.2338e-09,\n",
       "              1.5086e-09],\n",
       "             [1.7628e-09, 1.9376e-09, 1.9630e-09,  ..., 1.2326e-08, 1.3807e-10,\n",
       "              1.4159e-09],\n",
       "             ...,\n",
       "             [2.3097e-06, 2.1916e-06, 6.0743e-06,  ..., 1.4370e-05, 1.3858e-07,\n",
       "              2.4253e-06],\n",
       "             [9.8712e-14, 1.5303e-13, 8.7432e-14,  ..., 6.8768e-14, 1.7060e-13,\n",
       "              1.0792e-13],\n",
       "             [5.2929e-03, 6.4692e-03, 8.9522e-03,  ..., 1.2366e-02, 6.9436e-03,\n",
       "              7.7920e-03]], device='cuda:0')},\n",
       "    5: {'step': tensor(4868.),\n",
       "     'exp_avg': tensor([-9.3642e-05,  3.4464e-07,  1.0010e-06,  ...,  4.0249e-05,\n",
       "              4.0497e-09,  2.6178e-02], device='cuda:0'),\n",
       "     'exp_avg_sq': tensor([2.5530e-07, 4.4613e-09, 2.9297e-09,  ..., 2.3935e-06, 2.3460e-13,\n",
       "             9.9239e-03], device='cuda:0')},\n",
       "    6: {'step': tensor(4868.),\n",
       "     'exp_avg': tensor([ 5.0692e-07,  1.9722e-06,  3.0704e-06,  1.4678e-06, -2.3227e-06,\n",
       "             -6.2765e-06,  5.1448e-06,  4.9933e-06,  1.0844e-06, -5.4172e-06,\n",
       "             -6.4245e-06,  5.5839e-06,  3.8608e-06,  4.2205e-06, -3.4638e-07,\n",
       "              1.1225e-07, -4.0692e-06, -2.6616e-06, -3.9720e-06, -7.5773e-06,\n",
       "             -1.9550e-06, -5.1178e-06,  2.5591e-06,  1.2148e-05,  2.2765e-06,\n",
       "              7.1079e-06,  7.9523e-07, -2.3134e-06,  1.6667e-06,  3.1613e-07,\n",
       "              7.2228e-07, -8.1428e-07, -2.7087e-07,  2.7814e-08,  1.3216e-06,\n",
       "             -5.0413e-06,  9.0233e-06, -3.0230e-06,  2.3865e-06,  2.3004e-06,\n",
       "             -4.5043e-07, -9.9215e-06,  4.3849e-06,  2.0945e-06, -6.8725e-06,\n",
       "             -2.8925e-06,  2.1456e-06, -5.0870e-07, -4.2581e-06,  2.3745e-06,\n",
       "             -3.7522e-07,  1.4858e-06,  1.2920e-06,  2.1553e-06, -8.3177e-06,\n",
       "             -6.5499e-06, -3.3792e-06, -1.3876e-07, -4.0578e-06, -1.1342e-06,\n",
       "             -5.2314e-07, -2.3111e-06, -4.7622e-06,  3.4127e-07,  2.5555e-06,\n",
       "              2.6816e-06, -2.9960e-06, -7.8298e-07, -6.3233e-06, -3.3581e-06,\n",
       "             -5.9990e-07,  4.6360e-07,  2.9523e-06, -2.3962e-07, -2.1242e-06,\n",
       "              8.5414e-07, -7.4960e-06,  1.5546e-06,  5.0447e-06, -4.0948e-06,\n",
       "             -2.6913e-06, -3.5154e-07,  1.1502e-06,  2.9711e-06, -2.7853e-06,\n",
       "              3.7489e-06,  4.5647e-06, -4.4906e-06, -3.4778e-06,  6.9675e-07,\n",
       "              1.6419e-06,  2.8432e-07,  3.8872e-06, -1.5172e-06, -9.7272e-06,\n",
       "              9.6335e-07,  1.4951e-09, -3.5822e-07,  9.3548e-06,  1.4457e-06,\n",
       "             -5.2280e-08, -4.4615e-06, -1.4365e-06, -3.6269e-06, -1.5797e-06,\n",
       "              4.8717e-07, -3.4233e-07,  1.5833e-05, -1.3323e-06,  4.1162e-06,\n",
       "              4.9327e-06, -5.2583e-06, -4.4856e-06, -2.0624e-08, -1.6616e-06,\n",
       "              1.3824e-06, -1.5556e-06,  7.4985e-06,  3.6975e-06, -1.1508e-06,\n",
       "              1.3625e-06, -1.6439e-06, -1.8649e-06,  6.0992e-06,  2.8404e-06,\n",
       "              6.1331e-06, -2.0846e-06,  1.3725e-06, -7.2935e-07,  3.5761e-06,\n",
       "             -5.3002e-06,  1.9529e-06,  3.5602e-06, -1.4450e-06, -5.9413e-07,\n",
       "             -2.4296e-06, -2.3684e-06, -3.3123e-06,  1.1779e-06,  1.8091e-06,\n",
       "             -8.4534e-06, -7.0778e-07,  3.7580e-06, -2.8165e-06,  2.5397e-06,\n",
       "             -3.7309e-06,  1.2374e-07,  1.5015e-06, -5.6423e-06,  7.0495e-07,\n",
       "              5.8530e-06, -1.1685e-06,  1.1480e-06, -2.6783e-06, -1.5062e-06,\n",
       "             -2.7529e-06, -3.4780e-06, -2.4903e-06,  1.3869e-06,  4.5868e-06,\n",
       "             -1.1264e-05, -2.6293e-06,  8.3355e-06,  4.8250e-07,  8.2689e-06,\n",
       "              5.1058e-07,  6.3231e-06, -1.6849e-07,  4.1465e-06, -8.2978e-06,\n",
       "             -5.5831e-06, -2.3223e-06,  1.1496e-06, -4.1212e-06, -8.8299e-06,\n",
       "             -7.7355e-06, -1.5730e-06, -4.3344e-07,  4.7879e-06, -3.7372e-06,\n",
       "              2.1907e-06,  1.0413e-05, -7.2192e-07,  3.3381e-06, -2.1040e-06,\n",
       "              2.8676e-06, -3.3387e-08, -1.0313e-06, -3.2042e-06, -6.9440e-06,\n",
       "              3.1004e-06, -5.2788e-06, -2.0309e-06, -2.5628e-06,  7.8056e-07,\n",
       "             -1.2488e-06, -1.7747e-06,  3.0267e-06,  6.2625e-07, -2.4377e-06,\n",
       "             -8.7706e-06,  2.1477e-06, -1.8564e-06, -6.6246e-06, -2.5122e-05,\n",
       "             -1.1641e-06, -5.4621e-06, -5.7966e-07,  1.1909e-05,  8.1028e-06,\n",
       "             -5.0402e-06,  4.4793e-06, -3.6066e-06,  3.9413e-06, -1.5914e-06,\n",
       "             -3.7032e-06, -5.2262e-07,  2.8122e-06, -1.6754e-06, -2.9099e-06,\n",
       "              4.7721e-07,  1.5426e-06, -1.6672e-06, -3.0135e-06, -2.1526e-06,\n",
       "             -1.3879e-05, -3.1348e-06,  2.7015e-06,  1.9516e-06, -2.7176e-06,\n",
       "             -2.5444e-06,  1.0664e-06,  2.2618e-06,  9.6847e-08,  1.7399e-06,\n",
       "              6.4411e-06,  5.9832e-06,  3.9861e-06,  2.4974e-06, -1.9369e-06,\n",
       "              6.0158e-06, -5.5393e-07,  2.8164e-06, -4.1952e-06, -1.6843e-06,\n",
       "             -4.2621e-07, -7.7934e-06,  1.9152e-05, -4.1251e-06,  7.6530e-06,\n",
       "              1.9833e-06, -7.4722e-07,  2.4620e-06, -3.4460e-06, -9.6800e-06,\n",
       "             -1.7719e-07,  9.1110e-06, -6.2461e-06, -2.8712e-06,  1.1410e-07,\n",
       "              3.6049e-06, -1.1802e-06,  2.4699e-06, -6.4424e-07,  3.2211e-06,\n",
       "              1.9242e-06, -5.8484e-06, -2.8910e-06, -2.8750e-06, -2.2133e-06,\n",
       "             -3.4200e-06, -3.9293e-06, -5.3961e-06, -5.7168e-06, -3.4789e-06,\n",
       "             -7.8237e-06,  6.0560e-06,  5.6255e-06,  3.2529e-06, -1.7639e-06,\n",
       "              1.5146e-06,  5.1489e-06, -2.4473e-06, -1.0637e-05, -5.8802e-06,\n",
       "             -8.8059e-07, -3.2532e-06,  6.7651e-06, -2.4276e-06, -3.2205e-06,\n",
       "             -6.2908e-06,  1.4266e-06, -2.0621e-06, -3.8224e-06,  6.0508e-06,\n",
       "             -6.3792e-06,  4.4752e-06,  1.7748e-06, -3.5100e-06, -3.8793e-06,\n",
       "              1.6454e-06,  1.9491e-06,  6.1159e-06,  9.9831e-07, -1.4864e-07,\n",
       "             -2.5730e-06,  2.6338e-06, -7.7557e-07,  1.7673e-06, -3.2537e-06,\n",
       "              1.6114e-06,  9.2134e-08,  3.4507e-06,  8.5927e-07, -3.5952e-06,\n",
       "             -7.3206e-06,  1.3466e-06, -3.5341e-06,  2.1530e-06, -6.7662e-06,\n",
       "             -4.7243e-06, -1.4655e-06, -5.5587e-06,  6.2197e-06,  2.5912e-06,\n",
       "              2.3902e-06,  4.7068e-06, -9.3786e-06,  1.4155e-06, -1.1263e-07,\n",
       "              1.7685e-06,  2.9509e-06, -1.0644e-05,  6.7386e-07,  4.7083e-06,\n",
       "              3.0934e-06,  2.0114e-06, -5.8528e-06, -2.1373e-06,  2.6303e-06,\n",
       "              1.2953e-06,  2.7856e-06, -1.1519e-06,  7.4525e-07, -2.1260e-06,\n",
       "             -2.1787e-06,  1.2769e-06, -9.4542e-06,  8.7277e-07,  2.4704e-06,\n",
       "              1.7017e-06, -1.9920e-06, -2.0306e-06,  4.5072e-07, -4.7490e-07,\n",
       "              2.9971e-06,  2.7935e-07,  5.6228e-06, -3.0506e-06, -5.4565e-06,\n",
       "              2.6726e-06,  4.6848e-07, -4.2534e-06,  8.1372e-07, -5.6873e-06,\n",
       "              2.1295e-07,  7.9232e-07,  8.1737e-07,  6.7511e-06,  6.5873e-07,\n",
       "             -4.2665e-06, -9.0982e-06,  3.3348e-06,  1.0858e-07, -7.2336e-06,\n",
       "             -4.1885e-06,  1.8717e-06,  1.6588e-06, -6.3872e-06, -1.3078e-06,\n",
       "             -9.3818e-07, -1.3909e-06, -3.6346e-06, -5.1715e-06, -3.3210e-07,\n",
       "              1.9741e-06,  1.8914e-06, -6.5942e-06, -4.3397e-06,  1.2458e-06,\n",
       "             -3.3258e-06, -7.6518e-06, -7.1108e-06,  6.5776e-06, -6.0380e-07,\n",
       "             -6.7487e-06, -1.5316e-06,  1.5772e-06,  5.7368e-06,  7.7308e-07,\n",
       "              1.0266e-05, -2.1171e-07,  2.1416e-06, -3.8265e-06, -2.3906e-06,\n",
       "             -8.6641e-06,  3.5869e-06,  3.8831e-06,  1.2099e-05,  2.2589e-06,\n",
       "             -2.5925e-06,  2.3487e-06, -1.0792e-05, -5.7934e-06, -1.0933e-06,\n",
       "             -2.5947e-07, -9.9372e-06, -3.2078e-06,  7.0257e-07, -4.4652e-06,\n",
       "             -1.7558e-06, -2.0160e-06, -1.7442e-06, -9.0065e-07, -3.8681e-06,\n",
       "             -3.4204e-06, -7.9622e-07, -3.5139e-06, -6.4595e-06,  4.6653e-06,\n",
       "              1.7470e-06, -1.0948e-05,  1.6487e-06,  3.9721e-06,  4.4870e-06,\n",
       "              6.0924e-06, -1.3686e-06, -4.5639e-06, -3.2908e-06,  1.3954e-06,\n",
       "              5.9998e-06, -5.3767e-08, -8.5814e-07, -7.6147e-07, -3.2243e-06,\n",
       "             -2.7766e-06, -5.8586e-06,  1.9540e-06, -5.1707e-06, -2.9367e-06,\n",
       "             -1.9229e-06,  3.6716e-06,  1.4375e-05, -6.1340e-06, -2.7249e-08,\n",
       "              1.5167e-06,  2.8945e-06, -5.5048e-06,  5.0321e-06, -1.6704e-06,\n",
       "             -8.9319e-06, -3.2062e-06,  7.2300e-06, -2.8687e-06, -8.3291e-06,\n",
       "             -5.0838e-06, -9.7962e-07,  2.6227e-06, -4.7959e-07, -9.9746e-07,\n",
       "              4.3773e-07, -3.6491e-07,  5.3648e-06,  2.1154e-06, -3.7862e-06,\n",
       "              1.1829e-06,  4.2056e-06,  3.8187e-07, -1.5392e-06,  1.9278e-06,\n",
       "              1.7876e-06, -4.5371e-06,  7.6587e-07,  5.6036e-06, -5.7307e-06,\n",
       "             -2.0390e-06, -1.6448e-06, -3.6944e-06, -8.2247e-07,  1.7324e-07,\n",
       "             -1.2381e-06, -5.7806e-06,  2.0139e-06,  8.4272e-07,  2.5642e-06,\n",
       "              2.5210e-06, -9.0784e-08,  2.9615e-06,  9.0946e-07, -1.3230e-07,\n",
       "             -1.4993e-07, -2.0573e-07, -2.5502e-06,  2.2095e-06, -2.8287e-06,\n",
       "              4.3955e-06, -8.9494e-07, -1.3114e-06, -4.0188e-06, -1.3349e-05,\n",
       "              1.4895e-05, -4.9791e-06, -5.3544e-06,  4.0377e-06, -1.0880e-06,\n",
       "             -5.0201e-06,  2.3719e-06,  2.1851e-06,  4.0006e-07, -2.6410e-07,\n",
       "             -2.5770e-06,  1.9285e-07, -2.1440e-06,  1.9446e-06,  1.5798e-06,\n",
       "             -4.9988e-06,  9.0173e-06,  2.4355e-07, -7.5757e-06,  3.6638e-06,\n",
       "             -3.7173e-06,  8.0947e-07,  3.1692e-06, -1.7299e-06, -3.3370e-06,\n",
       "             -8.5974e-07, -5.0458e-07, -4.8962e-06, -3.5284e-06, -2.0760e-06,\n",
       "              8.2150e-06, -8.3743e-06, -3.4778e-06,  4.4419e-06, -5.5998e-07,\n",
       "             -1.3741e-05, -4.1252e-06,  9.7676e-06, -3.0516e-06, -4.6781e-06,\n",
       "              1.1279e-06, -5.1809e-06,  7.3962e-06, -3.3844e-06,  3.4590e-06,\n",
       "              9.6091e-06, -1.0901e-06, -5.3061e-07, -1.9308e-06,  1.2718e-06,\n",
       "              5.2649e-06,  2.9595e-06, -7.1773e-06,  5.0658e-06,  7.5996e-06,\n",
       "             -2.0482e-06, -9.8470e-07,  1.5857e-06,  4.7401e-06,  3.4398e-06,\n",
       "             -7.6802e-08,  4.1014e-06, -2.2318e-06,  1.6077e-06, -6.3258e-06,\n",
       "              5.5825e-06, -4.6756e-06,  1.3922e-06, -3.2149e-06, -4.9354e-07,\n",
       "             -2.5673e-06,  3.6200e-06, -7.8675e-07, -1.0314e-05, -5.4675e-06,\n",
       "             -2.9741e-06, -2.2559e-07,  7.0632e-07, -3.3480e-07, -6.8913e-06,\n",
       "              9.5544e-07,  2.7233e-06,  2.1138e-06, -4.5301e-06,  2.9445e-07,\n",
       "             -4.0291e-06, -1.5786e-06,  7.0366e-07, -6.6552e-06, -7.2609e-07,\n",
       "             -4.3584e-06,  2.2199e-06,  3.6465e-06,  2.3237e-06,  2.4086e-07,\n",
       "             -1.0679e-06, -5.7706e-07,  4.5549e-06, -1.9768e-06, -5.0979e-06,\n",
       "             -5.6664e-06,  1.7149e-06, -1.2297e-06, -1.3865e-06,  2.7953e-06,\n",
       "              2.8049e-06, -1.3829e-06,  7.3524e-07,  4.6688e-06,  8.5677e-06,\n",
       "             -4.9676e-07, -4.6416e-06, -4.5548e-06, -2.6140e-06,  5.3608e-06,\n",
       "              2.7565e-07, -1.5399e-06, -1.7584e-06,  1.5137e-06,  2.3544e-06,\n",
       "              3.2809e-06,  4.9790e-06,  4.1468e-06, -9.8036e-06, -1.5325e-06,\n",
       "              3.1687e-06, -7.7405e-06,  8.4958e-07,  3.3753e-06,  1.6829e-06,\n",
       "              2.9524e-06, -3.4277e-06,  3.4543e-06, -4.6059e-07,  5.6979e-06,\n",
       "             -7.6173e-07, -4.6469e-06, -7.8893e-07, -1.6597e-06,  4.2777e-06,\n",
       "             -3.8433e-06,  2.7868e-06, -2.3922e-06, -4.4085e-06, -9.3313e-08,\n",
       "              1.9875e-06,  1.6875e-06,  7.4821e-07,  6.6206e-06,  5.7255e-07,\n",
       "              1.6022e-07,  4.8805e-06, -3.7319e-06, -7.2898e-07,  3.6997e-06,\n",
       "             -4.4229e-06, -1.7295e-06,  7.8636e-06, -2.4256e-06,  6.3623e-07,\n",
       "             -6.4935e-07, -3.2013e-06, -4.5335e-06,  3.3147e-07, -3.4159e-06,\n",
       "             -1.0241e-05, -5.1743e-06,  9.4072e-07, -3.0372e-06, -2.2361e-06,\n",
       "              2.5712e-07,  2.1784e-07,  7.2471e-06, -1.5811e-06,  1.2978e-06,\n",
       "              6.1249e-07,  6.2654e-06, -4.3476e-06,  4.7698e-07, -1.2441e-06,\n",
       "              1.4106e-06,  3.3989e-06,  1.0133e-05,  1.1840e-06, -8.8998e-06,\n",
       "              2.3573e-06, -7.3258e-07,  3.6963e-06, -3.2958e-06, -3.9635e-06,\n",
       "             -2.9487e-06,  1.9241e-06, -2.6718e-06,  5.6888e-06, -4.3156e-06,\n",
       "              2.8482e-06, -7.2550e-06,  7.2673e-06, -4.3533e-06, -1.6860e-06,\n",
       "             -1.0144e-06,  2.3429e-06, -6.5613e-07, -9.6889e-07, -2.5433e-06,\n",
       "             -1.2621e-06,  4.6290e-06,  2.9798e-06, -1.0340e-05,  5.0264e-07,\n",
       "             -3.0530e-06, -2.2867e-07,  3.9276e-06,  1.7778e-06,  5.0522e-06,\n",
       "              1.2737e-06,  2.6712e-06, -1.9871e-06,  5.0633e-06, -6.0136e-07,\n",
       "              2.9769e-06,  1.7746e-06, -8.9532e-06,  1.2120e-06, -4.1717e-06,\n",
       "              5.4677e-06, -4.3493e-06, -3.5207e-06, -1.8713e-06,  1.0365e-06,\n",
       "             -1.7926e-06,  7.1230e-06, -4.4748e-06, -9.6244e-07,  3.5483e-06,\n",
       "             -9.7148e-06,  2.1532e-07, -1.5648e-06,  8.3090e-06, -1.8725e-06,\n",
       "              7.6796e-07, -6.2061e-06, -1.2495e-06, -1.4547e-06,  3.3694e-06,\n",
       "              2.9998e-06, -3.5350e-06, -5.5309e-06, -1.4284e-06, -7.5255e-06,\n",
       "             -5.0996e-06, -4.5235e-07,  1.4312e-06,  3.4725e-06, -9.6153e-07,\n",
       "              7.3905e-07,  4.2132e-06,  2.8703e-06, -1.5737e-06,  6.7554e-07,\n",
       "              3.8957e-06, -1.1047e-07,  2.0139e-09,  1.0143e-07, -2.8279e-07,\n",
       "              1.1144e-07, -7.0455e-07, -1.9466e-07, -8.8669e-08,  1.8417e-08,\n",
       "              6.2732e-07,  2.6670e-08, -1.2806e-06,  1.4712e-08, -1.3914e-08,\n",
       "             -4.7290e-08,  1.3195e-08, -4.6558e-07, -2.0477e-06,  3.7134e-43,\n",
       "              3.9362e-07, -3.9819e-07, -1.1567e-08, -3.5001e-07,  1.1659e-06,\n",
       "              0.0000e+00,  5.4911e-07, -3.5539e-07,  3.0769e-07,  7.4280e-06,\n",
       "             -2.0819e-06, -5.7404e-07, -6.4734e-08, -1.2705e-07,  3.2927e-06,\n",
       "              6.8415e-07,  1.3388e-07,  2.3586e-06,  2.5648e-07,  3.1033e-06,\n",
       "             -1.6370e-07, -3.4815e-06,  4.5796e-07, -3.0203e-08, -1.5970e-06,\n",
       "             -5.8598e-06, -9.5057e-07,  3.9941e-06,  9.5460e-08,  2.8919e-07,\n",
       "             -8.2228e-07,  1.1289e-05,  4.7294e-08,  2.7735e-08, -2.9132e-07,\n",
       "             -3.7235e-07, -3.3302e-06, -3.4085e-07,  5.7434e-07,  6.5247e-07,\n",
       "              1.7504e-08,  2.2197e-06, -2.8522e-08, -4.9823e-07, -5.3356e-06,\n",
       "             -2.1275e-07, -3.0663e-06,  6.2108e-07, -2.1049e-07, -7.0454e-09,\n",
       "              2.5166e-07,  1.6297e-07, -5.5527e-07], device='cuda:0'),\n",
       "     'exp_avg_sq': tensor([2.3678e-10, 1.6795e-10, 6.8713e-10, 4.0911e-10, 2.2974e-10, 3.6464e-10,\n",
       "             2.8540e-10, 2.4091e-10, 2.4278e-10, 1.7069e-10, 2.8987e-10, 2.0231e-10,\n",
       "             5.9909e-10, 2.2250e-10, 3.1914e-10, 2.2744e-10, 1.1037e-09, 2.0244e-10,\n",
       "             3.0056e-10, 3.4276e-10, 1.9179e-10, 5.3173e-10, 2.9724e-10, 5.6277e-10,\n",
       "             1.1970e-09, 5.2774e-10, 3.5347e-10, 2.3479e-10, 2.7274e-10, 6.6001e-10,\n",
       "             2.7151e-10, 2.3409e-10, 2.5715e-10, 2.8638e-10, 2.6134e-10, 3.1914e-10,\n",
       "             1.9980e-10, 3.6388e-10, 2.9917e-10, 3.3164e-10, 3.2608e-10, 5.4616e-10,\n",
       "             1.6875e-10, 2.1893e-10, 3.8862e-10, 3.8320e-10, 3.6007e-10, 2.9951e-10,\n",
       "             3.0025e-10, 3.7214e-10, 1.8254e-10, 3.4788e-10, 6.6853e-10, 2.6157e-10,\n",
       "             8.0188e-10, 3.5359e-10, 2.4189e-10, 4.3157e-10, 3.0561e-10, 2.1780e-10,\n",
       "             2.2851e-10, 1.9789e-10, 4.4599e-10, 2.0725e-10, 5.0727e-10, 4.4733e-10,\n",
       "             3.5450e-10, 3.0720e-10, 3.9781e-10, 1.7423e-10, 2.5063e-10, 1.6867e-10,\n",
       "             8.3360e-10, 2.2010e-10, 2.2345e-10, 2.0660e-10, 3.6245e-10, 2.8636e-10,\n",
       "             2.6314e-10, 2.5222e-10, 3.5743e-10, 2.8643e-10, 2.7083e-10, 2.0595e-10,\n",
       "             3.2902e-10, 3.6216e-10, 5.7730e-10, 3.2585e-10, 1.6081e-09, 3.5907e-10,\n",
       "             2.0413e-10, 3.1589e-10, 4.2982e-10, 1.7423e-10, 3.6041e-10, 3.0895e-10,\n",
       "             8.9201e-10, 1.5280e-10, 3.9431e-10, 3.0200e-10, 2.8394e-10, 3.2475e-10,\n",
       "             5.7603e-10, 6.2499e-10, 3.2154e-10, 4.4782e-10, 1.9512e-10, 5.0717e-10,\n",
       "             2.9037e-10, 4.1179e-10, 3.7333e-10, 2.0226e-10, 4.4160e-10, 4.7944e-10,\n",
       "             7.7446e-10, 2.8255e-10, 3.9346e-10, 1.5706e-10, 3.2402e-10, 2.0283e-10,\n",
       "             2.3607e-10, 2.4628e-10, 2.4070e-10, 7.1413e-10, 2.9157e-10, 2.3745e-10,\n",
       "             1.6997e-10, 1.0387e-09, 2.3536e-10, 4.6021e-10, 2.2731e-10, 1.9688e-10,\n",
       "             3.0442e-10, 2.9590e-10, 1.0002e-09, 2.0396e-10, 4.9047e-10, 2.3635e-10,\n",
       "             3.0091e-10, 3.0860e-10, 9.5671e-10, 1.1452e-09, 5.0174e-10, 5.5020e-10,\n",
       "             2.8537e-10, 4.4468e-10, 3.3613e-10, 3.2437e-10, 7.3795e-10, 3.6260e-10,\n",
       "             3.5140e-10, 2.4922e-10, 3.0302e-10, 2.5673e-10, 4.9643e-10, 3.7386e-10,\n",
       "             2.2143e-10, 4.3605e-10, 2.9298e-10, 2.8219e-10, 1.0801e-09, 2.0522e-10,\n",
       "             2.5304e-10, 3.1896e-10, 9.8776e-10, 3.2640e-10, 2.0372e-10, 6.1603e-10,\n",
       "             3.9263e-10, 2.0129e-10, 1.4640e-09, 3.5398e-10, 2.4465e-10, 5.7331e-10,\n",
       "             8.9583e-10, 2.0852e-10, 2.5376e-10, 3.3281e-10, 2.2185e-10, 4.4194e-10,\n",
       "             3.5060e-10, 3.3256e-10, 1.8528e-10, 3.8055e-10, 2.9319e-10, 4.2260e-10,\n",
       "             3.0637e-10, 1.9309e-10, 4.9390e-10, 2.4279e-10, 3.6242e-10, 1.2028e-09,\n",
       "             1.8757e-10, 3.9937e-10, 3.3370e-10, 4.1766e-10, 4.1185e-10, 4.3367e-10,\n",
       "             9.8579e-10, 4.6484e-10, 2.4313e-10, 4.5416e-10, 2.7356e-10, 4.4701e-10,\n",
       "             1.0643e-09, 2.0026e-10, 3.5828e-10, 5.0507e-10, 1.5780e-09, 4.1037e-10,\n",
       "             6.0096e-10, 5.5395e-10, 3.4503e-10, 1.9259e-10, 2.2511e-10, 3.3742e-10,\n",
       "             3.0536e-10, 4.2748e-10, 3.7321e-10, 4.3796e-10, 5.4897e-10, 1.9734e-10,\n",
       "             2.0217e-10, 3.0013e-10, 3.0190e-10, 5.5809e-10, 2.1322e-10, 4.8926e-10,\n",
       "             2.8193e-10, 2.6568e-10, 1.6248e-10, 2.9331e-10, 1.5762e-10, 2.8898e-10,\n",
       "             3.4937e-10, 4.8066e-10, 4.2948e-10, 4.2006e-10, 4.5347e-10, 3.1157e-10,\n",
       "             5.5991e-10, 6.1382e-10, 2.6481e-10, 2.3557e-10, 2.0863e-10, 3.3742e-10,\n",
       "             3.2112e-10, 1.1433e-09, 5.6031e-10, 5.8216e-10, 2.4144e-10, 2.2224e-10,\n",
       "             4.0770e-10, 2.4042e-10, 4.8424e-10, 5.3387e-10, 5.9037e-10, 3.3715e-10,\n",
       "             2.0521e-10, 3.2202e-10, 2.4368e-10, 4.3772e-10, 3.3258e-10, 7.2439e-10,\n",
       "             2.5290e-10, 1.9160e-10, 4.7691e-10, 1.0734e-09, 4.3721e-10, 4.4795e-10,\n",
       "             4.6214e-10, 2.5489e-10, 1.7144e-10, 3.6684e-10, 3.8631e-10, 4.0333e-10,\n",
       "             6.1932e-10, 4.7064e-10, 3.1616e-10, 3.0904e-10, 2.6652e-10, 3.1818e-10,\n",
       "             3.0852e-10, 1.0184e-09, 4.0861e-10, 7.0949e-10, 3.8101e-10, 2.9309e-10,\n",
       "             1.0413e-09, 1.8010e-10, 4.2589e-10, 2.2840e-10, 1.9840e-10, 2.0886e-10,\n",
       "             7.2061e-10, 1.8822e-10, 5.3072e-10, 3.1217e-10, 2.8071e-10, 3.1598e-10,\n",
       "             1.4472e-10, 3.5629e-10, 4.7324e-10, 2.4828e-10, 1.8657e-10, 3.7559e-10,\n",
       "             3.9972e-10, 3.3014e-10, 2.0843e-10, 3.1753e-10, 1.9799e-10, 8.5811e-10,\n",
       "             2.3896e-10, 1.9952e-10, 3.9342e-10, 7.3128e-10, 3.4915e-10, 2.6954e-10,\n",
       "             3.5920e-10, 4.8790e-10, 2.5586e-10, 2.2311e-10, 3.3763e-10, 4.7620e-10,\n",
       "             3.4987e-10, 8.9628e-10, 2.7266e-10, 3.2196e-10, 2.8496e-10, 1.6863e-10,\n",
       "             2.1575e-10, 3.0637e-10, 2.4256e-10, 5.4511e-10, 2.2702e-10, 7.7842e-10,\n",
       "             2.6253e-10, 2.7649e-10, 3.5565e-10, 2.1136e-10, 1.0208e-09, 2.2385e-10,\n",
       "             2.9756e-10, 1.3764e-10, 3.2197e-10, 2.8472e-10, 1.7168e-10, 3.5601e-10,\n",
       "             2.0806e-10, 2.1660e-10, 3.7432e-10, 4.3586e-10, 2.8885e-10, 2.7327e-10,\n",
       "             2.4773e-10, 4.2884e-10, 2.4541e-10, 3.4831e-10, 2.4928e-10, 6.8526e-10,\n",
       "             2.1063e-10, 2.4054e-10, 4.2340e-10, 4.5581e-10, 4.0405e-10, 2.4597e-10,\n",
       "             2.1292e-10, 1.7992e-10, 2.7070e-10, 2.7945e-10, 2.6184e-10, 5.6670e-10,\n",
       "             1.8258e-10, 4.7549e-10, 4.6752e-10, 2.2387e-10, 1.9911e-10, 3.1914e-10,\n",
       "             2.7767e-10, 1.6209e-10, 3.2383e-10, 1.7109e-10, 2.4120e-10, 3.4472e-10,\n",
       "             1.7797e-10, 2.3656e-10, 2.2507e-10, 5.3608e-10, 2.2133e-10, 2.5638e-10,\n",
       "             3.4408e-10, 8.7786e-10, 4.6189e-10, 4.4920e-10, 3.8169e-10, 4.6281e-10,\n",
       "             2.2382e-10, 7.7539e-10, 3.3226e-10, 3.5947e-10, 5.4636e-10, 1.7309e-10,\n",
       "             2.7601e-10, 4.8513e-10, 2.9615e-10, 5.7920e-10, 6.8531e-10, 1.0948e-09,\n",
       "             2.8265e-09, 3.6453e-10, 2.8314e-10, 1.7996e-10, 3.4374e-10, 5.7200e-10,\n",
       "             4.0851e-10, 2.0158e-10, 5.1618e-10, 5.7974e-10, 2.4577e-10, 1.9007e-10,\n",
       "             3.6586e-10, 4.2507e-10, 1.7442e-10, 3.3469e-10, 1.8458e-10, 4.0822e-10,\n",
       "             4.8255e-10, 2.7138e-10, 2.3741e-10, 7.6723e-10, 2.5526e-10, 2.6137e-10,\n",
       "             6.9664e-10, 2.2235e-10, 3.3772e-10, 2.8817e-10, 5.9657e-10, 1.5546e-10,\n",
       "             3.1165e-10, 3.6799e-10, 4.3233e-10, 5.8697e-10, 3.3436e-10, 1.9325e-10,\n",
       "             3.1491e-10, 1.5614e-10, 8.3305e-10, 2.1371e-10, 3.4251e-10, 3.5499e-10,\n",
       "             3.9506e-10, 3.6677e-10, 1.1501e-09, 5.2217e-10, 2.3136e-10, 2.6562e-10,\n",
       "             2.9120e-10, 6.6544e-10, 3.3403e-10, 8.2918e-10, 6.4699e-10, 5.4714e-10,\n",
       "             3.9712e-10, 3.3359e-10, 6.0147e-10, 4.6538e-10, 3.0268e-10, 7.0025e-10,\n",
       "             2.5646e-10, 3.4098e-10, 2.7493e-10, 1.8174e-10, 6.6748e-10, 5.9993e-10,\n",
       "             2.3744e-10, 2.8303e-10, 4.0306e-10, 2.3608e-10, 2.3091e-10, 1.9252e-10,\n",
       "             1.5449e-10, 8.6658e-10, 2.6473e-10, 1.8715e-10, 9.1716e-10, 9.3733e-10,\n",
       "             3.3060e-10, 5.4693e-10, 1.9895e-10, 3.8421e-10, 3.2180e-10, 2.8420e-10,\n",
       "             1.6103e-10, 1.7022e-10, 2.5257e-10, 1.9781e-10, 4.4295e-10, 2.8493e-10,\n",
       "             1.7460e-10, 3.3104e-10, 3.0174e-10, 3.0501e-10, 2.0272e-10, 2.4512e-10,\n",
       "             2.3924e-10, 2.7874e-10, 3.9727e-10, 3.6934e-10, 2.7155e-10, 6.4371e-10,\n",
       "             8.2355e-10, 2.4628e-10, 6.8794e-10, 7.5049e-10, 2.4035e-10, 2.3331e-10,\n",
       "             2.3267e-10, 2.5182e-10, 3.0882e-10, 1.6874e-10, 2.0143e-10, 3.1783e-10,\n",
       "             2.2127e-10, 4.5211e-10, 2.8498e-10, 4.4953e-10, 4.5058e-10, 2.4105e-10,\n",
       "             6.0038e-10, 1.5501e-10, 1.8102e-10, 6.0165e-10, 4.2642e-10, 3.1168e-10,\n",
       "             2.5642e-10, 2.7142e-10, 3.9010e-10, 3.1332e-10, 3.3137e-10, 2.7973e-10,\n",
       "             5.5745e-10, 5.5373e-10, 1.8806e-09, 2.9381e-10, 2.0042e-10, 8.6484e-10,\n",
       "             1.3731e-10, 5.1342e-10, 4.4611e-10, 2.5093e-10, 3.5206e-10, 2.4101e-10,\n",
       "             3.6669e-10, 2.8404e-10, 5.8072e-10, 5.5461e-10, 4.4768e-10, 4.5283e-10,\n",
       "             6.5659e-10, 2.6913e-10, 3.3158e-10, 2.7075e-10, 3.8285e-10, 3.9175e-10,\n",
       "             3.0720e-10, 1.9404e-10, 2.4508e-10, 3.4957e-10, 1.1168e-09, 2.6929e-10,\n",
       "             3.1744e-10, 2.7925e-10, 1.5849e-10, 3.1110e-10, 3.8801e-10, 4.6579e-10,\n",
       "             2.3390e-10, 2.1595e-10, 5.0576e-10, 2.8637e-10, 6.3479e-10, 3.2299e-10,\n",
       "             1.7451e-10, 5.5549e-10, 3.0381e-10, 3.0381e-10, 3.5370e-10, 2.1576e-10,\n",
       "             2.8319e-10, 3.7724e-10, 6.2223e-10, 2.4778e-10, 2.2455e-10, 3.4419e-10,\n",
       "             3.6017e-10, 3.1292e-10, 1.6354e-10, 4.8491e-10, 2.7872e-10, 1.7325e-10,\n",
       "             2.4850e-10, 5.5913e-10, 2.4377e-10, 2.2460e-10, 5.9159e-10, 4.4407e-10,\n",
       "             2.3450e-10, 4.9429e-10, 1.2679e-09, 4.4963e-10, 1.3555e-09, 3.2908e-10,\n",
       "             2.4451e-10, 2.8710e-10, 5.3972e-10, 2.9236e-10, 4.2411e-10, 4.8008e-10,\n",
       "             3.1352e-10, 8.1043e-10, 6.3009e-10, 1.2752e-09, 1.0577e-09, 4.8489e-10,\n",
       "             6.4420e-10, 3.7632e-10, 2.8805e-10, 1.8896e-10, 8.4539e-10, 3.3348e-10,\n",
       "             4.9522e-10, 3.1877e-10, 1.6167e-10, 2.9157e-10, 3.4730e-10, 4.0572e-10,\n",
       "             3.8996e-10, 2.6430e-10, 5.7813e-10, 3.8460e-10, 4.7265e-10, 2.7549e-10,\n",
       "             2.5295e-10, 1.7627e-10, 4.2220e-10, 2.6441e-10, 4.4662e-10, 2.4396e-10,\n",
       "             1.9828e-10, 3.1132e-10, 2.7278e-10, 3.1702e-10, 4.3258e-10, 4.2272e-10,\n",
       "             5.7479e-10, 3.1561e-10, 3.0669e-10, 1.0410e-09, 3.3098e-10, 1.8985e-10,\n",
       "             3.1522e-10, 3.1518e-10, 7.2236e-10, 2.3064e-10, 3.7611e-10, 2.1451e-10,\n",
       "             2.6034e-10, 3.6728e-10, 2.3124e-10, 2.3658e-10, 2.5847e-10, 2.2272e-10,\n",
       "             4.5905e-10, 4.2512e-10, 3.3942e-10, 5.7997e-10, 2.0586e-10, 2.1457e-10,\n",
       "             1.6498e-10, 1.6090e-10, 2.7889e-10, 3.2145e-10, 5.4338e-10, 5.2423e-10,\n",
       "             5.8320e-10, 4.9145e-10, 2.5471e-10, 6.3636e-10, 3.0651e-10, 7.1543e-10,\n",
       "             3.0545e-10, 5.9420e-10, 4.8560e-10, 7.3536e-10, 8.6011e-10, 5.1040e-10,\n",
       "             2.5723e-10, 2.7318e-10, 2.5626e-10, 2.2392e-10, 1.7415e-10, 2.3964e-10,\n",
       "             3.8623e-10, 2.5763e-10, 2.0660e-10, 1.4769e-10, 2.2760e-10, 1.2557e-09,\n",
       "             2.5662e-10, 2.4430e-10, 4.7973e-10, 2.1260e-10, 2.5033e-10, 2.8121e-10,\n",
       "             2.2805e-10, 2.9305e-10, 5.9612e-10, 3.4478e-10, 4.4997e-10, 5.1425e-10,\n",
       "             1.7722e-10, 1.8655e-10, 3.9063e-10, 7.0390e-10, 1.8271e-10, 1.6678e-10,\n",
       "             1.0255e-09, 1.9619e-10, 5.6353e-10, 3.1800e-10, 5.0309e-10, 3.1775e-10,\n",
       "             5.0004e-10, 1.8444e-10, 5.5701e-10, 3.2506e-10, 4.5545e-10, 1.3664e-10,\n",
       "             2.7392e-10, 3.4509e-10, 7.4153e-10, 9.8593e-10, 4.2163e-10, 1.7012e-10,\n",
       "             3.0016e-10, 3.8942e-10, 1.9515e-10, 2.9073e-10, 6.8261e-10, 2.7287e-10,\n",
       "             2.6248e-10, 2.8867e-10, 2.9325e-10, 5.8525e-10, 4.2003e-10, 3.2638e-10,\n",
       "             3.6777e-10, 8.1192e-10, 3.1874e-10, 2.5301e-10, 7.2320e-10, 2.1725e-10,\n",
       "             2.5717e-10, 4.9212e-10, 2.8517e-10, 3.9498e-10, 2.0809e-10, 2.8342e-10,\n",
       "             2.4288e-09, 3.0902e-10, 9.2476e-11, 9.3845e-13, 9.0982e-13, 4.7845e-13,\n",
       "             6.0529e-11, 2.9370e-11, 4.8634e-10, 1.4390e-10, 4.2377e-11, 3.5149e-11,\n",
       "             3.5960e-11, 1.9126e-12, 2.6631e-10, 1.3908e-11, 5.8425e-13, 9.0084e-12,\n",
       "             2.9553e-11, 6.9168e-11, 1.0413e-10, 1.2755e-13, 3.2523e-11, 1.8125e-11,\n",
       "             1.9507e-12, 3.9145e-11, 5.4996e-10, 0.0000e+00, 1.3445e-10, 3.5627e-11,\n",
       "             2.6131e-10, 2.1355e-10, 1.2486e-10, 2.4617e-10, 1.9290e-11, 5.5717e-11,\n",
       "             1.0430e-09, 1.6598e-10, 3.6809e-11, 2.1727e-10, 9.3404e-11, 4.0281e-10,\n",
       "             1.1458e-10, 3.4232e-10, 2.3132e-10, 1.9736e-10, 1.2057e-10, 2.5025e-10,\n",
       "             1.8853e-10, 5.2117e-10, 2.2018e-10, 5.7034e-11, 1.2645e-10, 9.1376e-10,\n",
       "             1.6010e-11, 1.6919e-10, 3.0032e-11, 3.8547e-11, 3.2429e-10, 9.5521e-11,\n",
       "             7.9098e-11, 1.2324e-10, 4.0609e-11, 1.9659e-10, 1.7483e-12, 1.1988e-10,\n",
       "             5.5697e-10, 1.8813e-10, 2.8341e-10, 1.5901e-10, 2.2505e-11, 1.5726e-12,\n",
       "             6.8108e-11, 9.1933e-11, 8.9131e-11], device='cuda:0')},\n",
       "    7: {'step': tensor(4868.),\n",
       "     'exp_avg': tensor([ 3.1127e-06, -3.9163e-06,  5.1595e-06,  6.2904e-07, -4.7307e-07,\n",
       "              3.6692e-06,  4.4994e-07,  1.8823e-07, -2.4974e-06,  1.8119e-06,\n",
       "              2.6657e-06, -4.8554e-06, -5.2615e-06,  3.0324e-06, -1.0033e-06,\n",
       "              1.6975e-06,  1.3946e-06,  4.1385e-07,  6.8217e-06, -2.5656e-06,\n",
       "              3.2788e-06, -1.1570e-06,  2.5492e-06, -3.1035e-06,  3.7431e-06,\n",
       "              6.9296e-07, -1.4398e-06,  3.7671e-07, -1.1769e-07,  1.5771e-07,\n",
       "              4.1020e-06, -1.4554e-06,  8.4797e-07,  4.5810e-06, -4.3549e-06,\n",
       "              1.7337e-06,  4.0749e-06,  4.6310e-06,  2.0327e-06,  3.6308e-06,\n",
       "              1.5978e-06, -1.3232e-06, -4.1072e-06, -2.5447e-06,  2.7521e-07,\n",
       "             -5.3173e-06, -8.1215e-06,  1.0171e-06,  6.0546e-06, -7.2145e-06,\n",
       "             -2.8455e-06, -1.8112e-07, -8.6620e-06, -7.2065e-07, -8.3698e-06,\n",
       "             -4.5172e-06,  9.4853e-07,  1.8915e-06, -2.3869e-06,  7.4562e-07,\n",
       "              9.4233e-07, -3.5205e-06, -3.9544e-06, -4.7272e-06, -2.0301e-06,\n",
       "              1.8544e-06, -1.4409e-07, -5.4154e-06,  4.2273e-08, -3.6292e-06,\n",
       "             -9.4188e-07,  4.1530e-06,  3.7327e-06, -1.9391e-06, -2.0303e-06,\n",
       "              2.8069e-07, -2.5579e-07, -4.8116e-07,  8.5584e-07, -8.0868e-07,\n",
       "             -1.1996e-06, -6.8897e-07,  4.2056e-06,  4.7754e-07,  7.2452e-06,\n",
       "              3.4142e-06,  4.6173e-06,  5.8442e-07,  6.2955e-06, -3.3007e-07,\n",
       "             -2.9530e-06, -7.9525e-07, -2.3592e-07,  7.2680e-07,  2.0147e-06,\n",
       "              7.8580e-07,  6.9584e-06,  1.0159e-07, -8.3957e-06, -2.8768e-06,\n",
       "              1.2894e-07, -1.7533e-06, -3.4821e-06,  6.5512e-06,  8.2632e-06,\n",
       "             -8.7371e-07, -1.1894e-06,  5.4889e-06,  5.5708e-06, -1.2484e-06,\n",
       "              5.7179e-06,  3.5765e-07,  4.6436e-06, -7.2817e-06,  8.3827e-07,\n",
       "              1.4076e-06,  9.8641e-08,  5.5450e-06,  1.0674e-06,  1.9572e-06,\n",
       "             -6.7231e-06,  1.7876e-06, -2.5041e-06,  5.3685e-06, -5.6922e-07,\n",
       "             -3.7776e-06, -1.0499e-06,  4.9763e-06, -2.5464e-06, -7.2796e-06,\n",
       "              1.0389e-06, -6.1251e-06,  4.2073e-06, -3.8335e-06,  8.8983e-06,\n",
       "             -2.3793e-06, -3.9656e-07,  2.4152e-06, -1.1508e-06,  3.2741e-07,\n",
       "             -4.7981e-06,  6.9922e-06, -3.0304e-06,  6.4184e-06, -2.8006e-06,\n",
       "              7.5425e-06,  3.8444e-06, -4.1790e-07, -8.3378e-06, -4.8518e-06,\n",
       "             -6.5114e-06, -5.5843e-06,  4.4584e-06,  5.7863e-06, -1.0285e-06,\n",
       "              1.3342e-06, -2.2135e-07,  1.8945e-06, -8.0613e-06,  3.0755e-06,\n",
       "              1.4066e-05, -5.7417e-06, -2.2128e-06, -5.3497e-06, -1.0312e-05,\n",
       "              2.3905e-06, -4.8873e-06,  1.4605e-06, -4.7343e-06, -1.6494e-06,\n",
       "             -9.7354e-06, -2.1444e-06,  1.3606e-07,  6.5394e-06, -8.5245e-06,\n",
       "              5.3215e-06, -6.5543e-06,  2.7041e-06, -7.1183e-06, -3.2138e-06,\n",
       "              1.4712e-06,  6.3655e-06, -2.0634e-06, -1.1222e-06, -2.2712e-06,\n",
       "              5.2181e-06, -6.9380e-07, -4.9431e-06,  4.9512e-06, -2.0689e-06,\n",
       "             -2.3893e-06, -4.8765e-06,  2.4617e-06,  7.5307e-06,  6.0691e-07,\n",
       "             -3.8278e-06,  3.6275e-06, -2.2591e-06, -7.5883e-06,  5.5808e-06,\n",
       "              3.2785e-06, -3.7373e-06, -3.8700e-06, -1.0585e-05,  1.1614e-05,\n",
       "              6.8408e-07, -2.6968e-06,  2.5814e-06,  2.6410e-06,  3.1477e-06,\n",
       "              1.4988e-06, -1.2555e-05,  1.1410e-06,  5.3336e-06,  1.0236e-06,\n",
       "              1.6948e-06,  3.8552e-06, -1.8565e-06, -9.6965e-07, -4.4036e-06,\n",
       "              2.8419e-07, -3.4938e-06,  2.7702e-07, -9.5232e-07,  1.6329e-06,\n",
       "              6.3422e-06,  3.8726e-06, -9.8543e-07, -1.6508e-06,  2.4955e-06,\n",
       "              7.2408e-07,  1.4011e-06, -1.2289e-06,  5.3191e-06,  3.1173e-07,\n",
       "              1.2521e-06,  4.5766e-06,  1.6883e-06,  2.9193e-06, -1.5220e-06,\n",
       "             -8.4997e-06,  6.5426e-06, -3.7269e-06, -1.9989e-06,  5.9307e-07,\n",
       "             -3.2807e-06,  3.4271e-06, -9.3398e-06, -5.5570e-07,  6.7646e-06,\n",
       "              1.6581e-06, -4.0409e-06,  4.4248e-07,  6.1786e-07, -1.3243e-06,\n",
       "              2.1969e-06, -4.3209e-06,  6.1214e-06,  6.0759e-06, -2.6631e-06,\n",
       "              1.0175e-06, -1.5219e-06, -6.8855e-06, -1.4515e-06,  9.3309e-06,\n",
       "             -1.5689e-06, -5.5133e-07, -9.1531e-06,  5.3886e-07,  7.4958e-07,\n",
       "             -8.9478e-06,  4.5262e-08, -3.1692e-06, -3.8498e-06,  3.8624e-06,\n",
       "             -1.1840e-06,  6.9388e-06,  1.5211e-06, -8.7433e-07,  6.3326e-07,\n",
       "              7.4581e-06, -9.9179e-07,  1.1869e-06,  8.7812e-06, -4.8262e-06,\n",
       "             -3.4299e-06, -8.2320e-07, -9.8402e-08,  7.3941e-06, -8.0704e-07,\n",
       "             -4.2293e-06, -3.4553e-07,  2.5413e-06, -1.4178e-06,  3.7352e-06,\n",
       "              5.0543e-06,  2.7970e-06, -1.0052e-06, -4.3882e-06, -3.6286e-06,\n",
       "              2.5842e-06,  3.2194e-06, -4.2723e-07,  5.7505e-07,  2.4613e-06,\n",
       "             -3.2600e-06, -2.0672e-06, -2.1044e-06,  1.0600e-07, -8.1866e-07,\n",
       "              1.4239e-06, -1.4866e-06, -6.9040e-07,  1.4346e-06,  2.8460e-06,\n",
       "             -6.6852e-06,  4.3894e-08, -2.9462e-06, -3.1922e-06,  4.1734e-07,\n",
       "             -3.2821e-06,  2.6856e-06,  5.0747e-06,  8.8728e-06, -1.7719e-06,\n",
       "              8.5257e-06, -1.8216e-06, -5.2175e-06,  1.8715e-06, -3.1601e-07,\n",
       "             -7.1080e-08,  4.4453e-06, -6.2411e-06, -4.0751e-06, -2.0257e-06,\n",
       "             -9.6553e-07, -3.1855e-06,  2.7892e-06,  5.0944e-06, -2.6544e-06,\n",
       "             -1.1052e-05,  3.3360e-06, -1.2697e-06,  5.1932e-07,  2.8015e-06,\n",
       "              4.7758e-06,  1.1674e-06,  3.2656e-06, -6.1774e-06, -5.1216e-06,\n",
       "              7.8480e-06,  1.1812e-06,  2.8325e-06,  1.5712e-06,  2.9750e-07,\n",
       "             -3.2263e-06, -5.4804e-06,  3.6428e-07,  3.7228e-07, -5.0863e-06,\n",
       "             -1.1768e-06, -1.6653e-06,  1.4708e-06,  2.1635e-06, -2.1954e-06,\n",
       "              5.1798e-06, -2.6707e-06,  1.7059e-06,  2.7141e-06,  5.9963e-06,\n",
       "             -5.8581e-07, -2.6872e-06,  6.9139e-06,  3.0132e-07,  9.0664e-06,\n",
       "              3.1015e-06,  2.4479e-06,  1.3593e-06,  6.9098e-06, -2.9798e-06,\n",
       "              3.9015e-07,  3.3141e-06, -7.7930e-07,  5.2215e-06, -1.7990e-06,\n",
       "              5.5561e-06,  2.6226e-07,  9.1874e-06, -5.8054e-07, -8.6191e-06,\n",
       "              2.0346e-06, -2.9892e-06, -1.8763e-06,  1.9605e-06,  8.6557e-06,\n",
       "             -2.6178e-06, -2.3114e-07,  2.7273e-06, -1.1756e-06, -4.8101e-06,\n",
       "             -2.5484e-06,  2.0523e-06,  5.6626e-06,  6.0956e-06,  1.1627e-06,\n",
       "             -4.1201e-06, -3.1870e-06,  2.1099e-06, -9.5971e-06,  5.8122e-06,\n",
       "              5.7451e-06,  7.2421e-08,  1.8392e-07,  2.9363e-06,  5.4152e-06,\n",
       "             -5.0572e-06,  6.5297e-06, -1.9661e-06,  3.2539e-06,  8.0561e-06,\n",
       "             -3.4969e-06,  4.7447e-06,  2.7576e-06, -3.9883e-06, -2.5541e-06,\n",
       "             -6.6962e-06, -2.6565e-06,  5.5936e-06, -6.5880e-06,  6.8726e-06,\n",
       "             -4.1756e-06,  1.0709e-06, -1.1183e-06,  1.5633e-06, -5.0691e-06,\n",
       "             -3.8561e-07,  5.8702e-06, -1.7169e-07, -5.8299e-06, -3.6165e-06,\n",
       "             -7.9051e-06,  2.4738e-06, -1.3017e-06, -1.1028e-06,  5.4990e-06,\n",
       "              1.5112e-06, -8.7656e-06, -9.8380e-07,  4.3516e-06,  1.2926e-06,\n",
       "              2.2955e-06,  1.9862e-06,  6.0968e-06, -3.4210e-06, -1.5225e-06,\n",
       "             -2.4098e-06,  1.4350e-06,  7.5642e-06,  3.6186e-07,  6.1591e-06,\n",
       "              6.1534e-06,  1.3411e-06,  4.7219e-06,  3.4829e-06, -8.1903e-06,\n",
       "             -3.3730e-06,  6.1095e-08,  1.1670e-05, -6.1891e-06, -1.3549e-06,\n",
       "             -2.8393e-06, -4.1809e-07, -4.0207e-06, -1.1503e-06, -1.0362e-06,\n",
       "              1.7097e-06, -8.5906e-07,  1.2125e-06,  7.2914e-06,  3.8379e-06,\n",
       "              1.8456e-06, -1.7414e-06,  2.2161e-06, -3.4789e-06, -5.7544e-06,\n",
       "             -4.0734e-06,  3.0361e-06,  9.7905e-06,  3.9300e-07,  2.0658e-06,\n",
       "              2.8452e-06,  5.1044e-06,  1.0138e-06, -3.5760e-06, -5.3762e-06,\n",
       "             -2.1780e-06, -3.2681e-06, -2.3658e-06,  3.0703e-06,  2.2376e-06,\n",
       "             -6.4549e-06, -2.5022e-06, -1.2640e-06,  4.8038e-06,  8.6070e-07,\n",
       "             -1.2782e-06,  3.9755e-06, -2.9943e-06, -3.0788e-06,  6.4510e-06,\n",
       "              1.1130e-05,  1.5233e-06, -3.1539e-06, -9.1973e-06, -2.5910e-06,\n",
       "             -1.9798e-06, -7.3954e-07,  4.0965e-06,  2.2121e-06,  6.0330e-06,\n",
       "             -2.8625e-06, -4.5988e-06, -2.3756e-06, -1.1834e-06, -5.5213e-06,\n",
       "             -5.0847e-07, -7.2836e-06, -8.7288e-06, -3.4719e-06, -3.1898e-06,\n",
       "              1.8156e-06, -9.9780e-07, -2.6982e-06,  8.2131e-06,  2.4359e-06,\n",
       "             -1.7500e-06, -1.0877e-06,  3.9856e-07, -3.3864e-06,  4.0550e-06,\n",
       "             -5.3045e-06, -7.5035e-06, -1.2524e-05, -3.4978e-06, -2.1157e-06,\n",
       "             -7.6405e-06,  1.4468e-06, -4.6537e-06,  1.7134e-06,  7.6070e-06,\n",
       "              3.1873e-06, -4.9959e-06,  5.2858e-06, -3.6667e-06, -7.8731e-07,\n",
       "              8.7389e-06,  4.1646e-06, -3.1671e-06,  2.0657e-06,  5.0789e-07,\n",
       "              4.4887e-07, -1.1044e-06,  3.2493e-06, -9.5155e-07,  4.2841e-06,\n",
       "              5.1202e-06, -3.1162e-06,  2.4946e-07, -4.8370e-06,  6.1089e-06,\n",
       "             -2.1329e-06, -7.2434e-06,  7.4512e-07,  2.5734e-07, -4.0136e-07,\n",
       "              1.5415e-06,  4.0813e-06, -3.5067e-06, -3.7418e-07, -6.8411e-06,\n",
       "             -9.8667e-06,  2.9294e-06, -1.7940e-06,  1.0774e-05, -2.9498e-06,\n",
       "              5.7918e-06,  3.4964e-06,  1.2407e-06, -3.2135e-06,  6.6637e-06,\n",
       "              3.5148e-07,  7.7615e-06,  7.0098e-07,  4.2800e-06,  9.6300e-06,\n",
       "              3.7199e-06,  1.6117e-07, -3.8731e-07,  1.1094e-06,  2.2524e-06,\n",
       "             -3.3635e-06, -3.8689e-07, -2.6605e-06, -2.3246e-06,  7.0471e-07,\n",
       "             -9.5673e-07,  4.7923e-06, -6.2317e-07,  4.1462e-06,  4.7389e-06,\n",
       "              4.8125e-07,  3.5225e-06, -7.0110e-07,  2.5642e-06, -2.0818e-06,\n",
       "             -3.2563e-07,  7.1662e-07,  3.3291e-07,  4.0474e-06,  5.7360e-06,\n",
       "              3.2277e-06, -8.0156e-06, -4.9069e-06,  2.9376e-07, -1.8744e-06,\n",
       "             -2.8347e-06, -6.5167e-06, -4.7807e-06, -1.3608e-05,  9.8351e-07,\n",
       "              6.3669e-06, -1.0325e-06, -2.3031e-06,  1.2902e-06, -2.0713e-07,\n",
       "              1.8485e-06, -7.0099e-06, -2.9308e-06,  6.5415e-06,  2.8581e-06,\n",
       "              8.9151e-06,  5.5159e-06,  3.6746e-06, -4.3160e-06,  4.8598e-06,\n",
       "              3.4740e-06, -7.2924e-06, -5.1676e-06,  7.0312e-06,  3.9792e-06,\n",
       "              2.6556e-06,  7.5647e-08, -6.8524e-06, -3.1137e-06, -4.9993e-06,\n",
       "             -1.3725e-06,  2.8654e-06,  8.2659e-06,  2.5064e-06, -3.4936e-06,\n",
       "             -1.3352e-06,  6.2336e-06, -4.4069e-06,  2.6356e-06, -3.6925e-06,\n",
       "             -5.3077e-06,  1.8748e-06, -2.3947e-06,  3.0365e-06, -1.4048e-07,\n",
       "              3.7927e-07, -4.2732e-06,  1.0859e-05, -4.0902e-06, -7.9648e-07,\n",
       "             -6.4774e-06, -4.3763e-06,  5.3195e-06, -2.3121e-06,  1.4475e-06,\n",
       "              6.7083e-06,  1.3489e-06, -4.4576e-06, -5.4634e-06,  6.9685e-06,\n",
       "             -8.3439e-07,  1.9092e-06, -6.7854e-06,  7.5063e-06,  2.6283e-06,\n",
       "             -5.5213e-07, -1.9554e-06,  2.7462e-06,  1.9095e-06,  5.3972e-06,\n",
       "              1.6938e-06,  5.8986e-06, -5.2959e-08, -2.3713e-06,  6.0753e-06,\n",
       "              1.1492e-06, -2.9450e-06, -1.7801e-06, -3.3186e-06, -3.7680e-06,\n",
       "              2.6831e-06,  4.0624e-06,  2.4081e-07,  5.5751e-06,  2.8646e-06,\n",
       "             -2.6764e-06, -3.9577e-06, -2.1163e-07,  2.9383e-06, -9.9053e-07,\n",
       "              8.8141e-07,  1.8177e-06, -1.2060e-06, -4.7179e-06,  6.4034e-06,\n",
       "             -9.4596e-07, -1.4846e-06, -3.6026e-06, -6.4260e-06,  2.2012e-06,\n",
       "             -2.5580e-06, -3.7115e-06, -3.4483e-06,  7.6846e-07, -6.0341e-07,\n",
       "             -1.7729e-06, -1.5394e-06,  9.1414e-06,  4.8124e-06, -2.8935e-06,\n",
       "              3.0329e-07,  4.7561e-06,  5.3622e-07, -4.9431e-07, -3.8334e-06,\n",
       "              7.2919e-06,  7.1588e-06, -6.9536e-06,  4.8030e-08, -6.1711e-07,\n",
       "             -3.0160e-06, -2.3677e-06,  5.0526e-07, -1.3119e-06, -2.8990e-06,\n",
       "             -1.7977e-07,  6.7656e-06, -3.1914e-06,  3.7279e-06,  3.2751e-07,\n",
       "             -5.5511e-07,  3.9779e-07,  7.7488e-06,  6.6841e-06,  6.0466e-06,\n",
       "             -5.3253e-06,  4.1109e-06, -4.7342e-06,  3.5242e-06, -2.9247e-06,\n",
       "             -3.5571e-06,  5.7951e-07,  9.7497e-08,  2.5051e-05, -2.7958e-06,\n",
       "             -6.2221e-06,  2.4308e-06, -2.4056e-06, -6.5019e-07, -1.3702e-05,\n",
       "             -9.8974e-06,  4.4863e-06,  1.8958e-06, -4.6018e-06, -9.9351e-06,\n",
       "             -4.5258e-06,  1.6158e-06,  4.9398e-07,  5.1949e-06,  4.9480e-06,\n",
       "              4.3105e-06,  1.2026e-06,  1.2858e-05, -1.0231e-06, -4.4352e-05,\n",
       "              9.7756e-07, -8.2245e-06,  1.0382e-05,  4.2288e-06,  5.1702e-06,\n",
       "             -3.2074e-05, -4.1973e-06,  3.3624e-06,  3.7971e-06,  3.5003e-06,\n",
       "             -1.1626e-06,  4.2160e-06, -4.5396e-07,  2.6379e-06,  9.7770e-06,\n",
       "             -1.4779e-06, -2.8250e-07,  3.1662e-06, -6.6681e-07, -2.3391e-06,\n",
       "              1.7583e-06,  2.3112e-07, -1.0344e-06,  1.4497e-06,  6.3339e-07,\n",
       "              5.4121e-07, -2.9170e-06,  1.1602e-06,  2.4905e-06, -2.5720e-06,\n",
       "              5.1326e-06,  1.0094e-06,  5.4720e-06, -2.0684e-06, -3.8988e-06,\n",
       "              1.4640e-07,  6.8702e-07,  4.6041e-06, -3.6899e-06,  1.9154e-06,\n",
       "             -4.3086e-06,  2.8589e-06, -7.5510e-06, -1.7602e-06, -8.5231e-06,\n",
       "             -4.1853e-06,  1.0351e-06,  1.6059e-06,  6.1515e-07, -6.0424e-06,\n",
       "              8.4294e-07, -1.2896e-06,  4.9307e-06], device='cuda:0'),\n",
       "     'exp_avg_sq': tensor([3.4811e-09, 3.2285e-09, 2.6130e-09, 6.0501e-09, 3.3571e-10, 1.5150e-09,\n",
       "             2.3558e-09, 2.8266e-10, 4.0104e-09, 2.4953e-10, 4.1787e-10, 3.5985e-09,\n",
       "             2.7860e-09, 1.1103e-09, 1.0767e-08, 5.0558e-10, 2.1372e-09, 6.1247e-09,\n",
       "             1.3166e-09, 3.0597e-10, 2.9217e-10, 8.5595e-09, 7.8128e-10, 5.3741e-09,\n",
       "             2.0791e-08, 1.4249e-09, 2.8345e-09, 7.0097e-10, 3.7046e-10, 2.0596e-09,\n",
       "             5.9860e-10, 2.7856e-10, 3.6321e-10, 4.4746e-10, 8.6062e-09, 1.6698e-09,\n",
       "             2.8130e-10, 5.6084e-10, 1.1667e-09, 2.3211e-09, 1.9704e-09, 5.8056e-10,\n",
       "             6.0665e-10, 1.4764e-09, 7.1110e-10, 4.2080e-10, 1.8271e-09, 3.1082e-10,\n",
       "             1.1342e-08, 1.9286e-09, 2.7646e-10, 1.4819e-09, 2.3464e-08, 1.3731e-09,\n",
       "             4.8092e-09, 8.3752e-10, 3.3987e-09, 1.4200e-08, 3.2419e-09, 1.4087e-09,\n",
       "             3.1972e-10, 4.1877e-09, 2.4642e-09, 2.8484e-10, 7.3312e-10, 1.8558e-09,\n",
       "             3.6292e-10, 9.4178e-10, 2.0009e-09, 2.6949e-10, 3.3527e-10, 6.9032e-10,\n",
       "             7.0618e-09, 2.4336e-09, 3.3169e-09, 9.4860e-10, 7.8359e-10, 5.0325e-09,\n",
       "             2.6714e-10, 2.5361e-09, 7.5171e-10, 4.4339e-09, 2.2248e-09, 6.4693e-10,\n",
       "             3.7245e-09, 1.4839e-09, 9.3488e-10, 8.5187e-09, 3.1017e-09, 1.6902e-09,\n",
       "             5.8935e-09, 6.5813e-10, 3.4749e-09, 1.0227e-09, 7.1882e-10, 3.1747e-10,\n",
       "             7.0150e-09, 2.6574e-10, 6.9275e-10, 5.1700e-09, 3.7033e-09, 5.3465e-10,\n",
       "             9.2442e-10, 8.0329e-10, 2.0193e-09, 6.1239e-09, 2.8746e-09, 9.3883e-10,\n",
       "             1.2783e-08, 1.2494e-09, 8.5615e-09, 9.0854e-10, 1.2188e-09, 1.8331e-09,\n",
       "             1.0840e-08, 6.4629e-09, 1.7174e-09, 9.1186e-10, 7.8063e-10, 1.2374e-09,\n",
       "             5.2852e-09, 8.5986e-09, 5.7188e-09, 1.5540e-09, 3.8364e-09, 7.9616e-10,\n",
       "             2.4938e-10, 5.7106e-09, 2.9368e-09, 8.8519e-10, 5.4713e-10, 9.2323e-10,\n",
       "             4.0004e-10, 2.2349e-10, 1.3373e-09, 6.2880e-10, 4.3288e-09, 7.4684e-10,\n",
       "             2.2727e-10, 3.1033e-10, 3.6595e-09, 3.5207e-09, 3.4785e-09, 5.8701e-09,\n",
       "             6.3046e-10, 1.5145e-09, 1.8205e-09, 7.9119e-09, 9.6423e-10, 5.0916e-09,\n",
       "             9.8897e-10, 7.3465e-10, 2.5586e-09, 1.8923e-09, 4.1569e-09, 7.7105e-09,\n",
       "             3.8387e-09, 5.5835e-09, 1.3985e-08, 1.5361e-09, 2.0954e-09, 1.3327e-09,\n",
       "             6.4169e-10, 6.0013e-09, 1.0790e-09, 1.0326e-09, 2.1120e-09, 1.1986e-09,\n",
       "             5.4702e-10, 2.5639e-10, 1.4505e-08, 2.3823e-10, 3.7978e-10, 7.9993e-09,\n",
       "             2.5428e-09, 2.6605e-10, 2.4686e-09, 9.8898e-09, 3.1728e-09, 1.5107e-09,\n",
       "             6.2641e-09, 1.0861e-09, 3.3479e-09, 7.9324e-09, 3.5452e-10, 4.8942e-09,\n",
       "             3.6830e-10, 1.4618e-09, 1.5451e-09, 3.2496e-09, 1.3351e-09, 7.4799e-09,\n",
       "             2.2477e-09, 3.8940e-09, 3.9751e-10, 7.3345e-10, 1.2674e-08, 2.4854e-09,\n",
       "             1.1815e-08, 9.9833e-10, 2.6650e-10, 9.2511e-09, 1.7516e-09, 6.5098e-10,\n",
       "             8.8455e-10, 1.9415e-09, 1.1717e-09, 5.3755e-10, 2.1788e-09, 2.2768e-09,\n",
       "             9.0341e-10, 6.2090e-10, 2.7029e-09, 1.4409e-09, 1.6202e-09, 6.5986e-10,\n",
       "             3.5827e-09, 8.0360e-10, 3.7258e-10, 2.6340e-10, 2.4490e-09, 5.2919e-09,\n",
       "             2.3408e-09, 8.6237e-10, 7.9062e-10, 1.0387e-09, 2.5160e-10, 1.2016e-08,\n",
       "             8.6897e-10, 8.2740e-10, 8.8297e-10, 2.8132e-10, 2.0348e-10, 2.5410e-09,\n",
       "             1.4180e-09, 8.2147e-10, 1.1335e-09, 3.2851e-09, 4.8304e-09, 3.0663e-10,\n",
       "             2.8132e-09, 3.2960e-09, 3.8596e-10, 2.5711e-10, 1.2292e-09, 1.0096e-09,\n",
       "             3.6225e-10, 2.1436e-09, 1.8767e-09, 8.1455e-10, 3.7709e-09, 3.8253e-10,\n",
       "             7.5434e-10, 7.2373e-09, 4.1297e-10, 6.0192e-10, 3.2623e-09, 1.4225e-09,\n",
       "             3.8238e-10, 5.7892e-09, 3.7253e-10, 8.7188e-09, 1.3167e-09, 3.9941e-10,\n",
       "             7.4046e-10, 3.1814e-09, 5.2081e-10, 6.3627e-09, 1.3041e-09, 2.8934e-09,\n",
       "             1.0878e-09, 1.9965e-09, 1.7384e-10, 1.4736e-09, 4.7546e-10, 1.0333e-08,\n",
       "             1.1922e-09, 8.6837e-09, 5.5089e-10, 5.5537e-10, 2.3119e-09, 3.8741e-09,\n",
       "             4.1256e-10, 6.3946e-09, 1.0940e-08, 7.1648e-09, 1.1833e-08, 9.1722e-09,\n",
       "             2.5602e-09, 4.6024e-09, 1.7151e-09, 1.8490e-09, 5.5511e-10, 2.4962e-10,\n",
       "             7.0716e-09, 8.5820e-09, 2.7329e-09, 1.1863e-09, 2.5922e-10, 2.4978e-10,\n",
       "             2.6988e-10, 2.8882e-09, 7.7589e-10, 1.8433e-09, 3.0436e-09, 4.9579e-09,\n",
       "             3.7962e-10, 7.7497e-10, 1.8311e-09, 3.2579e-10, 3.2514e-09, 1.0235e-08,\n",
       "             5.1392e-09, 7.7766e-09, 3.9230e-10, 1.9261e-09, 1.3928e-09, 5.6423e-10,\n",
       "             6.7496e-10, 3.8866e-09, 4.4974e-10, 4.9254e-10, 8.4784e-10, 7.4482e-10,\n",
       "             1.7172e-09, 6.0347e-09, 1.7223e-09, 1.7868e-09, 2.1671e-09, 2.4323e-09,\n",
       "             3.8697e-10, 8.4860e-10, 6.3151e-10, 8.4271e-09, 9.3265e-10, 4.0018e-10,\n",
       "             3.7042e-10, 9.6444e-10, 2.4283e-09, 5.5321e-10, 1.5590e-09, 6.7143e-10,\n",
       "             3.1993e-09, 6.1150e-10, 7.6868e-10, 4.3163e-10, 7.8481e-10, 3.9890e-09,\n",
       "             3.4773e-10, 1.2028e-09, 9.4550e-10, 9.2210e-09, 1.3658e-08, 1.5089e-09,\n",
       "             2.7425e-10, 5.1961e-10, 3.3074e-10, 5.7985e-09, 2.8178e-10, 9.0401e-10,\n",
       "             3.7102e-10, 2.4650e-09, 1.2182e-09, 4.5498e-09, 4.7903e-09, 3.3810e-10,\n",
       "             3.3679e-10, 1.2405e-09, 4.9380e-09, 2.9107e-09, 5.3989e-09, 1.2071e-08,\n",
       "             6.7209e-10, 7.8343e-10, 1.8209e-09, 4.5239e-10, 2.6485e-10, 4.7653e-09,\n",
       "             1.9085e-09, 3.5444e-09, 4.0187e-09, 2.4063e-09, 4.5722e-10, 1.9872e-09,\n",
       "             9.0179e-10, 1.6572e-09, 4.9225e-10, 8.7288e-09, 2.7555e-10, 2.0898e-10,\n",
       "             1.5451e-09, 1.1032e-08, 1.8563e-09, 7.4206e-10, 4.1854e-10, 5.4734e-10,\n",
       "             2.2225e-10, 4.9475e-10, 6.5524e-09, 2.9989e-09, 5.5204e-09, 2.4442e-09,\n",
       "             4.8593e-10, 1.3402e-09, 1.0218e-09, 5.6693e-10, 1.1792e-08, 3.0391e-09,\n",
       "             3.5593e-09, 7.1447e-09, 3.2079e-10, 1.9793e-09, 4.2822e-09, 7.2942e-09,\n",
       "             3.8340e-10, 2.8411e-10, 1.6373e-09, 5.4579e-09, 8.6484e-10, 2.6281e-10,\n",
       "             1.8593e-09, 3.8930e-09, 1.4852e-10, 3.5885e-09, 3.5083e-10, 3.5799e-09,\n",
       "             1.1661e-08, 2.9138e-10, 4.8264e-10, 1.3375e-09, 1.4160e-09, 3.0417e-10,\n",
       "             9.7538e-09, 7.5438e-10, 5.0092e-10, 3.5829e-09, 1.6201e-09, 2.0047e-09,\n",
       "             1.1259e-09, 7.1519e-09, 1.1884e-09, 1.4821e-09, 5.8945e-10, 5.5723e-10,\n",
       "             1.0105e-09, 1.9423e-10, 2.2026e-08, 3.4040e-09, 1.0822e-09, 6.9992e-09,\n",
       "             3.4825e-09, 3.3026e-10, 1.0603e-09, 2.5554e-09, 9.3400e-10, 5.2256e-09,\n",
       "             1.3393e-08, 2.9241e-09, 3.7830e-10, 1.0534e-08, 3.8848e-09, 2.8225e-09,\n",
       "             2.8634e-10, 3.3064e-09, 2.4169e-09, 4.4480e-10, 4.9201e-09, 1.2490e-09,\n",
       "             2.7806e-10, 1.8170e-09, 2.2710e-10, 3.7623e-10, 3.7860e-09, 4.9196e-09,\n",
       "             1.3699e-09, 9.4681e-10, 1.5248e-09, 1.8206e-09, 4.2104e-10, 1.7408e-09,\n",
       "             2.5119e-09, 1.0348e-09, 5.3859e-10, 4.2525e-10, 1.2433e-09, 2.3878e-09,\n",
       "             6.0237e-09, 8.6661e-10, 2.5420e-10, 9.3685e-09, 4.7335e-09, 1.2294e-09,\n",
       "             2.3983e-10, 2.4521e-09, 2.5500e-10, 4.8923e-10, 8.5351e-10, 3.0040e-10,\n",
       "             1.8168e-09, 1.2495e-09, 5.4512e-10, 8.8513e-10, 1.5092e-09, 1.9064e-10,\n",
       "             2.9449e-10, 2.3209e-10, 3.9795e-10, 1.0153e-09, 2.7165e-09, 1.7846e-09,\n",
       "             9.7992e-10, 3.3647e-09, 2.8442e-09, 6.2386e-09, 1.8179e-09, 4.2852e-09,\n",
       "             2.7395e-10, 2.7091e-09, 5.2990e-10, 3.3597e-10, 3.9050e-10, 3.3355e-09,\n",
       "             2.8934e-09, 3.1462e-09, 2.7292e-10, 5.5397e-10, 3.7602e-10, 5.4254e-09,\n",
       "             2.2533e-09, 1.7059e-10, 9.4677e-10, 2.8644e-08, 1.7334e-09, 3.4291e-09,\n",
       "             8.6357e-09, 2.1637e-09, 6.3268e-09, 4.3845e-10, 2.8589e-10, 5.5653e-10,\n",
       "             6.9387e-10, 1.2955e-09, 9.9965e-09, 1.7613e-09, 1.6908e-10, 5.3973e-09,\n",
       "             2.7675e-10, 4.3144e-09, 1.6853e-09, 4.4453e-10, 3.6838e-10, 2.4139e-10,\n",
       "             3.3370e-10, 3.9319e-10, 7.8472e-10, 2.6338e-09, 7.4291e-10, 7.7985e-09,\n",
       "             7.4078e-09, 8.1224e-10, 8.9460e-09, 6.0049e-10, 2.8632e-09, 3.8892e-10,\n",
       "             7.8254e-09, 3.1602e-10, 3.6111e-09, 8.3990e-09, 1.0052e-08, 3.0970e-09,\n",
       "             4.6966e-10, 2.2508e-09, 5.0463e-10, 1.0428e-09, 2.2226e-09, 4.3625e-09,\n",
       "             3.2319e-09, 1.8444e-09, 1.5670e-09, 7.7484e-10, 5.5626e-09, 5.6054e-10,\n",
       "             2.2685e-09, 5.1770e-09, 1.8321e-09, 3.8786e-10, 4.2278e-10, 4.3737e-10,\n",
       "             1.4307e-09, 1.3903e-08, 1.4249e-09, 3.1455e-10, 3.6848e-10, 3.1792e-09,\n",
       "             5.1373e-10, 3.1186e-10, 2.1114e-09, 6.9444e-09, 5.4837e-10, 3.2735e-09,\n",
       "             4.3816e-10, 2.9914e-09, 3.0994e-10, 2.9126e-09, 1.0145e-09, 9.8196e-10,\n",
       "             9.3445e-10, 5.2670e-09, 1.0454e-09, 3.3025e-09, 8.4747e-09, 4.5450e-09,\n",
       "             1.8333e-09, 1.4712e-09, 6.2341e-10, 1.1900e-09, 6.9223e-10, 3.6318e-10,\n",
       "             2.7781e-10, 2.1073e-09, 6.0182e-10, 1.7255e-09, 2.4692e-09, 2.5157e-09,\n",
       "             2.6100e-09, 4.9945e-10, 2.7635e-09, 2.8467e-09, 4.5686e-09, 5.1175e-09,\n",
       "             1.2348e-08, 9.8739e-10, 3.2091e-10, 1.5986e-09, 4.1012e-10, 5.6965e-09,\n",
       "             8.4695e-10, 2.4192e-09, 5.9736e-09, 1.2162e-09, 8.2076e-10, 1.2201e-09,\n",
       "             3.9857e-10, 3.9461e-09, 1.6865e-09, 1.9366e-09, 6.1836e-09, 2.7542e-10,\n",
       "             3.5826e-10, 3.5370e-09, 3.4449e-10, 4.0356e-10, 3.8555e-10, 5.9983e-09,\n",
       "             2.9258e-09, 4.0064e-09, 7.7359e-09, 1.6938e-09, 2.5023e-09, 5.6359e-09,\n",
       "             6.1410e-10, 4.7162e-10, 1.0120e-09, 1.3430e-09, 2.4060e-09, 9.1373e-10,\n",
       "             1.9002e-10, 3.6295e-09, 3.8023e-10, 2.8188e-09, 3.0002e-09, 4.5329e-09,\n",
       "             1.8407e-09, 6.5549e-09, 1.2119e-08, 3.8512e-10, 2.0319e-10, 5.8545e-09,\n",
       "             7.2178e-09, 2.2272e-10, 1.1477e-09, 6.6203e-10, 4.5334e-10, 4.2245e-09,\n",
       "             4.3127e-09, 3.3815e-09, 5.3697e-10, 2.1497e-09, 3.0146e-09, 1.5975e-09,\n",
       "             1.6797e-09, 1.8766e-09, 1.5342e-09, 1.0378e-08, 8.0299e-09, 2.7275e-10,\n",
       "             8.3097e-10, 9.6102e-10, 1.2009e-09, 2.0194e-09, 2.6952e-10, 2.6018e-10,\n",
       "             2.0001e-09, 1.0223e-09, 9.8679e-10, 1.7328e-10, 1.7855e-09, 4.0428e-09,\n",
       "             3.6522e-10, 7.4087e-10, 5.1658e-10, 1.2369e-09, 9.9321e-10, 2.8665e-09,\n",
       "             9.6920e-10, 4.0471e-10, 5.0740e-09, 1.6982e-09, 6.2261e-09, 1.0464e-09,\n",
       "             1.5491e-09, 6.7235e-10, 8.9665e-09, 1.0379e-09, 7.3889e-10, 3.3034e-10,\n",
       "             4.9768e-09, 1.4047e-09, 8.5928e-10, 1.0267e-09, 1.3849e-09, 1.0958e-09,\n",
       "             4.3076e-10, 7.9137e-10, 3.2695e-09, 1.0966e-09, 2.1834e-09, 2.1013e-09,\n",
       "             1.0337e-09, 1.2400e-09, 6.8240e-09, 1.5265e-09, 1.5192e-09, 1.6277e-10,\n",
       "             5.9665e-09, 1.3861e-09, 2.7429e-09, 3.1545e-10, 9.7791e-10, 9.3666e-10,\n",
       "             3.2480e-09, 8.8213e-10, 2.7662e-09, 6.2155e-09, 3.3477e-10, 1.2238e-09,\n",
       "             2.3876e-09, 1.2151e-09, 6.6636e-10, 2.0133e-09, 3.4374e-09, 2.0475e-10,\n",
       "             1.9780e-08, 6.0279e-09, 5.1962e-09, 3.3383e-09, 2.5226e-09, 1.8464e-09,\n",
       "             7.2333e-09, 1.0507e-08, 2.7426e-09, 2.0611e-10, 1.1819e-09, 8.6580e-10,\n",
       "             5.0340e-09, 4.2524e-10, 5.5658e-10, 1.6634e-09, 2.5051e-09, 4.6263e-10,\n",
       "             3.0322e-09, 2.2361e-09, 2.4438e-10, 1.4421e-09, 3.3470e-09, 1.3056e-09,\n",
       "             1.0031e-09, 7.5584e-10, 5.8540e-10, 4.0206e-08, 4.3885e-10, 1.2586e-09,\n",
       "             3.0397e-09, 4.7576e-09, 5.2412e-10, 2.8206e-08, 2.7854e-08, 8.3223e-09,\n",
       "             4.7626e-10, 5.1995e-10, 1.1909e-09, 4.5287e-10, 7.4476e-09, 4.9932e-10,\n",
       "             2.3914e-09, 3.4299e-09, 3.0571e-09, 2.0480e-10, 9.3988e-09, 3.1013e-10,\n",
       "             5.7666e-09, 1.3784e-09, 1.3648e-08, 1.4049e-09, 1.4962e-09, 2.7143e-10,\n",
       "             1.4383e-09, 5.2245e-09, 6.0173e-10, 3.9361e-10, 2.4354e-09, 6.4355e-10,\n",
       "             1.3842e-09, 7.2810e-10, 1.3812e-09, 4.2850e-10, 1.9560e-09, 4.1049e-10,\n",
       "             1.8832e-10, 3.3755e-09, 5.2000e-09, 2.2510e-10, 7.3614e-10, 2.5277e-10,\n",
       "             1.7309e-09, 2.0895e-09, 5.6792e-10, 9.9963e-10, 9.8875e-09, 2.7451e-09,\n",
       "             1.1600e-09, 5.1210e-09, 4.8938e-09], device='cuda:0')},\n",
       "    8: {'step': tensor(4868.),\n",
       "     'exp_avg': tensor([[-2.0568e-07, -6.0254e-07, -6.6591e-08,  ...,  9.6398e-08,\n",
       "              -3.9709e-08,  1.0644e-08],\n",
       "             [-1.4240e-06,  2.3671e-06, -1.3471e-06,  ..., -2.3496e-07,\n",
       "               7.3069e-07,  2.0492e-07],\n",
       "             [ 6.8131e-07, -1.8717e-07, -1.8481e-06,  ..., -2.9681e-07,\n",
       "               2.5877e-07, -9.6444e-08],\n",
       "             ...,\n",
       "             [-7.3911e-07, -6.6594e-08,  1.1174e-06,  ...,  2.0217e-07,\n",
       "               3.9361e-08, -1.7570e-07],\n",
       "             [-1.0456e-07,  6.2879e-08, -5.3486e-07,  ..., -2.6763e-07,\n",
       "              -1.5752e-08,  2.4778e-07],\n",
       "             [ 1.5556e-06,  7.8529e-07, -1.6914e-06,  ..., -3.5239e-07,\n",
       "              -2.1833e-09,  2.7469e-07]], device='cuda:0'),\n",
       "     'exp_avg_sq': tensor([[1.7961e-11, 1.9876e-11, 1.6429e-11,  ..., 4.7650e-12, 1.1665e-11,\n",
       "              1.8167e-12],\n",
       "             [1.4374e-10, 9.2680e-11, 9.7501e-11,  ..., 3.9417e-11, 5.4709e-11,\n",
       "              4.2822e-11],\n",
       "             [3.5510e-11, 3.6369e-11, 3.2728e-11,  ..., 1.2250e-11, 1.0378e-11,\n",
       "              2.7027e-11],\n",
       "             ...,\n",
       "             [2.0523e-11, 1.1857e-11, 1.3102e-11,  ..., 7.0486e-12, 6.7700e-12,\n",
       "              1.8580e-12],\n",
       "             [2.2277e-11, 2.1426e-11, 2.0846e-11,  ..., 1.4066e-11, 2.3954e-11,\n",
       "              7.3393e-12],\n",
       "             [3.6154e-11, 2.6284e-11, 2.4915e-11,  ..., 1.3359e-11, 1.2517e-11,\n",
       "              1.9762e-11]], device='cuda:0')},\n",
       "    9: {'step': tensor(4868.),\n",
       "     'exp_avg': tensor([-3.0342e-07, -4.0748e-06, -6.6884e-07,  ...,  5.2355e-07,\n",
       "             -4.1499e-07,  7.6290e-07], device='cuda:0'),\n",
       "     'exp_avg_sq': tensor([2.4198e-10, 6.0898e-10, 1.6845e-10,  ..., 2.2312e-10, 1.0112e-10,\n",
       "             1.1749e-10], device='cuda:0')},\n",
       "    10: {'step': tensor(4868.),\n",
       "     'exp_avg': tensor([[ 1.9116e-05, -4.0632e-05, -4.5986e-05,  ..., -4.4273e-05,\n",
       "              -2.5403e-05,  1.2186e-05],\n",
       "             [-1.9114e-05,  4.0634e-05,  4.5987e-05,  ...,  4.4274e-05,\n",
       "               2.5404e-05, -1.2184e-05]], device='cuda:0'),\n",
       "     'exp_avg_sq': tensor([[3.9810e-07, 5.4670e-07, 2.8961e-07,  ..., 5.1656e-07, 3.2134e-07,\n",
       "              2.9546e-07],\n",
       "             [3.9810e-07, 5.4670e-07, 2.8961e-07,  ..., 5.1656e-07, 3.2134e-07,\n",
       "              2.9546e-07]], device='cuda:0')},\n",
       "    11: {'step': tensor(4868.),\n",
       "     'exp_avg': tensor([-5.9729e-05,  5.9731e-05], device='cuda:0'),\n",
       "     'exp_avg_sq': tensor([1.1520e-06, 1.1520e-06], device='cuda:0')}},\n",
       "   'param_groups': [{'lr': 0.0001,\n",
       "     'betas': (0.9, 0.999),\n",
       "     'eps': 1e-08,\n",
       "     'weight_decay': 0,\n",
       "     'amsgrad': False,\n",
       "     'maximize': False,\n",
       "     'foreach': None,\n",
       "     'capturable': False,\n",
       "     'differentiable': False,\n",
       "     'fused': None,\n",
       "     'params': [0, 1, 2, 3, 4, 5, 6, 7, 8, 9, 10, 11]}]}],\n",
       " 'lr_schedulers': [],\n",
       " 'hparams_name': 'kwargs',\n",
       " 'hyper_parameters': {'optimizer': Adam (\n",
       "  Parameter Group 0\n",
       "      amsgrad: False\n",
       "      betas: (0.9, 0.999)\n",
       "      capturable: False\n",
       "      differentiable: False\n",
       "      eps: 1e-08\n",
       "      foreach: None\n",
       "      fused: None\n",
       "      lr: 0.0001\n",
       "      maximize: False\n",
       "      weight_decay: 0\n",
       "  ),\n",
       "  'loss': <bound method MultiTargetLoss.loss of MultiTargetLoss()>,\n",
       "  'multi_output': True}}"
      ]
     },
     "execution_count": 16,
     "metadata": {},
     "output_type": "execute_result"
    }
   ],
   "source": [
    "torch.load(\"../checkpoints/dino_cw_metadata_pred_poison_weighted-epoch=1.ckpt\")"
   ]
  },
  {
   "cell_type": "code",
   "execution_count": 9,
   "metadata": {},
   "outputs": [
    {
     "name": "stdout",
     "output_type": "stream",
     "text": [
      "dino_base-epoch=0.ckpt\n",
      "dino_cw_sampler_metadata_pred_poison_weighted-epoch=0.ckpt\n",
      "dino_cw_metadata_pred_poison_weighted-epoch=1.ckpt\n",
      "dino_cw_metadata_pred_all_weighted-epoch=0.ckpt\n",
      "dino_cw_metadata_pred_all-epoch=1.ckpt\n",
      "dino_cw_sampler-epoch=1.ckpt\n",
      "dino_cls-weight-epoch=1.ckpt\n",
      "dino_sampler-epoch=0.ckpt\n",
      "dino_cw_sampler_metadata_pred_all-epoch=0.ckpt\n",
      "dino_cw_sampler_metadata_pred_poison_weighted-epoch=1.ckpt\n",
      "dino_cw_metadata-epoch=1.ckpt\n",
      "dino_base-epoch=1.ckpt\n",
      "dino_cw_sampler_metadata_pred_all_weighted-epoch=0.ckpt\n",
      "dino_cw_sampler-epoch=0.ckpt\n",
      "dino_cw_sampler_metadata_pred_all_weighted-epoch=1.ckpt\n",
      "dino_cw_metadata-epoch=0.ckpt\n",
      "dino_cls-weight-epoch=0.ckpt\n",
      "dino_cw_sampler_metadata-epoch=1.ckpt\n",
      "dino_cw_sampler_metadata_pred_all_weighted-epoch=0-v1.ckpt\n",
      "dino_sampler-epoch=1.ckpt\n",
      "dino_cw_metadata_pred_all_weighted-epoch=1.ckpt\n",
      "old\n",
      "dino_cw_sampler_metadata-epoch=0.ckpt\n",
      "dino_cw_metadata_pred_all-epoch=0.ckpt\n",
      "dino_cw_sampler_metadata_pred_all_weighted-epoch=1-v1.ckpt\n",
      "dino_cw_sampler_metadata_pred_all-epoch=2.ckpt\n",
      "dino_cw_metadata_pred_poison_weighted-epoch=0.ckpt\n"
     ]
    }
   ],
   "source": [
    "for model_ckpt in os.listdir('../checkpoints'):\n",
    "    print(model_ckpt)"
   ]
  },
  {
   "cell_type": "code",
   "execution_count": 13,
   "metadata": {},
   "outputs": [],
   "source": []
  },
  {
   "cell_type": "code",
   "execution_count": 14,
   "metadata": {},
   "outputs": [],
   "source": []
  },
  {
   "cell_type": "code",
   "execution_count": 15,
   "metadata": {},
   "outputs": [],
   "source": []
  },
  {
   "cell_type": "code",
   "execution_count": 18,
   "metadata": {},
   "outputs": [
    {
     "data": {
      "text/plain": [
       "array([1604, 1604, 1604, ..., 1604, 1604, 1604])"
      ]
     },
     "execution_count": 18,
     "metadata": {},
     "output_type": "execute_result"
    }
   ],
   "source": [
    "preds"
   ]
  },
  {
   "cell_type": "code",
   "execution_count": 19,
   "metadata": {},
   "outputs": [
    {
     "name": "stdout",
     "output_type": "stream",
     "text": [
      "Evaluated scores: {'F1 Score': 0.07, 'Track 1: Classification Error': 0.7001, 'Track 2: Cost for Poisonousness Confusion': 2.3246, 'Track 3: User-Focused Loss': 3.0247, 'Track 4: Classification Error with Special Cost for Unknown': 0.7001}\n"
     ]
    },
    {
     "data": {
      "text/plain": [
       "{'F1 Score': 0.07,\n",
       " 'Track 1: Classification Error': 0.7001,\n",
       " 'Track 2: Cost for Poisonousness Confusion': 2.3246,\n",
       " 'Track 3: User-Focused Loss': 3.0247,\n",
       " 'Track 4: Classification Error with Special Cost for Unknown': 0.7001}"
      ]
     },
     "execution_count": 19,
     "metadata": {},
     "output_type": "execute_result"
    }
   ],
   "source": []
  },
  {
   "cell_type": "code",
   "execution_count": null,
   "metadata": {},
   "outputs": [],
   "source": []
  },
  {
   "cell_type": "code",
   "execution_count": null,
   "metadata": {},
   "outputs": [],
   "source": []
  },
  {
   "cell_type": "code",
   "execution_count": null,
   "metadata": {},
   "outputs": [],
   "source": []
  },
  {
   "cell_type": "code",
   "execution_count": null,
   "metadata": {},
   "outputs": [],
   "source": []
  },
  {
   "cell_type": "code",
   "execution_count": null,
   "metadata": {},
   "outputs": [
    {
     "data": {
      "text/plain": [
       "1"
      ]
     },
     "execution_count": 46,
     "metadata": {},
     "output_type": "execute_result"
    }
   ],
   "source": [
    "torch.Tensor([2, 4, 2]).argmax(0).item()"
   ]
  },
  {
   "cell_type": "code",
   "execution_count": 74,
   "metadata": {},
   "outputs": [],
   "source": [
    "x, y = batch"
   ]
  },
  {
   "cell_type": "code",
   "execution_count": 77,
   "metadata": {},
   "outputs": [
    {
     "data": {
      "text/plain": [
       "torch.Size([512, 843])"
      ]
     },
     "execution_count": 77,
     "metadata": {},
     "output_type": "execute_result"
    }
   ],
   "source": [
    "x.shape"
   ]
  },
  {
   "cell_type": "code",
   "execution_count": 89,
   "metadata": {},
   "outputs": [
    {
     "ename": "AttributeError",
     "evalue": "'Sequential' object has no attribute 'device'",
     "output_type": "error",
     "traceback": [
      "\u001b[0;31m---------------------------------------------------------------------------\u001b[0m",
      "\u001b[0;31mAttributeError\u001b[0m                            Traceback (most recent call last)",
      "Cell \u001b[0;32mIn[89], line 1\u001b[0m\n\u001b[0;32m----> 1\u001b[0m model\u001b[38;5;241m.\u001b[39mmodel\u001b[38;5;241m.\u001b[39mmodels[\u001b[38;5;241m0\u001b[39m]\u001b[38;5;241m.\u001b[39mdevice\n",
      "File \u001b[0;32m~/miniconda3/envs/fungiclef/lib/python3.11/site-packages/torch/nn/modules/module.py:1688\u001b[0m, in \u001b[0;36mModule.__getattr__\u001b[0;34m(self, name)\u001b[0m\n\u001b[1;32m   1686\u001b[0m     \u001b[38;5;28;01mif\u001b[39;00m name \u001b[38;5;129;01min\u001b[39;00m modules:\n\u001b[1;32m   1687\u001b[0m         \u001b[38;5;28;01mreturn\u001b[39;00m modules[name]\n\u001b[0;32m-> 1688\u001b[0m \u001b[38;5;28;01mraise\u001b[39;00m \u001b[38;5;167;01mAttributeError\u001b[39;00m(\u001b[38;5;124mf\u001b[39m\u001b[38;5;124m\"\u001b[39m\u001b[38;5;124m'\u001b[39m\u001b[38;5;132;01m{\u001b[39;00m\u001b[38;5;28mtype\u001b[39m(\u001b[38;5;28mself\u001b[39m)\u001b[38;5;241m.\u001b[39m\u001b[38;5;18m__name__\u001b[39m\u001b[38;5;132;01m}\u001b[39;00m\u001b[38;5;124m'\u001b[39m\u001b[38;5;124m object has no attribute \u001b[39m\u001b[38;5;124m'\u001b[39m\u001b[38;5;132;01m{\u001b[39;00mname\u001b[38;5;132;01m}\u001b[39;00m\u001b[38;5;124m'\u001b[39m\u001b[38;5;124m\"\u001b[39m)\n",
      "\u001b[0;31mAttributeError\u001b[0m: 'Sequential' object has no attribute 'device'"
     ]
    }
   ],
   "source": []
  },
  {
   "cell_type": "code",
   "execution_count": null,
   "metadata": {},
   "outputs": [],
   "source": []
  }
 ],
 "metadata": {
  "kernelspec": {
   "display_name": "fungiclef",
   "language": "python",
   "name": "python3"
  },
  "language_info": {
   "codemirror_mode": {
    "name": "ipython",
    "version": 3
   },
   "file_extension": ".py",
   "mimetype": "text/x-python",
   "name": "python",
   "nbconvert_exporter": "python",
   "pygments_lexer": "ipython3",
   "version": "3.11.7"
  }
 },
 "nbformat": 4,
 "nbformat_minor": 2
}
