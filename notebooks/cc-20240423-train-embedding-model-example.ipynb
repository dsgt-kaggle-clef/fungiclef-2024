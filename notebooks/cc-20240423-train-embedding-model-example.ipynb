{
 "cells": [
  {
   "cell_type": "code",
   "execution_count": 1,
   "metadata": {},
   "outputs": [],
   "source": [
    "%load_ext autoreload\n",
    "%autoreload 2"
   ]
  },
  {
   "cell_type": "code",
   "execution_count": 2,
   "metadata": {},
   "outputs": [
    {
     "name": "stderr",
     "output_type": "stream",
     "text": [
      "/home/chris/fungiclef-2024/.venv/lib/python3.10/site-packages/tqdm/auto.py:21: TqdmWarning: IProgress not found. Please update jupyter and ipywidgets. See https://ipywidgets.readthedocs.io/en/stable/user_install.html\n",
      "  from .autonotebook import tqdm as notebook_tqdm\n"
     ]
    }
   ],
   "source": [
    "from fungiclef.model.dataset import ImageDataset, EmbeddingDataset\n",
    "from fungiclef.model.wrapper import FungiModel\n",
    "from fungiclef.model.transforms import get_transforms\n",
    "from fungiclef.utils import get_spark, spark_resource, read_config\n",
    "import pandas as pd\n",
    "\n",
    "from torch.utils.data import DataLoader\n",
    "import lightning as L"
   ]
  },
  {
   "cell_type": "code",
   "execution_count": 3,
   "metadata": {},
   "outputs": [],
   "source": [
    "config = read_config(path='../fungiclef/config.json')\n"
   ]
  },
  {
   "cell_type": "code",
   "execution_count": 4,
   "metadata": {},
   "outputs": [],
   "source": [
    "TRAIN_PQ_LOCATION = config['gs_paths']['production']['dataset_resnet']['train']\n",
    "VALID_PQ_LOCATION = config['gs_paths']['production']['dataset_resnet']['val']\n",
    "TEST_PQ_LOCATION = config['gs_paths']['production']['dataset_resnet']['test']"
   ]
  },
  {
   "cell_type": "code",
   "execution_count": 5,
   "metadata": {},
   "outputs": [],
   "source": [
    "# Fetch data parquet\n",
    "train_df = pd.read_parquet(TRAIN_PQ_LOCATION)\n",
    "valid_df = pd.read_parquet(VALID_PQ_LOCATION)"
   ]
  },
  {
   "cell_type": "code",
   "execution_count": 15,
   "metadata": {},
   "outputs": [],
   "source": [
    "# Load it as torch dataset\n",
    "train_dataset = EmbeddingDataset(train_df)\n",
    "valid_dataset = EmbeddingDataset(valid_df)"
   ]
  },
  {
   "cell_type": "code",
   "execution_count": 16,
   "metadata": {},
   "outputs": [],
   "source": [
    "# Define model. Here we use a simple stupid linear layer layer\n",
    "from fungiclef.model.init_models import init_embedding_classifier\n",
    "\n",
    "N_CLASSES = len(train_df.class_id.unique()) # This should be 1605 - 1604 classes + 1 unknown class\n",
    "\n",
    "model = init_embedding_classifier(n_classes=N_CLASSES, embedding_size=1000)"
   ]
  },
  {
   "cell_type": "code",
   "execution_count": 17,
   "metadata": {},
   "outputs": [],
   "source": [
    "# Load it to dataloader\n",
    "BATCH_SIZE = 32\n",
    "# Adjust BATCH_SIZE and ACCUMULATION_STEPS to values that if multiplied results in 64\n",
    "ACCUMULATION_STEPS = 64 // BATCH_SIZE\n",
    "EPOCHS = 1\n",
    "WORKERS = 4\n",
    "\n",
    "train_loader = DataLoader(train_dataset, batch_size=BATCH_SIZE, shuffle=True, num_workers=3)\n",
    "valid_loader = DataLoader(valid_dataset, batch_size=BATCH_SIZE, shuffle=False, num_workers=3)"
   ]
  },
  {
   "cell_type": "code",
   "execution_count": 24,
   "metadata": {},
   "outputs": [
    {
     "name": "stderr",
     "output_type": "stream",
     "text": [
      "GPU available: True (cuda), used: True\n",
      "TPU available: False, using: 0 TPU cores\n",
      "IPU available: False, using: 0 IPUs\n",
      "HPU available: False, using: 0 HPUs\n"
     ]
    }
   ],
   "source": [
    "# Use our wrapper module to get a PyTorch Lightning trainer\n",
    "\n",
    "module = FungiModel(model)\n",
    "trainer = L.Trainer(accelerator=\"gpu\", max_epochs=1)"
   ]
  },
  {
   "cell_type": "code",
   "execution_count": 25,
   "metadata": {},
   "outputs": [
    {
     "name": "stderr",
     "output_type": "stream",
     "text": [
      "LOCAL_RANK: 0 - CUDA_VISIBLE_DEVICES: [0]\n",
      "\n",
      "  | Name  | Type   | Params\n",
      "---------------------------------\n",
      "0 | model | Linear | 1.6 M \n",
      "---------------------------------\n",
      "1.6 M     Trainable params\n",
      "0         Non-trainable params\n",
      "1.6 M     Total params\n",
      "6.426     Total estimated model params size (MB)\n"
     ]
    },
    {
     "name": "stdout",
     "output_type": "stream",
     "text": [
      "Sanity Checking: |          | 0/? [00:00<?, ?it/s]"
     ]
    },
    {
     "name": "stdout",
     "output_type": "stream",
     "text": [
      "Epoch 0: 100%|██████████| 9855/9855 [00:57<00:00, 171.82it/s, v_num=12]     "
     ]
    },
    {
     "name": "stderr",
     "output_type": "stream",
     "text": [
      "`Trainer.fit` stopped: `max_epochs=1` reached.\n"
     ]
    },
    {
     "name": "stdout",
     "output_type": "stream",
     "text": [
      "Epoch 0: 100%|██████████| 9855/9855 [00:57<00:00, 171.59it/s, v_num=12]\n"
     ]
    }
   ],
   "source": [
    "trainer.fit(module, train_loader, valid_loader)"
   ]
  },
  {
   "cell_type": "code",
   "execution_count": 22,
   "metadata": {},
   "outputs": [],
   "source": [
    "# Evaluate model on test set\n",
    "test_df = pd.read_parquet(TEST_PQ_LOCATION)\n",
    "test_dataset = EmbeddingDataset(test_df)\n",
    "test_loader = DataLoader(test_dataset, batch_size=BATCH_SIZE, shuffle=False, num_workers=3)"
   ]
  },
  {
   "cell_type": "code",
   "execution_count": 26,
   "metadata": {},
   "outputs": [
    {
     "name": "stdout",
     "output_type": "stream",
     "text": [
      "Using device: cuda\n"
     ]
    },
    {
     "name": "stderr",
     "output_type": "stream",
     "text": [
      "  0%|          | 0/618 [00:00<?, ?it/s]"
     ]
    },
    {
     "name": "stderr",
     "output_type": "stream",
     "text": [
      "100%|██████████| 618/618 [00:01<00:00, 397.31it/s]\n"
     ]
    },
    {
     "name": "stdout",
     "output_type": "stream",
     "text": [
      "Evaluated scores: {'F1 Score': 10.29, 'Track 1: Classification Error': 0.8272, 'Track 2: Cost for Poisonousness Confusion': 1.7833, 'Track 3: User-Focused Loss': 2.6104, 'Track 4: Classification Error with Special Cost for Unknown': 0.818}\n"
     ]
    },
    {
     "data": {
      "text/plain": [
       "[{'test_split': {'F1 Score': 10.29,\n",
       "   'Track 1: Classification Error': 0.8272,\n",
       "   'Track 2: Cost for Poisonousness Confusion': 1.7833,\n",
       "   'Track 3: User-Focused Loss': 2.6104,\n",
       "   'Track 4: Classification Error with Special Cost for Unknown': 0.818}}]"
      ]
     },
     "execution_count": 26,
     "metadata": {},
     "output_type": "execute_result"
    }
   ],
   "source": [
    "from fungiclef.evaluate.inference import generate_logits, predict_class\n",
    "from fungiclef.evaluate.scoring import score_model\n",
    "\n",
    "logits = generate_logits(model, test_loader)\n",
    "predicted_class = predict_class(logits)\n",
    "\n",
    "\n",
    "gt_df = test_df[['observationID', 'class_id']]\n",
    "score_model(predicted_class, gt_df)\n"
   ]
  }
 ],
 "metadata": {
  "kernelspec": {
   "display_name": "fungiclef",
   "language": "python",
   "name": "python3"
  },
  "language_info": {
   "codemirror_mode": {
    "name": "ipython",
    "version": 3
   },
   "file_extension": ".py",
   "mimetype": "text/x-python",
   "name": "python",
   "nbconvert_exporter": "python",
   "pygments_lexer": "ipython3",
   "version": "3.10.12"
  }
 },
 "nbformat": 4,
 "nbformat_minor": 2
}
