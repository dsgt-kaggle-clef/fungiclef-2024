{
 "cells": [
  {
   "cell_type": "code",
   "execution_count": 1,
   "metadata": {},
   "outputs": [],
   "source": [
    "import pandas as pd"
   ]
  },
  {
   "cell_type": "code",
   "execution_count": 6,
   "metadata": {},
   "outputs": [],
   "source": [
    "path = \"gs://dsgt-clef-fungiclef-2024/production/metadata/DF_combined_metadata_mapped_columns.csv\""
   ]
  },
  {
   "cell_type": "code",
   "execution_count": 7,
   "metadata": {},
   "outputs": [],
   "source": [
    "meta = pd.read_csv(path)"
   ]
  },
  {
   "cell_type": "code",
   "execution_count": 9,
   "metadata": {},
   "outputs": [
    {
     "data": {
      "text/html": [
       "<div>\n",
       "<style scoped>\n",
       "    .dataframe tbody tr th:only-of-type {\n",
       "        vertical-align: middle;\n",
       "    }\n",
       "\n",
       "    .dataframe tbody tr th {\n",
       "        vertical-align: top;\n",
       "    }\n",
       "\n",
       "    .dataframe thead th {\n",
       "        text-align: right;\n",
       "    }\n",
       "</style>\n",
       "<table border=\"1\" class=\"dataframe\">\n",
       "  <thead>\n",
       "    <tr style=\"text-align: right;\">\n",
       "      <th></th>\n",
       "      <th>observationID</th>\n",
       "      <th>month</th>\n",
       "      <th>day</th>\n",
       "      <th>countryCode</th>\n",
       "      <th>locality</th>\n",
       "      <th>level0Gid</th>\n",
       "      <th>level0Name</th>\n",
       "      <th>level1Gid</th>\n",
       "      <th>level1Name</th>\n",
       "      <th>level2Gid</th>\n",
       "      <th>...</th>\n",
       "      <th>Substrate_text</th>\n",
       "      <th>Habitat_text</th>\n",
       "      <th>MetaSubstrate_text</th>\n",
       "      <th>kingdom_text</th>\n",
       "      <th>phylum_text</th>\n",
       "      <th>class_text</th>\n",
       "      <th>order_text</th>\n",
       "      <th>family_text</th>\n",
       "      <th>genus_text</th>\n",
       "      <th>species_text</th>\n",
       "    </tr>\n",
       "    <tr>\n",
       "      <th>dataset</th>\n",
       "      <th></th>\n",
       "      <th></th>\n",
       "      <th></th>\n",
       "      <th></th>\n",
       "      <th></th>\n",
       "      <th></th>\n",
       "      <th></th>\n",
       "      <th></th>\n",
       "      <th></th>\n",
       "      <th></th>\n",
       "      <th></th>\n",
       "      <th></th>\n",
       "      <th></th>\n",
       "      <th></th>\n",
       "      <th></th>\n",
       "      <th></th>\n",
       "      <th></th>\n",
       "      <th></th>\n",
       "      <th></th>\n",
       "      <th></th>\n",
       "      <th></th>\n",
       "    </tr>\n",
       "  </thead>\n",
       "  <tbody>\n",
       "    <tr>\n",
       "      <th>test</th>\n",
       "      <td>19746</td>\n",
       "      <td>19746</td>\n",
       "      <td>19746</td>\n",
       "      <td>19746</td>\n",
       "      <td>19746</td>\n",
       "      <td>19746</td>\n",
       "      <td>19661</td>\n",
       "      <td>19746</td>\n",
       "      <td>19661</td>\n",
       "      <td>19746</td>\n",
       "      <td>...</td>\n",
       "      <td>19635</td>\n",
       "      <td>19743</td>\n",
       "      <td>19742</td>\n",
       "      <td>19746</td>\n",
       "      <td>19746</td>\n",
       "      <td>19727</td>\n",
       "      <td>19686</td>\n",
       "      <td>19576</td>\n",
       "      <td>19746</td>\n",
       "      <td>19746</td>\n",
       "    </tr>\n",
       "    <tr>\n",
       "      <th>train</th>\n",
       "      <td>315332</td>\n",
       "      <td>315315</td>\n",
       "      <td>315315</td>\n",
       "      <td>315332</td>\n",
       "      <td>315332</td>\n",
       "      <td>315332</td>\n",
       "      <td>314074</td>\n",
       "      <td>315332</td>\n",
       "      <td>314074</td>\n",
       "      <td>315332</td>\n",
       "      <td>...</td>\n",
       "      <td>285248</td>\n",
       "      <td>314237</td>\n",
       "      <td>313804</td>\n",
       "      <td>315332</td>\n",
       "      <td>315332</td>\n",
       "      <td>315291</td>\n",
       "      <td>315104</td>\n",
       "      <td>312563</td>\n",
       "      <td>315332</td>\n",
       "      <td>315300</td>\n",
       "    </tr>\n",
       "    <tr>\n",
       "      <th>valid</th>\n",
       "      <td>19788</td>\n",
       "      <td>19788</td>\n",
       "      <td>19788</td>\n",
       "      <td>19788</td>\n",
       "      <td>19788</td>\n",
       "      <td>19788</td>\n",
       "      <td>19738</td>\n",
       "      <td>19788</td>\n",
       "      <td>19738</td>\n",
       "      <td>19788</td>\n",
       "      <td>...</td>\n",
       "      <td>19674</td>\n",
       "      <td>19779</td>\n",
       "      <td>19786</td>\n",
       "      <td>19788</td>\n",
       "      <td>19788</td>\n",
       "      <td>19771</td>\n",
       "      <td>19734</td>\n",
       "      <td>19670</td>\n",
       "      <td>19788</td>\n",
       "      <td>19788</td>\n",
       "    </tr>\n",
       "  </tbody>\n",
       "</table>\n",
       "<p>3 rows × 43 columns</p>\n",
       "</div>"
      ],
      "text/plain": [
       "         observationID   month     day  countryCode  locality  level0Gid  \\\n",
       "dataset                                                                    \n",
       "test             19746   19746   19746        19746     19746      19746   \n",
       "train           315332  315315  315315       315332    315332     315332   \n",
       "valid            19788   19788   19788        19788     19788      19788   \n",
       "\n",
       "         level0Name  level1Gid  level1Name  level2Gid  ...  Substrate_text  \\\n",
       "dataset                                                ...                   \n",
       "test          19661      19746       19661      19746  ...           19635   \n",
       "train        314074     315332      314074     315332  ...          285248   \n",
       "valid         19738      19788       19738      19788  ...           19674   \n",
       "\n",
       "         Habitat_text  MetaSubstrate_text  kingdom_text  phylum_text  \\\n",
       "dataset                                                                \n",
       "test            19743               19742         19746        19746   \n",
       "train          314237              313804        315332       315332   \n",
       "valid           19779               19786         19788        19788   \n",
       "\n",
       "         class_text  order_text  family_text  genus_text  species_text  \n",
       "dataset                                                                 \n",
       "test          19727       19686        19576       19746         19746  \n",
       "train        315291      315104       312563      315332        315300  \n",
       "valid         19771       19734        19670       19788         19788  \n",
       "\n",
       "[3 rows x 43 columns]"
      ]
     },
     "execution_count": 9,
     "metadata": {},
     "output_type": "execute_result"
    }
   ],
   "source": [
    "meta.groupby('dataset').count()"
   ]
  },
  {
   "cell_type": "code",
   "execution_count": 34,
   "metadata": {},
   "outputs": [],
   "source": [
    "import seaborn as sns"
   ]
  },
  {
   "cell_type": "code",
   "execution_count": 38,
   "metadata": {},
   "outputs": [
    {
     "data": {
      "text/plain": [
       "class_id\n",
       "0         365\n",
       "1         215\n",
       "2          68\n",
       "3          50\n",
       "4         583\n",
       "        ...  \n",
       "1600       73\n",
       "1601       71\n",
       "1602      621\n",
       "1603      412\n",
       "1604    21954\n",
       "Name: observationID, Length: 1605, dtype: int64"
      ]
     },
     "execution_count": 38,
     "metadata": {},
     "output_type": "execute_result"
    }
   ],
   "source": [
    "data = meta.groupby('class_id').count()['observationID']\n",
    "data"
   ]
  },
  {
   "cell_type": "code",
   "execution_count": 40,
   "metadata": {},
   "outputs": [
    {
     "data": {
      "text/plain": [
       "<Axes: xlabel='class_id', ylabel='observationID'>"
      ]
     },
     "execution_count": 40,
     "metadata": {},
     "output_type": "execute_result"
    },
    {
     "data": {
      "image/png": "[encoded data removed]",
      "text/plain": [
       "<Figure size 640x480 with 1 Axes>"
      ]
     },
     "metadata": {},
     "output_type": "display_data"
    }
   ],
   "source": [
    "sns.lineplot(data)"
   ]
  },
  {
   "cell_type": "code",
   "execution_count": 43,
   "metadata": {},
   "outputs": [
    {
     "data": {
      "text/plain": [
       "31"
      ]
     },
     "execution_count": 43,
     "metadata": {},
     "output_type": "execute_result"
    }
   ],
   "source": [
    "min(data)"
   ]
  },
  {
   "cell_type": "code",
   "execution_count": 48,
   "metadata": {},
   "outputs": [
    {
     "data": {
      "image/png": "[encoded data removed]",
      "text/plain": [
       "<Figure size 1000x600 with 1 Axes>"
      ]
     },
     "metadata": {},
     "output_type": "display_data"
    }
   ],
   "source": [
    "import matplotlib.pyplot as plt\n",
    "import numpy as np\n",
    "\n",
    "# Example data\n",
    "\n",
    "# Set the number of bins\n",
    "\n",
    "\n",
    "plt.figure(figsize=(10, 6))\n",
    "plt.hist(x=data, bins=50, color='blue', edgecolor='black', alpha=0.7)\n",
    "plt.xscale('log')  # Use logarithmic scale if using logarithmic bins\n",
    "plt.xlabel('Value')\n",
    "plt.ylabel('Frequency')\n",
    "plt.title('Histogram of Heavily Tailed Distribution')\n",
    "plt.grid(True)  # Optional: add grid lines for better readability\n",
    "plt.show()\n"
   ]
  },
  {
   "cell_type": "code",
   "execution_count": 57,
   "metadata": {},
   "outputs": [
    {
     "ename": "AttributeError",
     "evalue": "module 'matplotlib.pyplot' has no attribute 'patch'",
     "output_type": "error",
     "traceback": [
      "\u001b[0;31m---------------------------------------------------------------------------\u001b[0m",
      "\u001b[0;31mAttributeError\u001b[0m                            Traceback (most recent call last)",
      "Cell \u001b[0;32mIn[57], line 17\u001b[0m\n\u001b[1;32m     14\u001b[0m bins \u001b[38;5;241m=\u001b[39m np\u001b[38;5;241m.\u001b[39mlogspace(np\u001b[38;5;241m.\u001b[39mlog10(\u001b[38;5;28mmin\u001b[39m(data)), np\u001b[38;5;241m.\u001b[39mlog10(\u001b[38;5;28mmax\u001b[39m(data)), \u001b[38;5;241m50\u001b[39m)  \u001b[38;5;66;03m# Logarithmic bins\u001b[39;00m\n\u001b[1;32m     16\u001b[0m plt\u001b[38;5;241m.\u001b[39mfigure(figsize\u001b[38;5;241m=\u001b[39m(\u001b[38;5;241m10\u001b[39m, \u001b[38;5;241m6\u001b[39m))\n\u001b[0;32m---> 17\u001b[0m \u001b[43mplt\u001b[49m\u001b[38;5;241;43m.\u001b[39;49m\u001b[43mpatch\u001b[49m\u001b[38;5;241m.\u001b[39mset_facecolor(\u001b[38;5;124m'\u001b[39m\u001b[38;5;124mwhite\u001b[39m\u001b[38;5;124m'\u001b[39m)\n\u001b[1;32m     18\u001b[0m plt\u001b[38;5;241m.\u001b[39mhist(data, bins\u001b[38;5;241m=\u001b[39mlogbins, edgecolor\u001b[38;5;241m=\u001b[39m\u001b[38;5;124m'\u001b[39m\u001b[38;5;124mgrey\u001b[39m\u001b[38;5;124m'\u001b[39m, alpha\u001b[38;5;241m=\u001b[39m\u001b[38;5;241m0.99\u001b[39m)\n\u001b[1;32m     19\u001b[0m plt\u001b[38;5;241m.\u001b[39mxscale(\u001b[38;5;124m'\u001b[39m\u001b[38;5;124mlog\u001b[39m\u001b[38;5;124m'\u001b[39m)  \u001b[38;5;66;03m# Use logarithmic scale if using logarithmic bins\u001b[39;00m\n",
      "\u001b[0;31mAttributeError\u001b[0m: module 'matplotlib.pyplot' has no attribute 'patch'"
     ]
    },
    {
     "data": {
      "text/plain": [
       "<Figure size 1000x600 with 0 Axes>"
      ]
     },
     "metadata": {},
     "output_type": "display_data"
    }
   ],
   "source": [
    "import matplotlib.pyplot as plt\n",
    "import numpy as np\n",
    "\n",
    "# Example data\n",
    "\n",
    "# Set the number of bins\n",
    "hist, bins, _ = plt.hist(data, bins=50)\n",
    "plt.close()\n",
    "\n",
    "# Use non-equal bin sizes, such that they look equal on log scale.\n",
    "logbins = np.logspace(np.log10(bins[0]),np.log10(bins[-1]),len(bins))\n",
    "\n",
    "\n",
    "bins = np.logspace(np.log10(min(data)), np.log10(max(data)), 50)  # Logarithmic bins\n",
    "\n",
    "plt.figure(figsize=(10, 6))\n",
    "plt.hist(data, bins=logbins, edgecolor='grey', alpha=0.99)\n",
    "plt.xscale('log')  # Use logarithmic scale if using logarithmic bins\n",
    "plt.xlabel('Log of Class IDs')\n",
    "plt.ylabel('Log Frequency of Class Observations')\n",
    "plt.grid(True)  # Optional: add grid lines for better readability\n",
    "plt.show()\n"
   ]
  },
  {
   "cell_type": "markdown",
   "metadata": {},
   "source": [
    "# dino"
   ]
  },
  {
   "cell_type": "code",
   "execution_count": 17,
   "metadata": {},
   "outputs": [],
   "source": [
    "dino_train_path = \"gs://dsgt-clef-fungiclef-2024/production/dino_cls/DF_300_train.parquet\""
   ]
  },
  {
   "cell_type": "code",
   "execution_count": 18,
   "metadata": {},
   "outputs": [],
   "source": [
    "dino = pd.read_parquet(dino_train_path)"
   ]
  },
  {
   "cell_type": "code",
   "execution_count": 28,
   "metadata": {},
   "outputs": [
    {
     "data": {
      "text/plain": [
       "(311449, 25)"
      ]
     },
     "execution_count": 28,
     "metadata": {},
     "output_type": "execute_result"
    }
   ],
   "source": [
    "dino.shape"
   ]
  },
  {
   "cell_type": "code",
   "execution_count": 27,
   "metadata": {},
   "outputs": [
    {
     "data": {
      "text/plain": [
       "(768,)"
      ]
     },
     "execution_count": 27,
     "metadata": {},
     "output_type": "execute_result"
    }
   ],
   "source": [
    "dino['embedding'][0].shape"
   ]
  },
  {
   "cell_type": "markdown",
   "metadata": {},
   "source": [
    "ResNet"
   ]
  },
  {
   "cell_type": "code",
   "execution_count": 20,
   "metadata": {},
   "outputs": [],
   "source": [
    "resnet_train = \"gs://dsgt-clef-fungiclef-2024/production/resnet/DF_300_train.parquet\"\n",
    "\n",
    "resnet = pd.read_parquet(resnet_train)"
   ]
  },
  {
   "cell_type": "code",
   "execution_count": 21,
   "metadata": {},
   "outputs": [
    {
     "data": {
      "text/plain": [
       "(315332, 25)"
      ]
     },
     "execution_count": 21,
     "metadata": {},
     "output_type": "execute_result"
    }
   ],
   "source": [
    "resnet.shape"
   ]
  },
  {
   "cell_type": "code",
   "execution_count": null,
   "metadata": {},
   "outputs": [],
   "source": []
  }
 ],
 "metadata": {
  "kernelspec": {
   "display_name": "Python 3",
   "language": "python",
   "name": "python3"
  },
  "language_info": {
   "codemirror_mode": {
    "name": "ipython",
    "version": 3
   },
   "file_extension": ".py",
   "mimetype": "text/x-python",
   "name": "python",
   "nbconvert_exporter": "python",
   "pygments_lexer": "ipython3",
   "version": "3.10.12"
  }
 },
 "nbformat": 4,
 "nbformat_minor": 2
}
